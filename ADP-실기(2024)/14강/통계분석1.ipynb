{
  "nbformat": 4,
  "nbformat_minor": 0,
  "metadata": {
    "colab": {
      "provenance": []
    },
    "kernelspec": {
      "name": "python3",
      "display_name": "Python 3"
    },
    "language_info": {
      "name": "python"
    }
  },
  "cells": [
    {
      "cell_type": "markdown",
      "source": [
        "# 베이지안 사후 분포\n",
        "\n",
        "사전 정보와 새로운 데이터를 통해 사후 분포를 추론하는 과정\n",
        "\n",
        "\n",
        "![image.png](data:image/png;base64,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)\n",
        "\n",
        "* ![image.png](data:image/png;base64,iVBORw0KGgoAAAANSUhEUgAAADAAAAAbCAYAAAA6aQxyAAAAAXNSR0IArs4c6QAAAARnQU1BAACxjwv8YQUAAAAJcEhZcwAADsMAAA7DAcdvqGQAAAI6SURBVFhH7ZgxctswEEU/cxbHhccnAE+QuFHlI4Cl0+QUaagyKXIAVWoENGnNE2RcCLgLsgssKJCywkjjGdIZvRmNtASw4F/sLiVVgcA75oO8v1uuAubmKmBu/j8Bfl2jqtfwYic81nWFxoq5II4EuJcOuL/FjdgRv8OmU7j7KPaCGAmw2P4A9OqT2Am/26DDPW4HqpbBUIDf4zeOIx1PRa8wlLUQ+KtExrUqQLXBiZ0wQdM0bcR8C1wb1NE+lzE4gdfzvzwVC/sWhXzzhOfnp+E+F1IISPmvRvljv31Bpx7xwLvZPfYLK+SDgBhpoNvspIV6WGqpn0lUglrpFlGIbWrU6zTLNhWqqoaYya4bOqkGdSWf01CCrpfzGZ/n0qtuDi180hcjqdTnvzE6KLpMZxF0y1lqQquSHU1ngqF3o3ncpDzmNVwklNs8x2iaT7ajuVpp8pChtbSY9+pritZSh4g+yUFcq9jJpK9ELyBPnMIZvmlHogpnUpS/XhsrSGt5rzzODUICI8RA8g1P+MqIgDM7zbiLcBSzPdVhaFznjcp1Qn8CzJQvItXAif5/Cn6w4fGh7yKWql+JPR4b43cvuPtKTxRqZz/3VHWDrseNRNHydGXKV0SEnAEf6yHdHOd/ESWujTIlhuSUoFznpC8jTDnOfvvoE3/3lbhAQMpbTc5Zv9LlEdON5cI+Qay1kWD2c2gamWlfzPk/6rkNblcI3xfyxSLK+Fdiy+NoDY96Tq5/q8zNVcC8AH8A4M0RirjSh1MAAAAASUVORK5CYII=)\n",
        ": 사전 분포 평균\n",
        "\n",
        "* ![image.png](data:image/png;base64,iVBORw0KGgoAAAANSUhEUgAAAC4AAAAhCAYAAACm75niAAAAAXNSR0IArs4c6QAAAARnQU1BAACxjwv8YQUAAAAJcEhZcwAADsMAAA7DAcdvqGQAAAJwSURBVFhH7Vg7UuQwEO3hLLsE1J5AOgFLQsQR5HA34RQkmhCCrSIlmmSshBROQG2w8l20/fTxyMZgxNZaDDWvyjUjtyW3Wq9f98zKMWgPcRQ/9w7FjnemIbla0QqXbMh00bAwyhzv1nS1OadbZpdzltqLJ/r+lZ2P5kUBjr8ZreJ8EE7bOHatU4PxciiL+Ok1b/SBfnyJ45qIG3gXrBZO1Ag34/2qwnzf0i091Ap/3EAZbOt0WyfSCeWOe6fjd6DVVZKzzHGrneBDwkHtLsXasjw+ScnvDDUyVsWJq6lSaV6AjzvAxUUIPvbEV+ayYnMtuZtDcNxz9zlXodMktPuIrnuqmKufRPqSTv0Z/Gew/ku5pn/uzUK0p/oN67Rg1VA1NGMeMTm/0fG4AHZbuntksTtf5ByK8WLJB30ehabLkd+mkSTX4aBNA7WRFIdhjB499ez4HkwBfD9/Hsj7e9nsKDS7VqKE4HIY2GJZYJCUE4WFlQaqA7tKz0ONQCemHOjWqkAvC1UarMFzeTISvmefb5OTkuG9UcVm1+orJzsPZ30l5I4PDwfDALbFfWw0WwQ5wspzP2XLEObCmWR/3st7FcO7Z9YCyko+EB3t34eopfHYNgbbVQp3Pi+ijzgws1ZxW9tt74guzijlstnckIjjsW2MbvubTpA0xtCvP0+sCcfZs4Y2N4KnhztzaxVGPORDkkjrq+0uKuB+fvRDpKNnLoPUeUTRcfo8201+fa1iqgReqpgPQuVHyQ71CT4Nn2yjjWId5JUaeDm/Vll3CDnjX/nu+gNou3f/LfDShegMj7QWDn/BLY2D40vj4PiyIPoL65qtr8tP8AAAAAAASUVORK5CYII=)\n",
        ": 사전 분포 분산\n",
        "\n",
        "* ![image.png](data:image/png;base64,iVBORw0KGgoAAAANSUhEUgAAAC0AAAAbCAYAAADoOQYqAAAAAXNSR0IArs4c6QAAAARnQU1BAACxjwv8YQUAAAAJcEhZcwAADsMAAA7DAcdvqGQAAAIPSURBVFhH7ZexbuMwDIb/3LPkMhR5AmUqbiq6dOojqOjUe4jbujjrPUKnLJGnjvUTBBksLX0SlZTpWHIc1z3gHKTwhwQJRVKmaJJOZp7AhfFDPi+KKeix+D5Bu/UKs9UaTuQKh/VqhodcxDPSGbTdF8BygbnIAbfFS6Fw9VPkM9IRdI7NX0Df3Yhc4bYvKLDEIjnJeTgO2pXY4TijIfv6DulRIpyjV1pQ/w1+uMTYTHmozFuRK4zXZKqNiF1YttFkORCyN4ONU44y3V3PcfZz5J3NSDbqCkNL3m3/YCPfv0or6KqeVas28uffKNQ9bvkkeYmyKzK7B+5v08OexIFa5N+bWjJeYTOvaKkpD+sNl8thzfpMN6VjMy322mudlk+syzSVjTgZsgv71e/I6ZRPzPXju0+CruvZGHGG8jpjT+MzVclBjGyDGA7b1HOfLsBrh8RUfOoTkQQdstDbbTXcdM0BgnwIok8ncFIaA2KAT0QUNDt+MiFq6KKHrDBxEH06weg4QGKAT0zTiCfmcxeu3CUTJt/sSJzD0Vh5JZ2KGjLWVVPcodzVDymaRLTI+/X7pDRBz5/w5t/wNKD954ulfKML0sZ0DTosTYQS+EW6Ym87dWFr/jkAHo0ujM4bWuT9en3aSMa/CE8Rnipym1uNw7c/1cXlQL7c1K2a7fdJmf5ujcUU9FhMQY/FFPQ4AB+jzgUig5/m9AAAAABJRU5ErkJggg==)\n",
        ": 관측 데이터 평균\n",
        "\n",
        "* ![image.png](data:image/png;base64,iVBORw0KGgoAAAANSUhEUgAAACsAAAAjCAYAAAANDvOtAAAAAXNSR0IArs4c6QAAAARnQU1BAACxjwv8YQUAAAAJcEhZcwAADsMAAA7DAcdvqGQAAAJQSURBVFhH7ZgxcuIwFIZ/9iyEIpMTiHIrdptUOYIpd5vcIF0abbll2lQ02NWW4QSeFEh3Uf5nPxPbAds4IzLs8A0eLJ4l/0jv/TJMAsGZ8E3fz4KL2FiMFuuzJeaTCSZyzJfIvAYiMk6s/4PH1S2eWJshOKR3OX5cUbCGoyFucDRpQgcxwTpthzQkjXYcxs3s4i+/5At+TbV9KlT0p3DWBBN7Wsnn3YD5u8YTXk4xzSp6HC4NNo0/oxXjxRZC9VxIbfQCGyfW2WC4KLIw70dCT4jLf/Ag4zMs57o77TmW0d3/AMX81qHhG8MlrfKPuZnwslNYUx9NsUUufsw98VEYG75abiMNssffgL3HQttH4T1fkZ9mVLTO6r793QVrWO1JT60X6XKEI/D69Ej7aBXYDWbtjciv8byhMd32zfcWubnGlbb68OsHrPR8KL3braTGxljc92l1r8DdTwzbdD3Wz8D10G9WoTNMyuU23JbKTHA0Bimsw0vrLJ1DNgRekyQI9Uypx2zy7i4pr5Pb7o5ap0N9KlrWRcEisBiIT1Ic6JADNByi5SJdsQL5rOUuvX3IR58dRPthm+3dzbtiinh5o5IH9CHjxMovhfpg9Zt3xRRJr6bW/j7CqOdZv81pHLNdMWWrnM0pd+kM/xgztUKrx0oX9tjmletkxQ9NGa+7T8kosdPZjZ7xRhyQY7OyWeFb4Dtjm1e3N1aIESuEWJwHw1jwQxmvs0+FzvCRVIWoy9kqiMJFGrH6susm08rJ7j4ll/+6YnERG4uL2FickVjgDWzdacV5xKlPAAAAAElFTkSuQmCC)\n",
        ": 관측 데이터 분산\n",
        "\n",
        "* ![image.png](data:image/png;base64,iVBORw0KGgoAAAANSUhEUgAAAEkAAAAYCAYAAAC2odCOAAAAAXNSR0IArs4c6QAAAARnQU1BAACxjwv8YQUAAAAJcEhZcwAADsMAAA7DAcdvqGQAAAMjSURBVFhH7VixcuIwEH3ctzgUDF8gvoCjoaKls0vSpEuZLo1cJt21qWiwvwB/AeMC6V98u5JsS3bweWhuMvjNZPBqpZX1WL1dMqsImDCIX+5zwgAmkkbgJkk6XWE2m2GV6noAK7JnsxXS3A49Cr4lSacp1OYMlqvXco+E7PS0wVlJCBQo4Yh7FLBwB8hkJZV7JigpKghZeUMPh14macyxiZxB1umrgNht0AyNhobWPzDj6J27790jKVqvPUIUykJg17I2Hlrhfb9HLWk/B/TeT+/wZXe4uuVHfIqdl1k0RPo06ty8plhifge//xdXXMQCT85ihCS5ClZXtPz4CSznXmblFGLk1WOC4y3WzvwxUCXo6gRnDEmiCQVivFLq6DzBG3GEy9Vmjs5BSYTNIaSI59nWgMhN2izT1wtVwqP1rZLw2jVrqJ3opGUQr+PMExsrr+fws/NxTD8ez/XXD8XVaRsvocRYdtPfCbiDqqQA/0ypRMwVTVVZTNXN2Fm/wmUx+eIqMw6eS/NMaXRx6jU8j54tsioW3hrZxrWVtPVJ6VVVZasu72HiKhfH+LJK0iJe32xD82NXpofiBtWb1gg+j/G06LcAo0EvCdFvF8xbss/bjDdv2gjymS/APvPhLMJ4hoTmxGRnTCaT3z+E9VGE2PdlFQ2bz9txQ5+xv2l37ieJs6MTsMmkjq8lz0FxBtE3TWQ1oyYrbRa3mdxBQHYH7PP3qPu9objdM5Btb0KI4eo2ANacrqgfP9t2oe2tbK8Vb0nCSdcS1pEowvpwwMe2xJuvD3Fmunz+O38cEHHP4lwMffrqiWoDFtxFXZM00iPpZz3xRtzuGfLjxeiRzvNg37tJijY7CF/UV79xkX9gdH29xbJU7CFR3OMZEi+mzF2x2L24iscH8UTyadHGI+icfgpRCJ8QW3j8kRZ84MLbs9wSGWwMxI3mSztIYGKII+KZvtRruO/9141QizrlTSOSDTh1u+nNMOL4/Rol7Rq+Ao1UNQhFvg/WE3elRscljTNncLp0Q7inf7qNwN3X7ZEwkTQCE0kjMJE0AhNJIzCR9E8AfwE5WsxSvNB8NwAAAABJRU5ErkJggg==)\n",
        ": 관찰된 값"
      ],
      "metadata": {
        "id": "fYUZjdpghM_y"
      }
    },
    {
      "cell_type": "code",
      "source": [
        "#어느 병원에서 측정한 환자의 체온 평균이 37.0도이고 분산이 0.01도인 정규분포 N(37.0, 0.01)을 따를 때\n",
        "#세타의 사전 분포는 N(36.8,0.04)라고 한다.\n",
        "#어떤 환자의 체온이 37.2도로 측정되었을 때 세타의 사후분포 평균을 구하라 (소수점 셋째 자리까지 계산)\n",
        "\n",
        "#사전 분포 평균 / 분산\n",
        "mu_prior = 36.8\n",
        "sigma_prior_squared = 0.04\n",
        "\n",
        "#관찰값\n",
        "x_observed = 37.2\n",
        "\n",
        "#사후 분포 평균\n",
        "mu_data = 37.0\n",
        "sigma_data_squared = 0.01\n",
        "\n",
        "mu_post = (sigma_data_squared * mu_prior + sigma_prior_squared * x_observed ) / (sigma_data_squared + sigma_prior_squared)\n",
        "round(mu_post, 3)"
      ],
      "metadata": {
        "colab": {
          "base_uri": "https://localhost:8080/"
        },
        "id": "yQ0VVjpULbGz",
        "outputId": "0fc89fee-5aa5-41e2-acf4-42d9199f6cd6"
      },
      "execution_count": null,
      "outputs": [
        {
          "output_type": "execute_result",
          "data": {
            "text/plain": [
              "37.12"
            ]
          },
          "metadata": {},
          "execution_count": 4
        }
      ]
    },
    {
      "cell_type": "markdown",
      "source": [
        "# 포아송 분포\n",
        "주어진 시간 또는 공간 내에서 발생하는 사건의 수를 모델링하는 데 사용되는 확률 분포\n",
        "\n",
        "![image.png](data:image/png;base64,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)\n",
        "\n",
        "* X는 사건의 수\n",
        "* k는 사건의 실제 발생 횟수\n",
        "* e는 약 2.718\n",
        "* λ는 단위 시간 혹은 공간에서의 평균 사건 발생량"
      ],
      "metadata": {
        "id": "GaP-FPPjdQbm"
      }
    },
    {
      "cell_type": "markdown",
      "source": [
        "  ### 어떤 콜센터에서 한 시간 동안 평균적으로 4개의 전화가 들어온다. 한 시간 동안 6개의 전화가 들어올 확률은?"
      ],
      "metadata": {
        "id": "dR_4Exn0dVfa"
      }
    },
    {
      "cell_type": "code",
      "source": [
        "import scipy.stats as stats\n",
        "\n",
        "#평균 사건 발생률 (람다)\n",
        "lambda_val = 4\n",
        "\n",
        "# 특정 사건 수 (K)\n",
        "k = 6\n",
        "\n",
        "# 포아송 분포를 사용해서 사건수 발생 확률 계산\n",
        "prob= stats.poisson.pmf(k, lambda_val)\n",
        "\n",
        "round(prob,3)"
      ],
      "metadata": {
        "colab": {
          "base_uri": "https://localhost:8080/"
        },
        "id": "9Kn_EJxhsNkT",
        "outputId": "a9263e87-2051-403d-f646-f7c732e48ff2"
      },
      "execution_count": null,
      "outputs": [
        {
          "output_type": "execute_result",
          "data": {
            "text/plain": [
              "0.104"
            ]
          },
          "metadata": {},
          "execution_count": 6
        }
      ]
    },
    {
      "cell_type": "code",
      "source": [
        "# A 물고기 회사에는 1시간 당 평균 120건의 주문이 들어온다.\n",
        "# 이 때 A 물고기 회사에 1분동안 주문되는 건 수가 5개 이하일 확률\n",
        "\n",
        "from scipy.stats import poisson\n",
        "mean_lambda = 120/60\n",
        "prob = poisson.cdf(5,mean_lambda)\n",
        "prob"
      ],
      "metadata": {
        "colab": {
          "base_uri": "https://localhost:8080/"
        },
        "id": "is6pD49is-sq",
        "outputId": "5cc070d1-03fd-4411-f05b-7fe5c0a22ba9"
      },
      "execution_count": null,
      "outputs": [
        {
          "output_type": "execute_result",
          "data": {
            "text/plain": [
              "0.9834363915193856"
            ]
          },
          "metadata": {},
          "execution_count": 7
        }
      ]
    },
    {
      "cell_type": "markdown",
      "source": [
        "# 지수분포\n",
        "\n",
        "\n",
        "![image.png](data:image/png;base64,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)\n",
        "* 지수분포는 어떤 사건이 발생하는 시간 간격을 모델링하는 데 사용되는 확률분포\n",
        "* e는 자연상수(약 2.718)\n",
        "* λ는 지수분포의 파라미터로, 평균 수명의 역수.\n",
        "* t는 시간"
      ],
      "metadata": {
        "id": "UU46Hi3x-V5E"
      }
    },
    {
      "cell_type": "code",
      "source": [
        "# 어느 공장에서 생산하는 제품의 결함 발생 간격이 평균 200시간인 지수분포 따른다\n",
        "# 이 때 공장에서 제품을 검사할 때 결함이 발생하는 데 300시간 이상 걸릴 확률\n",
        "\n",
        "import math\n",
        "\n",
        "mean_interval= 200\n",
        "lambda_value = 1/mean_interval\n",
        "\n",
        "t = 300\n",
        "\n",
        "prob = math.exp(-lambda_value * t)\n",
        "round(prob,3)"
      ],
      "metadata": {
        "colab": {
          "base_uri": "https://localhost:8080/"
        },
        "id": "QXlSyOS1tzxN",
        "outputId": "bf87664a-ae45-4c59-f9a7-f89b3aaab9a3"
      },
      "execution_count": null,
      "outputs": [
        {
          "output_type": "execute_result",
          "data": {
            "text/plain": [
              "0.223"
            ]
          },
          "metadata": {},
          "execution_count": 9
        }
      ]
    },
    {
      "cell_type": "markdown",
      "source": [
        "## 기하분포\n",
        "독립적인 이항 시행에서 첫 번째 성공까지의 시행 횟수를 모델링 하는데 사용되는 확률 분포 (베르누이 시행을 기초)\n",
        "\n",
        "![image.png](data:image/png;base64,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)\n",
        "* P : 성공확률\n",
        "* (1-P) :  실패확률\n",
        "* x : 첫 성공까지의 시행횟수"
      ],
      "metadata": {
        "id": "OVakj1r1DRgd"
      }
    },
    {
      "cell_type": "code",
      "source": [
        "# 한 축구 선수가 골을 넣을 확률은 0.08.\n",
        "# 이 축구 선수가 골을 시도한지 7번 만에 골을 넣을 확률?\n",
        "\n",
        "p = 0.08\n",
        "\n",
        "# 7번째 시도에서 처음 골\n",
        "x = 7\n",
        "prob = p*(1-p)**(x-1)\n",
        "round(prob,3)"
      ],
      "metadata": {
        "colab": {
          "base_uri": "https://localhost:8080/"
        },
        "id": "NswRIedKu4TR",
        "outputId": "93550046-67be-415a-d5c7-33b46d5a59e9"
      },
      "execution_count": null,
      "outputs": [
        {
          "output_type": "execute_result",
          "data": {
            "text/plain": [
              "0.049"
            ]
          },
          "metadata": {},
          "execution_count": 12
        }
      ]
    },
    {
      "cell_type": "code",
      "source": [],
      "metadata": {
        "id": "RnjeKkCqvPHF"
      },
      "execution_count": null,
      "outputs": []
    }
  ]
}