{
  "cells": [
    {
      "cell_type": "code",
      "execution_count": 1,
      "id": "b4d27de5",
      "metadata": {
        "id": "b4d27de5",
        "outputId": "cd8fe51b-b06c-47b4-fef3-d915be092e5d"
      },
      "outputs": [],
      "source": [
        "# 데이터 출처 : https://www.datamanim.com/dataset/ADPpb/00/31.html"
      ]
    },
    {
      "cell_type": "markdown",
      "id": "1e530f30",
      "metadata": {
        "id": "1e530f30"
      },
      "source": [
        "# 31회 ADP 기출문제"
      ]
    },
    {
      "cell_type": "markdown",
      "id": "d0c9251b",
      "metadata": {
        "id": "d0c9251b"
      },
      "source": [
        "# 기계학습 (60점)"
      ]
    },
    {
      "cell_type": "markdown",
      "id": "435ce658",
      "metadata": {
        "id": "435ce658"
      },
      "source": [
        "## 데이터 설명\n",
        "- 데이터 출처 : https://www.kaggle.com/datasets/mandysia/obesity-dataset-cleaned-and-data-sinthetic 후처리\n",
        "- 데이터 링크 : https://raw.githubusercontent.com/Datamanim/datarepo/main/adp/31/adp_31_1_obesity_v2.csv\n",
        "- 데이터 설명 : 각 환자의 의료정보이다. NObeyesdad를 종속변수로 하는 분류모델을 만드려고 한다.\n",
        "\n",
        "\n",
        "    id: unique id for each row    \n",
        "    Gender: sex - male or female    \n",
        "    Age: age    \n",
        "    Height: height    \n",
        "    Weight: weight    \n",
        "    family_history_with_overweight: Has a family member suffered or suffers f from overweight? - yes or no    \n",
        "    FAVC: Frequent consumption of high caloric food - yes or no     \n",
        "    FCVC: Frequency of consumption of vegetables - Never, Sometimes, Always    \n",
        "    NCP: Number of main meals - 1, 2, 3, 4     \n",
        "    CAEC: Consumption of food between meals - No, Sometimes, Frequently, Always    \n",
        "    SMOKE: Do you smoke - yes o no    \n",
        "    CH2O: Consumption of water daily - Less than a litter, between 1 and 2 l, more than 2 l    \n",
        "    SCC: Calories consumption monitoring - yes or no   \n",
        "    FAF: Physical activity frequency - 0, 1 to 2, 2 to 4, 4 to 5     \n",
        "    TUE: Time using technology devices - 0 to 2, 3 to 5, >5    \n",
        "    CALC: Consumption of alcohol - no, sometimes, frequently, always    \n",
        "    MTRANS: Transportation used - automobile, motorbike, bike, public_transportation, walking    \n",
        "    BMI: Body mass index\n",
        "    \n",
        "    (종속변수)     \n",
        "    NObeyesdad: Type of obesity - overweight-level_i, obesity_type_i, obesity_type_ii, obesity_type_iii"
      ]
    },
    {
      "cell_type": "markdown",
      "id": "_eBvHMBlibvh",
      "metadata": {
        "id": "_eBvHMBlibvh"
      },
      "source": [
        "* id: 각 행의 고유 ID\n",
        "* Gender: 성별 - 남성 또는 여성\n",
        "* Age: 나이\n",
        "* Height: 키\n",
        "* Weight: 몸무게\n",
        "* family_history_with_overweight: 가족 구성원이 과체중을 앓고 있거나 앓았는지 여부 - 예 또는 아니오\n",
        "* FAVC: 고칼로리 음식의 빈번한 섭취 - 예 또는 아니오\n",
        "* FCVC: 채소 섭취 빈도 - 전혀 안함, 가끔, 항상\n",
        "* NCP: 주요 식사 횟수 - 1회, 2회, 3회, 4회\n",
        "* CAEC: 식사 사이 음식 섭취 - 아니오, 가끔, 자주, 항상\n",
        "* SMOKE: 흡연 여부 - 예 또는 아니오\n",
        "* CH2O: 하루 물 섭취량 - 1리터 미만, 1~2리터, 2리터 이상\n",
        "* SCC: 칼로리 섭취 모니터링 여부 - 예 또는 아니오\n",
        "* FAF: 신체 활동 빈도 - 0회, 12회, 24회, 4~5회\n",
        "* TUE: 기술 장치 사용 시간 - 02시간, 35시간, 5시간 이상\n",
        "* CALC: 알코올 섭취 - 아니오, 가끔, 자주, 항상\n",
        "* MTRANS: 사용된 교통 수단 - 자동차, 오토바이, 자전거, 대중교통, 걷기\n",
        "* BMI: 체질량지수\n",
        "\n",
        "(종속 변수)\n",
        "\n",
        "* NObeyesdad: 비만 유형 - 과체중 1단계, 비만 1형, 비만 2형, 비만 3형\n",
        "\n"
      ]
    },
    {
      "cell_type": "code",
      "execution_count": 3,
      "id": "ce9767f9",
      "metadata": {},
      "outputs": [],
      "source": [
        "import pandas as pd\n",
        "import numpy as np\n",
        "import matplotlib.pyplot as plt\n",
        "\n",
        "plt.rcParams['font.size'] = 12\n",
        "plt.rcParams['font.family'] = 'Malgun Gothic'\n",
        "plt.rcParams['figure.figsize'] = (12,5)\n",
        "plt.rcParams['axes.unicode_minus'] = False"
      ]
    },
    {
      "cell_type": "markdown",
      "id": "c9373a22",
      "metadata": {
        "id": "c9373a22"
      },
      "source": [
        "## 1-1  EDA & 결측치 및 이상치를 판단하고 설명하라"
      ]
    },
    {
      "cell_type": "code",
      "execution_count": 4,
      "id": "lgYul4ZbWGg1",
      "metadata": {
        "colab": {
          "base_uri": "https://localhost:8080/",
          "height": 790
        },
        "id": "lgYul4ZbWGg1",
        "outputId": "fec40882-13c7-48a5-c42d-5f5e4e1d9e8e"
      },
      "outputs": [
        {
          "name": "stdout",
          "output_type": "stream",
          "text": [
            "설명변수 ['SCC']가 [3]개의 결측치를 가지고 있습니다.\n",
            "결측치는 DataFrame의 fillna함수와 mode함수를 활용하여 해당 변수의 최빈값으로 대체합니다.\n"
          ]
        }
      ],
      "source": [
        "import pandas as pd\n",
        "df = pd.read_csv('https://raw.githubusercontent.com/Datamanim/datarepo/main/adp/31/adp_31_1_obesity_v2.csv', encoding = 'cp949')\n",
        "\n",
        "nul_count = df.isnull().sum()\n",
        "nul_col = nul_count[nul_count>0]\n",
        "print('설명변수 {}가 {}개의 결측치를 가지고 있습니다.'.format(nul_col.index.to_list(), nul_col.values))\n",
        "print('결측치는 DataFrame의 fillna함수와 mode함수를 활용하여 해당 변수의 최빈값으로 대체합니다.')\n",
        "\n",
        "nul_col = nul_col.index.tolist()[0]\n",
        "df[nul_col] = df[nul_col].fillna(df[nul_col].mode()[0])\n"
      ]
    },
    {
      "cell_type": "code",
      "execution_count": 5,
      "id": "c6f17d45",
      "metadata": {},
      "outputs": [
        {
          "name": "stdout",
          "output_type": "stream",
          "text": [
            "단순 행번호를 나타내는 열을 제거합니다.\n",
            "데이터에서 수치형 값을 갖는 특성은 ['Age', 'Height', 'Weight', 'NCP', 'BMI'] 입니다.\n",
            "\n",
            "수치형 변수 중 이상치를 갖는 변수들을 찾고, 이상치들에 대해서는 IQR(InterQuantile Range)를 구하여 판정하며, \n",
            "1-quartile-0.15*IQR을 하한임계치로 정하여 이 것보다 낮은 경우 하한임계치로 대체,\n",
            "3-quartile+0.15*IQR을 상한임계치로 정하여 이 것보다 높은 경우 상한임계치로 대체합니다.\n",
            "\n",
            "설명변수 [Age]가 25240개의 데이터 중 2223개의 이상치를 가지고 있습니다. 이상치 상한임계값은 36.000, 하한임계값은 12.000 입니다.\n",
            "설명변수 [Weight]가 25240개의 데이터 중 19개의 이상치를 가지고 있습니다. 이상치 상한임계값은 167.000, 하한임계값은 31.000 입니다.\n",
            "설명변수 [NCP]가 25240개의 데이터 중 6213개의 이상치를 가지고 있습니다. 이상치 상한임계값은 3.000, 하한임계값은 3.000 입니다.\n"
          ]
        },
        {
          "data": {
            "text/plain": [
              "array([[<Axes: title={'center': 'Age'}>,\n",
              "        <Axes: title={'center': 'Height'}>],\n",
              "       [<Axes: title={'center': 'Weight'}>,\n",
              "        <Axes: title={'center': 'NCP'}>],\n",
              "       [<Axes: title={'center': 'BMI'}>, <Axes: >]], dtype=object)"
            ]
          },
          "execution_count": 5,
          "metadata": {},
          "output_type": "execute_result"
        },
        {
          "data": {
            "image/png": "[encoded data removed]",
            "text/plain": [
              "<Figure size 1200x500 with 5 Axes>"
            ]
          },
          "metadata": {},
          "output_type": "display_data"
        },
        {
          "data": {
            "image/png": "[encoded data removed]",
            "text/plain": [
              "<Figure size 1200x800 with 6 Axes>"
            ]
          },
          "metadata": {},
          "output_type": "display_data"
        }
      ],
      "source": [
        "data = df.drop(['Unnamed: 0'], axis=1)\n",
        "print('단순 행번호를 나타내는 열을 제거합니다.')\n",
        "\n",
        "num_cols = data.select_dtypes(include=['int64', 'float64']).columns\n",
        "print(f'데이터에서 수치형 값을 갖는 특성은 {num_cols.tolist()} 입니다.' )\n",
        "print('''\n",
        "수치형 변수 중 이상치를 갖는 변수들을 찾고, 이상치들에 대해서는 IQR(InterQuantile Range)를 구하여 판정하며, \n",
        "1-quartile-0.15*IQR을 하한임계치로 정하여 이 것보다 낮은 경우 하한임계치로 대체,\n",
        "3-quartile+0.15*IQR을 상한임계치로 정하여 이 것보다 높은 경우 상한임계치로 대체합니다.\n",
        "''')\n",
        "\n",
        "figure, ax = plt.subplots(1, 5)\n",
        "for a, col in zip(ax, num_cols):\n",
        "    data[col].plot(kind='box', ax=a)\n",
        "    IQR = data[col].quantile(0.75)-data[col].quantile(0.25) \n",
        "    up_bound = data[col].quantile(0.75) + IQR*1.5\n",
        "    lo_bound = data[col].quantile(0.25) - IQR*1.5\n",
        "    up_excd = data[ data[col] > up_bound ].size\n",
        "    lo_excd = data[ data[col] < lo_bound ].size\n",
        "    data[col].clip(lo_bound, up_bound, inplace=True)\n",
        "    if up_excd+lo_excd > 0:\n",
        "        print('설명변수 [{}]가 {}개의 데이터 중 {}개의 이상치를 가지고 있습니다. 이상치 상한임계값은 {:.3f}, 하한임계값은 {:.3f} 입니다.'.format(col, df.size, up_excd+lo_excd, up_bound, lo_bound))\n",
        "\n",
        "data.hist(grid=False, figsize=(12, 8))"
      ]
    },
    {
      "cell_type": "code",
      "execution_count": 6,
      "id": "2ByKREL3WqbA",
      "metadata": {
        "colab": {
          "base_uri": "https://localhost:8080/"
        },
        "id": "2ByKREL3WqbA",
        "outputId": "1328fede-7d6a-4a78-e070-5833baa6537b"
      },
      "outputs": [
        {
          "name": "stdout",
          "output_type": "stream",
          "text": [
            "문자형 변수 목록은 ['id', 'Gender', 'family_history_with_overweight', 'FAVC', 'FCVC', 'CAEC', 'SMOKE', 'CH2O', 'SCC', 'FAF', 'TUE', 'CALC', 'MTRANS', 'NObeyesdad'] 과 같습니다.\n",
            "Gender\n",
            "male      636\n",
            "female    626\n",
            "Name: count, dtype: int64\n",
            "family_history_with_overweight\n",
            "yes    1173\n",
            "no       89\n",
            "Name: count, dtype: int64\n",
            "FAVC\n",
            "yes    1221\n",
            "no       41\n",
            "Name: count, dtype: int64\n",
            "FCVC\n",
            "always       630\n",
            "sometimes    580\n",
            "never         52\n",
            "Name: count, dtype: int64\n",
            "CAEC\n",
            "sometimes     1190\n",
            "no              37\n",
            "frequently      22\n",
            "always          13\n",
            "Name: count, dtype: int64\n",
            "SMOKE\n",
            "no     1237\n",
            "yes      25\n",
            "Name: count, dtype: int64\n",
            "CH2O\n",
            "between 1 and 2 l    618\n",
            "more than 2 l        373\n",
            "less than a liter    271\n",
            "Name: count, dtype: int64\n",
            "SCC\n",
            "no     1222\n",
            "yes      40\n",
            "Name: count, dtype: int64\n",
            "FAF\n",
            "1 to 2    482\n",
            "0         471\n",
            "2 to 4    260\n",
            "4 to 5     49\n",
            "Name: count, dtype: int64\n",
            "TUE\n",
            "0 to 2    615\n",
            "3 to 5    521\n",
            ">5        126\n",
            "Name: count, dtype: int64\n",
            "CALC\n",
            "sometimes     943\n",
            "no            287\n",
            "frequently     32\n",
            "Name: count, dtype: int64\n",
            "MTRANS\n",
            "public_transportation    971\n",
            "automobile               272\n",
            "walking                   12\n",
            "motorbike                  4\n",
            "bike                       3\n",
            "Name: count, dtype: int64\n",
            "NObeyesdad\n",
            "obesity_type_i        351\n",
            "obesity_type_iii      324\n",
            "obesity_type_ii       297\n",
            "overweight_level_i    290\n",
            "Name: count, dtype: int64\n",
            "문자형 변수 중 [id] 특성을 제외한 특성은 모두 범주형 변수입니다. \n"
          ]
        }
      ],
      "source": [
        "nom_df = data.drop(num_cols, axis=1)\n",
        "print(f'문자형 변수 목록은 {nom_df.columns.tolist()} 과 같습니다.')\n",
        "\n",
        "cat_cols = nom_df.drop('id', axis=1).columns\n",
        "for col in cat_cols:\n",
        "    print(data[col].value_counts())\n",
        "\n",
        "print('문자형 변수 중 [id] 특성을 제외한 특성은 모두 범주형 변수입니다. ')"
      ]
    },
    {
      "cell_type": "markdown",
      "id": "cdd7b70a",
      "metadata": {
        "id": "cdd7b70a"
      },
      "source": [
        "## 1-2 데이터 전처리 기법 2가지를 설명하고 주어진 데이터에 적용시 어떤 효과가 있는지 설명하라"
      ]
    },
    {
      "cell_type": "code",
      "execution_count": 6,
      "id": "685dd5c8",
      "metadata": {},
      "outputs": [
        {
          "name": "stdout",
          "output_type": "stream",
          "text": [
            "\n",
            "    데이터 전처리 기법은 이상치를 처리하는 기법, 클래스 불균형을 처리하는 기법, 머신러닝 모델 성능을 높이기 위해 데이터를 변환하는 기법, 특성이 너무 많은 경우 특성을 제외시키거나 추출하는 특성 엔지니어링 등이 있다.\n",
            "    이 중 머신러닝 모델 적용 및 성능향상을 위해 적용하는 데이터 변환 기법은 one-hot 인코딩과 스케일링 기법 2가지에 대해 설명한다.\n",
            "      1. one-hot 인코딩\n",
            "        문자형의 범주형 변수의 경우 머신러닝에 적용할 수 없기 때문에, 이를 수치화하는 작업이 필요하다. \n",
            "        하지만 수치화 시 1, 2, 3 등 서열척도가 바뀌면 서열의 크기가 모델링에 영향을 주게 되므로,\n",
            "        n개의 범주가 존재할 경우, 각 범주에 해당하는 n-1 개의 더미변수를 추가하고 0 아니면 1의 값을 할당하여 범주를 나타내는 것이 one-hot 인코딩이다.\n",
            "      2. 스케일링\n",
            "        수치형 특성이 여러 개인 경우, 각각의 단위가 다르다면 해당 변수 내의 편차의 중요성을 균일하게 맞출 필요가 있다.\n",
            "        그렇지 않으면 수치가 큰 단위의 특성의 경우 중요도가 더 높게 평가되어, 변수 내에서는 유의미한 편차가 아님에도 타 변수에 비해 큰 값이어서 더 중요한 취급을 받게 된다.\n",
            "        따라서 표준화 스케일링을 통해 0과 1 사이의 값들로 표준화하는 것이 모델 성능을 높이는 방법이다.\n",
            "      \n"
          ]
        }
      ],
      "source": [
        "print('''\n",
        "    데이터 전처리 기법은 이상치를 처리하는 기법, 클래스 불균형을 처리하는 기법, 머신러닝 모델 성능을 높이기 위해 데이터를 변환하는 기법, 특성이 너무 많은 경우 특성을 제외시키거나 추출하는 특성 엔지니어링 등이 있다.\n",
        "    이 중 머신러닝 모델 적용 및 성능향상을 위해 적용하는 데이터 변환 기법은 one-hot 인코딩과 스케일링 기법 2가지에 대해 설명한다.\n",
        "      1. one-hot 인코딩\n",
        "        문자형의 범주형 변수의 경우 머신러닝에 적용할 수 없기 때문에, 이를 수치화하는 작업이 필요하다. \n",
        "        하지만 수치화 시 1, 2, 3 등 서열척도가 바뀌면 서열의 크기가 모델링에 영향을 주게 되므로,\n",
        "        n개의 범주가 존재할 경우, 각 범주에 해당하는 n-1 개의 더미변수를 추가하고 0 아니면 1의 값을 할당하여 범주를 나타내는 것이 one-hot 인코딩이다.\n",
        "      2. 스케일링\n",
        "        수치형 특성이 여러 개인 경우, 각각의 단위가 다르다면 해당 변수 내의 편차의 중요성을 균일하게 맞출 필요가 있다.\n",
        "        그렇지 않으면 수치가 큰 단위의 특성의 경우 중요도가 더 높게 평가되어, 변수 내에서는 유의미한 편차가 아님에도 타 변수에 비해 큰 값이어서 더 중요한 취급을 받게 된다.\n",
        "        따라서 표준화 스케일링을 통해 0과 1 사이의 값들로 표준화하는 것이 모델 성능을 높이는 방법이다.\n",
        "      ''')"
      ]
    },
    {
      "cell_type": "code",
      "execution_count": 7,
      "id": "958e72de",
      "metadata": {},
      "outputs": [
        {
          "name": "stdout",
          "output_type": "stream",
          "text": [
            "수치형 변수의 목록 : Index(['Age', 'Height', 'Weight', 'NCP', 'BMI'], dtype='object')\n",
            "범주형 변수의 목록 : ['Gender', 'family_history_with_overweight', 'FAVC', 'FCVC', 'CAEC', 'SMOKE', 'CH2O', 'SCC', 'FAF', 'TUE', 'CALC', 'MTRANS']\n"
          ]
        }
      ],
      "source": [
        "cat_cols = nom_df.drop('id', axis=1).columns.tolist()\n",
        "cat_cols.remove('NObeyesdad') \n",
        "\n",
        "print('수치형 변수의 목록 :', num_cols)\n",
        "print('범주형 변수의 목록 :', cat_cols)\n",
        "\n",
        "X = pd.concat([data[num_cols], pd.get_dummies(data[cat_cols], drop_first=True)], axis=1)\n",
        "y = data.NObeyesdad.map({'obesity_type_i':2, 'obesity_type_ii':3, 'obesity_type_iii':4, 'overweight_level_i':1})                      "
      ]
    },
    {
      "cell_type": "markdown",
      "id": "98cb5ad0",
      "metadata": {
        "id": "98cb5ad0"
      },
      "source": [
        "## 1-3 피쳐 엔지니어링을 통해 파생변수 1개를 생성하고 그 이유를 말하라\n",
        "\n",
        "#"
      ]
    },
    {
      "cell_type": "code",
      "execution_count": 8,
      "id": "57b0993a",
      "metadata": {},
      "outputs": [
        {
          "data": {
            "text/plain": [
              "<Axes: >"
            ]
          },
          "execution_count": 8,
          "metadata": {},
          "output_type": "execute_result"
        },
        {
          "data": {
            "image/png": "[encoded data removed]",
            "text/plain": [
              "<Figure size 1200x500 with 2 Axes>"
            ]
          },
          "metadata": {},
          "output_type": "display_data"
        }
      ],
      "source": [
        "import seaborn as sns\n",
        "\n",
        "sns.heatmap(data[num_cols].corr())"
      ]
    },
    {
      "cell_type": "code",
      "execution_count": 35,
      "id": "856758fa",
      "metadata": {},
      "outputs": [
        {
          "name": "stdout",
          "output_type": "stream",
          "text": [
            "FAF는 신체활동빈도이고 TUE는 기술장치사용횟수를 의미한다. FAF는 비만 정도에 반비례할 것으로 기대되고, TUE는 비만 정도에 비례할 것으로 기대된다. \n",
            "      FAF는 낮고 TUE는 높을 때 비만 가능성이 높아지고, 반대상황에 낮을 것으로 기대되므로, 이를 확인하기 위해 TUE / FAF 특성을 파생변수 FAT로 추가한다.\n",
            "      이를 위해 FAF는 {'0':1, '1 to 2':2, '2 to 4':3, '4 to 5':4}로 인코딩하고 TUE는 {'0 to 2':1, '3 to 5':2, '>5':3}으로 인코딩한다.\n",
            "      \n"
          ]
        }
      ],
      "source": [
        "print('''FAF는 신체활동빈도이고 TUE는 기술장치사용횟수를 의미한다. FAF는 비만 정도에 반비례할 것으로 기대되고, TUE는 비만 정도에 비례할 것으로 기대된다. \n",
        "      FAF는 낮고 TUE는 높을 때 비만 가능성이 높아지고, 반대상황에 낮을 것으로 기대되므로, 이를 확인하기 위해 TUE / FAF 특성을 파생변수 FAT로 추가한다.\n",
        "      이를 위해 FAF는 {'0':1, '1 to 2':2, '2 to 4':3, '4 to 5':4}로 인코딩하고 TUE는 {'0 to 2':1, '3 to 5':2, '>5':3}으로 인코딩한다.\n",
        "      ''')\n",
        "\n",
        "tempFAF = data.FAF.map({'0':1, '1 to 2':2, '2 to 4':3, '4 to 5':4});\n",
        "tempTUE = data.TUE.map({'0 to 2':1, '3 to 5':2, '>5':3})\n",
        "data['FAT'] = tempTUE / tempFAF\n",
        "\n",
        "data[['FAT', 'TUE', 'FAF']].head()\n",
        "\n",
        "X['FAT'] = data.FAT"
      ]
    },
    {
      "cell_type": "markdown",
      "id": "2f91d43c",
      "metadata": {
        "id": "2f91d43c"
      },
      "source": [
        "## 2-1 앙상블을 제외한 분류 모델 3가지 구축 및 결과 비교 및 설명하라"
      ]
    },
    {
      "cell_type": "code",
      "execution_count": 34,
      "id": "437GHGGv1znb",
      "metadata": {
        "colab": {
          "base_uri": "https://localhost:8080/"
        },
        "id": "437GHGGv1znb",
        "outputId": "8d06c4a3-badd-4e45-e37c-d0e96ba30e1b"
      },
      "outputs": [
        {
          "name": "stdout",
          "output_type": "stream",
          "text": [
            "\n",
            "0. 로지스틱회귀\n",
            "1. 결정트리.\n",
            "2. SVM\n",
            "3. KNN을 사용하여 분류해보았다.\n",
            "\n"
          ]
        }
      ],
      "source": [
        "print('''\n",
        "0. 로지스틱회귀\n",
        "1. 결정트리.\n",
        "2. SVM\n",
        "3. KNN을 사용하여 분류해보았다.\n",
        "''')"
      ]
    },
    {
      "cell_type": "code",
      "execution_count": 66,
      "id": "0dbe51e7",
      "metadata": {},
      "outputs": [
        {
          "name": "stdout",
          "output_type": "stream",
          "text": [
            "LogisticRegression's score is 0.997\n",
            "SVM's score is 0.997\n",
            "DecisionTreee's score is 0.965\n",
            "KNeighborClassifier's score is 0.997\n"
          ]
        },
        {
          "name": "stderr",
          "output_type": "stream",
          "text": [
            "c:\\Users\\krkim1\\AppData\\Local\\Programs\\Python\\Python310\\lib\\site-packages\\sklearn\\linear_model\\_logistic.py:465: ConvergenceWarning: lbfgs failed to converge (status=1):\n",
            "STOP: TOTAL NO. OF ITERATIONS REACHED LIMIT.\n",
            "\n",
            "Increase the number of iterations (max_iter) or scale the data as shown in:\n",
            "    https://scikit-learn.org/stable/modules/preprocessing.html\n",
            "Please also refer to the documentation for alternative solver options:\n",
            "    https://scikit-learn.org/stable/modules/linear_model.html#logistic-regression\n",
            "  n_iter_i = _check_optimize_result(\n"
          ]
        }
      ],
      "source": [
        "from sklearn.model_selection import train_test_split\n",
        "from sklearn.metrics import accuracy_score\n",
        "\n",
        "from sklearn.linear_model import LogisticRegression\n",
        "from sklearn.svm import SVC\n",
        "from sklearn.tree import DecisionTreeClassifier\n",
        "from sklearn.neighbors import KNeighborsClassifier\n",
        "\n",
        "X_train, X_test, y_train, y_test = train_test_split(X, y)\n",
        "\n",
        "model_lr = LogisticRegression(C=1, max_iter=2000, penalty='l2', solver='lbfgs')\n",
        "model_lr.fit(X_train, y_train)\n",
        "score_lr = model_lr.score(X_test, y_test)\n",
        "print('LogisticRegression\\'s score is {:.3f}'.format(score_lr))\n",
        "\n",
        "model_svm = SVC(C=10, degree=1, gamma=0.1, kernel='linear')\n",
        "model_svm.fit(X_train, y_train)\n",
        "score_svm = model_svm.score(X_test, y_test)\n",
        "print('SVM\\'s score is {:.3f}'.format(score_svm))\n",
        "\n",
        "{'max_depth': 10, 'max_features': 'sqrt', 'min_samples_leaf': 1, 'min_samples_split': 2}\n",
        "model_dt = DecisionTreeClassifier(max_depth=10, max_features='sqrt', min_samples_leaf=1, min_samples_split=2)\n",
        "model_dt.fit(X_train, y_train)\n",
        "score_dt = model_dt.score(X_test, y_test)\n",
        "print('DecisionTreee\\'s score is {:.3f}'.format(score_dt) )\n",
        "\n",
        "model_knn = KNeighborsClassifier(n_neighbors=4, weights='uniform', metric='euclidean')\n",
        "model_knn.fit(X_train, y_train)\n",
        "score_knn = model_knn.score(X_test, y_test)\n",
        "print('KNeighborClassifier\\'s score is {:.3f}'.format(score_knn))\n"
      ]
    },
    {
      "cell_type": "code",
      "execution_count": null,
      "id": "1d0c0c21",
      "metadata": {},
      "outputs": [],
      "source": [
        "from sklearn.model_selection import StratifiedKFold, GridSearchCV\n",
        "\n",
        "fold_lr = StratifiedKFold(n_splits=5)\n",
        "grid_lr = { 'penalty' : ['l1', 'l2'],\n",
        "            'C' : [0.5, 1, 1.5],\n",
        "            'solver' : ['lbfgs','liblinear'],\n",
        "            'max_iter' : [2000, 2500, 3000]}\n",
        "model_lr = LogisticRegression()\n",
        "\n",
        "cv_lr = GridSearchCV(model_lr, param_grid=grid_lr, cv=fold_lr)\n",
        "cv_lr.fit(X, y)\n",
        "print('LogisticRegression''s best score is {:.3f}'.format(cv_lr.best_score_))\n",
        "print(f\"LogisticRegression''s best params {cv_lr.best_params_}\")\n",
        "\n",
        "\n",
        "\n",
        "fold_svm = StratifiedKFold(n_splits=5)\n",
        "grid_svm = { 'degree': [1, 2, 3],                   # 'poly' 커널에서 차수 조절\n",
        "             'C': [0.1, 1, 10],                     # 에러율 조절 (커지면 과적합)\n",
        "             'gamma': [0.1, 1],                 # 학습정도 조절 (커지면 과적합)\n",
        "             'kernel': ['linear', 'rbf', 'poly']}   # 경계면의 곡선화   \n",
        "model_svm = SVC()\n",
        "\n",
        "cv_svm = GridSearchCV(model_svm, param_grid=grid_svm, cv=fold_svm)\n",
        "cv_svm.fit(X, y)\n",
        "print('LogisticRegression''s best score is {:.3f}'.format(cv_svm.best_score_))\n",
        "print(f\"LogisticRegression''s best params {cv_svm.best_params_}\")\n",
        "\n",
        "\n",
        "\n",
        "fold_dt = StratifiedKFold(n_splits=5)\n",
        "grid_dt = {     'max_features': ['auto', 'sqrt'],\n",
        "                'max_depth': [5, 10, 20],\n",
        "                'min_samples_split': [2, 5, 10],\n",
        "                'min_samples_leaf': [1, 2, 4]}\n",
        "model_dt = DecisionTreeClassifier()\n",
        "\n",
        "cv_dt = GridSearchCV(model_dt, param_grid=grid_dt, cv=fold_dt)\n",
        "cv_dt.fit(X, y)\n",
        "\n",
        "print('DecisionTreeClassifier''s best score is {:.3f}'.format(cv_dt.best_score_))\n",
        "print(f\"DecisionTreeClassifier''s best params {cv_dt.best_params_}\")\n",
        "\n",
        "\n",
        "\n",
        "fold_knn = StratifiedKFold(n_splits=5)\n",
        "grid_knn = {'n_neighbors':[3, 4, 5], \n",
        "            'weights':[\"distance\", 'uniform'], \n",
        "            'metric':[\"euclidean\", 'minkowski']}\n",
        "model_knn = KNeighborsClassifier()\n",
        "\n",
        "cv_knn = GridSearchCV(model_knn, param_grid=grid_knn, cv=fold_knn)\n",
        "cv_knn.fit(X, y)\n",
        "\n",
        "print('KNN\\'s best score is {:.3f}'.format(cv_knn.best_score_))\n",
        "print(f\"KNN\\''s best params {cv_knn.best_params_}\")"
      ]
    },
    {
      "cell_type": "code",
      "execution_count": 64,
      "id": "d63fff08",
      "metadata": {},
      "outputs": [
        {
          "name": "stderr",
          "output_type": "stream",
          "text": [
            "c:\\Users\\krkim1\\AppData\\Local\\Programs\\Python\\Python310\\lib\\site-packages\\sklearn\\linear_model\\_logistic.py:465: ConvergenceWarning: lbfgs failed to converge (status=1):\n",
            "STOP: TOTAL NO. OF ITERATIONS REACHED LIMIT.\n",
            "\n",
            "Increase the number of iterations (max_iter) or scale the data as shown in:\n",
            "    https://scikit-learn.org/stable/modules/preprocessing.html\n",
            "Please also refer to the documentation for alternative solver options:\n",
            "    https://scikit-learn.org/stable/modules/linear_model.html#logistic-regression\n",
            "  n_iter_i = _check_optimize_result(\n",
            "c:\\Users\\krkim1\\AppData\\Local\\Programs\\Python\\Python310\\lib\\site-packages\\sklearn\\linear_model\\_logistic.py:465: ConvergenceWarning: lbfgs failed to converge (status=1):\n",
            "STOP: TOTAL NO. OF ITERATIONS REACHED LIMIT.\n",
            "\n",
            "Increase the number of iterations (max_iter) or scale the data as shown in:\n",
            "    https://scikit-learn.org/stable/modules/preprocessing.html\n",
            "Please also refer to the documentation for alternative solver options:\n",
            "    https://scikit-learn.org/stable/modules/linear_model.html#logistic-regression\n",
            "  n_iter_i = _check_optimize_result(\n",
            "c:\\Users\\krkim1\\AppData\\Local\\Programs\\Python\\Python310\\lib\\site-packages\\sklearn\\linear_model\\_logistic.py:465: ConvergenceWarning: lbfgs failed to converge (status=1):\n",
            "STOP: TOTAL NO. OF ITERATIONS REACHED LIMIT.\n",
            "\n",
            "Increase the number of iterations (max_iter) or scale the data as shown in:\n",
            "    https://scikit-learn.org/stable/modules/preprocessing.html\n",
            "Please also refer to the documentation for alternative solver options:\n",
            "    https://scikit-learn.org/stable/modules/linear_model.html#logistic-regression\n",
            "  n_iter_i = _check_optimize_result(\n",
            "c:\\Users\\krkim1\\AppData\\Local\\Programs\\Python\\Python310\\lib\\site-packages\\sklearn\\linear_model\\_logistic.py:465: ConvergenceWarning: lbfgs failed to converge (status=1):\n",
            "STOP: TOTAL NO. OF ITERATIONS REACHED LIMIT.\n",
            "\n",
            "Increase the number of iterations (max_iter) or scale the data as shown in:\n",
            "    https://scikit-learn.org/stable/modules/preprocessing.html\n",
            "Please also refer to the documentation for alternative solver options:\n",
            "    https://scikit-learn.org/stable/modules/linear_model.html#logistic-regression\n",
            "  n_iter_i = _check_optimize_result(\n",
            "c:\\Users\\krkim1\\AppData\\Local\\Programs\\Python\\Python310\\lib\\site-packages\\sklearn\\linear_model\\_logistic.py:465: ConvergenceWarning: lbfgs failed to converge (status=1):\n",
            "STOP: TOTAL NO. OF ITERATIONS REACHED LIMIT.\n",
            "\n",
            "Increase the number of iterations (max_iter) or scale the data as shown in:\n",
            "    https://scikit-learn.org/stable/modules/preprocessing.html\n",
            "Please also refer to the documentation for alternative solver options:\n",
            "    https://scikit-learn.org/stable/modules/linear_model.html#logistic-regression\n",
            "  n_iter_i = _check_optimize_result(\n",
            "c:\\Users\\krkim1\\AppData\\Local\\Programs\\Python\\Python310\\lib\\site-packages\\sklearn\\linear_model\\_logistic.py:465: ConvergenceWarning: lbfgs failed to converge (status=1):\n",
            "STOP: TOTAL NO. OF ITERATIONS REACHED LIMIT.\n",
            "\n",
            "Increase the number of iterations (max_iter) or scale the data as shown in:\n",
            "    https://scikit-learn.org/stable/modules/preprocessing.html\n",
            "Please also refer to the documentation for alternative solver options:\n",
            "    https://scikit-learn.org/stable/modules/linear_model.html#logistic-regression\n",
            "  n_iter_i = _check_optimize_result(\n",
            "c:\\Users\\krkim1\\AppData\\Local\\Programs\\Python\\Python310\\lib\\site-packages\\sklearn\\linear_model\\_logistic.py:465: ConvergenceWarning: lbfgs failed to converge (status=1):\n",
            "STOP: TOTAL NO. OF ITERATIONS REACHED LIMIT.\n",
            "\n",
            "Increase the number of iterations (max_iter) or scale the data as shown in:\n",
            "    https://scikit-learn.org/stable/modules/preprocessing.html\n",
            "Please also refer to the documentation for alternative solver options:\n",
            "    https://scikit-learn.org/stable/modules/linear_model.html#logistic-regression\n",
            "  n_iter_i = _check_optimize_result(\n",
            "c:\\Users\\krkim1\\AppData\\Local\\Programs\\Python\\Python310\\lib\\site-packages\\sklearn\\linear_model\\_logistic.py:465: ConvergenceWarning: lbfgs failed to converge (status=1):\n",
            "STOP: TOTAL NO. OF ITERATIONS REACHED LIMIT.\n",
            "\n",
            "Increase the number of iterations (max_iter) or scale the data as shown in:\n",
            "    https://scikit-learn.org/stable/modules/preprocessing.html\n",
            "Please also refer to the documentation for alternative solver options:\n",
            "    https://scikit-learn.org/stable/modules/linear_model.html#logistic-regression\n",
            "  n_iter_i = _check_optimize_result(\n",
            "c:\\Users\\krkim1\\AppData\\Local\\Programs\\Python\\Python310\\lib\\site-packages\\sklearn\\linear_model\\_logistic.py:465: ConvergenceWarning: lbfgs failed to converge (status=1):\n",
            "STOP: TOTAL NO. OF ITERATIONS REACHED LIMIT.\n",
            "\n",
            "Increase the number of iterations (max_iter) or scale the data as shown in:\n",
            "    https://scikit-learn.org/stable/modules/preprocessing.html\n",
            "Please also refer to the documentation for alternative solver options:\n",
            "    https://scikit-learn.org/stable/modules/linear_model.html#logistic-regression\n",
            "  n_iter_i = _check_optimize_result(\n",
            "c:\\Users\\krkim1\\AppData\\Local\\Programs\\Python\\Python310\\lib\\site-packages\\sklearn\\linear_model\\_logistic.py:465: ConvergenceWarning: lbfgs failed to converge (status=1):\n",
            "STOP: TOTAL NO. OF ITERATIONS REACHED LIMIT.\n",
            "\n",
            "Increase the number of iterations (max_iter) or scale the data as shown in:\n",
            "    https://scikit-learn.org/stable/modules/preprocessing.html\n",
            "Please also refer to the documentation for alternative solver options:\n",
            "    https://scikit-learn.org/stable/modules/linear_model.html#logistic-regression\n",
            "  n_iter_i = _check_optimize_result(\n",
            "c:\\Users\\krkim1\\AppData\\Local\\Programs\\Python\\Python310\\lib\\site-packages\\sklearn\\linear_model\\_logistic.py:465: ConvergenceWarning: lbfgs failed to converge (status=1):\n",
            "STOP: TOTAL NO. OF ITERATIONS REACHED LIMIT.\n",
            "\n",
            "Increase the number of iterations (max_iter) or scale the data as shown in:\n",
            "    https://scikit-learn.org/stable/modules/preprocessing.html\n",
            "Please also refer to the documentation for alternative solver options:\n",
            "    https://scikit-learn.org/stable/modules/linear_model.html#logistic-regression\n",
            "  n_iter_i = _check_optimize_result(\n",
            "c:\\Users\\krkim1\\AppData\\Local\\Programs\\Python\\Python310\\lib\\site-packages\\sklearn\\linear_model\\_logistic.py:465: ConvergenceWarning: lbfgs failed to converge (status=1):\n",
            "STOP: TOTAL NO. OF ITERATIONS REACHED LIMIT.\n",
            "\n",
            "Increase the number of iterations (max_iter) or scale the data as shown in:\n",
            "    https://scikit-learn.org/stable/modules/preprocessing.html\n",
            "Please also refer to the documentation for alternative solver options:\n",
            "    https://scikit-learn.org/stable/modules/linear_model.html#logistic-regression\n",
            "  n_iter_i = _check_optimize_result(\n",
            "c:\\Users\\krkim1\\AppData\\Local\\Programs\\Python\\Python310\\lib\\site-packages\\sklearn\\linear_model\\_logistic.py:465: ConvergenceWarning: lbfgs failed to converge (status=1):\n",
            "STOP: TOTAL NO. OF ITERATIONS REACHED LIMIT.\n",
            "\n",
            "Increase the number of iterations (max_iter) or scale the data as shown in:\n",
            "    https://scikit-learn.org/stable/modules/preprocessing.html\n",
            "Please also refer to the documentation for alternative solver options:\n",
            "    https://scikit-learn.org/stable/modules/linear_model.html#logistic-regression\n",
            "  n_iter_i = _check_optimize_result(\n",
            "c:\\Users\\krkim1\\AppData\\Local\\Programs\\Python\\Python310\\lib\\site-packages\\sklearn\\linear_model\\_logistic.py:465: ConvergenceWarning: lbfgs failed to converge (status=1):\n",
            "STOP: TOTAL NO. OF ITERATIONS REACHED LIMIT.\n",
            "\n",
            "Increase the number of iterations (max_iter) or scale the data as shown in:\n",
            "    https://scikit-learn.org/stable/modules/preprocessing.html\n",
            "Please also refer to the documentation for alternative solver options:\n",
            "    https://scikit-learn.org/stable/modules/linear_model.html#logistic-regression\n",
            "  n_iter_i = _check_optimize_result(\n",
            "c:\\Users\\krkim1\\AppData\\Local\\Programs\\Python\\Python310\\lib\\site-packages\\sklearn\\linear_model\\_logistic.py:465: ConvergenceWarning: lbfgs failed to converge (status=1):\n",
            "STOP: TOTAL NO. OF ITERATIONS REACHED LIMIT.\n",
            "\n",
            "Increase the number of iterations (max_iter) or scale the data as shown in:\n",
            "    https://scikit-learn.org/stable/modules/preprocessing.html\n",
            "Please also refer to the documentation for alternative solver options:\n",
            "    https://scikit-learn.org/stable/modules/linear_model.html#logistic-regression\n",
            "  n_iter_i = _check_optimize_result(\n",
            "c:\\Users\\krkim1\\AppData\\Local\\Programs\\Python\\Python310\\lib\\site-packages\\sklearn\\linear_model\\_logistic.py:465: ConvergenceWarning: lbfgs failed to converge (status=1):\n",
            "STOP: TOTAL NO. OF ITERATIONS REACHED LIMIT.\n",
            "\n",
            "Increase the number of iterations (max_iter) or scale the data as shown in:\n",
            "    https://scikit-learn.org/stable/modules/preprocessing.html\n",
            "Please also refer to the documentation for alternative solver options:\n",
            "    https://scikit-learn.org/stable/modules/linear_model.html#logistic-regression\n",
            "  n_iter_i = _check_optimize_result(\n",
            "c:\\Users\\krkim1\\AppData\\Local\\Programs\\Python\\Python310\\lib\\site-packages\\sklearn\\linear_model\\_logistic.py:465: ConvergenceWarning: lbfgs failed to converge (status=1):\n",
            "STOP: TOTAL NO. OF ITERATIONS REACHED LIMIT.\n",
            "\n",
            "Increase the number of iterations (max_iter) or scale the data as shown in:\n",
            "    https://scikit-learn.org/stable/modules/preprocessing.html\n",
            "Please also refer to the documentation for alternative solver options:\n",
            "    https://scikit-learn.org/stable/modules/linear_model.html#logistic-regression\n",
            "  n_iter_i = _check_optimize_result(\n",
            "c:\\Users\\krkim1\\AppData\\Local\\Programs\\Python\\Python310\\lib\\site-packages\\sklearn\\linear_model\\_logistic.py:465: ConvergenceWarning: lbfgs failed to converge (status=1):\n",
            "STOP: TOTAL NO. OF ITERATIONS REACHED LIMIT.\n",
            "\n",
            "Increase the number of iterations (max_iter) or scale the data as shown in:\n",
            "    https://scikit-learn.org/stable/modules/preprocessing.html\n",
            "Please also refer to the documentation for alternative solver options:\n",
            "    https://scikit-learn.org/stable/modules/linear_model.html#logistic-regression\n",
            "  n_iter_i = _check_optimize_result(\n",
            "c:\\Users\\krkim1\\AppData\\Local\\Programs\\Python\\Python310\\lib\\site-packages\\sklearn\\linear_model\\_logistic.py:465: ConvergenceWarning: lbfgs failed to converge (status=1):\n",
            "STOP: TOTAL NO. OF ITERATIONS REACHED LIMIT.\n",
            "\n",
            "Increase the number of iterations (max_iter) or scale the data as shown in:\n",
            "    https://scikit-learn.org/stable/modules/preprocessing.html\n",
            "Please also refer to the documentation for alternative solver options:\n",
            "    https://scikit-learn.org/stable/modules/linear_model.html#logistic-regression\n",
            "  n_iter_i = _check_optimize_result(\n",
            "c:\\Users\\krkim1\\AppData\\Local\\Programs\\Python\\Python310\\lib\\site-packages\\sklearn\\linear_model\\_logistic.py:465: ConvergenceWarning: lbfgs failed to converge (status=1):\n",
            "STOP: TOTAL NO. OF ITERATIONS REACHED LIMIT.\n",
            "\n",
            "Increase the number of iterations (max_iter) or scale the data as shown in:\n",
            "    https://scikit-learn.org/stable/modules/preprocessing.html\n",
            "Please also refer to the documentation for alternative solver options:\n",
            "    https://scikit-learn.org/stable/modules/linear_model.html#logistic-regression\n",
            "  n_iter_i = _check_optimize_result(\n",
            "c:\\Users\\krkim1\\AppData\\Local\\Programs\\Python\\Python310\\lib\\site-packages\\sklearn\\linear_model\\_logistic.py:465: ConvergenceWarning: lbfgs failed to converge (status=1):\n",
            "STOP: TOTAL NO. OF ITERATIONS REACHED LIMIT.\n",
            "\n",
            "Increase the number of iterations (max_iter) or scale the data as shown in:\n",
            "    https://scikit-learn.org/stable/modules/preprocessing.html\n",
            "Please also refer to the documentation for alternative solver options:\n",
            "    https://scikit-learn.org/stable/modules/linear_model.html#logistic-regression\n",
            "  n_iter_i = _check_optimize_result(\n",
            "c:\\Users\\krkim1\\AppData\\Local\\Programs\\Python\\Python310\\lib\\site-packages\\sklearn\\linear_model\\_logistic.py:465: ConvergenceWarning: lbfgs failed to converge (status=1):\n",
            "STOP: TOTAL NO. OF ITERATIONS REACHED LIMIT.\n",
            "\n",
            "Increase the number of iterations (max_iter) or scale the data as shown in:\n",
            "    https://scikit-learn.org/stable/modules/preprocessing.html\n",
            "Please also refer to the documentation for alternative solver options:\n",
            "    https://scikit-learn.org/stable/modules/linear_model.html#logistic-regression\n",
            "  n_iter_i = _check_optimize_result(\n",
            "c:\\Users\\krkim1\\AppData\\Local\\Programs\\Python\\Python310\\lib\\site-packages\\sklearn\\linear_model\\_logistic.py:465: ConvergenceWarning: lbfgs failed to converge (status=1):\n",
            "STOP: TOTAL NO. OF ITERATIONS REACHED LIMIT.\n",
            "\n",
            "Increase the number of iterations (max_iter) or scale the data as shown in:\n",
            "    https://scikit-learn.org/stable/modules/preprocessing.html\n",
            "Please also refer to the documentation for alternative solver options:\n",
            "    https://scikit-learn.org/stable/modules/linear_model.html#logistic-regression\n",
            "  n_iter_i = _check_optimize_result(\n",
            "c:\\Users\\krkim1\\AppData\\Local\\Programs\\Python\\Python310\\lib\\site-packages\\sklearn\\linear_model\\_logistic.py:465: ConvergenceWarning: lbfgs failed to converge (status=1):\n",
            "STOP: TOTAL NO. OF ITERATIONS REACHED LIMIT.\n",
            "\n",
            "Increase the number of iterations (max_iter) or scale the data as shown in:\n",
            "    https://scikit-learn.org/stable/modules/preprocessing.html\n",
            "Please also refer to the documentation for alternative solver options:\n",
            "    https://scikit-learn.org/stable/modules/linear_model.html#logistic-regression\n",
            "  n_iter_i = _check_optimize_result(\n",
            "c:\\Users\\krkim1\\AppData\\Local\\Programs\\Python\\Python310\\lib\\site-packages\\sklearn\\linear_model\\_logistic.py:465: ConvergenceWarning: lbfgs failed to converge (status=1):\n",
            "STOP: TOTAL NO. OF ITERATIONS REACHED LIMIT.\n",
            "\n",
            "Increase the number of iterations (max_iter) or scale the data as shown in:\n",
            "    https://scikit-learn.org/stable/modules/preprocessing.html\n",
            "Please also refer to the documentation for alternative solver options:\n",
            "    https://scikit-learn.org/stable/modules/linear_model.html#logistic-regression\n",
            "  n_iter_i = _check_optimize_result(\n",
            "c:\\Users\\krkim1\\AppData\\Local\\Programs\\Python\\Python310\\lib\\site-packages\\sklearn\\linear_model\\_logistic.py:465: ConvergenceWarning: lbfgs failed to converge (status=1):\n",
            "STOP: TOTAL NO. OF ITERATIONS REACHED LIMIT.\n",
            "\n",
            "Increase the number of iterations (max_iter) or scale the data as shown in:\n",
            "    https://scikit-learn.org/stable/modules/preprocessing.html\n",
            "Please also refer to the documentation for alternative solver options:\n",
            "    https://scikit-learn.org/stable/modules/linear_model.html#logistic-regression\n",
            "  n_iter_i = _check_optimize_result(\n",
            "c:\\Users\\krkim1\\AppData\\Local\\Programs\\Python\\Python310\\lib\\site-packages\\sklearn\\linear_model\\_logistic.py:465: ConvergenceWarning: lbfgs failed to converge (status=1):\n",
            "STOP: TOTAL NO. OF ITERATIONS REACHED LIMIT.\n",
            "\n",
            "Increase the number of iterations (max_iter) or scale the data as shown in:\n",
            "    https://scikit-learn.org/stable/modules/preprocessing.html\n",
            "Please also refer to the documentation for alternative solver options:\n",
            "    https://scikit-learn.org/stable/modules/linear_model.html#logistic-regression\n",
            "  n_iter_i = _check_optimize_result(\n",
            "c:\\Users\\krkim1\\AppData\\Local\\Programs\\Python\\Python310\\lib\\site-packages\\sklearn\\linear_model\\_logistic.py:465: ConvergenceWarning: lbfgs failed to converge (status=1):\n",
            "STOP: TOTAL NO. OF ITERATIONS REACHED LIMIT.\n",
            "\n",
            "Increase the number of iterations (max_iter) or scale the data as shown in:\n",
            "    https://scikit-learn.org/stable/modules/preprocessing.html\n",
            "Please also refer to the documentation for alternative solver options:\n",
            "    https://scikit-learn.org/stable/modules/linear_model.html#logistic-regression\n",
            "  n_iter_i = _check_optimize_result(\n",
            "c:\\Users\\krkim1\\AppData\\Local\\Programs\\Python\\Python310\\lib\\site-packages\\sklearn\\linear_model\\_logistic.py:465: ConvergenceWarning: lbfgs failed to converge (status=1):\n",
            "STOP: TOTAL NO. OF ITERATIONS REACHED LIMIT.\n",
            "\n",
            "Increase the number of iterations (max_iter) or scale the data as shown in:\n",
            "    https://scikit-learn.org/stable/modules/preprocessing.html\n",
            "Please also refer to the documentation for alternative solver options:\n",
            "    https://scikit-learn.org/stable/modules/linear_model.html#logistic-regression\n",
            "  n_iter_i = _check_optimize_result(\n",
            "c:\\Users\\krkim1\\AppData\\Local\\Programs\\Python\\Python310\\lib\\site-packages\\sklearn\\linear_model\\_logistic.py:465: ConvergenceWarning: lbfgs failed to converge (status=1):\n",
            "STOP: TOTAL NO. OF ITERATIONS REACHED LIMIT.\n",
            "\n",
            "Increase the number of iterations (max_iter) or scale the data as shown in:\n",
            "    https://scikit-learn.org/stable/modules/preprocessing.html\n",
            "Please also refer to the documentation for alternative solver options:\n",
            "    https://scikit-learn.org/stable/modules/linear_model.html#logistic-regression\n",
            "  n_iter_i = _check_optimize_result(\n",
            "c:\\Users\\krkim1\\AppData\\Local\\Programs\\Python\\Python310\\lib\\site-packages\\sklearn\\linear_model\\_logistic.py:465: ConvergenceWarning: lbfgs failed to converge (status=1):\n",
            "STOP: TOTAL NO. OF ITERATIONS REACHED LIMIT.\n",
            "\n",
            "Increase the number of iterations (max_iter) or scale the data as shown in:\n",
            "    https://scikit-learn.org/stable/modules/preprocessing.html\n",
            "Please also refer to the documentation for alternative solver options:\n",
            "    https://scikit-learn.org/stable/modules/linear_model.html#logistic-regression\n",
            "  n_iter_i = _check_optimize_result(\n",
            "c:\\Users\\krkim1\\AppData\\Local\\Programs\\Python\\Python310\\lib\\site-packages\\sklearn\\linear_model\\_logistic.py:465: ConvergenceWarning: lbfgs failed to converge (status=1):\n",
            "STOP: TOTAL NO. OF ITERATIONS REACHED LIMIT.\n",
            "\n",
            "Increase the number of iterations (max_iter) or scale the data as shown in:\n",
            "    https://scikit-learn.org/stable/modules/preprocessing.html\n",
            "Please also refer to the documentation for alternative solver options:\n",
            "    https://scikit-learn.org/stable/modules/linear_model.html#logistic-regression\n",
            "  n_iter_i = _check_optimize_result(\n",
            "c:\\Users\\krkim1\\AppData\\Local\\Programs\\Python\\Python310\\lib\\site-packages\\sklearn\\linear_model\\_logistic.py:465: ConvergenceWarning: lbfgs failed to converge (status=1):\n",
            "STOP: TOTAL NO. OF ITERATIONS REACHED LIMIT.\n",
            "\n",
            "Increase the number of iterations (max_iter) or scale the data as shown in:\n",
            "    https://scikit-learn.org/stable/modules/preprocessing.html\n",
            "Please also refer to the documentation for alternative solver options:\n",
            "    https://scikit-learn.org/stable/modules/linear_model.html#logistic-regression\n",
            "  n_iter_i = _check_optimize_result(\n",
            "c:\\Users\\krkim1\\AppData\\Local\\Programs\\Python\\Python310\\lib\\site-packages\\sklearn\\linear_model\\_logistic.py:465: ConvergenceWarning: lbfgs failed to converge (status=1):\n",
            "STOP: TOTAL NO. OF ITERATIONS REACHED LIMIT.\n",
            "\n",
            "Increase the number of iterations (max_iter) or scale the data as shown in:\n",
            "    https://scikit-learn.org/stable/modules/preprocessing.html\n",
            "Please also refer to the documentation for alternative solver options:\n",
            "    https://scikit-learn.org/stable/modules/linear_model.html#logistic-regression\n",
            "  n_iter_i = _check_optimize_result(\n",
            "c:\\Users\\krkim1\\AppData\\Local\\Programs\\Python\\Python310\\lib\\site-packages\\sklearn\\linear_model\\_logistic.py:465: ConvergenceWarning: lbfgs failed to converge (status=1):\n",
            "STOP: TOTAL NO. OF ITERATIONS REACHED LIMIT.\n",
            "\n",
            "Increase the number of iterations (max_iter) or scale the data as shown in:\n",
            "    https://scikit-learn.org/stable/modules/preprocessing.html\n",
            "Please also refer to the documentation for alternative solver options:\n",
            "    https://scikit-learn.org/stable/modules/linear_model.html#logistic-regression\n",
            "  n_iter_i = _check_optimize_result(\n",
            "c:\\Users\\krkim1\\AppData\\Local\\Programs\\Python\\Python310\\lib\\site-packages\\sklearn\\linear_model\\_logistic.py:465: ConvergenceWarning: lbfgs failed to converge (status=1):\n",
            "STOP: TOTAL NO. OF ITERATIONS REACHED LIMIT.\n",
            "\n",
            "Increase the number of iterations (max_iter) or scale the data as shown in:\n",
            "    https://scikit-learn.org/stable/modules/preprocessing.html\n",
            "Please also refer to the documentation for alternative solver options:\n",
            "    https://scikit-learn.org/stable/modules/linear_model.html#logistic-regression\n",
            "  n_iter_i = _check_optimize_result(\n",
            "c:\\Users\\krkim1\\AppData\\Local\\Programs\\Python\\Python310\\lib\\site-packages\\sklearn\\linear_model\\_logistic.py:465: ConvergenceWarning: lbfgs failed to converge (status=1):\n",
            "STOP: TOTAL NO. OF ITERATIONS REACHED LIMIT.\n",
            "\n",
            "Increase the number of iterations (max_iter) or scale the data as shown in:\n",
            "    https://scikit-learn.org/stable/modules/preprocessing.html\n",
            "Please also refer to the documentation for alternative solver options:\n",
            "    https://scikit-learn.org/stable/modules/linear_model.html#logistic-regression\n",
            "  n_iter_i = _check_optimize_result(\n",
            "c:\\Users\\krkim1\\AppData\\Local\\Programs\\Python\\Python310\\lib\\site-packages\\sklearn\\linear_model\\_logistic.py:465: ConvergenceWarning: lbfgs failed to converge (status=1):\n",
            "STOP: TOTAL NO. OF ITERATIONS REACHED LIMIT.\n",
            "\n",
            "Increase the number of iterations (max_iter) or scale the data as shown in:\n",
            "    https://scikit-learn.org/stable/modules/preprocessing.html\n",
            "Please also refer to the documentation for alternative solver options:\n",
            "    https://scikit-learn.org/stable/modules/linear_model.html#logistic-regression\n",
            "  n_iter_i = _check_optimize_result(\n",
            "c:\\Users\\krkim1\\AppData\\Local\\Programs\\Python\\Python310\\lib\\site-packages\\sklearn\\linear_model\\_logistic.py:465: ConvergenceWarning: lbfgs failed to converge (status=1):\n",
            "STOP: TOTAL NO. OF ITERATIONS REACHED LIMIT.\n",
            "\n",
            "Increase the number of iterations (max_iter) or scale the data as shown in:\n",
            "    https://scikit-learn.org/stable/modules/preprocessing.html\n",
            "Please also refer to the documentation for alternative solver options:\n",
            "    https://scikit-learn.org/stable/modules/linear_model.html#logistic-regression\n",
            "  n_iter_i = _check_optimize_result(\n",
            "c:\\Users\\krkim1\\AppData\\Local\\Programs\\Python\\Python310\\lib\\site-packages\\sklearn\\linear_model\\_logistic.py:465: ConvergenceWarning: lbfgs failed to converge (status=1):\n",
            "STOP: TOTAL NO. OF ITERATIONS REACHED LIMIT.\n",
            "\n",
            "Increase the number of iterations (max_iter) or scale the data as shown in:\n",
            "    https://scikit-learn.org/stable/modules/preprocessing.html\n",
            "Please also refer to the documentation for alternative solver options:\n",
            "    https://scikit-learn.org/stable/modules/linear_model.html#logistic-regression\n",
            "  n_iter_i = _check_optimize_result(\n",
            "c:\\Users\\krkim1\\AppData\\Local\\Programs\\Python\\Python310\\lib\\site-packages\\sklearn\\linear_model\\_logistic.py:465: ConvergenceWarning: lbfgs failed to converge (status=1):\n",
            "STOP: TOTAL NO. OF ITERATIONS REACHED LIMIT.\n",
            "\n",
            "Increase the number of iterations (max_iter) or scale the data as shown in:\n",
            "    https://scikit-learn.org/stable/modules/preprocessing.html\n",
            "Please also refer to the documentation for alternative solver options:\n",
            "    https://scikit-learn.org/stable/modules/linear_model.html#logistic-regression\n",
            "  n_iter_i = _check_optimize_result(\n",
            "c:\\Users\\krkim1\\AppData\\Local\\Programs\\Python\\Python310\\lib\\site-packages\\sklearn\\linear_model\\_logistic.py:465: ConvergenceWarning: lbfgs failed to converge (status=1):\n",
            "STOP: TOTAL NO. OF ITERATIONS REACHED LIMIT.\n",
            "\n",
            "Increase the number of iterations (max_iter) or scale the data as shown in:\n",
            "    https://scikit-learn.org/stable/modules/preprocessing.html\n",
            "Please also refer to the documentation for alternative solver options:\n",
            "    https://scikit-learn.org/stable/modules/linear_model.html#logistic-regression\n",
            "  n_iter_i = _check_optimize_result(\n",
            "c:\\Users\\krkim1\\AppData\\Local\\Programs\\Python\\Python310\\lib\\site-packages\\sklearn\\linear_model\\_logistic.py:465: ConvergenceWarning: lbfgs failed to converge (status=1):\n",
            "STOP: TOTAL NO. OF ITERATIONS REACHED LIMIT.\n",
            "\n",
            "Increase the number of iterations (max_iter) or scale the data as shown in:\n",
            "    https://scikit-learn.org/stable/modules/preprocessing.html\n",
            "Please also refer to the documentation for alternative solver options:\n",
            "    https://scikit-learn.org/stable/modules/linear_model.html#logistic-regression\n",
            "  n_iter_i = _check_optimize_result(\n",
            "c:\\Users\\krkim1\\AppData\\Local\\Programs\\Python\\Python310\\lib\\site-packages\\sklearn\\linear_model\\_logistic.py:465: ConvergenceWarning: lbfgs failed to converge (status=1):\n",
            "STOP: TOTAL NO. OF ITERATIONS REACHED LIMIT.\n",
            "\n",
            "Increase the number of iterations (max_iter) or scale the data as shown in:\n",
            "    https://scikit-learn.org/stable/modules/preprocessing.html\n",
            "Please also refer to the documentation for alternative solver options:\n",
            "    https://scikit-learn.org/stable/modules/linear_model.html#logistic-regression\n",
            "  n_iter_i = _check_optimize_result(\n",
            "c:\\Users\\krkim1\\AppData\\Local\\Programs\\Python\\Python310\\lib\\site-packages\\sklearn\\model_selection\\_validation.py:528: FitFailedWarning: \n",
            "45 fits failed out of a total of 180.\n",
            "The score on these train-test partitions for these parameters will be set to nan.\n",
            "If these failures are not expected, you can try to debug them by setting error_score='raise'.\n",
            "\n",
            "Below are more details about the failures:\n",
            "--------------------------------------------------------------------------------\n",
            "45 fits failed with the following error:\n",
            "Traceback (most recent call last):\n",
            "  File \"c:\\Users\\krkim1\\AppData\\Local\\Programs\\Python\\Python310\\lib\\site-packages\\sklearn\\model_selection\\_validation.py\", line 866, in _fit_and_score\n",
            "    estimator.fit(X_train, y_train, **fit_params)\n",
            "  File \"c:\\Users\\krkim1\\AppData\\Local\\Programs\\Python\\Python310\\lib\\site-packages\\sklearn\\base.py\", line 1389, in wrapper\n",
            "    return fit_method(estimator, *args, **kwargs)\n",
            "  File \"c:\\Users\\krkim1\\AppData\\Local\\Programs\\Python\\Python310\\lib\\site-packages\\sklearn\\linear_model\\_logistic.py\", line 1193, in fit\n",
            "    solver = _check_solver(self.solver, self.penalty, self.dual)\n",
            "  File \"c:\\Users\\krkim1\\AppData\\Local\\Programs\\Python\\Python310\\lib\\site-packages\\sklearn\\linear_model\\_logistic.py\", line 63, in _check_solver\n",
            "    raise ValueError(\n",
            "ValueError: Solver lbfgs supports only 'l2' or None penalties, got l1 penalty.\n",
            "\n",
            "  warnings.warn(some_fits_failed_message, FitFailedWarning)\n",
            "c:\\Users\\krkim1\\AppData\\Local\\Programs\\Python\\Python310\\lib\\site-packages\\sklearn\\model_selection\\_search.py:1108: UserWarning: One or more of the test scores are non-finite: [       nan 0.95086894 0.99049501 0.92711274        nan 0.95086894\n",
            " 0.99049501 0.92711274        nan 0.95086894 0.99049501 0.92711274\n",
            "        nan 0.95800552 0.99207918 0.93424305        nan 0.95721501\n",
            " 0.99207918 0.93424305        nan 0.95800552 0.99128553 0.93424305\n",
            "        nan 0.96116758 0.99207918 0.93900182        nan 0.96116758\n",
            " 0.99207918 0.93900182        nan 0.96116758 0.99207918 0.93900182]\n",
            "  warnings.warn(\n"
          ]
        },
        {
          "name": "stdout",
          "output_type": "stream",
          "text": [
            "LogisticRegressions best score is 0.992\n",
            "LogisticRegression''s best params {'C': 1, 'max_iter': 2000, 'penalty': 'l2', 'solver': 'lbfgs'}\n"
          ]
        },
        {
          "name": "stderr",
          "output_type": "stream",
          "text": [
            "c:\\Users\\krkim1\\AppData\\Local\\Programs\\Python\\Python310\\lib\\site-packages\\sklearn\\linear_model\\_logistic.py:465: ConvergenceWarning: lbfgs failed to converge (status=1):\n",
            "STOP: TOTAL NO. OF ITERATIONS REACHED LIMIT.\n",
            "\n",
            "Increase the number of iterations (max_iter) or scale the data as shown in:\n",
            "    https://scikit-learn.org/stable/modules/preprocessing.html\n",
            "Please also refer to the documentation for alternative solver options:\n",
            "    https://scikit-learn.org/stable/modules/linear_model.html#logistic-regression\n",
            "  n_iter_i = _check_optimize_result(\n"
          ]
        }
      ],
      "source": [
        "fold_lr = StratifiedKFold(n_splits=5)\n",
        "grid_lr = { 'penalty' : ['l1', 'l2'],\n",
        "            'C' : [0.5, 1, 1.5],\n",
        "            'solver' : ['lbfgs','liblinear'],\n",
        "            'max_iter' : [2000, 2500, 3000]}\n",
        "model_lr = LogisticRegression()\n",
        "\n",
        "cv_lr = GridSearchCV(model_lr, param_grid=grid_lr, cv=fold_lr)\n",
        "cv_lr.fit(X, y)\n",
        "print('LogisticRegression\\'s best score is {:.3f}'.format(cv_lr.best_score_))\n",
        "print(f\"LogisticRegression\\'s best params {cv_lr.best_params_}\")"
      ]
    },
    {
      "cell_type": "code",
      "execution_count": 12,
      "id": "RaHTkkSaLHu7",
      "metadata": {
        "colab": {
          "base_uri": "https://localhost:8080/"
        },
        "id": "RaHTkkSaLHu7",
        "outputId": "ce9eb817-9a25-4669-f4e2-4e0c5173245c"
      },
      "outputs": [
        {
          "name": "stdout",
          "output_type": "stream",
          "text": [
            "knn의 정확도가 0.99가 나와서 가장 높은 정확도를 보였고 그 다음으로 결정트리의 정확도가 0.98로 높았으며, svm이 세 모델 중에서 성능은 가장 낮은 것으로 확인되었다.\n",
            "따라서 knn모델이 가장 높은 정확도를 가지고 있으므로 가장 좋은 모델이라고 판단할 수 있다.\n"
          ]
        }
      ],
      "source": [
        "print('knn의 정확도가 0.99가 나와서 가장 높은 정확도를 보였고 그 다음으로 결정트리의 정확도가 0.98로 높았으며, svm이 세 모델 중에서 성능은 가장 낮은 것으로 확인되었다.')\n",
        "print('따라서 knn모델이 가장 높은 정확도를 가지고 있으므로 가장 좋은 모델이라고 판단할 수 있다.')"
      ]
    },
    {
      "cell_type": "markdown",
      "id": "660d2818",
      "metadata": {
        "id": "660d2818"
      },
      "source": [
        "## 2-2 2-1에서 사용한 모델 중 하나를 골라 그리드 서치를 통해서 파라미터 튜닝 및 분류 모델 성능 평가 (precision ,recall)"
      ]
    },
    {
      "cell_type": "code",
      "execution_count": 77,
      "id": "SdRLiK5YLz9a",
      "metadata": {
        "colab": {
          "base_uri": "https://localhost:8080/"
        },
        "id": "SdRLiK5YLz9a",
        "outputId": "1f717c9b-069f-4626-eaf6-c47277bafb35"
      },
      "outputs": [
        {
          "name": "stdout",
          "output_type": "stream",
          "text": [
            "DecisionTreeClassifiers best score is 0.971\n",
            "DecisionTreeClassifier''s best params {'max_depth': 20, 'max_features': 'sqrt', 'min_samples_leaf': 1, 'min_samples_split': 2}\n",
            "Final score is 0.984\n",
            "              precision    recall  f1-score   support\n",
            "\n",
            "           1       0.99      0.98      0.98        83\n",
            "           2       0.96      0.99      0.97        93\n",
            "           3       1.00      0.97      0.98        61\n",
            "           4       1.00      1.00      1.00        79\n",
            "\n",
            "    accuracy                           0.98       316\n",
            "   macro avg       0.99      0.98      0.98       316\n",
            "weighted avg       0.98      0.98      0.98       316\n",
            "\n",
            "\n",
            "전체적인 성능(Accuracy)는 0.977로 매우 높게 나왔다.\n",
            "      각 클래별 정밀도를 보면 3번, 즉 obesity_type_ii으로 에측한 경우 맞는 확률이 가장 낮은 편이다. \n",
            "      각 클래별 재현율을 보면 4번, 즉 obesity_type_iii의 경우 예측 성능이 가장 떨어지는 것으로 나타난다. \n",
            "      즉 obesity_type_iii에 해당하는 데이터에 대해 오답율이 높았다고 할 수 있다.\n",
            "      \n"
          ]
        },
        {
          "name": "stderr",
          "output_type": "stream",
          "text": [
            "c:\\Users\\krkim1\\AppData\\Local\\Programs\\Python\\Python310\\lib\\site-packages\\sklearn\\model_selection\\_validation.py:528: FitFailedWarning: \n",
            "135 fits failed out of a total of 270.\n",
            "The score on these train-test partitions for these parameters will be set to nan.\n",
            "If these failures are not expected, you can try to debug them by setting error_score='raise'.\n",
            "\n",
            "Below are more details about the failures:\n",
            "--------------------------------------------------------------------------------\n",
            "135 fits failed with the following error:\n",
            "Traceback (most recent call last):\n",
            "  File \"c:\\Users\\krkim1\\AppData\\Local\\Programs\\Python\\Python310\\lib\\site-packages\\sklearn\\model_selection\\_validation.py\", line 866, in _fit_and_score\n",
            "    estimator.fit(X_train, y_train, **fit_params)\n",
            "  File \"c:\\Users\\krkim1\\AppData\\Local\\Programs\\Python\\Python310\\lib\\site-packages\\sklearn\\base.py\", line 1382, in wrapper\n",
            "    estimator._validate_params()\n",
            "  File \"c:\\Users\\krkim1\\AppData\\Local\\Programs\\Python\\Python310\\lib\\site-packages\\sklearn\\base.py\", line 436, in _validate_params\n",
            "    validate_parameter_constraints(\n",
            "  File \"c:\\Users\\krkim1\\AppData\\Local\\Programs\\Python\\Python310\\lib\\site-packages\\sklearn\\utils\\_param_validation.py\", line 98, in validate_parameter_constraints\n",
            "    raise InvalidParameterError(\n",
            "sklearn.utils._param_validation.InvalidParameterError: The 'max_features' parameter of DecisionTreeClassifier must be an int in the range [1, inf), a float in the range (0.0, 1.0], a str among {'log2', 'sqrt'} or None. Got 'auto' instead.\n",
            "\n",
            "  warnings.warn(some_fits_failed_message, FitFailedWarning)\n",
            "c:\\Users\\krkim1\\AppData\\Local\\Programs\\Python\\Python310\\lib\\site-packages\\sklearn\\model_selection\\_search.py:1108: UserWarning: One or more of the test scores are non-finite: [       nan        nan        nan        nan        nan        nan\n",
            "        nan        nan        nan 0.89384215 0.84309241 0.87320095\n",
            " 0.85338164 0.88194366 0.82017379 0.88433402 0.8827028  0.82036201\n",
            "        nan        nan        nan        nan        nan        nan\n",
            "        nan        nan        nan 0.96672313 0.95326244 0.94217956\n",
            " 0.93903633 0.95402786 0.9588525  0.87813539 0.94143924 0.95884623\n",
            "        nan        nan        nan        nan        nan        nan\n",
            "        nan        nan        nan 0.97069766 0.95486856 0.96437041\n",
            " 0.9635548  0.95490307 0.95882427 0.92236652 0.9453573  0.94852249]\n",
            "  warnings.warn(\n"
          ]
        }
      ],
      "source": [
        "from sklearn.metrics import classification_report\n",
        "\n",
        "fold_dt = StratifiedKFold(n_splits=5)\n",
        "grid_dt = {     'max_features': ['auto', 'sqrt'],\n",
        "                'max_depth': [5, 10, 20],\n",
        "                'min_samples_split': [2, 5, 10],\n",
        "                'min_samples_leaf': [1, 2, 4]}\n",
        "model_dt = DecisionTreeClassifier()\n",
        "\n",
        "cv_dt = GridSearchCV(model_dt, param_grid=grid_dt, cv=fold_dt)\n",
        "cv_dt.fit(X, y)\n",
        "\n",
        "print('DecisionTreeClassifier''s best score is {:.3f}'.format(cv_dt.best_score_))\n",
        "print(f\"DecisionTreeClassifier''s best params {cv_dt.best_params_}\")\n",
        "\n",
        "model_dt2 = DecisionTreeClassifier(max_depth=20, max_features='sqrt', min_samples_leaf=1, min_samples_split=2)\n",
        "model_dt2.fit(X_train, y_train)\n",
        "score_dt2 = model_dt2.score(X_test, y_test)\n",
        "print('Final score is {:.3f}'.format(score_dt2))\n",
        "\n",
        "print(classification_report(y_test, model_dt2.predict(X_test)))\n",
        "\n",
        "y = data.NObeyesdad.map({'obesity_type_i':2, 'obesity_type_ii':3, 'obesity_type_iii':4, 'overweight_level_i':1})    \n",
        "\n",
        "print('''\n",
        "전체적인 성능(Accuracy)는 0.977로 매우 높게 나왔다.\n",
        "      각 클래별 정밀도를 보면 3번, 즉 obesity_type_ii으로 에측한 경우 맞는 확률이 가장 낮은 편이다. \n",
        "      각 클래별 재현율을 보면 4번, 즉 obesity_type_iii의 경우 예측 성능이 가장 떨어지는 것으로 나타난다. \n",
        "      즉 obesity_type_iii에 해당하는 데이터에 대해 오답율이 높았다고 할 수 있다.\n",
        "      ''')\n"
      ]
    },
    {
      "cell_type": "markdown",
      "id": "26ec3f77",
      "metadata": {
        "id": "26ec3f77"
      },
      "source": [
        "## 2-3 2-1의 3가지 모델을 soft voting을 이용하여 모델링 한 결과와 2-2과 비교하라"
      ]
    },
    {
      "cell_type": "code",
      "execution_count": 78,
      "id": "ONfLXhucNa90",
      "metadata": {
        "colab": {
          "base_uri": "https://localhost:8080/"
        },
        "id": "ONfLXhucNa90",
        "outputId": "45205099-9161-4fff-eace-214414b3c6ec"
      },
      "outputs": [
        {
          "name": "stdout",
          "output_type": "stream",
          "text": [
            "앙상블(보팅) 정확도 : 0.9936708860759493\n"
          ]
        },
        {
          "name": "stderr",
          "output_type": "stream",
          "text": [
            "c:\\Users\\krkim1\\AppData\\Local\\Programs\\Python\\Python310\\lib\\site-packages\\sklearn\\linear_model\\_logistic.py:465: ConvergenceWarning: lbfgs failed to converge (status=1):\n",
            "STOP: TOTAL NO. OF ITERATIONS REACHED LIMIT.\n",
            "\n",
            "Increase the number of iterations (max_iter) or scale the data as shown in:\n",
            "    https://scikit-learn.org/stable/modules/preprocessing.html\n",
            "Please also refer to the documentation for alternative solver options:\n",
            "    https://scikit-learn.org/stable/modules/linear_model.html#logistic-regression\n",
            "  n_iter_i = _check_optimize_result(\n"
          ]
        }
      ],
      "source": [
        "from sklearn.ensemble import VotingClassifier\n",
        "\n",
        "model_svm = SVC(probability= True)\n",
        "ensemble_model = VotingClassifier(estimators = [('knn', model_knn), ('svm', model_svm), ('dt' , model_dt), ('lr' , model_lr)], voting = 'soft')\n",
        "\n",
        "ensemble_model.fit(X_train, y_train)\n",
        "y_pred = ensemble_model.predict(X_test)\n",
        "\n",
        "accuracy = accuracy_score(y_test, y_pred)\n",
        "print('앙상블(보팅) 정확도 :', accuracy)"
      ]
    },
    {
      "cell_type": "code",
      "execution_count": 15,
      "id": "3O3xiqwSORNR",
      "metadata": {
        "colab": {
          "base_uri": "https://localhost:8080/"
        },
        "id": "3O3xiqwSORNR",
        "outputId": "95f1a08c-93ed-482c-b624-f20dfee20f57"
      },
      "outputs": [
        {
          "name": "stdout",
          "output_type": "stream",
          "text": [
            "2-2의 모델과 소프트 보팅을 사용한 2-3의 결과물을 비교한 결과 2-2의 모델이 더 좋은 성능을 내는 것을 확인할 수 있다.\n"
          ]
        }
      ],
      "source": [
        "print('2-2의 모델과 소프트 보팅을 사용한 2-3의 결과물을 비교한 결과 2-2의 모델이 더 좋은 성능을 내는 것을 확인할 수 있다.')"
      ]
    },
    {
      "cell_type": "markdown",
      "id": "11a855de",
      "metadata": {
        "id": "11a855de"
      },
      "source": [
        "## 3-2 하나의 모델을 선정하여 Drop-Column Importance 방법으로 특성의 중요도(feature importance)를 산출하여 제시"
      ]
    },
    {
      "cell_type": "code",
      "execution_count": null,
      "id": "2862cc97",
      "metadata": {},
      "outputs": [],
      "source": [
        "print('''\n",
        "      Drop-Column Importance 방법은 하나의 Feature를 제거했을 때의 모델 성능이, 전체 특성을 모두 사용한 모델 대비 얼마나 떨어지는지 확인하는 과정을 사용한다.\n",
        "      이 과정에서 가장 많이 떨어지는 특성은 가장 중요한 특성이라고 판단할 수 있고, 가장 적게 떨어지는 특성은 가장 덜 중요한 특성이라고 판단할 수 있다.\n",
        "      ''')"
      ]
    },
    {
      "cell_type": "code",
      "execution_count": 46,
      "id": "cd0f968c",
      "metadata": {},
      "outputs": [
        {
          "name": "stdout",
          "output_type": "stream",
          "text": [
            "Base score is 0.994\n",
            "                                    drop_importance\n",
            "BMI                                        0.018987\n",
            "MTRANS_motorbike                           0.018987\n",
            "CAEC_frequently                            0.015823\n",
            "CH2O_less than a liter                     0.012658\n",
            "NCP                                        0.012658\n",
            "MTRANS_bike                                0.012658\n",
            "FCVC_sometimes                             0.012658\n",
            "CAEC_no                                    0.009494\n",
            "MTRANS_public_transportation               0.009494\n",
            "FAF_4 to 5                                 0.009494\n",
            "SMOKE_yes                                  0.009494\n",
            "Age                                        0.009494\n",
            "family_history_with_overweight_yes         0.009494\n",
            "Height                                     0.006329\n",
            "CH2O_more than 2 l                         0.006329\n",
            "CAEC_sometimes                             0.003165\n",
            "Weight                                     0.003165\n",
            "Gender_male                                0.003165\n",
            "FAT                                        0.003165\n",
            "SCC_yes                                    0.003165\n",
            "FCVC_never                                 0.000000\n",
            "TUE_>5                                     0.000000\n",
            "CALC_no                                    0.000000\n",
            "FAF_2 to 4                                 0.000000\n",
            "FAF_1 to 2                                 0.000000\n",
            "MTRANS_walking                             0.000000\n",
            "TUE_3 to 5                                 0.000000\n",
            "FAVC_yes                                  -0.003165\n",
            "CALC_sometimes                            -0.006329\n",
            "\n",
            "      위 표에 나타난 바와 같이 CAEC_no, Weight, MTRANCE_walking 등은 학습 시 제외시키면 성능의 차이가 크게 발생하는, 중요한 특성이다.\n",
            "      반면, MTRANS_bike, FAF_2 to 4, NCP 등은 학습 성능을 떨어뜨리거나, 학습 성능에 영향을 주지 못하는 중요하지 않은 특성으로 밝혀졌다.\n",
            "      \n"
          ]
        }
      ],
      "source": [
        "from sklearn.svm import SVC\n",
        "from sklearn.model_selection import train_test_split\n",
        "\n",
        "tempFAF = data.FAF.map({'0':1, '1 to 2':2, '2 to 4':3, '4 to 5':4});\n",
        "tempTUE = data.TUE.map({'0 to 2':1, '3 to 5':2, '>5':3})\n",
        "data['FAT'] = tempTUE / tempFAF\n",
        "X['FAT'] = data.FAT\n",
        "\n",
        "X_train, X_test, y_train, y_test = train_test_split(X, y, random_state=11)\n",
        "\n",
        "model = SVC(C=10, kernel='linear', gamma=0.1)\n",
        "model.fit(X_train, y_train)\n",
        "score_base = model.score(X_test, y_test)\n",
        "print('Base score is {:.3f}'.format(score_base))\n",
        "\n",
        "columns = X.columns\n",
        "drop_df = pd.DataFrame({'drop_importance':[]})\n",
        "\n",
        "for col in columns:\n",
        "    X2= X.drop(col, axis=1)\n",
        "    X_train, X_test, y_train, y_test = train_test_split(X2, y)\n",
        "    model = SVC(C=10, kernel='linear', gamma=0.1)\n",
        "    model.fit(X_train,y_train)\n",
        "    score_drop = model.score(X_test, y_test)\n",
        "    drop_df.loc[col] = score_base - score_drop\n",
        "\n",
        "drop_df.sort_values(by='drop_importance', ascending=False, inplace=True)\n",
        "print(drop_df)\n",
        "\n",
        "print(\"\"\"\n",
        "      위 표에 나타난 바와 같이 CAEC_no, Weight, MTRANCE_walking 등은 학습 시 제외시키면 성능의 차이가 크게 발생하는, 중요한 특성이다.\n",
        "      반면, MTRANS_bike, FAF_2 to 4, NCP 등은 학습 성능을 떨어뜨리거나, 학습 성능에 영향을 주지 못하는 중요하지 않은 특성으로 밝혀졌다.\n",
        "      \"\"\")\n"
      ]
    },
    {
      "cell_type": "markdown",
      "id": "bf0b1e49",
      "metadata": {
        "id": "bf0b1e49"
      },
      "source": [
        "## 데이터 설명\n",
        "- 데이터 출처 : 자체제작\n",
        "- 데이터 링크 : https://raw.githubusercontent.com/Datamanim/datarepo/main/adp/31/adp_31_2_v2.csv\n",
        "- 데이터 설명 : 중고등학생 건강검진 데이터"
      ]
    },
    {
      "cell_type": "markdown",
      "id": "4e4fe7ae",
      "metadata": {
        "id": "4e4fe7ae"
      },
      "source": [
        "## 4-1 아래의 기준으로 전처리를 하여 적정 체중 여부 컬럼을 생성하고 적정 체중여부에 대한 빈도 표를 만들어라\n",
        "\n",
        "> bmi 계산\n",
        "    - Bmi = 몸무게(kg)/(키(m)**2)   \n",
        "\n",
        "> 만나이 구하기\n",
        "    - 건강검진을 받았던 날을 기준으로 생년월일과 일수 차이가 16년 364일 이하인 경우 만 16세 그 이상의 경우 만 17로 분류하라\n",
        "    - 윤년 등은 고려하지 않는다. 햇수로 16년 + 일수로 364일이 기준이다\n",
        "\n",
        "\n",
        "> 적정 체중 여부 (BMI가 아래 구간에 들어올 경우)     \n",
        "    17세 남자 : 21.03이상 23.21 미만   \n",
        "    17세 여자 : 20.03이상 22.39 미만    \n",
        "    16세 남자 : 21.18이상 23.45 미만   \n",
        "    16세 여자 : 19.61이상 21.74 미만       "
      ]
    },
    {
      "cell_type": "code",
      "execution_count": 53,
      "id": "9yCY5KEMX71R",
      "metadata": {
        "colab": {
          "base_uri": "https://localhost:8080/",
          "height": 206
        },
        "id": "9yCY5KEMX71R",
        "outputId": "4035a1b7-6010-45a4-9601-fb71c57e2deb"
      },
      "outputs": [
        {
          "data": {
            "text/html": [
              "<div>\n",
              "<style scoped>\n",
              "    .dataframe tbody tr th:only-of-type {\n",
              "        vertical-align: middle;\n",
              "    }\n",
              "\n",
              "    .dataframe tbody tr th {\n",
              "        vertical-align: top;\n",
              "    }\n",
              "\n",
              "    .dataframe thead th {\n",
              "        text-align: right;\n",
              "    }\n",
              "</style>\n",
              "<table border=\"1\" class=\"dataframe\">\n",
              "  <thead>\n",
              "    <tr style=\"text-align: right;\">\n",
              "      <th></th>\n",
              "      <th>ID</th>\n",
              "      <th>키</th>\n",
              "      <th>weight</th>\n",
              "      <th>생년월일</th>\n",
              "      <th>건강검진일</th>\n",
              "      <th>공학여부</th>\n",
              "      <th>채소섭취정도</th>\n",
              "      <th>아침식사여부</th>\n",
              "      <th>일주일운동시간</th>\n",
              "      <th>수면시간</th>\n",
              "      <th>성별</th>\n",
              "    </tr>\n",
              "  </thead>\n",
              "  <tbody>\n",
              "    <tr>\n",
              "      <th>0</th>\n",
              "      <td>ID_4135</td>\n",
              "      <td>169.01</td>\n",
              "      <td>65.47</td>\n",
              "      <td>20041003</td>\n",
              "      <td>2020_11_15</td>\n",
              "      <td>1</td>\n",
              "      <td>2</td>\n",
              "      <td>1</td>\n",
              "      <td>4.4</td>\n",
              "      <td>8.3</td>\n",
              "      <td>남성</td>\n",
              "    </tr>\n",
              "    <tr>\n",
              "      <th>1</th>\n",
              "      <td>ID_3289</td>\n",
              "      <td>181.62</td>\n",
              "      <td>69.36</td>\n",
              "      <td>19970725</td>\n",
              "      <td>2014_11_20</td>\n",
              "      <td>0</td>\n",
              "      <td>3</td>\n",
              "      <td>0</td>\n",
              "      <td>4.4</td>\n",
              "      <td>6.9</td>\n",
              "      <td>남성</td>\n",
              "    </tr>\n",
              "    <tr>\n",
              "      <th>2</th>\n",
              "      <td>ID_1847</td>\n",
              "      <td>160.89</td>\n",
              "      <td>65.12</td>\n",
              "      <td>20020921</td>\n",
              "      <td>2020_01_28</td>\n",
              "      <td>1</td>\n",
              "      <td>1</td>\n",
              "      <td>1</td>\n",
              "      <td>1.7</td>\n",
              "      <td>9.6</td>\n",
              "      <td>여성</td>\n",
              "    </tr>\n",
              "    <tr>\n",
              "      <th>3</th>\n",
              "      <td>ID_4785</td>\n",
              "      <td>162.21</td>\n",
              "      <td>62.28</td>\n",
              "      <td>20020106</td>\n",
              "      <td>2018_09_27</td>\n",
              "      <td>1</td>\n",
              "      <td>4</td>\n",
              "      <td>0</td>\n",
              "      <td>5.1</td>\n",
              "      <td>6.8</td>\n",
              "      <td>남성</td>\n",
              "    </tr>\n",
              "    <tr>\n",
              "      <th>4</th>\n",
              "      <td>ID_5693</td>\n",
              "      <td>159.13</td>\n",
              "      <td>54.11</td>\n",
              "      <td>19980708</td>\n",
              "      <td>2015_03_03</td>\n",
              "      <td>0</td>\n",
              "      <td>4</td>\n",
              "      <td>1</td>\n",
              "      <td>0.3</td>\n",
              "      <td>8.5</td>\n",
              "      <td>여성</td>\n",
              "    </tr>\n",
              "  </tbody>\n",
              "</table>\n",
              "</div>"
            ],
            "text/plain": [
              "        ID       키  weight      생년월일       건강검진일  공학여부  채소섭취정도  아침식사여부  \\\n",
              "0  ID_4135  169.01   65.47  20041003  2020_11_15     1       2       1   \n",
              "1  ID_3289  181.62   69.36  19970725  2014_11_20     0       3       0   \n",
              "2  ID_1847  160.89   65.12  20020921  2020_01_28     1       1       1   \n",
              "3  ID_4785  162.21   62.28  20020106  2018_09_27     1       4       0   \n",
              "4  ID_5693  159.13   54.11  19980708  2015_03_03     0       4       1   \n",
              "\n",
              "   일주일운동시간  수면시간  성별  \n",
              "0      4.4   8.3  남성  \n",
              "1      4.4   6.9  남성  \n",
              "2      1.7   9.6  여성  \n",
              "3      5.1   6.8  남성  \n",
              "4      0.3   8.5  여성  "
            ]
          },
          "execution_count": 53,
          "metadata": {},
          "output_type": "execute_result"
        }
      ],
      "source": [
        "import pandas as pd\n",
        "df = pd.read_csv('https://raw.githubusercontent.com/Datamanim/datarepo/main/adp/31/adp_31_2_v2.csv')\n",
        "df.head()"
      ]
    },
    {
      "cell_type": "code",
      "execution_count": 96,
      "id": "357263b8",
      "metadata": {},
      "outputs": [
        {
          "name": "stderr",
          "output_type": "stream",
          "text": [
            "C:\\Users\\krkim1\\AppData\\Local\\Temp\\ipykernel_28924\\2088952836.py:20: FutureWarning: Downcasting object dtype arrays on .fillna, .ffill, .bfill is deprecated and will change in a future version. Call result.infer_objects(copy=False) instead. To opt-in to the future behavior, set `pd.set_option('future.no_silent_downcasting', True)`\n",
            "  data.적정체중 = data.적정체중.fillna(False)\n"
          ]
        }
      ],
      "source": [
        "data = df.copy()\n",
        "\n",
        "# 우선 BMI열을 추가하자\n",
        "data['BMI'] = data.weight / ((data.키/100)**2)\n",
        "\n",
        "# 만나이를 구하자.\n",
        "import datetime as dt\n",
        "data['생년월일_dt'] = data.생년월일.astype('string').astype('datetime64[ns]')\n",
        "data['건강검진일_dt'] = data.건강검진일.apply(lambda x: dt.datetime.strptime(x, '%Y_%m_%d'))\n",
        "\n",
        "full_age = dt.timedelta(days=365*16+364)\n",
        "data['adult'] = (data['건강검진일_dt'] - data['생년월일_dt']).dt.days > 365*16+364\n",
        "\n",
        "# 적정 체중 여부를 구하자.\n",
        "data.loc[(data.adult == True) & (data.성별 == '남성') & (data.BMI >= 21.03) & (data.BMI < 23.21), '적정체중' ] = True\n",
        "data.loc[(data.adult == True) & (data.성별 == '여성') & (data.BMI >= 20.03) & (data.BMI < 22.39), '적정체중' ] = True\n",
        "data.loc[(data.adult == True) & (data.성별 == '남성') & (data.BMI >= 21.18) & (data.BMI < 23.45), '적정체중' ] = True\n",
        "data.loc[(data.adult == True) & (data.성별 == '여성') & (data.BMI >= 19.61) & (data.BMI < 21.74), '적정체중' ] = True\n",
        "\n",
        "data.적정체중 = data.적정체중.fillna(False)\n"
      ]
    },
    {
      "cell_type": "markdown",
      "id": "e4725c76",
      "metadata": {
        "id": "e4725c76"
      },
      "source": [
        "## 4-2 4-1에서 구한 적정 체중 여부와 나머지 컬럼(공학여부, 아침식사여부, 일주일운동시간, 채소섭취정도, 수면시간, 성별) 이 독립적인지 통계적으로 확인하라"
      ]
    },
    {
      "cell_type": "code",
      "execution_count": 101,
      "id": "b7c5078e",
      "metadata": {},
      "outputs": [
        {
          "name": "stdout",
          "output_type": "stream",
          "text": [
            "      검정대상     chi2통계량      유의확률\n",
            "0     공학여부    1.008623  0.315233\n",
            "1   아침식사여부    0.784314  0.375825\n",
            "2  일주일운동시간  120.633387  0.068846\n",
            "3   채소섭취정도   11.278629  0.023605\n",
            "4     수면시간   56.629862  0.211685\n",
            "5       성별    4.252902  0.039183\n",
            "\n",
            "5% 유의수준에서 채소섭취정도와 성별은 적정체중과 독립적이지 않다.\n",
            "\n"
          ]
        }
      ],
      "source": [
        "# 이 문제는 명목척도를 갖는 2개 이상 독립표본에 대한 가설검정이며, 이 경우 독립성 검정을 시행한다.\n",
        "# 테이블의 구성은 아래와 같다. 이 같은 테이블을 구성하기 위해 crosstab을 활용한다.\n",
        "#           공학여부Y   공학여부N\n",
        "# 적정체중Y\n",
        "# 적정체중N \n",
        "\n",
        "from scipy.stats import chi2_contingency\n",
        "\n",
        "cols = ['공학여부', '아침식사여부', '일주일운동시간', '채소섭취정도', '수면시간', '성별']\n",
        "\n",
        "result = []\n",
        "\n",
        "for col in cols:\n",
        "    cont_table = pd.crosstab(data[col], data.적정체중)\n",
        "    chi2, p, _ , _ = chi2_contingency(cont_table)\n",
        "    result.append((col, chi2, p))\n",
        "\n",
        "result = pd.DataFrame(result, columns=['검정대상', 'chi2통계량', '유의확률'])\n",
        "print(result)\n",
        "\n",
        "print('''\n",
        "5% 유의수준에서 채소섭취정도와 성별은 적정체중과 독립적이지 않다.\n",
        "''')"
      ]
    },
    {
      "cell_type": "code",
      "execution_count": 25,
      "id": "TZxSF0m5aslO",
      "metadata": {
        "colab": {
          "base_uri": "https://localhost:8080/",
          "height": 237
        },
        "id": "TZxSF0m5aslO",
        "outputId": "a9826902-ee09-4db0-bcdf-318cb63661df"
      },
      "outputs": [
        {
          "data": {
            "text/html": [
              "<div>\n",
              "<style scoped>\n",
              "    .dataframe tbody tr th:only-of-type {\n",
              "        vertical-align: middle;\n",
              "    }\n",
              "\n",
              "    .dataframe tbody tr th {\n",
              "        vertical-align: top;\n",
              "    }\n",
              "\n",
              "    .dataframe thead th {\n",
              "        text-align: right;\n",
              "    }\n",
              "</style>\n",
              "<table border=\"1\" class=\"dataframe\">\n",
              "  <thead>\n",
              "    <tr style=\"text-align: right;\">\n",
              "      <th></th>\n",
              "      <th>chi</th>\n",
              "      <th>p_value</th>\n",
              "    </tr>\n",
              "  </thead>\n",
              "  <tbody>\n",
              "    <tr>\n",
              "      <th>공학여부</th>\n",
              "      <td>4.542368</td>\n",
              "      <td>0.033066</td>\n",
              "    </tr>\n",
              "    <tr>\n",
              "      <th>아침식사여부</th>\n",
              "      <td>0.152151</td>\n",
              "      <td>0.696488</td>\n",
              "    </tr>\n",
              "    <tr>\n",
              "      <th>일주일운동시간</th>\n",
              "      <td>115.745222</td>\n",
              "      <td>0.119871</td>\n",
              "    </tr>\n",
              "    <tr>\n",
              "      <th>채소섭취정도</th>\n",
              "      <td>10.143194</td>\n",
              "      <td>0.038083</td>\n",
              "    </tr>\n",
              "    <tr>\n",
              "      <th>수면시간</th>\n",
              "      <td>46.992431</td>\n",
              "      <td>0.554877</td>\n",
              "    </tr>\n",
              "    <tr>\n",
              "      <th>성별</th>\n",
              "      <td>0.002345</td>\n",
              "      <td>0.961379</td>\n",
              "    </tr>\n",
              "  </tbody>\n",
              "</table>\n",
              "</div>"
            ],
            "text/plain": [
              "                chi   p_value\n",
              "공학여부       4.542368  0.033066\n",
              "아침식사여부     0.152151  0.696488\n",
              "일주일운동시간  115.745222  0.119871\n",
              "채소섭취정도    10.143194  0.038083\n",
              "수면시간      46.992431  0.554877\n",
              "성별         0.002345  0.961379"
            ]
          },
          "execution_count": 25,
          "metadata": {},
          "output_type": "execute_result"
        }
      ],
      "source": [
        "from scipy.stats import chi2_contingency\n",
        "\n",
        "columns_to_test = ['공학여부','아침식사여부','일주일운동시간','채소섭취정도','수면시간','성별']\n",
        "\n",
        "result = []\n",
        "for column in columns_to_test:\n",
        "  contingency_table = pd.crosstab(df['적정체중여부'], df[column])\n",
        "  chi2, p, _, _ = chi2_contingency(contingency_table)\n",
        "  result.append([chi2,p])\n",
        "\n",
        "result_df = pd.DataFrame(result, columns = ['chi','p_value'], index = columns_to_test)\n",
        "result_df"
      ]
    },
    {
      "cell_type": "code",
      "execution_count": 26,
      "id": "pT04CrwCcD41",
      "metadata": {
        "colab": {
          "base_uri": "https://localhost:8080/"
        },
        "id": "pT04CrwCcD41",
        "outputId": "ec79d29d-b0b0-4da3-93b0-e1363f3612ad"
      },
      "outputs": [
        {
          "name": "stdout",
          "output_type": "stream",
          "text": [
            "\n",
            "검정 결과 p-value값이 0.05이상이면 해당 변수는 적정체중여부와 독립적이고\n",
            "0.05이하이면 독립적이지 않다고 판단할 수 있다.\n",
            "\n",
            "따라서 결과를 확인해보면 공학여부, 채소섭취정도는 독립적이지 않은 변수이며\n",
            "나머지 컬럼, 즉 아침식사여부, 일주일운동시간, 수면시간, 성별은 적정 체중여부와 독립적인 것을 확인할 수 있었다.\n",
            "    \n"
          ]
        }
      ],
      "source": [
        "print('''\n",
        "검정 결과 p-value값이 0.05이상이면 해당 변수는 적정체중여부와 독립적이고\n",
        "0.05이하이면 독립적이지 않다고 판단할 수 있다.\n",
        "\n",
        "따라서 결과를 확인해보면 공학여부, 채소섭취정도는 독립적이지 않은 변수이며\n",
        "나머지 컬럼, 즉 아침식사여부, 일주일운동시간, 수면시간, 성별은 적정 체중여부와 독립적인 것을 확인할 수 있었다.\n",
        "    '''\n",
        ")"
      ]
    },
    {
      "cell_type": "markdown",
      "id": "8979641c",
      "metadata": {
        "id": "8979641c"
      },
      "source": [
        "## 4-3 4-2에서 유의한 변수들만 가지고 적정 체중 여부를 예측하는 모델을 구현하고 성능 평가 및 해석을 하라 (로지스틱회귀 ,xgb)\n",
        "> 로지스틱회귀 모델은 오즈비를 구하라\n",
        "> xgb의 경우 각 피쳐중요도를 확인하고 예측에 영향을 가장 미치는 변수를 확인하라"
      ]
    },
    {
      "cell_type": "code",
      "execution_count": 27,
      "id": "OjU0lJrUdtg2",
      "metadata": {
        "colab": {
          "base_uri": "https://localhost:8080/"
        },
        "id": "OjU0lJrUdtg2",
        "outputId": "71ccc756-0131-496f-b75f-a4fc8440c57e"
      },
      "outputs": [
        {
          "ename": "ModuleNotFoundError",
          "evalue": "No module named 'xgboost'",
          "output_type": "error",
          "traceback": [
            "\u001b[1;31m---------------------------------------------------------------------------\u001b[0m",
            "\u001b[1;31mModuleNotFoundError\u001b[0m                       Traceback (most recent call last)",
            "Cell \u001b[1;32mIn[27], line 2\u001b[0m\n\u001b[0;32m      1\u001b[0m \u001b[38;5;28;01mfrom\u001b[39;00m\u001b[38;5;250m \u001b[39m\u001b[38;5;21;01msklearn\u001b[39;00m\u001b[38;5;21;01m.\u001b[39;00m\u001b[38;5;21;01mlinear_model\u001b[39;00m\u001b[38;5;250m \u001b[39m\u001b[38;5;28;01mimport\u001b[39;00m LogisticRegression\n\u001b[1;32m----> 2\u001b[0m \u001b[38;5;28;01mimport\u001b[39;00m\u001b[38;5;250m \u001b[39m\u001b[38;5;21;01mxgboost\u001b[39;00m\u001b[38;5;250m \u001b[39m\u001b[38;5;28;01mas\u001b[39;00m\u001b[38;5;250m \u001b[39m\u001b[38;5;21;01mxgb\u001b[39;00m\n\u001b[0;32m      3\u001b[0m \u001b[38;5;28;01mimport\u001b[39;00m\u001b[38;5;250m \u001b[39m\u001b[38;5;21;01mnumpy\u001b[39;00m\u001b[38;5;250m \u001b[39m\u001b[38;5;28;01mas\u001b[39;00m\u001b[38;5;250m \u001b[39m\u001b[38;5;21;01mnp\u001b[39;00m\n\u001b[0;32m      5\u001b[0m df\u001b[38;5;241m.\u001b[39mloc[df[\u001b[38;5;124m'\u001b[39m\u001b[38;5;124m적정체중여부\u001b[39m\u001b[38;5;124m'\u001b[39m] \u001b[38;5;241m==\u001b[39m \u001b[38;5;124m'\u001b[39m\u001b[38;5;124m적절\u001b[39m\u001b[38;5;124m'\u001b[39m, \u001b[38;5;124m'\u001b[39m\u001b[38;5;124m적정체중여부\u001b[39m\u001b[38;5;124m'\u001b[39m] \u001b[38;5;241m=\u001b[39m \u001b[38;5;241m1\u001b[39m\n",
            "\u001b[1;31mModuleNotFoundError\u001b[0m: No module named 'xgboost'"
          ]
        }
      ],
      "source": [
        "from sklearn.linear_model import LogisticRegression\n",
        "import xgboost as xgb\n",
        "import numpy as np\n",
        "\n",
        "df.loc[df['적정체중여부'] == '적절', '적정체중여부'] = 1\n",
        "df.loc[df['적정체중여부'] == '부적절', '적정체중여부'] = 0\n",
        "X = pd.get_dummies(df[['공학여부','채소섭취정도']])\n",
        "y = df['적정체중여부']\n",
        "y = y.astype(int)\n",
        "\n",
        "logistic_model = LogisticRegression()\n",
        "logistic_model.fit(X,y)\n",
        "\n",
        "xgboost_model = xgb.XGBClassifier()\n",
        "xgboost_model.fit(X,y)\n",
        "\n",
        "logistic_coefs = logistic_model.coef_[0]\n",
        "xgboost_importance = xgboost_model.feature_importances_\n",
        "\n",
        "print('로지스틱 모델 오즈비 : ', np.exp(logistic_coefs))\n",
        "print('xgboost 모델 피처 중요도 : ',xgboost_importance )"
      ]
    },
    {
      "cell_type": "code",
      "execution_count": null,
      "id": "jRxcD0Z6g8pj",
      "metadata": {
        "colab": {
          "base_uri": "https://localhost:8080/"
        },
        "id": "jRxcD0Z6g8pj",
        "outputId": "c753b8dc-da30-4b83-b720-ec3e8fc32c58"
      },
      "outputs": [
        {
          "name": "stdout",
          "output_type": "stream",
          "text": [
            "\n",
            "로지스틱 모델의 오즈비는 공학여부의 경우 1.11204771 , 채소섭취정도는 1.00557371로 측정되었고\n",
            "XGBoost 모델의 피처중요도는 공학여부의 경우 0.7267853, 채소섭취정도는 0.27321473가 나왔다.\n",
            "xgboost의 경우 예측에 가장 많이 영향을 미치는 컬럼은 공학여부로 확인할 수 있었다.\n",
            "\n"
          ]
        }
      ],
      "source": [
        "print('''\n",
        "로지스틱 모델의 오즈비는 공학여부의 경우 1.11204771 , 채소섭취정도는 1.00557371로 측정되었고\n",
        "XGBoost 모델의 피처중요도는 공학여부의 경우 0.7267853, 채소섭취정도는 0.27321473가 나왔다.\n",
        "xgboost의 경우 예측에 가장 많이 영향을 미치는 컬럼은 공학여부로 확인할 수 있었다.\n",
        "'''\n",
        ")"
      ]
    },
    {
      "cell_type": "markdown",
      "id": "d30b8589",
      "metadata": {
        "id": "d30b8589"
      },
      "source": [
        "## 4-4 4-3 두 모델의 roc-auc 그래프를 하나의 그래프에 겹쳐 그려라"
      ]
    },
    {
      "cell_type": "code",
      "execution_count": null,
      "id": "LMggABoGhecF",
      "metadata": {
        "colab": {
          "base_uri": "https://localhost:8080/",
          "height": 542
        },
        "id": "LMggABoGhecF",
        "outputId": "fc9fb94c-be75-4730-8059-41309f69c805"
      },
      "outputs": [
        {
          "data": {
            "image/png": "[encoded data removed]",
            "text/plain": [
              "<Figure size 800x600 with 1 Axes>"
            ]
          },
          "metadata": {},
          "output_type": "display_data"
        }
      ],
      "source": [
        "from sklearn.metrics import roc_auc_score, roc_curve\n",
        "import matplotlib.pyplot as plt\n",
        "\n",
        "y_logistic_prob = logistic_model.predict_proba(X)[:,1]\n",
        "fpr_logistic, tpr_logistic, _ = roc_curve(y,y_logistic_prob)\n",
        "roc_auc_logistic = roc_auc_score(y,y_logistic_prob)\n",
        "\n",
        "y_xgboost_prob = xgboost_model.predict_proba(X)[:,1]\n",
        "fpr_xgboost, tpr_xgboost, _ = roc_curve(y,y_xgboost_prob)\n",
        "roc_auc_xgboost = roc_auc_score(y,y_xgboost_prob)\n",
        "\n",
        "\n",
        "plt.figure(figsize = (8,6))\n",
        "plt.plot(fpr_logistic, tpr_logistic , label = f'Logistic (AUC = {roc_auc_logistic:.3f})')\n",
        "plt.plot(fpr_xgboost, tpr_xgboost , label = f'Xgboost (AUC = {roc_auc_xgboost:.3f})')\n",
        "plt.plot([0,1],[0,1], linestyle = '--')\n",
        "plt.xlabel('False positive Rate')\n",
        "plt.ylabel('True positive Rate')\n",
        "plt.legend(loc = 'lower right')\n",
        "plt.show()"
      ]
    },
    {
      "cell_type": "markdown",
      "id": "526e7015",
      "metadata": {
        "id": "526e7015"
      },
      "source": [
        "# 통계 (40점)"
      ]
    },
    {
      "cell_type": "markdown",
      "id": "9da92811",
      "metadata": {
        "id": "9da92811"
      },
      "source": [
        "## 5. 평균이 $\\theta$이고 분산이 100인 정규분포의 사전분포가 (100, 256)일때 120의 값을 가지는 데이터가 있을 경우 사후평균은? (5점)\n",
        "무게가 N($\\theta$, 100)인 정규분포에서, 사전분포는 N(100, 256)이다. 제품의 무게가 120kg일 때, 사후분포의 평균을 구하라 (단, 소수점 3째자리까지 구하라)"
      ]
    },
    {
      "cell_type": "code",
      "execution_count": null,
      "id": "KhEpoo9cFmLo",
      "metadata": {
        "colab": {
          "base_uri": "https://localhost:8080/"
        },
        "id": "KhEpoo9cFmLo",
        "outputId": "24c903e7-f450-43aa-a98f-a31f1c24e18d"
      },
      "outputs": [
        {
          "data": {
            "text/plain": [
              "114.382"
            ]
          },
          "execution_count": 12,
          "metadata": {},
          "output_type": "execute_result"
        }
      ],
      "source": [
        "mu_prior = 100\n",
        "sigma_prior_squared = 256\n",
        "\n",
        "sigma_data_squared = 100\n",
        "x_observed = 120\n",
        "\n",
        "mu_posterior = (sigma_data_squared * mu_prior + sigma_prior_squared * x_observed) / (sigma_data_squared + sigma_prior_squared)\n",
        "round(mu_posterior,3)"
      ]
    },
    {
      "cell_type": "markdown",
      "id": "46d0923d",
      "metadata": {
        "id": "46d0923d"
      },
      "source": [
        "## 데이터 설명\n",
        "- 데이터 출처 : https://www.kaggle.com/datasets/yasserh/advertising-sales-dataset 후처리\n",
        "- 데이터 링크 : https://raw.githubusercontent.com/Datamanim/datarepo/main/adp/31/adp_31_5_advertising.csv\n",
        "- 데이터 설명 : TV, Radio, Newspaper에 각각 광고비(달러)를 다르게 했을때 매출액 (Sales , 밀리언달러)를 나타내는 데이터\n",
        "- 종속변수 : Sales"
      ]
    },
    {
      "cell_type": "markdown",
      "id": "20f8b71f",
      "metadata": {
        "id": "20f8b71f"
      },
      "source": [
        "## 6-1 회귀 모델링 후 유의하지 않는변수 파악 (15점)"
      ]
    },
    {
      "cell_type": "code",
      "execution_count": null,
      "id": "hD6_OEDcGZQ2",
      "metadata": {
        "colab": {
          "base_uri": "https://localhost:8080/"
        },
        "id": "hD6_OEDcGZQ2",
        "outputId": "aaaf9d8f-f611-4fba-e828-ea933dc2e5c6"
      },
      "outputs": [
        {
          "name": "stdout",
          "output_type": "stream",
          "text": [
            "<class 'pandas.core.frame.DataFrame'>\n",
            "RangeIndex: 200 entries, 0 to 199\n",
            "Data columns (total 4 columns):\n",
            " #   Column     Non-Null Count  Dtype  \n",
            "---  ------     --------------  -----  \n",
            " 0   TV         200 non-null    float64\n",
            " 1   Radio      200 non-null    float64\n",
            " 2   Newspaper  200 non-null    float64\n",
            " 3   Sales      200 non-null    float64\n",
            "dtypes: float64(4)\n",
            "memory usage: 6.4 KB\n"
          ]
        }
      ],
      "source": [
        "import pandas as pd\n",
        "df = pd.read_csv('https://raw.githubusercontent.com/Datamanim/datarepo/main/adp/31/adp_31_5_advertising.csv')\n",
        "df.head()\n",
        "df.info()"
      ]
    },
    {
      "cell_type": "code",
      "execution_count": null,
      "id": "hfCEH0CpGpBM",
      "metadata": {
        "colab": {
          "base_uri": "https://localhost:8080/"
        },
        "id": "hfCEH0CpGpBM",
        "outputId": "75e26cf2-48b6-41e0-aa77-35615cc22c11"
      },
      "outputs": [
        {
          "name": "stdout",
          "output_type": "stream",
          "text": [
            "                            OLS Regression Results                            \n",
            "==============================================================================\n",
            "Dep. Variable:                  Sales   R-squared:                       0.903\n",
            "Model:                            OLS   Adj. R-squared:                  0.901\n",
            "Method:                 Least Squares   F-statistic:                     605.4\n",
            "Date:                Sun, 26 May 2024   Prob (F-statistic):           8.13e-99\n",
            "Time:                        13:37:07   Log-Likelihood:                -383.34\n",
            "No. Observations:                 200   AIC:                             774.7\n",
            "Df Residuals:                     196   BIC:                             787.9\n",
            "Df Model:                           3                                         \n",
            "Covariance Type:            nonrobust                                         \n",
            "==============================================================================\n",
            "                 coef    std err          t      P>|t|      [0.025      0.975]\n",
            "------------------------------------------------------------------------------\n",
            "const          4.6251      0.308     15.041      0.000       4.019       5.232\n",
            "TV             0.0544      0.001     39.592      0.000       0.052       0.057\n",
            "Radio          0.1070      0.008     12.604      0.000       0.090       0.124\n",
            "Newspaper      0.0003      0.006      0.058      0.954      -0.011       0.012\n",
            "==============================================================================\n",
            "Omnibus:                       16.081   Durbin-Watson:                   2.251\n",
            "Prob(Omnibus):                  0.000   Jarque-Bera (JB):               27.655\n",
            "Skew:                          -0.431   Prob(JB):                     9.88e-07\n",
            "Kurtosis:                       4.605   Cond. No.                         454.\n",
            "==============================================================================\n",
            "\n",
            "Notes:\n",
            "[1] Standard Errors assume that the covariance matrix of the errors is correctly specified.\n",
            "Newpaper 변수가 유의하지 않음\n"
          ]
        }
      ],
      "source": [
        "y = df['Sales']\n",
        "X = df[['TV','Radio','Newspaper']]\n",
        "\n",
        "import statsmodels.api as sm\n",
        "X = sm.add_constant(X)\n",
        "model = sm.OLS(y,X).fit()\n",
        "\n",
        "print(model.summary())\n",
        "print('Newpaper 변수가 유의하지 않음')"
      ]
    },
    {
      "cell_type": "markdown",
      "id": "a3a3f23b",
      "metadata": {
        "id": "a3a3f23b"
      },
      "source": [
        "## 6-2 변수 선택시 먼저 제거 될 변수 및 근거 제시"
      ]
    },
    {
      "cell_type": "code",
      "execution_count": null,
      "id": "ontqUgk8HsRb",
      "metadata": {
        "colab": {
          "base_uri": "https://localhost:8080/"
        },
        "id": "ontqUgk8HsRb",
        "outputId": "93a5a5aa-9441-4cb8-e2ac-5a6f03969379"
      },
      "outputs": [
        {
          "name": "stdout",
          "output_type": "stream",
          "text": [
            "\n",
            "pvalue 값이 0.05이하일 때 유의미한 변수로 진단할 수 있다\n",
            "현재 Newspaper를 제외한 나머지 변수들은 유의미한 것을 알 수 있고, 같은 이유로 Newspaper가 변수 선택시 먼저 제거해야함을 알 수 있습니다\n",
            "\n"
          ]
        }
      ],
      "source": [
        "print('''\n",
        "pvalue 값이 0.05이하일 때 유의미한 변수로 진단할 수 있다\n",
        "현재 Newspaper를 제외한 나머지 변수들은 유의미한 것을 알 수 있고, 같은 이유로 Newspaper가 변수 선택시 먼저 제거해야함을 알 수 있습니다\n",
        "''')"
      ]
    },
    {
      "cell_type": "markdown",
      "id": "b8167183",
      "metadata": {
        "id": "b8167183"
      },
      "source": [
        "## 6-3 VIF를 통한 다중공선성 진단"
      ]
    },
    {
      "cell_type": "code",
      "execution_count": null,
      "id": "tQZfW1EzIC_x",
      "metadata": {
        "colab": {
          "base_uri": "https://localhost:8080/"
        },
        "id": "tQZfW1EzIC_x",
        "outputId": "d09b39a8-3928-4668-ae20-1bfa0ce6ce69"
      },
      "outputs": [
        {
          "name": "stdout",
          "output_type": "stream",
          "text": [
            "          변수       VIF\n",
            "0      const  6.848900\n",
            "1         TV  1.004611\n",
            "2      Radio  1.144952\n",
            "3  Newspaper  1.145187\n",
            "일반적으로 VIF값이 10이 넘어가면 다중공선성 문제가 있다고 판단한다. 그런데 결과를 보면 모든 변수가 다중 공선성이 없는 것을 확인할 수 있다. \n"
          ]
        }
      ],
      "source": [
        "from statsmodels.stats.outliers_influence import variance_inflation_factor\n",
        "vif = pd.DataFrame()\n",
        "vif['변수']  = X.columns\n",
        "vif['VIF'] = [variance_inflation_factor(X.values, i) for i in range(X.shape[1])]\n",
        "\n",
        "print(vif)\n",
        "print('일반적으로 VIF값이 10이 넘어가면 다중공선성 문제가 있다고 판단한다. 그런데 결과를 보면 모든 변수가 다중 공선성이 없는 것을 확인할 수 있다. ')"
      ]
    },
    {
      "cell_type": "markdown",
      "id": "a481bc78",
      "metadata": {
        "id": "a481bc78"
      },
      "source": [
        "## 7 (15점)  \n",
        "- 데이터 링크 : https://raw.githubusercontent.com/Datamanim/datarepo/main/adp/31/adp_31_7.csv\n",
        "- 데이터 설명 : A,B,C,D,E 영업사원의 각 계약 성사 유무 (1:계약 , 0:미계약) 를 나타낸 데이터이다. 영업사원의 평균 계약 성사 건수는 같은지 통계 검정하라"
      ]
    },
    {
      "cell_type": "code",
      "execution_count": null,
      "id": "OYPxbn6LIv8a",
      "metadata": {
        "colab": {
          "base_uri": "https://localhost:8080/",
          "height": 206
        },
        "id": "OYPxbn6LIv8a",
        "outputId": "34f9436f-a571-4584-8e9f-cac6475df9a5"
      },
      "outputs": [
        {
          "data": {
            "application/vnd.google.colaboratory.intrinsic+json": {
              "summary": "{\n  \"name\": \"df\",\n  \"rows\": 12,\n  \"fields\": [\n    {\n      \"column\": \"Unnamed: 0\",\n      \"properties\": {\n        \"dtype\": \"string\",\n        \"num_unique_values\": 12,\n        \"samples\": [\n          \"contract_11\",\n          \"contract_10\",\n          \"contract_1\"\n        ],\n        \"semantic_type\": \"\",\n        \"description\": \"\"\n      }\n    },\n    {\n      \"column\": \"A\",\n      \"properties\": {\n        \"dtype\": \"number\",\n        \"std\": 0,\n        \"min\": 0,\n        \"max\": 1,\n        \"num_unique_values\": 2,\n        \"samples\": [\n          0,\n          1\n        ],\n        \"semantic_type\": \"\",\n        \"description\": \"\"\n      }\n    },\n    {\n      \"column\": \"B\",\n      \"properties\": {\n        \"dtype\": \"number\",\n        \"std\": 0,\n        \"min\": 0,\n        \"max\": 1,\n        \"num_unique_values\": 2,\n        \"samples\": [\n          1,\n          0\n        ],\n        \"semantic_type\": \"\",\n        \"description\": \"\"\n      }\n    },\n    {\n      \"column\": \"C\",\n      \"properties\": {\n        \"dtype\": \"number\",\n        \"std\": 0,\n        \"min\": 0,\n        \"max\": 1,\n        \"num_unique_values\": 2,\n        \"samples\": [\n          0,\n          1\n        ],\n        \"semantic_type\": \"\",\n        \"description\": \"\"\n      }\n    },\n    {\n      \"column\": \"D\",\n      \"properties\": {\n        \"dtype\": \"number\",\n        \"std\": 0,\n        \"min\": 0,\n        \"max\": 1,\n        \"num_unique_values\": 2,\n        \"samples\": [\n          0,\n          1\n        ],\n        \"semantic_type\": \"\",\n        \"description\": \"\"\n      }\n    },\n    {\n      \"column\": \"E\",\n      \"properties\": {\n        \"dtype\": \"number\",\n        \"std\": 0,\n        \"min\": 0,\n        \"max\": 1,\n        \"num_unique_values\": 2,\n        \"samples\": [\n          0,\n          1\n        ],\n        \"semantic_type\": \"\",\n        \"description\": \"\"\n      }\n    }\n  ]\n}",
              "type": "dataframe",
              "variable_name": "df"
            },
            "text/html": [
              "\n",
              "  <div id=\"df-575ed9ea-df4d-43b5-b297-e4ed2d3ae6af\" class=\"colab-df-container\">\n",
              "    <div>\n",
              "<style scoped>\n",
              "    .dataframe tbody tr th:only-of-type {\n",
              "        vertical-align: middle;\n",
              "    }\n",
              "\n",
              "    .dataframe tbody tr th {\n",
              "        vertical-align: top;\n",
              "    }\n",
              "\n",
              "    .dataframe thead th {\n",
              "        text-align: right;\n",
              "    }\n",
              "</style>\n",
              "<table border=\"1\" class=\"dataframe\">\n",
              "  <thead>\n",
              "    <tr style=\"text-align: right;\">\n",
              "      <th></th>\n",
              "      <th>Unnamed: 0</th>\n",
              "      <th>A</th>\n",
              "      <th>B</th>\n",
              "      <th>C</th>\n",
              "      <th>D</th>\n",
              "      <th>E</th>\n",
              "    </tr>\n",
              "  </thead>\n",
              "  <tbody>\n",
              "    <tr>\n",
              "      <th>0</th>\n",
              "      <td>contract_1</td>\n",
              "      <td>1</td>\n",
              "      <td>0</td>\n",
              "      <td>1</td>\n",
              "      <td>1</td>\n",
              "      <td>1</td>\n",
              "    </tr>\n",
              "    <tr>\n",
              "      <th>1</th>\n",
              "      <td>contract_2</td>\n",
              "      <td>0</td>\n",
              "      <td>1</td>\n",
              "      <td>0</td>\n",
              "      <td>1</td>\n",
              "      <td>0</td>\n",
              "    </tr>\n",
              "    <tr>\n",
              "      <th>2</th>\n",
              "      <td>contract_3</td>\n",
              "      <td>1</td>\n",
              "      <td>0</td>\n",
              "      <td>0</td>\n",
              "      <td>0</td>\n",
              "      <td>0</td>\n",
              "    </tr>\n",
              "    <tr>\n",
              "      <th>3</th>\n",
              "      <td>contract_4</td>\n",
              "      <td>0</td>\n",
              "      <td>1</td>\n",
              "      <td>1</td>\n",
              "      <td>1</td>\n",
              "      <td>1</td>\n",
              "    </tr>\n",
              "    <tr>\n",
              "      <th>4</th>\n",
              "      <td>contract_5</td>\n",
              "      <td>0</td>\n",
              "      <td>1</td>\n",
              "      <td>0</td>\n",
              "      <td>1</td>\n",
              "      <td>0</td>\n",
              "    </tr>\n",
              "  </tbody>\n",
              "</table>\n",
              "</div>\n",
              "    <div class=\"colab-df-buttons\">\n",
              "\n",
              "  <div class=\"colab-df-container\">\n",
              "    <button class=\"colab-df-convert\" onclick=\"convertToInteractive('df-575ed9ea-df4d-43b5-b297-e4ed2d3ae6af')\"\n",
              "            title=\"Convert this dataframe to an interactive table.\"\n",
              "            style=\"display:none;\">\n",
              "\n",
              "  <svg xmlns=\"http://www.w3.org/2000/svg\" height=\"24px\" viewBox=\"0 -960 960 960\">\n",
              "    <path d=\"M120-120v-720h720v720H120Zm60-500h600v-160H180v160Zm220 220h160v-160H400v160Zm0 220h160v-160H400v160ZM180-400h160v-160H180v160Zm440 0h160v-160H620v160ZM180-180h160v-160H180v160Zm440 0h160v-160H620v160Z\"/>\n",
              "  </svg>\n",
              "    </button>\n",
              "\n",
              "  <style>\n",
              "    .colab-df-container {\n",
              "      display:flex;\n",
              "      gap: 12px;\n",
              "    }\n",
              "\n",
              "    .colab-df-convert {\n",
              "      background-color: #E8F0FE;\n",
              "      border: none;\n",
              "      border-radius: 50%;\n",
              "      cursor: pointer;\n",
              "      display: none;\n",
              "      fill: #1967D2;\n",
              "      height: 32px;\n",
              "      padding: 0 0 0 0;\n",
              "      width: 32px;\n",
              "    }\n",
              "\n",
              "    .colab-df-convert:hover {\n",
              "      background-color: #E2EBFA;\n",
              "      box-shadow: 0px 1px 2px rgba(60, 64, 67, 0.3), 0px 1px 3px 1px rgba(60, 64, 67, 0.15);\n",
              "      fill: #174EA6;\n",
              "    }\n",
              "\n",
              "    .colab-df-buttons div {\n",
              "      margin-bottom: 4px;\n",
              "    }\n",
              "\n",
              "    [theme=dark] .colab-df-convert {\n",
              "      background-color: #3B4455;\n",
              "      fill: #D2E3FC;\n",
              "    }\n",
              "\n",
              "    [theme=dark] .colab-df-convert:hover {\n",
              "      background-color: #434B5C;\n",
              "      box-shadow: 0px 1px 3px 1px rgba(0, 0, 0, 0.15);\n",
              "      filter: drop-shadow(0px 1px 2px rgba(0, 0, 0, 0.3));\n",
              "      fill: #FFFFFF;\n",
              "    }\n",
              "  </style>\n",
              "\n",
              "    <script>\n",
              "      const buttonEl =\n",
              "        document.querySelector('#df-575ed9ea-df4d-43b5-b297-e4ed2d3ae6af button.colab-df-convert');\n",
              "      buttonEl.style.display =\n",
              "        google.colab.kernel.accessAllowed ? 'block' : 'none';\n",
              "\n",
              "      async function convertToInteractive(key) {\n",
              "        const element = document.querySelector('#df-575ed9ea-df4d-43b5-b297-e4ed2d3ae6af');\n",
              "        const dataTable =\n",
              "          await google.colab.kernel.invokeFunction('convertToInteractive',\n",
              "                                                    [key], {});\n",
              "        if (!dataTable) return;\n",
              "\n",
              "        const docLinkHtml = 'Like what you see? Visit the ' +\n",
              "          '<a target=\"_blank\" href=https://colab.research.google.com/notebooks/data_table.ipynb>data table notebook</a>'\n",
              "          + ' to learn more about interactive tables.';\n",
              "        element.innerHTML = '';\n",
              "        dataTable['output_type'] = 'display_data';\n",
              "        await google.colab.output.renderOutput(dataTable, element);\n",
              "        const docLink = document.createElement('div');\n",
              "        docLink.innerHTML = docLinkHtml;\n",
              "        element.appendChild(docLink);\n",
              "      }\n",
              "    </script>\n",
              "  </div>\n",
              "\n",
              "\n",
              "<div id=\"df-36113be9-7383-4da4-ac5d-4c34e93c52c1\">\n",
              "  <button class=\"colab-df-quickchart\" onclick=\"quickchart('df-36113be9-7383-4da4-ac5d-4c34e93c52c1')\"\n",
              "            title=\"Suggest charts\"\n",
              "            style=\"display:none;\">\n",
              "\n",
              "<svg xmlns=\"http://www.w3.org/2000/svg\" height=\"24px\"viewBox=\"0 0 24 24\"\n",
              "     width=\"24px\">\n",
              "    <g>\n",
              "        <path d=\"M19 3H5c-1.1 0-2 .9-2 2v14c0 1.1.9 2 2 2h14c1.1 0 2-.9 2-2V5c0-1.1-.9-2-2-2zM9 17H7v-7h2v7zm4 0h-2V7h2v10zm4 0h-2v-4h2v4z\"/>\n",
              "    </g>\n",
              "</svg>\n",
              "  </button>\n",
              "\n",
              "<style>\n",
              "  .colab-df-quickchart {\n",
              "      --bg-color: #E8F0FE;\n",
              "      --fill-color: #1967D2;\n",
              "      --hover-bg-color: #E2EBFA;\n",
              "      --hover-fill-color: #174EA6;\n",
              "      --disabled-fill-color: #AAA;\n",
              "      --disabled-bg-color: #DDD;\n",
              "  }\n",
              "\n",
              "  [theme=dark] .colab-df-quickchart {\n",
              "      --bg-color: #3B4455;\n",
              "      --fill-color: #D2E3FC;\n",
              "      --hover-bg-color: #434B5C;\n",
              "      --hover-fill-color: #FFFFFF;\n",
              "      --disabled-bg-color: #3B4455;\n",
              "      --disabled-fill-color: #666;\n",
              "  }\n",
              "\n",
              "  .colab-df-quickchart {\n",
              "    background-color: var(--bg-color);\n",
              "    border: none;\n",
              "    border-radius: 50%;\n",
              "    cursor: pointer;\n",
              "    display: none;\n",
              "    fill: var(--fill-color);\n",
              "    height: 32px;\n",
              "    padding: 0;\n",
              "    width: 32px;\n",
              "  }\n",
              "\n",
              "  .colab-df-quickchart:hover {\n",
              "    background-color: var(--hover-bg-color);\n",
              "    box-shadow: 0 1px 2px rgba(60, 64, 67, 0.3), 0 1px 3px 1px rgba(60, 64, 67, 0.15);\n",
              "    fill: var(--button-hover-fill-color);\n",
              "  }\n",
              "\n",
              "  .colab-df-quickchart-complete:disabled,\n",
              "  .colab-df-quickchart-complete:disabled:hover {\n",
              "    background-color: var(--disabled-bg-color);\n",
              "    fill: var(--disabled-fill-color);\n",
              "    box-shadow: none;\n",
              "  }\n",
              "\n",
              "  .colab-df-spinner {\n",
              "    border: 2px solid var(--fill-color);\n",
              "    border-color: transparent;\n",
              "    border-bottom-color: var(--fill-color);\n",
              "    animation:\n",
              "      spin 1s steps(1) infinite;\n",
              "  }\n",
              "\n",
              "  @keyframes spin {\n",
              "    0% {\n",
              "      border-color: transparent;\n",
              "      border-bottom-color: var(--fill-color);\n",
              "      border-left-color: var(--fill-color);\n",
              "    }\n",
              "    20% {\n",
              "      border-color: transparent;\n",
              "      border-left-color: var(--fill-color);\n",
              "      border-top-color: var(--fill-color);\n",
              "    }\n",
              "    30% {\n",
              "      border-color: transparent;\n",
              "      border-left-color: var(--fill-color);\n",
              "      border-top-color: var(--fill-color);\n",
              "      border-right-color: var(--fill-color);\n",
              "    }\n",
              "    40% {\n",
              "      border-color: transparent;\n",
              "      border-right-color: var(--fill-color);\n",
              "      border-top-color: var(--fill-color);\n",
              "    }\n",
              "    60% {\n",
              "      border-color: transparent;\n",
              "      border-right-color: var(--fill-color);\n",
              "    }\n",
              "    80% {\n",
              "      border-color: transparent;\n",
              "      border-right-color: var(--fill-color);\n",
              "      border-bottom-color: var(--fill-color);\n",
              "    }\n",
              "    90% {\n",
              "      border-color: transparent;\n",
              "      border-bottom-color: var(--fill-color);\n",
              "    }\n",
              "  }\n",
              "</style>\n",
              "\n",
              "  <script>\n",
              "    async function quickchart(key) {\n",
              "      const quickchartButtonEl =\n",
              "        document.querySelector('#' + key + ' button');\n",
              "      quickchartButtonEl.disabled = true;  // To prevent multiple clicks.\n",
              "      quickchartButtonEl.classList.add('colab-df-spinner');\n",
              "      try {\n",
              "        const charts = await google.colab.kernel.invokeFunction(\n",
              "            'suggestCharts', [key], {});\n",
              "      } catch (error) {\n",
              "        console.error('Error during call to suggestCharts:', error);\n",
              "      }\n",
              "      quickchartButtonEl.classList.remove('colab-df-spinner');\n",
              "      quickchartButtonEl.classList.add('colab-df-quickchart-complete');\n",
              "    }\n",
              "    (() => {\n",
              "      let quickchartButtonEl =\n",
              "        document.querySelector('#df-36113be9-7383-4da4-ac5d-4c34e93c52c1 button');\n",
              "      quickchartButtonEl.style.display =\n",
              "        google.colab.kernel.accessAllowed ? 'block' : 'none';\n",
              "    })();\n",
              "  </script>\n",
              "</div>\n",
              "\n",
              "    </div>\n",
              "  </div>\n"
            ],
            "text/plain": [
              "   Unnamed: 0  A  B  C  D  E\n",
              "0  contract_1  1  0  1  1  1\n",
              "1  contract_2  0  1  0  1  0\n",
              "2  contract_3  1  0  0  0  0\n",
              "3  contract_4  0  1  1  1  1\n",
              "4  contract_5  0  1  0  1  0"
            ]
          },
          "execution_count": 21,
          "metadata": {},
          "output_type": "execute_result"
        }
      ],
      "source": [
        "import pandas as pd\n",
        "df = pd.read_csv('https://raw.githubusercontent.com/Datamanim/datarepo/main/adp/31/adp_31_7.csv')\n",
        "df.head()"
      ]
    },
    {
      "cell_type": "code",
      "execution_count": null,
      "id": "I-Az2VqOJD1Q",
      "metadata": {
        "colab": {
          "base_uri": "https://localhost:8080/"
        },
        "id": "I-Az2VqOJD1Q",
        "outputId": "66709e4d-ef2e-44c9-e6df-f03c63cd9aa0"
      },
      "outputs": [
        {
          "name": "stdout",
          "output_type": "stream",
          "text": [
            "p-value :  0.3406392758219471\n",
            "각 사원의 계약 성사 건수가 같다.\n"
          ]
        }
      ],
      "source": [
        "from statsmodels.stats.contingency_tables import cochrans_q\n",
        "Q = cochrans_q(df[['A','B','C','D','E']])\n",
        "print('p-value : ',Q.pvalue)\n",
        "print('각 사원의 계약 성사 건수가 같다.')"
      ]
    },
    {
      "cell_type": "code",
      "execution_count": null,
      "id": "DNbSFOo0Jmpq",
      "metadata": {
        "colab": {
          "base_uri": "https://localhost:8080/"
        },
        "id": "DNbSFOo0Jmpq",
        "outputId": "08aca904-d832-4939-efd2-83330141b51d"
      },
      "outputs": [
        {
          "name": "stdout",
          "output_type": "stream",
          "text": [
            "p-value :  0.24214339972793059\n",
            "귀무가설(H0) : 각 영업 사원의 평균 계약 성사 건수가 같다.\n",
            "대립가설(H1) : 각 영업 사원의 평균 계약 성사 건수가 유의미하게 다르다.\n",
            "pvale 값이 0.05보다 크기때문에 각 사원의 계약 성사 건수가 같다라고 판단할 수 있다\n"
          ]
        }
      ],
      "source": [
        "from scipy.stats import chi2_contingency\n",
        "\n",
        "df = pd.read_csv('https://raw.githubusercontent.com/Datamanim/datarepo/main/adp/31/adp_31_7.csv')\n",
        "\n",
        "contingency_table = pd.crosstab(index = df.index, columns = [df['A'],df['B'],df['C'],df['D'],df['E']])\n",
        "\n",
        "chi2, p, _, _ = chi2_contingency(contingency_table)\n",
        "print('p-value : ', p)\n",
        "print('귀무가설(H0) : 각 영업 사원의 평균 계약 성사 건수가 같다.')\n",
        "print('대립가설(H1) : 각 영업 사원의 평균 계약 성사 건수가 유의미하게 다르다.')\n",
        "\n",
        "print('pvale 값이 0.05보다 크기때문에 각 사원의 계약 성사 건수가 같다라고 판단할 수 있다')\n",
        "\n"
      ]
    },
    {
      "cell_type": "markdown",
      "id": "23bc4496",
      "metadata": {
        "id": "23bc4496"
      },
      "source": [
        "## 8 유기견이 하루에 2.2마리 발생하며 포아송 분포를 따른다고 알려져 있다고 할 때 아래 문제의 확률은? (10점)"
      ]
    },
    {
      "cell_type": "markdown",
      "id": "4fc76499",
      "metadata": {
        "id": "4fc76499"
      },
      "source": [
        "## 8-1 한 마리도 안 버려질 확률"
      ]
    },
    {
      "cell_type": "code",
      "execution_count": null,
      "id": "gfxhttX9K-xr",
      "metadata": {
        "colab": {
          "base_uri": "https://localhost:8080/"
        },
        "id": "gfxhttX9K-xr",
        "outputId": "c4bb2e82-a8f1-46b9-d833-68abff3782f4"
      },
      "outputs": [
        {
          "name": "stdout",
          "output_type": "stream",
          "text": [
            "한마리도 안 버려질 확률 :  0.11080315836233387\n"
          ]
        }
      ],
      "source": [
        "from scipy.stats import poisson\n",
        "\n",
        "lambda_ = 2.2\n",
        "\n",
        "proba = poisson.pmf(0,lambda_)\n",
        "print('한마리도 안 버려질 확률 : ', proba)\n"
      ]
    },
    {
      "cell_type": "markdown",
      "id": "b3eec6b1",
      "metadata": {
        "id": "b3eec6b1"
      },
      "source": [
        "## 8-2 적어도 2마리 버려질 확률"
      ]
    },
    {
      "cell_type": "code",
      "execution_count": null,
      "id": "USArGE8LM2Zk",
      "metadata": {
        "colab": {
          "base_uri": "https://localhost:8080/"
        },
        "id": "USArGE8LM2Zk",
        "outputId": "4e8aaf03-c057-4094-d4cf-4fcdb8fb1240"
      },
      "outputs": [
        {
          "name": "stdout",
          "output_type": "stream",
          "text": [
            "적어도 2마리 버려져있을 확률 : 0.6454298932405317\n"
          ]
        }
      ],
      "source": [
        "from scipy.stats import poisson\n",
        "lambda_ = 2.2\n",
        "proba = poisson.cdf(1,lambda_)\n",
        "result = 1 - proba\n",
        "print('적어도 2마리 버려져있을 확률 :', result)"
      ]
    }
  ],
  "metadata": {
    "colab": {
      "provenance": []
    },
    "kernelspec": {
      "display_name": "Python 3",
      "language": "python",
      "name": "python3"
    },
    "language_info": {
      "codemirror_mode": {
        "name": "ipython",
        "version": 3
      },
      "file_extension": ".py",
      "mimetype": "text/x-python",
      "name": "python",
      "nbconvert_exporter": "python",
      "pygments_lexer": "ipython3",
      "version": "3.10.10"
    }
  },
  "nbformat": 4,
  "nbformat_minor": 5
}
