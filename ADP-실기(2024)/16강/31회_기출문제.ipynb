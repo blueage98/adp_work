{
  "cells": [
    {
      "cell_type": "code",
      "execution_count": null,
      "id": "b4d27de5",
      "metadata": {
        "id": "b4d27de5",
        "outputId": "cd8fe51b-b06c-47b4-fef3-d915be092e5d"
      },
      "outputs": [
        {
          "data": {
            "text/html": [
              "<style>\n",
              "    .container {width:95% !important}\n",
              "    hr {height:2px;border-width:0;color:black;background-color:black}\n",
              "    div.prompt {display:none}\n",
              "    table {margin-left: 0 !important;}\n",
              "    span.cm-property {color :brown}\n",
              "    blockquote {border-left-color :#711616}\n",
              "</style>\n"
            ],
            "text/plain": [
              "<IPython.core.display.HTML object>"
            ]
          },
          "metadata": {},
          "output_type": "display_data"
        }
      ],
      "source": [
        "# 데이터 출처 : https://www.datamanim.com/dataset/ADPpb/00/31.html"
      ]
    },
    {
      "cell_type": "markdown",
      "id": "1e530f30",
      "metadata": {
        "id": "1e530f30"
      },
      "source": [
        "# 31회 ADP 기출문제"
      ]
    },
    {
      "cell_type": "markdown",
      "id": "d0c9251b",
      "metadata": {
        "id": "d0c9251b"
      },
      "source": [
        "# 기계학습 (60점)"
      ]
    },
    {
      "cell_type": "markdown",
      "id": "435ce658",
      "metadata": {
        "id": "435ce658"
      },
      "source": [
        "## 데이터 설명\n",
        "- 데이터 출처 : https://www.kaggle.com/datasets/mandysia/obesity-dataset-cleaned-and-data-sinthetic 후처리\n",
        "- 데이터 링크 : https://raw.githubusercontent.com/Datamanim/datarepo/main/adp/31/adp_31_1_obesity_v2.csv\n",
        "- 데이터 설명 : 각 환자의 의료정보이다. NObeyesdad를 종속변수로 하는 분류모델을 만드려고 한다.\n",
        "\n",
        "\n",
        "    id: unique id for each row    \n",
        "    Gender: sex - male or female    \n",
        "    Age: age    \n",
        "    Height: height    \n",
        "    Weight: weight    \n",
        "    family_history_with_overweight: Has a family member suffered or suffers f from overweight? - yes or no    \n",
        "    FAVC: Frequent consumption of high caloric food - yes or no     \n",
        "    FCVC: Frequency of consumption of vegetables - Never, Sometimes, Always    \n",
        "    NCP: Number of main meals - 1, 2, 3, 4     \n",
        "    CAEC: Consumption of food between meals - No, Sometimes, Frequently, Always    \n",
        "    SMOKE: Do you smoke - yes o no    \n",
        "    CH2O: Consumption of water daily - Less than a litter, between 1 and 2 l, more than 2 l    \n",
        "    SCC: Calories consumption monitoring - yes or no   \n",
        "    FAF: Physical activity frequency - 0, 1 to 2, 2 to 4, 4 to 5     \n",
        "    TUE: Time using technology devices - 0 to 2, 3 to 5, >5    \n",
        "    CALC: Consumption of alcohol - no, sometimes, frequently, always    \n",
        "    MTRANS: Transportation used - automobile, motorbike, bike, public_transportation, walking    \n",
        "    BMI: Body mass index\n",
        "    \n",
        "    (종속변수)     \n",
        "    NObeyesdad: Type of obesity - overweight-level_i, obesity_type_i, obesity_type_ii, obesity_type_iii"
      ]
    },
    {
      "cell_type": "markdown",
      "id": "_eBvHMBlibvh",
      "metadata": {
        "id": "_eBvHMBlibvh"
      },
      "source": [
        "* id: 각 행의 고유 ID\n",
        "* Gender: 성별 - 남성 또는 여성\n",
        "* Age: 나이\n",
        "* Height: 키\n",
        "* Weight: 몸무게\n",
        "* family_history_with_overweight: 가족 구성원이 과체중을 앓고 있거나 앓았는지 여부 - 예 또는 아니오\n",
        "* FAVC: 고칼로리 음식의 빈번한 섭취 - 예 또는 아니오\n",
        "* FCVC: 채소 섭취 빈도 - 전혀 안함, 가끔, 항상\n",
        "* NCP: 주요 식사 횟수 - 1회, 2회, 3회, 4회\n",
        "* CAEC: 식사 사이 음식 섭취 - 아니오, 가끔, 자주, 항상\n",
        "* SMOKE: 흡연 여부 - 예 또는 아니오\n",
        "* CH2O: 하루 물 섭취량 - 1리터 미만, 1~2리터, 2리터 이상\n",
        "* SCC: 칼로리 섭취 모니터링 여부 - 예 또는 아니오\n",
        "* FAF: 신체 활동 빈도 - 0회, 12회, 24회, 4~5회\n",
        "* TUE: 기술 장치 사용 시간 - 02시간, 35시간, 5시간 이상\n",
        "* CALC: 알코올 섭취 - 아니오, 가끔, 자주, 항상\n",
        "* MTRANS: 사용된 교통 수단 - 자동차, 오토바이, 자전거, 대중교통, 걷기\n",
        "* BMI: 체질량지수\n",
        "\n",
        "(종속 변수)\n",
        "\n",
        "* NObeyesdad: 비만 유형 - 과체중 1단계, 비만 1형, 비만 2형, 비만 3형\n",
        "\n"
      ]
    },
    {
      "cell_type": "markdown",
      "id": "c9373a22",
      "metadata": {
        "id": "c9373a22"
      },
      "source": [
        "## 1-1  EDA & 결측치 및 이상치를 판단하고 설명하라"
      ]
    },
    {
      "cell_type": "code",
      "execution_count": null,
      "id": "lgYul4ZbWGg1",
      "metadata": {
        "colab": {
          "base_uri": "https://localhost:8080/",
          "height": 790
        },
        "id": "lgYul4ZbWGg1",
        "outputId": "fec40882-13c7-48a5-c42d-5f5e4e1d9e8e"
      },
      "outputs": [
        {
          "data": {
            "application/vnd.google.colaboratory.intrinsic+json": {
              "summary": "{\n  \"name\": \"df\",\n  \"rows\": 1262,\n  \"fields\": [\n    {\n      \"column\": \"id\",\n      \"properties\": {\n        \"dtype\": \"string\",\n        \"num_unique_values\": 1262,\n        \"samples\": [\n          \"2,056\",\n          \"1,718\",\n          \"1,382\"\n        ],\n        \"semantic_type\": \"\",\n        \"description\": \"\"\n      }\n    },\n    {\n      \"column\": \"Gender\",\n      \"properties\": {\n        \"dtype\": \"category\",\n        \"num_unique_values\": 2,\n        \"samples\": [\n          \"female\",\n          \"male\"\n        ],\n        \"semantic_type\": \"\",\n        \"description\": \"\"\n      }\n    },\n    {\n      \"column\": \"Age\",\n      \"properties\": {\n        \"dtype\": \"number\",\n        \"std\": 9,\n        \"min\": 15,\n        \"max\": 150,\n        \"num_unique_values\": 34,\n        \"samples\": [\n          24,\n          32\n        ],\n        \"semantic_type\": \"\",\n        \"description\": \"\"\n      }\n    },\n    {\n      \"column\": \"Height\",\n      \"properties\": {\n        \"dtype\": \"number\",\n        \"std\": 0.09136134928351722,\n        \"min\": 1.45,\n        \"max\": 1.98,\n        \"num_unique_values\": 1128,\n        \"samples\": [\n          1.71582,\n          1.748533\n        ],\n        \"semantic_type\": \"\",\n        \"description\": \"\"\n      }\n    },\n    {\n      \"column\": \"Weight\",\n      \"properties\": {\n        \"dtype\": \"number\",\n        \"std\": 21,\n        \"min\": 53,\n        \"max\": 173,\n        \"num_unique_values\": 103,\n        \"samples\": [\n          100,\n          56\n        ],\n        \"semantic_type\": \"\",\n        \"description\": \"\"\n      }\n    },\n    {\n      \"column\": \"family_history_with_overweight\",\n      \"properties\": {\n        \"dtype\": \"category\",\n        \"num_unique_values\": 2,\n        \"samples\": [\n          \"yes\",\n          \"no\"\n        ],\n        \"semantic_type\": \"\",\n        \"description\": \"\"\n      }\n    },\n    {\n      \"column\": \"FAVC\",\n      \"properties\": {\n        \"dtype\": \"category\",\n        \"num_unique_values\": 2,\n        \"samples\": [\n          \"yes\",\n          \"no\"\n        ],\n        \"semantic_type\": \"\",\n        \"description\": \"\"\n      }\n    },\n    {\n      \"column\": \"FCVC\",\n      \"properties\": {\n        \"dtype\": \"category\",\n        \"num_unique_values\": 3,\n        \"samples\": [\n          \"always\",\n          \"sometimes\"\n        ],\n        \"semantic_type\": \"\",\n        \"description\": \"\"\n      }\n    },\n    {\n      \"column\": \"NCP\",\n      \"properties\": {\n        \"dtype\": \"number\",\n        \"std\": 0,\n        \"min\": 1,\n        \"max\": 4,\n        \"num_unique_values\": 4,\n        \"samples\": [\n          1,\n          2\n        ],\n        \"semantic_type\": \"\",\n        \"description\": \"\"\n      }\n    },\n    {\n      \"column\": \"CAEC\",\n      \"properties\": {\n        \"dtype\": \"category\",\n        \"num_unique_values\": 4,\n        \"samples\": [\n          \"frequently\",\n          \"no\"\n        ],\n        \"semantic_type\": \"\",\n        \"description\": \"\"\n      }\n    },\n    {\n      \"column\": \"SMOKE\",\n      \"properties\": {\n        \"dtype\": \"category\",\n        \"num_unique_values\": 2,\n        \"samples\": [\n          \"yes\",\n          \"no\"\n        ],\n        \"semantic_type\": \"\",\n        \"description\": \"\"\n      }\n    },\n    {\n      \"column\": \"CH2O\",\n      \"properties\": {\n        \"dtype\": \"category\",\n        \"num_unique_values\": 3,\n        \"samples\": [\n          \"between 1 and 2 l\",\n          \"more than 2 l\"\n        ],\n        \"semantic_type\": \"\",\n        \"description\": \"\"\n      }\n    },\n    {\n      \"column\": \"SCC\",\n      \"properties\": {\n        \"dtype\": \"category\",\n        \"num_unique_values\": 2,\n        \"samples\": [\n          \"yes\",\n          \"no\"\n        ],\n        \"semantic_type\": \"\",\n        \"description\": \"\"\n      }\n    },\n    {\n      \"column\": \"FAF\",\n      \"properties\": {\n        \"dtype\": \"category\",\n        \"num_unique_values\": 4,\n        \"samples\": [\n          \"0\",\n          \"4 to 5\"\n        ],\n        \"semantic_type\": \"\",\n        \"description\": \"\"\n      }\n    },\n    {\n      \"column\": \"TUE\",\n      \"properties\": {\n        \"dtype\": \"category\",\n        \"num_unique_values\": 3,\n        \"samples\": [\n          \"0 to 2\",\n          \">5\"\n        ],\n        \"semantic_type\": \"\",\n        \"description\": \"\"\n      }\n    },\n    {\n      \"column\": \"CALC\",\n      \"properties\": {\n        \"dtype\": \"category\",\n        \"num_unique_values\": 3,\n        \"samples\": [\n          \"frequently\",\n          \"sometimes\"\n        ],\n        \"semantic_type\": \"\",\n        \"description\": \"\"\n      }\n    },\n    {\n      \"column\": \"MTRANS\",\n      \"properties\": {\n        \"dtype\": \"category\",\n        \"num_unique_values\": 5,\n        \"samples\": [\n          \"public_transportation\",\n          \"bike\"\n        ],\n        \"semantic_type\": \"\",\n        \"description\": \"\"\n      }\n    },\n    {\n      \"column\": \"NObeyesdad\",\n      \"properties\": {\n        \"dtype\": \"category\",\n        \"num_unique_values\": 4,\n        \"samples\": [\n          \"obesity_type_i\",\n          \"obesity_type_iii\"\n        ],\n        \"semantic_type\": \"\",\n        \"description\": \"\"\n      }\n    },\n    {\n      \"column\": \"BMI\",\n      \"properties\": {\n        \"dtype\": \"number\",\n        \"std\": 6.106622908762807,\n        \"min\": 22.82673862,\n        \"max\": 50.81175281,\n        \"num_unique_values\": 1226,\n        \"samples\": [\n          31.98163631,\n          37.99035722\n        ],\n        \"semantic_type\": \"\",\n        \"description\": \"\"\n      }\n    }\n  ]\n}",
              "type": "dataframe",
              "variable_name": "df"
            },
            "text/html": [
              "\n",
              "  <div id=\"df-5f8a1e11-32d8-4079-94da-3ab6f204ec79\" class=\"colab-df-container\">\n",
              "    <div>\n",
              "<style scoped>\n",
              "    .dataframe tbody tr th:only-of-type {\n",
              "        vertical-align: middle;\n",
              "    }\n",
              "\n",
              "    .dataframe tbody tr th {\n",
              "        vertical-align: top;\n",
              "    }\n",
              "\n",
              "    .dataframe thead th {\n",
              "        text-align: right;\n",
              "    }\n",
              "</style>\n",
              "<table border=\"1\" class=\"dataframe\">\n",
              "  <thead>\n",
              "    <tr style=\"text-align: right;\">\n",
              "      <th></th>\n",
              "      <th>id</th>\n",
              "      <th>Gender</th>\n",
              "      <th>Age</th>\n",
              "      <th>Height</th>\n",
              "      <th>Weight</th>\n",
              "      <th>family_history_with_overweight</th>\n",
              "      <th>FAVC</th>\n",
              "      <th>FCVC</th>\n",
              "      <th>NCP</th>\n",
              "      <th>CAEC</th>\n",
              "      <th>SMOKE</th>\n",
              "      <th>CH2O</th>\n",
              "      <th>SCC</th>\n",
              "      <th>FAF</th>\n",
              "      <th>TUE</th>\n",
              "      <th>CALC</th>\n",
              "      <th>MTRANS</th>\n",
              "      <th>NObeyesdad</th>\n",
              "      <th>BMI</th>\n",
              "    </tr>\n",
              "  </thead>\n",
              "  <tbody>\n",
              "    <tr>\n",
              "      <th>0</th>\n",
              "      <td>4</td>\n",
              "      <td>male</td>\n",
              "      <td>27</td>\n",
              "      <td>1.800000</td>\n",
              "      <td>87</td>\n",
              "      <td>no</td>\n",
              "      <td>no</td>\n",
              "      <td>always</td>\n",
              "      <td>3</td>\n",
              "      <td>sometimes</td>\n",
              "      <td>no</td>\n",
              "      <td>between 1 and 2 l</td>\n",
              "      <td>no</td>\n",
              "      <td>2 to 4</td>\n",
              "      <td>0 to 2</td>\n",
              "      <td>frequently</td>\n",
              "      <td>walking</td>\n",
              "      <td>overweight_level_i</td>\n",
              "      <td>26.851852</td>\n",
              "    </tr>\n",
              "    <tr>\n",
              "      <th>1</th>\n",
              "      <td>11</td>\n",
              "      <td>male</td>\n",
              "      <td>26</td>\n",
              "      <td>1.850000</td>\n",
              "      <td>105</td>\n",
              "      <td>yes</td>\n",
              "      <td>yes</td>\n",
              "      <td>always</td>\n",
              "      <td>3</td>\n",
              "      <td>frequently</td>\n",
              "      <td>no</td>\n",
              "      <td>more than 2 l</td>\n",
              "      <td>no</td>\n",
              "      <td>2 to 4</td>\n",
              "      <td>&gt;5</td>\n",
              "      <td>sometimes</td>\n",
              "      <td>public_transportation</td>\n",
              "      <td>obesity_type_i</td>\n",
              "      <td>30.679328</td>\n",
              "    </tr>\n",
              "    <tr>\n",
              "      <th>2</th>\n",
              "      <td>14</td>\n",
              "      <td>male</td>\n",
              "      <td>41</td>\n",
              "      <td>1.800000</td>\n",
              "      <td>99</td>\n",
              "      <td>no</td>\n",
              "      <td>yes</td>\n",
              "      <td>sometimes</td>\n",
              "      <td>3</td>\n",
              "      <td>sometimes</td>\n",
              "      <td>no</td>\n",
              "      <td>between 1 and 2 l</td>\n",
              "      <td>no</td>\n",
              "      <td>2 to 4</td>\n",
              "      <td>3 to 5</td>\n",
              "      <td>frequently</td>\n",
              "      <td>automobile</td>\n",
              "      <td>obesity_type_i</td>\n",
              "      <td>30.555556</td>\n",
              "    </tr>\n",
              "    <tr>\n",
              "      <th>3</th>\n",
              "      <td>18</td>\n",
              "      <td>female</td>\n",
              "      <td>29</td>\n",
              "      <td>1.530000</td>\n",
              "      <td>78</td>\n",
              "      <td>no</td>\n",
              "      <td>yes</td>\n",
              "      <td>sometimes</td>\n",
              "      <td>1</td>\n",
              "      <td>sometimes</td>\n",
              "      <td>no</td>\n",
              "      <td>between 1 and 2 l</td>\n",
              "      <td>no</td>\n",
              "      <td>0</td>\n",
              "      <td>0 to 2</td>\n",
              "      <td>no</td>\n",
              "      <td>automobile</td>\n",
              "      <td>obesity_type_i</td>\n",
              "      <td>33.320518</td>\n",
              "    </tr>\n",
              "    <tr>\n",
              "      <th>4</th>\n",
              "      <td>20</td>\n",
              "      <td>female</td>\n",
              "      <td>23</td>\n",
              "      <td>1.650000</td>\n",
              "      <td>70</td>\n",
              "      <td>yes</td>\n",
              "      <td>no</td>\n",
              "      <td>sometimes</td>\n",
              "      <td>1</td>\n",
              "      <td>sometimes</td>\n",
              "      <td>no</td>\n",
              "      <td>between 1 and 2 l</td>\n",
              "      <td>no</td>\n",
              "      <td>0</td>\n",
              "      <td>0 to 2</td>\n",
              "      <td>sometimes</td>\n",
              "      <td>public_transportation</td>\n",
              "      <td>overweight_level_i</td>\n",
              "      <td>25.711662</td>\n",
              "    </tr>\n",
              "    <tr>\n",
              "      <th>...</th>\n",
              "      <td>...</td>\n",
              "      <td>...</td>\n",
              "      <td>...</td>\n",
              "      <td>...</td>\n",
              "      <td>...</td>\n",
              "      <td>...</td>\n",
              "      <td>...</td>\n",
              "      <td>...</td>\n",
              "      <td>...</td>\n",
              "      <td>...</td>\n",
              "      <td>...</td>\n",
              "      <td>...</td>\n",
              "      <td>...</td>\n",
              "      <td>...</td>\n",
              "      <td>...</td>\n",
              "      <td>...</td>\n",
              "      <td>...</td>\n",
              "      <td>...</td>\n",
              "      <td>...</td>\n",
              "    </tr>\n",
              "    <tr>\n",
              "      <th>1257</th>\n",
              "      <td>2,107</td>\n",
              "      <td>female</td>\n",
              "      <td>21</td>\n",
              "      <td>1.710730</td>\n",
              "      <td>131</td>\n",
              "      <td>yes</td>\n",
              "      <td>yes</td>\n",
              "      <td>always</td>\n",
              "      <td>3</td>\n",
              "      <td>sometimes</td>\n",
              "      <td>no</td>\n",
              "      <td>between 1 and 2 l</td>\n",
              "      <td>no</td>\n",
              "      <td>2 to 4</td>\n",
              "      <td>3 to 5</td>\n",
              "      <td>sometimes</td>\n",
              "      <td>public_transportation</td>\n",
              "      <td>obesity_type_iii</td>\n",
              "      <td>44.901475</td>\n",
              "    </tr>\n",
              "    <tr>\n",
              "      <th>1258</th>\n",
              "      <td>2,108</td>\n",
              "      <td>female</td>\n",
              "      <td>22</td>\n",
              "      <td>1.748584</td>\n",
              "      <td>134</td>\n",
              "      <td>yes</td>\n",
              "      <td>yes</td>\n",
              "      <td>always</td>\n",
              "      <td>3</td>\n",
              "      <td>sometimes</td>\n",
              "      <td>no</td>\n",
              "      <td>between 1 and 2 l</td>\n",
              "      <td>no</td>\n",
              "      <td>1 to 2</td>\n",
              "      <td>3 to 5</td>\n",
              "      <td>sometimes</td>\n",
              "      <td>public_transportation</td>\n",
              "      <td>obesity_type_iii</td>\n",
              "      <td>43.741923</td>\n",
              "    </tr>\n",
              "    <tr>\n",
              "      <th>1259</th>\n",
              "      <td>2,109</td>\n",
              "      <td>female</td>\n",
              "      <td>23</td>\n",
              "      <td>1.752206</td>\n",
              "      <td>134</td>\n",
              "      <td>yes</td>\n",
              "      <td>yes</td>\n",
              "      <td>always</td>\n",
              "      <td>3</td>\n",
              "      <td>sometimes</td>\n",
              "      <td>no</td>\n",
              "      <td>between 1 and 2 l</td>\n",
              "      <td>no</td>\n",
              "      <td>1 to 2</td>\n",
              "      <td>3 to 5</td>\n",
              "      <td>sometimes</td>\n",
              "      <td>public_transportation</td>\n",
              "      <td>obesity_type_iii</td>\n",
              "      <td>43.543817</td>\n",
              "    </tr>\n",
              "    <tr>\n",
              "      <th>1260</th>\n",
              "      <td>2,110</td>\n",
              "      <td>female</td>\n",
              "      <td>24</td>\n",
              "      <td>1.739450</td>\n",
              "      <td>133</td>\n",
              "      <td>yes</td>\n",
              "      <td>yes</td>\n",
              "      <td>always</td>\n",
              "      <td>3</td>\n",
              "      <td>sometimes</td>\n",
              "      <td>no</td>\n",
              "      <td>more than 2 l</td>\n",
              "      <td>no</td>\n",
              "      <td>1 to 2</td>\n",
              "      <td>3 to 5</td>\n",
              "      <td>sometimes</td>\n",
              "      <td>public_transportation</td>\n",
              "      <td>obesity_type_iii</td>\n",
              "      <td>44.071535</td>\n",
              "    </tr>\n",
              "    <tr>\n",
              "      <th>1261</th>\n",
              "      <td>2,111</td>\n",
              "      <td>female</td>\n",
              "      <td>24</td>\n",
              "      <td>1.738836</td>\n",
              "      <td>133</td>\n",
              "      <td>yes</td>\n",
              "      <td>yes</td>\n",
              "      <td>always</td>\n",
              "      <td>3</td>\n",
              "      <td>sometimes</td>\n",
              "      <td>no</td>\n",
              "      <td>more than 2 l</td>\n",
              "      <td>no</td>\n",
              "      <td>1 to 2</td>\n",
              "      <td>3 to 5</td>\n",
              "      <td>sometimes</td>\n",
              "      <td>public_transportation</td>\n",
              "      <td>obesity_type_iii</td>\n",
              "      <td>44.144338</td>\n",
              "    </tr>\n",
              "  </tbody>\n",
              "</table>\n",
              "<p>1262 rows × 19 columns</p>\n",
              "</div>\n",
              "    <div class=\"colab-df-buttons\">\n",
              "\n",
              "  <div class=\"colab-df-container\">\n",
              "    <button class=\"colab-df-convert\" onclick=\"convertToInteractive('df-5f8a1e11-32d8-4079-94da-3ab6f204ec79')\"\n",
              "            title=\"Convert this dataframe to an interactive table.\"\n",
              "            style=\"display:none;\">\n",
              "\n",
              "  <svg xmlns=\"http://www.w3.org/2000/svg\" height=\"24px\" viewBox=\"0 -960 960 960\">\n",
              "    <path d=\"M120-120v-720h720v720H120Zm60-500h600v-160H180v160Zm220 220h160v-160H400v160Zm0 220h160v-160H400v160ZM180-400h160v-160H180v160Zm440 0h160v-160H620v160ZM180-180h160v-160H180v160Zm440 0h160v-160H620v160Z\"/>\n",
              "  </svg>\n",
              "    </button>\n",
              "\n",
              "  <style>\n",
              "    .colab-df-container {\n",
              "      display:flex;\n",
              "      gap: 12px;\n",
              "    }\n",
              "\n",
              "    .colab-df-convert {\n",
              "      background-color: #E8F0FE;\n",
              "      border: none;\n",
              "      border-radius: 50%;\n",
              "      cursor: pointer;\n",
              "      display: none;\n",
              "      fill: #1967D2;\n",
              "      height: 32px;\n",
              "      padding: 0 0 0 0;\n",
              "      width: 32px;\n",
              "    }\n",
              "\n",
              "    .colab-df-convert:hover {\n",
              "      background-color: #E2EBFA;\n",
              "      box-shadow: 0px 1px 2px rgba(60, 64, 67, 0.3), 0px 1px 3px 1px rgba(60, 64, 67, 0.15);\n",
              "      fill: #174EA6;\n",
              "    }\n",
              "\n",
              "    .colab-df-buttons div {\n",
              "      margin-bottom: 4px;\n",
              "    }\n",
              "\n",
              "    [theme=dark] .colab-df-convert {\n",
              "      background-color: #3B4455;\n",
              "      fill: #D2E3FC;\n",
              "    }\n",
              "\n",
              "    [theme=dark] .colab-df-convert:hover {\n",
              "      background-color: #434B5C;\n",
              "      box-shadow: 0px 1px 3px 1px rgba(0, 0, 0, 0.15);\n",
              "      filter: drop-shadow(0px 1px 2px rgba(0, 0, 0, 0.3));\n",
              "      fill: #FFFFFF;\n",
              "    }\n",
              "  </style>\n",
              "\n",
              "    <script>\n",
              "      const buttonEl =\n",
              "        document.querySelector('#df-5f8a1e11-32d8-4079-94da-3ab6f204ec79 button.colab-df-convert');\n",
              "      buttonEl.style.display =\n",
              "        google.colab.kernel.accessAllowed ? 'block' : 'none';\n",
              "\n",
              "      async function convertToInteractive(key) {\n",
              "        const element = document.querySelector('#df-5f8a1e11-32d8-4079-94da-3ab6f204ec79');\n",
              "        const dataTable =\n",
              "          await google.colab.kernel.invokeFunction('convertToInteractive',\n",
              "                                                    [key], {});\n",
              "        if (!dataTable) return;\n",
              "\n",
              "        const docLinkHtml = 'Like what you see? Visit the ' +\n",
              "          '<a target=\"_blank\" href=https://colab.research.google.com/notebooks/data_table.ipynb>data table notebook</a>'\n",
              "          + ' to learn more about interactive tables.';\n",
              "        element.innerHTML = '';\n",
              "        dataTable['output_type'] = 'display_data';\n",
              "        await google.colab.output.renderOutput(dataTable, element);\n",
              "        const docLink = document.createElement('div');\n",
              "        docLink.innerHTML = docLinkHtml;\n",
              "        element.appendChild(docLink);\n",
              "      }\n",
              "    </script>\n",
              "  </div>\n",
              "\n",
              "\n",
              "<div id=\"df-fd71fc3d-c869-488f-8a23-bcfc49d477f5\">\n",
              "  <button class=\"colab-df-quickchart\" onclick=\"quickchart('df-fd71fc3d-c869-488f-8a23-bcfc49d477f5')\"\n",
              "            title=\"Suggest charts\"\n",
              "            style=\"display:none;\">\n",
              "\n",
              "<svg xmlns=\"http://www.w3.org/2000/svg\" height=\"24px\"viewBox=\"0 0 24 24\"\n",
              "     width=\"24px\">\n",
              "    <g>\n",
              "        <path d=\"M19 3H5c-1.1 0-2 .9-2 2v14c0 1.1.9 2 2 2h14c1.1 0 2-.9 2-2V5c0-1.1-.9-2-2-2zM9 17H7v-7h2v7zm4 0h-2V7h2v10zm4 0h-2v-4h2v4z\"/>\n",
              "    </g>\n",
              "</svg>\n",
              "  </button>\n",
              "\n",
              "<style>\n",
              "  .colab-df-quickchart {\n",
              "      --bg-color: #E8F0FE;\n",
              "      --fill-color: #1967D2;\n",
              "      --hover-bg-color: #E2EBFA;\n",
              "      --hover-fill-color: #174EA6;\n",
              "      --disabled-fill-color: #AAA;\n",
              "      --disabled-bg-color: #DDD;\n",
              "  }\n",
              "\n",
              "  [theme=dark] .colab-df-quickchart {\n",
              "      --bg-color: #3B4455;\n",
              "      --fill-color: #D2E3FC;\n",
              "      --hover-bg-color: #434B5C;\n",
              "      --hover-fill-color: #FFFFFF;\n",
              "      --disabled-bg-color: #3B4455;\n",
              "      --disabled-fill-color: #666;\n",
              "  }\n",
              "\n",
              "  .colab-df-quickchart {\n",
              "    background-color: var(--bg-color);\n",
              "    border: none;\n",
              "    border-radius: 50%;\n",
              "    cursor: pointer;\n",
              "    display: none;\n",
              "    fill: var(--fill-color);\n",
              "    height: 32px;\n",
              "    padding: 0;\n",
              "    width: 32px;\n",
              "  }\n",
              "\n",
              "  .colab-df-quickchart:hover {\n",
              "    background-color: var(--hover-bg-color);\n",
              "    box-shadow: 0 1px 2px rgba(60, 64, 67, 0.3), 0 1px 3px 1px rgba(60, 64, 67, 0.15);\n",
              "    fill: var(--button-hover-fill-color);\n",
              "  }\n",
              "\n",
              "  .colab-df-quickchart-complete:disabled,\n",
              "  .colab-df-quickchart-complete:disabled:hover {\n",
              "    background-color: var(--disabled-bg-color);\n",
              "    fill: var(--disabled-fill-color);\n",
              "    box-shadow: none;\n",
              "  }\n",
              "\n",
              "  .colab-df-spinner {\n",
              "    border: 2px solid var(--fill-color);\n",
              "    border-color: transparent;\n",
              "    border-bottom-color: var(--fill-color);\n",
              "    animation:\n",
              "      spin 1s steps(1) infinite;\n",
              "  }\n",
              "\n",
              "  @keyframes spin {\n",
              "    0% {\n",
              "      border-color: transparent;\n",
              "      border-bottom-color: var(--fill-color);\n",
              "      border-left-color: var(--fill-color);\n",
              "    }\n",
              "    20% {\n",
              "      border-color: transparent;\n",
              "      border-left-color: var(--fill-color);\n",
              "      border-top-color: var(--fill-color);\n",
              "    }\n",
              "    30% {\n",
              "      border-color: transparent;\n",
              "      border-left-color: var(--fill-color);\n",
              "      border-top-color: var(--fill-color);\n",
              "      border-right-color: var(--fill-color);\n",
              "    }\n",
              "    40% {\n",
              "      border-color: transparent;\n",
              "      border-right-color: var(--fill-color);\n",
              "      border-top-color: var(--fill-color);\n",
              "    }\n",
              "    60% {\n",
              "      border-color: transparent;\n",
              "      border-right-color: var(--fill-color);\n",
              "    }\n",
              "    80% {\n",
              "      border-color: transparent;\n",
              "      border-right-color: var(--fill-color);\n",
              "      border-bottom-color: var(--fill-color);\n",
              "    }\n",
              "    90% {\n",
              "      border-color: transparent;\n",
              "      border-bottom-color: var(--fill-color);\n",
              "    }\n",
              "  }\n",
              "</style>\n",
              "\n",
              "  <script>\n",
              "    async function quickchart(key) {\n",
              "      const quickchartButtonEl =\n",
              "        document.querySelector('#' + key + ' button');\n",
              "      quickchartButtonEl.disabled = true;  // To prevent multiple clicks.\n",
              "      quickchartButtonEl.classList.add('colab-df-spinner');\n",
              "      try {\n",
              "        const charts = await google.colab.kernel.invokeFunction(\n",
              "            'suggestCharts', [key], {});\n",
              "      } catch (error) {\n",
              "        console.error('Error during call to suggestCharts:', error);\n",
              "      }\n",
              "      quickchartButtonEl.classList.remove('colab-df-spinner');\n",
              "      quickchartButtonEl.classList.add('colab-df-quickchart-complete');\n",
              "    }\n",
              "    (() => {\n",
              "      let quickchartButtonEl =\n",
              "        document.querySelector('#df-fd71fc3d-c869-488f-8a23-bcfc49d477f5 button');\n",
              "      quickchartButtonEl.style.display =\n",
              "        google.colab.kernel.accessAllowed ? 'block' : 'none';\n",
              "    })();\n",
              "  </script>\n",
              "</div>\n",
              "\n",
              "  <div id=\"id_4a5ab09b-cc6d-4dc5-ab2f-350e0dcec7d6\">\n",
              "    <style>\n",
              "      .colab-df-generate {\n",
              "        background-color: #E8F0FE;\n",
              "        border: none;\n",
              "        border-radius: 50%;\n",
              "        cursor: pointer;\n",
              "        display: none;\n",
              "        fill: #1967D2;\n",
              "        height: 32px;\n",
              "        padding: 0 0 0 0;\n",
              "        width: 32px;\n",
              "      }\n",
              "\n",
              "      .colab-df-generate:hover {\n",
              "        background-color: #E2EBFA;\n",
              "        box-shadow: 0px 1px 2px rgba(60, 64, 67, 0.3), 0px 1px 3px 1px rgba(60, 64, 67, 0.15);\n",
              "        fill: #174EA6;\n",
              "      }\n",
              "\n",
              "      [theme=dark] .colab-df-generate {\n",
              "        background-color: #3B4455;\n",
              "        fill: #D2E3FC;\n",
              "      }\n",
              "\n",
              "      [theme=dark] .colab-df-generate:hover {\n",
              "        background-color: #434B5C;\n",
              "        box-shadow: 0px 1px 3px 1px rgba(0, 0, 0, 0.15);\n",
              "        filter: drop-shadow(0px 1px 2px rgba(0, 0, 0, 0.3));\n",
              "        fill: #FFFFFF;\n",
              "      }\n",
              "    </style>\n",
              "    <button class=\"colab-df-generate\" onclick=\"generateWithVariable('df')\"\n",
              "            title=\"Generate code using this dataframe.\"\n",
              "            style=\"display:none;\">\n",
              "\n",
              "  <svg xmlns=\"http://www.w3.org/2000/svg\" height=\"24px\"viewBox=\"0 0 24 24\"\n",
              "       width=\"24px\">\n",
              "    <path d=\"M7,19H8.4L18.45,9,17,7.55,7,17.6ZM5,21V16.75L18.45,3.32a2,2,0,0,1,2.83,0l1.4,1.43a1.91,1.91,0,0,1,.58,1.4,1.91,1.91,0,0,1-.58,1.4L9.25,21ZM18.45,9,17,7.55Zm-12,3A5.31,5.31,0,0,0,4.9,8.1,5.31,5.31,0,0,0,1,6.5,5.31,5.31,0,0,0,4.9,4.9,5.31,5.31,0,0,0,6.5,1,5.31,5.31,0,0,0,8.1,4.9,5.31,5.31,0,0,0,12,6.5,5.46,5.46,0,0,0,6.5,12Z\"/>\n",
              "  </svg>\n",
              "    </button>\n",
              "    <script>\n",
              "      (() => {\n",
              "      const buttonEl =\n",
              "        document.querySelector('#id_4a5ab09b-cc6d-4dc5-ab2f-350e0dcec7d6 button.colab-df-generate');\n",
              "      buttonEl.style.display =\n",
              "        google.colab.kernel.accessAllowed ? 'block' : 'none';\n",
              "\n",
              "      buttonEl.onclick = () => {\n",
              "        google.colab.notebook.generateWithVariable('df');\n",
              "      }\n",
              "      })();\n",
              "    </script>\n",
              "  </div>\n",
              "\n",
              "    </div>\n",
              "  </div>\n"
            ],
            "text/plain": [
              "         id  Gender  Age    Height  Weight family_history_with_overweight  \\\n",
              "0         4    male   27  1.800000      87                             no   \n",
              "1        11    male   26  1.850000     105                            yes   \n",
              "2        14    male   41  1.800000      99                             no   \n",
              "3        18  female   29  1.530000      78                             no   \n",
              "4        20  female   23  1.650000      70                            yes   \n",
              "...     ...     ...  ...       ...     ...                            ...   \n",
              "1257  2,107  female   21  1.710730     131                            yes   \n",
              "1258  2,108  female   22  1.748584     134                            yes   \n",
              "1259  2,109  female   23  1.752206     134                            yes   \n",
              "1260  2,110  female   24  1.739450     133                            yes   \n",
              "1261  2,111  female   24  1.738836     133                            yes   \n",
              "\n",
              "     FAVC       FCVC  NCP        CAEC SMOKE               CH2O SCC     FAF  \\\n",
              "0      no     always    3   sometimes    no  between 1 and 2 l  no  2 to 4   \n",
              "1     yes     always    3  frequently    no      more than 2 l  no  2 to 4   \n",
              "2     yes  sometimes    3   sometimes    no  between 1 and 2 l  no  2 to 4   \n",
              "3     yes  sometimes    1   sometimes    no  between 1 and 2 l  no       0   \n",
              "4      no  sometimes    1   sometimes    no  between 1 and 2 l  no       0   \n",
              "...   ...        ...  ...         ...   ...                ...  ..     ...   \n",
              "1257  yes     always    3   sometimes    no  between 1 and 2 l  no  2 to 4   \n",
              "1258  yes     always    3   sometimes    no  between 1 and 2 l  no  1 to 2   \n",
              "1259  yes     always    3   sometimes    no  between 1 and 2 l  no  1 to 2   \n",
              "1260  yes     always    3   sometimes    no      more than 2 l  no  1 to 2   \n",
              "1261  yes     always    3   sometimes    no      more than 2 l  no  1 to 2   \n",
              "\n",
              "         TUE        CALC                 MTRANS          NObeyesdad        BMI  \n",
              "0     0 to 2  frequently                walking  overweight_level_i  26.851852  \n",
              "1         >5   sometimes  public_transportation      obesity_type_i  30.679328  \n",
              "2     3 to 5  frequently             automobile      obesity_type_i  30.555556  \n",
              "3     0 to 2          no             automobile      obesity_type_i  33.320518  \n",
              "4     0 to 2   sometimes  public_transportation  overweight_level_i  25.711662  \n",
              "...      ...         ...                    ...                 ...        ...  \n",
              "1257  3 to 5   sometimes  public_transportation    obesity_type_iii  44.901475  \n",
              "1258  3 to 5   sometimes  public_transportation    obesity_type_iii  43.741923  \n",
              "1259  3 to 5   sometimes  public_transportation    obesity_type_iii  43.543817  \n",
              "1260  3 to 5   sometimes  public_transportation    obesity_type_iii  44.071535  \n",
              "1261  3 to 5   sometimes  public_transportation    obesity_type_iii  44.144338  \n",
              "\n",
              "[1262 rows x 19 columns]"
            ]
          },
          "execution_count": 138,
          "metadata": {},
          "output_type": "execute_result"
        }
      ],
      "source": [
        "import pandas as pd\n",
        "df = pd.read_csv('https://raw.githubusercontent.com/Datamanim/datarepo/main/adp/31/adp_31_1_obesity_v2.csv', encoding = 'cp949')"
      ]
    },
    {
      "cell_type": "code",
      "execution_count": null,
      "id": "2ByKREL3WqbA",
      "metadata": {
        "colab": {
          "base_uri": "https://localhost:8080/"
        },
        "id": "2ByKREL3WqbA",
        "outputId": "1328fede-7d6a-4a78-e070-5833baa6537b"
      },
      "outputs": [
        {
          "name": "stdout",
          "output_type": "stream",
          "text": [
            "<class 'pandas.core.frame.DataFrame'>\n",
            "RangeIndex: 1262 entries, 0 to 1261\n",
            "Data columns (total 19 columns):\n",
            " #   Column                          Non-Null Count  Dtype  \n",
            "---  ------                          --------------  -----  \n",
            " 0   id                              1262 non-null   object \n",
            " 1   Gender                          1262 non-null   object \n",
            " 2   Age                             1262 non-null   int64  \n",
            " 3   Height                          1262 non-null   float64\n",
            " 4   Weight                          1262 non-null   int64  \n",
            " 5   family_history_with_overweight  1262 non-null   object \n",
            " 6   FAVC                            1262 non-null   object \n",
            " 7   FCVC                            1262 non-null   object \n",
            " 8   NCP                             1262 non-null   int64  \n",
            " 9   CAEC                            1262 non-null   object \n",
            " 10  SMOKE                           1262 non-null   object \n",
            " 11  CH2O                            1262 non-null   object \n",
            " 12  SCC                             1259 non-null   object \n",
            " 13  FAF                             1262 non-null   object \n",
            " 14  TUE                             1262 non-null   object \n",
            " 15  CALC                            1262 non-null   object \n",
            " 16  MTRANS                          1262 non-null   object \n",
            " 17  NObeyesdad                      1262 non-null   object \n",
            " 18  BMI                             1262 non-null   float64\n",
            "dtypes: float64(2), int64(3), object(14)\n",
            "memory usage: 187.5+ KB\n",
            "\n",
            "주어진 데이터의 각 특성을 살펴보았다.\n",
            "데이터의 유형을 살펴보면 범주형 데이터와 수치형데이터로 이루어진 것을 확인할 수 있다.\n",
            "특히, SCC 데이터에서 결측을 확인할 수 있었다.\n",
            "\n"
          ]
        }
      ],
      "source": [
        "print('''\n",
        "주어진 데이터의 각 특성을 살펴보았다.\n",
        "데이터의 유형을 살펴보면 범주형 데이터와 수치형데이터로 이루어진 것을 확인할 수 있다.\n",
        "특히, SCC 데이터에서 결측을 확인할 수 있었다.\n",
        "''')"
      ]
    },
    {
      "cell_type": "code",
      "execution_count": null,
      "id": "R7LNZ4TWXP0c",
      "metadata": {
        "colab": {
          "base_uri": "https://localhost:8080/",
          "height": 953
        },
        "id": "R7LNZ4TWXP0c",
        "outputId": "5a256e2b-7897-4e6e-ed43-502f3852931f"
      },
      "outputs": [
        {
          "name": "stdout",
          "output_type": "stream",
          "text": [
            "\n",
            "주어진 데이터와 수치형 데이터의 항목별 값 분포를 알아보았고, 수치형 변수의 n-percentile 값과\n",
            "최대,최소 값들을 알 수 있었으며, 아래와 같이 전체적인 분포를 알아볼 수 있었다.\n",
            "\n",
            "               Age       Height       Weight          NCP          BMI\n",
            "count  1262.000000  1262.000000  1262.000000  1262.000000  1262.000000\n",
            "mean     25.749604     1.709184   101.083201     2.665610    34.439463\n",
            "std       9.898088     0.091361    21.520848     0.757143     6.106623\n",
            "min      15.000000     1.450000    53.000000     1.000000    22.826739\n",
            "25%      21.000000     1.631576    82.000000     3.000000    30.725995\n",
            "50%      24.000000     1.711095   105.000000     3.000000    34.332001\n",
            "75%      27.000000     1.775768   116.000000     3.000000    38.920119\n",
            "max     150.000000     1.980000   173.000000     4.000000    50.811753\n",
            "수치형 변수 분포 시각화\n"
          ]
        },
        {
          "data": {
            "image/png": "[encoded data removed]",
            "text/plain": [
              "<Figure size 800x800 with 6 Axes>"
            ]
          },
          "metadata": {},
          "output_type": "display_data"
        }
      ],
      "source": [
        "print('''\n",
        "주어진 데이터와 수치형 데이터의 항목별 값 분포를 알아보았고, 수치형 변수의 n-percentile 값과\n",
        "최대,최소 값들을 알 수 있었으며, 아래와 같이 전체적인 분포를 알아볼 수 있었다.\n",
        "''')\n"
      ]
    },
    {
      "cell_type": "code",
      "execution_count": null,
      "id": "nNM9Ez2VYegW",
      "metadata": {
        "colab": {
          "base_uri": "https://localhost:8080/",
          "height": 503
        },
        "id": "nNM9Ez2VYegW",
        "outputId": "e9fe4acf-5228-4602-8d0a-ba3c274fccee"
      },
      "outputs": [
        {
          "name": "stdout",
          "output_type": "stream",
          "text": [
            "결측치 및 이상치 확인\n",
            "\n",
            " 결측치 확인\n"
          ]
        },
        {
          "data": {
            "image/png": "[encoded data removed]",
            "text/plain": [
              "<Figure size 640x480 with 1 Axes>"
            ]
          },
          "metadata": {},
          "output_type": "display_data"
        },
        {
          "name": "stdout",
          "output_type": "stream",
          "text": [
            "SCC데이터에 결측치가 있음을 확인할 수 있다.\n"
          ]
        }
      ],
      "source": [
        "print('결측치 및 이상치 확인')\n",
        "print('\\n 결측치 확인')"
      ]
    },
    {
      "cell_type": "code",
      "execution_count": null,
      "id": "x3dr7MA0eACp",
      "metadata": {
        "colab": {
          "base_uri": "https://localhost:8080/",
          "height": 787
        },
        "id": "x3dr7MA0eACp",
        "outputId": "1a391382-95f0-4050-965f-b1ace392f52a"
      },
      "outputs": [
        {
          "name": "stdout",
          "output_type": "stream",
          "text": [
            "이상치 확인\n",
            "\n",
            "이상치의 유무를 확인하기 위해 수치형 변수의 시각화를 진행하였다.\n",
            "시각화 결과,이상치로 보이는 변수 Age, Weight, NCP를 확인할 수 있다.\n",
            "\n"
          ]
        },
        {
          "data": {
            "image/png": "[encoded data removed]",
            "text/plain": [
              "<Figure size 1200x800 with 5 Axes>"
            ]
          },
          "metadata": {},
          "output_type": "display_data"
        }
      ],
      "source": [
        "print('이상치 확인')\n",
        "print('''\n",
        "이상치의 유무를 확인하기 위해 수치형 변수의 시각화를 진행하였다.\n",
        "시각화 결과,이상치로 보이는 변수 Age, Weight, NCP를 확인할 수 있다.\n",
        "''')"
      ]
    },
    {
      "cell_type": "code",
      "execution_count": null,
      "id": "rSoB_sYbhfBN",
      "metadata": {
        "colab": {
          "base_uri": "https://localhost:8080/"
        },
        "id": "rSoB_sYbhfBN",
        "outputId": "e9f3e826-8ad5-4332-8130-be16a270673f"
      },
      "outputs": [
        {
          "name": "stdout",
          "output_type": "stream",
          "text": [
            "결측 및 이상치 처리\n"
          ]
        }
      ],
      "source": [
        "print('결측 및 이상치 처리')"
      ]
    },
    {
      "cell_type": "markdown",
      "id": "cdd7b70a",
      "metadata": {
        "id": "cdd7b70a"
      },
      "source": [
        "## 1-2 데이터 전처리 기법 2가지를 설명하고 주어진 데이터에 적용시 어떤 효과가 있는지 설명하라"
      ]
    },
    {
      "cell_type": "code",
      "execution_count": null,
      "id": "hF6frRSVisCq",
      "metadata": {
        "colab": {
          "base_uri": "https://localhost:8080/"
        },
        "id": "hF6frRSVisCq",
        "outputId": "08afb431-001e-433d-d586-3d383cab75b8"
      },
      "outputs": [
        {
          "name": "stdout",
          "output_type": "stream",
          "text": [
            "\n",
            "데이터 전처리 기법 2가지\n",
            "\n",
            "1. 원핫 인코딩: 여러값 중 하나만 활성화하는 인코딩이다.\n",
            "머신러닝 모델은 문자 데이터를 이해하지 못하기 때문에 문자로 구성된 범주형 데이터를 숫자로 바꿀 때 사용한다.\n",
            "효과 : 현재 데이터는 object 타입의 범주형 데이터가 많으므로, 원 핫 인코딩을 통해 머신러닝 모델에 넣을 수 있는 데이터 형태로 변환할 수 있게된다.\n",
            "\n",
            "\n",
            "2. 정규화 : 연속형 데이터를 특정 범위 내로 스케일 조정하는 방법이다.\n",
            "주로 데이터의 범위를 0과 1사이로 제한할 때 사용할 수 있으며, 데이터의 상대적인 크기와 중요성을 유지할 수 있다.\n",
            "효과 : 현재 데이터는 각 컬럼별 수치 범위가 다양하기 때문에 정규화를 통해 데이터를 0과 1사이로 맞추는 정규화를 진행할 수 있다.\n",
            "\n"
          ]
        }
      ],
      "source": [
        "print('''\n",
        "데이터 전처리 기법 2가지\n",
        "\n",
        "1. 원핫 인코딩: 여러값 중 하나만 활성화하는 인코딩이다.\n",
        "머신러닝 모델은 문자 데이터를 이해하지 못하기 때문에 문자로 구성된 범주형 데이터를 숫자로 바꿀 때 사용한다.\n",
        "효과 : 현재 데이터는 object 타입의 범주형 데이터가 많으므로, 원 핫 인코딩을 통해 머신러닝 모델에 넣을 수 있는 데이터 형태로 변환할 수 있게된다.\n",
        "\n",
        "\n",
        "2. 정규화 : 연속형 데이터를 특정 범위 내로 스케일 조정하는 방법이다.\n",
        "주로 데이터의 범위를 0과 1사이로 제한할 때 사용할 수 있으며, 데이터의 상대적인 크기와 중요성을 유지할 수 있다.\n",
        "효과 : 현재 데이터는 각 컬럼별 수치 범위가 다양하기 때문에 정규화를 통해 데이터를 0과 1사이로 맞추는 정규화를 진행할 수 있다.\n",
        "''')"
      ]
    },
    {
      "cell_type": "markdown",
      "id": "98cb5ad0",
      "metadata": {
        "id": "98cb5ad0"
      },
      "source": [
        "## 1-3 피쳐 엔지니어링을 통해 파생변수 1개를 생성하고 그 이유를 말하라\n",
        "\n",
        "#"
      ]
    },
    {
      "cell_type": "code",
      "execution_count": null,
      "id": "zeB5bpf-zBe5",
      "metadata": {
        "colab": {
          "base_uri": "https://localhost:8080/"
        },
        "id": "zeB5bpf-zBe5",
        "outputId": "a6f6315d-b1be-4291-b705-ece0761e2051"
      },
      "outputs": [
        {
          "name": "stdout",
          "output_type": "stream",
          "text": [
            "주어진 데이터를 토대로 age와 BMI 두개의 특성을 이용해서 Age_BMI_ratio라는 새로운 특성을 추가하였다\n",
            "이 새로운 특성은 Age를 BMI로 나눈 값이다. 이를 추가한 이유는 BMI대비 나이가 높을수록 비만정도가 높다는 가설을 확인하기 위함이다.\n"
          ]
        }
      ],
      "source": [
        "import numpy as np\n",
        "\n",
        "print('주어진 데이터를 토대로 age와 BMI 두개의 특성을 이용해서 Age_BMI_ratio라는 새로운 특성을 추가하였다')\n",
        "print('이 새로운 특성은 Age를 BMI로 나눈 값이다. 이를 추가한 이유는 BMI대비 나이가 높을수록 비만정도가 높다는 가설을 확인하기 위함이다.')"
      ]
    },
    {
      "cell_type": "markdown",
      "id": "2f91d43c",
      "metadata": {
        "id": "2f91d43c"
      },
      "source": [
        "## 2-1 앙상블을 제외한 분류 모델 3가지 구축 및 결과 비교 및 설명하라"
      ]
    },
    {
      "cell_type": "code",
      "execution_count": null,
      "id": "437GHGGv1znb",
      "metadata": {
        "colab": {
          "base_uri": "https://localhost:8080/"
        },
        "id": "437GHGGv1znb",
        "outputId": "8d06c4a3-badd-4e45-e37c-d0e96ba30e1b"
      },
      "outputs": [
        {
          "name": "stdout",
          "output_type": "stream",
          "text": [
            "\n",
            "1.결정트리.\n",
            "2. SVM\n",
            "3. KNN을 사용하여 분류해보았다. \n",
            "\n"
          ]
        },
        {
          "data": {
            "text/plain": [
              "0       0\n",
              "1       1\n",
              "2       1\n",
              "3       1\n",
              "4       0\n",
              "       ..\n",
              "1257    3\n",
              "1258    3\n",
              "1259    3\n",
              "1260    3\n",
              "1261    3\n",
              "Name: NObeyesdad, Length: 1262, dtype: int64"
            ]
          },
          "execution_count": 150,
          "metadata": {},
          "output_type": "execute_result"
        }
      ],
      "source": [
        "print('''\n",
        "1.결정트리.\n",
        "2. SVM\n",
        "3. KNN을 사용하여 분류해보았다.\n",
        "''')"
      ]
    },
    {
      "cell_type": "code",
      "execution_count": null,
      "id": "Jpd_JIfv4MGI",
      "metadata": {
        "colab": {
          "base_uri": "https://localhost:8080/"
        },
        "id": "Jpd_JIfv4MGI",
        "outputId": "f9ff2c06-dff9-40ae-cc61-249795b68a49"
      },
      "outputs": [
        {
          "name": "stdout",
          "output_type": "stream",
          "text": [
            "결정트리\n",
            "결정트리 정확도 :  0.9881422924901185\n",
            "KNN \n",
            "knn 정확도 :  0.9920948616600791\n",
            "SVM \n",
            "svm 정확도 :  0.8893280632411067\n"
          ]
        }
      ],
      "source": [
        "print('결정트리')\n",
        "print('결정트리 정확도 : ',accuracy)\n",
        "\n",
        "print('KNN ')\n",
        "print('knn 정확도 : ', accuracy)\n",
        "\n",
        "from sklearn.svm import SVC\n",
        "print('SVM ')\n",
        "print('svm 정확도 : ', accuracy)\n",
        "\n",
        "\n"
      ]
    },
    {
      "cell_type": "code",
      "execution_count": null,
      "id": "RaHTkkSaLHu7",
      "metadata": {
        "colab": {
          "base_uri": "https://localhost:8080/"
        },
        "id": "RaHTkkSaLHu7",
        "outputId": "ce9eb817-9a25-4669-f4e2-4e0c5173245c"
      },
      "outputs": [
        {
          "name": "stdout",
          "output_type": "stream",
          "text": [
            "knn의 정확도가 0.99가 나와서 가장 높은 정확도를 보였고 그 다음으로 결정트리의 정확도가 0.98로 높았으며, svm이 세 모델 중에서 성능은 가장 낮은 것으로 확인되었다.\n",
            "따라서 knn모델이 가장 높은 정확도를 가지고 있으므로 가장 좋은 모델이라고 판단할 수 있다.\n"
          ]
        }
      ],
      "source": [
        "print('knn의 정확도가 0.99가 나와서 가장 높은 정확도를 보였고 그 다음으로 결정트리의 정확도가 0.98로 높았으며, svm이 세 모델 중에서 성능은 가장 낮은 것으로 확인되었다.')\n",
        "print('따라서 knn모델이 가장 높은 정확도를 가지고 있으므로 가장 좋은 모델이라고 판단할 수 있다.')"
      ]
    },
    {
      "cell_type": "markdown",
      "id": "660d2818",
      "metadata": {
        "id": "660d2818"
      },
      "source": [
        "## 2-2 2-1에서 사용한 모델 중 하나를 골라 그리드 서치를 통해서 파라미터 튜닝 및 분류 모델 성능 평가 (precision ,recall)"
      ]
    },
    {
      "cell_type": "code",
      "execution_count": null,
      "id": "SdRLiK5YLz9a",
      "metadata": {
        "colab": {
          "base_uri": "https://localhost:8080/"
        },
        "id": "SdRLiK5YLz9a",
        "outputId": "1f717c9b-069f-4626-eaf6-c47277bafb35"
      },
      "outputs": [
        {
          "name": "stdout",
          "output_type": "stream",
          "text": [
            "              precision    recall  f1-score   support\n",
            "\n",
            "           0       1.00      1.00      1.00        60\n",
            "           1       1.00      1.00      1.00        68\n",
            "           2       1.00      1.00      1.00        52\n",
            "           3       1.00      1.00      1.00        73\n",
            "\n",
            "    accuracy                           1.00       253\n",
            "   macro avg       1.00      1.00      1.00       253\n",
            "weighted avg       1.00      1.00      1.00       253\n",
            "\n"
          ]
        }
      ],
      "source": []
    },
    {
      "cell_type": "markdown",
      "id": "26ec3f77",
      "metadata": {
        "id": "26ec3f77"
      },
      "source": [
        "## 2-3 2-1의 3가지 모델을 soft voting을 이용하여 모델링 한 결과와 2-2과 비교하라"
      ]
    },
    {
      "cell_type": "code",
      "execution_count": null,
      "id": "ONfLXhucNa90",
      "metadata": {
        "colab": {
          "base_uri": "https://localhost:8080/"
        },
        "id": "ONfLXhucNa90",
        "outputId": "45205099-9161-4fff-eace-214414b3c6ec"
      },
      "outputs": [
        {
          "name": "stdout",
          "output_type": "stream",
          "text": [
            "앙상블(보팅) 정확도 : 0.9960474308300395\n"
          ]
        }
      ],
      "source": []
    },
    {
      "cell_type": "code",
      "execution_count": null,
      "id": "3O3xiqwSORNR",
      "metadata": {
        "colab": {
          "base_uri": "https://localhost:8080/"
        },
        "id": "3O3xiqwSORNR",
        "outputId": "95f1a08c-93ed-482c-b624-f20dfee20f57"
      },
      "outputs": [
        {
          "name": "stdout",
          "output_type": "stream",
          "text": [
            "2-2의 모델과 소프트 보팅을 사용한 2-3의 결과물을 비교한 결과 2-2의 모델이 더 좋은 성능을 내는 것을 확인할 수 있다.\n"
          ]
        }
      ],
      "source": [
        "print('2-2의 모델과 소프트 보팅을 사용한 2-3의 결과물을 비교한 결과 2-2의 모델이 더 좋은 성능을 내는 것을 확인할 수 있다.')"
      ]
    },
    {
      "cell_type": "markdown",
      "id": "11a855de",
      "metadata": {
        "id": "11a855de"
      },
      "source": [
        "## 3-2 하나의 모델을 선정하여 Drop-Column Importance 방법으로 특성의 중요도(feature importance)를 산출하여 제시"
      ]
    },
    {
      "cell_type": "markdown",
      "id": "bf0b1e49",
      "metadata": {
        "id": "bf0b1e49"
      },
      "source": [
        "## 데이터 설명\n",
        "- 데이터 출처 : 자체제작\n",
        "- 데이터 링크 : https://raw.githubusercontent.com/Datamanim/datarepo/main/adp/31/adp_31_2_v2.csv\n",
        "- 데이터 설명 : 중고등학생 건강검진 데이터"
      ]
    },
    {
      "cell_type": "markdown",
      "id": "4e4fe7ae",
      "metadata": {
        "id": "4e4fe7ae"
      },
      "source": [
        "## 4-1 아래의 기준으로 전처리를 하여 적정 체중 여부 컬럼을 생성하고 적정 체중여부에 대한 빈도 표를 만들어라\n",
        "\n",
        "> bmi 계산\n",
        "    - Bmi = 몸무게(kg)/(키(m)**2)   \n",
        "\n",
        "> 만나이 구하기\n",
        "    - 건강검진을 받았던 날을 기준으로 생년월일과 일수 차이가 16년 364일 이하인 경우 만 16세 그 이상의 경우 만 17로 분류하라\n",
        "    - 윤년 등은 고려하지 않는다. 햇수로 16년 + 일수로 364일이 기준이다\n",
        "\n",
        "\n",
        "> 적정 체중 여부 (BMI가 아래 구간에 들어올 경우)     \n",
        "    17세 남자 : 21.03이상 23.21 미만   \n",
        "    17세 여자 : 20.03이상 22.39 미만    \n",
        "    16세 남자 : 21.18이상 23.45 미만   \n",
        "    16세 여자 : 19.61이상 21.74 미만       "
      ]
    },
    {
      "cell_type": "code",
      "execution_count": null,
      "id": "9yCY5KEMX71R",
      "metadata": {
        "colab": {
          "base_uri": "https://localhost:8080/",
          "height": 206
        },
        "id": "9yCY5KEMX71R",
        "outputId": "4035a1b7-6010-45a4-9601-fb71c57e2deb"
      },
      "outputs": [
        {
          "data": {
            "application/vnd.google.colaboratory.intrinsic+json": {
              "summary": "{\n  \"name\": \"df\",\n  \"rows\": 6801,\n  \"fields\": [\n    {\n      \"column\": \"ID\",\n      \"properties\": {\n        \"dtype\": \"string\",\n        \"num_unique_values\": 6801,\n        \"samples\": [\n          \"ID_5637\",\n          \"ID_2624\",\n          \"ID_2538\"\n        ],\n        \"semantic_type\": \"\",\n        \"description\": \"\"\n      }\n    },\n    {\n      \"column\": \"\\ud0a4\",\n      \"properties\": {\n        \"dtype\": \"number\",\n        \"std\": 8.719862633621872,\n        \"min\": 137.31,\n        \"max\": 191.03,\n        \"num_unique_values\": 2985,\n        \"samples\": [\n          159.75,\n          172.39,\n          177.32\n        ],\n        \"semantic_type\": \"\",\n        \"description\": \"\"\n      }\n    },\n    {\n      \"column\": \"weight\",\n      \"properties\": {\n        \"dtype\": \"number\",\n        \"std\": 7.704119368376088,\n        \"min\": 37.46,\n        \"max\": 83.88,\n        \"num_unique_values\": 2710,\n        \"samples\": [\n          64.0,\n          45.44,\n          50.46\n        ],\n        \"semantic_type\": \"\",\n        \"description\": \"\"\n      }\n    },\n    {\n      \"column\": \"\\uc0dd\\ub144\\uc6d4\\uc77c\",\n      \"properties\": {\n        \"dtype\": \"number\",\n        \"std\": 28836,\n        \"min\": 19970101,\n        \"max\": 20061230,\n        \"num_unique_values\": 3103,\n        \"samples\": [\n          19980220,\n          19970627,\n          19990824\n        ],\n        \"semantic_type\": \"\",\n        \"description\": \"\"\n      }\n    },\n    {\n      \"column\": \"\\uac74\\uac15\\uac80\\uc9c4\\uc77c\",\n      \"properties\": {\n        \"dtype\": \"category\",\n        \"num_unique_values\": 3263,\n        \"samples\": [\n          \"2022_04_14\",\n          \"2020_01_23\",\n          \"2016_04_18\"\n        ],\n        \"semantic_type\": \"\",\n        \"description\": \"\"\n      }\n    },\n    {\n      \"column\": \"\\uacf5\\ud559\\uc5ec\\ubd80\",\n      \"properties\": {\n        \"dtype\": \"number\",\n        \"std\": 0,\n        \"min\": 0,\n        \"max\": 1,\n        \"num_unique_values\": 2,\n        \"samples\": [\n          0,\n          1\n        ],\n        \"semantic_type\": \"\",\n        \"description\": \"\"\n      }\n    },\n    {\n      \"column\": \"\\ucc44\\uc18c\\uc12d\\ucde8\\uc815\\ub3c4\",\n      \"properties\": {\n        \"dtype\": \"number\",\n        \"std\": 1,\n        \"min\": 0,\n        \"max\": 4,\n        \"num_unique_values\": 5,\n        \"samples\": [\n          3,\n          0\n        ],\n        \"semantic_type\": \"\",\n        \"description\": \"\"\n      }\n    },\n    {\n      \"column\": \"\\uc544\\uce68\\uc2dd\\uc0ac\\uc5ec\\ubd80\",\n      \"properties\": {\n        \"dtype\": \"number\",\n        \"std\": 0,\n        \"min\": 0,\n        \"max\": 1,\n        \"num_unique_values\": 2,\n        \"samples\": [\n          0,\n          1\n        ],\n        \"semantic_type\": \"\",\n        \"description\": \"\"\n      }\n    },\n    {\n      \"column\": \"\\uc77c\\uc8fc\\uc77c\\uc6b4\\ub3d9\\uc2dc\\uac04\",\n      \"properties\": {\n        \"dtype\": \"number\",\n        \"std\": 2.8471369557971804,\n        \"min\": 0.0,\n        \"max\": 9.9,\n        \"num_unique_values\": 100,\n        \"samples\": [\n          8.4,\n          7.4\n        ],\n        \"semantic_type\": \"\",\n        \"description\": \"\"\n      }\n    },\n    {\n      \"column\": \"\\uc218\\uba74\\uc2dc\\uac04\",\n      \"properties\": {\n        \"dtype\": \"number\",\n        \"std\": 1.4533974957911062,\n        \"min\": 5.0,\n        \"max\": 9.9,\n        \"num_unique_values\": 50,\n        \"samples\": [\n          6.7,\n          9.0\n        ],\n        \"semantic_type\": \"\",\n        \"description\": \"\"\n      }\n    },\n    {\n      \"column\": \"\\uc131\\ubcc4\",\n      \"properties\": {\n        \"dtype\": \"category\",\n        \"num_unique_values\": 2,\n        \"samples\": [\n          \"\\uc5ec\\uc131\",\n          \"\\ub0a8\\uc131\"\n        ],\n        \"semantic_type\": \"\",\n        \"description\": \"\"\n      }\n    }\n  ]\n}",
              "type": "dataframe",
              "variable_name": "df"
            },
            "text/html": [
              "\n",
              "  <div id=\"df-db2f5639-74da-4c6d-be9d-1efa41de0640\" class=\"colab-df-container\">\n",
              "    <div>\n",
              "<style scoped>\n",
              "    .dataframe tbody tr th:only-of-type {\n",
              "        vertical-align: middle;\n",
              "    }\n",
              "\n",
              "    .dataframe tbody tr th {\n",
              "        vertical-align: top;\n",
              "    }\n",
              "\n",
              "    .dataframe thead th {\n",
              "        text-align: right;\n",
              "    }\n",
              "</style>\n",
              "<table border=\"1\" class=\"dataframe\">\n",
              "  <thead>\n",
              "    <tr style=\"text-align: right;\">\n",
              "      <th></th>\n",
              "      <th>ID</th>\n",
              "      <th>키</th>\n",
              "      <th>weight</th>\n",
              "      <th>생년월일</th>\n",
              "      <th>건강검진일</th>\n",
              "      <th>공학여부</th>\n",
              "      <th>채소섭취정도</th>\n",
              "      <th>아침식사여부</th>\n",
              "      <th>일주일운동시간</th>\n",
              "      <th>수면시간</th>\n",
              "      <th>성별</th>\n",
              "    </tr>\n",
              "  </thead>\n",
              "  <tbody>\n",
              "    <tr>\n",
              "      <th>0</th>\n",
              "      <td>ID_4135</td>\n",
              "      <td>169.01</td>\n",
              "      <td>65.47</td>\n",
              "      <td>20041003</td>\n",
              "      <td>2020_11_15</td>\n",
              "      <td>1</td>\n",
              "      <td>2</td>\n",
              "      <td>1</td>\n",
              "      <td>4.4</td>\n",
              "      <td>8.3</td>\n",
              "      <td>남성</td>\n",
              "    </tr>\n",
              "    <tr>\n",
              "      <th>1</th>\n",
              "      <td>ID_3289</td>\n",
              "      <td>181.62</td>\n",
              "      <td>69.36</td>\n",
              "      <td>19970725</td>\n",
              "      <td>2014_11_20</td>\n",
              "      <td>0</td>\n",
              "      <td>3</td>\n",
              "      <td>0</td>\n",
              "      <td>4.4</td>\n",
              "      <td>6.9</td>\n",
              "      <td>남성</td>\n",
              "    </tr>\n",
              "    <tr>\n",
              "      <th>2</th>\n",
              "      <td>ID_1847</td>\n",
              "      <td>160.89</td>\n",
              "      <td>65.12</td>\n",
              "      <td>20020921</td>\n",
              "      <td>2020_01_28</td>\n",
              "      <td>1</td>\n",
              "      <td>1</td>\n",
              "      <td>1</td>\n",
              "      <td>1.7</td>\n",
              "      <td>9.6</td>\n",
              "      <td>여성</td>\n",
              "    </tr>\n",
              "    <tr>\n",
              "      <th>3</th>\n",
              "      <td>ID_4785</td>\n",
              "      <td>162.21</td>\n",
              "      <td>62.28</td>\n",
              "      <td>20020106</td>\n",
              "      <td>2018_09_27</td>\n",
              "      <td>1</td>\n",
              "      <td>4</td>\n",
              "      <td>0</td>\n",
              "      <td>5.1</td>\n",
              "      <td>6.8</td>\n",
              "      <td>남성</td>\n",
              "    </tr>\n",
              "    <tr>\n",
              "      <th>4</th>\n",
              "      <td>ID_5693</td>\n",
              "      <td>159.13</td>\n",
              "      <td>54.11</td>\n",
              "      <td>19980708</td>\n",
              "      <td>2015_03_03</td>\n",
              "      <td>0</td>\n",
              "      <td>4</td>\n",
              "      <td>1</td>\n",
              "      <td>0.3</td>\n",
              "      <td>8.5</td>\n",
              "      <td>여성</td>\n",
              "    </tr>\n",
              "  </tbody>\n",
              "</table>\n",
              "</div>\n",
              "    <div class=\"colab-df-buttons\">\n",
              "\n",
              "  <div class=\"colab-df-container\">\n",
              "    <button class=\"colab-df-convert\" onclick=\"convertToInteractive('df-db2f5639-74da-4c6d-be9d-1efa41de0640')\"\n",
              "            title=\"Convert this dataframe to an interactive table.\"\n",
              "            style=\"display:none;\">\n",
              "\n",
              "  <svg xmlns=\"http://www.w3.org/2000/svg\" height=\"24px\" viewBox=\"0 -960 960 960\">\n",
              "    <path d=\"M120-120v-720h720v720H120Zm60-500h600v-160H180v160Zm220 220h160v-160H400v160Zm0 220h160v-160H400v160ZM180-400h160v-160H180v160Zm440 0h160v-160H620v160ZM180-180h160v-160H180v160Zm440 0h160v-160H620v160Z\"/>\n",
              "  </svg>\n",
              "    </button>\n",
              "\n",
              "  <style>\n",
              "    .colab-df-container {\n",
              "      display:flex;\n",
              "      gap: 12px;\n",
              "    }\n",
              "\n",
              "    .colab-df-convert {\n",
              "      background-color: #E8F0FE;\n",
              "      border: none;\n",
              "      border-radius: 50%;\n",
              "      cursor: pointer;\n",
              "      display: none;\n",
              "      fill: #1967D2;\n",
              "      height: 32px;\n",
              "      padding: 0 0 0 0;\n",
              "      width: 32px;\n",
              "    }\n",
              "\n",
              "    .colab-df-convert:hover {\n",
              "      background-color: #E2EBFA;\n",
              "      box-shadow: 0px 1px 2px rgba(60, 64, 67, 0.3), 0px 1px 3px 1px rgba(60, 64, 67, 0.15);\n",
              "      fill: #174EA6;\n",
              "    }\n",
              "\n",
              "    .colab-df-buttons div {\n",
              "      margin-bottom: 4px;\n",
              "    }\n",
              "\n",
              "    [theme=dark] .colab-df-convert {\n",
              "      background-color: #3B4455;\n",
              "      fill: #D2E3FC;\n",
              "    }\n",
              "\n",
              "    [theme=dark] .colab-df-convert:hover {\n",
              "      background-color: #434B5C;\n",
              "      box-shadow: 0px 1px 3px 1px rgba(0, 0, 0, 0.15);\n",
              "      filter: drop-shadow(0px 1px 2px rgba(0, 0, 0, 0.3));\n",
              "      fill: #FFFFFF;\n",
              "    }\n",
              "  </style>\n",
              "\n",
              "    <script>\n",
              "      const buttonEl =\n",
              "        document.querySelector('#df-db2f5639-74da-4c6d-be9d-1efa41de0640 button.colab-df-convert');\n",
              "      buttonEl.style.display =\n",
              "        google.colab.kernel.accessAllowed ? 'block' : 'none';\n",
              "\n",
              "      async function convertToInteractive(key) {\n",
              "        const element = document.querySelector('#df-db2f5639-74da-4c6d-be9d-1efa41de0640');\n",
              "        const dataTable =\n",
              "          await google.colab.kernel.invokeFunction('convertToInteractive',\n",
              "                                                    [key], {});\n",
              "        if (!dataTable) return;\n",
              "\n",
              "        const docLinkHtml = 'Like what you see? Visit the ' +\n",
              "          '<a target=\"_blank\" href=https://colab.research.google.com/notebooks/data_table.ipynb>data table notebook</a>'\n",
              "          + ' to learn more about interactive tables.';\n",
              "        element.innerHTML = '';\n",
              "        dataTable['output_type'] = 'display_data';\n",
              "        await google.colab.output.renderOutput(dataTable, element);\n",
              "        const docLink = document.createElement('div');\n",
              "        docLink.innerHTML = docLinkHtml;\n",
              "        element.appendChild(docLink);\n",
              "      }\n",
              "    </script>\n",
              "  </div>\n",
              "\n",
              "\n",
              "<div id=\"df-5d3e1843-bad9-41eb-b1c3-c3bd69ee1351\">\n",
              "  <button class=\"colab-df-quickchart\" onclick=\"quickchart('df-5d3e1843-bad9-41eb-b1c3-c3bd69ee1351')\"\n",
              "            title=\"Suggest charts\"\n",
              "            style=\"display:none;\">\n",
              "\n",
              "<svg xmlns=\"http://www.w3.org/2000/svg\" height=\"24px\"viewBox=\"0 0 24 24\"\n",
              "     width=\"24px\">\n",
              "    <g>\n",
              "        <path d=\"M19 3H5c-1.1 0-2 .9-2 2v14c0 1.1.9 2 2 2h14c1.1 0 2-.9 2-2V5c0-1.1-.9-2-2-2zM9 17H7v-7h2v7zm4 0h-2V7h2v10zm4 0h-2v-4h2v4z\"/>\n",
              "    </g>\n",
              "</svg>\n",
              "  </button>\n",
              "\n",
              "<style>\n",
              "  .colab-df-quickchart {\n",
              "      --bg-color: #E8F0FE;\n",
              "      --fill-color: #1967D2;\n",
              "      --hover-bg-color: #E2EBFA;\n",
              "      --hover-fill-color: #174EA6;\n",
              "      --disabled-fill-color: #AAA;\n",
              "      --disabled-bg-color: #DDD;\n",
              "  }\n",
              "\n",
              "  [theme=dark] .colab-df-quickchart {\n",
              "      --bg-color: #3B4455;\n",
              "      --fill-color: #D2E3FC;\n",
              "      --hover-bg-color: #434B5C;\n",
              "      --hover-fill-color: #FFFFFF;\n",
              "      --disabled-bg-color: #3B4455;\n",
              "      --disabled-fill-color: #666;\n",
              "  }\n",
              "\n",
              "  .colab-df-quickchart {\n",
              "    background-color: var(--bg-color);\n",
              "    border: none;\n",
              "    border-radius: 50%;\n",
              "    cursor: pointer;\n",
              "    display: none;\n",
              "    fill: var(--fill-color);\n",
              "    height: 32px;\n",
              "    padding: 0;\n",
              "    width: 32px;\n",
              "  }\n",
              "\n",
              "  .colab-df-quickchart:hover {\n",
              "    background-color: var(--hover-bg-color);\n",
              "    box-shadow: 0 1px 2px rgba(60, 64, 67, 0.3), 0 1px 3px 1px rgba(60, 64, 67, 0.15);\n",
              "    fill: var(--button-hover-fill-color);\n",
              "  }\n",
              "\n",
              "  .colab-df-quickchart-complete:disabled,\n",
              "  .colab-df-quickchart-complete:disabled:hover {\n",
              "    background-color: var(--disabled-bg-color);\n",
              "    fill: var(--disabled-fill-color);\n",
              "    box-shadow: none;\n",
              "  }\n",
              "\n",
              "  .colab-df-spinner {\n",
              "    border: 2px solid var(--fill-color);\n",
              "    border-color: transparent;\n",
              "    border-bottom-color: var(--fill-color);\n",
              "    animation:\n",
              "      spin 1s steps(1) infinite;\n",
              "  }\n",
              "\n",
              "  @keyframes spin {\n",
              "    0% {\n",
              "      border-color: transparent;\n",
              "      border-bottom-color: var(--fill-color);\n",
              "      border-left-color: var(--fill-color);\n",
              "    }\n",
              "    20% {\n",
              "      border-color: transparent;\n",
              "      border-left-color: var(--fill-color);\n",
              "      border-top-color: var(--fill-color);\n",
              "    }\n",
              "    30% {\n",
              "      border-color: transparent;\n",
              "      border-left-color: var(--fill-color);\n",
              "      border-top-color: var(--fill-color);\n",
              "      border-right-color: var(--fill-color);\n",
              "    }\n",
              "    40% {\n",
              "      border-color: transparent;\n",
              "      border-right-color: var(--fill-color);\n",
              "      border-top-color: var(--fill-color);\n",
              "    }\n",
              "    60% {\n",
              "      border-color: transparent;\n",
              "      border-right-color: var(--fill-color);\n",
              "    }\n",
              "    80% {\n",
              "      border-color: transparent;\n",
              "      border-right-color: var(--fill-color);\n",
              "      border-bottom-color: var(--fill-color);\n",
              "    }\n",
              "    90% {\n",
              "      border-color: transparent;\n",
              "      border-bottom-color: var(--fill-color);\n",
              "    }\n",
              "  }\n",
              "</style>\n",
              "\n",
              "  <script>\n",
              "    async function quickchart(key) {\n",
              "      const quickchartButtonEl =\n",
              "        document.querySelector('#' + key + ' button');\n",
              "      quickchartButtonEl.disabled = true;  // To prevent multiple clicks.\n",
              "      quickchartButtonEl.classList.add('colab-df-spinner');\n",
              "      try {\n",
              "        const charts = await google.colab.kernel.invokeFunction(\n",
              "            'suggestCharts', [key], {});\n",
              "      } catch (error) {\n",
              "        console.error('Error during call to suggestCharts:', error);\n",
              "      }\n",
              "      quickchartButtonEl.classList.remove('colab-df-spinner');\n",
              "      quickchartButtonEl.classList.add('colab-df-quickchart-complete');\n",
              "    }\n",
              "    (() => {\n",
              "      let quickchartButtonEl =\n",
              "        document.querySelector('#df-5d3e1843-bad9-41eb-b1c3-c3bd69ee1351 button');\n",
              "      quickchartButtonEl.style.display =\n",
              "        google.colab.kernel.accessAllowed ? 'block' : 'none';\n",
              "    })();\n",
              "  </script>\n",
              "</div>\n",
              "\n",
              "    </div>\n",
              "  </div>\n"
            ],
            "text/plain": [
              "        ID       키  weight      생년월일       건강검진일  공학여부  채소섭취정도  아침식사여부  \\\n",
              "0  ID_4135  169.01   65.47  20041003  2020_11_15     1       2       1   \n",
              "1  ID_3289  181.62   69.36  19970725  2014_11_20     0       3       0   \n",
              "2  ID_1847  160.89   65.12  20020921  2020_01_28     1       1       1   \n",
              "3  ID_4785  162.21   62.28  20020106  2018_09_27     1       4       0   \n",
              "4  ID_5693  159.13   54.11  19980708  2015_03_03     0       4       1   \n",
              "\n",
              "   일주일운동시간  수면시간  성별  \n",
              "0      4.4   8.3  남성  \n",
              "1      4.4   6.9  남성  \n",
              "2      1.7   9.6  여성  \n",
              "3      5.1   6.8  남성  \n",
              "4      0.3   8.5  여성  "
            ]
          },
          "execution_count": 166,
          "metadata": {},
          "output_type": "execute_result"
        }
      ],
      "source": [
        "import pandas as pd\n",
        "df = pd.read_csv('https://raw.githubusercontent.com/Datamanim/datarepo/main/adp/31/adp_31_2_v2.csv')\n",
        "df.head()"
      ]
    },
    {
      "cell_type": "markdown",
      "id": "e4725c76",
      "metadata": {
        "id": "e4725c76"
      },
      "source": [
        "## 4-2 4-1에서 구한 적정 체중 여부와 나머지 컬럼(공학여부, 아침식사여부, 일주일운동시간, 채소섭취정도, 수면시간, 성별) 이 독립적인지 통계적으로 확인하라"
      ]
    },
    {
      "cell_type": "code",
      "execution_count": null,
      "id": "TZxSF0m5aslO",
      "metadata": {
        "colab": {
          "base_uri": "https://localhost:8080/",
          "height": 237
        },
        "id": "TZxSF0m5aslO",
        "outputId": "a9826902-ee09-4db0-bcdf-318cb63661df"
      },
      "outputs": [
        {
          "data": {
            "application/vnd.google.colaboratory.intrinsic+json": {
              "summary": "{\n  \"name\": \"result_df\",\n  \"rows\": 6,\n  \"fields\": [\n    {\n      \"column\": \"chi\",\n      \"properties\": {\n        \"dtype\": \"number\",\n        \"std\": 45.76711703612944,\n        \"min\": 0.002344801636681143,\n        \"max\": 115.74522156058008,\n        \"num_unique_values\": 6,\n        \"samples\": [\n          4.5423677890076695,\n          0.15215088093453707,\n          0.002344801636681143\n        ],\n        \"semantic_type\": \"\",\n        \"description\": \"\"\n      }\n    },\n    {\n      \"column\": \"p_value\",\n      \"properties\": {\n        \"dtype\": \"number\",\n        \"std\": 0.3927168897817784,\n        \"min\": 0.033065823849352534,\n        \"max\": 0.9613790084238675,\n        \"num_unique_values\": 6,\n        \"samples\": [\n          0.033065823849352534,\n          0.6964883154464439,\n          0.9613790084238675\n        ],\n        \"semantic_type\": \"\",\n        \"description\": \"\"\n      }\n    }\n  ]\n}",
              "type": "dataframe",
              "variable_name": "result_df"
            },
            "text/html": [
              "\n",
              "  <div id=\"df-1f7ef35f-54be-4b71-8a53-bca5679933a3\" class=\"colab-df-container\">\n",
              "    <div>\n",
              "<style scoped>\n",
              "    .dataframe tbody tr th:only-of-type {\n",
              "        vertical-align: middle;\n",
              "    }\n",
              "\n",
              "    .dataframe tbody tr th {\n",
              "        vertical-align: top;\n",
              "    }\n",
              "\n",
              "    .dataframe thead th {\n",
              "        text-align: right;\n",
              "    }\n",
              "</style>\n",
              "<table border=\"1\" class=\"dataframe\">\n",
              "  <thead>\n",
              "    <tr style=\"text-align: right;\">\n",
              "      <th></th>\n",
              "      <th>chi</th>\n",
              "      <th>p_value</th>\n",
              "    </tr>\n",
              "  </thead>\n",
              "  <tbody>\n",
              "    <tr>\n",
              "      <th>공학여부</th>\n",
              "      <td>4.542368</td>\n",
              "      <td>0.033066</td>\n",
              "    </tr>\n",
              "    <tr>\n",
              "      <th>아침식사여부</th>\n",
              "      <td>0.152151</td>\n",
              "      <td>0.696488</td>\n",
              "    </tr>\n",
              "    <tr>\n",
              "      <th>일주일운동시간</th>\n",
              "      <td>115.745222</td>\n",
              "      <td>0.119871</td>\n",
              "    </tr>\n",
              "    <tr>\n",
              "      <th>채소섭취정도</th>\n",
              "      <td>10.143194</td>\n",
              "      <td>0.038083</td>\n",
              "    </tr>\n",
              "    <tr>\n",
              "      <th>수면시간</th>\n",
              "      <td>46.992431</td>\n",
              "      <td>0.554877</td>\n",
              "    </tr>\n",
              "    <tr>\n",
              "      <th>성별</th>\n",
              "      <td>0.002345</td>\n",
              "      <td>0.961379</td>\n",
              "    </tr>\n",
              "  </tbody>\n",
              "</table>\n",
              "</div>\n",
              "    <div class=\"colab-df-buttons\">\n",
              "\n",
              "  <div class=\"colab-df-container\">\n",
              "    <button class=\"colab-df-convert\" onclick=\"convertToInteractive('df-1f7ef35f-54be-4b71-8a53-bca5679933a3')\"\n",
              "            title=\"Convert this dataframe to an interactive table.\"\n",
              "            style=\"display:none;\">\n",
              "\n",
              "  <svg xmlns=\"http://www.w3.org/2000/svg\" height=\"24px\" viewBox=\"0 -960 960 960\">\n",
              "    <path d=\"M120-120v-720h720v720H120Zm60-500h600v-160H180v160Zm220 220h160v-160H400v160Zm0 220h160v-160H400v160ZM180-400h160v-160H180v160Zm440 0h160v-160H620v160ZM180-180h160v-160H180v160Zm440 0h160v-160H620v160Z\"/>\n",
              "  </svg>\n",
              "    </button>\n",
              "\n",
              "  <style>\n",
              "    .colab-df-container {\n",
              "      display:flex;\n",
              "      gap: 12px;\n",
              "    }\n",
              "\n",
              "    .colab-df-convert {\n",
              "      background-color: #E8F0FE;\n",
              "      border: none;\n",
              "      border-radius: 50%;\n",
              "      cursor: pointer;\n",
              "      display: none;\n",
              "      fill: #1967D2;\n",
              "      height: 32px;\n",
              "      padding: 0 0 0 0;\n",
              "      width: 32px;\n",
              "    }\n",
              "\n",
              "    .colab-df-convert:hover {\n",
              "      background-color: #E2EBFA;\n",
              "      box-shadow: 0px 1px 2px rgba(60, 64, 67, 0.3), 0px 1px 3px 1px rgba(60, 64, 67, 0.15);\n",
              "      fill: #174EA6;\n",
              "    }\n",
              "\n",
              "    .colab-df-buttons div {\n",
              "      margin-bottom: 4px;\n",
              "    }\n",
              "\n",
              "    [theme=dark] .colab-df-convert {\n",
              "      background-color: #3B4455;\n",
              "      fill: #D2E3FC;\n",
              "    }\n",
              "\n",
              "    [theme=dark] .colab-df-convert:hover {\n",
              "      background-color: #434B5C;\n",
              "      box-shadow: 0px 1px 3px 1px rgba(0, 0, 0, 0.15);\n",
              "      filter: drop-shadow(0px 1px 2px rgba(0, 0, 0, 0.3));\n",
              "      fill: #FFFFFF;\n",
              "    }\n",
              "  </style>\n",
              "\n",
              "    <script>\n",
              "      const buttonEl =\n",
              "        document.querySelector('#df-1f7ef35f-54be-4b71-8a53-bca5679933a3 button.colab-df-convert');\n",
              "      buttonEl.style.display =\n",
              "        google.colab.kernel.accessAllowed ? 'block' : 'none';\n",
              "\n",
              "      async function convertToInteractive(key) {\n",
              "        const element = document.querySelector('#df-1f7ef35f-54be-4b71-8a53-bca5679933a3');\n",
              "        const dataTable =\n",
              "          await google.colab.kernel.invokeFunction('convertToInteractive',\n",
              "                                                    [key], {});\n",
              "        if (!dataTable) return;\n",
              "\n",
              "        const docLinkHtml = 'Like what you see? Visit the ' +\n",
              "          '<a target=\"_blank\" href=https://colab.research.google.com/notebooks/data_table.ipynb>data table notebook</a>'\n",
              "          + ' to learn more about interactive tables.';\n",
              "        element.innerHTML = '';\n",
              "        dataTable['output_type'] = 'display_data';\n",
              "        await google.colab.output.renderOutput(dataTable, element);\n",
              "        const docLink = document.createElement('div');\n",
              "        docLink.innerHTML = docLinkHtml;\n",
              "        element.appendChild(docLink);\n",
              "      }\n",
              "    </script>\n",
              "  </div>\n",
              "\n",
              "\n",
              "<div id=\"df-17035a9f-547c-44b4-9626-854f0238c133\">\n",
              "  <button class=\"colab-df-quickchart\" onclick=\"quickchart('df-17035a9f-547c-44b4-9626-854f0238c133')\"\n",
              "            title=\"Suggest charts\"\n",
              "            style=\"display:none;\">\n",
              "\n",
              "<svg xmlns=\"http://www.w3.org/2000/svg\" height=\"24px\"viewBox=\"0 0 24 24\"\n",
              "     width=\"24px\">\n",
              "    <g>\n",
              "        <path d=\"M19 3H5c-1.1 0-2 .9-2 2v14c0 1.1.9 2 2 2h14c1.1 0 2-.9 2-2V5c0-1.1-.9-2-2-2zM9 17H7v-7h2v7zm4 0h-2V7h2v10zm4 0h-2v-4h2v4z\"/>\n",
              "    </g>\n",
              "</svg>\n",
              "  </button>\n",
              "\n",
              "<style>\n",
              "  .colab-df-quickchart {\n",
              "      --bg-color: #E8F0FE;\n",
              "      --fill-color: #1967D2;\n",
              "      --hover-bg-color: #E2EBFA;\n",
              "      --hover-fill-color: #174EA6;\n",
              "      --disabled-fill-color: #AAA;\n",
              "      --disabled-bg-color: #DDD;\n",
              "  }\n",
              "\n",
              "  [theme=dark] .colab-df-quickchart {\n",
              "      --bg-color: #3B4455;\n",
              "      --fill-color: #D2E3FC;\n",
              "      --hover-bg-color: #434B5C;\n",
              "      --hover-fill-color: #FFFFFF;\n",
              "      --disabled-bg-color: #3B4455;\n",
              "      --disabled-fill-color: #666;\n",
              "  }\n",
              "\n",
              "  .colab-df-quickchart {\n",
              "    background-color: var(--bg-color);\n",
              "    border: none;\n",
              "    border-radius: 50%;\n",
              "    cursor: pointer;\n",
              "    display: none;\n",
              "    fill: var(--fill-color);\n",
              "    height: 32px;\n",
              "    padding: 0;\n",
              "    width: 32px;\n",
              "  }\n",
              "\n",
              "  .colab-df-quickchart:hover {\n",
              "    background-color: var(--hover-bg-color);\n",
              "    box-shadow: 0 1px 2px rgba(60, 64, 67, 0.3), 0 1px 3px 1px rgba(60, 64, 67, 0.15);\n",
              "    fill: var(--button-hover-fill-color);\n",
              "  }\n",
              "\n",
              "  .colab-df-quickchart-complete:disabled,\n",
              "  .colab-df-quickchart-complete:disabled:hover {\n",
              "    background-color: var(--disabled-bg-color);\n",
              "    fill: var(--disabled-fill-color);\n",
              "    box-shadow: none;\n",
              "  }\n",
              "\n",
              "  .colab-df-spinner {\n",
              "    border: 2px solid var(--fill-color);\n",
              "    border-color: transparent;\n",
              "    border-bottom-color: var(--fill-color);\n",
              "    animation:\n",
              "      spin 1s steps(1) infinite;\n",
              "  }\n",
              "\n",
              "  @keyframes spin {\n",
              "    0% {\n",
              "      border-color: transparent;\n",
              "      border-bottom-color: var(--fill-color);\n",
              "      border-left-color: var(--fill-color);\n",
              "    }\n",
              "    20% {\n",
              "      border-color: transparent;\n",
              "      border-left-color: var(--fill-color);\n",
              "      border-top-color: var(--fill-color);\n",
              "    }\n",
              "    30% {\n",
              "      border-color: transparent;\n",
              "      border-left-color: var(--fill-color);\n",
              "      border-top-color: var(--fill-color);\n",
              "      border-right-color: var(--fill-color);\n",
              "    }\n",
              "    40% {\n",
              "      border-color: transparent;\n",
              "      border-right-color: var(--fill-color);\n",
              "      border-top-color: var(--fill-color);\n",
              "    }\n",
              "    60% {\n",
              "      border-color: transparent;\n",
              "      border-right-color: var(--fill-color);\n",
              "    }\n",
              "    80% {\n",
              "      border-color: transparent;\n",
              "      border-right-color: var(--fill-color);\n",
              "      border-bottom-color: var(--fill-color);\n",
              "    }\n",
              "    90% {\n",
              "      border-color: transparent;\n",
              "      border-bottom-color: var(--fill-color);\n",
              "    }\n",
              "  }\n",
              "</style>\n",
              "\n",
              "  <script>\n",
              "    async function quickchart(key) {\n",
              "      const quickchartButtonEl =\n",
              "        document.querySelector('#' + key + ' button');\n",
              "      quickchartButtonEl.disabled = true;  // To prevent multiple clicks.\n",
              "      quickchartButtonEl.classList.add('colab-df-spinner');\n",
              "      try {\n",
              "        const charts = await google.colab.kernel.invokeFunction(\n",
              "            'suggestCharts', [key], {});\n",
              "      } catch (error) {\n",
              "        console.error('Error during call to suggestCharts:', error);\n",
              "      }\n",
              "      quickchartButtonEl.classList.remove('colab-df-spinner');\n",
              "      quickchartButtonEl.classList.add('colab-df-quickchart-complete');\n",
              "    }\n",
              "    (() => {\n",
              "      let quickchartButtonEl =\n",
              "        document.querySelector('#df-17035a9f-547c-44b4-9626-854f0238c133 button');\n",
              "      quickchartButtonEl.style.display =\n",
              "        google.colab.kernel.accessAllowed ? 'block' : 'none';\n",
              "    })();\n",
              "  </script>\n",
              "</div>\n",
              "\n",
              "  <div id=\"id_12e6be26-2584-4077-936e-c2a1d42f285d\">\n",
              "    <style>\n",
              "      .colab-df-generate {\n",
              "        background-color: #E8F0FE;\n",
              "        border: none;\n",
              "        border-radius: 50%;\n",
              "        cursor: pointer;\n",
              "        display: none;\n",
              "        fill: #1967D2;\n",
              "        height: 32px;\n",
              "        padding: 0 0 0 0;\n",
              "        width: 32px;\n",
              "      }\n",
              "\n",
              "      .colab-df-generate:hover {\n",
              "        background-color: #E2EBFA;\n",
              "        box-shadow: 0px 1px 2px rgba(60, 64, 67, 0.3), 0px 1px 3px 1px rgba(60, 64, 67, 0.15);\n",
              "        fill: #174EA6;\n",
              "      }\n",
              "\n",
              "      [theme=dark] .colab-df-generate {\n",
              "        background-color: #3B4455;\n",
              "        fill: #D2E3FC;\n",
              "      }\n",
              "\n",
              "      [theme=dark] .colab-df-generate:hover {\n",
              "        background-color: #434B5C;\n",
              "        box-shadow: 0px 1px 3px 1px rgba(0, 0, 0, 0.15);\n",
              "        filter: drop-shadow(0px 1px 2px rgba(0, 0, 0, 0.3));\n",
              "        fill: #FFFFFF;\n",
              "      }\n",
              "    </style>\n",
              "    <button class=\"colab-df-generate\" onclick=\"generateWithVariable('result_df')\"\n",
              "            title=\"Generate code using this dataframe.\"\n",
              "            style=\"display:none;\">\n",
              "\n",
              "  <svg xmlns=\"http://www.w3.org/2000/svg\" height=\"24px\"viewBox=\"0 0 24 24\"\n",
              "       width=\"24px\">\n",
              "    <path d=\"M7,19H8.4L18.45,9,17,7.55,7,17.6ZM5,21V16.75L18.45,3.32a2,2,0,0,1,2.83,0l1.4,1.43a1.91,1.91,0,0,1,.58,1.4,1.91,1.91,0,0,1-.58,1.4L9.25,21ZM18.45,9,17,7.55Zm-12,3A5.31,5.31,0,0,0,4.9,8.1,5.31,5.31,0,0,0,1,6.5,5.31,5.31,0,0,0,4.9,4.9,5.31,5.31,0,0,0,6.5,1,5.31,5.31,0,0,0,8.1,4.9,5.31,5.31,0,0,0,12,6.5,5.46,5.46,0,0,0,6.5,12Z\"/>\n",
              "  </svg>\n",
              "    </button>\n",
              "    <script>\n",
              "      (() => {\n",
              "      const buttonEl =\n",
              "        document.querySelector('#id_12e6be26-2584-4077-936e-c2a1d42f285d button.colab-df-generate');\n",
              "      buttonEl.style.display =\n",
              "        google.colab.kernel.accessAllowed ? 'block' : 'none';\n",
              "\n",
              "      buttonEl.onclick = () => {\n",
              "        google.colab.notebook.generateWithVariable('result_df');\n",
              "      }\n",
              "      })();\n",
              "    </script>\n",
              "  </div>\n",
              "\n",
              "    </div>\n",
              "  </div>\n"
            ],
            "text/plain": [
              "                chi   p_value\n",
              "공학여부       4.542368  0.033066\n",
              "아침식사여부     0.152151  0.696488\n",
              "일주일운동시간  115.745222  0.119871\n",
              "채소섭취정도    10.143194  0.038083\n",
              "수면시간      46.992431  0.554877\n",
              "성별         0.002345  0.961379"
            ]
          },
          "execution_count": 173,
          "metadata": {},
          "output_type": "execute_result"
        }
      ],
      "source": []
    },
    {
      "cell_type": "code",
      "execution_count": null,
      "id": "pT04CrwCcD41",
      "metadata": {
        "colab": {
          "base_uri": "https://localhost:8080/"
        },
        "id": "pT04CrwCcD41",
        "outputId": "ec79d29d-b0b0-4da3-93b0-e1363f3612ad"
      },
      "outputs": [
        {
          "name": "stdout",
          "output_type": "stream",
          "text": [
            "\n",
            "검정 결과 p-value값이 0.05이상이면 해당 변수는 적정체중여부와 독립적이고\n",
            "0.05이하이면 독립적이지 않다고 판단할 수 있다.\n",
            "\n",
            "따라서 결과를 확인해보면 공학여부, 채소섭취정도는 독립적이지 않은 변수이며\n",
            "나머지 컬럼, 즉 아침식사여부, 일주일운동시간, 수면시간, 성별은 적정 체중여부와 독립적인 것을 확인할 수 있었다.\n",
            "    \n"
          ]
        }
      ],
      "source": [
        "print('''\n",
        "검정 결과 p-value값이 0.05이상이면 해당 변수는 적정체중여부와 독립적이고\n",
        "0.05이하이면 독립적이지 않다고 판단할 수 있다.\n",
        "\n",
        "따라서 결과를 확인해보면 공학여부, 채소섭취정도는 독립적이지 않은 변수이며\n",
        "나머지 컬럼, 즉 아침식사여부, 일주일운동시간, 수면시간, 성별은 적정 체중여부와 독립적인 것을 확인할 수 있었다.\n",
        "    '''\n",
        ")"
      ]
    },
    {
      "cell_type": "markdown",
      "id": "8979641c",
      "metadata": {
        "id": "8979641c"
      },
      "source": [
        "## 4-3 4-2에서 유의한 변수들만 가지고 적정 체중 여부를 예측하는 모델을 구현하고 성능 평가 및 해석을 하라 (로지스틱회귀 ,xgb)\n",
        "> 로지스틱회귀 모델은 오즈비를 구하라\n",
        "> xgb의 경우 각 피쳐중요도를 확인하고 예측에 영향을 가장 미치는 변수를 확인하라"
      ]
    },
    {
      "cell_type": "code",
      "execution_count": null,
      "id": "jRxcD0Z6g8pj",
      "metadata": {
        "colab": {
          "base_uri": "https://localhost:8080/"
        },
        "id": "jRxcD0Z6g8pj",
        "outputId": "c753b8dc-da30-4b83-b720-ec3e8fc32c58"
      },
      "outputs": [
        {
          "name": "stdout",
          "output_type": "stream",
          "text": [
            "\n",
            "로지스틱 모델의 오즈비는 공학여부의 경우 1.11204771 , 채소섭취정도는 1.00557371로 측정되었고\n",
            "XGBoost 모델의 피처중요도는 공학여부의 경우 0.7267853, 채소섭취정도는 0.27321473가 나왔다.\n",
            "xgboost의 경우 예측에 가장 많이 영향을 미치는 컬럼은 공학여부로 확인할 수 있었다.\n",
            "\n"
          ]
        }
      ],
      "source": [
        "print('''\n",
        "로지스틱 모델의 오즈비는 공학여부의 경우 1.11204771 , 채소섭취정도는 1.00557371로 측정되었고\n",
        "XGBoost 모델의 피처중요도는 공학여부의 경우 0.7267853, 채소섭취정도는 0.27321473가 나왔다.\n",
        "xgboost의 경우 예측에 가장 많이 영향을 미치는 컬럼은 공학여부로 확인할 수 있었다.\n",
        "'''\n",
        ")"
      ]
    },
    {
      "cell_type": "markdown",
      "id": "d30b8589",
      "metadata": {
        "id": "d30b8589"
      },
      "source": [
        "## 4-4 4-3 두 모델의 roc-auc 그래프를 하나의 그래프에 겹쳐 그려라"
      ]
    },
    {
      "cell_type": "markdown",
      "id": "526e7015",
      "metadata": {
        "id": "526e7015"
      },
      "source": [
        "# 통계 (40점)"
      ]
    },
    {
      "cell_type": "markdown",
      "id": "9da92811",
      "metadata": {
        "id": "9da92811"
      },
      "source": [
        "## 5. 평균이 $\\theta$이고 분산이 100인 정규분포의 사전분포가 (100, 256)일때 120의 값을 가지는 데이터가 있을 경우 사후평균은? (5점)\n",
        "무게가 N($\\theta$, 100)인 정규분포에서, 사전분포는 N(100, 256)이다. 제품의 무게가 120kg일 때, 사후분포의 평균을 구하라 (단, 소수점 3째자리까지 구하라)"
      ]
    },
    {
      "cell_type": "code",
      "execution_count": null,
      "id": "KhEpoo9cFmLo",
      "metadata": {
        "colab": {
          "base_uri": "https://localhost:8080/"
        },
        "id": "KhEpoo9cFmLo",
        "outputId": "24c903e7-f450-43aa-a98f-a31f1c24e18d"
      },
      "outputs": [
        {
          "data": {
            "text/plain": [
              "114.382"
            ]
          },
          "execution_count": 12,
          "metadata": {},
          "output_type": "execute_result"
        }
      ],
      "source": []
    },
    {
      "cell_type": "markdown",
      "id": "46d0923d",
      "metadata": {
        "id": "46d0923d"
      },
      "source": [
        "## 데이터 설명\n",
        "- 데이터 출처 : https://www.kaggle.com/datasets/yasserh/advertising-sales-dataset 후처리\n",
        "- 데이터 링크 : https://raw.githubusercontent.com/Datamanim/datarepo/main/adp/31/adp_31_5_advertising.csv\n",
        "- 데이터 설명 : TV, Radio, Newspaper에 각각 광고비(달러)를 다르게 했을때 매출액 (Sales , 밀리언달러)를 나타내는 데이터\n",
        "- 종속변수 : Sales"
      ]
    },
    {
      "cell_type": "markdown",
      "id": "20f8b71f",
      "metadata": {
        "id": "20f8b71f"
      },
      "source": [
        "## 6-1 회귀 모델링 후 유의하지 않는변수 파악 (15점)"
      ]
    },
    {
      "cell_type": "code",
      "execution_count": null,
      "id": "hD6_OEDcGZQ2",
      "metadata": {
        "colab": {
          "base_uri": "https://localhost:8080/"
        },
        "id": "hD6_OEDcGZQ2",
        "outputId": "aaaf9d8f-f611-4fba-e828-ea933dc2e5c6"
      },
      "outputs": [
        {
          "name": "stdout",
          "output_type": "stream",
          "text": [
            "<class 'pandas.core.frame.DataFrame'>\n",
            "RangeIndex: 200 entries, 0 to 199\n",
            "Data columns (total 4 columns):\n",
            " #   Column     Non-Null Count  Dtype  \n",
            "---  ------     --------------  -----  \n",
            " 0   TV         200 non-null    float64\n",
            " 1   Radio      200 non-null    float64\n",
            " 2   Newspaper  200 non-null    float64\n",
            " 3   Sales      200 non-null    float64\n",
            "dtypes: float64(4)\n",
            "memory usage: 6.4 KB\n"
          ]
        }
      ],
      "source": [
        "import pandas as pd\n",
        "df = pd.read_csv('https://raw.githubusercontent.com/Datamanim/datarepo/main/adp/31/adp_31_5_advertising.csv')\n",
        "df.head()\n",
        "df.info()"
      ]
    },
    {
      "cell_type": "markdown",
      "id": "a3a3f23b",
      "metadata": {
        "id": "a3a3f23b"
      },
      "source": [
        "## 6-2 변수 선택시 먼저 제거 될 변수 및 근거 제시"
      ]
    },
    {
      "cell_type": "code",
      "execution_count": null,
      "id": "ontqUgk8HsRb",
      "metadata": {
        "colab": {
          "base_uri": "https://localhost:8080/"
        },
        "id": "ontqUgk8HsRb",
        "outputId": "93a5a5aa-9441-4cb8-e2ac-5a6f03969379"
      },
      "outputs": [
        {
          "name": "stdout",
          "output_type": "stream",
          "text": [
            "\n",
            "pvalue 값이 0.05이하일 때 유의미한 변수로 진단할 수 있다\n",
            "현재 Newspaper를 제외한 나머지 변수들은 유의미한 것을 알 수 있고, 같은 이유로 Newspaper가 변수 선택시 먼저 제거해야함을 알 수 있습니다\n",
            "\n"
          ]
        }
      ],
      "source": [
        "print('''\n",
        "pvalue 값이 0.05이하일 때 유의미한 변수로 진단할 수 있다\n",
        "현재 Newspaper를 제외한 나머지 변수들은 유의미한 것을 알 수 있고, 같은 이유로 Newspaper가 변수 선택시 먼저 제거해야함을 알 수 있습니다\n",
        "''')"
      ]
    },
    {
      "cell_type": "markdown",
      "id": "b8167183",
      "metadata": {
        "id": "b8167183"
      },
      "source": [
        "## 6-3 VIF를 통한 다중공선성 진단"
      ]
    },
    {
      "cell_type": "code",
      "execution_count": null,
      "id": "tQZfW1EzIC_x",
      "metadata": {
        "colab": {
          "base_uri": "https://localhost:8080/"
        },
        "id": "tQZfW1EzIC_x",
        "outputId": "d09b39a8-3928-4668-ae20-1bfa0ce6ce69"
      },
      "outputs": [
        {
          "name": "stdout",
          "output_type": "stream",
          "text": [
            "          변수       VIF\n",
            "0      const  6.848900\n",
            "1         TV  1.004611\n",
            "2      Radio  1.144952\n",
            "3  Newspaper  1.145187\n",
            "일반적으로 VIF값이 10이 넘어가면 다중공선성 문제가 있다고 판단한다. 그런데 결과를 보면 모든 변수가 다중 공선성이 없는 것을 확인할 수 있다. \n"
          ]
        }
      ],
      "source": [
        "from statsmodels.stats.outliers_influence import variance_inflation_factor\n",
        "vif = pd.DataFrame()\n",
        "vif['변수']  = X.columns\n",
        "vif['VIF'] = [variance_inflation_factor(X.values, i) for i in range(X.shape[1])]\n",
        "\n",
        "print(vif)\n",
        "print('일반적으로 VIF값이 10이 넘어가면 다중공선성 문제가 있다고 판단한다. 그런데 결과를 보면 모든 변수가 다중 공선성이 없는 것을 확인할 수 있다. ')"
      ]
    },
    {
      "cell_type": "markdown",
      "id": "a481bc78",
      "metadata": {
        "id": "a481bc78"
      },
      "source": [
        "## 7 (15점)  \n",
        "- 데이터 링크 : https://raw.githubusercontent.com/Datamanim/datarepo/main/adp/31/adp_31_7.csv\n",
        "- 데이터 설명 : A,B,C,D,E 영업사원의 각 계약 성사 유무 (1:계약 , 0:미계약) 를 나타낸 데이터이다. 영업사원의 평균 계약 성사 건수는 같은지 통계 검정하라"
      ]
    },
    {
      "cell_type": "code",
      "execution_count": null,
      "id": "OYPxbn6LIv8a",
      "metadata": {
        "colab": {
          "base_uri": "https://localhost:8080/",
          "height": 206
        },
        "id": "OYPxbn6LIv8a",
        "outputId": "34f9436f-a571-4584-8e9f-cac6475df9a5"
      },
      "outputs": [
        {
          "data": {
            "application/vnd.google.colaboratory.intrinsic+json": {
              "summary": "{\n  \"name\": \"df\",\n  \"rows\": 12,\n  \"fields\": [\n    {\n      \"column\": \"Unnamed: 0\",\n      \"properties\": {\n        \"dtype\": \"string\",\n        \"num_unique_values\": 12,\n        \"samples\": [\n          \"contract_11\",\n          \"contract_10\",\n          \"contract_1\"\n        ],\n        \"semantic_type\": \"\",\n        \"description\": \"\"\n      }\n    },\n    {\n      \"column\": \"A\",\n      \"properties\": {\n        \"dtype\": \"number\",\n        \"std\": 0,\n        \"min\": 0,\n        \"max\": 1,\n        \"num_unique_values\": 2,\n        \"samples\": [\n          0,\n          1\n        ],\n        \"semantic_type\": \"\",\n        \"description\": \"\"\n      }\n    },\n    {\n      \"column\": \"B\",\n      \"properties\": {\n        \"dtype\": \"number\",\n        \"std\": 0,\n        \"min\": 0,\n        \"max\": 1,\n        \"num_unique_values\": 2,\n        \"samples\": [\n          1,\n          0\n        ],\n        \"semantic_type\": \"\",\n        \"description\": \"\"\n      }\n    },\n    {\n      \"column\": \"C\",\n      \"properties\": {\n        \"dtype\": \"number\",\n        \"std\": 0,\n        \"min\": 0,\n        \"max\": 1,\n        \"num_unique_values\": 2,\n        \"samples\": [\n          0,\n          1\n        ],\n        \"semantic_type\": \"\",\n        \"description\": \"\"\n      }\n    },\n    {\n      \"column\": \"D\",\n      \"properties\": {\n        \"dtype\": \"number\",\n        \"std\": 0,\n        \"min\": 0,\n        \"max\": 1,\n        \"num_unique_values\": 2,\n        \"samples\": [\n          0,\n          1\n        ],\n        \"semantic_type\": \"\",\n        \"description\": \"\"\n      }\n    },\n    {\n      \"column\": \"E\",\n      \"properties\": {\n        \"dtype\": \"number\",\n        \"std\": 0,\n        \"min\": 0,\n        \"max\": 1,\n        \"num_unique_values\": 2,\n        \"samples\": [\n          0,\n          1\n        ],\n        \"semantic_type\": \"\",\n        \"description\": \"\"\n      }\n    }\n  ]\n}",
              "type": "dataframe",
              "variable_name": "df"
            },
            "text/html": [
              "\n",
              "  <div id=\"df-575ed9ea-df4d-43b5-b297-e4ed2d3ae6af\" class=\"colab-df-container\">\n",
              "    <div>\n",
              "<style scoped>\n",
              "    .dataframe tbody tr th:only-of-type {\n",
              "        vertical-align: middle;\n",
              "    }\n",
              "\n",
              "    .dataframe tbody tr th {\n",
              "        vertical-align: top;\n",
              "    }\n",
              "\n",
              "    .dataframe thead th {\n",
              "        text-align: right;\n",
              "    }\n",
              "</style>\n",
              "<table border=\"1\" class=\"dataframe\">\n",
              "  <thead>\n",
              "    <tr style=\"text-align: right;\">\n",
              "      <th></th>\n",
              "      <th>Unnamed: 0</th>\n",
              "      <th>A</th>\n",
              "      <th>B</th>\n",
              "      <th>C</th>\n",
              "      <th>D</th>\n",
              "      <th>E</th>\n",
              "    </tr>\n",
              "  </thead>\n",
              "  <tbody>\n",
              "    <tr>\n",
              "      <th>0</th>\n",
              "      <td>contract_1</td>\n",
              "      <td>1</td>\n",
              "      <td>0</td>\n",
              "      <td>1</td>\n",
              "      <td>1</td>\n",
              "      <td>1</td>\n",
              "    </tr>\n",
              "    <tr>\n",
              "      <th>1</th>\n",
              "      <td>contract_2</td>\n",
              "      <td>0</td>\n",
              "      <td>1</td>\n",
              "      <td>0</td>\n",
              "      <td>1</td>\n",
              "      <td>0</td>\n",
              "    </tr>\n",
              "    <tr>\n",
              "      <th>2</th>\n",
              "      <td>contract_3</td>\n",
              "      <td>1</td>\n",
              "      <td>0</td>\n",
              "      <td>0</td>\n",
              "      <td>0</td>\n",
              "      <td>0</td>\n",
              "    </tr>\n",
              "    <tr>\n",
              "      <th>3</th>\n",
              "      <td>contract_4</td>\n",
              "      <td>0</td>\n",
              "      <td>1</td>\n",
              "      <td>1</td>\n",
              "      <td>1</td>\n",
              "      <td>1</td>\n",
              "    </tr>\n",
              "    <tr>\n",
              "      <th>4</th>\n",
              "      <td>contract_5</td>\n",
              "      <td>0</td>\n",
              "      <td>1</td>\n",
              "      <td>0</td>\n",
              "      <td>1</td>\n",
              "      <td>0</td>\n",
              "    </tr>\n",
              "  </tbody>\n",
              "</table>\n",
              "</div>\n",
              "    <div class=\"colab-df-buttons\">\n",
              "\n",
              "  <div class=\"colab-df-container\">\n",
              "    <button class=\"colab-df-convert\" onclick=\"convertToInteractive('df-575ed9ea-df4d-43b5-b297-e4ed2d3ae6af')\"\n",
              "            title=\"Convert this dataframe to an interactive table.\"\n",
              "            style=\"display:none;\">\n",
              "\n",
              "  <svg xmlns=\"http://www.w3.org/2000/svg\" height=\"24px\" viewBox=\"0 -960 960 960\">\n",
              "    <path d=\"M120-120v-720h720v720H120Zm60-500h600v-160H180v160Zm220 220h160v-160H400v160Zm0 220h160v-160H400v160ZM180-400h160v-160H180v160Zm440 0h160v-160H620v160ZM180-180h160v-160H180v160Zm440 0h160v-160H620v160Z\"/>\n",
              "  </svg>\n",
              "    </button>\n",
              "\n",
              "  <style>\n",
              "    .colab-df-container {\n",
              "      display:flex;\n",
              "      gap: 12px;\n",
              "    }\n",
              "\n",
              "    .colab-df-convert {\n",
              "      background-color: #E8F0FE;\n",
              "      border: none;\n",
              "      border-radius: 50%;\n",
              "      cursor: pointer;\n",
              "      display: none;\n",
              "      fill: #1967D2;\n",
              "      height: 32px;\n",
              "      padding: 0 0 0 0;\n",
              "      width: 32px;\n",
              "    }\n",
              "\n",
              "    .colab-df-convert:hover {\n",
              "      background-color: #E2EBFA;\n",
              "      box-shadow: 0px 1px 2px rgba(60, 64, 67, 0.3), 0px 1px 3px 1px rgba(60, 64, 67, 0.15);\n",
              "      fill: #174EA6;\n",
              "    }\n",
              "\n",
              "    .colab-df-buttons div {\n",
              "      margin-bottom: 4px;\n",
              "    }\n",
              "\n",
              "    [theme=dark] .colab-df-convert {\n",
              "      background-color: #3B4455;\n",
              "      fill: #D2E3FC;\n",
              "    }\n",
              "\n",
              "    [theme=dark] .colab-df-convert:hover {\n",
              "      background-color: #434B5C;\n",
              "      box-shadow: 0px 1px 3px 1px rgba(0, 0, 0, 0.15);\n",
              "      filter: drop-shadow(0px 1px 2px rgba(0, 0, 0, 0.3));\n",
              "      fill: #FFFFFF;\n",
              "    }\n",
              "  </style>\n",
              "\n",
              "    <script>\n",
              "      const buttonEl =\n",
              "        document.querySelector('#df-575ed9ea-df4d-43b5-b297-e4ed2d3ae6af button.colab-df-convert');\n",
              "      buttonEl.style.display =\n",
              "        google.colab.kernel.accessAllowed ? 'block' : 'none';\n",
              "\n",
              "      async function convertToInteractive(key) {\n",
              "        const element = document.querySelector('#df-575ed9ea-df4d-43b5-b297-e4ed2d3ae6af');\n",
              "        const dataTable =\n",
              "          await google.colab.kernel.invokeFunction('convertToInteractive',\n",
              "                                                    [key], {});\n",
              "        if (!dataTable) return;\n",
              "\n",
              "        const docLinkHtml = 'Like what you see? Visit the ' +\n",
              "          '<a target=\"_blank\" href=https://colab.research.google.com/notebooks/data_table.ipynb>data table notebook</a>'\n",
              "          + ' to learn more about interactive tables.';\n",
              "        element.innerHTML = '';\n",
              "        dataTable['output_type'] = 'display_data';\n",
              "        await google.colab.output.renderOutput(dataTable, element);\n",
              "        const docLink = document.createElement('div');\n",
              "        docLink.innerHTML = docLinkHtml;\n",
              "        element.appendChild(docLink);\n",
              "      }\n",
              "    </script>\n",
              "  </div>\n",
              "\n",
              "\n",
              "<div id=\"df-36113be9-7383-4da4-ac5d-4c34e93c52c1\">\n",
              "  <button class=\"colab-df-quickchart\" onclick=\"quickchart('df-36113be9-7383-4da4-ac5d-4c34e93c52c1')\"\n",
              "            title=\"Suggest charts\"\n",
              "            style=\"display:none;\">\n",
              "\n",
              "<svg xmlns=\"http://www.w3.org/2000/svg\" height=\"24px\"viewBox=\"0 0 24 24\"\n",
              "     width=\"24px\">\n",
              "    <g>\n",
              "        <path d=\"M19 3H5c-1.1 0-2 .9-2 2v14c0 1.1.9 2 2 2h14c1.1 0 2-.9 2-2V5c0-1.1-.9-2-2-2zM9 17H7v-7h2v7zm4 0h-2V7h2v10zm4 0h-2v-4h2v4z\"/>\n",
              "    </g>\n",
              "</svg>\n",
              "  </button>\n",
              "\n",
              "<style>\n",
              "  .colab-df-quickchart {\n",
              "      --bg-color: #E8F0FE;\n",
              "      --fill-color: #1967D2;\n",
              "      --hover-bg-color: #E2EBFA;\n",
              "      --hover-fill-color: #174EA6;\n",
              "      --disabled-fill-color: #AAA;\n",
              "      --disabled-bg-color: #DDD;\n",
              "  }\n",
              "\n",
              "  [theme=dark] .colab-df-quickchart {\n",
              "      --bg-color: #3B4455;\n",
              "      --fill-color: #D2E3FC;\n",
              "      --hover-bg-color: #434B5C;\n",
              "      --hover-fill-color: #FFFFFF;\n",
              "      --disabled-bg-color: #3B4455;\n",
              "      --disabled-fill-color: #666;\n",
              "  }\n",
              "\n",
              "  .colab-df-quickchart {\n",
              "    background-color: var(--bg-color);\n",
              "    border: none;\n",
              "    border-radius: 50%;\n",
              "    cursor: pointer;\n",
              "    display: none;\n",
              "    fill: var(--fill-color);\n",
              "    height: 32px;\n",
              "    padding: 0;\n",
              "    width: 32px;\n",
              "  }\n",
              "\n",
              "  .colab-df-quickchart:hover {\n",
              "    background-color: var(--hover-bg-color);\n",
              "    box-shadow: 0 1px 2px rgba(60, 64, 67, 0.3), 0 1px 3px 1px rgba(60, 64, 67, 0.15);\n",
              "    fill: var(--button-hover-fill-color);\n",
              "  }\n",
              "\n",
              "  .colab-df-quickchart-complete:disabled,\n",
              "  .colab-df-quickchart-complete:disabled:hover {\n",
              "    background-color: var(--disabled-bg-color);\n",
              "    fill: var(--disabled-fill-color);\n",
              "    box-shadow: none;\n",
              "  }\n",
              "\n",
              "  .colab-df-spinner {\n",
              "    border: 2px solid var(--fill-color);\n",
              "    border-color: transparent;\n",
              "    border-bottom-color: var(--fill-color);\n",
              "    animation:\n",
              "      spin 1s steps(1) infinite;\n",
              "  }\n",
              "\n",
              "  @keyframes spin {\n",
              "    0% {\n",
              "      border-color: transparent;\n",
              "      border-bottom-color: var(--fill-color);\n",
              "      border-left-color: var(--fill-color);\n",
              "    }\n",
              "    20% {\n",
              "      border-color: transparent;\n",
              "      border-left-color: var(--fill-color);\n",
              "      border-top-color: var(--fill-color);\n",
              "    }\n",
              "    30% {\n",
              "      border-color: transparent;\n",
              "      border-left-color: var(--fill-color);\n",
              "      border-top-color: var(--fill-color);\n",
              "      border-right-color: var(--fill-color);\n",
              "    }\n",
              "    40% {\n",
              "      border-color: transparent;\n",
              "      border-right-color: var(--fill-color);\n",
              "      border-top-color: var(--fill-color);\n",
              "    }\n",
              "    60% {\n",
              "      border-color: transparent;\n",
              "      border-right-color: var(--fill-color);\n",
              "    }\n",
              "    80% {\n",
              "      border-color: transparent;\n",
              "      border-right-color: var(--fill-color);\n",
              "      border-bottom-color: var(--fill-color);\n",
              "    }\n",
              "    90% {\n",
              "      border-color: transparent;\n",
              "      border-bottom-color: var(--fill-color);\n",
              "    }\n",
              "  }\n",
              "</style>\n",
              "\n",
              "  <script>\n",
              "    async function quickchart(key) {\n",
              "      const quickchartButtonEl =\n",
              "        document.querySelector('#' + key + ' button');\n",
              "      quickchartButtonEl.disabled = true;  // To prevent multiple clicks.\n",
              "      quickchartButtonEl.classList.add('colab-df-spinner');\n",
              "      try {\n",
              "        const charts = await google.colab.kernel.invokeFunction(\n",
              "            'suggestCharts', [key], {});\n",
              "      } catch (error) {\n",
              "        console.error('Error during call to suggestCharts:', error);\n",
              "      }\n",
              "      quickchartButtonEl.classList.remove('colab-df-spinner');\n",
              "      quickchartButtonEl.classList.add('colab-df-quickchart-complete');\n",
              "    }\n",
              "    (() => {\n",
              "      let quickchartButtonEl =\n",
              "        document.querySelector('#df-36113be9-7383-4da4-ac5d-4c34e93c52c1 button');\n",
              "      quickchartButtonEl.style.display =\n",
              "        google.colab.kernel.accessAllowed ? 'block' : 'none';\n",
              "    })();\n",
              "  </script>\n",
              "</div>\n",
              "\n",
              "    </div>\n",
              "  </div>\n"
            ],
            "text/plain": [
              "   Unnamed: 0  A  B  C  D  E\n",
              "0  contract_1  1  0  1  1  1\n",
              "1  contract_2  0  1  0  1  0\n",
              "2  contract_3  1  0  0  0  0\n",
              "3  contract_4  0  1  1  1  1\n",
              "4  contract_5  0  1  0  1  0"
            ]
          },
          "execution_count": 21,
          "metadata": {},
          "output_type": "execute_result"
        }
      ],
      "source": [
        "import pandas as pd\n",
        "df = pd.read_csv('https://raw.githubusercontent.com/Datamanim/datarepo/main/adp/31/adp_31_7.csv')\n",
        "df.head()"
      ]
    },
    {
      "cell_type": "markdown",
      "id": "23bc4496",
      "metadata": {
        "id": "23bc4496"
      },
      "source": [
        "## 8 유기견이 하루에 2.2마리 발생하며 포아송 분포를 따른다고 알려져 있다고 할 때 아래 문제의 확률은? (10점)"
      ]
    },
    {
      "cell_type": "markdown",
      "id": "4fc76499",
      "metadata": {
        "id": "4fc76499"
      },
      "source": [
        "## 8-1 한 마리도 안 버려질 확률"
      ]
    },
    {
      "cell_type": "markdown",
      "id": "b3eec6b1",
      "metadata": {
        "id": "b3eec6b1"
      },
      "source": [
        "## 8-2 적어도 2마리 버려질 확률"
      ]
    }
  ],
  "metadata": {
    "colab": {
      "provenance": []
    },
    "kernelspec": {
      "display_name": "Python 3 (ipykernel)",
      "language": "python",
      "name": "python3"
    },
    "language_info": {
      "codemirror_mode": {
        "name": "ipython",
        "version": 3
      },
      "file_extension": ".py",
      "mimetype": "text/x-python",
      "name": "python",
      "nbconvert_exporter": "python",
      "pygments_lexer": "ipython3",
      "version": "3.8.18"
    }
  },
  "nbformat": 4,
  "nbformat_minor": 5
}
