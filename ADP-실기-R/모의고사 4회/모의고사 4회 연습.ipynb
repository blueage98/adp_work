{
 "cells": [
  {
   "cell_type": "markdown",
   "id": "cb6322f9",
   "metadata": {},
   "source": [
    "# 1. 정형 데이터마이닝"
   ]
  },
  {
   "cell_type": "markdown",
   "id": "80b48dd6",
   "metadata": {},
   "source": [
    "- weatherAUS\n",
    "    - 날짜형 : 'Date', \n",
    "    - 범주형 : 'Location', 'WindGustDir','WindDir9am', 'WindDir3pm','Cloud9am', 'Cloud3pm', 'RainToday', 'RainTomorrow'\n",
    "    - 수치형 : 'MinTemp', 'MaxTemp', 'Rainfall', 'WindGustSpeed',  'WindSpeed9am',\n",
    "       'WindSpeed3pm', 'Humidity9am', 'Humidity3pm', 'Pressure9am',\n",
    "       'Pressure3pm',  'Temp9am', 'Temp3pm',\n",
    "       "
   ]
  },
  {
   "cell_type": "code",
   "execution_count": null,
   "id": "97022c5f",
   "metadata": {},
   "outputs": [],
   "source": [
    "import pandas as pd\n",
    "import numpy as np\n",
    "import matplotlib.pyplot as plt\n",
    "\n",
    "plt.rcParams['font.size'] = 12\n",
    "plt.rcParams['font.family'] = 'Malgun Gothic'\n",
    "plt.rcParams['figure.figsize'] = (12,4)\n",
    "plt.rcParams['axes.unicode_minus'] = False\n",
    "\n",
    "weat = pd.read_csv('weatherAUS.csv')"
   ]
  },
  {
   "cell_type": "markdown",
   "id": "0fa1d564",
   "metadata": {},
   "source": [
    "#### 1.\n",
    "- NA값이 10000개 이상인 열을 제외하고 남은 변수 중 NA값이 있는 행을 제거\n",
    "- Date행을 Date형으로 변환\n",
    "- train:test = 0.7:0.3으로 분할"
   ]
  },
  {
   "cell_type": "code",
   "execution_count": 30,
   "id": "3c5973a5",
   "metadata": {},
   "outputs": [
    {
     "name": "stderr",
     "output_type": "stream",
     "text": [
      "C:\\Users\\krkim1\\AppData\\Local\\Temp\\ipykernel_3904\\1912572267.py:9: FutureWarning: Series.__getitem__ treating keys as positions is deprecated. In a future version, integer keys will always be treated as labels (consistent with DataFrame behavior). To access a value by position, use `ser.iloc[pos]`\n",
      "  if na_count[i] >= 10000 :\n"
     ]
    }
   ],
   "source": [
    "data11 = weat.copy()\n",
    "\n",
    "from sklearn.model_selection import train_test_split\n",
    "\n",
    "# NA 개수가 있고, 10000개 이상인 열을 찾아내고, 해당 열을 제거한다.\n",
    "cols_max_na = []\n",
    "na_count = data11.isna().sum();\n",
    "for i in range(0,len(na_count)):\n",
    "    if na_count[i] >= 10000 :\n",
    "        cols_max_na.append(na_count.index[i])\n",
    "\n",
    "data11 = data11.drop(cols_max_na, axis=1)\n",
    "\n",
    "# NA 개수가 10000개 미만인 열의 결측치를 모두 제거한다.\n",
    "data11 = data11.dropna()\n",
    "\n",
    "# Date행을 date타입으로 변환한다.\n",
    "data11.Date = data11.Date.astype('datetime64[ns]')\n",
    "\n",
    "# 데이터를 학습용, 검증용으로 분할한다.\n",
    "sub_3 = data11.sample(frac=0.3, random_state=5789)\n",
    "sub_7 = data11.drop(sub_3.index)"
   ]
  },
  {
   "cell_type": "markdown",
   "id": "ca4a11d5",
   "metadata": {},
   "source": [
    "#### 2.\n",
    "- train 데이터로 종속변수인 RainTomorrow를 예측하는 분류 모델을 3개이상 생성하고, test데이터에 대한 예측값을 csv로 각각 제출하시오."
   ]
  },
  {
   "cell_type": "code",
   "execution_count": 31,
   "id": "4ae6df3e",
   "metadata": {},
   "outputs": [
    {
     "name": "stdout",
     "output_type": "stream",
     "text": [
      "<class 'pandas.core.frame.DataFrame'>\n",
      "Index: 128576 entries, 0 to 142192\n",
      "Data columns (total 16 columns):\n",
      " #   Column         Non-Null Count   Dtype         \n",
      "---  ------         --------------   -----         \n",
      " 0   Date           128576 non-null  datetime64[ns]\n",
      " 1   Location       128576 non-null  object        \n",
      " 2   MinTemp        128576 non-null  float64       \n",
      " 3   MaxTemp        128576 non-null  float64       \n",
      " 4   Rainfall       128576 non-null  float64       \n",
      " 5   WindGustDir    128576 non-null  object        \n",
      " 6   WindGustSpeed  128576 non-null  float64       \n",
      " 7   WindDir3pm     128576 non-null  object        \n",
      " 8   WindSpeed9am   128576 non-null  float64       \n",
      " 9   WindSpeed3pm   128576 non-null  float64       \n",
      " 10  Humidity9am    128576 non-null  float64       \n",
      " 11  Humidity3pm    128576 non-null  float64       \n",
      " 12  Temp9am        128576 non-null  float64       \n",
      " 13  Temp3pm        128576 non-null  float64       \n",
      " 14  RainToday      128576 non-null  object        \n",
      " 15  RainTomorrow   128576 non-null  object        \n",
      "dtypes: datetime64[ns](1), float64(10), object(5)\n",
      "memory usage: 20.7+ MB\n"
     ]
    }
   ],
   "source": [
    "data11.info()"
   ]
  },
  {
   "cell_type": "markdown",
   "id": "dfc476a7",
   "metadata": {},
   "source": [
    "#### 3\n",
    "- 생성된 3개의 분류모델에 대해 성과분석을 실시하여 정확도를 비교하여 설명하시오. 또 ROC curve를 그리고 AUC값을 산출하시오."
   ]
  },
  {
   "cell_type": "code",
   "execution_count": null,
   "id": "1401cb48",
   "metadata": {},
   "outputs": [],
   "source": []
  }
 ],
 "metadata": {
  "kernelspec": {
   "display_name": "Python 3",
   "language": "python",
   "name": "python3"
  },
  "language_info": {
   "codemirror_mode": {
    "name": "ipython",
    "version": 3
   },
   "file_extension": ".py",
   "mimetype": "text/x-python",
   "name": "python",
   "nbconvert_exporter": "python",
   "pygments_lexer": "ipython3",
   "version": "3.10.10"
  }
 },
 "nbformat": 4,
 "nbformat_minor": 5
}
