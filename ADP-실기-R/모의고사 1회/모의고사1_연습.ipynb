{
 "cells": [
  {
   "cell_type": "code",
   "execution_count": 3,
   "id": "8d0aa201",
   "metadata": {},
   "outputs": [],
   "source": [
    "import pandas as pd\n",
    "import numpy as np\n",
    "import matplotlib.pyplot as plt\n",
    "\n",
    "plt.rcParams['font.size'] = 10\n",
    "plt.rcParams['font.family'] = 'Malgun Gothic'\n",
    "plt.rcParams['figure.figsize'] = (10, 5)\n",
    "plt.rcParams['axes.unicode_minus'] = False\n",
    "\n",
    "lotto = pd.read_csv('lotto.csv')"
   ]
  },
  {
   "cell_type": "markdown",
   "id": "9025c559",
   "metadata": {},
   "source": [
    "### 1.\n",
    "- 연관규칙 분석을 위해 lotto 데이터를 transaction 데이터로 변환. 추첨된 순서는 고려하지 않음. 변환된 데이터에서 가장 많이 등장한 상위 10개의 로또번호를 막대그래프로 출력 후 설명"
   ]
  },
  {
   "cell_type": "code",
   "execution_count": 3,
   "id": "4da71d23",
   "metadata": {},
   "outputs": [
    {
     "name": "stderr",
     "output_type": "stream",
     "text": [
      "c:\\Users\\krkim1\\AppData\\Local\\Programs\\Python\\Python310\\lib\\site-packages\\mlxtend\\frequent_patterns\\fpcommon.py:161: DeprecationWarning: DataFrames with non-bool types result in worse computationalperformance and their support might be discontinued in the future.Please use a DataFrame with bool type\n",
      "  warnings.warn(\n"
     ]
    }
   ],
   "source": [
    "from pandas import DataFrame\n",
    "from mlxtend.preprocessing import TransactionEncoder\n",
    "from mlxtend.frequent_patterns import apriori\n",
    "\n",
    "# 트랜잭션 생성을 위해 로또번호만 추출한다.\n",
    "transactions = lotto.iloc[:,1:].values\n",
    "\n",
    "# 이항값으로 구성되는 트랜잭션 테이블을 생성한다.\n",
    "te = TransactionEncoder()\n",
    "te_ary = te.fit(transactions).transform(transactions)\n",
    "df = pd.DataFrame(te_ary, columns=te.columns_).map(lambda x: 1 if x else 0)\n",
    "\n",
    "# 빈발집합을 생성한다.\n",
    "fset = apriori(df, min_support=0.01, use_colnames=True, verbose=0)\n",
    "\n",
    "# 지지도만 표현되고 빈도가 표현되지 않으므로 빈도데이터를 생성한다.\n",
    "def itemsetFrequency(itemset):\n",
    "    set = list(itemset)\n",
    "    count = 0\n",
    "    for item in set:\n",
    "        count += df[item].sum()\n",
    "    return count\n",
    "\n",
    "fset['frequency'] = fset.itemsets.apply(lambda x : itemsetFrequency(x))"
   ]
  },
  {
   "cell_type": "code",
   "execution_count": 4,
   "id": "50d4d2be",
   "metadata": {},
   "outputs": [
    {
     "data": {
      "text/plain": [
       "<Axes: xlabel='itemsets'>"
      ]
     },
     "execution_count": 4,
     "metadata": {},
     "output_type": "execute_result"
    },
    {
     "data": {
      "image/png": "[encoded data removed]",
      "text/plain": [
       "<Figure size 1000x500 with 1 Axes>"
      ]
     },
     "metadata": {},
     "output_type": "display_data"
    },
    {
     "data": {
      "image/png": "[encoded data removed]",
      "text/plain": [
       "<Figure size 1000x500 with 1 Axes>"
      ]
     },
     "metadata": {},
     "output_type": "display_data"
    }
   ],
   "source": [
    "# 가장 빈도가 높은 상위 10개 수의 지지도와 빈도를 바그래프로 표현한다.\n",
    "fset_sort = fset.sort_values(by='support', ascending=False)\n",
    "fset_sort.head(10).plot(kind='bar', x='itemsets', y='frequency')\n",
    "fset_sort.head(10).plot(kind='bar', x='itemsets', y='support')\n"
   ]
  },
  {
   "cell_type": "markdown",
   "id": "6c66beb3",
   "metadata": {},
   "source": [
    "### 2.\n",
    "- aprior 함수를 사용하여 다음 조건에 따라 연관규칙을 생성하고, 이를 rule_1 이라는 변수에 저장하여 결과를 해석하시오.\n",
    "    - 최소 지지도 : 0.002\n",
    "    - 최소 신뢰도 : 0.8\n",
    "    - 최소 조합 항목수 2\n",
    "    - 최대 조합 항목수 6\n",
    "- 도출된 연관규칙들을 향상도 기준으로 내림차순 정렬하여, 상위 30개의 규칙을 확인, 데이터프레임으로 변환, CSV파일로 저장"
   ]
  },
  {
   "cell_type": "code",
   "execution_count": 7,
   "id": "8df3eba3",
   "metadata": {},
   "outputs": [
    {
     "data": {
      "text/html": [
       "<div>\n",
       "<style scoped>\n",
       "    .dataframe tbody tr th:only-of-type {\n",
       "        vertical-align: middle;\n",
       "    }\n",
       "\n",
       "    .dataframe tbody tr th {\n",
       "        vertical-align: top;\n",
       "    }\n",
       "\n",
       "    .dataframe thead th {\n",
       "        text-align: right;\n",
       "    }\n",
       "</style>\n",
       "<table border=\"1\" class=\"dataframe\">\n",
       "  <thead>\n",
       "    <tr style=\"text-align: right;\">\n",
       "      <th></th>\n",
       "      <th>antecedents</th>\n",
       "      <th>consequents</th>\n",
       "      <th>antecedent support</th>\n",
       "      <th>consequent support</th>\n",
       "      <th>support</th>\n",
       "      <th>confidence</th>\n",
       "      <th>lift</th>\n",
       "      <th>leverage</th>\n",
       "      <th>conviction</th>\n",
       "      <th>zhangs_metric</th>\n",
       "    </tr>\n",
       "  </thead>\n",
       "  <tbody>\n",
       "    <tr>\n",
       "      <th>0</th>\n",
       "      <td>(1, 3, 43)</td>\n",
       "      <td>(12)</td>\n",
       "      <td>0.002328</td>\n",
       "      <td>0.143190</td>\n",
       "      <td>0.002328</td>\n",
       "      <td>1.0</td>\n",
       "      <td>6.983740</td>\n",
       "      <td>0.001995</td>\n",
       "      <td>inf</td>\n",
       "      <td>0.858810</td>\n",
       "    </tr>\n",
       "    <tr>\n",
       "      <th>1</th>\n",
       "      <td>(1, 3, 15)</td>\n",
       "      <td>(25)</td>\n",
       "      <td>0.002328</td>\n",
       "      <td>0.129220</td>\n",
       "      <td>0.002328</td>\n",
       "      <td>1.0</td>\n",
       "      <td>7.738739</td>\n",
       "      <td>0.002027</td>\n",
       "      <td>inf</td>\n",
       "      <td>0.872812</td>\n",
       "    </tr>\n",
       "    <tr>\n",
       "      <th>2</th>\n",
       "      <td>(25, 3, 15)</td>\n",
       "      <td>(1)</td>\n",
       "      <td>0.002328</td>\n",
       "      <td>0.142026</td>\n",
       "      <td>0.002328</td>\n",
       "      <td>1.0</td>\n",
       "      <td>7.040984</td>\n",
       "      <td>0.001998</td>\n",
       "      <td>inf</td>\n",
       "      <td>0.859977</td>\n",
       "    </tr>\n",
       "    <tr>\n",
       "      <th>3</th>\n",
       "      <td>(25, 3, 20)</td>\n",
       "      <td>(1)</td>\n",
       "      <td>0.002328</td>\n",
       "      <td>0.142026</td>\n",
       "      <td>0.002328</td>\n",
       "      <td>1.0</td>\n",
       "      <td>7.040984</td>\n",
       "      <td>0.001998</td>\n",
       "      <td>inf</td>\n",
       "      <td>0.859977</td>\n",
       "    </tr>\n",
       "    <tr>\n",
       "      <th>4</th>\n",
       "      <td>(29, 3, 37)</td>\n",
       "      <td>(1)</td>\n",
       "      <td>0.002328</td>\n",
       "      <td>0.142026</td>\n",
       "      <td>0.002328</td>\n",
       "      <td>1.0</td>\n",
       "      <td>7.040984</td>\n",
       "      <td>0.001998</td>\n",
       "      <td>inf</td>\n",
       "      <td>0.859977</td>\n",
       "    </tr>\n",
       "    <tr>\n",
       "      <th>...</th>\n",
       "      <td>...</td>\n",
       "      <td>...</td>\n",
       "      <td>...</td>\n",
       "      <td>...</td>\n",
       "      <td>...</td>\n",
       "      <td>...</td>\n",
       "      <td>...</td>\n",
       "      <td>...</td>\n",
       "      <td>...</td>\n",
       "      <td>...</td>\n",
       "    </tr>\n",
       "    <tr>\n",
       "      <th>699</th>\n",
       "      <td>(16, 26, 43, 31)</td>\n",
       "      <td>(36)</td>\n",
       "      <td>0.002328</td>\n",
       "      <td>0.133877</td>\n",
       "      <td>0.002328</td>\n",
       "      <td>1.0</td>\n",
       "      <td>7.469565</td>\n",
       "      <td>0.002017</td>\n",
       "      <td>inf</td>\n",
       "      <td>0.868145</td>\n",
       "    </tr>\n",
       "    <tr>\n",
       "      <th>700</th>\n",
       "      <td>(16, 43, 36)</td>\n",
       "      <td>(26, 31)</td>\n",
       "      <td>0.002328</td>\n",
       "      <td>0.015134</td>\n",
       "      <td>0.002328</td>\n",
       "      <td>1.0</td>\n",
       "      <td>66.076923</td>\n",
       "      <td>0.002293</td>\n",
       "      <td>inf</td>\n",
       "      <td>0.987165</td>\n",
       "    </tr>\n",
       "    <tr>\n",
       "      <th>701</th>\n",
       "      <td>(16, 26, 36)</td>\n",
       "      <td>(43, 31)</td>\n",
       "      <td>0.002328</td>\n",
       "      <td>0.018626</td>\n",
       "      <td>0.002328</td>\n",
       "      <td>1.0</td>\n",
       "      <td>53.687500</td>\n",
       "      <td>0.002285</td>\n",
       "      <td>inf</td>\n",
       "      <td>0.983664</td>\n",
       "    </tr>\n",
       "    <tr>\n",
       "      <th>702</th>\n",
       "      <td>(16, 26, 43)</td>\n",
       "      <td>(36, 31)</td>\n",
       "      <td>0.002328</td>\n",
       "      <td>0.013970</td>\n",
       "      <td>0.002328</td>\n",
       "      <td>1.0</td>\n",
       "      <td>71.583333</td>\n",
       "      <td>0.002296</td>\n",
       "      <td>inf</td>\n",
       "      <td>0.988331</td>\n",
       "    </tr>\n",
       "    <tr>\n",
       "      <th>703</th>\n",
       "      <td>(16, 26, 31)</td>\n",
       "      <td>(43, 36)</td>\n",
       "      <td>0.002328</td>\n",
       "      <td>0.012806</td>\n",
       "      <td>0.002328</td>\n",
       "      <td>1.0</td>\n",
       "      <td>78.090909</td>\n",
       "      <td>0.002298</td>\n",
       "      <td>inf</td>\n",
       "      <td>0.989498</td>\n",
       "    </tr>\n",
       "  </tbody>\n",
       "</table>\n",
       "<p>704 rows × 10 columns</p>\n",
       "</div>"
      ],
      "text/plain": [
       "          antecedents consequents  antecedent support  consequent support  \\\n",
       "0          (1, 3, 43)        (12)            0.002328            0.143190   \n",
       "1          (1, 3, 15)        (25)            0.002328            0.129220   \n",
       "2         (25, 3, 15)         (1)            0.002328            0.142026   \n",
       "3         (25, 3, 20)         (1)            0.002328            0.142026   \n",
       "4         (29, 3, 37)         (1)            0.002328            0.142026   \n",
       "..                ...         ...                 ...                 ...   \n",
       "699  (16, 26, 43, 31)        (36)            0.002328            0.133877   \n",
       "700      (16, 43, 36)    (26, 31)            0.002328            0.015134   \n",
       "701      (16, 26, 36)    (43, 31)            0.002328            0.018626   \n",
       "702      (16, 26, 43)    (36, 31)            0.002328            0.013970   \n",
       "703      (16, 26, 31)    (43, 36)            0.002328            0.012806   \n",
       "\n",
       "      support  confidence       lift  leverage  conviction  zhangs_metric  \n",
       "0    0.002328         1.0   6.983740  0.001995         inf       0.858810  \n",
       "1    0.002328         1.0   7.738739  0.002027         inf       0.872812  \n",
       "2    0.002328         1.0   7.040984  0.001998         inf       0.859977  \n",
       "3    0.002328         1.0   7.040984  0.001998         inf       0.859977  \n",
       "4    0.002328         1.0   7.040984  0.001998         inf       0.859977  \n",
       "..        ...         ...        ...       ...         ...            ...  \n",
       "699  0.002328         1.0   7.469565  0.002017         inf       0.868145  \n",
       "700  0.002328         1.0  66.076923  0.002293         inf       0.987165  \n",
       "701  0.002328         1.0  53.687500  0.002285         inf       0.983664  \n",
       "702  0.002328         1.0  71.583333  0.002296         inf       0.988331  \n",
       "703  0.002328         1.0  78.090909  0.002298         inf       0.989498  \n",
       "\n",
       "[704 rows x 10 columns]"
      ]
     },
     "execution_count": 7,
     "metadata": {},
     "output_type": "execute_result"
    }
   ],
   "source": [
    "from pandas import DataFrame\n",
    "from mlxtend.preprocessing import TransactionEncoder\n",
    "from mlxtend.frequent_patterns import apriori, association_rules\n",
    "\n",
    "# 트랜잭션 생성을 위해 로또번호만 추출한다.\n",
    "transactions = lotto.iloc[:,1:].values\n",
    "\n",
    "# 이항값으로 구성되는 트랜잭션 테이블을 생성한다.\n",
    "te = TransactionEncoder()\n",
    "te_ary = te.fit(transactions).transform(transactions)\n",
    "df = pd.DataFrame(te_ary, columns=te.columns_)\n",
    "\n",
    "# 빈발집합을 생성한다.\n",
    "fset = apriori(df, min_support=0.002, use_colnames=True, verbose=0)\n",
    "\n",
    "asso_rules = association_rules(fset, metric='confidence', min_threshold=0.8)\n",
    "asso_rules\n"
   ]
  },
  {
   "cell_type": "code",
   "execution_count": null,
   "id": "2d407da2",
   "metadata": {},
   "outputs": [],
   "source": [
    "rule_1 = asso_rules.sort_values(by='lift', ascending=False)[['antecedents', 'consequents']].head(30)\n",
    "rule_1.to_csv('빈발집합.csv')"
   ]
  },
  {
   "cell_type": "markdown",
   "id": "404618fd",
   "metadata": {},
   "source": [
    "####   1)  FIFA 데이터에서 각 선수의 키는 Height 변수에 피트와 인치로 입력되어 있습니다. 이를 cm으로 변환하여 새로운 변수 Height_cm을 생성하시오.    "
   ]
  },
  {
   "cell_type": "code",
   "execution_count": null,
   "id": "9584164b",
   "metadata": {},
   "outputs": [],
   "source": []
  },
  {
   "cell_type": "markdown",
   "id": "d1c428dc",
   "metadata": {},
   "source": [
    "####   2)  포지션을 의미하는 Position 변수를 아래 표를 참고하여 'Forward', 'Midfielder', 'Defender', 'GoalKeeper'로 재범주화하고, factor형으로 변환하여 Position_Class라는 변수를 생성하고 저장하시오."
   ]
  }
 ],
 "metadata": {
  "kernelspec": {
   "display_name": "Python 3",
   "language": "python",
   "name": "python3"
  },
  "language_info": {
   "codemirror_mode": {
    "name": "ipython",
    "version": 3
   },
   "file_extension": ".py",
   "mimetype": "text/x-python",
   "name": "python",
   "nbconvert_exporter": "python",
   "pygments_lexer": "ipython3",
   "version": "3.11.5"
  }
 },
 "nbformat": 4,
 "nbformat_minor": 5
}
