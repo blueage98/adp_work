{
 "cells": [
  {
   "cell_type": "markdown",
   "metadata": {},
   "source": [
    "# 1.통계분석\n",
    "- Carseats 데이터는 자동차 좌석 판매정보\n",
    "    - 수치형 : Sales, CompPrice, Income, Advertising, Population, Price, Age, Education\n",
    "    - 범주형 : ShelveLoc, Urban, US"
   ]
  },
  {
   "cell_type": "code",
   "execution_count": 3,
   "metadata": {},
   "outputs": [],
   "source": [
    "import pandas as pd\n",
    "import numpy as np\n",
    "import matplotlib.pyplot as plt\n",
    "\n",
    "plt.rcParams['font.size'] = 12\n",
    "plt.rcParams['font.family'] = 'Malgun Gothic'\n",
    "plt.rcParams['figure.figsize'] = (12, 5)\n",
    "plt.rcParams['axes.unicode_minus'] = False\n",
    "\n",
    "carseats = pd.read_csv('Carseats.csv')"
   ]
  },
  {
   "cell_type": "markdown",
   "metadata": {},
   "source": [
    "### 1. \n",
    "- Urban 변수에 따른 Sales의 차이가 있는지, 통계적으로 검증하기 위한 통계분석 수행. 결과해석 (정규성 만족 가정)"
   ]
  },
  {
   "cell_type": "code",
   "execution_count": 9,
   "metadata": {},
   "outputs": [],
   "source": [
    "urban_y = carseats[carseats.Urban=='Yes'].Sales\n",
    "urban_n = carseats[carseats.Urban=='No'].Sales"
   ]
  },
  {
   "cell_type": "code",
   "execution_count": 10,
   "metadata": {},
   "outputs": [
    {
     "name": "stdout",
     "output_type": "stream",
     "text": [
      "검정통계량 : -0.308, 유의확률 : 0.758507\n"
     ]
    }
   ],
   "source": [
    "from scipy.stats import ttest_ind\n",
    "\n",
    "tstat, p = ttest_ind(urban_y, urban_n, equal_var=True, alternative='two-sided')\n",
    "print('검정통계량 : {:.3f}, 유의확률 : {:3f}'.format(tstat, p))\n",
    "\n",
    "# 귀무가설 : urban==Yes인 경우와 urban=False인 경우 평균의 차이는 없다.\n",
    "# 대립가설 : urban==Yes인 경우와 urban=False인 경우 평균의 차이는 있다.\n",
    "\n",
    "# 검정통계량은 -0.308이고 이 때, 유의확률은 0.75이므로 귀무가설을 기각할 수 없다. 즉 평균의 차이는 없다."
   ]
  },
  {
   "cell_type": "markdown",
   "metadata": {},
   "source": [
    "### 2. \n",
    "- Sales 변수와 CompPrice, Income, Advertising, Population, Price, Age, Education 변수들 사이의 관계를 피어슨 상관계수를 이용한 상관관계 분석 수행 후 해석하시오."
   ]
  },
  {
   "cell_type": "code",
   "execution_count": 17,
   "metadata": {},
   "outputs": [
    {
     "data": {
      "text/plain": [
       "<Axes: >"
      ]
     },
     "execution_count": 17,
     "metadata": {},
     "output_type": "execute_result"
    },
    {
     "data": {
      "image/png": "[encoded data removed]",
      "text/plain": [
       "<Figure size 1200x500 with 1 Axes>"
      ]
     },
     "metadata": {},
     "output_type": "display_data"
    }
   ],
   "source": [
    "data2 = carseats[['Sales', 'CompPrice', 'Income', 'Advertising', 'Population', 'Price', 'Age', 'Education']]\n",
    "corr_table = data2.corr(method='pearson')\n",
    "corr_table.Sales[1:].plot(kind='bar')\n",
    "\n",
    "# Sales와 Price는 음의 상관관계를 가진다고 볼 수 있고,\n",
    "# Age는 낮은 음의 상관관계, Advertizing은 낮은 양의 상관관계를 갖는다고 볼수 있다."
   ]
  },
  {
   "cell_type": "markdown",
   "metadata": {},
   "source": [
    "### 3. \n",
    "- 종속변수를 Sales, 독립변수를 CompPrice, Income, Advertising, Population, Price, Age, Education로 설정하고, 후진제거법을 활용하여 회귀분석을 실시하고, 추정된 회귀식을 작성하시오."
   ]
  },
  {
   "cell_type": "code",
   "execution_count": 20,
   "metadata": {},
   "outputs": [
    {
     "data": {
      "text/plain": [
       "('const, CompPrice, Income, Advertising, Price, Age',\n",
       "                                          feature_combi          AIC\n",
       " 25   const, CompPrice, Income, Advertising, Price, Age  1665.834569\n",
       " 4    const, CompPrice, Income, Advertising, Price, ...  1666.680597\n",
       " 7    const, CompPrice, Income, Advertising, Populat...  1667.829320\n",
       " 0    const, CompPrice, Income, Advertising, Populat...  1668.647466\n",
       " 50           const, CompPrice, Advertising, Price, Age  1678.074227\n",
       " ..                                                 ...          ...\n",
       " 123                                  const, Population  1967.685393\n",
       " 117                       const, CompPrice, Population  1967.762118\n",
       " 114                        const, CompPrice, Education  1967.904785\n",
       " 102                       const, Population, Education  1968.804134\n",
       " 87             const, CompPrice, Population, Education  1968.835948\n",
       " \n",
       " [127 rows x 2 columns])"
      ]
     },
     "execution_count": 20,
     "metadata": {},
     "output_type": "execute_result"
    }
   ],
   "source": [
    "from sklearn.preprocessing import StandardScaler\n",
    "from itertools import combinations\n",
    "import statsmodels.api as sm\n",
    "\n",
    "def stepwise_method_AIC(X, y):\n",
    "    result = pd.DataFrame()\n",
    "    feature_combis=[]\n",
    "    for i in range(1, len(X.columns)+1):\n",
    "        feature_combis += list(combinations(X.columns, i))\n",
    "    feature_combis.reverse()\n",
    "\n",
    "    for j, combi in enumerate(feature_combis):\n",
    "        X_=X.filter(combi)\n",
    "        X_=sm.add_constant(X_)\n",
    "        model = sm.OLS(y, X_)\n",
    "        fitted = model.fit()\n",
    "\n",
    "        n = fitted.nobs\n",
    "        p = fitted.df_model\n",
    "        if j==0:\n",
    "            MSE_full = fitted.mse_resid\n",
    "\n",
    "        result.loc[j, 'feature_combi'] = ', '.join(list(fitted.params.keys()))\n",
    "        result.loc[j, 'AIC'] = fitted.aic\n",
    "\n",
    "        result = result.sort_values(by='AIC', ascending=True)\n",
    "        best = result.iloc[0, 0]\n",
    "    return best, result\n",
    "\n",
    "y = carseats[['Sales']]\n",
    "X = carseats[['CompPrice', 'Income', 'Advertising', 'Population', 'Price', 'Age', 'Education']]\n",
    "\n",
    "stepwise_method_AIC(X, y)"
   ]
  },
  {
   "cell_type": "code",
   "execution_count": 21,
   "metadata": {},
   "outputs": [
    {
     "data": {
      "text/html": [
       "<table class=\"simpletable\">\n",
       "<caption>OLS Regression Results</caption>\n",
       "<tr>\n",
       "  <th>Dep. Variable:</th>          <td>Sales</td>      <th>  R-squared:         </th> <td>   0.540</td>\n",
       "</tr>\n",
       "<tr>\n",
       "  <th>Model:</th>                   <td>OLS</td>       <th>  Adj. R-squared:    </th> <td>   0.534</td>\n",
       "</tr>\n",
       "<tr>\n",
       "  <th>Method:</th>             <td>Least Squares</td>  <th>  F-statistic:       </th> <td>   92.62</td>\n",
       "</tr>\n",
       "<tr>\n",
       "  <th>Date:</th>             <td>Sun, 31 Aug 2025</td> <th>  Prob (F-statistic):</th> <td>2.70e-64</td>\n",
       "</tr>\n",
       "<tr>\n",
       "  <th>Time:</th>                 <td>23:50:25</td>     <th>  Log-Likelihood:    </th> <td> -826.92</td>\n",
       "</tr>\n",
       "<tr>\n",
       "  <th>No. Observations:</th>      <td>   400</td>      <th>  AIC:               </th> <td>   1666.</td>\n",
       "</tr>\n",
       "<tr>\n",
       "  <th>Df Residuals:</th>          <td>   394</td>      <th>  BIC:               </th> <td>   1690.</td>\n",
       "</tr>\n",
       "<tr>\n",
       "  <th>Df Model:</th>              <td>     5</td>      <th>                     </th>     <td> </td>   \n",
       "</tr>\n",
       "<tr>\n",
       "  <th>Covariance Type:</th>      <td>nonrobust</td>    <th>                     </th>     <td> </td>   \n",
       "</tr>\n",
       "</table>\n",
       "<table class=\"simpletable\">\n",
       "<tr>\n",
       "       <td></td>          <th>coef</th>     <th>std err</th>      <th>t</th>      <th>P>|t|</th>  <th>[0.025</th>    <th>0.975]</th>  \n",
       "</tr>\n",
       "<tr>\n",
       "  <th>const</th>       <td>    7.1092</td> <td>    0.944</td> <td>    7.531</td> <td> 0.000</td> <td>    5.253</td> <td>    8.965</td>\n",
       "</tr>\n",
       "<tr>\n",
       "  <th>CompPrice</th>   <td>    0.0939</td> <td>    0.008</td> <td>   12.051</td> <td> 0.000</td> <td>    0.079</td> <td>    0.109</td>\n",
       "</tr>\n",
       "<tr>\n",
       "  <th>Income</th>      <td>    0.0131</td> <td>    0.003</td> <td>    3.779</td> <td> 0.000</td> <td>    0.006</td> <td>    0.020</td>\n",
       "</tr>\n",
       "<tr>\n",
       "  <th>Advertising</th> <td>    0.1306</td> <td>    0.015</td> <td>    8.963</td> <td> 0.000</td> <td>    0.102</td> <td>    0.159</td>\n",
       "</tr>\n",
       "<tr>\n",
       "  <th>Price</th>       <td>   -0.0925</td> <td>    0.005</td> <td>  -18.347</td> <td> 0.000</td> <td>   -0.102</td> <td>   -0.083</td>\n",
       "</tr>\n",
       "<tr>\n",
       "  <th>Age</th>         <td>   -0.0450</td> <td>    0.006</td> <td>   -7.503</td> <td> 0.000</td> <td>   -0.057</td> <td>   -0.033</td>\n",
       "</tr>\n",
       "</table>\n",
       "<table class=\"simpletable\">\n",
       "<tr>\n",
       "  <th>Omnibus:</th>       <td> 9.073</td> <th>  Durbin-Watson:     </th> <td>   1.963</td>\n",
       "</tr>\n",
       "<tr>\n",
       "  <th>Prob(Omnibus):</th> <td> 0.011</td> <th>  Jarque-Bera (JB):  </th> <td>   8.154</td>\n",
       "</tr>\n",
       "<tr>\n",
       "  <th>Skew:</th>          <td> 0.288</td> <th>  Prob(JB):          </th> <td>  0.0170</td>\n",
       "</tr>\n",
       "<tr>\n",
       "  <th>Kurtosis:</th>      <td> 2.602</td> <th>  Cond. No.          </th> <td>1.89e+03</td>\n",
       "</tr>\n",
       "</table><br/><br/>Notes:<br/>[1] Standard Errors assume that the covariance matrix of the errors is correctly specified.<br/>[2] The condition number is large, 1.89e+03. This might indicate that there are<br/>strong multicollinearity or other numerical problems."
      ],
      "text/latex": [
       "\\begin{center}\n",
       "\\begin{tabular}{lclc}\n",
       "\\toprule\n",
       "\\textbf{Dep. Variable:}    &      Sales       & \\textbf{  R-squared:         } &     0.540   \\\\\n",
       "\\textbf{Model:}            &       OLS        & \\textbf{  Adj. R-squared:    } &     0.534   \\\\\n",
       "\\textbf{Method:}           &  Least Squares   & \\textbf{  F-statistic:       } &     92.62   \\\\\n",
       "\\textbf{Date:}             & Sun, 31 Aug 2025 & \\textbf{  Prob (F-statistic):} &  2.70e-64   \\\\\n",
       "\\textbf{Time:}             &     23:50:25     & \\textbf{  Log-Likelihood:    } &   -826.92   \\\\\n",
       "\\textbf{No. Observations:} &         400      & \\textbf{  AIC:               } &     1666.   \\\\\n",
       "\\textbf{Df Residuals:}     &         394      & \\textbf{  BIC:               } &     1690.   \\\\\n",
       "\\textbf{Df Model:}         &           5      & \\textbf{                     } &             \\\\\n",
       "\\textbf{Covariance Type:}  &    nonrobust     & \\textbf{                     } &             \\\\\n",
       "\\bottomrule\n",
       "\\end{tabular}\n",
       "\\begin{tabular}{lcccccc}\n",
       "                     & \\textbf{coef} & \\textbf{std err} & \\textbf{t} & \\textbf{P$> |$t$|$} & \\textbf{[0.025} & \\textbf{0.975]}  \\\\\n",
       "\\midrule\n",
       "\\textbf{const}       &       7.1092  &        0.944     &     7.531  &         0.000        &        5.253    &        8.965     \\\\\n",
       "\\textbf{CompPrice}   &       0.0939  &        0.008     &    12.051  &         0.000        &        0.079    &        0.109     \\\\\n",
       "\\textbf{Income}      &       0.0131  &        0.003     &     3.779  &         0.000        &        0.006    &        0.020     \\\\\n",
       "\\textbf{Advertising} &       0.1306  &        0.015     &     8.963  &         0.000        &        0.102    &        0.159     \\\\\n",
       "\\textbf{Price}       &      -0.0925  &        0.005     &   -18.347  &         0.000        &       -0.102    &       -0.083     \\\\\n",
       "\\textbf{Age}         &      -0.0450  &        0.006     &    -7.503  &         0.000        &       -0.057    &       -0.033     \\\\\n",
       "\\bottomrule\n",
       "\\end{tabular}\n",
       "\\begin{tabular}{lclc}\n",
       "\\textbf{Omnibus:}       &  9.073 & \\textbf{  Durbin-Watson:     } &    1.963  \\\\\n",
       "\\textbf{Prob(Omnibus):} &  0.011 & \\textbf{  Jarque-Bera (JB):  } &    8.154  \\\\\n",
       "\\textbf{Skew:}          &  0.288 & \\textbf{  Prob(JB):          } &   0.0170  \\\\\n",
       "\\textbf{Kurtosis:}      &  2.602 & \\textbf{  Cond. No.          } & 1.89e+03  \\\\\n",
       "\\bottomrule\n",
       "\\end{tabular}\n",
       "%\\caption{OLS Regression Results}\n",
       "\\end{center}\n",
       "\n",
       "Notes: \\newline\n",
       " [1] Standard Errors assume that the covariance matrix of the errors is correctly specified. \\newline\n",
       " [2] The condition number is large, 1.89e+03. This might indicate that there are \\newline\n",
       " strong multicollinearity or other numerical problems."
      ],
      "text/plain": [
       "<class 'statsmodels.iolib.summary.Summary'>\n",
       "\"\"\"\n",
       "                            OLS Regression Results                            \n",
       "==============================================================================\n",
       "Dep. Variable:                  Sales   R-squared:                       0.540\n",
       "Model:                            OLS   Adj. R-squared:                  0.534\n",
       "Method:                 Least Squares   F-statistic:                     92.62\n",
       "Date:                Sun, 31 Aug 2025   Prob (F-statistic):           2.70e-64\n",
       "Time:                        23:50:25   Log-Likelihood:                -826.92\n",
       "No. Observations:                 400   AIC:                             1666.\n",
       "Df Residuals:                     394   BIC:                             1690.\n",
       "Df Model:                           5                                         \n",
       "Covariance Type:            nonrobust                                         \n",
       "===============================================================================\n",
       "                  coef    std err          t      P>|t|      [0.025      0.975]\n",
       "-------------------------------------------------------------------------------\n",
       "const           7.1092      0.944      7.531      0.000       5.253       8.965\n",
       "CompPrice       0.0939      0.008     12.051      0.000       0.079       0.109\n",
       "Income          0.0131      0.003      3.779      0.000       0.006       0.020\n",
       "Advertising     0.1306      0.015      8.963      0.000       0.102       0.159\n",
       "Price          -0.0925      0.005    -18.347      0.000      -0.102      -0.083\n",
       "Age            -0.0450      0.006     -7.503      0.000      -0.057      -0.033\n",
       "==============================================================================\n",
       "Omnibus:                        9.073   Durbin-Watson:                   1.963\n",
       "Prob(Omnibus):                  0.011   Jarque-Bera (JB):                8.154\n",
       "Skew:                           0.288   Prob(JB):                       0.0170\n",
       "Kurtosis:                       2.602   Cond. No.                     1.89e+03\n",
       "==============================================================================\n",
       "\n",
       "Notes:\n",
       "[1] Standard Errors assume that the covariance matrix of the errors is correctly specified.\n",
       "[2] The condition number is large, 1.89e+03. This might indicate that there are\n",
       "strong multicollinearity or other numerical problems.\n",
       "\"\"\""
      ]
     },
     "execution_count": 21,
     "metadata": {},
     "output_type": "execute_result"
    }
   ],
   "source": [
    "y = carseats[['Sales']]\n",
    "X = carseats[['CompPrice', 'Income', 'Advertising', 'Price', 'Age']]\n",
    "\n",
    "X_ = sm.add_constant(X)\n",
    "model = sm.OLS(y, X_)\n",
    "fitted = model.fit()\n",
    "\n",
    "fitted.summary()"
   ]
  },
  {
   "cell_type": "code",
   "execution_count": null,
   "metadata": {},
   "outputs": [],
   "source": []
  }
 ],
 "metadata": {
  "kernelspec": {
   "display_name": "Python 3",
   "language": "python",
   "name": "python3"
  },
  "language_info": {
   "codemirror_mode": {
    "name": "ipython",
    "version": 3
   },
   "file_extension": ".py",
   "mimetype": "text/x-python",
   "name": "python",
   "nbconvert_exporter": "python",
   "pygments_lexer": "ipython3",
   "version": "3.11.5"
  },
  "orig_nbformat": 4
 },
 "nbformat": 4,
 "nbformat_minor": 2
}
