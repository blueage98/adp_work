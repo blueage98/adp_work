{
 "cells": [
  {
   "cell_type": "markdown",
   "metadata": {},
   "source": [
    "**Table of contents**<a id='toc0_'></a>    \n",
    "- [표본추출](#toc1_)    \n",
    "    - [단순 랜덤 추출법](#toc1_1_1_)    \n",
    "    - [계통 추출법 (Systematic Sampling)](#toc1_1_2_)    \n",
    "    - [집락 추출법 (Cluster Random Sampling)](#toc1_1_3_)    \n",
    "    - [층화 추출법 (Stratified Random Sampling)](#toc1_1_4_)    \n",
    "- [데이터 분할](#toc2_)    \n",
    "    - [Hold-out](#toc2_1_1_)    \n",
    "    - [K-Fold](#toc2_1_2_)    \n",
    "    - [Stratified K-Fold](#toc2_1_3_)    \n",
    "    - [Group K-Fold](#toc2_1_4_)    \n",
    "- [교차 검증](#toc3_)    \n",
    "    - [Cross Validation](#toc3_1_1_)    \n",
    "    - [Grid Search Cross Validation](#toc3_1_2_)    \n",
    "\n",
    "<!-- vscode-jupyter-toc-config\n",
    "\tnumbering=false\n",
    "\tanchor=true\n",
    "\tflat=false\n",
    "\tminLevel=1\n",
    "\tmaxLevel=6\n",
    "\t/vscode-jupyter-toc-config -->\n",
    "<!-- THIS CELL WILL BE REPLACED ON TOC UPDATE. DO NOT WRITE YOUR TEXT IN THIS CELL -->"
   ]
  },
  {
   "cell_type": "markdown",
   "metadata": {},
   "source": [
    "# <a id='toc1_'></a>[표본추출](#toc0_)"
   ]
  },
  {
   "cell_type": "code",
   "execution_count": 1,
   "metadata": {},
   "outputs": [
    {
     "data": {
      "text/html": [
       "<div>\n",
       "<style scoped>\n",
       "    .dataframe tbody tr th:only-of-type {\n",
       "        vertical-align: middle;\n",
       "    }\n",
       "\n",
       "    .dataframe tbody tr th {\n",
       "        vertical-align: top;\n",
       "    }\n",
       "\n",
       "    .dataframe thead th {\n",
       "        text-align: right;\n",
       "    }\n",
       "</style>\n",
       "<table border=\"1\" class=\"dataframe\">\n",
       "  <thead>\n",
       "    <tr style=\"text-align: right;\">\n",
       "      <th></th>\n",
       "      <th>sepal length</th>\n",
       "      <th>sepal width</th>\n",
       "      <th>petal length</th>\n",
       "      <th>petal width</th>\n",
       "      <th>target</th>\n",
       "    </tr>\n",
       "  </thead>\n",
       "  <tbody>\n",
       "    <tr>\n",
       "      <th>0</th>\n",
       "      <td>5.1</td>\n",
       "      <td>3.5</td>\n",
       "      <td>1.4</td>\n",
       "      <td>0.2</td>\n",
       "      <td>0.0</td>\n",
       "    </tr>\n",
       "    <tr>\n",
       "      <th>1</th>\n",
       "      <td>4.9</td>\n",
       "      <td>3.0</td>\n",
       "      <td>1.4</td>\n",
       "      <td>0.2</td>\n",
       "      <td>0.0</td>\n",
       "    </tr>\n",
       "    <tr>\n",
       "      <th>2</th>\n",
       "      <td>4.7</td>\n",
       "      <td>3.2</td>\n",
       "      <td>1.3</td>\n",
       "      <td>0.2</td>\n",
       "      <td>0.0</td>\n",
       "    </tr>\n",
       "  </tbody>\n",
       "</table>\n",
       "</div>"
      ],
      "text/plain": [
       "   sepal length  sepal width  petal length  petal width  target\n",
       "0           5.1          3.5           1.4          0.2     0.0\n",
       "1           4.9          3.0           1.4          0.2     0.0\n",
       "2           4.7          3.2           1.3          0.2     0.0"
      ]
     },
     "execution_count": 1,
     "metadata": {},
     "output_type": "execute_result"
    }
   ],
   "source": [
    "import numpy as np\n",
    "import pandas as pd\n",
    "import matplotlib.pyplot as plt\n",
    "\n",
    "plt.rcParams['font.size'] = 10\n",
    "plt.rcParams['font.family'] = 'Malgeun Gothic'\n",
    "plt.rcParams['figure.figsize'] = (5, 5)\n",
    "plt.rcParams['axes.unicode_minus'] = False\n",
    "\n",
    "%matplotlib inline\n",
    "\n",
    "from sklearn.datasets import load_iris\n",
    "data = load_iris()\n",
    "iris_cols = list(data.feature_names) + ['target']\n",
    "iris = pd.DataFrame(np.c_[data.data, data.target], columns=[col.replace(\" (cm)\", \"\") for col in iris_cols])\n",
    "\n",
    "iris.head(3)"
   ]
  },
  {
   "cell_type": "markdown",
   "metadata": {},
   "source": [
    "### <a id='toc1_1_1_'></a>[단순 랜덤 추출법](#toc0_)"
   ]
  },
  {
   "cell_type": "code",
   "execution_count": 6,
   "metadata": {},
   "outputs": [
    {
     "name": "stdout",
     "output_type": "stream",
     "text": [
      "[1, 'a', 'c', 'b']\n",
      "['3' '1' '1' '1']\n"
     ]
    },
    {
     "data": {
      "text/html": [
       "<div>\n",
       "<style scoped>\n",
       "    .dataframe tbody tr th:only-of-type {\n",
       "        vertical-align: middle;\n",
       "    }\n",
       "\n",
       "    .dataframe tbody tr th {\n",
       "        vertical-align: top;\n",
       "    }\n",
       "\n",
       "    .dataframe thead th {\n",
       "        text-align: right;\n",
       "    }\n",
       "</style>\n",
       "<table border=\"1\" class=\"dataframe\">\n",
       "  <thead>\n",
       "    <tr style=\"text-align: right;\">\n",
       "      <th></th>\n",
       "      <th>sepal length</th>\n",
       "      <th>sepal width</th>\n",
       "      <th>petal length</th>\n",
       "      <th>petal width</th>\n",
       "      <th>target</th>\n",
       "    </tr>\n",
       "  </thead>\n",
       "  <tbody>\n",
       "    <tr>\n",
       "      <th>137</th>\n",
       "      <td>6.4</td>\n",
       "      <td>3.1</td>\n",
       "      <td>5.5</td>\n",
       "      <td>1.8</td>\n",
       "      <td>2.0</td>\n",
       "    </tr>\n",
       "    <tr>\n",
       "      <th>27</th>\n",
       "      <td>5.2</td>\n",
       "      <td>3.5</td>\n",
       "      <td>1.5</td>\n",
       "      <td>0.2</td>\n",
       "      <td>0.0</td>\n",
       "    </tr>\n",
       "    <tr>\n",
       "      <th>86</th>\n",
       "      <td>6.7</td>\n",
       "      <td>3.1</td>\n",
       "      <td>4.7</td>\n",
       "      <td>1.5</td>\n",
       "      <td>1.0</td>\n",
       "    </tr>\n",
       "  </tbody>\n",
       "</table>\n",
       "</div>"
      ],
      "text/plain": [
       "     sepal length  sepal width  petal length  petal width  target\n",
       "137           6.4          3.1           5.5          1.8     2.0\n",
       "27            5.2          3.5           1.5          0.2     0.0\n",
       "86            6.7          3.1           4.7          1.5     1.0"
      ]
     },
     "execution_count": 6,
     "metadata": {},
     "output_type": "execute_result"
    }
   ],
   "source": [
    "# random 라이브러리를 활용한 비복원 추출\n",
    "import random\n",
    "data_list = [1,2,3,4,5, 'a', 'b', 'c']\n",
    "print(random.sample(data_list, 4))\n",
    "\n",
    "# Numpy를 활용한 복원 추출\n",
    "print(np.random.choice(data_list, 4, replace=True))\n",
    "\n",
    "# Pandas를 활용한 비복원 추출 - 개수 지정 방식\n",
    "iris.sample(n=3, replace=False)\n",
    "\n",
    "# Pandas를 활용한 비복원 추출 - 비율 지정 방식\n",
    "iris.sample(frac=0.3)\n",
    "\n",
    "# Pandas를 활용한 비복원 추출 - 특정 열에 가중치 적용 (sepal length가 클수록 당첨확률 커짐)\n",
    "testdf = iris.sample(frac=0.3, weights='sepal length')\n",
    "\n",
    "testdf[:3]"
   ]
  },
  {
   "cell_type": "markdown",
   "metadata": {},
   "source": [
    "### <a id='toc1_1_2_'></a>[계통 추출법 (Systematic Sampling)](#toc0_)\n",
    "- 특정 feature 혹은 index를 기준으로 샘플을 나열한다.\n",
    "- N개의 샘플 중 n개를 추출할 예정이라면, N/n 개로 구간을 분할한다.\n",
    "- 각 구간 별로 1개씩 임의로 선정한다."
   ]
  },
  {
   "cell_type": "code",
   "execution_count": 4,
   "metadata": {},
   "outputs": [
    {
     "name": "stdout",
     "output_type": "stream",
     "text": [
      "0 18\n",
      "18 36\n",
      "36 54\n",
      "54 72\n",
      "72 90\n",
      "90 108\n",
      "108 126\n",
      "126 144\n"
     ]
    },
    {
     "data": {
      "text/html": [
       "<div>\n",
       "<style scoped>\n",
       "    .dataframe tbody tr th:only-of-type {\n",
       "        vertical-align: middle;\n",
       "    }\n",
       "\n",
       "    .dataframe tbody tr th {\n",
       "        vertical-align: top;\n",
       "    }\n",
       "\n",
       "    .dataframe thead th {\n",
       "        text-align: right;\n",
       "    }\n",
       "</style>\n",
       "<table border=\"1\" class=\"dataframe\">\n",
       "  <thead>\n",
       "    <tr style=\"text-align: right;\">\n",
       "      <th></th>\n",
       "      <th>sepal length</th>\n",
       "      <th>sepal width</th>\n",
       "      <th>petal length</th>\n",
       "      <th>petal width</th>\n",
       "      <th>target</th>\n",
       "    </tr>\n",
       "  </thead>\n",
       "  <tbody>\n",
       "    <tr>\n",
       "      <th>12</th>\n",
       "      <td>4.8</td>\n",
       "      <td>3.0</td>\n",
       "      <td>1.4</td>\n",
       "      <td>0.1</td>\n",
       "      <td>0.0</td>\n",
       "    </tr>\n",
       "    <tr>\n",
       "      <th>34</th>\n",
       "      <td>4.9</td>\n",
       "      <td>3.1</td>\n",
       "      <td>1.5</td>\n",
       "      <td>0.2</td>\n",
       "      <td>0.0</td>\n",
       "    </tr>\n",
       "    <tr>\n",
       "      <th>42</th>\n",
       "      <td>4.4</td>\n",
       "      <td>3.2</td>\n",
       "      <td>1.3</td>\n",
       "      <td>0.2</td>\n",
       "      <td>0.0</td>\n",
       "    </tr>\n",
       "    <tr>\n",
       "      <th>62</th>\n",
       "      <td>6.0</td>\n",
       "      <td>2.2</td>\n",
       "      <td>4.0</td>\n",
       "      <td>1.0</td>\n",
       "      <td>1.0</td>\n",
       "    </tr>\n",
       "    <tr>\n",
       "      <th>72</th>\n",
       "      <td>6.3</td>\n",
       "      <td>2.5</td>\n",
       "      <td>4.9</td>\n",
       "      <td>1.5</td>\n",
       "      <td>1.0</td>\n",
       "    </tr>\n",
       "    <tr>\n",
       "      <th>94</th>\n",
       "      <td>5.6</td>\n",
       "      <td>2.7</td>\n",
       "      <td>4.2</td>\n",
       "      <td>1.3</td>\n",
       "      <td>1.0</td>\n",
       "    </tr>\n",
       "    <tr>\n",
       "      <th>121</th>\n",
       "      <td>5.6</td>\n",
       "      <td>2.8</td>\n",
       "      <td>4.9</td>\n",
       "      <td>2.0</td>\n",
       "      <td>2.0</td>\n",
       "    </tr>\n",
       "    <tr>\n",
       "      <th>136</th>\n",
       "      <td>6.3</td>\n",
       "      <td>3.4</td>\n",
       "      <td>5.6</td>\n",
       "      <td>2.4</td>\n",
       "      <td>2.0</td>\n",
       "    </tr>\n",
       "  </tbody>\n",
       "</table>\n",
       "</div>"
      ],
      "text/plain": [
       "     sepal length  sepal width  petal length  petal width  target\n",
       "12            4.8          3.0           1.4          0.1     0.0\n",
       "34            4.9          3.1           1.5          0.2     0.0\n",
       "42            4.4          3.2           1.3          0.2     0.0\n",
       "62            6.0          2.2           4.0          1.0     1.0\n",
       "72            6.3          2.5           4.9          1.5     1.0\n",
       "94            5.6          2.7           4.2          1.3     1.0\n",
       "121           5.6          2.8           4.9          2.0     2.0\n",
       "136           6.3          3.4           5.6          2.4     2.0"
      ]
     },
     "execution_count": 4,
     "metadata": {},
     "output_type": "execute_result"
    }
   ],
   "source": [
    "data, n = iris, 8\n",
    "rows = data.shape[0]\n",
    "k = int(rows / 8)\n",
    "beg = 0 \n",
    "end = k\n",
    "\n",
    "sys_df = pd.DataFrame()\n",
    "\n",
    "while end <= rows :\n",
    "    print(beg, end)\n",
    "    sys_df = pd.concat([sys_df, data.loc[beg:end,].sample(1)])\n",
    "    beg = end\n",
    "    end += k\n",
    "    \n",
    "\n",
    "sys_df\n"
   ]
  },
  {
   "cell_type": "markdown",
   "metadata": {},
   "source": [
    "### <a id='toc1_1_3_'></a>[집락 추출법 (Cluster Random Sampling)](#toc0_)\n",
    "- 군집을 설정하고 각 군집(cluster) 별로 랜덤 추출법 (이 부분은 층화추출과 동일)\n",
    "- 1000명의 유권자를 먼저 선정한 다음 그 안에서 랜덤 추출. 학교를 3곳 먼저 선정한 다음 그 안에서 랜덤 추출\n",
    "- 집단 간 동질성, 집단 내 이질성이 특징"
   ]
  },
  {
   "cell_type": "markdown",
   "metadata": {},
   "source": [
    "### <a id='toc1_1_4_'></a>[층화 추출법 (Stratified Random Sampling)](#toc0_)\n",
    "- 층을 설정하고 각 층(stratum) 별로 랜덤 추출 (이 부분은 집락추출과 동일)\n",
    "- 남성군집과 여성군집을 먼저 설정한 다음 그 안에서 램덤 추출. 1학년, 2학년, 3학년 군집을 먼저 설정한 다음 그 안에서 랜덤 추출\n",
    "- 집단 간 이질성, 집단 내 동질성이 특징"
   ]
  },
  {
   "cell_type": "code",
   "execution_count": 69,
   "metadata": {},
   "outputs": [],
   "source": [
    "#아래에서는 비례 층화추출법과 불비례 층화추출법을 구현한다.\n",
    "import math\n",
    "\n",
    "def iris_StratRandSampling(method, data, samples, props):\n",
    "    count = data.target.size\n",
    "    level = data.target.nunique()\n",
    "    levels = data.target.value_counts()\n",
    "    \n",
    "    lev_count = []\n",
    "    if method == '비례' :\n",
    "        lev_count = (levels / count)*samples\n",
    "    elif method == '불비례':\n",
    "        temp = []\n",
    "        for i in range(len(props)) :\n",
    "            temp.append(props[i]*samples)\n",
    "        lev_count = [math.ceil(temp[i]) for i in range(len(temp))]  #props로 계산 시 올림으로 개수 보정한다.\n",
    "\n",
    "    srs_df = pd.DataFrame()\n",
    "    levels = list(map(int, levels.index.to_list()))             #index로 사용하기 위해 정수로 변환해둔다.\n",
    "    \n",
    "    for idx in levels:\n",
    "        df = data[data.target==idx].sample(int(lev_count[idx]))\n",
    "        srs_df = pd.concat([srs_df, df])\n",
    "\n",
    "    return srs_df"
   ]
  },
  {
   "cell_type": "code",
   "execution_count": 71,
   "metadata": {},
   "outputs": [
    {
     "data": {
      "text/html": [
       "<div>\n",
       "<style scoped>\n",
       "    .dataframe tbody tr th:only-of-type {\n",
       "        vertical-align: middle;\n",
       "    }\n",
       "\n",
       "    .dataframe tbody tr th {\n",
       "        vertical-align: top;\n",
       "    }\n",
       "\n",
       "    .dataframe thead th {\n",
       "        text-align: right;\n",
       "    }\n",
       "</style>\n",
       "<table border=\"1\" class=\"dataframe\">\n",
       "  <thead>\n",
       "    <tr style=\"text-align: right;\">\n",
       "      <th></th>\n",
       "      <th>sepal length</th>\n",
       "      <th>sepal width</th>\n",
       "      <th>petal length</th>\n",
       "      <th>petal width</th>\n",
       "      <th>target</th>\n",
       "    </tr>\n",
       "  </thead>\n",
       "  <tbody>\n",
       "    <tr>\n",
       "      <th>9</th>\n",
       "      <td>4.9</td>\n",
       "      <td>3.1</td>\n",
       "      <td>1.5</td>\n",
       "      <td>0.1</td>\n",
       "      <td>0.0</td>\n",
       "    </tr>\n",
       "    <tr>\n",
       "      <th>23</th>\n",
       "      <td>5.1</td>\n",
       "      <td>3.3</td>\n",
       "      <td>1.7</td>\n",
       "      <td>0.5</td>\n",
       "      <td>0.0</td>\n",
       "    </tr>\n",
       "    <tr>\n",
       "      <th>28</th>\n",
       "      <td>5.2</td>\n",
       "      <td>3.4</td>\n",
       "      <td>1.4</td>\n",
       "      <td>0.2</td>\n",
       "      <td>0.0</td>\n",
       "    </tr>\n",
       "    <tr>\n",
       "      <th>67</th>\n",
       "      <td>5.8</td>\n",
       "      <td>2.7</td>\n",
       "      <td>4.1</td>\n",
       "      <td>1.0</td>\n",
       "      <td>1.0</td>\n",
       "    </tr>\n",
       "    <tr>\n",
       "      <th>70</th>\n",
       "      <td>5.9</td>\n",
       "      <td>3.2</td>\n",
       "      <td>4.8</td>\n",
       "      <td>1.8</td>\n",
       "      <td>1.0</td>\n",
       "    </tr>\n",
       "    <tr>\n",
       "      <th>66</th>\n",
       "      <td>5.6</td>\n",
       "      <td>3.0</td>\n",
       "      <td>4.5</td>\n",
       "      <td>1.5</td>\n",
       "      <td>1.0</td>\n",
       "    </tr>\n",
       "    <tr>\n",
       "      <th>136</th>\n",
       "      <td>6.3</td>\n",
       "      <td>3.4</td>\n",
       "      <td>5.6</td>\n",
       "      <td>2.4</td>\n",
       "      <td>2.0</td>\n",
       "    </tr>\n",
       "    <tr>\n",
       "      <th>115</th>\n",
       "      <td>6.4</td>\n",
       "      <td>3.2</td>\n",
       "      <td>5.3</td>\n",
       "      <td>2.3</td>\n",
       "      <td>2.0</td>\n",
       "    </tr>\n",
       "    <tr>\n",
       "      <th>105</th>\n",
       "      <td>7.6</td>\n",
       "      <td>3.0</td>\n",
       "      <td>6.6</td>\n",
       "      <td>2.1</td>\n",
       "      <td>2.0</td>\n",
       "    </tr>\n",
       "  </tbody>\n",
       "</table>\n",
       "</div>"
      ],
      "text/plain": [
       "     sepal length  sepal width  petal length  petal width  target\n",
       "9             4.9          3.1           1.5          0.1     0.0\n",
       "23            5.1          3.3           1.7          0.5     0.0\n",
       "28            5.2          3.4           1.4          0.2     0.0\n",
       "67            5.8          2.7           4.1          1.0     1.0\n",
       "70            5.9          3.2           4.8          1.8     1.0\n",
       "66            5.6          3.0           4.5          1.5     1.0\n",
       "136           6.3          3.4           5.6          2.4     2.0\n",
       "115           6.4          3.2           5.3          2.3     2.0\n",
       "105           7.6          3.0           6.6          2.1     2.0"
      ]
     },
     "execution_count": 71,
     "metadata": {},
     "output_type": "execute_result"
    }
   ],
   "source": [
    "iris_StratRandSampling('비례', iris, 9, [0.2, 0.3, 0.5])"
   ]
  },
  {
   "cell_type": "markdown",
   "metadata": {},
   "source": [
    "# <a id='toc2_'></a>[데이터 분할](#toc0_)"
   ]
  },
  {
   "cell_type": "markdown",
   "metadata": {},
   "source": [
    "### <a id='toc2_1_1_'></a>[Hold-out](#toc0_)\n",
    "- 하나의 데이터셋을 가지고 학습을 하고 검증을 하면 성능이 좋게 나올 수 밖에 없다.\n",
    "- 데이터셋을 2개의 덩어리로 나누어 하나는 학습용, 하나는 검증용으로 사용하는 것을 Hold-out이라고 한다.\n",
    "- 보통은 7:3의 비율로 학습용과 검증용을 나누어 사용한다."
   ]
  },
  {
   "cell_type": "code",
   "execution_count": 3,
   "metadata": {},
   "outputs": [
    {
     "name": "stdout",
     "output_type": "stream",
     "text": [
      "105 45\n"
     ]
    }
   ],
   "source": [
    "from sklearn.model_selection import train_test_split\n",
    "\n",
    "X = iris.drop(['target'], axis=1)\n",
    "y = iris.target\n",
    "\n",
    "X_train, X_test, y_train, y_test = train_test_split(X, y, test_size=0.3)\n",
    "\n",
    "print(len(X_train), len(X_test))"
   ]
  },
  {
   "cell_type": "markdown",
   "metadata": {},
   "source": [
    "### <a id='toc2_1_2_'></a>[K-Fold](#toc0_)\n",
    "- Hold-out 데이터 분할할 경우 분할이 어떻게 되느냐에 따라 과적합 혹은 과소적합이 될 수 있다.\n",
    "- 이로 인해 데이터를 n 개의 덩어리(Fold)로 나누고, 그 중 1개는 검증용, 나머지를 학습용으로 사용하는 처리를 n번 반복하게 된다.\n",
    "- 각 회차에서 나온 MSE의 평균을 해당 모델의 MSE로 채택한다."
   ]
  },
  {
   "cell_type": "markdown",
   "metadata": {},
   "source": [
    "### <a id='toc2_1_3_'></a>[Stratified K-Fold](#toc0_)\n",
    "- K-Fold 데이터 분할할 경우, 각 Fold에는 target 값이 균등하게 배분되지 않을 가능성이 높고, 이로 인해 과대적합, 과소적합 우려가 있다.\n",
    "- 따라서 K-Fold를 만들 때, 각 Fold에 target 값의 구성비에 따라 균등하게 배분되도록 Fold를 구성하는 것이 적절하다."
   ]
  },
  {
   "cell_type": "markdown",
   "metadata": {},
   "source": [
    "### <a id='toc2_1_4_'></a>[Group K-Fold](#toc0_)\n",
    "- Stratified에서는 target의 범주가 3이라고 하면, 각 Fold에 3개 범주의 데이터가 동일 비율로 포함되도록 하는 것을 목적으로 한다.\n",
    "- 그런데 반대로 한 유형의 데이터는 하나의 Fold에만 속하도록 해야 할 때가 있다. \n",
    "- 이를 테면 여러 환자의 데이터가 담겨 있는 경우, 학습용으로는 A, B 환자의 데이터만 사용하고 검증용으로는 C, D 환자의 데이터를 사용하고 싶은 경우다.\n",
    "- 이런 경우 환자의 데이터가 학습용에 있었다면, 검증용으로 사용되면 안되며, 이런 경우 사용하는 것이 Group K-Fold이다."
   ]
  },
  {
   "cell_type": "code",
   "execution_count": null,
   "metadata": {},
   "outputs": [],
   "source": [
    "from sklearn.model_selection import KFold, StratifiedKFold, GroupKFold, StratifiedGroupKFold \n",
    "from collections import Counter\n",
    "\n",
    "kfold = KFold(n_splits=4, shuffle=False)    #shuffle은 분할 전 섞기\n",
    "print('K-Fold')\n",
    "for i, (train_index, test_index) in enumerate(kfold.split(X)) :\n",
    "    y_train = y[train_index]\n",
    "    y_test = y[test_index]\n",
    "    print(train_index.size, Counter(y_train), test_index.size, Counter(y_test))\n",
    "\n",
    "\n",
    "skfold = StratifiedKFold(n_splits=4, shuffle=False)\n",
    "print('Stratified K-Fold')\n",
    "for i, (train_index, test_index) in enumerate(skfold.split(X, y)) :\n",
    "    y_train = y[train_index]\n",
    "    y_test = y[test_index]\n",
    "    print(train_index.size, Counter(y_train), test_index.size, Counter(y_test))\n",
    "\n",
    "\n",
    "gkfold = GroupKFold(n_splits=4)\n",
    "print('Group K-Fold')\n",
    "# Group K-Fold 테스트를 위한 group열 생성\n",
    "X['group'] = y.apply(lambda x : f'g{int(np.random.randint(0,4,1))}')\n",
    "for i, (train_index, test_index) in enumerate(gkfold.split(X, y, X.group)) :\n",
    "    g_train = X.group[train_index]\n",
    "    g_test = X.group[test_index]\n",
    "    print(len(train_index), Counter(g_train), len(test_index), Counter(g_test))\n"
   ]
  },
  {
   "cell_type": "markdown",
   "metadata": {},
   "source": [
    "# <a id='toc3_'></a>[교차 검증](#toc0_)"
   ]
  },
  {
   "cell_type": "code",
   "execution_count": 24,
   "metadata": {},
   "outputs": [],
   "source": [
    "X = iris.drop(['target'], axis=1)\n",
    "y = iris.target"
   ]
  },
  {
   "cell_type": "markdown",
   "metadata": {},
   "source": [
    "### <a id='toc3_1_1_'></a>[Cross Validation](#toc0_)\n",
    "- 데이터 분할에 따른 학습을 동시에 처리해준다."
   ]
  },
  {
   "cell_type": "code",
   "execution_count": 25,
   "metadata": {},
   "outputs": [
    {
     "name": "stdout",
     "output_type": "stream",
     "text": [
      "   fit_time  score_time  test_score  train_score\n",
      "0  0.027629    0.006762    0.894737     0.955357\n",
      "1  0.025223    0.003410    0.947368     0.964286\n",
      "2  0.026812    0.004243    0.945946     0.955752\n",
      "3  0.032816    0.005445    1.000000     0.938053\n"
     ]
    }
   ],
   "source": [
    "from sklearn.model_selection import cross_validate, StratifiedKFold\n",
    "from sklearn.linear_model import LogisticRegression\n",
    "\n",
    "skfold = StratifiedKFold(n_splits=4, shuffle=False)\n",
    "lr1_model = LogisticRegression(max_iter=300, C=0.1)\n",
    "result = cross_validate(lr_model1, X, y, cv=skfold, return_train_score=True)\n",
    "\n",
    "print(pd.DataFrame(result))"
   ]
  },
  {
   "cell_type": "markdown",
   "metadata": {},
   "source": [
    "### <a id='toc3_1_2_'></a>[Grid Search Cross Validation](#toc0_)\n",
    "- 데이터분할 및 학습을 해주는데, 각 파라미터 조합마다 한번씩 해준다."
   ]
  },
  {
   "cell_type": "code",
   "execution_count": 27,
   "metadata": {},
   "outputs": [
    {
     "name": "stdout",
     "output_type": "stream",
     "text": [
      "최고 점수: 0.97\n",
      "최적 Param: {'C': 1, 'solver': 'lbfgs'}\n"
     ]
    }
   ],
   "source": [
    "from sklearn.model_selection import GridSearchCV, StratifiedKFold\n",
    "from sklearn.linear_model import LogisticRegression\n",
    "\n",
    "skFold = StratifiedKFold(n_splits=4, shuffle=False)\n",
    "lr2_model = LogisticRegression(max_iter=300)\n",
    "param_grid = {'C':[0.01, 0.1, 1], 'solver':['lbfgs', 'liblinear']}\n",
    "\n",
    "grid = GridSearchCV(lr2_model, param_grid, cv=skfold)\n",
    "grid.fit(X, y)\n",
    "\n",
    "print('최고 점수: {:.2f}'.format(grid.best_score_))\n",
    "print('최적 Param: {}'.format(grid.best_params_))"
   ]
  }
 ],
 "metadata": {
  "kernelspec": {
   "display_name": "Python 3",
   "language": "python",
   "name": "python3"
  },
  "language_info": {
   "codemirror_mode": {
    "name": "ipython",
    "version": 3
   },
   "file_extension": ".py",
   "mimetype": "text/x-python",
   "name": "python",
   "nbconvert_exporter": "python",
   "pygments_lexer": "ipython3",
   "version": "3.11.5"
  },
  "orig_nbformat": 4
 },
 "nbformat": 4,
 "nbformat_minor": 2
}
