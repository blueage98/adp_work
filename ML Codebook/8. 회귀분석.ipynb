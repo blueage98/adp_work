{
 "cells": [
  {
   "cell_type": "markdown",
   "metadata": {},
   "source": [
    "**Table of contents**<a id='toc0_'></a>    \n",
    "- [회귀분석](#toc1_)    \n",
    "  - [선형회귀](#toc1_1_)    \n",
    "    - [단순선형회귀](#toc1_1_1_)    \n",
    "    - [다중선형회귀](#toc1_1_2_)    \n",
    "      - [영향치 판단](#toc1_1_2_1_)    \n",
    "      - [VIF 계산](#toc1_1_2_2_)    \n",
    "      - [변수선택과 가능도](#toc1_1_2_3_)    \n",
    "      - [잔차 분석](#toc1_1_2_4_)    \n",
    "    - [규제 선형회귀 (Regularized linear regression)](#toc1_1_3_)    \n",
    "      - [릿지 회귀 (L2. 제곱합 규제)](#toc1_1_3_1_)    \n",
    "      - [라쏘 회귀 (L1. 절대값 규제)](#toc1_1_3_2_)    \n",
    "      - [엘라스틱 넷](#toc1_1_3_3_)    \n",
    "    - [로지스틱 회귀](#toc1_1_4_)    \n",
    "  - [비선형 회귀](#toc1_2_)    \n",
    "    - [다항 회귀](#toc1_2_1_)    \n",
    "    - [스플라인 회귀](#toc1_2_2_)    \n",
    "\n",
    "<!-- vscode-jupyter-toc-config\n",
    "\tnumbering=false\n",
    "\tanchor=true\n",
    "\tflat=false\n",
    "\tminLevel=1\n",
    "\tmaxLevel=6\n",
    "\t/vscode-jupyter-toc-config -->\n",
    "<!-- THIS CELL WILL BE REPLACED ON TOC UPDATE. DO NOT WRITE YOUR TEXT IN THIS CELL -->"
   ]
  },
  {
   "cell_type": "markdown",
   "metadata": {},
   "source": [
    "# <a id='toc1_'></a>[회귀분석](#toc0_)"
   ]
  },
  {
   "cell_type": "markdown",
   "metadata": {},
   "source": [
    "## <a id='toc1_1_'></a>[선형회귀](#toc0_)"
   ]
  },
  {
   "cell_type": "markdown",
   "metadata": {},
   "source": [
    "- 용어설명\n",
    "   - X : 예측변수 = 설명변수 = 입력변수 = 독립변수 = feature\n",
    "   - Y : 결과변수 = 반응변수 = 출력변수 = 종속변수 = target\n",
    "   - Y hat : 적합값 = 예측값 = predicted value\n",
    "   - w : 회귀계수 = 기울기 = 가중치 = coefficient\n",
    "   - b : 회귀계수 = 절편 = 상수항 = intercept = constant\n",
    "   - 잔차 (Residual) : 관측치와 표본회귀선과의 편차\n",
    "   - 오차 (Error) : 관측치와 모회귀선과의 편차\n",
    "- 선형회귀의 가정\n",
    "   - 선형성 : 독립변수와 종속변수의 관계는 선형성을 갖는다. 종속변수는 독립변수와 회귀계수의 선형결합으로 표현된다. \n",
    "   - 독립성\n",
    "      - 잔차들은 서로 독립이다. 잔차들이 자기 상관을 갖는다면 주요 독립변수를 놓친 것.\n",
    "      - 독립변수들은 서로 독립이다. 서로 독립이 아니라면 다중공선성의 문제가 있는 것. 다중선형회귀의 중요 가정.\n",
    "   - 등분산성 : 잔차의 분산은 일정하다. (분산이 체계적으로 줄거나 늘거나하는 등의 경향을 갖지 않는다.)\n",
    "   - 정규성 : 잔차는 정규분포의 형태를 띈다.\n",
    "- 회귀분석의 전처리\n",
    "   - 다중선형회귀에서 원핫인코딩하는 경우 다중공선성 문제가 생긴다. (하나가 1이면 다른 것들은 0)\n",
    "   - 서열척도의 경우 순서에 따른 수치형 변수로 변환\n",
    "   - 독립변수의 중요도, 즉 회귀결과에 대한 영향력의 크기는 Leverage H, Cook's distance, DFBETAS, DFFITS 등을 사용한다.\n",
    "   - 다중공선성의 문제가 있는 경우, 회귀계수의 분산이 비정상적으로 커짐. 변수선택법, 분산팽창요인(VIF, Variation inflation factor) 등 사용하여 변수 제거\n",
    "   - 잔차분석 결과가 등분산성, 정규성 가정을 위반하는 경우 종속변수에 대해 Box-Cox변환, 로그변환 등을 시도할 수 있다.\n",
    "- R2 (R squared)의 의미\n",
    "   - SST (Totoal Sum of Squares) : Y - Ym = 관측치의 분산\n",
    "   - SSR (Sum of Squares of Regression) : Yh - Ym = 예측치의 분산\n",
    "   - SSE (Sum of Squares of Error) : Y - Yh = 예측치의 오차\n",
    "   - SST(Y-Ym) = SSR(Yh-Ym) + SSE(Y-Yh) 이 된다.\n",
    "   - 좋은 추정이라는 것은 결국 SSE를 최소화, 즉 예측치의 분산이 관측치의 분산을 모두 설명해줄 수 있어야 한다는 것이다.\n",
    "   - 따라서 R2 = 관측치 분산 대비 예측치 분산 = SSR/SST가 되고, 1에 가까울수록 적합도가 좋다는 의미가 된다.\n",
    "   - 데이터 분석 상황에서 목표로 한 것은 관측치와 최대한 동일한 예측을 하는 것이고, 이 관점에서는 SST는 볼 필요가 없다. SSE만 0이 되면 되는 것이다.\n",
    "   - 통계적 분석 관점에서 볼 때 SSE가 0이 된다는 것은 과대적합이다. 주어진 관측치 조차도 표본일 뿐이어서 SSE가 0인 것은 의미가 없다.\n",
    "   - 따라서 분산이 일치하는지도 중요한 정보가 될 수 있고, 이 관점에서 추정의 적합도를 보는 척도가 R2이다. \n",
    "   - 다만 R2의 문제는 적합한 추정이 아니어도 분산만 같으면 높은 점수가 나온다는 데 있다. \n",
    "- 잔차 (https://blog.naver.com/yunjh7024/220883990761)\n",
    "   - 잔차 : 관측치, 예측치 간 오차\n",
    "   - SSE : 잔차의 제곱합\n",
    "   - 잔차의 분산 : SSE를 자유도로 나눈 것 (MSE)\n",
    "   - 잔차의 표준편차 : 표준오차. SE(Standard Error) (MSE 제곱근) \n",
    "- 회귀계수의 가설검정 (https://blog.naver.com/kisooofficial/223189457022)\n",
    "   - 최소제곱법의 수식은 결국 잔차제곱합을 최소화해주는 회귀계수를 찾기 위해, 잔차제곱합 수식을 회귀계수에 대해 편미분한 결과이다.\n",
    "   - 잔차제곱합은 결국 2차식이다. 2차 그래프에서 제곱합이 최소일 때의 회귀계수가 알고 싶다. \n",
    "   - 제곱합 값이 최소일 때는 기울기가 0이 되는 순간이다. 따라서 편미분 후 y가 0일 때의 지점을 찾으면 된다.\n",
    "\n",
    "\n"
   ]
  },
  {
   "cell_type": "markdown",
   "metadata": {},
   "source": [
    "### <a id='toc1_1_1_'></a>[단순선형회귀](#toc0_)"
   ]
  },
  {
   "cell_type": "code",
   "execution_count": 1,
   "metadata": {},
   "outputs": [],
   "source": [
    "from sklearn.datasets import load_diabetes\n",
    "from pandas import DataFrame\n",
    "import numpy as np\n",
    "\n",
    "data = load_diabetes()\n",
    "Xa = data['data']\n",
    "ya = data['target']\n",
    "diabetes = DataFrame(np.c_[Xa, ya], columns=data['feature_names']+['target'])"
   ]
  },
  {
   "cell_type": "code",
   "execution_count": 2,
   "metadata": {},
   "outputs": [],
   "source": [
    "#단순선형회귀 적합을 위해 전체 데이터에서 1개의 설명변수와 1개의 종속변수 추출\n",
    "X = np.array(diabetes.bmi)\n",
    "Xm = np.mean(X)\n",
    "Y = np.array(diabetes.target)\n",
    "Ym = np.mean(Y)"
   ]
  },
  {
   "cell_type": "code",
   "execution_count": 3,
   "metadata": {},
   "outputs": [
    {
     "name": "stdout",
     "output_type": "stream",
     "text": [
      "[수기적합]\n",
      "기울기 점추정량 : 949.435\n",
      "절편 점추정량 : 152.133\n",
      "표본 회귀식 : Y = 949.435*X + 152.133\n",
      "결정계수(R2) : 0.344 (=0.344)\n",
      "상관계수(R)  : 0.586 (=0.586)\n"
     ]
    }
   ],
   "source": [
    "print('[수기적합]')\n",
    "w = sum((X-Xm)*(Y-Ym)) / sum((X-Xm)**2)\n",
    "b = Ym - w*Xm\n",
    "\n",
    "print('기울기 점추정량 : {:.3f}'.format(w))\n",
    "print('절편 점추정량 : {:.3f}'.format(b))\n",
    "print('표본 회귀식 : Y = {:.3f}*X + {:.3f}'.format(w, b))\n",
    "\n",
    "Ypred = w*X + b\n",
    "SSR = sum((Ym - Ypred)**2)\n",
    "SSE = sum((Y - Ypred)**2)\n",
    "SST = sum((Y - Ym)**2)\n",
    "R2 = SSR/SST\n",
    "R = np.corrcoef(X, Y)[0][1]     #X, Y의 상관계수\n",
    "print('결정계수(R2) : {:.3f} (={:.3f})'.format(R2, R**2))\n",
    "print('상관계수(R)  : {:.3f} (={:.3f})'.format(R, np.sqrt(R2)))\n",
    "## X, Y의 상관계수의 제곱은 X, Y로 적합한 단순 선형회귀 모델의 결정계수와 같다."
   ]
  },
  {
   "cell_type": "code",
   "execution_count": 4,
   "metadata": {},
   "outputs": [
    {
     "name": "stdout",
     "output_type": "stream",
     "text": [
      " MSE: 3908.140, MSR:901427.314, F통계량 230.654\n",
      " 가설검정: F(1,440) p-value P:0.000\n"
     ]
    }
   ],
   "source": [
    "# 회귀계수의 가설검정 (F검정, 유의수준5%)\n",
    "# H0: 모든 회귀계수는 0이다. \n",
    "# H1: 적어도 하나의 회귀계수는 0이 아니다.\n",
    "\n",
    "from scipy.stats import f\n",
    "treat_df = 1                    #처리의 자유도 (설명변수의 개수)\n",
    "resid_df = len(X) - treat_df-1  #잔차의 자유도 (전체데이터 개수 - 설명변수 개수 -1)\n",
    "MSR = SSR / treat_df\n",
    "MSE = SSE / resid_df\n",
    "fstat = MSR / MSE\n",
    "print(' MSE: {:.3f}, MSR:{:.3f}, F통계량 {:.3f}'.format(MSE, MSR, fstat))\n",
    "print(' 가설검정: F({},{}) p-value P:{:.3f}'.format(treat_df, resid_df, 1-f.cdf(fstat, treat_df, resid_df)))"
   ]
  },
  {
   "cell_type": "code",
   "execution_count": 5,
   "metadata": {},
   "outputs": [
    {
     "name": "stdout",
     "output_type": "stream",
     "text": [
      "라이브러리 적합 : OLS\n"
     ]
    },
    {
     "name": "stdout",
     "output_type": "stream",
     "text": [
      "                            OLS Regression Results                            \n",
      "==============================================================================\n",
      "Dep. Variable:                 target   R-squared:                       0.344\n",
      "Model:                            OLS   Adj. R-squared:                  0.342\n",
      "Method:                 Least Squares   F-statistic:                     230.7\n",
      "Date:                Sat, 29 Jun 2024   Prob (F-statistic):           3.47e-42\n",
      "Time:                        19:06:21   Log-Likelihood:                -2454.0\n",
      "No. Observations:                 442   AIC:                             4912.\n",
      "Df Residuals:                     440   BIC:                             4920.\n",
      "Df Model:                           1                                         \n",
      "Covariance Type:            nonrobust                                         \n",
      "==============================================================================\n",
      "                 coef    std err          t      P>|t|      [0.025      0.975]\n",
      "------------------------------------------------------------------------------\n",
      "const        152.1335      2.974     51.162      0.000     146.289     157.978\n",
      "bmi          949.4353     62.515     15.187      0.000     826.570    1072.301\n",
      "==============================================================================\n",
      "Omnibus:                       11.674   Durbin-Watson:                   1.848\n",
      "Prob(Omnibus):                  0.003   Jarque-Bera (JB):                7.310\n",
      "Skew:                           0.156   Prob(JB):                       0.0259\n",
      "Kurtosis:                       2.453   Cond. No.                         21.0\n",
      "==============================================================================\n",
      "\n",
      "Notes:\n",
      "[1] Standard Errors assume that the covariance matrix of the errors is correctly specified.\n"
     ]
    }
   ],
   "source": [
    "print('라이브러리 적합 : OLS')\n",
    "#statsmodel 방법\n",
    "import statsmodels.api as sm\n",
    "X = diabetes.bmi\n",
    "Y = diabetes.target\n",
    "Xc = sm.add_constant(X) #절편추가\n",
    "\n",
    "model = sm.OLS(Y, Xc)\n",
    "fitted = model.fit()\n",
    "resid = fitted.resid    #모델의 잔차 추출\n",
    "print(fitted.summary())"
   ]
  },
  {
   "cell_type": "code",
   "execution_count": 6,
   "metadata": {},
   "outputs": [
    {
     "name": "stdout",
     "output_type": "stream",
     "text": [
      "라이브러리 적합 : sklearn\n",
      "회귀계수 :  [[949.43526038]]\n",
      "절편 :  [152.13348416]\n",
      "결정계수 : 0.344\n"
     ]
    }
   ],
   "source": [
    "print('라이브러리 적합 : sklearn')\n",
    "from sklearn.linear_model import LinearRegression\n",
    "X = diabetes.filter(['bmi'])\n",
    "Y = diabetes.filter(['target'])\n",
    "\n",
    "LR = LinearRegression()\n",
    "LR.fit(X, Y)\n",
    "pred = LR.predict(X)\n",
    "\n",
    "print('회귀계수 : ', LR.coef_)\n",
    "print('절편 : ', LR.intercept_)\n",
    "print('결정계수 : {:.3f}'.format(LR.score(X,Y)))"
   ]
  },
  {
   "cell_type": "code",
   "execution_count": 7,
   "metadata": {},
   "outputs": [
    {
     "name": "stdout",
     "output_type": "stream",
     "text": [
      "[추정과 검정]\n",
      "잔차 표준오차: 62.515(=62.515))\n",
      "1. 기울기: \n",
      "  점추정량: 949.435\n",
      "  점추정량의 표준오차: 62.515122\n",
      "  신뢰구간: 826.570~1072.301\n",
      "  검정통계량 15.187, p-value 0.000\n",
      "2. 절편: \n",
      "  점추정량: 152.133\n",
      "  점추정량의 표준오차 : 2.974\n",
      "  신뢰구간: 146.289~157.978\n",
      "  검정통계량 51.162, p-value 0.000\n"
     ]
    }
   ],
   "source": [
    "print('[추정과 검정]')\n",
    "from scipy.stats import t\n",
    "X = np.array(diabetes.bmi)\n",
    "Y = np.array(diabetes.target)\n",
    "\n",
    "## resid_std 잔차의 표준오차를 계산하여 아래 추정과 검정에 활용\n",
    "resid_std = np.sqrt(MSE)\n",
    "resid_std2 = np.std(fitted.resid, ddof=2)\n",
    "print('잔차 표준오차: {:.3f}(={:.3f}))'.format(resid_std, resid_std2))\n",
    "\n",
    "\n",
    "print('1. 기울기: ')\n",
    "\n",
    "# 기울기의 추정\n",
    "print(\"  점추정량: {:.3f}\".format(w))\n",
    "SE = resid_std / np.sqrt(sum((X-Xm)**2))   # 잔차표준편차 / X편차의 제곱합\n",
    "print(\"  점추정량의 표준오차: {:3f}\".format(SE))\n",
    "conf_a = 0.05\n",
    "start = w + t.ppf(conf_a/2, resid_df)*SE\n",
    "end = w + t.ppf(1-conf_a/2, resid_df)*SE\n",
    "print('  신뢰구간: {:.3f}~{:.3f}'.format(start, end))\n",
    "\n",
    "# 기울기의 가설검정 (t검정, 유의수준 5%)\n",
    "test_a = 0.05\n",
    "w0 = 0\n",
    "tstat = (w - w0) / SE\n",
    "print('  검정통계량 {:.3f}, p-value {:.3f}'.format(tstat, (1-t.cdf(tstat, resid_df))*2))\n",
    "\n",
    "\n",
    "print('2. 절편: ')\n",
    "\n",
    "# 절편의 추정\n",
    "Xi = 0\n",
    "Y1 = b + w*Xi\n",
    "print('  점추정량: {:.3f}'.format(Y1))  #절편의 기대값\n",
    "SE2 = resid_std * np.sqrt(1/len(X) + (Xi-Xm)**2/sum((X-Xm)**2))\n",
    "print('  점추정량의 표준오차 : {:.3f}'.format(SE2))\n",
    "start2 = Y1 + t.ppf(conf_a/2, resid_df)*SE2\n",
    "end2 = Y1 + t.ppf(1-conf_a/2, resid_df)*SE2\n",
    "print('  신뢰구간: {:.3f}~{:.3f}'.format(start2, end2))\n",
    "\n",
    "# 절편의 가설검정 (t검정, 유의수준 5%)\n",
    "# H0: 절편 b0는 0이다. H1: 절편 b0는 0이 아니다.\n",
    "test_a = 0.05\n",
    "b0 = 0\n",
    "tstat2 = (b-b0) / SE2\n",
    "print('  검정통계량 {:.3f}, p-value {:.3f}'.format(tstat2, (1-t.cdf(np.abs(tstat2), resid_df))*2))"
   ]
  },
  {
   "cell_type": "markdown",
   "metadata": {},
   "source": [
    "### <a id='toc1_1_2_'></a>[다중선형회귀](#toc0_)"
   ]
  },
  {
   "cell_type": "code",
   "execution_count": 8,
   "metadata": {},
   "outputs": [],
   "source": [
    "from sklearn.datasets import load_diabetes\n",
    "import statsmodels.api as sm\n",
    "import numpy as np\n",
    "import pandas as pd\n",
    "\n",
    "data = load_diabetes()\n",
    "Xa = data.data\n",
    "ya = data.target\n",
    "\n",
    "diabetes = pd.DataFrame(np.c_[Xa, ya], columns = data['feature_names']+['target'])\n",
    "\n",
    "X = diabetes[['bmi', 'age', 'sex', 'bp']]\n",
    "y = diabetes['target']"
   ]
  },
  {
   "cell_type": "code",
   "execution_count": 9,
   "metadata": {},
   "outputs": [
    {
     "name": "stdout",
     "output_type": "stream",
     "text": [
      "                            OLS Regression Results                            \n",
      "==============================================================================\n",
      "Dep. Variable:                 target   R-squared:                       0.400\n",
      "Model:                            OLS   Adj. R-squared:                  0.395\n",
      "Method:                 Least Squares   F-statistic:                     72.91\n",
      "Date:                Sat, 29 Jun 2024   Prob (F-statistic):           2.70e-47\n",
      "Time:                        19:06:21   Log-Likelihood:                -2434.2\n",
      "No. Observations:                 442   AIC:                             4878.\n",
      "Df Residuals:                     437   BIC:                             4899.\n",
      "Df Model:                           4                                         \n",
      "Covariance Type:            nonrobust                                         \n",
      "==============================================================================\n",
      "                 coef    std err          t      P>|t|      [0.025      0.975]\n",
      "------------------------------------------------------------------------------\n",
      "const        152.1335      2.853     53.329      0.000     146.527     157.740\n",
      "bmi          787.1817     65.424     12.032      0.000     658.597     915.766\n",
      "age           37.2406     64.117      0.581      0.562     -88.776     163.258\n",
      "sex         -106.5762     62.125     -1.716      0.087    -228.677      15.525\n",
      "bp           416.6725     69.495      5.996      0.000     280.087     553.258\n",
      "==============================================================================\n",
      "Omnibus:                        9.858   Durbin-Watson:                   1.933\n",
      "Prob(Omnibus):                  0.007   Jarque-Bera (JB):                6.464\n",
      "Skew:                           0.146   Prob(JB):                       0.0395\n",
      "Kurtosis:                       2.485   Cond. No.                         28.4\n",
      "==============================================================================\n",
      "\n",
      "Notes:\n",
      "[1] Standard Errors assume that the covariance matrix of the errors is correctly specified.\n"
     ]
    }
   ],
   "source": [
    "# 회귀분석 fitted객체, 요약결과 반환하는 함수 정의\n",
    "def multiR_fitted(X, y):\n",
    "    X_ = sm.add_constant(X)     #상수항결합 : https://datascienceschool.net/03%20machine%20learning/04.02%20%EC%84%A0%ED%98%95%ED%9A%8C%EA%B7%80%EB%B6%84%EC%84%9D%EC%9D%98%20%EA%B8%B0%EC%B4%88.html#id2\n",
    "    model = sm.OLS(y, X_)\n",
    "    fitted = model.fit()\n",
    "    return fitted, fitted.summary()\n",
    "\n",
    "fitted, summary = multiR_fitted(X, y)\n",
    "print(summary)"
   ]
  },
  {
   "cell_type": "markdown",
   "metadata": {},
   "source": [
    "#### <a id='toc1_1_2_1_'></a>[영향치 판단](#toc0_)\n",
    "- Cook's distance : 영향력 판단. 1보다 클 경우 영향치로 판단\n",
    "- DFBETAS : 값이 커지면 영향치, 많이 커지면 이상치일 가능성\n",
    "- DFFITS : 해당 관측치 제외 시 종속변수 예측치의 변화 정도를 측정.\n",
    "- Leverage H : 2(p+1)/n 이상의 값들은 레버리지 높다"
   ]
  },
  {
   "cell_type": "code",
   "execution_count": 10,
   "metadata": {},
   "outputs": [
    {
     "name": "stdout",
     "output_type": "stream",
     "text": [
      "     coooks_distance   dfbetas   dffits:  leverageH\n",
      "0           0.001516 -0.043867 -0.087062   0.008908\n",
      "1           0.000350 -0.024198 -0.041811   0.006743\n",
      "2           0.001478 -0.033422 -0.085965   0.014950\n",
      "3           0.003736  0.061662  0.136681   0.011133\n",
      "4           0.000003 -0.002047 -0.003822   0.007869\n",
      "..               ...       ...       ...        ...\n",
      "437         0.000049 -0.008507 -0.015638   0.007629\n",
      "438         0.000002 -0.001460 -0.003347   0.011865\n",
      "439         0.000045 -0.008749 -0.015046   0.006677\n",
      "440         0.000531  0.026808  0.051509   0.008339\n",
      "441         0.000031 -0.005440 -0.012411   0.011747\n",
      "\n",
      "[442 rows x 4 columns]\n"
     ]
    }
   ],
   "source": [
    "def get_influence(fitted):\n",
    "    cook = fitted.get_influence().cooks_distance[0]\n",
    "    dfb  = fitted.get_influence().dfbetas[:,0]\n",
    "    dff  = fitted.get_influence().dffits_internal[0]\n",
    "    lev  = fitted.get_influence().hat_matrix_diag\n",
    "\n",
    "    df = pd.DataFrame({'coooks_distance':cook, 'dfbetas':dfb, 'dffits:':dff, 'leverageH':lev})\n",
    "    return df\n",
    "\n",
    "influ_df = get_influence(fitted)\n",
    "print(influ_df)"
   ]
  },
  {
   "cell_type": "markdown",
   "metadata": {},
   "source": [
    "#### <a id='toc1_1_2_2_'></a>[VIF 계산](#toc0_)\n",
    "- 분산팽창요인(Variance inflation factor)\n",
    "- 각 회귀계수의 분산 증가에 대한 측정치\n",
    "- 다중공선성의 척도. 10 이상이면 설명변수들 간 상관성이 높다.\n",
    "- 범주형 변수를 Dummy coding으로 전처리한 경우 p-1개의 이진변수를 알면 p번째 변수의 값이 결정되고 이로 인해 다중공선성 문제가 생긴다. 이 경우 p번째 열을 제거한다."
   ]
  },
  {
   "cell_type": "code",
   "execution_count": 11,
   "metadata": {},
   "outputs": [
    {
     "data": {
      "text/html": [
       "<div>\n",
       "<style scoped>\n",
       "    .dataframe tbody tr th:only-of-type {\n",
       "        vertical-align: middle;\n",
       "    }\n",
       "\n",
       "    .dataframe tbody tr th {\n",
       "        vertical-align: top;\n",
       "    }\n",
       "\n",
       "    .dataframe thead th {\n",
       "        text-align: right;\n",
       "    }\n",
       "</style>\n",
       "<table border=\"1\" class=\"dataframe\">\n",
       "  <thead>\n",
       "    <tr style=\"text-align: right;\">\n",
       "      <th></th>\n",
       "      <th>feature</th>\n",
       "      <th>VIF</th>\n",
       "    </tr>\n",
       "  </thead>\n",
       "  <tbody>\n",
       "    <tr>\n",
       "      <th>4</th>\n",
       "      <td>bp</td>\n",
       "      <td>1.343</td>\n",
       "    </tr>\n",
       "    <tr>\n",
       "      <th>1</th>\n",
       "      <td>bmi</td>\n",
       "      <td>1.19</td>\n",
       "    </tr>\n",
       "    <tr>\n",
       "      <th>2</th>\n",
       "      <td>age</td>\n",
       "      <td>1.143</td>\n",
       "    </tr>\n",
       "    <tr>\n",
       "      <th>3</th>\n",
       "      <td>sex</td>\n",
       "      <td>1.073</td>\n",
       "    </tr>\n",
       "  </tbody>\n",
       "</table>\n",
       "</div>"
      ],
      "text/plain": [
       "  feature    VIF\n",
       "4      bp  1.343\n",
       "1     bmi   1.19\n",
       "2     age  1.143\n",
       "3     sex  1.073"
      ]
     },
     "execution_count": 11,
     "metadata": {},
     "output_type": "execute_result"
    }
   ],
   "source": [
    "from statsmodels.stats.outliers_influence import variance_inflation_factor as VIF\n",
    "\n",
    "def check_vif(X, y):\n",
    "    X = sm.add_constant(X)\n",
    "    model = sm.OLS(y, X)\n",
    "    model.fit()\n",
    "    vif_df = DataFrame(columns=['feature', 'VIF'])\n",
    "    for i in range(1, len(model.exog_names)):\n",
    "        vif_df.loc[i,'feature'] = model.exog_names[i]\n",
    "        vif_df.loc[i,'VIF'] = round(VIF(model.exog, i), 3)\n",
    "    return vif_df.sort_values('VIF', ascending=False)\n",
    "\n",
    "check_vif(X, y)\n",
    "\n",
    "#결과가 10이 넘는 것이 없다 다중공선성은 없다."
   ]
  },
  {
   "cell_type": "markdown",
   "metadata": {},
   "source": [
    "#### <a id='toc1_1_2_3_'></a>[변수선택과 가능도](#toc0_)\n",
    "- 변수선택법\n",
    "    - 단계적 방법 (Stepwise method)\n",
    "    - 전진 선택법 (Forward Selection)\n",
    "    - 후진 제거법 (Backward elimination)\n",
    "- 변수 선택을 위한 기준\n",
    "    - 수정 결정계수 : Adjusted R squared. 변수 추가할수록 기존 결정계수에 불이익\n",
    "    - AIC\n",
    "    - BIC\n",
    "    - Mallows Cp\n",
    "- 가능도 (likelihood)\n",
    "    - 확률분포의 모수가 어떤 확률변수의 표집값과 일관되는 정도\n",
    "    - 주어진 표집값에 대한 모수의 가능도는, 이 모수를 따르는 분포가 주어진 관측값에 대하여 부여하는 확률\n",
    "    - 즉, 어떤 모델의 가능도가 높을수록 모델의 추정량이 실제 모수에 가깝다."
   ]
  },
  {
   "cell_type": "code",
   "execution_count": 12,
   "metadata": {},
   "outputs": [],
   "source": [
    "#모든 변수를 포함한 \n",
    "def show_metrics_for_feat_select(X, y):\n",
    "    print('features : ', X.columns.to_list())\n",
    "    fitted, summary = multiR_fitted(X, y)\n",
    "    R2 = fitted.rsquared\n",
    "    n = fitted.nobs # number of observations\n",
    "    p = fitted.df_model # number of features\n",
    "    constant = 'const' in fitted.params.keys()\n",
    "    SSE = sum((fitted.resid)**2) # full model의 잔차제곱합\n",
    "    MSE_full = SSE / (n-p-1)\n",
    "    adj_R2 = 1-(1-R2)*(n-1)/(n-p-1)\n",
    "    print('  수정 결정계수 : {:.3f}'.format(adj_R2))\n",
    "    print('  AIC : {:.1f}'.format(fitted.aic))\n",
    "    print('  BIC : {:.1f}'.format(fitted.bic))\n",
    "    Cp = SSE / MSE_full - n + 2*(p+1)\n",
    "    print('  Cp {:.1f} -> 변수+상수 개수의 합 {}'.format(Cp, p+constant))"
   ]
  },
  {
   "cell_type": "code",
   "execution_count": 13,
   "metadata": {},
   "outputs": [
    {
     "name": "stdout",
     "output_type": "stream",
     "text": [
      "features :  ['bmi', 'age', 'sex', 'bp']\n",
      "  수정 결정계수 : 0.395\n",
      "  AIC : 4878.4\n",
      "  BIC : 4898.8\n",
      "  Cp 5.0 -> 변수+상수 개수의 합 5.0\n",
      "\n",
      "features :  ['bp', 'bmi']\n",
      "  수정 결정계수 : 0.393\n",
      "  AIC : 4877.5\n",
      "  BIC : 4889.8\n",
      "  Cp 3.0 -> 변수+상수 개수의 합 3.0\n"
     ]
    }
   ],
   "source": [
    "show_metrics_for_feat_select(X, y)\n",
    "print('')\n",
    "show_metrics_for_feat_select(X[['bp', 'bmi']], y)"
   ]
  },
  {
   "cell_type": "code",
   "execution_count": 14,
   "metadata": {},
   "outputs": [],
   "source": [
    "## 단계적 선택법\n",
    "import pandas as pd\n",
    "import statsmodels.api as sm\n",
    "import numpy as np\n",
    "from itertools import combinations\n",
    "\n",
    "def stepwise_method(X, y, criterion='AIC'): # BIC, CP, adj_R2\n",
    "    result = pd.DataFrame()\n",
    "    feature_combis = [] #변수조합의 모든 경우의 수\n",
    "    for i in range(1, len(X.columns)+1):\n",
    "        feature_combis += list(combinations(X.columns, i))\n",
    "    feature_combis.reverse()    # p개수 내림차순\n",
    "    \n",
    "    for j, feature_combi in enumerate(feature_combis):\n",
    "        # 회귀분석 수행\n",
    "        X_ = X.filter(feature_combi)\n",
    "        X_ = sm.add_constant(X_)\n",
    "        model = sm.OLS(y, X_)\n",
    "        fitted = model.fit()\n",
    "        n = fitted.nobs # number of observations\n",
    "        p = fitted.df_model # number of features\n",
    "        if j==0:\n",
    "            MSE_full = fitted.mse_resid # full모델의 MSE    \n",
    "\n",
    "        # 각 기준값 계산\n",
    "        aic = fitted.aic\n",
    "        bic = fitted.bic\n",
    "        Cp = sum((fitted.resid)**2) / MSE_full - (n - 2*(p+1))\n",
    "        adj_R2 = fitted.rsquared_adj\n",
    "\n",
    "        # 각 기준값 입력\n",
    "        result.loc[j, 'feature_combi'] = \", \".join(list(fitted.params.keys()))\n",
    "        result.loc[j, 'AIC'] = aic\n",
    "        result.loc[j, 'BIC'] = bic\n",
    "        result.loc[j, 'CP'] = Cp\n",
    "        result.loc[j, 'adj_R2'] = adj_R2\n",
    "\n",
    "        if criterion in ['AIC', 'BIC']:  #낮을수록 BEST\n",
    "            result = result.sort_values(by=criterion, ascending=True)\n",
    "            best = result.iloc[0,0]\n",
    "        elif criterion in ['adj_R2']:  #낮을수록 BEST\n",
    "            result = result.sort_values(by=criterion, ascending=False)\n",
    "            best = result.iloc[0,0]\n",
    "        elif criterion in ['CP']: #CP값이 작고, 변수의 개수와 유사할수록 BEST\n",
    "            best_idx = np.abs(result['CP']-result['feature_combi'].apply(lambda x: x.count(',')+1)).sort_values(ascending=True).index\n",
    "            result = result.loc[best_idx, :]\n",
    "            best = result.iloc[0,0]\n",
    "        else:\n",
    "            print('criterion options only cover AIC, BIC, CP, adj_R2')\n",
    "    return best, result"
   ]
  },
  {
   "cell_type": "code",
   "execution_count": 15,
   "metadata": {},
   "outputs": [
    {
     "name": "stdout",
     "output_type": "stream",
     "text": [
      "최적의 변수 조합 const, bmi, sex, bp\n",
      "전체 결과값:\n",
      "               feature_combi          AIC          BIC          CP    adj_R2\n",
      "2        const, bmi, sex, bp  4876.695451  4893.060691    3.337350  0.395687\n",
      "8             const, bmi, bp  4877.487843  4889.761772    4.109030  0.393242\n",
      "0   const, bmi, age, sex, bp  4878.354373  4898.810922    5.000000  0.394771\n",
      "3        const, bmi, age, bp  4879.321047  4895.686287    5.942980  0.392087\n",
      "10           const, bmi, age  4909.624337  4921.898267   37.300027  0.347484\n",
      "4       const, bmi, age, sex  4911.296550  4927.661789   38.949157  0.346479\n",
      "14                const, bmi  4912.038221  4920.220840   40.050156  0.342433\n",
      "9            const, bmi, sex  4913.987529  4926.261459   41.995333  0.341010\n",
      "5             const, sex, bp  5002.163006  5014.436935  147.528327  0.195517\n",
      "11                 const, bp  5002.507604  5010.690223  148.631889  0.193076\n",
      "1        const, age, sex, bp  5002.828421  5019.193660  147.769066  0.196111\n",
      "6             const, age, bp  5003.526444  5015.800374  149.331118  0.193032\n",
      "13                const, age  5082.445976  5090.628596  264.927364  0.033110\n",
      "7            const, age, sex  5084.394690  5096.668620  266.845807  0.031020\n",
      "12                const, sex  5097.511242  5105.693862  289.299148 -0.000414\n",
      "\n",
      "기준 AIC에 의한 최적의 변수 조합 const, bmi, sex, bp\n",
      "기준 BIC에 의한 최적의 변수 조합 const, bmi, bp\n"
     ]
    },
    {
     "name": "stdout",
     "output_type": "stream",
     "text": [
      "기준 CP에 의한 최적의 변수 조합 const, bmi, age, sex, bp\n",
      "기준 adj_R2에 의한 최적의 변수 조합 const, bmi, sex, bp\n"
     ]
    }
   ],
   "source": [
    "# AIC 기준으로 단계적 선택법 적용한 최적의 변수 선택 결과\n",
    "best, result = stepwise_method(X, y, criterion='AIC')\n",
    "print('최적의 변수 조합', best)\n",
    "print(f'전체 결과값:\\n{result}\\n')\n",
    "\n",
    "for c in ['AIC', 'BIC', 'CP', 'adj_R2']:\n",
    "    best, result = stepwise_method(X, y, c)\n",
    "    print(f'기준 {c}에 의한 최적의 변수 조합 {best}')"
   ]
  },
  {
   "cell_type": "markdown",
   "metadata": {},
   "source": [
    "#### <a id='toc1_1_2_4_'></a>[잔차 분석](#toc0_)\n",
    "- 회귀분석 후 결과가 회귀분석의 가정을 만족하는지 검증\n",
    "- 회귀분석의 가정을 만족하지 못할 경우 데이터 전처리 (이상치 처리, 다중공선성 제거, 종속변수 스케일링 등) 후 새로운 모델로 적합"
   ]
  },
  {
   "cell_type": "code",
   "execution_count": 16,
   "metadata": {},
   "outputs": [
    {
     "name": "stdout",
     "output_type": "stream",
     "text": [
      "예측값: \n",
      " [205.82990301 105.33173897 182.53724311 129.17349824 137.56394829]\n",
      "실제값: \n",
      " [151.  75. 141. 206. 135.]\n",
      "잔차: \n",
      " [-54.82990301 -30.33173897 -41.53724311  76.82650176  -2.56394829]\n",
      "표준화 잔차 \n",
      " [-0.91941843 -0.50861954 -0.69651969  1.28826968 -0.04299372]\n"
     ]
    }
   ],
   "source": [
    "from scipy.stats import zscore, probplot\n",
    "import statsmodels.api as sm\n",
    "X_ = sm.add_constant(X)\n",
    "model = sm.OLS(y, X_)\n",
    "fitted = model.fit()\n",
    "\n",
    "resid = fitted.resid        #잔차\n",
    "pred = fitted.fittedvalues  #예측값\n",
    "sresid = zscore(resid)     #잔차 표준화\n",
    "\n",
    "print('예측값: \\n', pred[:5].values)\n",
    "print('실제값: \\n', y[:5].values)\n",
    "print('잔차: \\n', resid[:5].values)\n",
    "print('표준화 잔차 \\n', sresid[:5].values)                     "
   ]
  },
  {
   "cell_type": "code",
   "execution_count": 17,
   "metadata": {},
   "outputs": [
    {
     "name": "stdout",
     "output_type": "stream",
     "text": [
      "Jarque-bera: stats 6.464, p-value 0.039\n",
      "skewness 0.146, kurtosis 2.485\n",
      "Jarque-Bera 검정결과 유의수준 0.05를 기준으로 정규분포와는 차이가 있다.(H1)\n",
      "왜도, 첨도 기준으로 보더라도, 정규분포는 왜도 0, 첨도 3을 따르므로 다소 차이가 있다.\n"
     ]
    },
    {
     "data": {
      "image/png": "[encoded data removed]",
      "text/plain": [
       "<Figure size 1000x500 with 2 Axes>"
      ]
     },
     "metadata": {},
     "output_type": "display_data"
    },
    {
     "name": "stdout",
     "output_type": "stream",
     "text": [
      "Q-Q plot을 볼 때는 잔차가 정규분포에 어느 정도 적합함을 보여주고 있다.\n"
     ]
    }
   ],
   "source": [
    "# 정규성 확인 (Histogram, Q-Q plot, Jarque-Bera)\n",
    "from matplotlib import pyplot as plt\n",
    "from statsmodels.stats.stattools import jarque_bera\n",
    "\n",
    "stats, p, skew, kurt = jarque_bera(resid)\n",
    "\n",
    "print('Jarque-bera: stats {:.3f}, p-value {:.3f}'.format(stats, p))\n",
    "print('skewness {:.3f}, kurtosis {:.3f}'.format(skew, kurt))\n",
    "\n",
    "print('Jarque-Bera 검정결과 유의수준 0.05를 기준으로 정규분포와는 차이가 있다.(H1)')\n",
    "print('왜도, 첨도 기준으로 보더라도, 정규분포는 왜도 0, 첨도 3을 따르므로 다소 차이가 있다.')\n",
    "\n",
    "fig, ax = plt.subplots(1,2, figsize=(10,5))\n",
    "ax[0].hist(resid)\n",
    "probplot(resid, plot=ax[1])\n",
    "plt.show()\n",
    "\n",
    "print('Q-Q plot을 볼 때는 잔차가 정규분포에 어느 정도 적합함을 보여주고 있다.')\n",
    "# Probability plot은 정규분포, t분포, F분포 등 데이터가 어떤 분포를 따르는지 검정하기 위해 사용\n",
    "# https://blog.naver.com/breezehome50/222339337268"
   ]
  },
  {
   "cell_type": "code",
   "execution_count": 18,
   "metadata": {},
   "outputs": [
    {
     "data": {
      "image/png": "[encoded data removed]",
      "text/plain": [
       "<Figure size 1200x300 with 4 Axes>"
      ]
     },
     "metadata": {},
     "output_type": "display_data"
    },
    {
     "name": "stdout",
     "output_type": "stream",
     "text": [
      "각 독립변수와 잔차의 분산이 일정하면, 가운데 회귀선이 수평하게 표시된다.\n",
      "표준화 잔차의 값이 +/- 2를 벗어나면 이상값으로 예상할 수 있다.\n",
      "모든 독립변수에서 잔차의 분산이 일정한 것으로 보인다\n"
     ]
    }
   ],
   "source": [
    "# 2. 등분산성 확인\n",
    "import seaborn as sns\n",
    "fig, ax = plt.subplots(1, 4, figsize=(12,3))\n",
    "for feature, ax in zip(X.columns, ax.ravel()):\n",
    "    sns.regplot(x=X[feature], y=sresid, line_kws={'color':'C1'}, ax=ax)\n",
    "plt.show()\n",
    "\n",
    "print('각 독립변수와 잔차의 분산이 일정하면, 가운데 회귀선이 수평하게 표시된다.')\n",
    "print('표준화 잔차의 값이 +/- 2를 벗어나면 이상값으로 예상할 수 있다.')\n",
    "print('모든 독립변수에서 잔차의 분산이 일정한 것으로 보인다')"
   ]
  },
  {
   "cell_type": "code",
   "execution_count": 19,
   "metadata": {},
   "outputs": [
    {
     "name": "stdout",
     "output_type": "stream",
     "text": [
      "Durbin-Watson 통계량 : 1.933\n",
      "통계량이 2에 가까우면 잔차간 독립 / 0에 가까우면 양의 상관 / 4에 가까우면 음의상관\n"
     ]
    }
   ],
   "source": [
    "# 3. 독립성 확인\n",
    "from statsmodels.stats.stattools import durbin_watson\n",
    "dw = durbin_watson(resid)\n",
    "print('Durbin-Watson 통계량 : {:.3f}'.format(dw))\n",
    "\n",
    "print('통계량이 2에 가까우면 잔차간 독립 / 0에 가까우면 양의 상관 / 4에 가까우면 음의상관')"
   ]
  },
  {
   "cell_type": "markdown",
   "metadata": {},
   "source": [
    "### <a id='toc1_1_3_'></a>[규제 선형회귀 (Regularized linear regression)](#toc0_)\n",
    "- 회귀분석은 잔차의 제곱합을 최소화하는, 최소제곱법을 통해 이루어진다.\n",
    "- 따라서 다항회귀, 다중회귀 같은 경우, 잔차제곱을 최소화하기 위해 회귀계수가 값이 매우 커지는 양상을 보인다.\n",
    "- 이 경우 표본에는 적합될 지 모르나, 모집단에는 적합되지 않는 과적합 가능성이 높아진다.\n",
    "- Lasso에서는 L1 norm, 즉 회귀계수의 절대값합이 커질수록 패널티를 부여하는 방식을 취하고,\n",
    "- Ridge에서는 L2 norm, 즉 회귀계수의 squared제곱합이 커질수록 패널티를 부여하는 방식을 취한다."
   ]
  },
  {
   "cell_type": "code",
   "execution_count": 20,
   "metadata": {},
   "outputs": [],
   "source": [
    "from sklearn.model_selection import train_test_split\n",
    "\n",
    "X = diabetes[['bmi', 'age', 'sex', 'bp']]\n",
    "y = diabetes['target']\n",
    "\n",
    "X_train, X_test, y_train, y_test = train_test_split(X, y)\n",
    "\n",
    "def reg_regression_test(X_train, X_test, y_train, y_test, model):\n",
    "    train_s = model.score(X_train, y_train)\n",
    "    test_s = model.score(X_test, y_test)\n",
    "    print('  train score: {:.3f}  test score: {:.3f}'.format(train_s, test_s))\n",
    "\n",
    "    for i, coef in enumerate(model.coef_.ravel()):\n",
    "        print('  회귀계수 {}: {:.2f}'.format(i, coef))\n",
    "    print(\"  절편 : {:.2f}\".format(model.intercept_))"
   ]
  },
  {
   "cell_type": "markdown",
   "metadata": {},
   "source": [
    "#### <a id='toc1_1_3_1_'></a>[릿지 회귀 (L2. 제곱합 규제)](#toc0_)\n",
    "- 일반적으로 Ridge가 선형회귀보다 낫지만 데이터가 충분히 많아지면 차이가 줄어든다."
   ]
  },
  {
   "cell_type": "code",
   "execution_count": 21,
   "metadata": {},
   "outputs": [
    {
     "name": "stdout",
     "output_type": "stream",
     "text": [
      "  train score: 0.310  test score: 0.223\n",
      "  회귀계수 0: 374.84\n",
      "  회귀계수 1: 42.05\n",
      "  회귀계수 2: -6.86\n",
      "  회귀계수 3: 223.95\n",
      "  절편 : 147.87\n",
      "  train score: 0.399  test score: 0.332\n",
      "  회귀계수 0: 699.64\n",
      "  회귀계수 1: 7.39\n",
      "  회귀계수 2: -74.36\n",
      "  회귀계수 3: 336.01\n",
      "  절편 : 149.18\n"
     ]
    }
   ],
   "source": [
    "from sklearn.linear_model import Ridge\n",
    "# 알파값이 클수록 규제가 커져, 모델이 일반화된다.\n",
    "a = 0.9 \n",
    "ridge9 = Ridge(alpha=a).fit(X_train, y_train)\n",
    "reg_regression_test(X_train, X_test, y_train, y_test, ridge9)\n",
    "\n",
    "a = 0.1 \n",
    "ridge1 = Ridge(alpha=a).fit(X_train, y_train)\n",
    "reg_regression_test(X_train, X_test, y_train, y_test, ridge1)\n"
   ]
  },
  {
   "cell_type": "markdown",
   "metadata": {},
   "source": [
    "#### <a id='toc1_1_3_2_'></a>[라쏘 회귀 (L1. 절대값 규제)](#toc0_)\n",
    "- 회귀계수가 0에 가까워지도록 규제하는데, 실제로 어떤 계수는 0이 된다. 즉 중요한 특성만 남게 된다.\n",
    "- 일반적으로 Ridge가 선호되나, 특성이 너무 많을 때는 Lasso로 선택하여 특성을 줄여 해석을 용이하게 한다."
   ]
  },
  {
   "cell_type": "code",
   "execution_count": 22,
   "metadata": {},
   "outputs": [
    {
     "name": "stdout",
     "output_type": "stream",
     "text": [
      "  train score: 0.307  test score: 0.196\n",
      "  회귀계수 0: 505.11\n",
      "  회귀계수 1: 0.00\n",
      "  회귀계수 2: 0.00\n",
      "  회귀계수 3: 56.93\n",
      "  절편 : 147.85\n",
      "  train score: 0.401  test score: 0.332\n",
      "  회귀계수 0: 757.99\n",
      "  회귀계수 1: 0.00\n",
      "  회귀계수 2: -38.78\n",
      "  회귀계수 3: 305.71\n",
      "  절편 : 149.29\n"
     ]
    }
   ],
   "source": [
    "from sklearn.linear_model import Lasso\n",
    "\n",
    "# 알파값이 클수록 규제가 커져, 모델이 일반화된다.\n",
    "a = 0.9 \n",
    "lasso9 = Lasso(alpha=a).fit(X_train, y_train)\n",
    "reg_regression_test(X_train, X_test, y_train, y_test, lasso9)\n",
    "\n",
    "a = 0.1 \n",
    "lasso1 = Lasso(alpha=a).fit(X_train, y_train)\n",
    "reg_regression_test(X_train, X_test, y_train, y_test, lasso1)"
   ]
  },
  {
   "cell_type": "markdown",
   "metadata": {},
   "source": [
    "#### <a id='toc1_1_3_3_'></a>[엘라스틱 넷](#toc0_)\n"
   ]
  },
  {
   "cell_type": "markdown",
   "metadata": {},
   "source": [
    "### <a id='toc1_1_4_'></a>[로지스틱 회귀](#toc0_)"
   ]
  },
  {
   "cell_type": "code",
   "execution_count": 23,
   "metadata": {},
   "outputs": [
    {
     "name": "stdout",
     "output_type": "stream",
     "text": [
      "target class:  Counter({1: 357, 0: 212})\n"
     ]
    }
   ],
   "source": [
    "from sklearn.linear_model import LogisticRegression\n",
    "from sklearn.datasets import load_breast_cancer\n",
    "from sklearn.model_selection import train_test_split\n",
    "from collections import Counter\n",
    "import pandas as pd\n",
    "import numpy as np\n",
    "\n",
    "cancer = load_breast_cancer()\n",
    "X = cancer.data[:, :4]\n",
    "y = cancer.target\n",
    "X_names = cancer.feature_names[:4]\n",
    "\n",
    "X_train, X_test, y_train, y_test = train_test_split(X, y, stratify=y, random_state=0)\n",
    "print('target class: ', Counter(y))"
   ]
  },
  {
   "cell_type": "code",
   "execution_count": 24,
   "metadata": {},
   "outputs": [
    {
     "name": "stdout",
     "output_type": "stream",
     "text": [
      "train score 0.913, test score 0.874\n",
      "\n",
      "LogisticRegression Formula : \n",
      " y = 0.016* 'mean radius' + -0.192* 'mean texture' + -0.272* 'mean perimeter' + 0.008* 'mean area' + 24.001\n"
     ]
    }
   ],
   "source": [
    "# 파라미터 C값이 높을수록 규제가 약해지고, 모델 복잡성이 높아진다. 과적합으로 간다.\n",
    "lr = LogisticRegression(C=0.01, max_iter=1000)\n",
    "lr.fit(X_train, y_train)\n",
    "\n",
    "train_score = lr.score(X_train, y_train)\n",
    "test_score = lr.score(X_test, y_test)\n",
    "\n",
    "def regress_formula(feature_names, coef, intercept):\n",
    "    msg = 'y = '\n",
    "    for i, feature in enumerate(feature_names):\n",
    "        coef = coef.ravel()\n",
    "        msg += \"+ {:.3f}* '{}' \".format(coef[i], feature)\n",
    "    if intercept.shape == (1,):\n",
    "        intercept = intercept[0]\n",
    "    else:\n",
    "        intercept = intercept\n",
    "    msg += '+ {:.3f}'.format(intercept)\n",
    "    msg = msg[:4] + msg[6:]\n",
    "    return msg\n",
    "\n",
    "print('train score {:.3f}, test score {:.3f}\\n'.format(train_score, test_score))\n",
    "print('LogisticRegression Formula : \\n', regress_formula(X_names, lr.coef_, lr.intercept_))"
   ]
  },
  {
   "cell_type": "code",
   "execution_count": 29,
   "metadata": {},
   "outputs": [
    {
     "name": "stdout",
     "output_type": "stream",
     "text": [
      "  0번 데이터의 feature: [  17.99   10.38  122.8  1001.  ]\n",
      "  0번 데이터의 선형함수 값 (XBeta): -2.932 (=-2.932)\n",
      "  0번 데이터의 Sigmoid함수 값 (mu): 0.051 (=0.051)\n"
     ]
    }
   ],
   "source": [
    "# XBeta값(설명변수의 선형결합)과 예측확률값 구하기\n",
    "\n",
    "data_idx = 0    #설명변수 x0의 index\n",
    "\n",
    "XB = (X[data_idx]*lr.coef_).sum() + lr.intercept_[0]    #회귀식에 X0값을 대입한 예측값\n",
    "mu = 1/(1+np.exp(-XB))  #XB값을 변형하여 0~1 사이의 확률값으로 매핑\n",
    "\n",
    "# method인 decision_funtion과 predict_proba로 계산하기\n",
    "    # predict_proba : mu 예측 확률값 구하기\n",
    "XB2 = lr.decision_function(X[data_idx].reshape(-1, len(X[data_idx])))[0]\n",
    "    # decision_function : XBeta 계산\n",
    "mu2 = lr.predict_proba(X[data_idx].reshape(-1, len(X[data_idx])))[0][1]\n",
    "\n",
    "print(\"  {}번 데이터의 feature: {}\".format(data_idx, X[data_idx]))\n",
    "print('  {}번 데이터의 선형함수 값 (XBeta): {:.3f} (={:.3f})'.format(data_idx, XB, XB2))\n",
    "print('  {}번 데이터의 Sigmoid함수 값 (mu): {:.3f} (={:.3f})'.format(data_idx, mu, mu2))\n",
    "      "
   ]
  },
  {
   "cell_type": "code",
   "execution_count": 32,
   "metadata": {},
   "outputs": [
    {
     "name": "stdout",
     "output_type": "stream",
     "text": [
      "분류 확률값에 따른 분류값과 실제 분류값:\n",
      "           0         1  pred  y\n",
      "0  0.949417  0.050583     0  0\n",
      "1  0.987738  0.012262     0  0\n",
      "2  0.994990  0.005010     0  0\n",
      "3  0.090167  0.909833     1  0\n"
     ]
    }
   ],
   "source": [
    "#기본 cut-off value(임계값)은 0.5다. 즉 확률값이 0.5 이상이면 1, 이하이면 0으로 분류\n",
    "prob = lr.predict_proba(X)  # 각 클래스에 대한 예측 확률값\n",
    "pred = lr.predict(X)        # 예측값\n",
    "\n",
    "result = pd.DataFrame(prob)\n",
    "result['pred'] = pred\n",
    "result['y'] = y\n",
    "\n",
    "print('분류 확률값에 따른 분류값과 실제 분류값:\\n', result[:4])\n"
   ]
  },
  {
   "cell_type": "code",
   "execution_count": 33,
   "metadata": {},
   "outputs": [
    {
     "name": "stdout",
     "output_type": "stream",
     "text": [
      "최적의 cut-off value: 0.526\n"
     ]
    }
   ],
   "source": [
    "# 분류 성능 최적화를 위해 cut-off value를 다르게 설정하기도 한다.\n",
    "# Youden's J statistics는 기본적으로 민감도+특이도-1 이라는 매우 단순한 계산식을 통해 특이도와 민감도의 합이 최대가 되는 점을 구하는 것.\n",
    "from sklearn.metrics import roc_curve\n",
    "fpr, tpr, threshold = roc_curve(y, prob[:, 1])\n",
    "\n",
    "J = tpr-fpr\n",
    "idx = np.argmax(J)\n",
    "best_threshold = threshold[idx]\n",
    "best_tpr = tpr[idx]\n",
    "best_fpr = fpr[idx]\n",
    "\n",
    "print('최적의 cut-off value: {:.3f}'.format(best_threshold))"
   ]
  },
  {
   "cell_type": "markdown",
   "metadata": {},
   "source": [
    "## <a id='toc1_2_'></a>[비선형 회귀](#toc0_)"
   ]
  },
  {
   "cell_type": "code",
   "execution_count": 20,
   "metadata": {},
   "outputs": [],
   "source": [
    "import pandas as pd\n",
    "import numpy as np\n",
    "\n",
    "# 데이터 생성 ----------------------------------\n",
    "x = np.arange(-0.6, 6.0, 0.1)\n",
    "y = 1*(x**3) + 2*(x**2) + 1*x + 3\n",
    "y_noise = 30 * np.random.normal(size=x.size)\n",
    "y = y + y_noise\n",
    "\n",
    "def eval_linearRegression (x, x_trans, y):\n",
    "    lr = LinearRegression()\n",
    "    lr.fit(x_trans, y)\n",
    "    pred = lr.predict(x_trans)\n",
    "    print('sklearn R2: {:.3f}'.format(lr.score(x_trans,y)))\n",
    "\n",
    "    #원본데이터와 예측데이터 비교\n",
    "    from matplotlib import pyplot as plt\n",
    "    fig, ax = plt.subplots(1,1)\n",
    "    ax.scatter(x, y, alpha=0.5, color='black')\n",
    "    ax.scatter(x, pred, alpha=0.5, color='red')\n",
    "    ax.legend(['original', 'predict'])\n",
    "    plt.show()\n",
    "\n",
    "    # 다항회귀 적합 2 ----------------------------------\n",
    "    import statsmodels.api as sm\n",
    "    model = sm.OLS(y, x_trans)\n",
    "    fitted = model.fit()\n",
    "    print(fitted.summary())\n"
   ]
  },
  {
   "cell_type": "markdown",
   "metadata": {},
   "source": [
    "### <a id='toc1_2_1_'></a>[다항 회귀](#toc0_)"
   ]
  },
  {
   "cell_type": "code",
   "execution_count": 22,
   "metadata": {},
   "outputs": [
    {
     "name": "stdout",
     "output_type": "stream",
     "text": [
      "sklearn R2: 0.843\n"
     ]
    },
    {
     "data": {
      "image/png": "[encoded data removed]",
      "text/plain": [
       "<Figure size 640x480 with 1 Axes>"
      ]
     },
     "metadata": {},
     "output_type": "display_data"
    },
    {
     "name": "stdout",
     "output_type": "stream",
     "text": [
      "                            OLS Regression Results                            \n",
      "==============================================================================\n",
      "Dep. Variable:                      y   R-squared:                       0.843\n",
      "Model:                            OLS   Adj. R-squared:                  0.835\n",
      "Method:                 Least Squares   F-statistic:                     110.9\n",
      "Date:                Sat, 29 Jun 2024   Prob (F-statistic):           7.11e-25\n",
      "Time:                        21:22:55   Log-Likelihood:                -321.40\n",
      "No. Observations:                  66   AIC:                             650.8\n",
      "Df Residuals:                      62   BIC:                             659.6\n",
      "Df Model:                           3                                         \n",
      "Covariance Type:            nonrobust                                         \n",
      "==============================================================================\n",
      "                 coef    std err          t      P>|t|      [0.025      0.975]\n",
      "------------------------------------------------------------------------------\n",
      "const         17.7084      8.093      2.188      0.032       1.531      33.886\n",
      "x1             6.7945     12.739      0.533      0.596     -18.671      32.260\n",
      "x2            -1.6827      5.996     -0.281      0.780     -13.668      10.303\n",
      "x3             1.3424      0.738      1.819      0.074      -0.133       2.818\n",
      "==============================================================================\n",
      "Omnibus:                        0.126   Durbin-Watson:                   1.620\n",
      "Prob(Omnibus):                  0.939   Jarque-Bera (JB):                0.234\n",
      "Skew:                           0.097   Prob(JB):                        0.890\n",
      "Kurtosis:                       2.781   Cond. No.                         280.\n",
      "==============================================================================\n",
      "\n",
      "Notes:\n",
      "[1] Standard Errors assume that the covariance matrix of the errors is correctly specified.\n"
     ]
    }
   ],
   "source": [
    "# 다항회귀 적합 1 ----------------------------------\n",
    "from sklearn.preprocessing import PolynomialFeatures\n",
    "from sklearn.linear_model import LinearRegression\n",
    "\n",
    "#degress: 다항식 차수 지정\n",
    "#include_bias : 절편 추가 여부\n",
    "polyfeats = PolynomialFeatures(degree=3, include_bias=True)\n",
    "px = polyfeats.fit_transform(x.reshape(-1,1))\n",
    "\n",
    "eval_linearRegression(x, px, y)"
   ]
  },
  {
   "cell_type": "markdown",
   "metadata": {},
   "source": [
    "### <a id='toc1_2_2_'></a>[스플라인 회귀](#toc0_)\n",
    "- 스플라인 회귀는 다항 구간들을 부드러운 곡선 형태로 적합하는 방법\n",
    "- 스플라인 구간을 구분하는 값을 knot (매듭)이라고 하는데, 구간 별 다항식을 통해 knot 사이를 부드럽게 연결한다.\n",
    "- scikit-learn의 SplineTransformer에서 매듭의 개수(n_knots)와 차수(degree)를 지정함으로써 기본 스플라인 항(B-spline)을 적용\n",
    "- n_splines = n_knots + degree -1 (extrapolation = 'perodic'의 경우 n_knots-1)"
   ]
  },
  {
   "cell_type": "code",
   "execution_count": 23,
   "metadata": {},
   "outputs": [
    {
     "name": "stdout",
     "output_type": "stream",
     "text": [
      "sklearn R2: 0.859\n"
     ]
    },
    {
     "data": {
      "image/png": "[encoded data removed]",
      "text/plain": [
       "<Figure size 640x480 with 1 Axes>"
      ]
     },
     "metadata": {},
     "output_type": "display_data"
    },
    {
     "name": "stdout",
     "output_type": "stream",
     "text": [
      "                            OLS Regression Results                            \n",
      "==============================================================================\n",
      "Dep. Variable:                      y   R-squared:                       0.859\n",
      "Model:                            OLS   Adj. R-squared:                  0.847\n",
      "Method:                 Least Squares   F-statistic:                     72.81\n",
      "Date:                Sat, 29 Jun 2024   Prob (F-statistic):           3.50e-24\n",
      "Time:                        21:23:01   Log-Likelihood:                -317.94\n",
      "No. Observations:                  66   AIC:                             647.9\n",
      "Df Residuals:                      60   BIC:                             661.0\n",
      "Df Model:                           5                                         \n",
      "Covariance Type:            nonrobust                                         \n",
      "==============================================================================\n",
      "                 coef    std err          t      P>|t|      [0.025      0.975]\n",
      "------------------------------------------------------------------------------\n",
      "x1          -605.0892    244.151     -2.478      0.016   -1093.465    -116.714\n",
      "x2           126.1409     45.578      2.768      0.007      34.971     217.311\n",
      "x3           -24.7266     25.279     -0.978      0.332     -75.292      25.838\n",
      "x4            94.8123     25.279      3.751      0.000      44.247     145.377\n",
      "x5           222.9533     45.578      4.892      0.000     131.783     314.123\n",
      "x6           625.3870    244.151      2.561      0.013     137.012    1113.762\n",
      "==============================================================================\n",
      "Omnibus:                        0.304   Durbin-Watson:                   1.786\n",
      "Prob(Omnibus):                  0.859   Jarque-Bera (JB):                0.129\n",
      "Skew:                           0.108   Prob(JB):                        0.938\n",
      "Kurtosis:                       3.005   Cond. No.                         37.7\n",
      "==============================================================================\n",
      "\n",
      "Notes:\n",
      "[1] Standard Errors assume that the covariance matrix of the errors is correctly specified.\n"
     ]
    }
   ],
   "source": [
    "from sklearn.preprocessing import SplineTransformer\n",
    "from sklearn.linear_model import LinearRegression\n",
    "\n",
    "# 스플라인 회귀적합 1\n",
    "spline = SplineTransformer(degree=3, n_knots=4)\n",
    "sx = spline.fit_transform(x.reshape(-1,1))\n",
    "\n",
    "eval_linearRegression(x, sx, y)"
   ]
  },
  {
   "cell_type": "code",
   "execution_count": null,
   "metadata": {},
   "outputs": [],
   "source": []
  }
 ],
 "metadata": {
  "kernelspec": {
   "display_name": "Python 3",
   "language": "python",
   "name": "python3"
  },
  "language_info": {
   "codemirror_mode": {
    "name": "ipython",
    "version": 3
   },
   "file_extension": ".py",
   "mimetype": "text/x-python",
   "name": "python",
   "nbconvert_exporter": "python",
   "pygments_lexer": "ipython3",
   "version": "3.11.5"
  },
  "orig_nbformat": 4
 },
 "nbformat": 4,
 "nbformat_minor": 2
}
