{
 "cells": [
  {
   "cell_type": "markdown",
   "metadata": {},
   "source": [
    "**Table of contents**<a id='toc0_'></a>    \n",
    "- [확률분포](#toc1_)    \n",
    "  - [이산형 확률분포](#toc1_1_)    \n",
    "    - [베르누이 분포](#toc1_1_1_)    \n",
    "    - [이항분포](#toc1_1_2_)    \n",
    "    - [음이항 분포](#toc1_1_3_)    \n",
    "    - [기하 분포](#toc1_1_4_)    \n",
    "    - [초기하 분포](#toc1_1_5_)    \n",
    "    - [포아송 분포](#toc1_1_6_)    \n",
    "  - [연속형 확률분포](#toc1_2_)    \n",
    "    - [균일분포](#toc1_2_1_)    \n",
    "    - [정규분포](#toc1_2_2_)    \n",
    "    - [지수분포](#toc1_2_3_)    \n",
    "    - [감마분포](#toc1_2_4_)    \n",
    "    - [카이제곱 분포](#toc1_2_5_)    \n",
    "    - [t분포](#toc1_2_6_)    \n",
    "    - [F분포](#toc1_2_7_)    \n",
    "\n",
    "<!-- vscode-jupyter-toc-config\n",
    "\tnumbering=false\n",
    "\tanchor=true\n",
    "\tflat=false\n",
    "\tminLevel=1\n",
    "\tmaxLevel=6\n",
    "\t/vscode-jupyter-toc-config -->\n",
    "<!-- THIS CELL WILL BE REPLACED ON TOC UPDATE. DO NOT WRITE YOUR TEXT IN THIS CELL -->"
   ]
  },
  {
   "cell_type": "markdown",
   "metadata": {},
   "source": [
    "# <a id='toc1_'></a>[확률분포](#toc0_)\n",
    "- 이산형 확률분포\n",
    "    - 확률 변수의 값이 셀 수 있는 경우 (주사위 확률변수)\n",
    "    - 확률 변수의 값(확률)은 확률질량함수(probability mass function)로 구한다.\n",
    "    - 확률 변수의 값은 항상 0~1 사이이며, 모든 값의 합은 1이다. (확률이므로 ...)\n",
    "    - 베르누이, 기하분포, 이항분포, 다항분포, 포아송분포, 초기하분포, 음이항분포 등이 있다.\n",
    "- 연속형 확률분포\n",
    "    - 확률 변수의 값이 연속적, 즉 실수. 셀 수 없다.\n",
    "    - 확률 변수의 값은 확률밀도함수(probability density function)을 이용하여 구한다.\n",
    "    - 확률밀도함수의 곡선 아래 면적은 항상 1이다.\n",
    "    - 균일분포, 정규분포, 지수분포, t-분포, 카이제곱분포, F분포 등이 있다.\n",
    "- Scipy의 확률값 계산 메소드\n",
    "    - pmf() : probability mass function\n",
    "    - cdf() : cumulative distribution function\n",
    "    - ppf() : percent point function"
   ]
  },
  {
   "cell_type": "markdown",
   "metadata": {},
   "source": [
    "## <a id='toc1_1_'></a>[이산형 확률분포](#toc0_)"
   ]
  },
  {
   "cell_type": "markdown",
   "metadata": {},
   "source": [
    "### <a id='toc1_1_1_'></a>[베르누이 분포](#toc0_)\n",
    "- 시행의 결과가 단 2가지 뿐. 동전 던지기\n",
    "- 동전 던지기 시행 결과, 앞면 나올 확률을 확률변수 X라고 하면,\n",
    "- X는 성공률이 p(실패율은 1-p=q)인 베르누이 분포를 따른다. \n",
    "    -      X ~ B(1,p)\n",
    "- https://datascienceschool.net/02%20mathematics/08.02%20%EB%B2%A0%EB%A5%B4%EB%88%84%EC%9D%B4%EB%B6%84%ED%8F%AC%EC%99%80%20%EC%9D%B4%ED%95%AD%EB%B6%84%ED%8F%AC.html\n",
    "\n"
   ]
  },
  {
   "cell_type": "code",
   "execution_count": 1,
   "metadata": {},
   "outputs": [
    {
     "name": "stdout",
     "output_type": "stream",
     "text": [
      "[직접계산시] 해당 분포의 기대값은 0.300, 분산은 0.210,\n",
      "[라이브러리] 해당 분포의 기대값은 0.300, 분산은 0.210,\n"
     ]
    }
   ],
   "source": [
    "p = 0.3 #성공확률\n",
    "q = 1-p #실패확률\n",
    "E = p   #기대값\n",
    "V = p*q #분산\n",
    "print('[직접계산시] 해당 분포의 기대값은 {:.3f}, 분산은 {:.3f},'.format(E, V))\n",
    "\n",
    "from scipy.stats import bernoulli\n",
    "\n",
    "E, V = bernoulli.stats(p)\n",
    "print('[라이브러리] 해당 분포의 기대값은 {:.3f}, 분산은 {:.3f},'.format(E, V))"
   ]
  },
  {
   "cell_type": "markdown",
   "metadata": {},
   "source": [
    "### <a id='toc1_1_2_'></a>[이항분포](#toc0_)\n",
    "- 성공률이 p인 베르누이 시행을 독립적으로 n번 시행 시 성공회수를 확률변수 X\n",
    "- 확률변수 X는 시행회수 n과 성공률p(실패율 1-p=q)를 모수로 갖는 이항분포(Binomial dist.)를 따른다.\n",
    "    -      X ~ B(n,p)\n",
    "- 이항분포 B(n, p)는, \n",
    "    - n>20, np>=5, n(1-p)>=5일 때 정규분포 N(np, npq)로 근사한다.\n",
    "    - n>50, p<=0.1, np=0.1~10일 때 포아송분포 P(np)로 근사한다.\n",
    "- https://ko.wikipedia.org/wiki/%EC%9D%B4%ED%95%AD_%EB%B6%84%ED%8F%AC"
   ]
  },
  {
   "cell_type": "code",
   "execution_count": 4,
   "metadata": {},
   "outputs": [],
   "source": [
    "import math\n",
    "fac = math.factorial\n",
    "def combi(a, b):\n",
    "    result = fac(a)/fac(b)/fac(a-b)\n",
    "    return result"
   ]
  },
  {
   "cell_type": "code",
   "execution_count": 8,
   "metadata": {},
   "outputs": [
    {
     "name": "stdout",
     "output_type": "stream",
     "text": [
      "[직접계산시] 해당 분포의 기대값은 0.300, 분산은 0.270,\n",
      "[라이브러리] 해당 분포의 기대값은 0.300, 분산은 0.270,\n",
      "[직접계산시] 확률질량함수 : 0.243\n",
      "[라이브러리] 확률질량함수 :  0.243\n",
      "[직접계산시] 누적 확률질량함수 :  0.972\n",
      "[라이브러리] 누적 확률질량함수 :  0.972\n"
     ]
    }
   ],
   "source": [
    "#근로자를 무작위로 3명 뽑은 상황. 근로자가 연내 이직할 확률을 0.1로 추정.\n",
    "n = 3   #근로자 샘플 수\n",
    "p = 0.1 #이직할 확률\n",
    "\n",
    "# 기대값과 분산 구하기 ======================================================\n",
    "#근로자가 떠날 확률의 기대값과 분산\n",
    "E = n*p\n",
    "V = n*p*(1-p)\n",
    "print('[직접계산시] 해당 분포의 기대값은 {:.3f}, 분산은 {:.3f},'.format(E, V))\n",
    "\n",
    "from scipy.stats import binom\n",
    "E2, V2 = binom.stats(n, p)\n",
    "print('[라이브러리] 해당 분포의 기대값은 {:.3f}, 분산은 {:.3f},'.format(E2, V2))\n",
    "\n",
    "# 확률질량함수 구하기 ========================================================\n",
    "#뽑은 3명 중 1명이 연내 회사를 떠날 확률은?\n",
    "x = 1   #이직할 샘플 수 (확률변수 X)\n",
    "pmf = combi(n, x) * p**x * (1-p)**(n-x)\n",
    "print('[직접계산시] 확률질량함수 : %.3f' %(pmf))\n",
    "print('[라이브러리] 확률질량함수 : ', binom.pmf(x, n, p))\n",
    "\n",
    "# 누적 확률질량함수 구하기 ====================================================\n",
    "#뽑은 3명 중 1명 이하로 떠날 확률은? (0명인 경우 + 1명인 경우)\n",
    "cdf = 0\n",
    "for i in range(0, x+1):\n",
    "    cdf += binom.pmf(i, n, p)\n",
    "print('[직접계산시] 누적 확률질량함수 : ', cdf)\n",
    "print('[라이브러리] 누적 확률질량함수 : ', binom.cdf(x, n, p))\n"
   ]
  },
  {
   "cell_type": "markdown",
   "metadata": {},
   "source": [
    "### <a id='toc1_1_3_'></a>[음이항 분포](#toc0_)\n",
    "- 성공률이 p인 베르누이 시행을 독립적으로 반복 시행 시, \n",
    "    - k번 성공할 때 까지의 시행회수를 확률변수 X1\n",
    "    - k번 성공할 때 까지의 실패회수를 확률변수 X2\n",
    "- X1, X2는 모두 k, p를 모수로 갖는 음이항 분포(Negative binomial distribution)를 따른다.\n",
    "    -     X ~ NB(k, p)\n",
    "- X1, X2는 셀 수는 있지만 값이 무한한 무한확률변수\n",
    "- 음이항 분포에서 k=1이면 기하분포가 된다.\n",
    "- 음이항 분포는 확률변수 X는 X1으로 할 수도 있고, X2로 할 수도 있다. 일반적으로는 X1을 주로 사용"
   ]
  },
  {
   "cell_type": "code",
   "execution_count": 9,
   "metadata": {},
   "outputs": [
    {
     "name": "stdout",
     "output_type": "stream",
     "text": [
      "[직접계산함] 해당 분포의 기대값은 4.667, 분산은 15.556,\n",
      "[라이브러리] 해당 분포의 기대값은 4.667, 분산은 15.556,\n",
      "[직접계산시] 확률질량함수 : 0.123\n",
      "[라이브러리] 확률질량함수 :  0.12347999999999998 \n",
      "\n",
      "[직접계산시] 누적 확률질량함수 :  0.47177999999999987\n",
      "[라이브러리] 누적 확률질량함수 :  0.47178\n"
     ]
    }
   ],
   "source": [
    "# A의 승률이 0.3이라면, 5번째 경기에서 2번째로 이길 확률은?\n",
    "from scipy.stats import nbinom\n",
    "import math\n",
    "\n",
    "def combi(a, b):\n",
    "    fac = math.factorial\n",
    "    result = fac(a)/fac(b)/fac(a-b)\n",
    "    return result\n",
    "\n",
    "n = 5   #총 시행회수\n",
    "k = 2   #총 성공회수\n",
    "p = 0.3 #성공 확률\n",
    "q = 1-p #실패 확률\n",
    "\n",
    "case = 2\n",
    "\n",
    "if case == 1:   # 확률변수 X가, k번 성공할 때 까지의 시행회수를 나타낼 경우\n",
    "    # 라이브러리 지원 안함\n",
    "    x = n\n",
    "    E = k / p\n",
    "    V = k*p / p**2\n",
    "    pmf = combi(x-1, k-1) * p**k * q**(x-k)\n",
    "    cdf = 0\n",
    "    for i in range(k, x+1):\n",
    "        cdf += combi(i-1, k-1) * p**k * q**(i-k)\n",
    "elif case == 2: # 확률변수 X가, k번 성공할 때 까지의 실패회수를 나타낼 경우\n",
    "    x = n - k\n",
    "    E = k*q / p\n",
    "    V = k*q / p**2\n",
    "    pmf = combi(x+k-1, k-1) * p**k * q**(x)\n",
    "    E2, V2 = nbinom.stats(k, p)\n",
    "    pkg_pmf, pkg_cdf = nbinom.pmf(x, k, p), nbinom.cdf(x, k, p)\n",
    "    cdf = 0\n",
    "    for i in range(0, x+1):\n",
    "        cdf += nbinom.pmf(i, k, p)\n",
    "\n",
    "# 기대값과 분산 구하기 ======================================================\n",
    "print('[직접계산함] 해당 분포의 기대값은 {:.3f}, 분산은 {:.3f},'.format(E, V))\n",
    "print('[라이브러리] 해당 분포의 기대값은 {:.3f}, 분산은 {:.3f},'.format(E2, V2))\n",
    "\n",
    "# 확률질량함수 구하기 ========================================================\n",
    "print('[직접계산시] 확률질량함수 : %.3f' %(pmf))\n",
    "print('[라이브러리] 확률질량함수 : ', pkg_pmf, '\\n')\n",
    "\n",
    "# 누적 확률질량함수 구하기 : 2번째 이하로 이길 확률은? =========================\n",
    "print('[직접계산시] 누적 확률질량함수 : ', cdf)\n",
    "print('[라이브러리] 누적 확률질량함수 : ', pkg_cdf)"
   ]
  },
  {
   "cell_type": "markdown",
   "metadata": {},
   "source": [
    "### <a id='toc1_1_4_'></a>[기하 분포](#toc0_)\n",
    "- 성공률이 p인 베르누이 시행을,\n",
    "    - 처음으로 성공할 때 까지의 시행회수를 확률변수 X1 \n",
    "    - 처음으로 성공할 때 까지의 실패회수를 확률변수 X2\n",
    "- X1, X2는 모두 p를 모수로 갖는 기하 분포(Geometric distribution)를 따른다.\n",
    "- X1, X2는 셀 수는 있지만 값이 무한한 무한확률변수\n",
    "- 기하분포는 이산확률분포 중 유일한 무기억성 성질. 실패를 많이 했다고 해서 앞으로 성공할 확률 높아지는 것 아니다.\n",
    "- 기하분포는 확률변수 X는 X1으로 할 수도 있고, X2로 할 수도 있다. 일반적으로는 X1을 주로 사용"
   ]
  },
  {
   "cell_type": "code",
   "execution_count": 10,
   "metadata": {},
   "outputs": [
    {
     "name": "stdout",
     "output_type": "stream",
     "text": [
      "[직접계산함] 해당 분포의 기대값은 6.000, 분산은 30.000,\n",
      "[라이브러리] 해당 분포의 기대값은 6.000, 분산은 30.000,\n",
      "[직접계산시] 확률질량함수 : 0.116\n",
      "[라이브러리] 확률질량함수 :  0.11574074074074076 \n",
      "\n",
      "[직접계산시] 누적 확률질량함수 :  0.42129629629629634\n",
      "[라이브러리] 누적 확률질량함수 :  0.4212962962962962\n"
     ]
    }
   ],
   "source": [
    "# 하나의 주사위를 3번 던질 때, 세번째 시행에서 앞면 숫자가 6이 나올 확률은?\n",
    "from scipy.stats import geom\n",
    "import numpy as np\n",
    "import math\n",
    "\n",
    "n = 3   #총 시행회수\n",
    "p = 1/6 #성공 확률\n",
    "q = 1-p #실패 확률\n",
    "\n",
    "case = 1\n",
    "\n",
    "if case == 1:   # 확률변수 X가, 처음으로 성공할 때 까지의 시행회수를 나타낼 경우\n",
    "    x = n\n",
    "    E = 1 / p\n",
    "    V = q / p**2\n",
    "    pmf = q**(x-1) * p\n",
    "    E2, V2 = geom.stats(p, moments='mv')    # mv : mean, variance\n",
    "    pkg_pmf, pkg_cdf = geom.pmf(x, p), geom.cdf(x, p)\n",
    "    cdf = 0\n",
    "    for i in range(1, x+1):\n",
    "        cdf += q**(i-1) * p\n",
    "elif case == 2: # 확률변수 X가, 처음으로 성공할 때 까지의 실패회수를 나타낼 경우\n",
    "    x = n - 1\n",
    "    E = q / p\n",
    "    V = q / p**2\n",
    "    pmf = q**x * p\n",
    "    E2, V2 = np.nan, np.nan # 라이브러리 지원안함.\n",
    "    pkg_pmf, pkg_cdf = np.nan, np.nan # 라이브러리 지원안함.\n",
    "    cdf = 0\n",
    "    for i in range(0, x+1):\n",
    "        cdf += q**i * p\n",
    "\n",
    "# 기대값과 분산 구하기 ======================================================\n",
    "print('[직접계산함] 해당 분포의 기대값은 {:.3f}, 분산은 {:.3f},'.format(E, V))\n",
    "print('[라이브러리] 해당 분포의 기대값은 {:.3f}, 분산은 {:.3f},'.format(E2, V2))\n",
    "\n",
    "# 확률질량함수 구하기 ========================================================\n",
    "print('[직접계산시] 확률질량함수 : %.3f' %(pmf))\n",
    "print('[라이브러리] 확률질량함수 : ', pkg_pmf, '\\n')\n",
    "\n",
    "# 누적 확률질량함수 구하기 : 2번째 이하로 이길 확률은? =========================\n",
    "print('[직접계산시] 누적 확률질량함수 : ', cdf)\n",
    "print('[라이브러리] 누적 확률질량함수 : ', pkg_cdf)"
   ]
  },
  {
   "cell_type": "markdown",
   "metadata": {},
   "source": [
    "### <a id='toc1_1_5_'></a>[초기하 분포](#toc0_)\n",
    "- 크기 N의 모집단에서 크기 n의 표본을 취할 때, N개 중 k개는 성공으로, 나머지 N-k개는 실패로 분류하여 비복원 추출한다.\n",
    "    - 성공회수를 확률변수 X라 하면,\n",
    "    - 확률변수 X는 N, k, n을 모수로 갖는 초기하분포(Hypergeometric dist.)를 따른다.\n",
    "- 초기하분포는 모집단 N이 충분히 큰 경우, n개의 시행 중 성공확률이 k/N인 이항분포 B(n, k/N)으로 근사한다."
   ]
  },
  {
   "cell_type": "code",
   "execution_count": 11,
   "metadata": {},
   "outputs": [
    {
     "name": "stdout",
     "output_type": "stream",
     "text": [
      "[직접계산함] 해당 분포의 기대값은 0.200, 분산은 0.178,\n",
      "[라이브러리] 해당 분포의 기대값은 0.200, 분산은 0.178,\n",
      "[직접계산시] 확률질량함수 : 0.182\n",
      "[라이브러리] 확률질량함수 : 0.182 \n",
      "\n",
      "[직접계산시] 누적 확률질량함수(cdf) : 0.991\n",
      "[라이브러리] 누적 확률질량함수(cdf) : 0.991\n"
     ]
    }
   ],
   "source": [
    "# 상자 속에 빨간 공 90개, 파란 공이 10개 있다. 임의로 2개 비복원 추출 시, 그 중 하나가 파란 공이 될 확률은?\n",
    "from scipy.stats import hypergeom\n",
    "import math\n",
    "\n",
    "def combi(a, b):\n",
    "    fac = math.factorial\n",
    "    result = fac(a)/fac(b)/fac(a-b)\n",
    "    return result\n",
    "\n",
    "N = 100 #모집단 크기 (전체 공 개수)\n",
    "k = 10  #성공요소 수 (전체 파란공 개수)\n",
    "n = 2   #표본 크기\n",
    "x = 1   #확인하고자 하는 사건(파란공 1개) --> 확률 변수\n",
    "P = k/N #모비율\n",
    "\n",
    "E = n*P\n",
    "V = n*P*(1-P)*((N-n)/(N-1))\n",
    "E2, V2 = hypergeom.stats(N, k, n)\n",
    "\n",
    "# 기대값과 분산 구하기 ======================================================\n",
    "print('[직접계산함] 해당 분포의 기대값은 {:.3f}, 분산은 {:.3f},'.format(E, V))\n",
    "print('[라이브러리] 해당 분포의 기대값은 {:.3f}, 분산은 {:.3f},'.format(E2, V2))\n",
    "\n",
    "# 확률질량함수 구하기 ========================================================\n",
    "pmf = combi(k, x)*combi(N-k, n-x)/combi(N, n)\n",
    "print('[직접계산시] 확률질량함수 : %.3f' %(pmf))\n",
    "print('[라이브러리] 확률질량함수 : %.3f' %(hypergeom.pmf(x, N, k, n)), '\\n')\n",
    "\n",
    "cdf = 0\n",
    "for i in range(0, x+1):\n",
    "    cdf += hypergeom.pmf(i, N, k, n)\n",
    "# 누적 확률질량함수 구하기 : 2번째 이하로 이길 확률은? =========================\n",
    "print('[직접계산시] 누적 확률질량함수(cdf) : %.3f' %(cdf))\n",
    "print('[라이브러리] 누적 확률질량함수(cdf) : %.3f' %(hypergeom.cdf(x, N, k, n)))"
   ]
  },
  {
   "cell_type": "markdown",
   "metadata": {},
   "source": [
    "### <a id='toc1_1_6_'></a>[포아송 분포](#toc0_)\n",
    "- 단위 시간/면적/공간 내에서 발생하는 어떤 사건의 회수를 확률변수 X라고 한다.\n",
    "- 확률변수 X는 lambda(단위 시간/면적/공간 내에서 발생하는 사건의 평균값)를 모수로 갖는 포아송 분포를 따른다.\n",
    "- X는 셀 수는 있지만 값이 무한한 무한확률변수\n",
    "- 단위 시간/공간에서 발생하는 사건의 회수를 다른 시간/공간에 대해 독립적. 평균 출현회수는 일정하다는 전제.\n",
    "- 포아송 분포는 lambda >=5 일 떄 정규분포에 근사, lambda <5 일 때 왼쪽으로 치우치면서 오른쪽 긴 꼬리 (비대칭)"
   ]
  },
  {
   "cell_type": "code",
   "execution_count": 23,
   "metadata": {},
   "outputs": [
    {
     "name": "stdout",
     "output_type": "stream",
     "text": [
      "[직접계산함] 해당 분포의 기대값은 3.000, 분산은 3.000,\n",
      "[라이브러리] 해당 분포의 기대값은 3.000, 분산은 3.000,\n",
      "[직접계산시] 확률질량함수 : 0.168\n",
      "[라이브러리] 확률질량함수 : 0.168 \n",
      "\n",
      "[직접계산시] 누적 확률질량함수(cdf) : 0.815\n",
      "[라이브러리] 누적 확률질량함수(cdf) : 0.815\n"
     ]
    }
   ],
   "source": [
    "# 주말 저녁 시간 당 평균 6명이 응급실. 어떤 주말 저녁 30분 내 4명이 응급실 들어올 확률\n",
    "from scipy.stats import poisson\n",
    "import math\n",
    "\n",
    "x = 4   #구간 내 사건회수  --> 확률변수\n",
    "lam = 3 #구간 내 평균 (lambda)\n",
    "\n",
    "E = lam\n",
    "V = lam\n",
    "E2, V2 = poisson.stats(lam, moments='mv')\n",
    "# 기대값과 분산 구하기 ======================================================\n",
    "print('[직접계산함] 해당 분포의 기대값은 {:.3f}, 분산은 {:.3f},'.format(E, V))\n",
    "print('[라이브러리] 해당 분포의 기대값은 {:.3f}, 분산은 {:.3f},'.format(E2, V2))\n",
    "\n",
    "# 확률질량함수 구하기 ========================================================\n",
    "pmf = lam**x * np.exp(-lam)/math.factorial(x)\n",
    "print('[직접계산시] 확률질량함수 : %.3f' %(pmf))\n",
    "print('[라이브러리] 확률질량함수 : %.3f' %(poisson.pmf(x, lam)), '\\n')\n",
    "\n",
    "cdf = 0\n",
    "for i in range(0, x+1):\n",
    "    cdf += poisson.pmf(i,lam)\n",
    "# 누적 확률질량함수 구하기 : 2번째 이하로 이길 확률은? =========================\n",
    "print('[직접계산시] 누적 확률질량함수(cdf) : %.3f' %(cdf))\n",
    "print('[라이브러리] 누적 확률질량함수(cdf) : %.3f' %(poisson.cdf(x, lam)))"
   ]
  },
  {
   "cell_type": "markdown",
   "metadata": {},
   "source": [
    "## <a id='toc1_2_'></a>[연속형 확률분포](#toc0_)"
   ]
  },
  {
   "cell_type": "markdown",
   "metadata": {},
   "source": [
    "### <a id='toc1_2_1_'></a>[균일분포](#toc0_)\n",
    "- 구간 (a, b)에서 확률변수 X가 균일하게 분포되어 있다면,\n",
    "- 확률변수 X는 구간 (a, b)에서 균일분포(Uniform distribution)를 따른다."
   ]
  },
  {
   "cell_type": "code",
   "execution_count": 24,
   "metadata": {},
   "outputs": [
    {
     "name": "stdout",
     "output_type": "stream",
     "text": [
      "[직접계산함] 범위 내 누적 확률은 0.300\n",
      "[라이브러리] 해당 분포의 기대값은 10.000, 분산은 8.333,\n"
     ]
    }
   ],
   "source": [
    "# 확률변수 X가 (5, 15)에서 균일분포를 따를 때 12와 15 사이의 확률은?\n",
    "\n",
    "a = 5\n",
    "b = 15\n",
    "range_ = [(12, 15)] \n",
    "p = 1/(b-a)         # 확률밀도 함수\n",
    "cdf = 0\n",
    "for(x1, x2) in range_:\n",
    "    cdf += (x2-x1) * p\n",
    "\n",
    "E = (b+a)/2\n",
    "V = (b-a)**2 / 12\n",
    "\n",
    "# 기대값과 분산 구하기 ======================================================\n",
    "print('[직접계산함] 범위 내 누적 확률은 {:.3f}'.format(cdf))\n",
    "print('[라이브러리] 해당 분포의 기대값은 {:.3f}, 분산은 {:.3f},'.format(E, V))"
   ]
  },
  {
   "cell_type": "code",
   "execution_count": 27,
   "metadata": {},
   "outputs": [
    {
     "name": "stdout",
     "output_type": "stream",
     "text": [
      "[직접계산함] 범위 내 누적 확률은 0.333\n",
      "[직접계산함] 해당 분포의 기대값은 15.000, 분산은 75.000,\n"
     ]
    }
   ],
   "source": [
    "# 버스가 오전 7시부터 15분 간격으로 정류장을 출발한다. 한 승객이 이 정류장에 도착하는 시간은 7시~7시30분 균등분포를 따른다.\n",
    "# 이 승객이 버스를 5분 미만 기다릴 확률은?\n",
    "\n",
    "a=0     #확률밀도함수의 범위\n",
    "b=30    #확률밀도함수의 범위\n",
    "\n",
    "# 승객이 버스를 5분 미만으로 기다릴 구간: 7시 10분~15분, 25분~30분\n",
    "range_ = [(10, 15), (25, 30)]\n",
    "p = 1/(b-a)\n",
    "cdf = 0\n",
    "for (x1, x2) in range_:\n",
    "    cdf += (x2-x1) * p\n",
    "\n",
    "E = (b+a)/2\n",
    "V = (b-a)**2 / 12\n",
    "\n",
    "# 기대값과 분산 구하기 ======================================================\n",
    "print('[직접계산함] 범위 내 누적 확률은 {:.3f}'.format(cdf))\n",
    "print('[직접계산함] 해당 분포의 기대값은 {:.3f}, 분산은 {:.3f},'.format(E, V))"
   ]
  },
  {
   "cell_type": "markdown",
   "metadata": {},
   "source": [
    "### <a id='toc1_2_2_'></a>[정규분포](#toc0_)\n",
    "- 정규분포의 왜도는 0, 첨도는 3이다.\n",
    "- 정규분포는 연속확률분포이므로 확률은 정규곡선 밑의 면적으로 주어진다.\n",
    "- 정규 확률밀도함수의 면적 구하기는 복잡하므로 평균과 표준편차를 이용하여 X를 표준화한 후 구한다."
   ]
  },
  {
   "cell_type": "code",
   "execution_count": 28,
   "metadata": {},
   "outputs": [
    {
     "name": "stdout",
     "output_type": "stream",
     "text": [
      "[라이브러리] 범위 내 누적 확률은 0.669\n",
      "[라이브러리] 해당 분포의 기대값은 30.000, 분산은 64.000,\n"
     ]
    }
   ],
   "source": [
    "from scipy.stats import norm\n",
    "import numpy as np\n",
    "\n",
    "# 확률변수 X가 정규분포 N(30, 64)를 따를 때 26~46 구간의 확률은?\n",
    "\n",
    "E = 30\n",
    "V = 64\n",
    "S = np.sqrt(V)  # 표준편차\n",
    "x1 = 26\n",
    "x2 = 46\n",
    "zstat1 = (x1-E)/S  #표준화\n",
    "zstat2 = (x2-E)/S  #표준화\n",
    "cdf = norm.cdf(zstat2) - norm.cdf(zstat1)\n",
    "\n",
    "# 기대값과 분산 구하기 ======================================================\n",
    "print('[라이브러리] 범위 내 누적 확률은 {:.3f}'.format(cdf))\n",
    "print('[라이브러리] 해당 분포의 기대값은 {:.3f}, 분산은 {:.3f},'.format(E, V))"
   ]
  },
  {
   "cell_type": "markdown",
   "metadata": {},
   "source": [
    "### <a id='toc1_2_3_'></a>[지수분포](#toc0_)\n",
    "- 포아송 분포 : 단위시간 내 발생하는 어떤 사건의 회수의 분포\n",
    "- 지수(Exponential) 분포   : 어떤 사건이 발생할 때 까지 소요된 시간의 분포\n",
    "- 어떤 사건이 포아송 분포로 발생할 때, 지정된 시점으로부터 이 사건이 발생할 때 까지 소요된 시간을 구하는 확률 분포\n",
    "- 확률변수 X는 한 번의 사건 발생 시점 까지 소요된 시간\n",
    "- lambda : 단위시간 당 평균 발생 회수\n",
    "- 연속확률분포 중 유일하게 무기억성 성질 - 어떤 전구 제품 수명이 지수분포를 따를 때, 남은 수명은 현재까지 사용시간과 무관하다.\n",
    "- 오른쪽 꼬리 모양, 왜도는 2"
   ]
  },
  {
   "cell_type": "code",
   "execution_count": 29,
   "metadata": {},
   "outputs": [
    {
     "name": "stdout",
     "output_type": "stream",
     "text": [
      "[라이브러리] 범위 내 누적 확률은 0.487\n",
      "[라이브러리] 해당 분포의 기대값은 3.000, 분산은 9.000,\n"
     ]
    }
   ],
   "source": [
    "from scipy.stats import expon\n",
    "\n",
    "# 자동차들 사이 시간 간격이 평균 3분인 지수확률분포를 따르는 경우, 연속한 두 대의 차량이 도착하는 시간이 2분 이내일 확률은?\n",
    "lam = 1/3   #lambda : 단위시간 당 평균 발생 회수. 여기선 3분당 1회\n",
    "x = 2       #사건 발생 시점 까지 소요된 시간\n",
    "\n",
    "E = 1/lam\n",
    "V = 1/(lam**2)\n",
    "\n",
    "cdf = expon.cdf(x, scale=1/lam)\n",
    "\n",
    "# 기대값과 분산 구하기 ======================================================\n",
    "print('[라이브러리] 범위 내 누적 확률은 {:.3f}'.format(cdf))\n",
    "print('[라이브러리] 해당 분포의 기대값은 {:.3f}, 분산은 {:.3f},'.format(E, V))"
   ]
  },
  {
   "cell_type": "markdown",
   "metadata": {},
   "source": [
    "### <a id='toc1_2_4_'></a>[감마분포](#toc0_)\n",
    "- 포아송 분포 : 어떤 사건의 단위시간 당 발생회수의 분포\n",
    "- 지수 분포 : 어떤 사건의 첫 발생 까지 소요된 시간의 분포\n",
    "- 감마 분포 : 어떤 사건의 alpha번 발생 까지 소요된 시간의 분포. 즉 지수분포의 일반화된 형태\n",
    "- alpha = 1일 때 beta = 1/lambda인 지수분포"
   ]
  },
  {
   "cell_type": "code",
   "execution_count": 30,
   "metadata": {},
   "outputs": [
    {
     "name": "stdout",
     "output_type": "stream",
     "text": [
      "[라이브러리] 범위 내 누적 확률은 0.391\n",
      "[라이브러리] 해당 분포의 기대값은 2.000, 분산은 1.000,\n"
     ]
    }
   ],
   "source": [
    "from scipy.stats import gamma\n",
    "\n",
    "# 낚시를 하는데 30분에 한마리 잡는다. 4마리의 물고기를 잡는데 걸리는 시간이 2시간에서 4시간 사이로 소요될 확률은?\n",
    "lam = 2         #lambda : 30분에 1마리. '시간' 당 2마리\n",
    "beta = 1/lam \n",
    "alpha = 4       #4마리 잡는데 걸리는 '시간'\n",
    "\n",
    "E = alpha * beta\n",
    "V = alpha * beta**2\n",
    "range_ = (2,4)\n",
    "\n",
    "#scale에 beta를 입력해주어야 함.\n",
    "cdf = gamma.cdf(range_[1], alpha, scale=beta) - gamma.cdf(range_[0], alpha, scale=beta)\n",
    "\n",
    "# 기대값과 분산 구하기 ======================================================\n",
    "print('[라이브러리] 범위 내 누적 확률은 {:.3f}'.format(cdf))\n",
    "print('[라이브러리] 해당 분포의 기대값은 {:.3f}, 분산은 {:.3f},'.format(E, V))"
   ]
  },
  {
   "cell_type": "markdown",
   "metadata": {},
   "source": [
    "### <a id='toc1_2_5_'></a>[카이제곱 분포](#toc0_)\n",
    "- 감마분포의 특수한 경우\n",
    "- alpha = n/2, beta=2인 경우 자유도 n인 카이제곱분포\n",
    "- 카이제곱분포는, \n",
    "    - 모집단이 정규분포인 대표본에서 모분산을 추정/검정\n",
    "    - 비모수검정 중 범주형 변수에 대한 적합도 검정 / 독립성 검정 / 동질성 검정 시 사용"
   ]
  },
  {
   "cell_type": "markdown",
   "metadata": {},
   "source": [
    "### <a id='toc1_2_6_'></a>[t분포](#toc0_)\n",
    "- 표본 평균을 표본 분산으로 표준화한 값이 따르는 확률분포를 t분포라고 한다.\n",
    "- 주로 모분산을 모르는 상황에서 표본 평균을 추정/검정 시 사용\n",
    "- t분포는 자유도(표본개수)가 증가할 수록 정규분포에 수렴. 따라서 주로 30개 이하의 소표본에 사용된다."
   ]
  },
  {
   "cell_type": "markdown",
   "metadata": {},
   "source": [
    "### <a id='toc1_2_7_'></a>[F분포](#toc0_)\n",
    "- 두 모집단의 모분산 비의 추정/검정과 세 집단 이상의 모평균 비교에 주로 사용 "
   ]
  },
  {
   "cell_type": "markdown",
   "metadata": {},
   "source": []
  }
 ],
 "metadata": {
  "kernelspec": {
   "display_name": "Python 3",
   "language": "python",
   "name": "python3"
  },
  "language_info": {
   "codemirror_mode": {
    "name": "ipython",
    "version": 3
   },
   "file_extension": ".py",
   "mimetype": "text/x-python",
   "name": "python",
   "nbconvert_exporter": "python",
   "pygments_lexer": "ipython3",
   "version": "3.11.5"
  },
  "orig_nbformat": 4
 },
 "nbformat": 4,
 "nbformat_minor": 2
}
