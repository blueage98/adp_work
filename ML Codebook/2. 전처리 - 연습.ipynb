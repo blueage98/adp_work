{
 "cells": [
  {
   "cell_type": "code",
   "execution_count": 1,
   "metadata": {},
   "outputs": [],
   "source": [
    "import pandas as pd\n",
    "import numpy as np\n",
    "import seaborn as sns\n",
    "import matplotlib.pyplot as plt\n",
    "\n",
    "plt.rcParams['font.family'] = 'Malgun Gothic'\n",
    "plt.rcParams['font.size'] = 12\n",
    "plt.rcParams['figure.figsize'] = [5,5]\n",
    "plt.rcParams['axes.unicode_minus'] = False\n",
    "\n",
    "\n",
    "df = pd.read_csv('https://raw.githubusercontent.com/algoboni/pythoncodebook1-1/main/2-1_wine.csv', index_col=0)\n",
    "df.head()\n",
    "\n",
    "#실습에 사용할 열만 추출\n",
    "df = df.filter(['Alcohol', 'Malicacid', 'Ash', 'Magnesium', 'Hue'])\n",
    "\n",
    "#결측치 삽입\n",
    "from numpy.random import randint\n",
    "dfm = df.copy()\n",
    "\n",
    "for col in ['Alcohol', 'Ash']:\n",
    "    rand_idx = randint(0, len(dfm), 25)\n",
    "    dfm.loc[rand_idx, col] = np.nan"
   ]
  },
  {
   "cell_type": "code",
   "execution_count": 2,
   "metadata": {},
   "outputs": [
    {
     "name": "stdout",
     "output_type": "stream",
     "text": [
      "[12.99503226  2.33634831  2.36636364 99.74157303  0.95744944]\n"
     ]
    },
    {
     "data": {
      "text/html": [
       "<div>\n",
       "<style scoped>\n",
       "    .dataframe tbody tr th:only-of-type {\n",
       "        vertical-align: middle;\n",
       "    }\n",
       "\n",
       "    .dataframe tbody tr th {\n",
       "        vertical-align: top;\n",
       "    }\n",
       "\n",
       "    .dataframe thead th {\n",
       "        text-align: right;\n",
       "    }\n",
       "</style>\n",
       "<table border=\"1\" class=\"dataframe\">\n",
       "  <thead>\n",
       "    <tr style=\"text-align: right;\">\n",
       "      <th></th>\n",
       "      <th>Alcohol</th>\n",
       "      <th>Malicacid</th>\n",
       "      <th>Ash</th>\n",
       "      <th>Magnesium</th>\n",
       "      <th>Hue</th>\n",
       "    </tr>\n",
       "  </thead>\n",
       "  <tbody>\n",
       "    <tr>\n",
       "      <th>0</th>\n",
       "      <td>14.230000</td>\n",
       "      <td>1.71</td>\n",
       "      <td>2.43</td>\n",
       "      <td>127.0</td>\n",
       "      <td>1.04</td>\n",
       "    </tr>\n",
       "    <tr>\n",
       "      <th>1</th>\n",
       "      <td>13.200000</td>\n",
       "      <td>1.78</td>\n",
       "      <td>2.14</td>\n",
       "      <td>100.0</td>\n",
       "      <td>1.05</td>\n",
       "    </tr>\n",
       "    <tr>\n",
       "      <th>2</th>\n",
       "      <td>13.160000</td>\n",
       "      <td>2.36</td>\n",
       "      <td>2.67</td>\n",
       "      <td>101.0</td>\n",
       "      <td>1.03</td>\n",
       "    </tr>\n",
       "    <tr>\n",
       "      <th>3</th>\n",
       "      <td>14.370000</td>\n",
       "      <td>1.95</td>\n",
       "      <td>2.50</td>\n",
       "      <td>113.0</td>\n",
       "      <td>0.86</td>\n",
       "    </tr>\n",
       "    <tr>\n",
       "      <th>4</th>\n",
       "      <td>13.240000</td>\n",
       "      <td>2.59</td>\n",
       "      <td>2.87</td>\n",
       "      <td>118.0</td>\n",
       "      <td>1.04</td>\n",
       "    </tr>\n",
       "    <tr>\n",
       "      <th>...</th>\n",
       "      <td>...</td>\n",
       "      <td>...</td>\n",
       "      <td>...</td>\n",
       "      <td>...</td>\n",
       "      <td>...</td>\n",
       "    </tr>\n",
       "    <tr>\n",
       "      <th>173</th>\n",
       "      <td>12.995032</td>\n",
       "      <td>5.65</td>\n",
       "      <td>2.45</td>\n",
       "      <td>95.0</td>\n",
       "      <td>0.64</td>\n",
       "    </tr>\n",
       "    <tr>\n",
       "      <th>174</th>\n",
       "      <td>13.400000</td>\n",
       "      <td>3.91</td>\n",
       "      <td>2.48</td>\n",
       "      <td>102.0</td>\n",
       "      <td>0.70</td>\n",
       "    </tr>\n",
       "    <tr>\n",
       "      <th>175</th>\n",
       "      <td>13.270000</td>\n",
       "      <td>4.28</td>\n",
       "      <td>2.26</td>\n",
       "      <td>120.0</td>\n",
       "      <td>0.59</td>\n",
       "    </tr>\n",
       "    <tr>\n",
       "      <th>176</th>\n",
       "      <td>13.170000</td>\n",
       "      <td>2.59</td>\n",
       "      <td>2.37</td>\n",
       "      <td>120.0</td>\n",
       "      <td>0.60</td>\n",
       "    </tr>\n",
       "    <tr>\n",
       "      <th>177</th>\n",
       "      <td>14.130000</td>\n",
       "      <td>4.10</td>\n",
       "      <td>2.74</td>\n",
       "      <td>96.0</td>\n",
       "      <td>0.61</td>\n",
       "    </tr>\n",
       "  </tbody>\n",
       "</table>\n",
       "<p>178 rows × 5 columns</p>\n",
       "</div>"
      ],
      "text/plain": [
       "       Alcohol  Malicacid   Ash  Magnesium   Hue\n",
       "0    14.230000       1.71  2.43      127.0  1.04\n",
       "1    13.200000       1.78  2.14      100.0  1.05\n",
       "2    13.160000       2.36  2.67      101.0  1.03\n",
       "3    14.370000       1.95  2.50      113.0  0.86\n",
       "4    13.240000       2.59  2.87      118.0  1.04\n",
       "..         ...        ...   ...        ...   ...\n",
       "173  12.995032       5.65  2.45       95.0  0.64\n",
       "174  13.400000       3.91  2.48      102.0  0.70\n",
       "175  13.270000       4.28  2.26      120.0  0.59\n",
       "176  13.170000       2.59  2.37      120.0  0.60\n",
       "177  14.130000       4.10  2.74       96.0  0.61\n",
       "\n",
       "[178 rows x 5 columns]"
      ]
     },
     "execution_count": 2,
     "metadata": {},
     "output_type": "execute_result"
    }
   ],
   "source": [
    "# -------------------------\n",
    "# Constant Imputation\n",
    "# -------------------------\n",
    "dfm_imp = dfm.fillna(1000)\n",
    "\n",
    "# -------------------------\n",
    "# 대표값 Imputation\n",
    "# -------------------------\n",
    "from sklearn.impute import SimpleImputer\n",
    "\n",
    "sImp = SimpleImputer(missing_values=np.nan, strategy='mean')\n",
    "dfm_imp1 = sImp.fit_transform(dfm)\n",
    "dfm_imp1 = pd.DataFrame(dfm_imp1, columns=dfm.columns)\n",
    "\n",
    "print(sImp.statistics_)\n",
    "dfm_imp1"
   ]
  },
  {
   "cell_type": "code",
   "execution_count": 3,
   "metadata": {},
   "outputs": [
    {
     "name": "stdout",
     "output_type": "stream",
     "text": [
      "<class 'pandas.core.frame.DataFrame'>\n",
      "Index: 178 entries, 0 to 177\n",
      "Data columns (total 5 columns):\n",
      " #   Column     Non-Null Count  Dtype  \n",
      "---  ------     --------------  -----  \n",
      " 0   Alcohol    178 non-null    float64\n",
      " 1   Malicacid  178 non-null    float64\n",
      " 2   Ash        178 non-null    float64\n",
      " 3   Magnesium  178 non-null    int64  \n",
      " 4   Hue        178 non-null    float64\n",
      "dtypes: float64(4), int64(1)\n",
      "memory usage: 12.4 KB\n"
     ]
    }
   ],
   "source": [
    "# -------------------------\n",
    "# 단순확률 대치법\n",
    "# -------------------------\n",
    "dfm_imp2 = dfm.copy()\n",
    "\n",
    "for col in ['Alcohol', 'Ash']:\n",
    "    miss_idx = dfm[dfm[col].isna()==True].index\n",
    "    dfm_imp2.loc[miss_idx, col] = df[col].sample(len(miss_idx)).values\n",
    "\n",
    "dfm_imp2.info()"
   ]
  },
  {
   "cell_type": "code",
   "execution_count": 6,
   "metadata": {},
   "outputs": [
    {
     "data": {
      "text/plain": [
       "Alcohol      0\n",
       "Malicacid    0\n",
       "Ash          0\n",
       "Magnesium    0\n",
       "Hue          0\n",
       "dtype: int64"
      ]
     },
     "execution_count": 6,
     "metadata": {},
     "output_type": "execute_result"
    }
   ],
   "source": [
    "# -------------------------\n",
    "# 다른 변수들로 모델링하여 결측값을 예측\n",
    "# -------------------------\n",
    "from sklearn.impute import KNNImputer\n",
    "\n",
    "imputer = KNNImputer(n_neighbors=3)\n",
    "dfm_imp3 = imputer.fit_transform(dfm)\n",
    "dfm_imp3 = pd.DataFrame(dfm_imp3, columns=dfm.columns)\n",
    "dfm_imp3.isna().sum()"
   ]
  },
  {
   "cell_type": "code",
   "execution_count": 7,
   "metadata": {},
   "outputs": [
    {
     "data": {
      "text/plain": [
       "Alcohol      0\n",
       "Malicacid    0\n",
       "Ash          0\n",
       "Magnesium    0\n",
       "Hue          0\n",
       "dtype: int64"
      ]
     },
     "execution_count": 7,
     "metadata": {},
     "output_type": "execute_result"
    }
   ],
   "source": [
    "# -------------------------\n",
    "# 보간법(Interpolation)\n",
    "#   Linear\n",
    "#       series의 데이터를 하나의 직선 상에 있다고 가정한다.\n",
    "#   Polynomial\n",
    "#       series의 데이터를 하나의 다항식 상에 있다고 가정하고, 가장 적합한 다항식을 찾아낸다.\n",
    "#   Spline (zero:0차, slinear:1차, quadratic:2차, cubic:3차)\n",
    "#       series의 데이터를 여러 개의 구간의 분할하고 각 구간에 대해, \n",
    "#       구간 내 series에 적합하면서 연결점에서 앞뒤 구간에 일치하는 다항식을 찾아낸다.\n",
    "# -------------------------\n",
    "dfm_imp4 = dfm.interpolate(method='linear')\n",
    "dfm_imp4.isna().sum()"
   ]
  },
  {
   "cell_type": "code",
   "execution_count": null,
   "metadata": {},
   "outputs": [],
   "source": [
    "# Alcohol 특성을 기준으로 전처리 성능을 비교\n",
    "\n",
    "# 실제값과 각 결측치처리법 별 대치값을 Dataframe으로 만든다.\n",
    "\n",
    "# 실제값과"
   ]
  }
 ],
 "metadata": {
  "kernelspec": {
   "display_name": "Python 3",
   "language": "python",
   "name": "python3"
  },
  "language_info": {
   "codemirror_mode": {
    "name": "ipython",
    "version": 3
   },
   "file_extension": ".py",
   "mimetype": "text/x-python",
   "name": "python",
   "nbconvert_exporter": "python",
   "pygments_lexer": "ipython3",
   "version": "3.11.5"
  },
  "orig_nbformat": 4
 },
 "nbformat": 4,
 "nbformat_minor": 2
}
