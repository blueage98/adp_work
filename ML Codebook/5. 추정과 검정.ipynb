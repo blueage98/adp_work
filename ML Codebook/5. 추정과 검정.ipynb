{
 "cells": [
  {
   "cell_type": "markdown",
   "metadata": {},
   "source": [
    "# 추정과 검정"
   ]
  },
  {
   "cell_type": "markdown",
   "metadata": {},
   "source": [
    "- 통계적 추론이란 표본의 정보로부터 모집단의 정보를 얻는 것\n",
    "- 모집단의 특성을 나타내는 상수들을 모수 (Population parameter)\n",
    "    - 모평균 / 모비율 / 모분산\n",
    "- 모수를 추정(estimation)하기 위해 표본 통계량을 사용하여 가설검정(Test of hypothesis)\n",
    "    - 표본평균 / 표본비율 / 표본분산\n",
    "- 가설 검정\n",
    "    - 임계값과 검정 통계량을 비교하여 검정 통계량이 채택역에 있으면 귀무가설, 기각역에 있으면 대립가설 채택\n",
    "    - 유의수준과 유의확률을 비교하여 유의수준보다 유의확률이 크면 귀무가설, 작으면 대립가설을 채택한다.\n",
    "    - 검정하고자 하는 값이 신뢰구간 내에 있으면 귀무가설, 없으면 대립가설 채택\n",
    "- 1종 오류\n",
    "    - 귀무가설이 참인데 대립가설을 채택하는 오류의 확률\n",
    "    - a(alpha)로 표기하며 유의수준이라고 한다.\n",
    "    - 표본으로 추정 가능한 정규분포 곡선이 만들어졌을 때, 아무래도 양쪽 꼬리의 범위에 속한다면, 다른 모집단에서 왔을 가능성이 크다.\n",
    "    - 이 가능성을 토대로, 양 꼬리에 속하면 버리는 것으로 정하며, 이를 전체의 몇 %비율을 버리는 것으로 정하는 것이다.\n",
    "    - 이 때의 비율을 유의수준이라고 하며, 이 비율이 커지면 귀무가설이 참인데 기각할 확률이 커진다.\n",
    "- 2종 오류\n",
    "    - 대립가설이 참인데 귀무가설을 기각하지 않는 오류의 확률\n",
    "    - b(beta)로 표기하면 1-b를 검정력이라고 한다. 즉, 대립가설이 맞을 때 이를 잡아내는 능력이다.\n",
    "    - 표본을 통해 추정 가능한 정규분포 곡선을 얻었을 때, 아무래도 양쪽 꼬리에 속한다면, 다른 모집단에서 온 표본일 가능성이 크다.\n",
    "    - 그래서 양쪽 꼬리의 일정 비율에 속하면 다른 집단에서 온 것이라 보고 이 비율을 정해서 유의수준이라고 한다.\n",
    "    - 그런데 이 유의수준이 너무 작으면 다른 집단에서 왔음에도 귀무가설을 채택할 확률이 커진다. \n",
    "    - 이 오류율를 2종 오류, b라고 하며, 1-b는 다른 집단에서 온 것을 다른 집단으로 온 것으로 판정하는 비율이므로 검정력이라고 한다.\n",
    "- 중심극한의 정리\n",
    "    - 표본 평균의 확률분포는 정규분포에 가까워진다.\n",
    "- 큰 수의 법칙\n",
    "    - 표본의 개수가 커질수록 표본평균은 모평균에 가까워진다."
   ]
  },
  {
   "cell_type": "markdown",
   "metadata": {},
   "source": [
    "# 1-표본"
   ]
  },
  {
   "cell_type": "markdown",
   "metadata": {},
   "source": [
    "## 모평균의 추정과 검정 (z분포, t분포)"
   ]
  },
  {
   "cell_type": "markdown",
   "metadata": {},
   "source": [
    "$\\alpha$ : 모 평균 </br>\n",
    "$\\sigma$ : 모 표준편차 </br>\n",
    "$\\chi$ : 표본 평균 </br>\n",
    "S : 표본 표준편차 </br>\n",
    "n : 표본의 크기 </br>\n",
    "\n",
    "1) 표본의 크기가 30이상이거나 모집단의 분산을 아는 경우\n",
    "$\\sigma$ 를 가지고 표준화점수를 구해 Z분포에서 검정한다.\n",
    "2) 표본의 크기가 30미만이고 모집단의 분산을 모르는 경우 (1이 아닌 경우)\n",
    "S를 가지고 표준화점수를 구해 t분포에서 검정한다."
   ]
  },
  {
   "cell_type": "code",
   "execution_count": 2,
   "metadata": {},
   "outputs": [],
   "source": [
    "import pandas as pd\n",
    "import numpy as np\n",
    "import matplotlib.pyplot as plt\n",
    "\n",
    "plt.rcParams['font.size'] = '12'\n",
    "plt.rcParams['font.family'] = 'Malgun Gothic'\n",
    "plt.rcParams['figure.figsize'] = [12, 5]\n",
    "plt.rcParams['axes.unicode_minus'] = False"
   ]
  },
  {
   "cell_type": "code",
   "execution_count": 13,
   "metadata": {},
   "outputs": [
    {
     "name": "stdout",
     "output_type": "stream",
     "text": [
      "1.959963984540054\n",
      "점 추정량 : 31100.000\n",
      "구간 추정량 : 29630.027 ~ 32569.973\n"
     ]
    }
   ],
   "source": [
    "import numpy as np\n",
    "from scipy.stats import norm\n",
    "\n",
    "x = 31100       # 표본 평균\n",
    "n = 36          # 표본 크기\n",
    "sigma = 4500    # 모 표준편차\n",
    "conf_a = 0.05   # 신뢰수준\n",
    "\n",
    "# 모분산을 알 때 모평균의 추정\n",
    "SE = sigma / np.sqrt(n)\n",
    "conf_z = norm.ppf(1-conf_a / 2) # 양측일 때 유의수준에서의 표준화점수\n",
    "ME = conf_z * SE    # Margin of Error. 허용오차\n",
    "\n",
    "print(conf_z)\n",
    "print('점 추정량 : {:.3f}'.format(x))\n",
    "print('구간 추정량 : {:.3f} ~ {:.3f}'.format(x-ME, x+ME))"
   ]
  },
  {
   "cell_type": "code",
   "execution_count": null,
   "metadata": {},
   "outputs": [],
   "source": [
    "#오차의 한계에 따른 표본규모\n",
    "#오차의 한계가 500 이하일 확률이 0.95가 되도록 모집단 평균의 추정치를 원하는 경우, 표본 규모는 얼마가 되어야 하는가?"
   ]
  },
  {
   "cell_type": "markdown",
   "metadata": {},
   "source": [
    "## 1종 오류와 2종 오류"
   ]
  },
  {
   "cell_type": "markdown",
   "metadata": {},
   "source": [
    "# 2 표본"
   ]
  },
  {
   "cell_type": "markdown",
   "metadata": {},
   "source": [
    "## 분산분석의 가정"
   ]
  },
  {
   "cell_type": "markdown",
   "metadata": {},
   "source": [
    "### 분산분석의 가정\n",
    "- 정규성\n",
    "    - 의미 : 각 표본의 반응변수는 정규분포여야 한다.\n",
    "    - 방법 : Shapiro(소규모), Anderson-Darling(대규모), 콜모로프 스미르노프, Jarque-Bera, QQ plot 등\n",
    "- 등분산성\n",
    "    - 의미 : 각 표본의 반응변수의 분산이 동일해야 한다.\n",
    "    - 방법 : Barlett 검정(정규성 만족시), Levene 검정(정규성 불만족시)\n",
    "- 독립성\n",
    "    - 각 관찰값은 독립적이여야 한다."
   ]
  },
  {
   "cell_type": "markdown",
   "metadata": {},
   "source": [
    "## 분산분석 (F분포)"
   ]
  },
  {
   "cell_type": "markdown",
   "metadata": {},
   "source": [
    "### 분산분석 방법\n",
    "- 정규성(O), 등분산(O), 샘플크기 동일(O)\n",
    "    - 분석방법 : standard ANOVA\n",
    "    - 사후검정 : Dunnett, Tukey HSD, snk, Duncan  --> 이질적인 집단이 있다고 할때 다른 집단을 찾아내는 검정\n",
    "- 정규성(O), 등분산(O), 샘플크기 동일(X)\n",
    "    - 분석방법 : standard ANOVA\n",
    "    - 사후검정 : Fisher's LSD, Scheffe, Dunnett, Tukey HSD, Bonferroni, sidak, Hochberg GT2, Gabrial\n",
    "- 정규성(), 등분산(X)\n",
    "    - 분석방법 : Welch's ANOVA, Brown-Forsythe ANOVA\n",
    "    - 사후검정 : GamesHowell, Dunnett T3, Tamhane T2\n",
    "### 분산분석 종류\n",
    "- 일원배치 분산분석\n",
    "    - 종속변수(1), 독립변수(1)\n",
    "- 이원배치 분산분석\n",
    "    - 종속변수(1), 독립변수(2)\n",
    "- 다중배치 분산분석\n",
    "    - 종속변수(1), 독립변수(3<=)\n",
    "- 다변량 분산분석\n",
    "    - 종속변수(2<=)"
   ]
  },
  {
   "cell_type": "markdown",
   "metadata": {},
   "source": [
    "## 일원배치 분산분석"
   ]
  },
  {
   "cell_type": "markdown",
   "metadata": {},
   "source": [
    "#### 분산이 같을 때"
   ]
  },
  {
   "cell_type": "markdown",
   "metadata": {},
   "source": [
    "- 완전확률화계획법 (Completely randomized design) - 표본 크기가 서로 같다"
   ]
  },
  {
   "cell_type": "code",
   "execution_count": 18,
   "metadata": {},
   "outputs": [
    {
     "data": {
      "text/plain": [
       "A0    3.141125\n",
       "A1    3.619392\n",
       "A2    3.386247\n",
       "A3    3.881580\n",
       "dtype: float64"
      ]
     },
     "execution_count": 18,
     "metadata": {},
     "output_type": "execute_result"
    }
   ],
   "source": [
    "# 일원배치 분산분석 (등분산 가정)\n",
    "import pandas as pd\n",
    "import matplotlib.pyplot as plt\n",
    "\n",
    "# 각 수준의 모집단이 정규분포를 따르고 분산이 동일하다고 가정한다.\n",
    "data = pd.DataFrame({\"A0\":[76,80,78,79,83,74], \n",
    "                    'A1':[82,75,83,78,85,80], \n",
    "                    'A2':[79,87,88,86,84,82], \n",
    "                    'A3':[81,74,76,78,73,70]})\n",
    "\n",
    "data.std(axis=0, ddof=1)"
   ]
  },
  {
   "cell_type": "code",
   "execution_count": 24,
   "metadata": {},
   "outputs": [
    {
     "name": "stdout",
     "output_type": "stream",
     "text": [
      " SSR: 258.125, SSE: 247.500, SST: 505.625\n",
      " MSR: 86.042, MSE: 12.375, F: 6.953\n",
      " 우측검정 유의값 3.098, F검정통계량 6.953\n",
      " 유의수준 : 0.050,  유의확률 0.002\n"
     ]
    }
   ],
   "source": [
    "# 분산분석 - 수기검정\n",
    "a = 0.05\n",
    "k = data.shape[0]                           # 표본 크기\n",
    "level = data.shape[1]                       # 모집단 개수\n",
    "\n",
    "n = len(data.values.flatten())              # 전체 데이터 수\n",
    "mu = np.mean(data.values)                   # 전체 데이터 평균\n",
    "\n",
    "means = np.array(data.mean(axis=0))         # 각 모집단 별 평균\n",
    "Vs = np.array(data.std(axis=0, ddof=1)**2)  # 각 모집단 별 분산\n",
    "\n",
    "dfr = level-1                               # 모집단 자유도\n",
    "dfe = n - dfr-1                             # 오차 자유도\n",
    "\n",
    "SSTR = (k* (means-mu)**2).sum()             # Sum of Squares of treatment : 각 집단평균의 전체평균 대비의 오차의 합계 (SSB)\n",
    "SSE = ( (k-1)*Vs).sum()                     # Errors Sum of Squares : 전체 데이터의 집단평균 대비 오차의 합계 (SSW)\n",
    "SST = ( (data.values-mu)**2).sum()          # Totoal Sum of Squares : 전체 데이터의 전체평균 대비 오차의 합계 \n",
    "MSR = SSTR/dfr\n",
    "MSE = SSE/dfe\n",
    "\n",
    "F  = MSR / MSE\n",
    "#------------------------------------------------------\n",
    "# 결국 여기 숨어있는 논리는 이렇다. 집단 내 오차 대비 집단 간 오차를 보겠다는 것이다.\n",
    "# 집단 내 오차가 큰 상황이라면 집단 간 오차가 커지더라도 어느 정도 이해할 수 있는 면이 있다.\n",
    "# 하지만 집단 간 오차가 같은 상황일 때 집단 내 오차가 크지 않다면, 집단 간 오차의 의미가 더욱 두드러지는 것이다.\n",
    "# 그러니 F 값이 커질수록 집단 간 이질성이 크다고 볼 수 있다.\n",
    "#------------------------------------------------------\n",
    "\n",
    "print(' SSR: {:.3f}, SSE: {:.3f}, SST: {:.3f}'.format(SSTR, SSE, SST))\n",
    "print(' MSR: {:.3f}, MSE: {:.3f}, F: {:.3f}'.format(MSR, MSE, F))\n",
    "\n",
    "from scipy.stats import f\n",
    "\n",
    "cv = f.ppf(1-a, dfr, dfe)\n",
    "sp = 1-f.cdf(F, dfr, dfe)\n",
    "\n",
    "print(' 우측검정 유의값 {:.3f}, F검정통계량 {:.3f}'.format(cv, F))\n",
    "print(' 유의수준 : {:.3f},  유의확률 {:.3f}'.format(a, sp))\n"
   ]
  },
  {
   "cell_type": "code",
   "execution_count": null,
   "metadata": {},
   "outputs": [
    {
     "name": "stdout",
     "output_type": "stream",
     "text": [
      "  stat: 6.953,  p-value: 0.002\n",
      " Multiple Comparison of Means - Tukey HSD, FWER=0.05 \n",
      "=====================================================\n",
      "group1 group2 meandiff p-adj   lower    upper  reject\n",
      "-----------------------------------------------------\n",
      "    A0     A1   2.1667  0.713   -3.518  7.8513  False\n",
      "    A0     A2      6.0 0.0363   0.3153 11.6847   True\n",
      "    A0     A3     -3.0  0.469  -8.6847  2.6847  False\n",
      "    A1     A2   3.8333 0.2647  -1.8513   9.518  False\n",
      "    A1     A3  -5.1667 0.0831 -10.8513   0.518  False\n",
      "    A2     A3     -9.0 0.0014 -14.6847 -3.3153   True\n",
      "-----------------------------------------------------\n"
     ]
    },
    {
     "data": {
      "image/png": "[encoded data removed]",
      "text/plain": [
       "<Figure size 1000x600 with 1 Axes>"
      ]
     },
     "metadata": {},
     "output_type": "display_data"
    }
   ],
   "source": [
    "# 분산분석 - 라이브러리 검정정\n",
    "from statsmodels.stats.oneway import anova_oneway\n",
    "oa = anova_oneway(data=data.melt()['value'], groups=data.melt()['variable'],use_var='equal')\n",
    "print('  stat: {:.3f},  p-value: {:.3f}'.format(oa.statistic, oa.pvalue))\n",
    "\n",
    "# 사후검정 (정규성 O, 등분산 O, 샘플크기 동일) ==> Tukey HSD\n",
    "from statsmodels.sandbox.stats.multicomp import MultiComparison\n",
    "from scipy.stats import ttest_ind\n",
    "org_data = data.melt()\n",
    "\n",
    "mc = MultiComparison(data=org_data['value'], groups=org_data['variable']).tukeyhsd(alpha=0.05)\n",
    "print(mc)\n",
    "\n",
    "mc.plot_simultaneous()\n",
    "plt.show()\n",
    "\n",
    "# 사후검정 결과, A0-A2, A2-A3 간의 모평균의 차이가 있는 것으로 확인하였다.\n",
    "# meandiff는 각 그룹 간 모평균 차의 점추정량이고, lower-upper는 모평균 찯의 신뢰구간을 나타낸다.\n",
    "# p-adj는 조정된 p-value로서 유의수준 0.05보다 적은 경우 reject True로 판명되어 귀무가설을 기각한다."
   ]
  },
  {
   "cell_type": "markdown",
   "metadata": {},
   "source": [
    "- 완전확률화계획법 (Completely randomized design) - 표본 크기가 서로 다르다."
   ]
  },
  {
   "cell_type": "code",
   "execution_count": 14,
   "metadata": {},
   "outputs": [],
   "source": [
    "data = [[81,75,69,90,72,83],\n",
    "        [65,80,73,79,81,69],\n",
    "        [72,67,62,76,80],\n",
    "        [89,94,79,88]]\n",
    "data_df = pd.DataFrame(data, index=['A%d' %i for i in range(len(data))]).T\n",
    "data_1d = sum(data, [])\n",
    "a = 0.05\n",
    "\n",
    "dfr = len(data) - 1\n",
    "dfe = n - 1 - dfr\n",
    "\n",
    "MSR = 214.544\n",
    "MSE = 49.355\n",
    "F = MSR / MSE\n",
    "\n",
    "from scipy.stats import f\n",
    "\n",
    "#지금 여기서 구하려고 하는 것은 f통계량의 p-value가 유의 수준을 넘어서는지 확인하는 거야.\n",
    "#그렇다고 하면 \n",
    "cv = f.ppf(1-a, dfr, dfe)       # critical value (0.05 확률에서의 임계값)\n",
    "sp = 1 - f.cdf(F, dfr, dfe)     # significant probability (F통계량 값이 갖는 확률. 이 것이 0..05보다 작아야 함.)"
   ]
  },
  {
   "cell_type": "code",
   "execution_count": 18,
   "metadata": {},
   "outputs": [
    {
     "name": "stdout",
     "output_type": "stream",
     "text": [
      "stat:4.347, p-value:0.019\n"
     ]
    },
    {
     "data": {
      "text/html": [
       "<div>\n",
       "<style scoped>\n",
       "    .dataframe tbody tr th:only-of-type {\n",
       "        vertical-align: middle;\n",
       "    }\n",
       "\n",
       "    .dataframe tbody tr th {\n",
       "        vertical-align: top;\n",
       "    }\n",
       "\n",
       "    .dataframe thead th {\n",
       "        text-align: right;\n",
       "    }\n",
       "</style>\n",
       "<table border=\"1\" class=\"dataframe\">\n",
       "  <thead>\n",
       "    <tr style=\"text-align: right;\">\n",
       "      <th></th>\n",
       "      <th>variable</th>\n",
       "      <th>value</th>\n",
       "    </tr>\n",
       "  </thead>\n",
       "  <tbody>\n",
       "    <tr>\n",
       "      <th>0</th>\n",
       "      <td>A0</td>\n",
       "      <td>81.0</td>\n",
       "    </tr>\n",
       "    <tr>\n",
       "      <th>1</th>\n",
       "      <td>A0</td>\n",
       "      <td>75.0</td>\n",
       "    </tr>\n",
       "    <tr>\n",
       "      <th>2</th>\n",
       "      <td>A0</td>\n",
       "      <td>69.0</td>\n",
       "    </tr>\n",
       "  </tbody>\n",
       "</table>\n",
       "</div>"
      ],
      "text/plain": [
       "  variable  value\n",
       "0       A0   81.0\n",
       "1       A0   75.0\n",
       "2       A0   69.0"
      ]
     },
     "execution_count": 18,
     "metadata": {},
     "output_type": "execute_result"
    }
   ],
   "source": [
    "from scipy.stats import f_oneway\n",
    "\n",
    "oa = f_oneway(*data)    #list형이 아닌 단순 값의 나열로 변환\n",
    "print('stat:{:.3f}, p-value:{:.3f}'.format(oa.statistic, oa.pvalue))\n",
    "\n",
    "from statsmodels.sandbox.stats.multicomp import MultiComparison\n",
    "from scipy.stats import ttest_ind\n",
    "org_data = data_df.melt().dropna()\n",
    "\n",
    "org_data.head(3)"
   ]
  },
  {
   "cell_type": "code",
   "execution_count": 20,
   "metadata": {},
   "outputs": [
    {
     "name": "stdout",
     "output_type": "stream",
     "text": [
      "Test Multiple Comparison ttest_ind \n",
      "FWER=0.05 method=bonf\n",
      "alphacSidak=0.01, alphacBonf=0.008\n",
      "=============================================\n",
      "group1 group2   stat   pval  pval_corr reject\n",
      "---------------------------------------------\n",
      "    A0     A1  0.9218 0.3783       1.0  False\n",
      "    A0     A2  1.5262 0.1613    0.9678  False\n",
      "    A0     A3 -1.9591 0.0858    0.5146  False\n",
      "    A1     A2  0.7506 0.4721       1.0  False\n",
      "    A1     A3 -3.1239 0.0141    0.0849  False\n",
      "    A2     A3 -3.5486 0.0094    0.0562  False\n",
      "---------------------------------------------\n"
     ]
    }
   ],
   "source": [
    "mc = MultiComparison(data = org_data.value, groups=org_data.variable).allpairtest(testfunc=ttest_ind, method='bonf')\n",
    "print(mc[0])"
   ]
  },
  {
   "cell_type": "markdown",
   "metadata": {},
   "source": [
    "#### 분산이 다를 때"
   ]
  },
  {
   "cell_type": "markdown",
   "metadata": {},
   "source": [
    "- 파라미터인 use_var를 다르게 설정\n",
    "- 'equal':standard anova, 'unequal':Welch anova, 'bf':Brouwn_forsythe"
   ]
  },
  {
   "cell_type": "code",
   "execution_count": 25,
   "metadata": {},
   "outputs": [
    {
     "name": "stdout",
     "output_type": "stream",
     "text": [
      "stat : 6.019, p-value : 0.011\n",
      "    A   B    mean(A)    mean(B)      diff        se         T        df  \\\n",
      "0  A1  A2  78.333333  80.500000 -2.166667  1.956471 -1.107436  9.805651   \n",
      "1  A1  A3  78.333333  84.333333 -6.000000  1.885618 -3.181981  9.944065   \n",
      "2  A1  A4  78.333333  75.333333  3.000000  2.038518  1.471657  9.583173   \n",
      "3  A2  A3  80.500000  84.333333 -3.833333  2.023473 -1.894432  9.955991   \n",
      "4  A2  A4  80.500000  75.333333  5.166667  2.166667  2.384615  9.951485   \n",
      "5  A3  A4  84.333333  75.333333  9.000000  2.102908  4.279788  9.819241   \n",
      "\n",
      "       pval    hedges  \n",
      "0  0.693488 -0.590196  \n",
      "1  0.041365 -1.695801  \n",
      "2  0.488889  0.784303  \n",
      "3  0.289721 -1.009616  \n",
      "4  0.143511  1.270854  \n",
      "5  0.007620  2.280865  \n"
     ]
    }
   ],
   "source": [
    "data = pd.DataFrame({'A1':[76,80,78,79,83,74],\n",
    "                     'A2':[82,75,83,78,85,80],\n",
    "                     'A3':[79,87,88,86,84,82],\n",
    "                     'A4':[81,74,76,78,73,70]})\n",
    "\n",
    "# Welsch의 이분산 일원배치 분산분석석\n",
    "from statsmodels.stats.oneway import anova_oneway\n",
    "welch = anova_oneway(data=data.melt().value, groups=data.melt().variable, use_var='unequal')\n",
    "print('stat : {:.3f}, p-value : {:.3f}'.format(welch.statistic, welch.pvalue))\n",
    "\n",
    "# 사후검정\n",
    "from pingouin import pairwise_gameshowell\n",
    "org_data = data.melt()\n",
    "gw = pairwise_gameshowell(dv='value', between='variable', data=org_data)\n",
    "print(gw)"
   ]
  },
  {
   "cell_type": "markdown",
   "metadata": {},
   "source": [
    "### 이원배치 분산분석"
   ]
  },
  {
   "cell_type": "markdown",
   "metadata": {},
   "source": [
    "#### 분산이 같을 때 : 모수인자 - 모수인자\n",
    "- 일원배치 분산분석은 분석대상 모집단을 각각 1:1로 짝을 지어, 하나는 독립변수, 다른 하나는 종속변수로 보고 같은 지를 판단하는 것이다\n",
    "- 이원배치 분산분석은 독립변수-2 : 종속변수-1일 때의 분석이다. 독립변수 2개 중 어떤 것이 종속변수와 연관성을 갖는지를 분석한다.\n",
    "- 이 것을 분석하기 위해 독립변수의 각 고유값 별로 종속변수의 평균을 구한 후, 해당 평균들의 분산과 전체 분산의 비로서 차이를 보는 것이다.\n",
    "- 종속변수의 전체 분산 대비했을 때 독립변수-고유값 별 종속변수 분산이 더 크다면, 해당 독립변수-고유값 별 종속변수 평균은 서로 이질적으로 본다.\n",
    "- 즉, 독립변수가 종속변수에 영향을 주고 있음을 의미한다."
   ]
  },
  {
   "cell_type": "code",
   "execution_count": null,
   "metadata": {},
   "outputs": [
    {
     "name": "stdout",
     "output_type": "stream",
     "text": [
      "\n",
      "데이터확인\n",
      "\n",
      "교호작용 확인 \n",
      " B    1    2    3     4\n",
      "A                     \n",
      "1  [4]  [5]  [7]   [8]\n",
      "2  [3]  [7]  [8]  [10]\n",
      "3  [5]  [6]  [9]  [12]\n",
      "\n",
      "\n",
      "            df  sum_sq  mean_sq     F    PR(>F)\n",
      "C(A)      2.0     8.0      4.0   4.0  0.078717\n",
      "C(B)      3.0    60.0     20.0  20.0  0.001586\n",
      "Residual  6.0     6.0      1.0   NaN       NaN\n"
     ]
    }
   ],
   "source": [
    "import pandas as pd\n",
    "import numpy as np\n",
    "import matplotlib.pyplot as plt\n",
    "\n",
    "plt.rcParams['font.size'] = 12\n",
    "plt.rcParams['font.family'] = 'Malgun Gothic'\n",
    "plt.rcParams['figure.figsize'] = [12, 5]\n",
    "plt.rcParams['axes.unicode_minus'] = False\n",
    "\n",
    "from pandas import DataFrame, crosstab"
   ]
  },
  {
   "cell_type": "code",
   "execution_count": null,
   "metadata": {},
   "outputs": [],
   "source": [
    "# -----------------------------------------------------\n",
    "# 반복이 있는 이원배치 분산분석\n",
    "# -----------------------------------------------------\n",
    "## A, B 모두 모수인자\n",
    "\n",
    "data = pd.DataFrame({   \"A\":[1,2,3,1,2,3,1,2,3,1,2,3],\n",
    "                        \"B\":[1,1,1,2,2,2,3,3,3,4,4,4],\n",
    "                        \"Y\": [4,3,5,5,7,6,7,8,9,8,10,12]})\n",
    "print('\\n데이터확인')\n",
    "#print(data)\n",
    "print('\\n교호작용 확인 \\n', crosstab(data['A'], data['B'], values=data['Y'], aggfunc=list))\n",
    "\n",
    "from statsmodels.formula.api import ols\n",
    "from statsmodels.stats.anova import anova_lm\n",
    "\n",
    "model = ols(\"Y~C(A)+C(B)\", data = data).fit()\n",
    "atable2 = anova_lm(model)\n",
    "print('\\n\\n',atable2)\n",
    "\n",
    "#A 그룹 간의 차이는 없고, B그룹 간의 차이가 있는 것으로 나타났다."
   ]
  },
  {
   "cell_type": "code",
   "execution_count": null,
   "metadata": {},
   "outputs": [
    {
     "name": "stdout",
     "output_type": "stream",
     "text": [
      "             df       sum_sq     mean_sq         F    PR(>F)\n",
      "C(A)        2.0   342.388889  171.194444  3.081500  0.064393\n",
      "C(B)        3.0  1002.888889  334.296296  6.017333  0.003307\n",
      "C(A):C(B)   6.0   588.944444   98.157407  1.766833  0.148795\n",
      "Residual   24.0  1333.333333   55.555556       NaN       NaN\n"
     ]
    }
   ],
   "source": [
    "# -----------------------------------------------------\n",
    "# 반복이 있는 이원배치 분산분석\n",
    "# -----------------------------------------------------\n",
    "## A, B 모두 모수인자\n",
    "\n",
    "from pandas import DataFrame, crosstab\n",
    "data = DataFrame(\n",
    "    {\"A\":[1,1,1,2,2,2,3,3,3, 1,1,1,2,2,2,3,3,3, 1,1,1,2,2,2,3,3,3, 1,1,1,2,2,2,3,3,3],#열수준\n",
    "     \"B\":[1,1,1,1,1,1,1,1,1, 2,2,2,2,2,2,2,2,2, 3,3,3,3,3,3,3,3,3, 4,4,4,4,4,4,4,4,4],#행수준\n",
    "     \"Y\":[64,66,70,72,81,64,74,51,65, 65,63,58,57,43,52,47,58,67, 59,68,65,66,71,59,58,45,42, 58,50,49,57,61,53,53,59,38]})\n",
    "\n",
    "from statsmodels.formula.api import ols\n",
    "from statsmodels.stats.anova import anova_lm\n",
    "\n",
    "model = ols(\"Y~C(A)+C(B)+C(A):C(B)\", data=data).fit()\n",
    "atable3 = anova_lm(model)\n",
    "print(atable3)\n",
    "\n",
    "# 아래 결과에 의해 A:B의 교호작용 효과는 유의하지 않은 것으로 드러났다. 따라서 A, B 중 주효과를 확인할 필요가 있다."
   ]
  },
  {
   "cell_type": "code",
   "execution_count": null,
   "metadata": {},
   "outputs": [
    {
     "name": "stdout",
     "output_type": "stream",
     "text": [
      "            df       sum_sq     mean_sq         F    PR(>F)\n",
      "C(A)       2.0   342.388889  171.194444  2.671744  0.085542\n",
      "C(B)       3.0  1002.888889  334.296296  5.217190  0.005102\n",
      "Residual  30.0  1922.277778   64.075926       NaN       NaN\n"
     ]
    }
   ],
   "source": [
    "model = ols('Y~C(A)+C(B)', data=data).fit()\n",
    "atable4 = anova_lm(model)\n",
    "print(atable4)\n",
    "\n",
    "# A, B만으로 분산분석 시 B의 경우 주효과를 갖는 것으로 확인함."
   ]
  },
  {
   "cell_type": "markdown",
   "metadata": {},
   "source": [
    "#### 분산이 같을 때 : 모수인자 - 변량인자"
   ]
  },
  {
   "cell_type": "code",
   "execution_count": 13,
   "metadata": {},
   "outputs": [
    {
     "name": "stdout",
     "output_type": "stream",
     "text": [
      "데이터 확인 \n",
      " B    1    2    3     4\n",
      "A                     \n",
      "1  [4]  [5]  [7]   [8]\n",
      "2  [3]  [7]  [8]  [10]\n",
      "3  [5]  [6]  [9]  [12]\n"
     ]
    }
   ],
   "source": [
    "# -----------------------------------------------------\n",
    "# 반복이 없는 이원배치 분산분석 : 난괴법 혹은 확률화블럭계획법(RBD, randomized block design)\n",
    "# -----------------------------------------------------\n",
    "\n",
    "## A가 모수인자, B가 변량인자\n",
    "# '반복이 없는 이원배치 분산분석'과 동일한 방법으로 진행한다.\n",
    "\n",
    "from pandas import DataFrame, crosstab\n",
    "data = DataFrame({\"A\":[1,2,3,1,2,3,1,2,3,1,2,3],\n",
    "                 \"B\":[1,1,1,2,2,2,3,3,3,4,4,4],\n",
    "                 \"Y\": [4,3,5,5,7,6,7,8,9,8,10,12]})\n",
    "\n",
    "#반복여부 확인\n",
    "print('데이터 확인 \\n', crosstab(data['A'], data['B'], values=data['Y'], aggfunc=list))"
   ]
  },
  {
   "cell_type": "code",
   "execution_count": 15,
   "metadata": {},
   "outputs": [
    {
     "name": "stdout",
     "output_type": "stream",
     "text": [
      "           df  sum_sq  mean_sq     F    PR(>F)\n",
      "C(A)      2.0     8.0      4.0   4.0  0.078717\n",
      "C(B)      3.0    60.0     20.0  20.0  0.001586\n",
      "Residual  6.0     6.0      1.0   NaN       NaN\n"
     ]
    }
   ],
   "source": [
    "from statsmodels.formula.api import ols\n",
    "from statsmodels.stats.anova import anova_lm\n",
    "\n",
    "model = ols('Y~C(A)+C(B)', data=data).fit()\n",
    "atable2 = anova_lm(model)\n",
    "print(atable2)"
   ]
  },
  {
   "cell_type": "markdown",
   "metadata": {},
   "source": [
    "# 연습문제"
   ]
  },
  {
   "cell_type": "markdown",
   "metadata": {},
   "source": [
    "### 문제 1\n",
    "- 1.1 모분산 정보가 없을 때, 다음 데이터의 모평균에 대한 95% 신뢰수준의 신뢰구간을 구하시오.\n",
    "- 1.2 모표준편차가 3이라는 것을 알고 있을 때, 모평균에 대한 95% 신뢰수준의 신뢰구간을 구하시오\n",
    "- [10,19,15,11,13,14,18]"
   ]
  },
  {
   "cell_type": "code",
   "execution_count": 30,
   "metadata": {},
   "outputs": [
    {
     "name": "stdout",
     "output_type": "stream",
     "text": [
      "1.1. 모평균의 95% 신뢰수준에서의 신뢰구간 : 11.185 ~ 17.386\n"
     ]
    }
   ],
   "source": [
    "# --------------------------------------------------------------------------------\n",
    "# 1.1 모분산 정보가 없을 때, 다음 데이터의 모평균에 대한 95% 신뢰수준의 신뢰구간을 구하시오.\n",
    "# --------------------------------------------------------------------------------\n",
    "from scipy.stats import t\n",
    "\n",
    "data = [10,19,15,11,13,14,18]\n",
    "X = np.mean(data)\n",
    "s = np.std(data, ddof=1)\n",
    "a = 0.05\n",
    "n = len(data)\n",
    "df = n-1\n",
    "SE = s / np.sqrt(n)\n",
    "min = X - t.ppf(1-a/2, df=df)*SE  #그러니까 여기서 구허고 싶은 것은 z값이야. z인데 상위 2.5% 위치의 z값을 알고 싶은 거야.\n",
    "max = X + t.ppf(1-a/2, df=df)*SE\n",
    "\n",
    "print('1.1. 모평균의 95% 신뢰수준에서의 신뢰구간 : {:.3f} ~ {:.3f}'.format(min, max))\n",
    "\n",
    "# ppf와 cdf는 역함수 관계다. \n",
    "# cdf가 z값을 주면, 표준정규분포 상 해당 위치까지는 누적확률을 반환하고,\n",
    "# ppf는 누적확률을 주면 해당 위치의 z값을 반환한다.\n",
    "# 이 구간추정 문제에서 원하는 z(0.025)는 상위 2.5% 위치의 z값이다. \n",
    "# 따라서 ppf 함수를 사용할 때 ppf(0.975)와 같은 형태로 주어야 한다."
   ]
  },
  {
   "cell_type": "code",
   "execution_count": 31,
   "metadata": {},
   "outputs": [
    {
     "name": "stdout",
     "output_type": "stream",
     "text": [
      "1.1. 모평균의 95% 신뢰수준에서의 신뢰구간 : 12.063 ~ 16.508\n"
     ]
    }
   ],
   "source": [
    "# --------------------------------------------------------------------------------\n",
    "# 1.2 모표준편차가 3이라는 것을 알고 있을 때, 모평균에 대한 95% 신뢰수준의 신뢰구간을 구하시오\n",
    "# --------------------------------------------------------------------------------\n",
    "# 모표준편차를 알고 있으므로 표본표준편차를 사용하지 않는다.\n",
    "from scipy.stats import norm\n",
    "sig = 3\n",
    "SE = sig / np.sqrt(n)\n",
    "min = X - norm.ppf(1-a/2)*SE  #그러니까 여기서 구허고 싶은 것은 z값이야. z인데 상위 2.5% 위치의 z값을 알고 싶은 거야.\n",
    "max = X + norm.ppf(1-a/2)*SE\n",
    "\n",
    "print('1.1. 모평균의 95% 신뢰수준에서의 신뢰구간 : {:.3f} ~ {:.3f}'.format(min, max))"
   ]
  },
  {
   "cell_type": "markdown",
   "metadata": {},
   "source": [
    "### 문제 2\n",
    "- 어느 제조회사 불량률이 5%다. 95% 신뢰수준에서 오차의 한계가 3%가 되도록 최소 표본 사이즈를 구하시오."
   ]
  },
  {
   "cell_type": "code",
   "execution_count": 35,
   "metadata": {},
   "outputs": [
    {
     "name": "stdout",
     "output_type": "stream",
     "text": [
      "202.74365998107885\n"
     ]
    }
   ],
   "source": [
    "# 이문제는 모비율의 추정이다. 모비율의 추정에서 SE = np.sqrt(p(1-p) / n)이 된다. ME를 0.03으로 만드는 n을 구한다.\n",
    "ratio = 0.03\n",
    "p = 0.05\n",
    "a = 0.05\n",
    "z = norm.ppf(1-a/2)\n",
    "ME = z*SE\n",
    "\n",
    "n = z**2 * p*(1-p) / ratio**2\n",
    "\n",
    "print(n)"
   ]
  },
  {
   "cell_type": "markdown",
   "metadata": {},
   "source": [
    "### 문제 3\n",
    "- 임의로 추출한 표본 30개의 분산을 계산했더니 50일 때, 신뢰도 95%로 모분산의 신뢰구간을 추정하시오."
   ]
  },
  {
   "cell_type": "code",
   "execution_count": null,
   "metadata": {},
   "outputs": [
    {
     "name": "stdout",
     "output_type": "stream",
     "text": [
      "모분산의 구간 추정 : 90.359 ~ 31.713\n"
     ]
    }
   ],
   "source": [
    "from scipy.stats import chi2\n",
    "\n",
    "n=30\n",
    "v = 50\n",
    "df = n-1\n",
    "a = 0.05\n",
    "\n",
    "min = (n-1)*v / chi2.ppf(a/2, df=df)\n",
    "max = (n-1)*v / chi2.ppf(1-a/2, df=df)\n",
    "\n",
    "print('모분산의 구간 추정 : {:.3f} ~ {:.3f}'.format(min, max))"
   ]
  },
  {
   "cell_type": "markdown",
   "metadata": {
    "vscode": {
     "languageId": "ini"
    }
   },
   "source": [
    "### 문제 4\n",
    "- 20번 뽑았더니 5개 성공. 성공률 p라고 하면 모비율 p에 대한 95% 신뢰구간을 구하시오"
   ]
  },
  {
   "cell_type": "code",
   "execution_count": 44,
   "metadata": {},
   "outputs": [
    {
     "name": "stdout",
     "output_type": "stream",
     "text": [
      "모비율의 구간 추정 : 0.060 ~ 0.440\n"
     ]
    }
   ],
   "source": [
    "p = 5/20\n",
    "n = 20\n",
    "a = 0.05\n",
    "\n",
    "min = p - norm.ppf(1-a/2) * np.sqrt(p*(1-p)/n)\n",
    "max = p + norm.ppf(1-a/2) * np.sqrt(p*(1-p)/n)\n",
    "\n",
    "print('모비율의 구간 추정 : {:.3f} ~ {:.3f}'.format(min, max))"
   ]
  },
  {
   "cell_type": "markdown",
   "metadata": {},
   "source": [
    "### 문제 5\n",
    "- A국 남성 흡연율 35%로 발표. B국 450명 표본에서 180명 흡연자. 유의수준 0.05에서 귀무가설, 대립가설 세워 평균 검정"
   ]
  },
  {
   "cell_type": "code",
   "execution_count": null,
   "metadata": {},
   "outputs": [],
   "source": []
  }
 ],
 "metadata": {
  "kernelspec": {
   "display_name": "Python 3",
   "language": "python",
   "name": "python3"
  },
  "language_info": {
   "codemirror_mode": {
    "name": "ipython",
    "version": 3
   },
   "file_extension": ".py",
   "mimetype": "text/x-python",
   "name": "python",
   "nbconvert_exporter": "python",
   "pygments_lexer": "ipython3",
   "version": "3.10.10"
  },
  "orig_nbformat": 4
 },
 "nbformat": 4,
 "nbformat_minor": 2
}
