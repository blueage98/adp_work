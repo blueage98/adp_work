{
 "cells": [
  {
   "cell_type": "code",
   "execution_count": 3,
   "id": "d3c27a88",
   "metadata": {},
   "outputs": [],
   "source": [
    "import pandas as pd\n",
    "import numpy as np\n",
    "import matplotlib.pyplot as plt\n",
    "\n",
    "plt.rcParams['font.size'] = 12\n",
    "plt.rcParams['font.family'] = 'Malgun Gothic'\n",
    "plt.rcParams['figure.figsize'] = [12, 5]\n",
    "plt.rcParams['axes.unicode_minus'] = False\n"
   ]
  },
  {
   "cell_type": "markdown",
   "id": "af080172",
   "metadata": {},
   "source": [
    "### 1. \n",
    "#### A, B, C 동별 입주민의 주민대표 찬반 투표결과. 동별 찬반 비율이 동일한지 귀무가설, 대립가설 세우고 검정통계량 검정\n",
    "- [찬성] - A:50, B:60, C:65\n",
    "- [반대] - A:45, B:32, C:55"
   ]
  },
  {
   "cell_type": "code",
   "execution_count": 15,
   "id": "9f59e893",
   "metadata": {},
   "outputs": [
    {
     "name": "stdout",
     "output_type": "stream",
     "text": [
      "검정통계량은 3.667이고 유의확률 p-value는 0.160 이다.\n",
      "유의확률이 0.160이므로 귀무가설을 기각할 수 없다.\n"
     ]
    }
   ],
   "source": [
    "# 지금 이 상황을 어떤 상황으로 봐야 할까? A, B, C 3개의 찬/반 비율이 같은지 검정해야 한다. 이 3개의 값은 같은 값인가?\n",
    "# 그러면 비모수검정: 명목척도: 독립표본 3: 동일성 검정으로 본다.\n",
    "\n",
    "# H0 : A, B, C 3개 집단의 찬/반 비율 차이는 없다.\n",
    "# H1 : A, B, C 3개 집단의 찬/반 비율 차이가 있다.\n",
    "\n",
    "data = pd.DataFrame(data={'A':[50, 45], 'B':[60, 32], 'C':[65, 55]}, index=['찬성', '반대'])\n",
    "data\n",
    "\n",
    "from scipy.stats import chi2_contingency\n",
    "chistat, p, df, expec = chi2_contingency(data, correction=False)\n",
    "\n",
    "print('검정통계량은 {:.3f}이고 유의확률 p-value는 {:.3f} 이다.'.format(chistat, p))\n",
    "print('유의확률이 {:.3f}이므로 귀무가설을 기각할 수 없다.'.format(p))"
   ]
  },
  {
   "cell_type": "code",
   "execution_count": null,
   "id": "ee826e36",
   "metadata": {},
   "outputs": [],
   "source": []
  }
 ],
 "metadata": {
  "kernelspec": {
   "display_name": "Python 3",
   "language": "python",
   "name": "python3"
  },
  "language_info": {
   "codemirror_mode": {
    "name": "ipython",
    "version": 3
   },
   "file_extension": ".py",
   "mimetype": "text/x-python",
   "name": "python",
   "nbconvert_exporter": "python",
   "pygments_lexer": "ipython3",
   "version": "3.10.10"
  }
 },
 "nbformat": 4,
 "nbformat_minor": 5
}
