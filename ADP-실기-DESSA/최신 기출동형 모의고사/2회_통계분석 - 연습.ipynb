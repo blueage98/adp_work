{
 "cells": [
  {
   "cell_type": "markdown",
   "id": "48ce570d",
   "metadata": {
    "toc": true
   },
   "source": [
    "<h1>Table of Contents<span class=\"tocSkip\"></span></h1>\n",
    "<div class=\"toc\"><ul class=\"toc-item\"><li><span><a href=\"#22회-통계분석\" data-toc-modified-id=\"22회-통계분석-1\">22회 통계분석</a></span><ul class=\"toc-item\"><li><span><a href=\"#회사는-제품에-금속-재질-함유량의-분산이-1.3을-넘으면-불량이라고-판단한다.-회사에서는-품질경영팀으로부터-제조사별로-금속함유량이-차이가-난다고-제보를-받았다.-해당-금속함유량-데이터에-대한-검정을-수행하시오.-(유의확률:0.05)-\" data-toc-modified-id=\"회사는-제품에-금속-재질-함유량의-분산이-1.3을-넘으면-불량이라고-판단한다.-회사에서는-품질경영팀으로부터-제조사별로-금속함유량이-차이가-난다고-제보를-받았다.-해당-금속함유량-데이터에-대한-검정을-수행하시오.-(유의확률:0.05)--1.1\">회사는 제품에 금속 재질 함유량의 분산이 1.3을 넘으면 불량이라고 판단한다. 회사에서는 품질경영팀으로부터 제조사별로 금속함유량이 차이가 난다고 제보를 받았다. 해당 금속함유량 데이터에 대한 검정을 수행하시오. (유의확률:0.05) <br></a></span><ul class=\"toc-item\"><li><span><a href=\"#연구가설과-귀무가설을-작성시오\" data-toc-modified-id=\"연구가설과-귀무가설을-작성시오-1.1.1\">연구가설과 귀무가설을 작성시오<br></a></span></li><li><span><a href=\"#가설을-양측-검정-\" data-toc-modified-id=\"가설을-양측-검정--1.1.2\">가설을 양측 검정 <br></a></span></li><li><span><a href=\"#검정통계량,-가설-채택\" data-toc-modified-id=\"검정통계량,-가설-채택-1.1.3\">검정통계량, 가설 채택<br></a></span></li></ul></li><li><span><a href=\"#200개의-Lot별-불량-제품-수량-데이터에-따라-아래의-값을-구하시오.-\" data-toc-modified-id=\"200개의-Lot별-불량-제품-수량-데이터에-따라-아래의-값을-구하시오.--1.2\">200개의 Lot별 불량 제품 수량 데이터에 따라 아래의 값을 구하시오. <br></a></span></li></ul></li></ul></div>"
   ]
  },
  {
   "cell_type": "markdown",
   "id": "08713da6",
   "metadata": {},
   "source": [
    "# 22회 통계분석 \n",
    "\n",
    "## 회사는 제품에 금속 재질 함유량의 분산이 1.3을 넘으면 불량이라고 판단한다. 회사에서는 품질경영팀으로부터 제조사별로 금속함유량이 차이가 난다고 제보를 받았다. 해당 금속함유량 데이터에 대한 검정을 수행하시오. (유의확률:0.05) <br>\n",
    "### 연구가설과 귀무가설을 작성시오<br>\n",
    "### 가설을 양측 검정 <br>\n",
    "### 검정통계량, 가설 채택<br>\n"
   ]
  },
  {
   "cell_type": "code",
   "execution_count": 1,
   "id": "d50f27af",
   "metadata": {},
   "outputs": [
    {
     "data": {
      "text/html": [
       "<div>\n",
       "<style scoped>\n",
       "    .dataframe tbody tr th:only-of-type {\n",
       "        vertical-align: middle;\n",
       "    }\n",
       "\n",
       "    .dataframe tbody tr th {\n",
       "        vertical-align: top;\n",
       "    }\n",
       "\n",
       "    .dataframe thead th {\n",
       "        text-align: right;\n",
       "    }\n",
       "</style>\n",
       "<table border=\"1\" class=\"dataframe\">\n",
       "  <thead>\n",
       "    <tr style=\"text-align: right;\">\n",
       "      <th></th>\n",
       "      <th>metalicity</th>\n",
       "    </tr>\n",
       "  </thead>\n",
       "  <tbody>\n",
       "    <tr>\n",
       "      <th>0</th>\n",
       "      <td>42.731551</td>\n",
       "    </tr>\n",
       "    <tr>\n",
       "      <th>1</th>\n",
       "      <td>46.429668</td>\n",
       "    </tr>\n",
       "    <tr>\n",
       "      <th>2</th>\n",
       "      <td>45.754023</td>\n",
       "    </tr>\n",
       "    <tr>\n",
       "      <th>3</th>\n",
       "      <td>45.808060</td>\n",
       "    </tr>\n",
       "    <tr>\n",
       "      <th>4</th>\n",
       "      <td>44.072529</td>\n",
       "    </tr>\n",
       "    <tr>\n",
       "      <th>...</th>\n",
       "      <td>...</td>\n",
       "    </tr>\n",
       "    <tr>\n",
       "      <th>145</th>\n",
       "      <td>45.915727</td>\n",
       "    </tr>\n",
       "    <tr>\n",
       "      <th>146</th>\n",
       "      <td>45.277868</td>\n",
       "    </tr>\n",
       "    <tr>\n",
       "      <th>147</th>\n",
       "      <td>45.082157</td>\n",
       "    </tr>\n",
       "    <tr>\n",
       "      <th>148</th>\n",
       "      <td>44.297235</td>\n",
       "    </tr>\n",
       "    <tr>\n",
       "      <th>149</th>\n",
       "      <td>45.510493</td>\n",
       "    </tr>\n",
       "  </tbody>\n",
       "</table>\n",
       "<p>150 rows × 1 columns</p>\n",
       "</div>"
      ],
      "text/plain": [
       "     metalicity\n",
       "0     42.731551\n",
       "1     46.429668\n",
       "2     45.754023\n",
       "3     45.808060\n",
       "4     44.072529\n",
       "..          ...\n",
       "145   45.915727\n",
       "146   45.277868\n",
       "147   45.082157\n",
       "148   44.297235\n",
       "149   45.510493\n",
       "\n",
       "[150 rows x 1 columns]"
      ]
     },
     "execution_count": 1,
     "metadata": {},
     "output_type": "execute_result"
    }
   ],
   "source": [
    "import pandas as pd \n",
    "import numpy as np \n",
    "## 데이터 불러오기 \n",
    "df = pd.read_csv('../data/metalicity')\n",
    "df"
   ]
  },
  {
   "cell_type": "markdown",
   "id": "cba78eef",
   "metadata": {},
   "source": [
    "귀무가설 : 정규성을 가진다.  <br>\n",
    "대립가설 : 정규성을 가지지 않는다. <br>\n",
    "\n",
    "p-value > 0.05 이므로 귀무가설을 기각하지 못함 <br>\n",
    "즉, 정규성을 띈다. "
   ]
  },
  {
   "cell_type": "markdown",
   "id": "47ad3562",
   "metadata": {},
   "source": [
    "\n",
    "## 200개의 Lot별 불량 제품 수량 데이터에 따라 아래의 값을 구하시오. <br>\n",
    "- p관리도 : 전체품목의 표본에서 부적합 부품의 수의 비율 \n",
    "2.1 p관리도에 따라 관리중심선(center line), 관리 상한선, 하한선 구하시오<br>\n",
    "2.2 관리도 시각화 하시오<br>\n",
    "\n"
   ]
  },
  {
   "cell_type": "code",
   "execution_count": 5,
   "id": "fb02d7d0",
   "metadata": {},
   "outputs": [
    {
     "data": {
      "text/html": [
       "<div>\n",
       "<style scoped>\n",
       "    .dataframe tbody tr th:only-of-type {\n",
       "        vertical-align: middle;\n",
       "    }\n",
       "\n",
       "    .dataframe tbody tr th {\n",
       "        vertical-align: top;\n",
       "    }\n",
       "\n",
       "    .dataframe thead th {\n",
       "        text-align: right;\n",
       "    }\n",
       "</style>\n",
       "<table border=\"1\" class=\"dataframe\">\n",
       "  <thead>\n",
       "    <tr style=\"text-align: right;\">\n",
       "      <th></th>\n",
       "      <th>생산수량</th>\n",
       "      <th>불량수량</th>\n",
       "    </tr>\n",
       "    <tr>\n",
       "      <th>lot</th>\n",
       "      <th></th>\n",
       "      <th></th>\n",
       "    </tr>\n",
       "  </thead>\n",
       "  <tbody>\n",
       "    <tr>\n",
       "      <th>1</th>\n",
       "      <td>587</td>\n",
       "      <td>19</td>\n",
       "    </tr>\n",
       "    <tr>\n",
       "      <th>2</th>\n",
       "      <td>588</td>\n",
       "      <td>15</td>\n",
       "    </tr>\n",
       "    <tr>\n",
       "      <th>3</th>\n",
       "      <td>455</td>\n",
       "      <td>19</td>\n",
       "    </tr>\n",
       "    <tr>\n",
       "      <th>4</th>\n",
       "      <td>666</td>\n",
       "      <td>12</td>\n",
       "    </tr>\n",
       "    <tr>\n",
       "      <th>5</th>\n",
       "      <td>750</td>\n",
       "      <td>15</td>\n",
       "    </tr>\n",
       "    <tr>\n",
       "      <th>...</th>\n",
       "      <td>...</td>\n",
       "      <td>...</td>\n",
       "    </tr>\n",
       "    <tr>\n",
       "      <th>196</th>\n",
       "      <td>631</td>\n",
       "      <td>18</td>\n",
       "    </tr>\n",
       "    <tr>\n",
       "      <th>197</th>\n",
       "      <td>565</td>\n",
       "      <td>21</td>\n",
       "    </tr>\n",
       "    <tr>\n",
       "      <th>198</th>\n",
       "      <td>570</td>\n",
       "      <td>12</td>\n",
       "    </tr>\n",
       "    <tr>\n",
       "      <th>199</th>\n",
       "      <td>517</td>\n",
       "      <td>10</td>\n",
       "    </tr>\n",
       "    <tr>\n",
       "      <th>200</th>\n",
       "      <td>750</td>\n",
       "      <td>16</td>\n",
       "    </tr>\n",
       "  </tbody>\n",
       "</table>\n",
       "<p>200 rows × 2 columns</p>\n",
       "</div>"
      ],
      "text/plain": [
       "     생산수량  불량수량\n",
       "lot            \n",
       "1     587    19\n",
       "2     588    15\n",
       "3     455    19\n",
       "4     666    12\n",
       "5     750    15\n",
       "..    ...   ...\n",
       "196   631    18\n",
       "197   565    21\n",
       "198   570    12\n",
       "199   517    10\n",
       "200   750    16\n",
       "\n",
       "[200 rows x 2 columns]"
      ]
     },
     "execution_count": 5,
     "metadata": {},
     "output_type": "execute_result"
    }
   ],
   "source": [
    "df2 = pd.read_csv('../data/lot_quality.csv')\n",
    "df2 = df2.set_index('lot')\n",
    "df2"
   ]
  },
  {
   "cell_type": "markdown",
   "id": "12ecf9c3",
   "metadata": {},
   "source": [
    "\n",
    "3.표에 제품 1, 2를 만드는데 재료 a, b, c가 일부 사용되며, 제품 1과 2를 만들 때 12만원과 18만원을 벌 수 있다. 재료는 한정적으로 주어지는데, 이때 최대 수익을 낼 수 있을 때의 제품 1과 제품2의 개수를 구하라.\n",
    "재료 공급량 { a: 1300, b: 1000, c:1200 }(10점)\n"
   ]
  },
  {
   "cell_type": "markdown",
   "id": "e8ff615a",
   "metadata": {},
   "source": [
    "* 분석결과 : 유의수준 5% 하에서 p-value값이 0.05보다 크므로, 상품 a와 b의 구매에는 연관이 없다. "
   ]
  }
 ],
 "metadata": {
  "kernelspec": {
   "display_name": "Python 3 (ipykernel)",
   "language": "python",
   "name": "python3"
  },
  "language_info": {
   "codemirror_mode": {
    "name": "ipython",
    "version": 3
   },
   "file_extension": ".py",
   "mimetype": "text/x-python",
   "name": "python",
   "nbconvert_exporter": "python",
   "pygments_lexer": "ipython3",
   "version": "3.7.10"
  },
  "toc": {
   "base_numbering": 1,
   "nav_menu": {},
   "number_sections": false,
   "sideBar": true,
   "skip_h1_title": false,
   "title_cell": "Table of Contents",
   "title_sidebar": "Contents",
   "toc_cell": true,
   "toc_position": {},
   "toc_section_display": true,
   "toc_window_display": true
  }
 },
 "nbformat": 4,
 "nbformat_minor": 5
}
