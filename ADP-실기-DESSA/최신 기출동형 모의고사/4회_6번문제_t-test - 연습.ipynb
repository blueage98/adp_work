{
 "cells": [
  {
   "cell_type": "markdown",
   "id": "541908fc",
   "metadata": {},
   "source": [
    "# 6번문제\n",
    "\n",
    "## A학교 남녀 학생들의 평균 혈압 차이가 있는지 여부에 대한 검정 문제 \n",
    "\n",
    "* 단, 남학생과 여학생의 혈압 데이터는 정규분포를 따르며 등분산임을 가정한다\n",
    "\n",
    "\n",
    "> 1) 남녀 학생들의 평균 혈압 차이가 있는지에 대해 가설을 설정하라 \n",
    "\n",
    "> 2) 검정통계량을 구하고 판단해라 \n",
    "\n",
    "> 3) 평균 혈압차의 신뢰구간을 구했을 때, 판단한 결과가 2) 의 결과를 지지하는지 설명해라 "
   ]
  },
  {
   "cell_type": "markdown",
   "id": "29071e2d",
   "metadata": {},
   "source": [
    "## 1) 남녀 학생들의 평균 혈압 차이가 있는지에 대해 가설을 설정하라\n",
    "\n",
    "### 귀무가설 : A학교에서 성별에 따른 평균 혈압 차이는 없다. \n",
    "### 대립가설 : A학교에서 성별에 따른 평균 혈압 차이는 있다. "
   ]
  },
  {
   "cell_type": "code",
   "execution_count": 2,
   "id": "f6b3382f",
   "metadata": {
    "scrolled": false
   },
   "outputs": [
    {
     "data": {
      "text/html": [
       "<div>\n",
       "<style scoped>\n",
       "    .dataframe tbody tr th:only-of-type {\n",
       "        vertical-align: middle;\n",
       "    }\n",
       "\n",
       "    .dataframe tbody tr th {\n",
       "        vertical-align: top;\n",
       "    }\n",
       "\n",
       "    .dataframe thead th {\n",
       "        text-align: right;\n",
       "    }\n",
       "</style>\n",
       "<table border=\"1\" class=\"dataframe\">\n",
       "  <thead>\n",
       "    <tr style=\"text-align: right;\">\n",
       "      <th></th>\n",
       "      <th>gender</th>\n",
       "      <th>pressure</th>\n",
       "    </tr>\n",
       "  </thead>\n",
       "  <tbody>\n",
       "    <tr>\n",
       "      <th>0</th>\n",
       "      <td>male</td>\n",
       "      <td>106.8</td>\n",
       "    </tr>\n",
       "    <tr>\n",
       "      <th>1</th>\n",
       "      <td>male</td>\n",
       "      <td>100.8</td>\n",
       "    </tr>\n",
       "    <tr>\n",
       "      <th>2</th>\n",
       "      <td>male</td>\n",
       "      <td>84.5</td>\n",
       "    </tr>\n",
       "  </tbody>\n",
       "</table>\n",
       "</div>"
      ],
      "text/plain": [
       "  gender  pressure\n",
       "0   male     106.8\n",
       "1   male     100.8\n",
       "2   male      84.5"
      ]
     },
     "execution_count": 2,
     "metadata": {},
     "output_type": "execute_result"
    }
   ],
   "source": [
    "import pandas as pd \n",
    "data = pd.read_csv(\"https://raw.githubusercontent.com/ADPclass/ADP_book_ver01/main/data/26_problem6.csv\")\n",
    "data.head(3)"
   ]
  },
  {
   "cell_type": "code",
   "execution_count": 4,
   "id": "74a5af0e",
   "metadata": {},
   "outputs": [
    {
     "name": "stdout",
     "output_type": "stream",
     "text": [
      " \n",
      "이 문제는 남학생 25명의 혈압 평균과 여학생 25명의 혈압 평균에 유의미한 차이가 있는 지 검정하는 문제이다.\n",
      "      샘플의 수가 30개 미만이므로 독립집단 t-test를 수행한다.\n",
      "\n",
      "t검정통계량은 1.381이고 pvalue는 0.180이다.\n",
      "유의수준 0.05에서 귀무가설을 기각할 수 없으며, 따라서 남학생과 여학생의 혈압에는 유의미한 차이가 없다.\n"
     ]
    }
   ],
   "source": [
    "print(''' \n",
    "이 문제는 남학생 25명의 혈압 평균과 여학생 25명의 혈압 평균에 유의미한 차이가 있는 지 검정하는 문제이다.\n",
    "      샘플의 수가 30개 미만이므로 독립집단 t-test를 수행한다.\n",
    "''')\n",
    "\n",
    "from scipy.stats import ttest_ind\n",
    "\n",
    "stat = ttest_ind(data[data.gender=='male'].pressure, data[data.gender=='female'].pressure, equal_var=True)\n",
    "print(f't검정통계량은 {stat.statistic:.3f}이고 pvalue는 {stat.pvalue:.3f}이다.')\n",
    "print('유의수준 0.05에서 귀무가설을 기각할 수 없으며, 따라서 남학생과 여학생의 혈압에는 유의미한 차이가 없다.')\n",
    "\n"
   ]
  },
  {
   "cell_type": "code",
   "execution_count": null,
   "id": "613584d7",
   "metadata": {},
   "outputs": [],
   "source": []
  },
  {
   "cell_type": "code",
   "execution_count": null,
   "id": "b05f1314",
   "metadata": {},
   "outputs": [],
   "source": []
  },
  {
   "cell_type": "code",
   "execution_count": 2,
   "id": "b9362b95",
   "metadata": {},
   "outputs": [
    {
     "data": {
      "text/plain": [
       "Ttest_indResult(statistic=1.3813481801194591, pvalue=0.18044550626193734)"
      ]
     },
     "execution_count": 2,
     "metadata": {},
     "output_type": "execute_result"
    }
   ],
   "source": [
    "# 성별에 따른 혈압이 등분산성을 만족한다는 조건 하에 독립 t검정 수행 (ttest_ind), default is 'two-sided' \n",
    "import scipy.stats as stats\n",
    "\n",
    "## 데이터 나누기 \n",
    "male = data.loc[data.gender == 'male', 'pressure']\n",
    "female = data.loc[data.gender == 'female', 'pressure']\n",
    "\n",
    "test_result = stats.ttest_ind(male, female, equal_var=True)\n",
    "test_result"
   ]
  },
  {
   "cell_type": "markdown",
   "id": "69cf51f8",
   "metadata": {},
   "source": [
    "### 검정 결과: 귀무가설 기각하지 못한다. \n",
    "### 즉, 성별에 따라 평균 혈압의 차이가 없다고 할 수 있다. "
   ]
  },
  {
   "cell_type": "markdown",
   "id": "27184106",
   "metadata": {},
   "source": [
    "# 3) 평균 혈압차의 신뢰구간을 구했을 때, 판단한 결과가 2) 의 결과를 지지하는지 설명해라"
   ]
  },
  {
   "cell_type": "code",
   "execution_count": 7,
   "id": "a69cb17b",
   "metadata": {},
   "outputs": [
    {
     "name": "stdout",
     "output_type": "stream",
     "text": [
      "평균 혈압차의 신뢰구간이란, 주어진 유의수준에서 남학생/여학생 평균 혈압 차이가 어느 범위 밖을 벗어나면 서로 다르다고 결정하게 되는데, 이 범위를 말한다.\n",
      "      - 남학생/여학생을 대상으로 여러 차례 샘플링하여 그 차이를 구했을 때, \n",
      "      - 남학생/여학생 모집단에 유의미한 차이가 없다면, 그 샘플 간 차이는 0을 중심으로 하는 정규분포를 이룰 것이다.\n",
      "\n",
      "      - 유의수준 5%라면, 양측 검정 시 하위 0.025, 상위 0.025를 제외한 확률 구간이 된다.\n",
      "\n"
     ]
    },
    {
     "ename": "TypeError",
     "evalue": "_parse_args() missing 1 required positional argument: 'df'",
     "output_type": "error",
     "traceback": [
      "\u001b[1;31m---------------------------------------------------------------------------\u001b[0m",
      "\u001b[1;31mTypeError\u001b[0m                                 Traceback (most recent call last)",
      "\u001b[1;32md:\\python\\git_workspace\\adp_work\\ADP-실기-DESSA\\최신 기출동형 모의고사\\4회_6번문제_t-test - 연습.ipynb Cell 10\u001b[0m line \u001b[0;36m1\n\u001b[0;32m      <a href='vscode-notebook-cell:/d%3A/python/git_workspace/adp_work/ADP-%EC%8B%A4%EA%B8%B0-DESSA/%EC%B5%9C%EC%8B%A0%20%EA%B8%B0%EC%B6%9C%EB%8F%99%ED%98%95%20%EB%AA%A8%EC%9D%98%EA%B3%A0%EC%82%AC/4%ED%9A%8C_6%EB%B2%88%EB%AC%B8%EC%A0%9C_t-test%20-%20%EC%97%B0%EC%8A%B5.ipynb#W6sZmlsZQ%3D%3D?line=0'>1</a>\u001b[0m \u001b[39mprint\u001b[39m(\u001b[39m'''\u001b[39m\u001b[39m평균 혈압차의 신뢰구간이란, 주어진 유의수준에서 남학생/여학생 평균 혈압 차이가 어느 범위 밖을 벗어나면 서로 다르다고 결정하게 되는데, 이 범위를 말한다.\u001b[39m\n\u001b[0;32m      <a href='vscode-notebook-cell:/d%3A/python/git_workspace/adp_work/ADP-%EC%8B%A4%EA%B8%B0-DESSA/%EC%B5%9C%EC%8B%A0%20%EA%B8%B0%EC%B6%9C%EB%8F%99%ED%98%95%20%EB%AA%A8%EC%9D%98%EA%B3%A0%EC%82%AC/4%ED%9A%8C_6%EB%B2%88%EB%AC%B8%EC%A0%9C_t-test%20-%20%EC%97%B0%EC%8A%B5.ipynb#W6sZmlsZQ%3D%3D?line=1'>2</a>\u001b[0m \u001b[39m      - 남학생/여학생을 대상으로 여러 차례 샘플링하여 그 차이를 구했을 때, \u001b[39m\n\u001b[0;32m      <a href='vscode-notebook-cell:/d%3A/python/git_workspace/adp_work/ADP-%EC%8B%A4%EA%B8%B0-DESSA/%EC%B5%9C%EC%8B%A0%20%EA%B8%B0%EC%B6%9C%EB%8F%99%ED%98%95%20%EB%AA%A8%EC%9D%98%EA%B3%A0%EC%82%AC/4%ED%9A%8C_6%EB%B2%88%EB%AC%B8%EC%A0%9C_t-test%20-%20%EC%97%B0%EC%8A%B5.ipynb#W6sZmlsZQ%3D%3D?line=2'>3</a>\u001b[0m \u001b[39m      - 남학생/여학생 모집단에 유의미한 차이가 없다면, 그 샘플 간 차이는 0을 중심으로 하는 정규분포를 이룰 것이다.\u001b[39m\n\u001b[0;32m      <a href='vscode-notebook-cell:/d%3A/python/git_workspace/adp_work/ADP-%EC%8B%A4%EA%B8%B0-DESSA/%EC%B5%9C%EC%8B%A0%20%EA%B8%B0%EC%B6%9C%EB%8F%99%ED%98%95%20%EB%AA%A8%EC%9D%98%EA%B3%A0%EC%82%AC/4%ED%9A%8C_6%EB%B2%88%EB%AC%B8%EC%A0%9C_t-test%20-%20%EC%97%B0%EC%8A%B5.ipynb#W6sZmlsZQ%3D%3D?line=3'>4</a>\u001b[0m \n\u001b[0;32m      <a href='vscode-notebook-cell:/d%3A/python/git_workspace/adp_work/ADP-%EC%8B%A4%EA%B8%B0-DESSA/%EC%B5%9C%EC%8B%A0%20%EA%B8%B0%EC%B6%9C%EB%8F%99%ED%98%95%20%EB%AA%A8%EC%9D%98%EA%B3%A0%EC%82%AC/4%ED%9A%8C_6%EB%B2%88%EB%AC%B8%EC%A0%9C_t-test%20-%20%EC%97%B0%EC%8A%B5.ipynb#W6sZmlsZQ%3D%3D?line=4'>5</a>\u001b[0m \u001b[39m      - 유의수준 5\u001b[39m\u001b[39m%\u001b[39m\u001b[39m라면, 양측 검정 시 하위 0.025, 상위 0.025를 제외한 확률 구간이 된다.\u001b[39m\n\u001b[0;32m      <a href='vscode-notebook-cell:/d%3A/python/git_workspace/adp_work/ADP-%EC%8B%A4%EA%B8%B0-DESSA/%EC%B5%9C%EC%8B%A0%20%EA%B8%B0%EC%B6%9C%EB%8F%99%ED%98%95%20%EB%AA%A8%EC%9D%98%EA%B3%A0%EC%82%AC/4%ED%9A%8C_6%EB%B2%88%EB%AC%B8%EC%A0%9C_t-test%20-%20%EC%97%B0%EC%8A%B5.ipynb#W6sZmlsZQ%3D%3D?line=5'>6</a>\u001b[0m \u001b[39m'''\u001b[39m)\n\u001b[0;32m      <a href='vscode-notebook-cell:/d%3A/python/git_workspace/adp_work/ADP-%EC%8B%A4%EA%B8%B0-DESSA/%EC%B5%9C%EC%8B%A0%20%EA%B8%B0%EC%B6%9C%EB%8F%99%ED%98%95%20%EB%AA%A8%EC%9D%98%EA%B3%A0%EC%82%AC/4%ED%9A%8C_6%EB%B2%88%EB%AC%B8%EC%A0%9C_t-test%20-%20%EC%97%B0%EC%8A%B5.ipynb#W6sZmlsZQ%3D%3D?line=7'>8</a>\u001b[0m \u001b[39mfrom\u001b[39;00m \u001b[39mscipy\u001b[39;00m\u001b[39m.\u001b[39;00m\u001b[39mstats\u001b[39;00m \u001b[39mimport\u001b[39;00m t\n\u001b[1;32m---> <a href='vscode-notebook-cell:/d%3A/python/git_workspace/adp_work/ADP-%EC%8B%A4%EA%B8%B0-DESSA/%EC%B5%9C%EC%8B%A0%20%EA%B8%B0%EC%B6%9C%EB%8F%99%ED%98%95%20%EB%AA%A8%EC%9D%98%EA%B3%A0%EC%82%AC/4%ED%9A%8C_6%EB%B2%88%EB%AC%B8%EC%A0%9C_t-test%20-%20%EC%97%B0%EC%8A%B5.ipynb#W6sZmlsZQ%3D%3D?line=9'>10</a>\u001b[0m t\u001b[39m.\u001b[39;49mppf(\u001b[39m0.025\u001b[39;49m)\n",
      "File \u001b[1;32mc:\\Users\\lsel\\AppData\\Local\\Programs\\Python\\Python311\\Lib\\site-packages\\scipy\\stats\\_distn_infrastructure.py:2293\u001b[0m, in \u001b[0;36mrv_continuous.ppf\u001b[1;34m(self, q, *args, **kwds)\u001b[0m\n\u001b[0;32m   2272\u001b[0m \u001b[39mdef\u001b[39;00m \u001b[39mppf\u001b[39m(\u001b[39mself\u001b[39m, q, \u001b[39m*\u001b[39margs, \u001b[39m*\u001b[39m\u001b[39m*\u001b[39mkwds):\n\u001b[0;32m   2273\u001b[0m \u001b[39m    \u001b[39m\u001b[39m\"\"\"Percent point function (inverse of `cdf`) at q of the given RV.\u001b[39;00m\n\u001b[0;32m   2274\u001b[0m \n\u001b[0;32m   2275\u001b[0m \u001b[39m    Parameters\u001b[39;00m\n\u001b[1;32m   (...)\u001b[0m\n\u001b[0;32m   2291\u001b[0m \n\u001b[0;32m   2292\u001b[0m \u001b[39m    \"\"\"\u001b[39;00m\n\u001b[1;32m-> 2293\u001b[0m     args, loc, scale \u001b[39m=\u001b[39m \u001b[39mself\u001b[39;49m\u001b[39m.\u001b[39;49m_parse_args(\u001b[39m*\u001b[39;49margs, \u001b[39m*\u001b[39;49m\u001b[39m*\u001b[39;49mkwds)\n\u001b[0;32m   2294\u001b[0m     q, loc, scale \u001b[39m=\u001b[39m \u001b[39mmap\u001b[39m(asarray, (q, loc, scale))\n\u001b[0;32m   2295\u001b[0m     args \u001b[39m=\u001b[39m \u001b[39mtuple\u001b[39m(\u001b[39mmap\u001b[39m(asarray, args))\n",
      "\u001b[1;31mTypeError\u001b[0m: _parse_args() missing 1 required positional argument: 'df'"
     ]
    }
   ],
   "source": [
    "print('''평균 혈압차의 신뢰구간이란, 주어진 유의수준에서 남학생/여학생 평균 혈압 차이가 어느 범위 밖을 벗어나면 서로 다르다고 결정하게 되는데, 이 범위를 말한다.\n",
    "      - 남학생/여학생을 대상으로 여러 차례 샘플링하여 그 차이를 구했을 때, \n",
    "      - 남학생/여학생 모집단에 유의미한 차이가 없다면, 그 샘플 간 차이는 0을 중심으로 하는 정규분포를 이룰 것이다.\n",
    "\n",
    "      - 유의수준 5%라면, 양측 검정 시 하위 0.025, 상위 0.025를 제외한 확률 구간이 된다.\n",
    "''')\n",
    "\n",
    "from scipy.stats import t\n",
    "\n",
    "t.ppf(0.025,)"
   ]
  },
  {
   "cell_type": "code",
   "execution_count": null,
   "id": "cf14d13e",
   "metadata": {},
   "outputs": [],
   "source": []
  },
  {
   "cell_type": "code",
   "execution_count": 4,
   "id": "ee255f0c",
   "metadata": {},
   "outputs": [
    {
     "data": {
      "text/plain": [
       "5.296527777777783"
      ]
     },
     "execution_count": 4,
     "metadata": {},
     "output_type": "execute_result"
    }
   ],
   "source": [
    "male.mean() - female.mean()"
   ]
  },
  {
   "cell_type": "code",
   "execution_count": 5,
   "id": "8f161466",
   "metadata": {
    "scrolled": false
   },
   "outputs": [],
   "source": [
    "#평균과 신뢰구간\n",
    "from numpy import array,mean\n",
    "from scipy.stats import sem,t\n",
    "import numpy as np\n"
   ]
  },
  {
   "cell_type": "code",
   "execution_count": 6,
   "id": "a0a4f33a",
   "metadata": {
    "scrolled": true
   },
   "outputs": [
    {
     "data": {
      "text/plain": [
       "1.3813481801194591"
      ]
     },
     "execution_count": 6,
     "metadata": {},
     "output_type": "execute_result"
    }
   ],
   "source": [
    "test_result.statistic"
   ]
  },
  {
   "cell_type": "code",
   "execution_count": 7,
   "id": "a9ea9031",
   "metadata": {},
   "outputs": [
    {
     "data": {
      "text/plain": [
       "-2.068657610419041"
      ]
     },
     "execution_count": 7,
     "metadata": {},
     "output_type": "execute_result"
    }
   ],
   "source": [
    "t._ppf(0.025,(len(male)+len(female)-2)) ## 작은 값쪽 기각역 \n",
    "## t분포를 따르는 값 _ppf ( a/2 , n1 -1 +  n2 -1 )"
   ]
  },
  {
   "cell_type": "code",
   "execution_count": 8,
   "id": "9e8bdba0",
   "metadata": {},
   "outputs": [],
   "source": [
    "## 기각역 : [-2.068,2.068]\n"
   ]
  },
  {
   "cell_type": "code",
   "execution_count": 9,
   "id": "94a7601c",
   "metadata": {},
   "outputs": [],
   "source": [
    "## 신뢰구간은?? 결국 기각역에 Sp/sqrt(1/n1 + 1/n2) 를 해주면 된다. \n",
    "\n",
    "\n",
    "## 신뢰구간이 필요한건, 변환을 시켜서 가져가는 것이 아닌, 원본 데이터의 구간이 궁금!!!! "
   ]
  },
  {
   "cell_type": "code",
   "execution_count": 10,
   "id": "a5516805",
   "metadata": {},
   "outputs": [],
   "source": [
    "## 통합 표준편차를 구하는 공식이 복잡하므로 함수를 만들어 사용 \n",
    "def sp(data1, data2) : \n",
    "    df = len(data) + len(data2) -2\n",
    "    s1 = (len(data1)-1) * (data1.std()**2)\n",
    "    s2 = (len(data2)-1) * (data2.std()**2)\n",
    "    sp = np.sqrt((s1+s2)/ df)\n",
    "    return sp \n",
    "    "
   ]
  },
  {
   "cell_type": "code",
   "execution_count": 11,
   "id": "4c3fc024",
   "metadata": {},
   "outputs": [
    {
     "data": {
      "text/plain": [
       "7.801682371761947"
      ]
     },
     "execution_count": 11,
     "metadata": {},
     "output_type": "execute_result"
    }
   ],
   "source": [
    "sp(male,female)"
   ]
  },
  {
   "cell_type": "code",
   "execution_count": 12,
   "id": "80ee9c9d",
   "metadata": {},
   "outputs": [
    {
     "data": {
      "text/plain": [
       "-2.801911391044692"
      ]
     },
     "execution_count": 12,
     "metadata": {},
     "output_type": "execute_result"
    }
   ],
   "source": [
    "ci_v = t._ppf(0.025,(len(male)+len(female)-2)) * sp(male,female) * (1/len(male) + 1/len(female))\n",
    "ci_v"
   ]
  },
  {
   "cell_type": "code",
   "execution_count": 13,
   "id": "b5b5a008",
   "metadata": {},
   "outputs": [],
   "source": [
    "## 이제 우리의 관심은 다시 male.mean() - female.mean()"
   ]
  },
  {
   "cell_type": "code",
   "execution_count": 14,
   "id": "6b2b6bd9",
   "metadata": {},
   "outputs": [
    {
     "data": {
      "text/plain": [
       "0.1178638181758219"
      ]
     },
     "execution_count": 14,
     "metadata": {},
     "output_type": "execute_result"
    }
   ],
   "source": [
    "(male.mean() - female.mean())/sp(male,female) * (1/len(male) + 1/len(female))"
   ]
  },
  {
   "cell_type": "code",
   "execution_count": 15,
   "id": "9c8f3752",
   "metadata": {},
   "outputs": [
    {
     "data": {
      "text/plain": [
       "8.098439168822475"
      ]
     },
     "execution_count": 15,
     "metadata": {},
     "output_type": "execute_result"
    }
   ],
   "source": [
    "male.mean() - female.mean() - t._ppf(0.025,(len(male)+len(female)-2)) * sp(male,female) * (1/len(male) + 1/len(female))"
   ]
  },
  {
   "cell_type": "code",
   "execution_count": 16,
   "id": "910041ee",
   "metadata": {},
   "outputs": [
    {
     "data": {
      "text/plain": [
       "2.494616386733091"
      ]
     },
     "execution_count": 16,
     "metadata": {},
     "output_type": "execute_result"
    }
   ],
   "source": [
    "male.mean() - female.mean() + t._ppf(0.025,(len(male)+len(female)-2)) * sp(male,female) * (1/len(male) + 1/len(female))"
   ]
  },
  {
   "cell_type": "code",
   "execution_count": 17,
   "id": "c75f250c",
   "metadata": {},
   "outputs": [
    {
     "data": {
      "text/plain": [
       "(2.4946163867330915, 8.098439168822473)"
      ]
     },
     "execution_count": 17,
     "metadata": {},
     "output_type": "execute_result"
    }
   ],
   "source": [
    "alpha = 0.95 \n",
    "dof = len(male) + len(female) -2\n",
    "diff_mean = male.mean() - female.mean()\n",
    "s =  sp(male,female) * (1/len(male) + 1/len(female))\n",
    "\n",
    "CI = t.interval(alpha, dof, loc = diff_mean, scale = s) \n",
    "CI"
   ]
  },
  {
   "cell_type": "markdown",
   "id": "94336134",
   "metadata": {},
   "source": [
    "## 신뢰구간 : [2.495 , 8.098]  \n",
    "* 소숫점 4째 자리 반올림 \n",
    "\n",
    "우리가 검정에 사용했던 남자평균 - 여자평균의 값이 5.29*** 이었으므로 신뢰구간을 구한 결과도 앞선 독립 2표본 t검정 결과를 지지한다. \n"
   ]
  }
 ],
 "metadata": {
  "kernelspec": {
   "display_name": "Python 3 (ipykernel)",
   "language": "python",
   "name": "python3"
  },
  "language_info": {
   "codemirror_mode": {
    "name": "ipython",
    "version": 3
   },
   "file_extension": ".py",
   "mimetype": "text/x-python",
   "name": "python",
   "nbconvert_exporter": "python",
   "pygments_lexer": "ipython3",
   "version": "3.11.5"
  },
  "toc": {
   "base_numbering": 1,
   "nav_menu": {},
   "number_sections": false,
   "sideBar": true,
   "skip_h1_title": false,
   "title_cell": "Table of Contents",
   "title_sidebar": "Contents",
   "toc_cell": false,
   "toc_position": {
    "height": "calc(100% - 180px)",
    "left": "10px",
    "top": "150px",
    "width": "284.418px"
   },
   "toc_section_display": true,
   "toc_window_display": false
  }
 },
 "nbformat": 4,
 "nbformat_minor": 5
}
