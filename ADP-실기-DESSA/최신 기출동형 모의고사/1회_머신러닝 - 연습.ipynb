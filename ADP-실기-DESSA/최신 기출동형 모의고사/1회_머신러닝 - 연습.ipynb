{
 "cells": [
  {
   "cell_type": "markdown",
   "metadata": {},
   "source": [
    "# 21회 모의고사\n",
    "\n",
    "## 머신 러닝 (50점)\n",
    "데이터 : 학생 성적에 관한 데이터세트 제공 394행짜리 소규모 데이터.\n",
    "\n",
    "1-1. 시각화 포함 탐색적 자료분석을 시행하시오. (EDA) <br>\n",
    "1-2. 결측치 식별하고 결측치를 예측하는 두 가지 방법 정도를 쓰고, 선택한 이유를 설명하시오.<br>\n",
    "1-3. 범주형 변수 인코딩이 필요한 경우를 식별하고, 변환을 적용하시오. 선택한 이유를 설명하시오.<br>\n",
    "1.4. 데이터 분할 방법을 2가지 쓰고 적절한 데이터 분할을 적용. 선택한 이유 설명하시오.<br>\n",
    "1.5. svm, xgboost, randomforest 3개의 알고리즘 공통점을 쓰고 학생성적 예측 분석에 적합한 알고리즘인지 설명하시오.<br>\n",
    "1.6. 세 가지 모델 모두 모델링 해보고 가장 적합한 알고리즘 선택하고 이유 설명. 한계점 설명하고 보완 가능한 부분 설명하고, <br>\n",
    "현업에서 사용시 주의할 점 등에 대해 기술하시오.<br>"
   ]
  },
  {
   "cell_type": "code",
   "execution_count": 2,
   "metadata": {},
   "outputs": [
    {
     "data": {
      "text/html": [
       "<div>\n",
       "<style scoped>\n",
       "    .dataframe tbody tr th:only-of-type {\n",
       "        vertical-align: middle;\n",
       "    }\n",
       "\n",
       "    .dataframe tbody tr th {\n",
       "        vertical-align: top;\n",
       "    }\n",
       "\n",
       "    .dataframe thead th {\n",
       "        text-align: right;\n",
       "    }\n",
       "</style>\n",
       "<table border=\"1\" class=\"dataframe\">\n",
       "  <thead>\n",
       "    <tr style=\"text-align: right;\">\n",
       "      <th></th>\n",
       "      <th>school</th>\n",
       "      <th>sex</th>\n",
       "      <th>paid</th>\n",
       "      <th>activities</th>\n",
       "      <th>famrel</th>\n",
       "      <th>freetime</th>\n",
       "      <th>goout</th>\n",
       "      <th>Dalc</th>\n",
       "      <th>Walc</th>\n",
       "      <th>health</th>\n",
       "      <th>absences</th>\n",
       "      <th>grade</th>\n",
       "      <th>G1</th>\n",
       "      <th>G2</th>\n",
       "    </tr>\n",
       "  </thead>\n",
       "  <tbody>\n",
       "    <tr>\n",
       "      <th>0</th>\n",
       "      <td>GP</td>\n",
       "      <td>F</td>\n",
       "      <td>no</td>\n",
       "      <td>no</td>\n",
       "      <td>4.0</td>\n",
       "      <td>3.0</td>\n",
       "      <td>4.0</td>\n",
       "      <td>1.0</td>\n",
       "      <td>1.0</td>\n",
       "      <td>3.0</td>\n",
       "      <td>6.0</td>\n",
       "      <td>6</td>\n",
       "      <td>5</td>\n",
       "      <td>6</td>\n",
       "    </tr>\n",
       "    <tr>\n",
       "      <th>1</th>\n",
       "      <td>GP</td>\n",
       "      <td>F</td>\n",
       "      <td>no</td>\n",
       "      <td>no</td>\n",
       "      <td>5.0</td>\n",
       "      <td>3.0</td>\n",
       "      <td>3.0</td>\n",
       "      <td>1.0</td>\n",
       "      <td>1.0</td>\n",
       "      <td>3.0</td>\n",
       "      <td>4.0</td>\n",
       "      <td>5</td>\n",
       "      <td>5</td>\n",
       "      <td>5</td>\n",
       "    </tr>\n",
       "    <tr>\n",
       "      <th>2</th>\n",
       "      <td>GP</td>\n",
       "      <td>F</td>\n",
       "      <td>yes</td>\n",
       "      <td>no</td>\n",
       "      <td>4.0</td>\n",
       "      <td>3.0</td>\n",
       "      <td>2.0</td>\n",
       "      <td>2.0</td>\n",
       "      <td>3.0</td>\n",
       "      <td>3.0</td>\n",
       "      <td>10.0</td>\n",
       "      <td>8</td>\n",
       "      <td>7</td>\n",
       "      <td>8</td>\n",
       "    </tr>\n",
       "  </tbody>\n",
       "</table>\n",
       "</div>"
      ],
      "text/plain": [
       "  school sex paid activities  famrel  freetime  goout  Dalc  Walc  health  \\\n",
       "0     GP   F   no         no     4.0       3.0    4.0   1.0   1.0     3.0   \n",
       "1     GP   F   no         no     5.0       3.0    3.0   1.0   1.0     3.0   \n",
       "2     GP   F  yes         no     4.0       3.0    2.0   2.0   3.0     3.0   \n",
       "\n",
       "   absences  grade  G1  G2  \n",
       "0       6.0      6   5   6  \n",
       "1       4.0      5   5   5  \n",
       "2      10.0      8   7   8  "
      ]
     },
     "execution_count": 2,
     "metadata": {},
     "output_type": "execute_result"
    }
   ],
   "source": [
    "import pandas as pd\n",
    "import numpy as np \n",
    "df = pd.read_csv(\"../data/student_data.csv\")\n",
    "df.head(3)"
   ]
  },
  {
   "cell_type": "code",
   "execution_count": 8,
   "metadata": {},
   "outputs": [],
   "source": [
    "nom_cols=[]\n",
    "num_cols=[] \n",
    "for col in df.columns:\n",
    "    if df[col].dtype == 'object':\n",
    "        nom_cols.append(col)\n",
    "    elif df[col].dtype == 'float64' or df[col].dtype == 'int64':\n",
    "        num_cols.append(col)"
   ]
  },
  {
   "cell_type": "code",
   "execution_count": 23,
   "metadata": {},
   "outputs": [
    {
     "name": "stdout",
     "output_type": "stream",
     "text": [
      "['school', 'sex', 'paid', 'activities']는 수치형 변수이다.\n",
      "school\n",
      "GP    349\n",
      "MS     46\n",
      "Name: count, dtype: int64\n",
      "sex\n",
      "F    208\n",
      "M    187\n",
      "Name: count, dtype: int64\n",
      "paid\n",
      "no     214\n",
      "yes    181\n",
      "Name: count, dtype: int64\n",
      "activities\n",
      "yes    201\n",
      "no     194\n",
      "Name: count, dtype: int64\n",
      "모두 2항 범주형 변수이다.\n"
     ]
    }
   ],
   "source": [
    "print(f'{nom_cols}는 수치형 변수이다.')\n",
    "for col in nom_cols:\n",
    "    print(df[col].value_counts())\n",
    "\n",
    "print('모두 2항 범주형 변수이다.')"
   ]
  },
  {
   "cell_type": "code",
   "execution_count": 22,
   "metadata": {},
   "outputs": [
    {
     "name": "stdout",
     "output_type": "stream",
     "text": [
      "['famrel', 'freetime', 'goout', 'Dalc', 'Walc', 'health', 'absences', 'grade', 'G1', 'G2']는 수치형 변수이다.\n",
      "famrel\n",
      "4.0    194\n",
      "5.0    106\n",
      "3.0     68\n",
      "2.0     18\n",
      "1.0      8\n",
      "Name: count, dtype: int64\n",
      "freetime\n",
      "3.0    157\n",
      "4.0    114\n",
      "2.0     64\n",
      "5.0     40\n",
      "1.0     18\n",
      "Name: count, dtype: int64\n",
      "goout\n",
      "3.0    128\n",
      "2.0    103\n",
      "4.0     86\n",
      "5.0     53\n",
      "1.0     22\n",
      "Name: count, dtype: int64\n",
      "Dalc\n",
      "1.0    274\n",
      "2.0     75\n",
      "3.0     25\n",
      "4.0      9\n",
      "5.0      8\n",
      "Name: count, dtype: int64\n",
      "Walc\n",
      "1.0    151\n",
      "2.0     85\n",
      "3.0     79\n",
      "4.0     50\n",
      "5.0     28\n",
      "Name: count, dtype: int64\n",
      "health\n",
      "5.0    145\n",
      "3.0     90\n",
      "4.0     66\n",
      "1.0     46\n",
      "2.0     44\n",
      "Name: count, dtype: int64\n",
      "absences\n",
      "0.0     115\n",
      "2.0      65\n",
      "4.0      52\n",
      "6.0      31\n",
      "8.0      22\n",
      "10.0     16\n",
      "14.0     12\n",
      "12.0     12\n",
      "3.0       8\n",
      "7.0       7\n",
      "16.0      6\n",
      "5.0       5\n",
      "18.0      5\n",
      "20.0      4\n",
      "11.0      3\n",
      "9.0       3\n",
      "13.0      3\n",
      "15.0      3\n",
      "22.0      3\n",
      "1.0       3\n",
      "38.0      1\n",
      "30.0      1\n",
      "40.0      1\n",
      "23.0      1\n",
      "19.0      1\n",
      "28.0      1\n",
      "75.0      1\n",
      "21.0      1\n",
      "24.0      1\n",
      "56.0      1\n",
      "26.0      1\n",
      "54.0      1\n",
      "25.0      1\n",
      "17.0      1\n",
      "Name: count, dtype: int64\n",
      "grade\n",
      "9     50\n",
      "11    40\n",
      "12    39\n",
      "10    36\n",
      "13    34\n",
      "15    31\n",
      "8     29\n",
      "14    28\n",
      "7     19\n",
      "6     17\n",
      "4     15\n",
      "5     12\n",
      "16    12\n",
      "17     9\n",
      "18     9\n",
      "2      7\n",
      "19     4\n",
      "3      3\n",
      "1      1\n",
      "Name: count, dtype: int64\n",
      "G1\n",
      "10    51\n",
      "8     41\n",
      "11    39\n",
      "7     37\n",
      "12    35\n",
      "13    33\n",
      "9     31\n",
      "14    30\n",
      "15    24\n",
      "6     24\n",
      "16    22\n",
      "18     8\n",
      "17     8\n",
      "5      7\n",
      "19     3\n",
      "4      1\n",
      "3      1\n",
      "Name: count, dtype: int64\n",
      "G2\n",
      "9     50\n",
      "10    46\n",
      "12    41\n",
      "13    37\n",
      "11    35\n",
      "15    34\n",
      "8     32\n",
      "14    23\n",
      "7     21\n",
      "5     15\n",
      "6     14\n",
      "16    13\n",
      "0     13\n",
      "18    12\n",
      "17     5\n",
      "19     3\n",
      "4      1\n",
      "Name: count, dtype: int64\n",
      "그 중에서도 \n",
      "      [famrel, freetime, goout, Dalc, Walc, health]는 5점 스케일의 서열척도이고,\n",
      "      [absences, grade, G1, G2]는 정수 형식의 수치형변수이다.\n"
     ]
    }
   ],
   "source": [
    "print(f'{num_cols}는 수치형 변수이다.')\n",
    "for col in num_cols:\n",
    "    print(df[col].value_counts())\n",
    "\n",
    "print('''그 중에서도 \n",
    "      [famrel, freetime, goout, Dalc, Walc, health]는 5점 스케일의 서열척도이고,\n",
    "      [absences, grade, G1, G2]는 정수 형식의 수치형변수이다.''')"
   ]
  },
  {
   "cell_type": "markdown",
   "metadata": {},
   "source": [
    "## 1-1. 시각화 포함 탐색적 자료분석(EDA)\n",
    "\n",
    "DataFrame.info() 함수를 통해 데이터 타입 및 결측치 확인"
   ]
  },
  {
   "cell_type": "code",
   "execution_count": 33,
   "metadata": {},
   "outputs": [
    {
     "name": "stdout",
     "output_type": "stream",
     "text": [
      "결측치를 갖는 열과 결측치 수는 아래와 같다.\n",
      "famrel      1\n",
      "freetime    2\n",
      "goout       3\n",
      "Dalc        4\n",
      "Walc        2\n",
      "health      4\n",
      "absences    3\n",
      "dtype: int64\n"
     ]
    }
   ],
   "source": [
    "nul_df = df.isnull().sum()\n",
    "nul_df = nul_df[nul_df > 0]\n",
    "nul_cols = nul_df.index.tolist()\n",
    "\n",
    "print(f'결측치를 갖는 열과 결측치 수는 아래와 같다.')\n",
    "print(nul_df)"
   ]
  },
  {
   "cell_type": "code",
   "execution_count": 34,
   "metadata": {},
   "outputs": [
    {
     "data": {
      "text/plain": [
       "<Axes: >"
      ]
     },
     "execution_count": 34,
     "metadata": {},
     "output_type": "execute_result"
    },
    {
     "data": {
      "image/png": "[encoded data removed]",
      "text/plain": [
       "<Figure size 640x480 with 1 Axes>"
      ]
     },
     "metadata": {},
     "output_type": "display_data"
    }
   ],
   "source": [
    "df[nul_cols].plot(kind='box')\n",
    "print('famrel, freetime, Dalc, absences는 극단값들을 갖는 것으로 보인다.')"
   ]
  },
  {
   "cell_type": "code",
   "execution_count": 46,
   "metadata": {},
   "outputs": [
    {
     "name": "stdout",
     "output_type": "stream",
     "text": [
      "famrel has 26 outliers\n",
      "freetime has 18 outliers\n",
      "Dalc has 17 outliers\n",
      "absences has 15 outliers\n"
     ]
    }
   ],
   "source": [
    "outlier_cols = ['famrel', 'freetime', 'Dalc', 'absences']\n",
    "\n",
    "for col in outlier_cols:\n",
    "    IQR = df[col].quantile(0.75) - df[col].quantile(0.25)\n",
    "    UTV = df[col].quantile(0.75) + 1.5*IQR\n",
    "    LTV = df[col].quantile(0.25) - 1.5*IQR\n",
    "    outlier_count = df[(df[col] > UTV) | (df[col] < LTV)].shape[0]\n",
    "    print(f'{col} has {outlier_count} outliers')"
   ]
  },
  {
   "cell_type": "markdown",
   "metadata": {},
   "source": [
    "## 종속변수 분포 확인"
   ]
  },
  {
   "cell_type": "markdown",
   "metadata": {},
   "source": [
    "종속변수 학생 성적에 대한 분포를 확인한 결과 평균 근처에 관측치가 많은 정규분포 형태를 띄었다. \n",
    "Shapriro test 결과도 p-value가 0.05이하로 정규성을 띄고 있음을 확인할 수 있었다. \n",
    "\n",
    "또한 해당 종속변수의 값이 정규성을 띄고 다양한 값이 있으므로 다중 classification으로 예측하는 것보다는 회귀분석을 진행하는 것이 좋아보인다. "
   ]
  },
  {
   "cell_type": "markdown",
   "metadata": {},
   "source": [
    "## 독립변수 EDA "
   ]
  },
  {
   "cell_type": "markdown",
   "metadata": {},
   "source": [
    "## 범주형 변수 시각화 "
   ]
  },
  {
   "cell_type": "markdown",
   "metadata": {},
   "source": [
    "변수 해석 6가지 \n",
    " \n",
    "1. 결측치 존재 여부 \n",
    "- 전체 데이터에서 famrel, goout, Dalc, Walc, absences의 변수에서 결측치가 존재한다. \n",
    "- 결측치의 개수는 전체 1% 채 되지 않는 19개이다. \n",
    "- 결측치가 존재하는 변수들은 flat64형태로 평균으로 대체하거나 KNN을 사용할 수 있을 것으로 보인다. \n",
    "\n",
    "2. 데이터 타입 설명 \n",
    "- 종속변수는 int형, 독립변수는 object와 float형태로 구성되어 있다. object타입은 인코딩을 통하여 변환해줄 필요가 있어보인다. \n",
    "\n",
    "3. 종속변수 분포 설명 \n",
    "- 종속변수의 분포는 정규분포를 띈다. (위에서 설명함) \n",
    "\n",
    "4. 종속변수와 독립변수의 상관관계 설명 \n",
    "- 종속변수 grade와의 상관계수를 확인해 보았을 때, 수치형 변수에서는 큰 상관성이 없었다. 파생변수를 활용할 필요가 있어보인다. \n",
    "\n",
    "5. 독립변수 상관관계 설명 \n",
    "- 독립변수끼리의 상관관계를 확인해본 결과 다중공선성을 걱정할 만큼(0.9이상) 독립변수끼리의 상관성이 큰 변수는 보이지 않았다. \n",
    "- 하지만 G1과 G2의 관계는 서로 높으므로 주의할 필요가 있다. \n",
    "\n",
    "6. 유의할 점 (pandas_profiling의 warrning 값 설명) \n",
    "- 독립변수 중 school의 경우 비대칭성이 있으므로 주의하여야한다. "
   ]
  },
  {
   "cell_type": "markdown",
   "metadata": {},
   "source": [
    "## 1-2. 결측치 식별하고 결측치를 예측하는 두 가지 방법 정도를 쓰고, 선택한 이유를 설명하시오.\n"
   ]
  },
  {
   "cell_type": "markdown",
   "metadata": {},
   "source": [
    "\n",
    "\n",
    "1) 단순 대치법 : 수치형 변수라면, 각 컬럼의 평균이나 중앙값을 사용하여 결측치를 보간할 수 있으며, \n",
    "                 명목형, 범주형 변수라면 최빈값을 사용하여 대치할 수 있습니다. \n",
    "                 \n",
    "2) KNN을 이용한 결측치 대체 : 보간법 중 결측치가 없는 컬럼들의 최근접 이웃 알고리즘을 통해 결측치가 있는 변수 대체를 할 수 있습니다. \n",
    "* 단, KNN을 이용할 때에는 거리 계산이 가능한 수치형 변수만 사용 가능 \n",
    "\n",
    "- 해당 데이터에서는 한 행이 전부 결측치인 경우는 존재하지 않으므로 삭제보다는 대체하는 것이 좋아보인다. 수치형 변수만 결측치가 있으므로 KNN기법을 사용하여 대체하겠다. \n"
   ]
  },
  {
   "cell_type": "markdown",
   "metadata": {},
   "source": [
    "\n",
    "\n",
    "## 1-3. 범주형 변수 인코딩이 필요한 경우를 식별하고, 변환을 적용하시오. 선택한 이유를 설명.\n",
    "\n",
    "\n",
    "1) 이산형 변수 : school , sex ,paid,  activities 이 존재, 이산형 변수이므로 boolean 타입으로 변경하여 KNN을 이용한 결측치 처리와 머신러닝에서 변수사용가능하도록 변환하였다. <br>\n",
    "2) 나머지 변수들은 수치 or 순위형 변수로 판단되므로 원핫인코딩을 하지 않았다. "
   ]
  },
  {
   "cell_type": "markdown",
   "metadata": {},
   "source": [
    "\n",
    "\n",
    "## 1.4. 데이터 분할 방법을 2가지 쓰고 적절한 데이터 분할을 적용. 선택한 이유 설명.\n",
    "\n",
    "1) 랜덤 분할 \n",
    " - train test데이터셋을 나누어서 학습된 데이터를 검증할 수 있음 \n",
    " - 분할 시에 무작위로 사용자가 지정하여 비율로 분할 함 \n",
    " - 전체 분석 데이터 중 머신러닝 모델을 학습시키기 위한 학습용 데이터와 테스트 데이터를 나누어서 적용시키는 이유는 \n",
    "   모델 결과가 다른 데이터에도 적용 가능한지, 일반화가 가능한지를 검증하기 위함이다. \n",
    " \n",
    "2) 층화 추출 기법 \n",
    "- 종속변수의 클래스의 비율이 학습용 데이터와 테스트용 데이터에 비율이 같게 분할함 \n",
    "- 클래스의 편향을 막을 수 있음 \n",
    "- 종속변수가 범주형 변수인 분류분석에 사용 \n",
    "\n",
    "\n",
    "\n",
    "해당 데이터는 종속변수가 연속형이므로, 회귀분석을 사용한다. 그러므로 층화추출기법을 사용한 분할이 아닌 랜덤 샘플링을 통한 분할을 사용하여, 7:3 비율로 분할하였다. \n",
    "\n"
   ]
  },
  {
   "cell_type": "markdown",
   "metadata": {},
   "source": [
    "## 1.5. svm, xgboost, randomforest 3개의 알고리즘 공통점을 쓰고 이 예측 분석에 적합한 알고리즘인지 설명.\n",
    "\n",
    "* 회귀분석과 분류분석을 모두 할 수 있는 분석알고리즘이다. \n",
    "* 모두 범주형 변수를 독립변수로 사용할 수 없어 변환을 해주어야 한다. \n",
    "* 과대 적합 과소적합을 막기위한 매개변수의 설정이 필요하다.\n",
    "\n",
    "* 해당 데이터에서는 종속변수의 값이 연속형이므로 회귀분석이 적합하다. "
   ]
  },
  {
   "cell_type": "markdown",
   "metadata": {},
   "source": [
    "## 1.6. 세 가지 모델 모두 모델링 해보고 가장 적합한 알고리즘 선택하고 이유 설명. 한계점 설명하고 보완 가능한 부분 설명.\n",
    "현업에서 사용시 주의할 점 등에 대해 기술."
   ]
  },
  {
   "cell_type": "markdown",
   "metadata": {},
   "source": [
    "## 해석\n",
    "\n",
    "- 가장적합한 알고리즘 선택 : XGBoost 모델이 가장 정확도가 높고 RMSE값이 낮으므로 예측 분석력이 좋다. \n",
    "- XGBoost 분석결과 가족친밀도인 farmrel변수가 최종 성적에 영향을 많이 주는것으로 보였다. \n",
    "- 한계점 : G1,G2가 grade와의 상관성이 매우 높은 변수이므로 좋은 결과가 나오지만, 해당 변수를 제외하고 분석하였을 때에는 정확도가 매우 낮게 나온다. 주 변수로 G1, G2를 사용할 수는 있지만 이 또한 성적이기 때문에 성적에 영향을 미치는 변수를 찾기에는 어려워보인다. 성적과 밀접 관련이 있는 추가적인 변수를 추가한다면, 모델의 정확성 뿐만이 아니라 의미있는 분석이 될 것이라 생각한다. "
   ]
  },
  {
   "cell_type": "code",
   "execution_count": null,
   "metadata": {},
   "outputs": [],
   "source": []
  }
 ],
 "metadata": {
  "kernelspec": {
   "display_name": "Python 3 (ipykernel)",
   "language": "python",
   "name": "python3"
  },
  "language_info": {
   "codemirror_mode": {
    "name": "ipython",
    "version": 3
   },
   "file_extension": ".py",
   "mimetype": "text/x-python",
   "name": "python",
   "nbconvert_exporter": "python",
   "pygments_lexer": "ipython3",
   "version": "3.11.5"
  },
  "toc": {
   "base_numbering": "17.1",
   "nav_menu": {},
   "number_sections": false,
   "sideBar": true,
   "skip_h1_title": false,
   "title_cell": "Table of Contents",
   "title_sidebar": "Contents",
   "toc_cell": false,
   "toc_position": {
    "height": "779px",
    "left": "120px",
    "top": "80px",
    "width": "165px"
   },
   "toc_section_display": true,
   "toc_window_display": true
  }
 },
 "nbformat": 4,
 "nbformat_minor": 4
}
