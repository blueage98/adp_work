{
 "cells": [
  {
   "cell_type": "markdown",
   "id": "07227032",
   "metadata": {},
   "source": [
    "# 1번 머신러닝 문제 \n",
    "\n",
    "\n",
    "* 데이터 설명 : 신용카드 사기 탐지를 위한 예제 데이터이다. \n",
    "1. Time : 트랜잭션 시간, 의미 없음  \n",
    "2. V1~V28 :사용자 ID 및 민감한 기능(v1-v28)을 보호하기 위해 변환된 정보 \n",
    "3. Amount : 거래금액 \n",
    "4. Class : 0은 정상, 1은 이상치(신용카드 사기) \n",
    "\n",
    "## 1-1 EDA \n",
    "## 1-2 상관관계 시각화 전처리 필요함을 설명 "
   ]
  },
  {
   "cell_type": "code",
   "execution_count": null,
   "id": "c1cb9c4a",
   "metadata": {},
   "outputs": [],
   "source": [
    "print('''데이터 전처리 과정\n",
    "1) EDA\n",
    "      1. 데이터타입 확인 \n",
    "      2. 이상치, 결측치 확인\n",
    "      3. 클래스에 따른 값 범위의 통계적 확인\n",
    "      3. 변수 간 상관관계 확인\n",
    "      4. 다중공선성 확인\n",
    "      5. 클래스 불균형 여부 확인\n",
    "2) 전처리\n",
    "      1. scaling 및 one-hot인코딩 처리\n",
    "      2. 차원축소 시행\n",
    "      3. 클래스 불균형 처리\n",
    "''')"
   ]
  },
  {
   "cell_type": "code",
   "execution_count": 68,
   "id": "44d20bdb",
   "metadata": {
    "scrolled": false
   },
   "outputs": [
    {
     "data": {
      "text/plain": [
       "(1193, 20)"
      ]
     },
     "execution_count": 68,
     "metadata": {},
     "output_type": "execute_result"
    }
   ],
   "source": [
    "import pandas as pd\n",
    "import numpy as np\n",
    "import seaborn as sns\n",
    "import matplotlib.pyplot as plt\n",
    "\n",
    "plt.rcParams['font.size'] = 9\n",
    "plt.rcParams['font.family'] = 'Malgun Gothic'\n",
    "plt.rcParams['axes.unicode_minus'] = False\n",
    "\n",
    "from scipy.stats import zscore\n",
    "pd.set_option('display.max.columns', 20) \n",
    "\n",
    "df= pd.read_csv(\"https://raw.githubusercontent.com/ADPclass/ADP_book_ver01/main/data/27_problem1.csv\")\n",
    "df.shape"
   ]
  },
  {
   "cell_type": "code",
   "execution_count": null,
   "id": "d25d4127",
   "metadata": {},
   "outputs": [],
   "source": [
    "def describeEx(data):\n",
    "    desc = data.describe().T\n",
    "    for i, col in enumerate(data.columns):\n",
    "        outliers = data[np.abs(zscore(data[col])) > 3][col].sort_values()\n",
    "        desc.loc[col,'type'] = str(data[col].dtype)\n",
    "        desc.loc[col,'No.of.outliers'] = outliers.size\n",
    "        desc.loc[col,'outliers min'] = 0 if outliers.size==0 else outliers.values[0]\n",
    "        desc.loc[col,'outliers max'] = 0 if outliers.size==0 else outliers.values[outliers.size-1]\n",
    "        desc.loc[col,'No.of.NAs'] = data[col].isna().sum()\n",
    "    return desc\n",
    "\n",
    "desc = describeEx(df)\n",
    "desc\n",
    "print('''각 설명변수의 값 분포 및 데이터 타입, 결측치, 이상치를 한번에 확인한다.\n",
    "''' )"
   ]
  },
  {
   "cell_type": "code",
   "execution_count": null,
   "id": "66657d85",
   "metadata": {},
   "outputs": [],
   "source": [
    "temp = pd.melt(df, id_vars='Class', value_vars=['V1', 'V2', 'V3', 'V4', 'V5', 'V6', 'V7', 'V8', 'V9', 'V10','V11', 'V12', 'V13', 'V14', 'V15', 'V16', 'V17'])\n",
    "sns.boxplot(hue='Class', x='variable', y='value', data=temp)\n",
    "\n",
    "print('''\n",
    "pd.melt 함수는 주어진 dataframe을 3개의 요소 열로 재편해준다.\n",
    "      기본적으로 여러 개의 변수열(value_vars)에 값이 들어있을 때, [variable:value]의 짝으로 재편하는데, 이 짝에 부여할 id가 있는 경우 id_vars로 할당해준다.\n",
    "      따라서 기본적으로 value_vars만 사용하거나, id_vars를 함께 사용하게 된다.\n",
    "      [변수:값] 짝에 각각 이름을 부여하고 싶은 경우 var_name, value_name을 써서 이름을 할당한다.\n",
    "    id_vars는   \n",
    "''')"
   ]
  },
  {
   "cell_type": "code",
   "execution_count": null,
   "id": "2269a60e",
   "metadata": {},
   "outputs": [],
   "source": [
    "plt.subplots(1,1, figsize=(12, 12))\n",
    "sns.heatmap(df.corr(), annot=True)\n",
    "\n",
    "print('''아래 heatmap에서 보면 \n",
    "      - 검은 색 계통은 높은 음의 상관관계를 보여주고, 노란색이 옅을 수록 높은 양의 상관관계를 보여준다.\n",
    "      - V2, V4, V16, V17 등이 다른 기타 설명변수들과 높은 상관관계를 보인다.\n",
    "      - 실제적으로 문제가 되는 수준일 지 다중공선성 평가가 필요하다.''')\n"
   ]
  },
  {
   "cell_type": "code",
   "execution_count": null,
   "id": "18b690d9",
   "metadata": {},
   "outputs": [],
   "source": [
    "from statsmodels.stats.outliers_influence import variance_inflation_factor\n",
    "\n",
    "X = df.drop(['Class', 'Time'], axis=1)\n",
    "\n",
    "vif = pd.DataFrame()\n",
    "vif[\"VIF Factor\"] = [variance_inflation_factor(X.values, i) for i in range(X.shape[1])]\n",
    "vif[\"features\"] = X.columns\n",
    "vif = vif.sort_values(by='VIF Factor')\n",
    "\n",
    "print('''아래 표에서 보듯 5개의 설명변수가 VIF 계수 5를 초과한다.  \n",
    "      - V14, V3, V10, V16, V12, V17, V7이고 이 중 V7은 거의 10에 해당한다.\n",
    "      - 10을 초과하지는 않으므로 반드시 제거할 필요는 없으나, 차원축소 시 모델 성능을 평가해볼 필요가 있다.''')\n",
    "vif"
   ]
  },
  {
   "cell_type": "markdown",
   "id": "e3844893",
   "metadata": {},
   "source": [
    "# 1-2 전처리가 필요함 설명 \n",
    "\n",
    "\n",
    "* 이 데이터 세트는 25,446건의 거래 중 492건의 사기가 있는 거래를 나타냅니다.\n",
    "* 데이터 세트는 매우 불균형하며 긍정적인 클래스(사기)가 모든 거래의 1.93%를 차지합니다.\n",
    "\n",
    "1. 변수별로 이상치가 존재하나, 이상치를 찾아 처리하는 과제이므로 이상치를 제거하지는 않는다. \n",
    "2. 변수간의 상관성이 높아 전처리가 필요한 것은 없어보인다. \n",
    "3. Class 변수의 수를 보면 1이 현저히 작게 분포되어, 클래스의 불균형이 있음을 알 수 있다. \n",
    "  - 오버샘플링 or 언더 샘플링으로 처리가 필요해 보인다. \n",
    "4. Amount의 경우 다른 변수들과의 수치 값의 차이가 커 모델 사용시, scale을 적용할 필요가 있어 보인다. \n"
   ]
  },
  {
   "cell_type": "markdown",
   "id": "bd744b07",
   "metadata": {},
   "source": [
    "# 2번문제 \n",
    "\n",
    "## 2-1 차원축소 방법 2가지 이상 비교하고 한가지 선택 \n",
    "- 주성분분석과 요인분석의 공통점\n",
    "    - 변수축소 기능 \n",
    "    - 데이터의 성질과 특징 탐색\n",
    "    - 다중공선성의 처리되므로 회귀분석 용이\n",
    "    - 차원축소 후 군집분석 시 속도 향상\n",
    "    - 차원축소 후 시계열 분석 시 용이\n",
    "- 주성분분석과의 차이점\n",
    "    - PCA는 데이터의 분산을 가장 많이 설명하는 축/평면을 찾아내는 것임.\n",
    "        - 따라서 도출된 순서대로 기여도(설명력)의 차이가 발생함.\n",
    "        - 따라서 주성분의 개수는 누적 기여도에 따라 임의로 정함\n",
    "        - 의미 불문, 분산이 설명력이 높은 축/평면을 찾은 것이므로 이름을 붙일 수 없음.\n",
    "    - FA는 개념적/논리적으로 비슷한 특성들을 묶어 만드는 것임\n",
    "        - 따라서 도출된 순서는 설명력과 상관이 없고, 우선순위도 없음.\n",
    "        - 따라서 요인의 개수는 제한이 없고, 분석 과정에서 결정이 됨\n",
    "        - 개념적/논리적 의도를 전제하므로 하위 변수들을 토대로 이름을 명명함."
   ]
  },
  {
   "cell_type": "markdown",
   "id": "da8b48c7",
   "metadata": {},
   "source": [
    "## 2-2 추천한 한가지를 실제로 수행하고 선택한 이유 설명 "
   ]
  },
  {
   "cell_type": "code",
   "execution_count": 59,
   "id": "41c389f2",
   "metadata": {},
   "outputs": [
    {
     "name": "stdout",
     "output_type": "stream",
     "text": [
      "주성분 개수를 정하는 방식으로, 전체 기여율이 80%를 초과하는 선에서 결정하는 방식이 있다.\n",
      "      주성분을 기여율이 큰 것부터 4개를 사용하면 전체 분산의 83%가 설명된다.\n",
      "      따라서 필요한 주성분 개수를 4개로 설정할 수 있다.\n",
      "\n"
     ]
    },
    {
     "data": {
      "text/html": [
       "<div>\n",
       "<style scoped>\n",
       "    .dataframe tbody tr th:only-of-type {\n",
       "        vertical-align: middle;\n",
       "    }\n",
       "\n",
       "    .dataframe tbody tr th {\n",
       "        vertical-align: top;\n",
       "    }\n",
       "\n",
       "    .dataframe thead th {\n",
       "        text-align: right;\n",
       "    }\n",
       "</style>\n",
       "<table border=\"1\" class=\"dataframe\">\n",
       "  <thead>\n",
       "    <tr style=\"text-align: right;\">\n",
       "      <th></th>\n",
       "      <th>고유값</th>\n",
       "      <th>기여율</th>\n",
       "      <th>누적기여율</th>\n",
       "    </tr>\n",
       "  </thead>\n",
       "  <tbody>\n",
       "    <tr>\n",
       "      <th>0</th>\n",
       "      <td>82.369767</td>\n",
       "      <td>0.662378</td>\n",
       "      <td>0.662378</td>\n",
       "    </tr>\n",
       "    <tr>\n",
       "      <th>1</th>\n",
       "      <td>9.812672</td>\n",
       "      <td>0.078909</td>\n",
       "      <td>0.741287</td>\n",
       "    </tr>\n",
       "    <tr>\n",
       "      <th>2</th>\n",
       "      <td>6.545275</td>\n",
       "      <td>0.052634</td>\n",
       "      <td>0.793921</td>\n",
       "    </tr>\n",
       "    <tr>\n",
       "      <th>3</th>\n",
       "      <td>4.857248</td>\n",
       "      <td>0.039060</td>\n",
       "      <td>0.832980</td>\n",
       "    </tr>\n",
       "    <tr>\n",
       "      <th>4</th>\n",
       "      <td>4.600214</td>\n",
       "      <td>0.036993</td>\n",
       "      <td>0.869973</td>\n",
       "    </tr>\n",
       "    <tr>\n",
       "      <th>5</th>\n",
       "      <td>2.495256</td>\n",
       "      <td>0.020066</td>\n",
       "      <td>0.890039</td>\n",
       "    </tr>\n",
       "    <tr>\n",
       "      <th>6</th>\n",
       "      <td>1.975951</td>\n",
       "      <td>0.015890</td>\n",
       "      <td>0.905928</td>\n",
       "    </tr>\n",
       "    <tr>\n",
       "      <th>7</th>\n",
       "      <td>1.696062</td>\n",
       "      <td>0.013639</td>\n",
       "      <td>0.919567</td>\n",
       "    </tr>\n",
       "    <tr>\n",
       "      <th>8</th>\n",
       "      <td>1.553235</td>\n",
       "      <td>0.012490</td>\n",
       "      <td>0.932058</td>\n",
       "    </tr>\n",
       "    <tr>\n",
       "      <th>9</th>\n",
       "      <td>1.428780</td>\n",
       "      <td>0.011490</td>\n",
       "      <td>0.943547</td>\n",
       "    </tr>\n",
       "    <tr>\n",
       "      <th>10</th>\n",
       "      <td>1.355660</td>\n",
       "      <td>0.010902</td>\n",
       "      <td>0.954449</td>\n",
       "    </tr>\n",
       "    <tr>\n",
       "      <th>11</th>\n",
       "      <td>1.194738</td>\n",
       "      <td>0.009608</td>\n",
       "      <td>0.964056</td>\n",
       "    </tr>\n",
       "    <tr>\n",
       "      <th>12</th>\n",
       "      <td>1.081578</td>\n",
       "      <td>0.008698</td>\n",
       "      <td>0.972754</td>\n",
       "    </tr>\n",
       "    <tr>\n",
       "      <th>13</th>\n",
       "      <td>0.986962</td>\n",
       "      <td>0.007937</td>\n",
       "      <td>0.980690</td>\n",
       "    </tr>\n",
       "    <tr>\n",
       "      <th>14</th>\n",
       "      <td>0.927565</td>\n",
       "      <td>0.007459</td>\n",
       "      <td>0.988149</td>\n",
       "    </tr>\n",
       "    <tr>\n",
       "      <th>15</th>\n",
       "      <td>0.761258</td>\n",
       "      <td>0.006122</td>\n",
       "      <td>0.994271</td>\n",
       "    </tr>\n",
       "    <tr>\n",
       "      <th>16</th>\n",
       "      <td>0.671577</td>\n",
       "      <td>0.005401</td>\n",
       "      <td>0.999672</td>\n",
       "    </tr>\n",
       "    <tr>\n",
       "      <th>17</th>\n",
       "      <td>0.040839</td>\n",
       "      <td>0.000328</td>\n",
       "      <td>1.000000</td>\n",
       "    </tr>\n",
       "  </tbody>\n",
       "</table>\n",
       "</div>"
      ],
      "text/plain": [
       "          고유값       기여율     누적기여율\n",
       "0   82.369767  0.662378  0.662378\n",
       "1    9.812672  0.078909  0.741287\n",
       "2    6.545275  0.052634  0.793921\n",
       "3    4.857248  0.039060  0.832980\n",
       "4    4.600214  0.036993  0.869973\n",
       "5    2.495256  0.020066  0.890039\n",
       "6    1.975951  0.015890  0.905928\n",
       "7    1.696062  0.013639  0.919567\n",
       "8    1.553235  0.012490  0.932058\n",
       "9    1.428780  0.011490  0.943547\n",
       "10   1.355660  0.010902  0.954449\n",
       "11   1.194738  0.009608  0.964056\n",
       "12   1.081578  0.008698  0.972754\n",
       "13   0.986962  0.007937  0.980690\n",
       "14   0.927565  0.007459  0.988149\n",
       "15   0.761258  0.006122  0.994271\n",
       "16   0.671577  0.005401  0.999672\n",
       "17   0.040839  0.000328  1.000000"
      ]
     },
     "execution_count": 59,
     "metadata": {},
     "output_type": "execute_result"
    }
   ],
   "source": [
    "from sklearn.decomposition import PCA\n",
    "from sklearn.preprocessing import MinMaxScaler\n",
    "\n",
    "features = df.drop(['Time', 'Class', 'Amount'], axis=1)\n",
    "\n",
    "# 변수간의 스케일이 차이가 나면 스케일 큰 변수가 주성분에 영향을 많이 주기 때문에 주성분 분석 전에 변수를 표준화한다.\n",
    "# 해당 데이터의 v1 - v28은 값의 큰 차이가 없으므로 Amount만 -1~1 값으로 표준화 시키도록 하겠다. \n",
    "minmax= MinMaxScaler(feature_range=(-3,3))\n",
    "features['Amount'] = minmax.fit_transform(df[[\"Amount\"]])\n",
    "\n",
    "pca = PCA(n_components=features.shape[1], svd_solver='auto')\n",
    "pca_fit = pca.fit(features)\n",
    "\n",
    "#전체 분산의 80%를 설명하기 위해 필요한 주성분 개수로 결정\n",
    "e_value = pd.DataFrame({'고유값':pca_fit.explained_variance_, '기여율':pca_fit.explained_variance_ratio_})\n",
    "e_value['누적기여율'] = e_value['기여율'].cumsum()\n",
    "\n",
    "print('''주성분 개수를 정하는 방식으로, 전체 기여율이 80%를 초과하는 선에서 결정하는 방식이 있다.\n",
    "      주성분을 기여율이 큰 것부터 4개를 사용하면 전체 분산의 83%가 설명된다.\n",
    "      따라서 필요한 주성분 개수를 4개로 설정할 수 있다.\n",
    "''')\n",
    "e_value"
   ]
  },
  {
   "cell_type": "code",
   "execution_count": 63,
   "id": "d54ea1bc",
   "metadata": {},
   "outputs": [
    {
     "data": {
      "text/plain": [
       "Text(0.5, 1.0, 'Scree plot')"
      ]
     },
     "execution_count": 63,
     "metadata": {},
     "output_type": "execute_result"
    },
    {
     "data": {
      "image/png": "[encoded data removed]",
      "text/plain": [
       "<Figure size 1000x500 with 1 Axes>"
      ]
     },
     "metadata": {},
     "output_type": "display_data"
    }
   ],
   "source": [
    "# PCA 고유값 기여율로 Scree plot을 그렸을 때 기울기가 완만해지는 지점으로 주성분 개수 결정\n",
    "fig, ax = plt.subplots(1, 1, figsize=(10,5))\n",
    "sns.lineplot(x=e_value.index, y='기여율', marker='o', data=e_value, ax=ax)\n",
    "ax.grid()\n",
    "ax.set_title('Scree plot', fontsize=18, pad=9)\n"
   ]
  },
  {
   "cell_type": "markdown",
   "id": "4ef34320",
   "metadata": {},
   "source": [
    "- 우선, 해당 데이터의 의미를 정확하게 이해하고 있지 못할 때에는 분석가의 주관적인 견해가 들어가는 요인분석은 사용하기가 어렵다. (미리 가정을 하고 분석하는 것에 어울림) \n",
    "- PCA는 데이터간의 선형 관계만을 가지고 판단하고, 주어진 데이터를 최대한 보존하여 저차원의 데이터를 얻을 수 있으므로 지금과 같은 가명처리 되어있는 변수에 적합한 기법이라 판단하였다. "
   ]
  },
  {
   "cell_type": "markdown",
   "id": "0acbd4f7",
   "metadata": {},
   "source": [
    "## 2-1 문제 풀이 \n",
    "\n",
    "### 1. 요인분석(FA , Factor Analysis)\n",
    "\n",
    "- 요인분석은 수집된 많은 변수들이 있을 때, 유사한 항목들(공통차원)들끼리 묵어서 처리하는 기법이다. 이 때에는 독립변수와 종속변수의 개념이 없으며, 모든 변수들간의 관계를 분석함으로써 공통요인을 분석가의 판단으로 묵어서 처리할 수 있다. \n",
    "\n",
    "### 2. PCA  주성분분석\n",
    "* 주성분분석이란 데이터에 여러 변수들이 있을 때, 서로 상관성이 높은 변수들의 선형결합으로 이루어진 \"주성분\"이라는 새로운 변수를 만들어 변수들을 요약하고 축소하는 기법 \n",
    "<br>\n",
    "\n",
    "### <b> 선택 : 해당 데이터에 어울리는 분석은 PCA이다. </b>\n",
    "\n"
   ]
  },
  {
   "cell_type": "markdown",
   "id": "5fe9b999",
   "metadata": {},
   "source": [
    "## 2-2 문제풀이 \n",
    "\n",
    "* 변수간의 스케일이 차이가 나면 스케일 큰 변수가 주성분에 영향을 많이 주기 때문에 주성분 분석 전에 변수를 표준화나 \n",
    "  정규화시켜주는 것이 좋지만, 해당 데이터의 v1 - v28은 값의 큰 차이가 없으므로 Amount만 -1~1 값으로 표준화 시키도록 하겠다. \n",
    "  \n",
    "* 파이썬에서 주성분분석을 수행할 수 있는 기본적인 함수는 sklearn의 PCA함수이다. \n",
    "* pca.explained_variance_ratio_를 통해서 또는 Scree Plot으로 주성분의 설명력을 확인 할 수 있다. \n",
    "* PCA함수는 공분산행렬의 고유벡터를 구하는 방법을 사용한다. \n",
    "\n",
    "\n",
    "\n",
    "\n",
    "\n",
    "1. 추천한 이유 \n",
    "\n",
    "- 우선, 해당 데이터의 의미를 정확하게 이해하고 있지 못할 때에는 분석가의 주관적인 견해가 들어가는 요인분석은 사용하기가 어렵다. (미리 가정을 하고 분석하는 것에 어울림) \n",
    "- PCA는 데이터간의 선형 관계만을 가지고 판단하고, 주어진 데이터를 최대한 보존하여 저차원의 데이터를 얻을 수 있으므로 지금과 같은 가명처리 되어있는 변수에 적합한 기법이라 판단하였다. \n",
    "<br>\n",
    "\n"
   ]
  },
  {
   "cell_type": "code",
   "execution_count": 64,
   "id": "ab939140",
   "metadata": {},
   "outputs": [
    {
     "data": {
      "text/plain": [
       "array([[-0.94639854],\n",
       "       [-1.        ],\n",
       "       [-0.99029298],\n",
       "       ...,\n",
       "       [-0.97168836],\n",
       "       [-0.91006466],\n",
       "       [-0.99646254]])"
      ]
     },
     "execution_count": 64,
     "metadata": {},
     "output_type": "execute_result"
    }
   ],
   "source": [
    "from sklearn.preprocessing import MinMaxScaler\n",
    "scaler = MinMaxScaler(feature_range=(-1, 1), copy=True)\n",
    "scaled_Amount = scaler.fit(df[[\"Amount\"]])\n",
    "scaled_Amount.transform(df[[\"Amount\"]])"
   ]
  },
  {
   "cell_type": "code",
   "execution_count": 65,
   "id": "813a6066",
   "metadata": {},
   "outputs": [],
   "source": [
    "df[\"Scaled_Amount\"] = scaler.transform(df[[\"Amount\"]])"
   ]
  },
  {
   "cell_type": "code",
   "execution_count": 66,
   "id": "be68d5ea",
   "metadata": {
    "scrolled": true
   },
   "outputs": [
    {
     "data": {
      "text/plain": [
       "Index(['V1', 'V2', 'V3', 'V4', 'V5', 'V6', 'V7', 'V8', 'V9', 'V10', 'V11',\n",
       "       'V12', 'V13', 'V14', 'V15', 'V16', 'V17', 'Scaled_Amount'],\n",
       "      dtype='object')"
      ]
     },
     "execution_count": 66,
     "metadata": {},
     "output_type": "execute_result"
    }
   ],
   "source": [
    "#차원을 축소할 데이터만 추출\n",
    "features = df.columns.drop([\"Time\",\"Class\",\"Amount\"])\n",
    "features"
   ]
  },
  {
   "cell_type": "code",
   "execution_count": 67,
   "id": "62d4cd4f",
   "metadata": {},
   "outputs": [
    {
     "ename": "ValueError",
     "evalue": "n_components=29 must be between 0 and min(n_samples, n_features)=18 with svd_solver='covariance_eigh'",
     "output_type": "error",
     "traceback": [
      "\u001b[1;31m---------------------------------------------------------------------------\u001b[0m",
      "\u001b[1;31mValueError\u001b[0m                                Traceback (most recent call last)",
      "\u001b[1;32md:\\python\\git_workspace\\adp_work\\ADP-실기-DESSA\\최신 기출동형 모의고사\\5회_1~4번문제풀이_EDA_시대고시 - 연습.ipynb Cell 19\u001b[0m line \u001b[0;36m4\n\u001b[0;32m      <a href='vscode-notebook-cell:/d%3A/python/git_workspace/adp_work/ADP-%EC%8B%A4%EA%B8%B0-DESSA/%EC%B5%9C%EC%8B%A0%20%EA%B8%B0%EC%B6%9C%EB%8F%99%ED%98%95%20%EB%AA%A8%EC%9D%98%EA%B3%A0%EC%82%AC/5%ED%9A%8C_1~4%EB%B2%88%EB%AC%B8%EC%A0%9C%ED%92%80%EC%9D%B4_EDA_%EC%8B%9C%EB%8C%80%EA%B3%A0%EC%8B%9C%20-%20%EC%97%B0%EC%8A%B5.ipynb#X22sZmlsZQ%3D%3D?line=1'>2</a>\u001b[0m \u001b[39m## Scree Plot 으로 주성분 개수 정하는 방법 \u001b[39;00m\n\u001b[0;32m      <a href='vscode-notebook-cell:/d%3A/python/git_workspace/adp_work/ADP-%EC%8B%A4%EA%B8%B0-DESSA/%EC%B5%9C%EC%8B%A0%20%EA%B8%B0%EC%B6%9C%EB%8F%99%ED%98%95%20%EB%AA%A8%EC%9D%98%EA%B3%A0%EC%82%AC/5%ED%9A%8C_1~4%EB%B2%88%EB%AC%B8%EC%A0%9C%ED%92%80%EC%9D%B4_EDA_%EC%8B%9C%EB%8C%80%EA%B3%A0%EC%8B%9C%20-%20%EC%97%B0%EC%8A%B5.ipynb#X22sZmlsZQ%3D%3D?line=2'>3</a>\u001b[0m pca \u001b[39m=\u001b[39m PCA(n_components\u001b[39m=\u001b[39m\u001b[39m29\u001b[39m)\n\u001b[1;32m----> <a href='vscode-notebook-cell:/d%3A/python/git_workspace/adp_work/ADP-%EC%8B%A4%EA%B8%B0-DESSA/%EC%B5%9C%EC%8B%A0%20%EA%B8%B0%EC%B6%9C%EB%8F%99%ED%98%95%20%EB%AA%A8%EC%9D%98%EA%B3%A0%EC%82%AC/5%ED%9A%8C_1~4%EB%B2%88%EB%AC%B8%EC%A0%9C%ED%92%80%EC%9D%B4_EDA_%EC%8B%9C%EB%8C%80%EA%B3%A0%EC%8B%9C%20-%20%EC%97%B0%EC%8A%B5.ipynb#X22sZmlsZQ%3D%3D?line=3'>4</a>\u001b[0m pca_fit \u001b[39m=\u001b[39m pca\u001b[39m.\u001b[39;49mfit(df[features])\n",
      "File \u001b[1;32mc:\\Users\\lsel\\AppData\\Local\\Programs\\Python\\Python311\\Lib\\site-packages\\sklearn\\base.py:1365\u001b[0m, in \u001b[0;36m_fit_context.<locals>.decorator.<locals>.wrapper\u001b[1;34m(estimator, *args, **kwargs)\u001b[0m\n\u001b[0;32m   1358\u001b[0m     estimator\u001b[39m.\u001b[39m_validate_params()\n\u001b[0;32m   1360\u001b[0m \u001b[39mwith\u001b[39;00m config_context(\n\u001b[0;32m   1361\u001b[0m     skip_parameter_validation\u001b[39m=\u001b[39m(\n\u001b[0;32m   1362\u001b[0m         prefer_skip_nested_validation \u001b[39mor\u001b[39;00m global_skip_validation\n\u001b[0;32m   1363\u001b[0m     )\n\u001b[0;32m   1364\u001b[0m ):\n\u001b[1;32m-> 1365\u001b[0m     \u001b[39mreturn\u001b[39;00m fit_method(estimator, \u001b[39m*\u001b[39;49margs, \u001b[39m*\u001b[39;49m\u001b[39m*\u001b[39;49mkwargs)\n",
      "File \u001b[1;32mc:\\Users\\lsel\\AppData\\Local\\Programs\\Python\\Python311\\Lib\\site-packages\\sklearn\\decomposition\\_pca.py:440\u001b[0m, in \u001b[0;36mPCA.fit\u001b[1;34m(self, X, y)\u001b[0m\n\u001b[0;32m    422\u001b[0m \u001b[39m@_fit_context\u001b[39m(prefer_skip_nested_validation\u001b[39m=\u001b[39m\u001b[39mTrue\u001b[39;00m)\n\u001b[0;32m    423\u001b[0m \u001b[39mdef\u001b[39;00m \u001b[39mfit\u001b[39m(\u001b[39mself\u001b[39m, X, y\u001b[39m=\u001b[39m\u001b[39mNone\u001b[39;00m):\n\u001b[0;32m    424\u001b[0m \u001b[39m    \u001b[39m\u001b[39m\"\"\"Fit the model with X.\u001b[39;00m\n\u001b[0;32m    425\u001b[0m \n\u001b[0;32m    426\u001b[0m \u001b[39m    Parameters\u001b[39;00m\n\u001b[1;32m   (...)\u001b[0m\n\u001b[0;32m    438\u001b[0m \u001b[39m        Returns the instance itself.\u001b[39;00m\n\u001b[0;32m    439\u001b[0m \u001b[39m    \"\"\"\u001b[39;00m\n\u001b[1;32m--> 440\u001b[0m     \u001b[39mself\u001b[39;49m\u001b[39m.\u001b[39;49m_fit(X)\n\u001b[0;32m    441\u001b[0m     \u001b[39mreturn\u001b[39;00m \u001b[39mself\u001b[39m\n",
      "File \u001b[1;32mc:\\Users\\lsel\\AppData\\Local\\Programs\\Python\\Python311\\Lib\\site-packages\\sklearn\\decomposition\\_pca.py:540\u001b[0m, in \u001b[0;36mPCA._fit\u001b[1;34m(self, X)\u001b[0m\n\u001b[0;32m    538\u001b[0m \u001b[39m# Call different fits for either full or truncated SVD\u001b[39;00m\n\u001b[0;32m    539\u001b[0m \u001b[39mif\u001b[39;00m \u001b[39mself\u001b[39m\u001b[39m.\u001b[39m_fit_svd_solver \u001b[39min\u001b[39;00m (\u001b[39m\"\u001b[39m\u001b[39mfull\u001b[39m\u001b[39m\"\u001b[39m, \u001b[39m\"\u001b[39m\u001b[39mcovariance_eigh\u001b[39m\u001b[39m\"\u001b[39m):\n\u001b[1;32m--> 540\u001b[0m     \u001b[39mreturn\u001b[39;00m \u001b[39mself\u001b[39;49m\u001b[39m.\u001b[39;49m_fit_full(X, n_components, xp, is_array_api_compliant)\n\u001b[0;32m    541\u001b[0m \u001b[39melif\u001b[39;00m \u001b[39mself\u001b[39m\u001b[39m.\u001b[39m_fit_svd_solver \u001b[39min\u001b[39;00m [\u001b[39m\"\u001b[39m\u001b[39marpack\u001b[39m\u001b[39m\"\u001b[39m, \u001b[39m\"\u001b[39m\u001b[39mrandomized\u001b[39m\u001b[39m\"\u001b[39m]:\n\u001b[0;32m    542\u001b[0m     \u001b[39mreturn\u001b[39;00m \u001b[39mself\u001b[39m\u001b[39m.\u001b[39m_fit_truncated(X, n_components, xp)\n",
      "File \u001b[1;32mc:\\Users\\lsel\\AppData\\Local\\Programs\\Python\\Python311\\Lib\\site-packages\\sklearn\\decomposition\\_pca.py:554\u001b[0m, in \u001b[0;36mPCA._fit_full\u001b[1;34m(self, X, n_components, xp, is_array_api_compliant)\u001b[0m\n\u001b[0;32m    550\u001b[0m         \u001b[39mraise\u001b[39;00m \u001b[39mValueError\u001b[39;00m(\n\u001b[0;32m    551\u001b[0m             \u001b[39m\"\u001b[39m\u001b[39mn_components=\u001b[39m\u001b[39m'\u001b[39m\u001b[39mmle\u001b[39m\u001b[39m'\u001b[39m\u001b[39m is only supported if n_samples >= n_features\u001b[39m\u001b[39m\"\u001b[39m\n\u001b[0;32m    552\u001b[0m         )\n\u001b[0;32m    553\u001b[0m \u001b[39melif\u001b[39;00m \u001b[39mnot\u001b[39;00m \u001b[39m0\u001b[39m \u001b[39m<\u001b[39m\u001b[39m=\u001b[39m n_components \u001b[39m<\u001b[39m\u001b[39m=\u001b[39m \u001b[39mmin\u001b[39m(n_samples, n_features):\n\u001b[1;32m--> 554\u001b[0m     \u001b[39mraise\u001b[39;00m \u001b[39mValueError\u001b[39;00m(\n\u001b[0;32m    555\u001b[0m         \u001b[39mf\u001b[39m\u001b[39m\"\u001b[39m\u001b[39mn_components=\u001b[39m\u001b[39m{\u001b[39;00mn_components\u001b[39m}\u001b[39;00m\u001b[39m must be between 0 and \u001b[39m\u001b[39m\"\u001b[39m\n\u001b[0;32m    556\u001b[0m         \u001b[39mf\u001b[39m\u001b[39m\"\u001b[39m\u001b[39mmin(n_samples, n_features)=\u001b[39m\u001b[39m{\u001b[39;00m\u001b[39mmin\u001b[39m(n_samples,\u001b[39m \u001b[39mn_features)\u001b[39m}\u001b[39;00m\u001b[39m with \u001b[39m\u001b[39m\"\u001b[39m\n\u001b[0;32m    557\u001b[0m         \u001b[39mf\u001b[39m\u001b[39m\"\u001b[39m\u001b[39msvd_solver=\u001b[39m\u001b[39m{\u001b[39;00m\u001b[39mself\u001b[39m\u001b[39m.\u001b[39m_fit_svd_solver\u001b[39m!r}\u001b[39;00m\u001b[39m\"\u001b[39m\n\u001b[0;32m    558\u001b[0m     )\n\u001b[0;32m    560\u001b[0m \u001b[39mself\u001b[39m\u001b[39m.\u001b[39mmean_ \u001b[39m=\u001b[39m xp\u001b[39m.\u001b[39mmean(X, axis\u001b[39m=\u001b[39m\u001b[39m0\u001b[39m)\n\u001b[0;32m    561\u001b[0m \u001b[39m# When X is a scipy sparse matrix, self.mean_ is a numpy matrix, so we need\u001b[39;00m\n\u001b[0;32m    562\u001b[0m \u001b[39m# to transform it to a 1D array. Note that this is not the case when X\u001b[39;00m\n\u001b[0;32m    563\u001b[0m \u001b[39m# is a scipy sparse array.\u001b[39;00m\n\u001b[0;32m    564\u001b[0m \u001b[39m# TODO: remove the following two lines when scikit-learn only depends\u001b[39;00m\n\u001b[0;32m    565\u001b[0m \u001b[39m# on scipy versions that no longer support scipy.sparse matrices.\u001b[39;00m\n",
      "\u001b[1;31mValueError\u001b[0m: n_components=29 must be between 0 and min(n_samples, n_features)=18 with svd_solver='covariance_eigh'"
     ]
    }
   ],
   "source": [
    "from sklearn.decomposition import PCA\n",
    "## Scree Plot 으로 주성분 개수 정하는 방법 \n",
    "pca = PCA(n_components=29)\n",
    "pca_fit = pca.fit(df[features])"
   ]
  },
  {
   "cell_type": "code",
   "execution_count": 11,
   "id": "f96c2338",
   "metadata": {},
   "outputs": [
    {
     "name": "stdout",
     "output_type": "stream",
     "text": [
      "\n",
      " ==================== PCA Result Summary ===================\n",
      "\n",
      "고유 값 : \n",
      " [567.40353285 313.45944868 268.76925763 247.49557957 245.21558213\n",
      " 234.06558568 220.88939828 215.16741395 206.74283044 176.47206584\n",
      " 173.82711864 167.10086384 161.65414737 159.55696026 156.95791012\n",
      " 145.83772876 141.74985119 139.47656662 133.43897447 131.24172456\n",
      " 127.45072644 116.14690455 103.96599455  96.52319279  84.19066543\n",
      "  76.7381171   66.79198064  46.95762978   1.67231048]\n",
      "\n",
      "분산 설명력: \n",
      " [2.83079430e-01 8.63946745e-02 6.35160417e-02 5.38591053e-02\n",
      " 5.28713463e-02 4.81725206e-02 4.29016491e-02 4.07077635e-02\n",
      " 3.75824560e-02 2.73826945e-02 2.65680270e-02 2.45517036e-02\n",
      " 2.29772444e-02 2.23849305e-02 2.16616062e-02 1.87009654e-02\n",
      " 1.76672708e-02 1.71051441e-02 1.56563180e-02 1.51449589e-02\n",
      " 1.42826526e-02 1.18614975e-02 9.50400961e-03 8.19195579e-03\n",
      " 6.23235418e-03 5.17781488e-03 3.92258972e-03 1.93881592e-03\n",
      " 2.45899739e-06]\n"
     ]
    }
   ],
   "source": [
    "print(\"\\n ==================== PCA Result Summary ===================\")\n",
    "print(\"\\n고유 값 : \\n\",pca.singular_values_)\n",
    "print(\"\\n분산 설명력: \\n\", pca.explained_variance_ratio_)"
   ]
  },
  {
   "cell_type": "markdown",
   "id": "0657cabb",
   "metadata": {},
   "source": [
    "분산설명력은 PCA를 사용했을 때, 주성분 1~29까지가 원본 데이터를 얼마나 설명할 수 있는가를 알려준다. 이를 시각화하여 원본데이터를 설명할 수 있는 최적의 주성분 개수를 파악할 수 있다. "
   ]
  },
  {
   "cell_type": "code",
   "execution_count": 12,
   "id": "aba461c1",
   "metadata": {},
   "outputs": [
    {
     "data": {
      "text/plain": [
       "[<matplotlib.lines.Line2D at 0x1d026bb7b48>]"
      ]
     },
     "execution_count": 12,
     "metadata": {},
     "output_type": "execute_result"
    },
    {
     "data": {
      "image/png": "[encoded data removed]",
      "text/plain": [
       "<Figure size 640x480 with 1 Axes>"
      ]
     },
     "metadata": {},
     "output_type": "display_data"
    }
   ],
   "source": [
    "# Scree Plot \n",
    "import matplotlib.pyplot as plt\n",
    "plt.title('Scree Plot')\n",
    "plt.xlabel('Number of Components')\n",
    "plt.ylabel('Cumulative Explained Variance')\n",
    "plt.plot(pca.explained_variance_ratio_,'o-')"
   ]
  },
  {
   "cell_type": "code",
   "execution_count": 13,
   "id": "e89852c3",
   "metadata": {},
   "outputs": [
    {
     "name": "stdout",
     "output_type": "stream",
     "text": [
      "주성분 3개로 축소할 시 분산설명력 :  43.29901465777061\n",
      "주성분 9개로 축소할 시 분산설명력 :  70.90849873887333\n"
     ]
    }
   ],
   "source": [
    "print(\"주성분 3개로 축소할 시 분산설명력 : \",pca.explained_variance_ratio_[:3].sum()*100) \n",
    "print(\"주성분 9개로 축소할 시 분산설명력 : \",pca.explained_variance_ratio_[:9].sum()*100)"
   ]
  },
  {
   "cell_type": "markdown",
   "id": "281010b7",
   "metadata": {},
   "source": [
    "## 2. PCA 결과 \n",
    "\n",
    "- 해당 데이터는 앞서 주성분 그림만 보아서는 3개의 차원축소 값으로 사용하면 되어 보이지만 분산 설명력이 전체 데이터의 50%도 되지 않으므로 하나의 성분하나하나가 개별적 의미를 가진다고 볼 수 있다. \n",
    "\n",
    "- 그러므로 해당 데이터에서 차원의 축소는 적합하지 않아보인다.\n"
   ]
  },
  {
   "cell_type": "markdown",
   "id": "3abceaa4",
   "metadata": {},
   "source": [
    "## 3.오버샘플링/언더샘플링\n",
    "\n",
    "3.1 오버샘플링과 언더샘플링 장단점 비교 및 선택 구현\n",
    "\n",
    "3.2 분류 분석에 대한 구현 및 알고리즘 2가지 (오버샘플링, 언더샘플링) 비교, 성능 측정\n",
    "\n",
    "3.3 현재까지 전처리한 데이터를 통해 분류 모델 수행 후 결과 분석"
   ]
  },
  {
   "cell_type": "markdown",
   "id": "19adf393",
   "metadata": {},
   "source": [
    "## 답안\n",
    "\n",
    "### 오버샘플링  \n",
    "데이터 세트의 균형을 맞추기 위해 업 샘플링을 적용할 수 있다.\n",
    "대표적으로 랜덤 오버샘플링과 KNN을 이용한 SMOTE기법이 있다.\n",
    "1.  랜덤오버샘플링은 소수 클래스의 정보를 복제하여 다수 클래스의 크기에 맞추는 기법이며, 이는 오버피팅의 우려가 있다.\n",
    "2.  SMOTE는 KNN을 이용하여 최근접 이웃의 거리 계산을 통해 K개의 중간 지점의 데이터를 생성한다. 오버피팅을 막을 수 있으나, 새로운 데이터나 작은 데이터셋에서는 사용하기가 어렵다.\n",
    "\n",
    "### 언더샘플링\n",
    "언더 샘플링은 다수 데이터를 소수 데이터의 크기에 맞추는 기법이다.\n",
    "랜덤 샘플링을 통해 소수의 클래스로 만드는 과정에서 데이터의 손실이 발생하는 문제가 있을 수 있다. 소수 클래스의 크기가 너무 작을 경우 머신러닝 과정에서의 과소적합이 발생할 수 있다.\n",
    "\n",
    "\n",
    "\n",
    "#### 데이터 셋이 크기 때문에 언더샘플링을 하게되면 데이터의 손실이 너무 크므로 오버샘플링 선택\n"
   ]
  },
  {
   "cell_type": "code",
   "execution_count": 14,
   "id": "8173bbd7",
   "metadata": {
    "scrolled": true
   },
   "outputs": [
    {
     "name": "stderr",
     "output_type": "stream",
     "text": [
      "C:\\Users\\jjang\\anaconda3\\envs\\ADP_Class\\lib\\site-packages\\sklearn\\utils\\deprecation.py:87: FutureWarning: Function plot_roc_curve is deprecated; Function :func:`plot_roc_curve` is deprecated in 1.0 and will be removed in 1.2. Use one of the class methods: :meth:`sklearn.metric.RocCurveDisplay.from_predictions` or :meth:`sklearn.metric.RocCurveDisplay.from_estimator`.\n",
      "  warnings.warn(msg, category=FutureWarning)\n"
     ]
    },
    {
     "data": {
      "text/plain": [
       "<sklearn.metrics._plot.roc_curve.RocCurveDisplay at 0x1d02448bdc8>"
      ]
     },
     "execution_count": 14,
     "metadata": {},
     "output_type": "execute_result"
    },
    {
     "data": {
      "image/png": "[encoded data removed]",
      "text/plain": [
       "<Figure size 640x480 with 1 Axes>"
      ]
     },
     "metadata": {},
     "output_type": "display_data"
    }
   ],
   "source": [
    "## 원본 학습 시, 모델 : 컬럼이 많은 데이터셋에서도 적용가능한 랜덤포레스트 앙상블 모델 사용 \n",
    "\n",
    "from sklearn.ensemble import RandomForestClassifier\n",
    "from sklearn.metrics import plot_roc_curve\n",
    "from sklearn.model_selection import train_test_split\n",
    "\n",
    "X = df[features]\n",
    "y = df[\"Class\"]\n",
    "\n",
    "X_train, X_test, y_train, y_test = train_test_split(X, y, test_size=0.3, random_state=321)\n",
    "clf = RandomForestClassifier(random_state=321) \n",
    "clf.fit(X_train,y_train)\n",
    "\n",
    "plot_roc_curve(clf, X_test, y_test)"
   ]
  },
  {
   "cell_type": "code",
   "execution_count": 15,
   "id": "052edf93",
   "metadata": {},
   "outputs": [
    {
     "name": "stderr",
     "output_type": "stream",
     "text": [
      "C:\\Users\\jjang\\anaconda3\\envs\\ADP_Class\\lib\\site-packages\\sklearn\\utils\\deprecation.py:87: FutureWarning: Function plot_roc_curve is deprecated; Function :func:`plot_roc_curve` is deprecated in 1.0 and will be removed in 1.2. Use one of the class methods: :meth:`sklearn.metric.RocCurveDisplay.from_predictions` or :meth:`sklearn.metric.RocCurveDisplay.from_estimator`.\n",
      "  warnings.warn(msg, category=FutureWarning)\n"
     ]
    },
    {
     "data": {
      "text/plain": [
       "<sklearn.metrics._plot.roc_curve.RocCurveDisplay at 0x1d0230307c8>"
      ]
     },
     "execution_count": 15,
     "metadata": {},
     "output_type": "execute_result"
    },
    {
     "data": {
      "image/png": "[encoded data removed]",
      "text/plain": [
       "<Figure size 640x480 with 1 Axes>"
      ]
     },
     "metadata": {},
     "output_type": "display_data"
    }
   ],
   "source": [
    "## 1번 오버샘플링 기법 - 랜덤오버샘플링 \n",
    "import imblearn. over_sampling\n",
    "from imblearn.over_sampling import  RandomOverSampler\n",
    "X_resampled, y_resampled = RandomOverSampler(random_state=0).fit_resample(X_train, y_train)\n",
    "\n",
    "clf_re = RandomForestClassifier(random_state=0) \n",
    "clf_re.fit(X_resampled,y_resampled)\n",
    "\n",
    "plot_roc_curve(clf_re, X_test, y_test)"
   ]
  },
  {
   "cell_type": "code",
   "execution_count": 16,
   "id": "81b892ae",
   "metadata": {},
   "outputs": [
    {
     "name": "stderr",
     "output_type": "stream",
     "text": [
      "C:\\Users\\jjang\\anaconda3\\envs\\ADP_Class\\lib\\site-packages\\sklearn\\utils\\deprecation.py:87: FutureWarning: Function plot_roc_curve is deprecated; Function :func:`plot_roc_curve` is deprecated in 1.0 and will be removed in 1.2. Use one of the class methods: :meth:`sklearn.metric.RocCurveDisplay.from_predictions` or :meth:`sklearn.metric.RocCurveDisplay.from_estimator`.\n",
      "  warnings.warn(msg, category=FutureWarning)\n"
     ]
    },
    {
     "data": {
      "text/plain": [
       "<sklearn.metrics._plot.roc_curve.RocCurveDisplay at 0x1d026d2ecc8>"
      ]
     },
     "execution_count": 16,
     "metadata": {},
     "output_type": "execute_result"
    },
    {
     "data": {
      "image/png": "[encoded data removed]",
      "text/plain": [
       "<Figure size 640x480 with 1 Axes>"
      ]
     },
     "metadata": {},
     "output_type": "display_data"
    }
   ],
   "source": [
    "## 2번 오버샘플링 - SMOTE \n",
    "\n",
    "from imblearn.over_sampling import SMOTE\n",
    "# 모델설정\n",
    "sm = SMOTE( k_neighbors=5,random_state=2020)\n",
    "\n",
    "# train데이터를 넣어 복제함\n",
    "X_resampled_over, y_resampled_over = sm.fit_resample(X_train,y_train)\n",
    "\n",
    "clf_over = RandomForestClassifier(random_state=2020) \n",
    "clf_over.fit(X_resampled_over,y_resampled_over)\n",
    "\n",
    "plot_roc_curve(clf_over, X_test, y_test)"
   ]
  },
  {
   "cell_type": "markdown",
   "id": "487db3f0",
   "metadata": {},
   "source": [
    "## 3.3 현재까지 전처리한 데이터를 통해 모델 수행 후 결과 분석  \n",
    "\n",
    "* 오버샘플링을 2개의 기법 중, SMOTE기법의 AUC가 더 높은 것으로 보아, SMOTE 기법이 불균형한 소수 클래스의 특징을 잘 반영하여 데이터를 생성하였다고 볼 수 있다. \n",
    "\n",
    "* 하지만, 랜덤포래스트와 같은 경우 오버샘플링 기법이 없이도 0.96이라는 높은 예측력을 보이므로, 굳이 가상의 데이터를 만들어 예측력을 높이는 오버샘플링을 적용시킬 필요가 없는 데이터라고 할 수도 있다. "
   ]
  },
  {
   "cell_type": "markdown",
   "id": "5a5581fe",
   "metadata": {},
   "source": [
    "# 4번 \n",
    "\n",
    "4.1 이상탐지 모델 2가지 이상 기술, 장/단점 설명\n",
    "\n",
    "4.2 앞에서 만든 데이터로 한 가지 이상탐지 모델을 구현하고, 3번에서 만든 모델과 비교\n",
    "\n",
    "4.3 데이터분석가 관점에서 3번에서 만든 모델과 4번에서 만든 모델 설명"
   ]
  },
  {
   "cell_type": "markdown",
   "id": "62454297",
   "metadata": {},
   "source": [
    "## 4.1 이상탐지 모델 2가지 이상 기술 장/단점 설명 \n",
    "\n",
    "1. DBSCAN \n",
    "- 클러스터가 더 낮은 밀도의 영역으로 분리된 공간의 밀도가 높은 영역이라는 가정하에 작동한다.\n",
    "- 데이터를 클러스터링하기 위해 DBSCAN 알고리즘은 데이터의 고밀도 영역과 저밀도 영역을 분리합니다. 거리와 군집당 최소 데이터 수를 사용하여 이상 데이터를 특이치로 분류합니다\n",
    "\n",
    "\n",
    "장/단점 \n",
    "- DBSCAM의 경우 주변 데이터에서 멀어지는 데이터의 특징을 찾아서 Class를 분류하기에 0 or 1이 아닌 특이점이라도 발견 할 수 있다. 아웃라이어를 탐색하는데에 적합하다. 하지만, 데이터의 특성을 잘 파악하여 군집 밀도와 최소 데이터 수 등 파라미터를 조정하는 것이 어려운 단점이 있다. \n",
    "\n",
    "\n",
    "2. SVM \n",
    "- 데이터를 선형모델을 분류하고자 할 때, 선형으로 완전히 분류할 수 없는 데이터의 차원을 올려주어 선으로 분류할 수 있게 커널트릭을 사용하여 데이터를 분류하는 방법이다. \n",
    "- SVM 분류 모델은 데이터 공간에 존재하는 경계로 표현되며, 데이터를 분류하는 여러 경계 중에서 가장 큰 마진으로 갖는 경계를 찾는다. 이 경계를 이용하여 이상치 Class1을 찾을 때에 이 모델을 사용할 수 있다. \n",
    "\n",
    "장/단점 \n",
    "- SVM의 경우는 비선형 분류에도 사용되어 오류 데이터에 대한 영향이 거의 없으므로, 과적합되는 경우가 적다. 즉, 오류가 많을 경우에는 해당 모델이 강점을 보일 수 있다. \n",
    "- 하지만, SVM은 학습속도가 느리고,  해석이 어렵고 복잡한 모델이라는 단점이있다. "
   ]
  },
  {
   "cell_type": "markdown",
   "id": "2309cb41",
   "metadata": {},
   "source": [
    "## 4.2 앞에서 만든 데이터로 한 가지 이상탐지 모델을 구현하고, 3번에서 만든 모델과 비교"
   ]
  },
  {
   "cell_type": "markdown",
   "id": "0111582f",
   "metadata": {},
   "source": [
    "- DBSCAN 이상탐지를 이용하기 위해서 적절한 epsilon 과 minPoints 값을 찾아야 한다. \n",
    "- epsilon 의 경우 K-distance 그래프를 사용하여 판단할 수 있다. \n",
    "- K 거리 그래프를 그리려면 데이터 세트의 모든 데이터 포인트에 대해 포인트와 가장 가까운 데이터 포인트 사이의 거리가 필요한데, sklearn.neighbors 에서 NearestNeighbors를 사용하여, 거리를 알 수 있다."
   ]
  },
  {
   "cell_type": "code",
   "execution_count": 17,
   "id": "f10633ce",
   "metadata": {},
   "outputs": [],
   "source": [
    "## 예제 데이터가 너무 크므로, 학습 속도를 위해 랜덤샘플링 // 아마 실제 시험에서는 이정도로 큰 데이터는 제시하지 않을 것입니다. 샘플사이즈를 1/5 줄여서 학습시키겠습니다. \n",
    "features.drop(\"Scaled_Amount\")\n",
    "df_sample = df.sample(n=5000)\n",
    "df_sample = df_sample.drop(df_sample[df_sample[\"Class\"]==1].index)\n",
    "df_outlier = df[df[\"Class\"]==1].sample(n=60)\n",
    "df_sample_com = pd.concat([df_sample,df_outlier])\n",
    "X_sp = df_sample_com[features]\n",
    "y_sp = df_sample_com[\"Class\"]"
   ]
  },
  {
   "cell_type": "code",
   "execution_count": 18,
   "id": "16ca3934",
   "metadata": {
    "scrolled": true
   },
   "outputs": [
    {
     "data": {
      "text/plain": [
       "array([[5.96046448e-08, 1.71158266e+00],\n",
       "       [0.00000000e+00, 6.08443073e-01],\n",
       "       [0.00000000e+00, 2.53024732e+00],\n",
       "       ...,\n",
       "       [0.00000000e+00, 1.10404818e+01],\n",
       "       [0.00000000e+00, 3.47969765e+00],\n",
       "       [0.00000000e+00, 7.22497784e+00]])"
      ]
     },
     "execution_count": 18,
     "metadata": {},
     "output_type": "execute_result"
    }
   ],
   "source": [
    "from sklearn.neighbors import NearestNeighbors\n",
    "import numpy as np \n",
    "neigh = NearestNeighbors(n_neighbors=2)\n",
    "nbrs = neigh.fit(X_sp)\n",
    "distances, indices = nbrs.kneighbors(X_sp)\n",
    " \n",
    "#거리 변수는 데이터 세트의 모든 데이터 포인트에 대해 데이터 포인트와 가장 가까운 데이터 포인트 사이의 거리 배열을 포함\n",
    "\n",
    "distances"
   ]
  },
  {
   "cell_type": "code",
   "execution_count": 19,
   "id": "9c88ae3b",
   "metadata": {},
   "outputs": [
    {
     "data": {
      "image/png": "[encoded data removed]",
      "text/plain": [
       "<Figure size 2000x1000 with 1 Axes>"
      ]
     },
     "metadata": {},
     "output_type": "display_data"
    }
   ],
   "source": [
    "\n",
    "# Plotting K-distance Graph\n",
    "distances = np.sort(distances, axis=0)\n",
    "distances = distances[:,1]\n",
    "plt.figure(figsize=(20,10))\n",
    "plt.plot(distances)\n",
    "plt.title('K-distance Graph',fontsize=20)\n",
    "plt.xlabel('Data Points sorted by distance',fontsize=14)\n",
    "plt.ylabel('Epsilon',fontsize=14)\n",
    "plt.show()"
   ]
  },
  {
   "cell_type": "markdown",
   "id": "017af5e2",
   "metadata": {},
   "source": [
    "#엡실론 의 최적 값은 K-거리 그래프에서 최대 곡률 지점에 있으며 이 경우 5정도로 지정해주겠습니다. 이제 minPoints 의 값을 찾을 차례입니다 . minPoints 의 값 도 도메인 지식에 따라 다릅니다. 이번에는 minPoints를 10으로 사용합니다.\n",
    "\n",
    "모#델이 취하는 두 가지 가장 중요한 매개변수 값은 (i) 두 포인트 사이의 거리를 지정하는 esp 입니다. 즉, 클러스터의 일부로 간주되기 위해 데이터 포인트가 서로 얼마나 가까워야 하는지를 지정합니다. (ii) min_samples는 포인트가 클러스터에 있어야 하는 최소 이웃 수를 지정합니다."
   ]
  },
  {
   "cell_type": "code",
   "execution_count": 24,
   "id": "9019b26f",
   "metadata": {},
   "outputs": [
    {
     "data": {
      "text/plain": [
       "53"
      ]
     },
     "execution_count": 24,
     "metadata": {},
     "output_type": "execute_result"
    }
   ],
   "source": [
    "from sklearn.cluster import DBSCAN\n",
    "from sklearn.preprocessing import StandardScaler\n",
    "\n",
    "# scale data first\n",
    "\n",
    "db = DBSCAN(eps=6, min_samples=10).fit(X_sp)\n",
    "labels = db.labels_\n",
    "\n",
    "data = pd.DataFrame()\n",
    "data[\"Class\"] = y_sp.copy()\n",
    "data[\"labels\"] = labels\n",
    "data.loc[data[\"labels\"]==-1,'Class'].sum()"
   ]
  },
  {
   "cell_type": "markdown",
   "id": "2c9d1b4a",
   "metadata": {},
   "source": [
    "## 60개의 이상치 중 53개를 분류해내었다. \n",
    " - DBSCAN의 놀라운 점은 데이터 세트에서 노이즈를 꽤 잘 분리한다. \n",
    " - 여기서 0은 양호한 클러스터이고 -1은 노이즈입니다."
   ]
  },
  {
   "cell_type": "code",
   "execution_count": 25,
   "id": "58ff62fc",
   "metadata": {
    "scrolled": true
   },
   "outputs": [
    {
     "data": {
      "text/plain": [
       "Class     60\n",
       "labels   -53\n",
       "dtype: int64"
      ]
     },
     "execution_count": 25,
     "metadata": {},
     "output_type": "execute_result"
    }
   ],
   "source": [
    "data[data[\"Class\"]==1].sum()"
   ]
  },
  {
   "cell_type": "code",
   "execution_count": 26,
   "id": "2b9f467c",
   "metadata": {},
   "outputs": [
    {
     "data": {
      "text/html": [
       "<div>\n",
       "<style scoped>\n",
       "    .dataframe tbody tr th:only-of-type {\n",
       "        vertical-align: middle;\n",
       "    }\n",
       "\n",
       "    .dataframe tbody tr th {\n",
       "        vertical-align: top;\n",
       "    }\n",
       "\n",
       "    .dataframe thead th {\n",
       "        text-align: right;\n",
       "    }\n",
       "</style>\n",
       "<table border=\"1\" class=\"dataframe\">\n",
       "  <thead>\n",
       "    <tr style=\"text-align: right;\">\n",
       "      <th></th>\n",
       "      <th>Class</th>\n",
       "      <th>labels</th>\n",
       "    </tr>\n",
       "  </thead>\n",
       "  <tbody>\n",
       "    <tr>\n",
       "      <th>13781</th>\n",
       "      <td>0</td>\n",
       "      <td>-1</td>\n",
       "    </tr>\n",
       "    <tr>\n",
       "      <th>21351</th>\n",
       "      <td>0</td>\n",
       "      <td>-1</td>\n",
       "    </tr>\n",
       "    <tr>\n",
       "      <th>3546</th>\n",
       "      <td>0</td>\n",
       "      <td>-1</td>\n",
       "    </tr>\n",
       "    <tr>\n",
       "      <th>9744</th>\n",
       "      <td>0</td>\n",
       "      <td>-1</td>\n",
       "    </tr>\n",
       "    <tr>\n",
       "      <th>8105</th>\n",
       "      <td>0</td>\n",
       "      <td>-1</td>\n",
       "    </tr>\n",
       "    <tr>\n",
       "      <th>...</th>\n",
       "      <td>...</td>\n",
       "      <td>...</td>\n",
       "    </tr>\n",
       "    <tr>\n",
       "      <th>25342</th>\n",
       "      <td>1</td>\n",
       "      <td>-1</td>\n",
       "    </tr>\n",
       "    <tr>\n",
       "      <th>25080</th>\n",
       "      <td>1</td>\n",
       "      <td>-1</td>\n",
       "    </tr>\n",
       "    <tr>\n",
       "      <th>24978</th>\n",
       "      <td>1</td>\n",
       "      <td>-1</td>\n",
       "    </tr>\n",
       "    <tr>\n",
       "      <th>25397</th>\n",
       "      <td>1</td>\n",
       "      <td>-1</td>\n",
       "    </tr>\n",
       "    <tr>\n",
       "      <th>25301</th>\n",
       "      <td>1</td>\n",
       "      <td>-1</td>\n",
       "    </tr>\n",
       "  </tbody>\n",
       "</table>\n",
       "<p>152 rows × 2 columns</p>\n",
       "</div>"
      ],
      "text/plain": [
       "       Class  labels\n",
       "13781      0      -1\n",
       "21351      0      -1\n",
       "3546       0      -1\n",
       "9744       0      -1\n",
       "8105       0      -1\n",
       "...      ...     ...\n",
       "25342      1      -1\n",
       "25080      1      -1\n",
       "24978      1      -1\n",
       "25397      1      -1\n",
       "25301      1      -1\n",
       "\n",
       "[152 rows x 2 columns]"
      ]
     },
     "execution_count": 26,
     "metadata": {},
     "output_type": "execute_result"
    }
   ],
   "source": [
    "data.loc[data[\"labels\"]==-1]"
   ]
  },
  {
   "cell_type": "code",
   "execution_count": 66,
   "id": "34a3c5c4",
   "metadata": {},
   "outputs": [
    {
     "data": {
      "text/plain": [
       "array([[4822,   99],\n",
       "       [   7,   53]], dtype=int64)"
      ]
     },
     "execution_count": 66,
     "metadata": {},
     "output_type": "execute_result"
    }
   ],
   "source": [
    "from sklearn.metrics import confusion_matrix\n",
    "from sklearn import metrics\n",
    "\n",
    "## CM을 그리기 위해서 -1을 Class와 같이 1로 변경) \n",
    "data.loc[data.labels==-1, \"labels\"] = 1\n",
    "confusion_matrix(data.Class,data.labels)"
   ]
  },
  {
   "cell_type": "code",
   "execution_count": 67,
   "id": "7c728d25",
   "metadata": {},
   "outputs": [
    {
     "name": "stdout",
     "output_type": "stream",
     "text": [
      "정확도: 0.9787191327042762\n",
      "정밀도: 0.34868421052631576\n",
      "재현율: 0.8833333333333333\n",
      "f1 점수: 0.5\n"
     ]
    }
   ],
   "source": [
    "accuracy = metrics.accuracy_score(data.Class,data.labels)\n",
    "print(\"정확도:\", accuracy)\n",
    "\n",
    "precision = metrics.precision_score(data.Class,data.labels)\n",
    "print(\"정밀도:\", precision)\n",
    "\n",
    "recall = metrics.recall_score(data.Class,data.labels)\n",
    "print(\"재현율:\", recall)\n",
    "\n",
    "f1 = metrics.f1_score(data.Class,data.labels)\n",
    "print(\"f1 점수:\", f1)"
   ]
  },
  {
   "cell_type": "markdown",
   "id": "aa0d9c9e",
   "metadata": {},
   "source": [
    "## 4.3 데이터분석가 관점에서 3번에서 만든 모델과 4번에서 만든 모델 설명"
   ]
  },
  {
   "cell_type": "markdown",
   "id": "4e6bf825",
   "metadata": {},
   "source": [
    "# 결론\n",
    " - labels 가 -1이면서 Class가 0인 고객은 위험군으로 분류할 수 있다. \n",
    " - 4번 모델에서 labels 가 -1이면서 Class가 0인 고객은 위험군으로 분류할 수 있다. 분류의 정확도만 보자면 3번의 RandomForest 모델의 정확도가 훨씬 높아 사기를 당할 확률을 예상할 때에는 RandomForest모델이 좋아보인다. 하지만, 0과 1의 분류가 아닌 정상의 범주를 벗어나는 여러 케이스가 있을 경우에는 분류해내기 어렵다. 하지만 DBSCAN과 같은 거리기반 이상치 탐지는 정상으로 분류되지 않은 이상치를 가지고 위험군으로 관리할 수 있는 장점이 있다.\n"
   ]
  },
  {
   "cell_type": "code",
   "execution_count": null,
   "id": "7cc98ed3",
   "metadata": {},
   "outputs": [],
   "source": []
  }
 ],
 "metadata": {
  "kernelspec": {
   "display_name": "Python 3 (ipykernel)",
   "language": "python",
   "name": "python3"
  },
  "language_info": {
   "codemirror_mode": {
    "name": "ipython",
    "version": 3
   },
   "file_extension": ".py",
   "mimetype": "text/x-python",
   "name": "python",
   "nbconvert_exporter": "python",
   "pygments_lexer": "ipython3",
   "version": "3.11.5"
  },
  "toc": {
   "base_numbering": 1,
   "nav_menu": {},
   "number_sections": false,
   "sideBar": true,
   "skip_h1_title": false,
   "title_cell": "Table of Contents",
   "title_sidebar": "Contents",
   "toc_cell": false,
   "toc_position": {
    "height": "calc(100% - 180px)",
    "left": "10px",
    "top": "150px",
    "width": "284.444px"
   },
   "toc_section_display": true,
   "toc_window_display": false
  }
 },
 "nbformat": 4,
 "nbformat_minor": 5
}
