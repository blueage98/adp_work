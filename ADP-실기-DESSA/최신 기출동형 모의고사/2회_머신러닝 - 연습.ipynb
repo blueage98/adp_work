{
 "cells": [
  {
   "cell_type": "markdown",
   "id": "ff2d1cbc",
   "metadata": {
    "toc": true
   },
   "source": [
    "<h1>Table of Contents<span class=\"tocSkip\"></span></h1>\n",
    "<div class=\"toc\"><ul class=\"toc-item\"><li><span><a href=\"#1.-기계학습(50점)\" data-toc-modified-id=\"1.-기계학습(50점)-1\"><span class=\"toc-item-num\">1&nbsp;&nbsp;</span>1. 기계학습(50점)</a></span><ul class=\"toc-item\"><li><span><a href=\"#1.1-데이터-탐색\" data-toc-modified-id=\"1.1-데이터-탐색-1.1\"><span class=\"toc-item-num\">1.1&nbsp;&nbsp;</span>1.1 데이터 탐색</a></span><ul class=\"toc-item\"><li><span><a href=\"#1.1.2.-앞선-두-단계에서-얻은-향후-분석시-고려사항-작성\" data-toc-modified-id=\"1.1.2.-앞선-두-단계에서-얻은-향후-분석시-고려사항-작성-1.1.1\"><span class=\"toc-item-num\">1.1.1&nbsp;&nbsp;</span>1.1.2. 앞선 두 단계에서 얻은 향후 분석시 고려사항 작성</a></span></li></ul></li><li><span><a href=\"#1.2-클래스-불균형을-처리하시오.\" data-toc-modified-id=\"1.2-클래스-불균형을-처리하시오.-1.2\"><span class=\"toc-item-num\">1.2&nbsp;&nbsp;</span>1.2 클래스 불균형을 처리하시오.</a></span><ul class=\"toc-item\"><li><span><a href=\"#1.2.1.-업-샘플링-과정-설명하고-결과-작성\" data-toc-modified-id=\"1.2.1.-업-샘플링-과정-설명하고-결과-작성-1.2.1\"><span class=\"toc-item-num\">1.2.1&nbsp;&nbsp;</span>1.2.1. 업 샘플링 과정 설명하고 결과 작성</a></span></li><li><span><a href=\"#1.2.2-언더-샘플링-과정-설명하고-결과-작성\" data-toc-modified-id=\"1.2.2-언더-샘플링-과정-설명하고-결과-작성-1.2.2\"><span class=\"toc-item-num\">1.2.2&nbsp;&nbsp;</span>1.2.2 언더 샘플링 과정 설명하고 결과 작성</a></span></li><li><span><a href=\"#1.2.3-둘-중-선택하고-이유-설명\" data-toc-modified-id=\"1.2.3-둘-중-선택하고-이유-설명-1.2.3\"><span class=\"toc-item-num\">1.2.3&nbsp;&nbsp;</span>1.2.3 둘 중 선택하고 이유 설명</a></span></li></ul></li><li><span><a href=\"#1.3.-모델링-하시오\" data-toc-modified-id=\"1.3.-모델링-하시오-1.3\"><span class=\"toc-item-num\">1.3&nbsp;&nbsp;</span>1.3. 모델링 하시오</a></span><ul class=\"toc-item\"><li><span><a href=\"#1.3.1.-최소-3개-이상-알고리즘-제시하고-정확도-측면의-모델-1개와-속도-측면의-모델-1개를-꼭-구현(총-2개-이상)\" data-toc-modified-id=\"1.3.1.-최소-3개-이상-알고리즘-제시하고-정확도-측면의-모델-1개와-속도-측면의-모델-1개를-꼭-구현(총-2개-이상)-1.3.1\"><span class=\"toc-item-num\">1.3.1&nbsp;&nbsp;</span>1.3.1. 최소 3개 이상 알고리즘 제시하고 정확도 측면의 모델 1개와 속도 측면의 모델 1개를 꼭 구현(총 2개 이상)</a></span></li><li><span><a href=\"#1.3.2.-모델-비교하고-결과-설명\" data-toc-modified-id=\"1.3.2.-모델-비교하고-결과-설명-1.3.2\"><span class=\"toc-item-num\">1.3.2&nbsp;&nbsp;</span>1.3.2. 모델 비교하고 결과 설명</a></span></li><li><span><a href=\"#1.3.3.-속도-개선을-위한-차원-축소-설명하고-수행,-예측-성능과-속도-비교하고-결과-작성\" data-toc-modified-id=\"1.3.3.-속도-개선을-위한-차원-축소-설명하고-수행,-예측-성능과-속도-비교하고-결과-작성-1.3.3\"><span class=\"toc-item-num\">1.3.3&nbsp;&nbsp;</span>1.3.3. 속도 개선을 위한 차원 축소 설명하고 수행, 예측 성능과 속도 비교하고 결과 작성</a></span></li></ul></li></ul></li></ul></div>"
   ]
  },
  {
   "cell_type": "markdown",
   "id": "912df639",
   "metadata": {},
   "source": [
    "## 1. 기계학습(50점)"
   ]
  },
  {
   "cell_type": "markdown",
   "id": "5ba2a3cd",
   "metadata": {},
   "source": [
    "### 1.1 데이터 탐색"
   ]
  },
  {
   "cell_type": "code",
   "execution_count": 66,
   "id": "3f1edfe1",
   "metadata": {},
   "outputs": [
    {
     "name": "stdout",
     "output_type": "stream",
     "text": [
      "Index(['Pregnancies', 'Glucose', 'BloodPressure', 'SkinThickness', 'Insulin',\n",
      "       'BMI', 'DiabetesPedigreeFunction', 'Age', 'Outcome'],\n",
      "      dtype='object')\n",
      " \n",
      "Age에 3개의 이상치가 보인다.\n",
      "SkinThickness와 Glucose, BloodPressure, Insulin, BMI 등에 0측정된 값이 보인다. 정상값인지 판단 필요하다.     \n",
      "\n"
     ]
    }
   ],
   "source": [
    "import pandas as pd\n",
    "import numpy as np\n",
    "import matplotlib.pyplot as plt\n",
    "import seaborn as sns\n",
    "import warnings\n",
    "#warnings.filterwarnings('ignore')\n",
    "\n",
    "df = pd.read_csv('../data/diabetes_for_test.csv')\n",
    "\n",
    "#sns.pairplot(df)\n",
    "print(df.columns)\n",
    "\n",
    "print(''' \n",
    "Age에 3개의 이상치가 보인다.\n",
    "SkinThickness와 Glucose, BloodPressure, Insulin, BMI 등에 0측정된 값이 보인다. 정상값인지 판단 필요하다.     \n",
    "''')"
   ]
  },
  {
   "cell_type": "code",
   "execution_count": 67,
   "id": "5b27b4ca",
   "metadata": {},
   "outputs": [
    {
     "name": "stdout",
     "output_type": "stream",
     "text": [
      " 각 설명변수 별로 0인 데이터들이 보인다. \n",
      "      이 경우 당뇨병 진단 여부에 따라 한쪽으로 치우치진 않았는지 검토한다.  \n",
      "\n",
      "Outcome\n",
      "0    139\n",
      "1     88\n",
      "Name: count, dtype: int64\n",
      "Outcome\n",
      "0    3\n",
      "1    2\n",
      "Name: count, dtype: int64\n",
      "Outcome\n",
      "0    19\n",
      "1    16\n",
      "Name: count, dtype: int64\n",
      "Outcome\n",
      "0    236\n",
      "1    138\n",
      "Name: count, dtype: int64\n",
      "Outcome\n",
      "0    9\n",
      "1    2\n",
      "Name: count, dtype: int64\n",
      " \n",
      "측정치가 0인 데이터들을 당뇨병 판정여부를 기준으로 봤을 때, \n",
      "      어느 한쪽으로 치우친 경향을 보이지는 않으므로, 0인 경우 해당 특성의 중앙값으로 대체한다. \n",
      "\n",
      " \n",
      "Age열이 999로 설정되어 있는 3개의 데이터가 있다. \n",
      "      이 데이터 역시 중앙값으로 대치한다.\n",
      "\n"
     ]
    }
   ],
   "source": [
    "testdf = df.copy()\n",
    "\n",
    "print(''' 각 설명변수 별로 0인 데이터들이 보인다. \n",
    "      이 경우 당뇨병 진단 여부에 따라 한쪽으로 치우치진 않았는지 검토한다.  \n",
    "''')\n",
    "\n",
    "print(testdf[testdf.SkinThickness == 0].Outcome.value_counts())\n",
    "print(testdf[testdf.Glucose == 0].Outcome.value_counts())\n",
    "print(testdf[testdf.BloodPressure == 0].Outcome.value_counts())\n",
    "print(testdf[testdf.Insulin == 0].Outcome.value_counts())\n",
    "print(testdf[testdf.BMI  == 0].Outcome.value_counts())\n",
    "\n",
    "print(''' \n",
    "측정치가 0인 데이터들을 당뇨병 판정여부를 기준으로 봤을 때, \n",
    "      어느 한쪽으로 치우친 경향을 보이지는 않으므로, 0인 경우 해당 특성의 중앙값으로 대체한다. \n",
    "''')\n",
    "\n",
    "testdf.replace({'SkinThickness':0}, testdf.SkinThickness.median(), inplace=True)\n",
    "testdf.replace({'Glucose':0}, testdf.Glucose.median(), inplace=True)\n",
    "testdf.replace({'BloodPressure':0}, testdf.BloodPressure.median(), inplace=True)\n",
    "testdf.replace({'Insulin':0}, testdf.Insulin.median(), inplace=True)\n",
    "testdf.replace({'BMI':0}, testdf.BMI.median(), inplace=True)\n",
    "\n",
    "print(''' \n",
    "Age열이 999로 설정되어 있는 3개의 데이터가 있다. \n",
    "      이 데이터 역시 중앙값으로 대치한다.\n",
    "''')\n",
    "\n",
    "testdf.replace({'Age':999}, testdf.Age.median(), inplace=True)\n"
   ]
  },
  {
   "cell_type": "code",
   "execution_count": 76,
   "id": "ff5b51b5",
   "metadata": {},
   "outputs": [
    {
     "data": {
      "text/plain": [
       "<Axes: >"
      ]
     },
     "execution_count": 76,
     "metadata": {},
     "output_type": "execute_result"
    },
    {
     "data": {
      "image/png": "[encoded data removed]",
      "text/plain": [
       "<Figure size 640x480 with 2 Axes>"
      ]
     },
     "metadata": {},
     "output_type": "display_data"
    }
   ],
   "source": [
    "sns.heatmap(testdf.corr())"
   ]
  },
  {
   "cell_type": "code",
   "execution_count": 75,
   "id": "5b9026de",
   "metadata": {},
   "outputs": [
    {
     "name": "stdout",
     "output_type": "stream",
     "text": [
      " \n",
      "아래 표에서 확인할 수 있는 바와 같이, \n",
      "      각 설명변수 데이터가 모두 정규성과 등분산성의 가정을 만족되진 않는다.\n",
      "\n",
      "하지만 데이터의 경향성을 파악하는 차원에서 평균차이 검정을 수행한 결과, \n",
      "      당뇨병이 있는 집단과 없는 집단에서 유의미가 한 차이가 있는 것으로 나타난다.\n",
      "\n",
      "각 설명변수 별로 보면, 당뇨병이 있는 경우,\n",
      "      - Pregnancies의 평균이 유의미하게 높다.\n",
      "      - Glucose의 평균이 유의미하게 높다.\n",
      "      - BloodPressure 평균이 유의미하게 높다.\n",
      "      - SkinThickness 평균이 유의미하게 높다.\n",
      "      - Insulin 평균이 유의미하게 높다.\n",
      "      - BMI 평균이 유의미하게 높다.\n",
      "      - DiabetesPedigreeFunction의 평균이 유의미하게 높다.\n",
      "      - Age의 평균이 유의미하게 높다.\n",
      "\n"
     ]
    },
    {
     "data": {
      "text/html": [
       "<div>\n",
       "<style scoped>\n",
       "    .dataframe tbody tr th:only-of-type {\n",
       "        vertical-align: middle;\n",
       "    }\n",
       "\n",
       "    .dataframe tbody tr th {\n",
       "        vertical-align: top;\n",
       "    }\n",
       "\n",
       "    .dataframe thead th {\n",
       "        text-align: right;\n",
       "    }\n",
       "</style>\n",
       "<table border=\"1\" class=\"dataframe\">\n",
       "  <thead>\n",
       "    <tr style=\"text-align: right;\">\n",
       "      <th></th>\n",
       "      <th>설명변수</th>\n",
       "      <th>group0 정규성</th>\n",
       "      <th>group1 정규성</th>\n",
       "      <th>등분산성</th>\n",
       "      <th>t-test diff</th>\n",
       "      <th>ols diff</th>\n",
       "      <th>anova diff</th>\n",
       "      <th>Group_0 mean</th>\n",
       "      <th>Group_1 mean</th>\n",
       "    </tr>\n",
       "  </thead>\n",
       "  <tbody>\n",
       "    <tr>\n",
       "      <th>0</th>\n",
       "      <td>Pregnancies</td>\n",
       "      <td>False</td>\n",
       "      <td>False</td>\n",
       "      <td>False</td>\n",
       "      <td>True</td>\n",
       "      <td>True</td>\n",
       "      <td>True</td>\n",
       "      <td>3.298000</td>\n",
       "      <td>4.865672</td>\n",
       "    </tr>\n",
       "    <tr>\n",
       "      <th>1</th>\n",
       "      <td>Glucose</td>\n",
       "      <td>False</td>\n",
       "      <td>False</td>\n",
       "      <td>False</td>\n",
       "      <td>True</td>\n",
       "      <td>True</td>\n",
       "      <td>True</td>\n",
       "      <td>110.682000</td>\n",
       "      <td>142.130597</td>\n",
       "    </tr>\n",
       "    <tr>\n",
       "      <th>2</th>\n",
       "      <td>BloodPressure</td>\n",
       "      <td>False</td>\n",
       "      <td>False</td>\n",
       "      <td>True</td>\n",
       "      <td>True</td>\n",
       "      <td>True</td>\n",
       "      <td>True</td>\n",
       "      <td>70.920000</td>\n",
       "      <td>75.123134</td>\n",
       "    </tr>\n",
       "    <tr>\n",
       "      <th>3</th>\n",
       "      <td>SkinThickness</td>\n",
       "      <td>False</td>\n",
       "      <td>False</td>\n",
       "      <td>False</td>\n",
       "      <td>True</td>\n",
       "      <td>True</td>\n",
       "      <td>True</td>\n",
       "      <td>26.058000</td>\n",
       "      <td>29.716418</td>\n",
       "    </tr>\n",
       "    <tr>\n",
       "      <th>4</th>\n",
       "      <td>Insulin</td>\n",
       "      <td>False</td>\n",
       "      <td>False</td>\n",
       "      <td>False</td>\n",
       "      <td>True</td>\n",
       "      <td>True</td>\n",
       "      <td>True</td>\n",
       "      <td>83.188000</td>\n",
       "      <td>116.041045</td>\n",
       "    </tr>\n",
       "    <tr>\n",
       "      <th>5</th>\n",
       "      <td>BMI</td>\n",
       "      <td>False</td>\n",
       "      <td>False</td>\n",
       "      <td>True</td>\n",
       "      <td>True</td>\n",
       "      <td>True</td>\n",
       "      <td>True</td>\n",
       "      <td>30.880200</td>\n",
       "      <td>35.381343</td>\n",
       "    </tr>\n",
       "    <tr>\n",
       "      <th>6</th>\n",
       "      <td>DiabetesPedigreeFunction</td>\n",
       "      <td>False</td>\n",
       "      <td>False</td>\n",
       "      <td>False</td>\n",
       "      <td>True</td>\n",
       "      <td>True</td>\n",
       "      <td>True</td>\n",
       "      <td>0.429734</td>\n",
       "      <td>0.550500</td>\n",
       "    </tr>\n",
       "    <tr>\n",
       "      <th>7</th>\n",
       "      <td>Age</td>\n",
       "      <td>False</td>\n",
       "      <td>False</td>\n",
       "      <td>True</td>\n",
       "      <td>True</td>\n",
       "      <td>True</td>\n",
       "      <td>True</td>\n",
       "      <td>31.114000</td>\n",
       "      <td>37.067164</td>\n",
       "    </tr>\n",
       "  </tbody>\n",
       "</table>\n",
       "</div>"
      ],
      "text/plain": [
       "                       설명변수 group0 정규성 group1 정규성   등분산성 t-test diff ols diff  \\\n",
       "0               Pregnancies      False      False  False        True     True   \n",
       "1                   Glucose      False      False  False        True     True   \n",
       "2             BloodPressure      False      False   True        True     True   \n",
       "3             SkinThickness      False      False  False        True     True   \n",
       "4                   Insulin      False      False  False        True     True   \n",
       "5                       BMI      False      False   True        True     True   \n",
       "6  DiabetesPedigreeFunction      False      False  False        True     True   \n",
       "7                       Age      False      False   True        True     True   \n",
       "\n",
       "  anova diff  Group_0 mean  Group_1 mean  \n",
       "0       True      3.298000      4.865672  \n",
       "1       True    110.682000    142.130597  \n",
       "2       True     70.920000     75.123134  \n",
       "3       True     26.058000     29.716418  \n",
       "4       True     83.188000    116.041045  \n",
       "5       True     30.880200     35.381343  \n",
       "6       True      0.429734      0.550500  \n",
       "7       True     31.114000     37.067164  "
      ]
     },
     "execution_count": 75,
     "metadata": {},
     "output_type": "execute_result"
    }
   ],
   "source": [
    "from scipy.stats import shapiro, levene, ttest_ind\n",
    "from statsmodels.formula.api import ols\n",
    "from statsmodels.stats.anova import anova_lm\n",
    "from statsmodels.stats.oneway import anova_oneway\n",
    "\n",
    "testcols = df.columns.tolist()\n",
    "testcols.remove('Outcome') \n",
    "\n",
    "ttestdf = pd.DataFrame()\n",
    "\n",
    "for i, col in enumerate(testcols):\n",
    "     ttestdf.loc[i, '설명변수'] = col\n",
    "     stat = shapiro(testdf[testdf.Outcome==0][col].tolist())\n",
    "     ttestdf.loc[i, 'group0 정규성'] = stat.pvalue > 0.05\n",
    "     stat = shapiro(testdf[testdf.Outcome==1][col].tolist())\n",
    "     ttestdf.loc[i, 'group1 정규성'] = stat.pvalue > 0.05\n",
    "     stat = levene(testdf[testdf.Outcome==0][col], testdf[testdf.Outcome==1][col])\n",
    "     ttestdf.loc[i, '등분산성'] = equ_var = stat.pvalue > 0.05\n",
    "     # 여기서는 독립적인 2개의 집단의 평균을 비교하므로 ttest_independant를 사용하면 맞다.\n",
    "     stat = ttest_ind(testdf[testdf.Outcome==0][col], testdf[testdf.Outcome==1][col], equal_var=equ_var)\n",
    "     ttestdf.loc[i, 't-test diff'] = stat.pvalue < 0.05\n",
    "\n",
    "     # 여러 집단인 경우 anova_oneway나 ols를 사용할 수 있지만, 이 경우에도 적용에 큰 무리는 없다.\n",
    "     stat = ols(f'{col}~C(Outcome)', testdf).fit()\n",
    "     ttestdf.loc[i, 'ols diff'] = anova_lm(stat).loc['C(Outcome)', 'PR(>F)'] < 0.05\n",
    "\n",
    "     stat = anova_oneway(data=testdf[col], groups=testdf.Outcome, use_var='equal')\n",
    "     ttestdf.loc[i, 'anova diff'] = stat.pvalue < 0.05\n",
    "     ttestdf.loc[i, 'Group_0 mean'] = testdf[testdf.Outcome == 0][col].mean()\n",
    "     ttestdf.loc[i, 'Group_1 mean'] = testdf[testdf.Outcome == 1][col].mean()\n",
    "\n",
    "print(''' \n",
    "아래 표에서 확인할 수 있는 바와 같이, \n",
    "      각 설명변수 데이터가 모두 정규성과 등분산성의 가정을 만족되진 않는다.\n",
    "\n",
    "하지만 데이터의 경향성을 파악하는 차원에서 평균차이 검정을 수행한 결과, \n",
    "      당뇨병이 있는 집단과 없는 집단에서 유의미가 한 차이가 있는 것으로 나타난다.\n",
    "\n",
    "각 설명변수 별로 보면, 당뇨병이 있는 경우,\n",
    "      - Pregnancies의 평균이 유의미하게 높다.\n",
    "      - Glucose의 평균이 유의미하게 높다.\n",
    "      - BloodPressure 평균이 유의미하게 높다.\n",
    "      - SkinThickness 평균이 유의미하게 높다.\n",
    "      - Insulin 평균이 유의미하게 높다.\n",
    "      - BMI 평균이 유의미하게 높다.\n",
    "      - DiabetesPedigreeFunction의 평균이 유의미하게 높다.\n",
    "      - Age의 평균이 유의미하게 높다.\n",
    "''')  \n",
    "\n",
    "ttestdf"
   ]
  },
  {
   "cell_type": "markdown",
   "id": "34f19797",
   "metadata": {},
   "source": [
    "당뇨병이 있는 사람은 없는 사람보다 pregnancies의 평균 수치가 높다."
   ]
  },
  {
   "cell_type": "markdown",
   "id": "871cac95",
   "metadata": {},
   "source": [
    "당뇨병이 있는 사람은 없는 사람 보다 Glucose의 평균 수치가 높다."
   ]
  },
  {
   "cell_type": "markdown",
   "id": "9923c633",
   "metadata": {},
   "source": [
    "당뇨병이 있는 사람은 없는 사람 보다 Insulin의 평균 수치가 높다."
   ]
  },
  {
   "cell_type": "markdown",
   "id": "5130e590",
   "metadata": {},
   "source": [
    "당뇨병이 있는 사람은 없는 사람 보다 BMI의 평균 수치가 높다."
   ]
  },
  {
   "cell_type": "markdown",
   "id": "54f46ec0",
   "metadata": {},
   "source": [
    "Outcome을 제외한 변수들 간의 상관성을 보았을 때, 0.9 이상의 상관관계를 가지는 변수는 없었다. 그러므로 모든 변수를 사용하여 모델링해도 될 것으로 판단된다. "
   ]
  },
  {
   "cell_type": "markdown",
   "id": "af5c4693",
   "metadata": {},
   "source": [
    "(2) 이상치를 식별하고 처리하시오. "
   ]
  },
  {
   "cell_type": "markdown",
   "id": "34a9c39c",
   "metadata": {},
   "source": [
    "우선 describe로 변수들을 살펴보았을 때, 각 변수들의 결측치는 없는 것을 확인하였다. 이상치를 판단하기 위해서는 mean, min, max값을 확인하는 것이 좋다. 평균과 min, 평균과 max 값이 std에 비해 한참 차이가 난다면, 이상치가 있을 가능성이 높다. \n",
    "이러한 이상치를 정확히 판단하기 위해서는 아래와 같이 boxplot으로 시각화하여 보는 것이정확하다. \n"
   ]
  },
  {
   "cell_type": "markdown",
   "id": "298b2f6b",
   "metadata": {},
   "source": [
    "Age 컬럼에 눈에띄는 이상치(999)가 있어 Age의 중앙값인 29 로 이상치를 대체한다. "
   ]
  },
  {
   "cell_type": "markdown",
   "id": "b83fea4c",
   "metadata": {},
   "source": [
    "추가적으로 데이터를 살펴 보았을 때, Glucose와 BloodPressure컬럼에는 0이 존재하지 않아야 된다고 판단되었다. 이를 이상치라고 판단하여 이상치를 제외한 중앙값으로 이상치를 대체하였다."
   ]
  },
  {
   "cell_type": "markdown",
   "id": "ff1e9128",
   "metadata": {},
   "source": [
    "#### 1.1.2. 앞선 두 단계에서 얻은 향후 분석시 고려사항 작성"
   ]
  },
  {
   "cell_type": "markdown",
   "id": "0541c4bf",
   "metadata": {},
   "source": [
    "위에 describe() 함수를 보게 되면, 최솟값과 최댓값 차이가 많이 나는 컬럼이 존재한다. 따라서 선형모델 사용시 scale을 적용할 필요가 보인다."
   ]
  },
  {
   "cell_type": "markdown",
   "id": "25975d25",
   "metadata": {},
   "source": [
    "### 1.2 클래스 불균형을 처리하시오."
   ]
  },
  {
   "cell_type": "markdown",
   "id": "31909b52",
   "metadata": {},
   "source": [
    "#### 1.2.1. 업 샘플링 과정 설명하고 결과 작성"
   ]
  },
  {
   "cell_type": "markdown",
   "id": "41f4c745",
   "metadata": {},
   "source": [
    "Upsampling은 소수 클래스를 늘려서 다수 클래스 개수에 맞추는 방식으로,  \n",
    "대표적으로 random으로 소수의 클래스을 선택하여 데이터를 복제하는 RandomOverSampler, 임의의 소수 클래스 주변으로 새로운 데이터를 생성하는 smote 방식이 있다."
   ]
  },
  {
   "cell_type": "markdown",
   "id": "c44df832",
   "metadata": {},
   "source": [
    "#### 1.2.2 언더 샘플링 과정 설명하고 결과 작성"
   ]
  },
  {
   "cell_type": "markdown",
   "id": "4ae7d2b8",
   "metadata": {},
   "source": [
    "undersampling은 다수 클래스를 감소시켜 소수 클래스 개수에 맞추는 방식으로,  \n",
    "대표적으로 random으로 다수의 클래스의 데이터를 선택하여 삭제하는 RandomUnderSampler, 서로 다른 클래스가 있을 때 서로 다른 클래스끼리 가장 가까운 데이터들이 토멕링크로 묶여서 토멕링크 중 다수 클래스의 데이터를 제거하는 Tomek link방식이 있다."
   ]
  },
  {
   "cell_type": "markdown",
   "id": "b15835c4",
   "metadata": {},
   "source": [
    "#### 1.2.3 둘 중 선택하고 이유 설명"
   ]
  },
  {
   "cell_type": "markdown",
   "id": "fb60ec90",
   "metadata": {},
   "source": [
    "현 데이터가 총 768개로 적은 데이터가 존재한다.. 따라서, undersampling을 선택하게 되면 데이터가 더 적어지기 때문에 오버피팅이 일어날 위험이 더 크다.  \n",
    "**oversampling을 선택할 것 이다**."
   ]
  },
  {
   "cell_type": "markdown",
   "id": "cd3392b7",
   "metadata": {},
   "source": [
    "### 1.3. 모델링 하시오"
   ]
  },
  {
   "cell_type": "markdown",
   "id": "4fd0359d",
   "metadata": {},
   "source": [
    "#### 1.3.1. 최소 3개 이상 알고리즘 제시하고 정확도 측면의 모델 1개와 속도 측면의 모델 1개를 꼭 구현(총 2개 이상)"
   ]
  },
  {
   "cell_type": "markdown",
   "id": "e2c916d8",
   "metadata": {},
   "source": [
    "속도 측면에서 logisticregression,정확도 측면에서 svm, 기타로 xgboost를 제시한다"
   ]
  },
  {
   "cell_type": "markdown",
   "id": "5f35530d",
   "metadata": {},
   "source": [
    "#### 1.3.2. 모델 비교하고 결과 설명"
   ]
  },
  {
   "cell_type": "markdown",
   "id": "729528e6",
   "metadata": {},
   "source": [
    "데이터 수가 적기 때문에 hold-out 기법이 아니라 cross-validation 기법으로 성능을 확인하였고, 위에서 말했던거와 같이 oversampling 기법인 smote를 활용하였다.  \n",
    "따라서, 역시나 logistic이 가장 빨랐으며 svm이 성능이 가장 좋은것을 확인할수있었다."
   ]
  },
  {
   "cell_type": "markdown",
   "id": "86785402",
   "metadata": {},
   "source": [
    "#### 1.3.3. 속도 개선을 위한 차원 축소 설명하고 수행, 예측 성능과 속도 비교하고 결과 작성"
   ]
  },
  {
   "cell_type": "markdown",
   "id": "0e39ac15",
   "metadata": {},
   "source": [
    "예측 성능은 다소 상승되었고 속도 측면에도 차원축소에 의해 더 빨라졌다.  \n",
    "향후에 데이터가 크게 늘어난다면 성능 및 속도 측면에서 더 유의미한 차이가 클 것으로 보인다."
   ]
  }
 ],
 "metadata": {
  "kernelspec": {
   "display_name": "Python 3 (ipykernel)",
   "language": "python",
   "name": "python3"
  },
  "language_info": {
   "codemirror_mode": {
    "name": "ipython",
    "version": 3
   },
   "file_extension": ".py",
   "mimetype": "text/x-python",
   "name": "python",
   "nbconvert_exporter": "python",
   "pygments_lexer": "ipython3",
   "version": "3.11.5"
  },
  "toc": {
   "base_numbering": 1,
   "nav_menu": {},
   "number_sections": true,
   "sideBar": true,
   "skip_h1_title": false,
   "title_cell": "Table of Contents",
   "title_sidebar": "Contents",
   "toc_cell": true,
   "toc_position": {},
   "toc_section_display": true,
   "toc_window_display": false
  }
 },
 "nbformat": 4,
 "nbformat_minor": 5
}
