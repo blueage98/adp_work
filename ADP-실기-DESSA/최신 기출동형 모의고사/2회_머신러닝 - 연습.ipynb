{
 "cells": [
  {
   "cell_type": "markdown",
   "id": "ff2d1cbc",
   "metadata": {
    "toc": true
   },
   "source": [
    "<h1>Table of Contents<span class=\"tocSkip\"></span></h1>\n",
    "<div class=\"toc\"><ul class=\"toc-item\"><li><span><a href=\"#1.-기계학습(50점)\" data-toc-modified-id=\"1.-기계학습(50점)-1\"><span class=\"toc-item-num\">1&nbsp;&nbsp;</span>1. 기계학습(50점)</a></span><ul class=\"toc-item\"><li><span><a href=\"#1.1-데이터-탐색\" data-toc-modified-id=\"1.1-데이터-탐색-1.1\"><span class=\"toc-item-num\">1.1&nbsp;&nbsp;</span>1.1 데이터 탐색</a></span><ul class=\"toc-item\"><li><span><a href=\"#1.1.2.-앞선-두-단계에서-얻은-향후-분석시-고려사항-작성\" data-toc-modified-id=\"1.1.2.-앞선-두-단계에서-얻은-향후-분석시-고려사항-작성-1.1.1\"><span class=\"toc-item-num\">1.1.1&nbsp;&nbsp;</span>1.1.2. 앞선 두 단계에서 얻은 향후 분석시 고려사항 작성</a></span></li></ul></li><li><span><a href=\"#1.2-클래스-불균형을-처리하시오.\" data-toc-modified-id=\"1.2-클래스-불균형을-처리하시오.-1.2\"><span class=\"toc-item-num\">1.2&nbsp;&nbsp;</span>1.2 클래스 불균형을 처리하시오.</a></span><ul class=\"toc-item\"><li><span><a href=\"#1.2.1.-업-샘플링-과정-설명하고-결과-작성\" data-toc-modified-id=\"1.2.1.-업-샘플링-과정-설명하고-결과-작성-1.2.1\"><span class=\"toc-item-num\">1.2.1&nbsp;&nbsp;</span>1.2.1. 업 샘플링 과정 설명하고 결과 작성</a></span></li><li><span><a href=\"#1.2.2-언더-샘플링-과정-설명하고-결과-작성\" data-toc-modified-id=\"1.2.2-언더-샘플링-과정-설명하고-결과-작성-1.2.2\"><span class=\"toc-item-num\">1.2.2&nbsp;&nbsp;</span>1.2.2 언더 샘플링 과정 설명하고 결과 작성</a></span></li><li><span><a href=\"#1.2.3-둘-중-선택하고-이유-설명\" data-toc-modified-id=\"1.2.3-둘-중-선택하고-이유-설명-1.2.3\"><span class=\"toc-item-num\">1.2.3&nbsp;&nbsp;</span>1.2.3 둘 중 선택하고 이유 설명</a></span></li></ul></li><li><span><a href=\"#1.3.-모델링-하시오\" data-toc-modified-id=\"1.3.-모델링-하시오-1.3\"><span class=\"toc-item-num\">1.3&nbsp;&nbsp;</span>1.3. 모델링 하시오</a></span><ul class=\"toc-item\"><li><span><a href=\"#1.3.1.-최소-3개-이상-알고리즘-제시하고-정확도-측면의-모델-1개와-속도-측면의-모델-1개를-꼭-구현(총-2개-이상)\" data-toc-modified-id=\"1.3.1.-최소-3개-이상-알고리즘-제시하고-정확도-측면의-모델-1개와-속도-측면의-모델-1개를-꼭-구현(총-2개-이상)-1.3.1\"><span class=\"toc-item-num\">1.3.1&nbsp;&nbsp;</span>1.3.1. 최소 3개 이상 알고리즘 제시하고 정확도 측면의 모델 1개와 속도 측면의 모델 1개를 꼭 구현(총 2개 이상)</a></span></li><li><span><a href=\"#1.3.2.-모델-비교하고-결과-설명\" data-toc-modified-id=\"1.3.2.-모델-비교하고-결과-설명-1.3.2\"><span class=\"toc-item-num\">1.3.2&nbsp;&nbsp;</span>1.3.2. 모델 비교하고 결과 설명</a></span></li><li><span><a href=\"#1.3.3.-속도-개선을-위한-차원-축소-설명하고-수행,-예측-성능과-속도-비교하고-결과-작성\" data-toc-modified-id=\"1.3.3.-속도-개선을-위한-차원-축소-설명하고-수행,-예측-성능과-속도-비교하고-결과-작성-1.3.3\"><span class=\"toc-item-num\">1.3.3&nbsp;&nbsp;</span>1.3.3. 속도 개선을 위한 차원 축소 설명하고 수행, 예측 성능과 속도 비교하고 결과 작성</a></span></li></ul></li></ul></li></ul></div>"
   ]
  },
  {
   "cell_type": "markdown",
   "id": "912df639",
   "metadata": {},
   "source": [
    "## 1. 기계학습(50점)"
   ]
  },
  {
   "cell_type": "markdown",
   "id": "5ba2a3cd",
   "metadata": {},
   "source": [
    "### 1.1 데이터 탐색"
   ]
  },
  {
   "cell_type": "code",
   "execution_count": 1,
   "id": "3f1edfe1",
   "metadata": {},
   "outputs": [
    {
     "name": "stdout",
     "output_type": "stream",
     "text": [
      "Index(['Pregnancies', 'Glucose', 'BloodPressure', 'SkinThickness', 'Insulin',\n",
      "       'BMI', 'DiabetesPedigreeFunction', 'Age', 'Outcome'],\n",
      "      dtype='object')\n",
      " \n",
      "Age에 3개의 이상치가 보인다.\n",
      "SkinThickness와 Glucose, BloodPressure, Insulin, BMI 등에 0측정된 값이 보인다. 정상값인지 판단 필요하다.     \n",
      "\n"
     ]
    }
   ],
   "source": [
    "import pandas as pd\n",
    "import numpy as np\n",
    "import matplotlib.pyplot as plt\n",
    "import seaborn as sns\n",
    "import warnings\n",
    "#warnings.filterwarnings('ignore')\n",
    "\n",
    "df = pd.read_csv('../data/diabetes_for_test.csv')\n",
    "\n",
    "#sns.pairplot(df)\n",
    "print(df.columns)\n",
    "\n",
    "print(''' \n",
    "Age에 3개의 이상치가 보인다.\n",
    "SkinThickness와 Glucose, BloodPressure, Insulin, BMI 등에 0측정된 값이 보인다. 정상값인지 판단 필요하다.     \n",
    "''')"
   ]
  },
  {
   "cell_type": "code",
   "execution_count": 2,
   "id": "5b27b4ca",
   "metadata": {},
   "outputs": [
    {
     "name": "stdout",
     "output_type": "stream",
     "text": [
      " 각 설명변수 별로 0인 데이터들이 보인다. \n",
      "      이 경우 당뇨병 진단 여부에 따라 한쪽으로 치우치진 않았는지 검토한다.  \n",
      "\n",
      "Outcome\n",
      "0    139\n",
      "1     88\n",
      "Name: count, dtype: int64\n",
      "Outcome\n",
      "0    3\n",
      "1    2\n",
      "Name: count, dtype: int64\n",
      "Outcome\n",
      "0    19\n",
      "1    16\n",
      "Name: count, dtype: int64\n",
      "Outcome\n",
      "0    236\n",
      "1    138\n",
      "Name: count, dtype: int64\n",
      "Outcome\n",
      "0    9\n",
      "1    2\n",
      "Name: count, dtype: int64\n",
      " \n",
      "측정치가 0인 데이터들을 당뇨병 판정여부를 기준으로 봤을 때, \n",
      "      어느 한쪽으로 치우친 경향을 보이지는 않으므로, 0인 경우 해당 특성의 중앙값으로 대체한다. \n",
      "\n",
      " \n",
      "Age열이 999로 설정되어 있는 3개의 데이터가 있다. \n",
      "      이 데이터 역시 중앙값으로 대치한다.\n",
      "\n"
     ]
    }
   ],
   "source": [
    "testdf = df.copy()\n",
    "\n",
    "print(''' 각 설명변수 별로 0인 데이터들이 보인다. \n",
    "      이 경우 당뇨병 진단 여부에 따라 한쪽으로 치우치진 않았는지 검토한다.  \n",
    "''')\n",
    "\n",
    "print(testdf[testdf.SkinThickness == 0].Outcome.value_counts())\n",
    "print(testdf[testdf.Glucose == 0].Outcome.value_counts())\n",
    "print(testdf[testdf.BloodPressure == 0].Outcome.value_counts())\n",
    "print(testdf[testdf.Insulin == 0].Outcome.value_counts())\n",
    "print(testdf[testdf.BMI  == 0].Outcome.value_counts())\n",
    "\n",
    "print(''' \n",
    "측정치가 0인 데이터들을 당뇨병 판정여부를 기준으로 봤을 때, \n",
    "      어느 한쪽으로 치우친 경향을 보이지는 않으므로, 0인 경우 해당 특성의 중앙값으로 대체한다. \n",
    "''')\n",
    "\n",
    "testdf.replace({'SkinThickness':0}, testdf.SkinThickness.median(), inplace=True)\n",
    "testdf.replace({'Glucose':0}, testdf.Glucose.median(), inplace=True)\n",
    "testdf.replace({'BloodPressure':0}, testdf.BloodPressure.median(), inplace=True)\n",
    "testdf.replace({'Insulin':0}, testdf.Insulin.median(), inplace=True)\n",
    "testdf.replace({'BMI':0}, testdf.BMI.median(), inplace=True)\n",
    "\n",
    "print(''' \n",
    "Age열이 999로 설정되어 있는 3개의 데이터가 있다. \n",
    "      이 데이터 역시 중앙값으로 대치한다.\n",
    "''')\n",
    "\n",
    "testdf.replace({'Age':999}, testdf.Age.median(), inplace=True)\n"
   ]
  },
  {
   "cell_type": "code",
   "execution_count": 3,
   "id": "ff5b51b5",
   "metadata": {},
   "outputs": [
    {
     "data": {
      "text/plain": [
       "<Axes: >"
      ]
     },
     "execution_count": 3,
     "metadata": {},
     "output_type": "execute_result"
    },
    {
     "data": {
      "image/png": "[encoded data removed]",
      "text/plain": [
       "<Figure size 640x480 with 2 Axes>"
      ]
     },
     "metadata": {},
     "output_type": "display_data"
    }
   ],
   "source": [
    "sns.heatmap(testdf.corr(),annot=True)"
   ]
  },
  {
   "cell_type": "code",
   "execution_count": 4,
   "id": "5b9026de",
   "metadata": {},
   "outputs": [
    {
     "name": "stdout",
     "output_type": "stream",
     "text": [
      " \n",
      "아래 표에서 확인할 수 있는 바와 같이, \n",
      "      각 설명변수 데이터가 모두 정규성과 등분산성의 가정을 만족되진 않는다.\n",
      "\n",
      "하지만 데이터의 경향성을 파악하는 차원에서 평균차이 검정을 수행한 결과, \n",
      "      당뇨병이 있는 집단과 없는 집단에서 유의미가 한 차이가 있는 것으로 나타난다.\n",
      "\n",
      "각 설명변수 별로 보면, 당뇨병이 있는 경우,\n",
      "      - Pregnancies의 평균이 유의미하게 높다.\n",
      "      - Glucose의 평균이 유의미하게 높다.\n",
      "      - BloodPressure 평균이 유의미하게 높다.\n",
      "      - SkinThickness 평균이 유의미하게 높다.\n",
      "      - Insulin 평균이 유의미하게 높다.\n",
      "      - BMI 평균이 유의미하게 높다.\n",
      "      - DiabetesPedigreeFunction의 평균이 유의미하게 높다.\n",
      "      - Age의 평균이 유의미하게 높다.\n",
      "\n"
     ]
    },
    {
     "data": {
      "text/html": [
       "<div>\n",
       "<style scoped>\n",
       "    .dataframe tbody tr th:only-of-type {\n",
       "        vertical-align: middle;\n",
       "    }\n",
       "\n",
       "    .dataframe tbody tr th {\n",
       "        vertical-align: top;\n",
       "    }\n",
       "\n",
       "    .dataframe thead th {\n",
       "        text-align: right;\n",
       "    }\n",
       "</style>\n",
       "<table border=\"1\" class=\"dataframe\">\n",
       "  <thead>\n",
       "    <tr style=\"text-align: right;\">\n",
       "      <th></th>\n",
       "      <th>설명변수</th>\n",
       "      <th>group0 정규성</th>\n",
       "      <th>group1 정규성</th>\n",
       "      <th>등분산성</th>\n",
       "      <th>t-test diff</th>\n",
       "      <th>ols diff</th>\n",
       "      <th>anova diff</th>\n",
       "      <th>Group_0 mean</th>\n",
       "      <th>Group_1 mean</th>\n",
       "    </tr>\n",
       "  </thead>\n",
       "  <tbody>\n",
       "    <tr>\n",
       "      <th>0</th>\n",
       "      <td>Pregnancies</td>\n",
       "      <td>False</td>\n",
       "      <td>False</td>\n",
       "      <td>False</td>\n",
       "      <td>True</td>\n",
       "      <td>True</td>\n",
       "      <td>True</td>\n",
       "      <td>3.298000</td>\n",
       "      <td>4.865672</td>\n",
       "    </tr>\n",
       "    <tr>\n",
       "      <th>1</th>\n",
       "      <td>Glucose</td>\n",
       "      <td>False</td>\n",
       "      <td>False</td>\n",
       "      <td>False</td>\n",
       "      <td>True</td>\n",
       "      <td>True</td>\n",
       "      <td>True</td>\n",
       "      <td>110.682000</td>\n",
       "      <td>142.130597</td>\n",
       "    </tr>\n",
       "    <tr>\n",
       "      <th>2</th>\n",
       "      <td>BloodPressure</td>\n",
       "      <td>False</td>\n",
       "      <td>False</td>\n",
       "      <td>True</td>\n",
       "      <td>True</td>\n",
       "      <td>True</td>\n",
       "      <td>True</td>\n",
       "      <td>70.920000</td>\n",
       "      <td>75.123134</td>\n",
       "    </tr>\n",
       "    <tr>\n",
       "      <th>3</th>\n",
       "      <td>SkinThickness</td>\n",
       "      <td>False</td>\n",
       "      <td>False</td>\n",
       "      <td>False</td>\n",
       "      <td>True</td>\n",
       "      <td>True</td>\n",
       "      <td>True</td>\n",
       "      <td>26.058000</td>\n",
       "      <td>29.716418</td>\n",
       "    </tr>\n",
       "    <tr>\n",
       "      <th>4</th>\n",
       "      <td>Insulin</td>\n",
       "      <td>False</td>\n",
       "      <td>False</td>\n",
       "      <td>False</td>\n",
       "      <td>True</td>\n",
       "      <td>True</td>\n",
       "      <td>True</td>\n",
       "      <td>83.188000</td>\n",
       "      <td>116.041045</td>\n",
       "    </tr>\n",
       "    <tr>\n",
       "      <th>5</th>\n",
       "      <td>BMI</td>\n",
       "      <td>False</td>\n",
       "      <td>False</td>\n",
       "      <td>True</td>\n",
       "      <td>True</td>\n",
       "      <td>True</td>\n",
       "      <td>True</td>\n",
       "      <td>30.880200</td>\n",
       "      <td>35.381343</td>\n",
       "    </tr>\n",
       "    <tr>\n",
       "      <th>6</th>\n",
       "      <td>DiabetesPedigreeFunction</td>\n",
       "      <td>False</td>\n",
       "      <td>False</td>\n",
       "      <td>False</td>\n",
       "      <td>True</td>\n",
       "      <td>True</td>\n",
       "      <td>True</td>\n",
       "      <td>0.429734</td>\n",
       "      <td>0.550500</td>\n",
       "    </tr>\n",
       "    <tr>\n",
       "      <th>7</th>\n",
       "      <td>Age</td>\n",
       "      <td>False</td>\n",
       "      <td>False</td>\n",
       "      <td>True</td>\n",
       "      <td>True</td>\n",
       "      <td>True</td>\n",
       "      <td>True</td>\n",
       "      <td>31.114000</td>\n",
       "      <td>37.067164</td>\n",
       "    </tr>\n",
       "  </tbody>\n",
       "</table>\n",
       "</div>"
      ],
      "text/plain": [
       "                       설명변수 group0 정규성 group1 정규성   등분산성 t-test diff ols diff  \\\n",
       "0               Pregnancies      False      False  False        True     True   \n",
       "1                   Glucose      False      False  False        True     True   \n",
       "2             BloodPressure      False      False   True        True     True   \n",
       "3             SkinThickness      False      False  False        True     True   \n",
       "4                   Insulin      False      False  False        True     True   \n",
       "5                       BMI      False      False   True        True     True   \n",
       "6  DiabetesPedigreeFunction      False      False  False        True     True   \n",
       "7                       Age      False      False   True        True     True   \n",
       "\n",
       "  anova diff  Group_0 mean  Group_1 mean  \n",
       "0       True      3.298000      4.865672  \n",
       "1       True    110.682000    142.130597  \n",
       "2       True     70.920000     75.123134  \n",
       "3       True     26.058000     29.716418  \n",
       "4       True     83.188000    116.041045  \n",
       "5       True     30.880200     35.381343  \n",
       "6       True      0.429734      0.550500  \n",
       "7       True     31.114000     37.067164  "
      ]
     },
     "execution_count": 4,
     "metadata": {},
     "output_type": "execute_result"
    }
   ],
   "source": [
    "from scipy.stats import shapiro, levene, ttest_ind\n",
    "from statsmodels.formula.api import ols\n",
    "from statsmodels.stats.anova import anova_lm\n",
    "from statsmodels.stats.oneway import anova_oneway\n",
    "\n",
    "testcols = df.columns.tolist()\n",
    "testcols.remove('Outcome') \n",
    "\n",
    "ttestdf = pd.DataFrame()\n",
    "\n",
    "for i, col in enumerate(testcols):\n",
    "     ttestdf.loc[i, '설명변수'] = col\n",
    "     stat = shapiro(testdf[testdf.Outcome==0][col].tolist())\n",
    "     ttestdf.loc[i, 'group0 정규성'] = stat.pvalue > 0.05\n",
    "     stat = shapiro(testdf[testdf.Outcome==1][col].tolist())\n",
    "     ttestdf.loc[i, 'group1 정규성'] = stat.pvalue > 0.05\n",
    "     stat = levene(testdf[testdf.Outcome==0][col], testdf[testdf.Outcome==1][col])\n",
    "     ttestdf.loc[i, '등분산성'] = equ_var = stat.pvalue > 0.05\n",
    "     # 여기서는 독립적인 2개의 집단의 평균을 비교하므로 ttest_independant를 사용하면 맞다.\n",
    "     stat = ttest_ind(testdf[testdf.Outcome==0][col], testdf[testdf.Outcome==1][col], equal_var=equ_var)\n",
    "     ttestdf.loc[i, 't-test diff'] = stat.pvalue < 0.05\n",
    "\n",
    "     # 여러 집단인 경우 anova_oneway나 ols를 사용할 수 있지만, 이 경우에도 적용에 큰 무리는 없다.\n",
    "     stat = ols(f'{col}~C(Outcome)', testdf).fit()\n",
    "     ttestdf.loc[i, 'ols diff'] = anova_lm(stat).loc['C(Outcome)', 'PR(>F)'] < 0.05\n",
    "\n",
    "     stat = anova_oneway(data=testdf[col], groups=testdf.Outcome, use_var='equal')\n",
    "     ttestdf.loc[i, 'anova diff'] = stat.pvalue < 0.05\n",
    "     ttestdf.loc[i, 'Group_0 mean'] = testdf[testdf.Outcome == 0][col].mean()\n",
    "     ttestdf.loc[i, 'Group_1 mean'] = testdf[testdf.Outcome == 1][col].mean()\n",
    "\n",
    "print(''' \n",
    "아래 표에서 확인할 수 있는 바와 같이, \n",
    "      각 설명변수 데이터가 모두 정규성과 등분산성의 가정을 만족되진 않는다.\n",
    "\n",
    "하지만 데이터의 경향성을 파악하는 차원에서 평균차이 검정을 수행한 결과, \n",
    "      당뇨병이 있는 집단과 없는 집단에서 유의미가 한 차이가 있는 것으로 나타난다.\n",
    "\n",
    "각 설명변수 별로 보면, 당뇨병이 있는 경우,\n",
    "      - Pregnancies의 평균이 유의미하게 높다.\n",
    "      - Glucose의 평균이 유의미하게 높다.\n",
    "      - BloodPressure 평균이 유의미하게 높다.\n",
    "      - SkinThickness 평균이 유의미하게 높다.\n",
    "      - Insulin 평균이 유의미하게 높다.\n",
    "      - BMI 평균이 유의미하게 높다.\n",
    "      - DiabetesPedigreeFunction의 평균이 유의미하게 높다.\n",
    "      - Age의 평균이 유의미하게 높다.\n",
    "''')  \n",
    "\n",
    "ttestdf"
   ]
  },
  {
   "cell_type": "markdown",
   "id": "34f19797",
   "metadata": {},
   "source": [
    "당뇨병이 있는 사람은 없는 사람보다 pregnancies의 평균 수치가 높다."
   ]
  },
  {
   "cell_type": "markdown",
   "id": "871cac95",
   "metadata": {},
   "source": [
    "당뇨병이 있는 사람은 없는 사람 보다 Glucose의 평균 수치가 높다."
   ]
  },
  {
   "cell_type": "markdown",
   "id": "9923c633",
   "metadata": {},
   "source": [
    "당뇨병이 있는 사람은 없는 사람 보다 Insulin의 평균 수치가 높다."
   ]
  },
  {
   "cell_type": "markdown",
   "id": "5130e590",
   "metadata": {},
   "source": [
    "당뇨병이 있는 사람은 없는 사람 보다 BMI의 평균 수치가 높다."
   ]
  },
  {
   "cell_type": "markdown",
   "id": "54f46ec0",
   "metadata": {},
   "source": [
    "Outcome을 제외한 변수들 간의 상관성을 보았을 때, 0.9 이상의 상관관계를 가지는 변수는 없었다. 그러므로 모든 변수를 사용하여 모델링해도 될 것으로 판단된다. "
   ]
  },
  {
   "cell_type": "markdown",
   "id": "af5c4693",
   "metadata": {},
   "source": [
    "(2) 이상치를 식별하고 처리하시오. "
   ]
  },
  {
   "cell_type": "markdown",
   "id": "34a9c39c",
   "metadata": {},
   "source": [
    "우선 describe로 변수들을 살펴보았을 때, 각 변수들의 결측치는 없는 것을 확인하였다. 이상치를 판단하기 위해서는 mean, min, max값을 확인하는 것이 좋다. 평균과 min, 평균과 max 값이 std에 비해 한참 차이가 난다면, 이상치가 있을 가능성이 높다. \n",
    "이러한 이상치를 정확히 판단하기 위해서는 아래와 같이 boxplot으로 시각화하여 보는 것이정확하다. \n"
   ]
  },
  {
   "cell_type": "markdown",
   "id": "298b2f6b",
   "metadata": {},
   "source": [
    "Age 컬럼에 눈에띄는 이상치(999)가 있어 Age의 중앙값인 29 로 이상치를 대체한다. "
   ]
  },
  {
   "cell_type": "markdown",
   "id": "b83fea4c",
   "metadata": {},
   "source": [
    "추가적으로 데이터를 살펴 보았을 때, Glucose와 BloodPressure컬럼에는 0이 존재하지 않아야 된다고 판단되었다. 이를 이상치라고 판단하여 이상치를 제외한 중앙값으로 이상치를 대체하였다."
   ]
  },
  {
   "cell_type": "markdown",
   "id": "ff1e9128",
   "metadata": {},
   "source": [
    "#### 1.1.2. 앞선 두 단계에서 얻은 향후 분석시 고려사항 작성"
   ]
  },
  {
   "cell_type": "markdown",
   "id": "0541c4bf",
   "metadata": {},
   "source": [
    "위에 describe() 함수를 보게 되면, 최솟값과 최댓값 차이가 많이 나는 컬럼이 존재한다. 따라서 선형모델 사용시 scale을 적용할 필요가 보인다."
   ]
  },
  {
   "cell_type": "markdown",
   "id": "25975d25",
   "metadata": {},
   "source": [
    "### 1.2 클래스 불균형을 처리하시오."
   ]
  },
  {
   "cell_type": "markdown",
   "id": "31909b52",
   "metadata": {},
   "source": [
    "#### 1.2.1. 업 샘플링 과정 설명하고 결과 작성"
   ]
  },
  {
   "cell_type": "code",
   "execution_count": 5,
   "id": "44ceea2a",
   "metadata": {},
   "outputs": [
    {
     "name": "stdout",
     "output_type": "stream",
     "text": [
      "아래 내용에서 보듯 당뇨병 진단자(1)는 미진단자(0)의 반 밖에 안된다. 따라서 진단자(1)를 오버샘플링할 필요가 있다.\n",
      "오버샘플링(업샘플링)하는 기법에는 다음과 같은 것이 있다.\n",
      "      1. 랜덤 오버샘플링\n",
      "        - 적은 클래스의 샘플을 랜덤 샘플링하여 복제하는 방식이다. \n",
      "        - 복제된 데이터의 가중치를 높이는 효과가 있어, 과적합 우려가 있다.\n",
      "      2. SMOTE(Synthetic Minority oversampling technique)\n",
      "        - 적은 클래스의 데이터를 랜덤 샘플링한 후, 해당 샘플 주위 k개의 이웃들을 찾는다.\n",
      "        - 이 샘플과 k개의 이웃 사이의 속성을 갖는 새로운 샘플을 생성한다.\n",
      "      3. Borderline SMOTE\n",
      "        - SMOTE를 시행하는데, 이 때 랜덤샘플링이 아니라 클래스를 구분짓는 경계면(Borderline)에 위치한 데이터를 샘플링한다.\n",
      "        - 먼저 적은 클래스의 데이터를 랜덤샘플링 후 이웃 k개를 찾아내는데, 이 중 많은 클래스가 있다면 경계면 데이터로 판정.\n",
      "        - 이 경계면 데이터에 대해 SMOTE를 적용한다.\n",
      "      3. K-means SMOTE\n",
      "        - 먼저 K-means 클러스터링을 수행한 후, 많은 클래스의 데이터가 속한 클래스는 버린다.\n",
      "        - 적은 클래스의 데이터가 속한 클러스터의 데이터에 대해 SMOTE 적용\n",
      "      4. SVM MOTE\n",
      "        - 우선 SVM 학습을 진행한 후 Support Vector 샘플 중 적은 클래스에 속한 데이터에 대해 SMOTE 적용한다.\n",
      "\n"
     ]
    },
    {
     "data": {
      "text/plain": [
       "Outcome\n",
       "0    500\n",
       "1    268\n",
       "Name: count, dtype: int64"
      ]
     },
     "execution_count": 5,
     "metadata": {},
     "output_type": "execute_result"
    }
   ],
   "source": [
    "print('''아래 내용에서 보듯 당뇨병 진단자(1)는 미진단자(0)의 반 밖에 안된다. 따라서 진단자(1)를 오버샘플링할 필요가 있다.\n",
    "오버샘플링(업샘플링)하는 기법에는 다음과 같은 것이 있다.\n",
    "      1. 랜덤 오버샘플링\n",
    "        - 적은 클래스의 샘플을 랜덤 샘플링하여 복제하는 방식이다. \n",
    "        - 복제된 데이터의 가중치를 높이는 효과가 있어, 과적합 우려가 있다.\n",
    "      2. SMOTE(Synthetic Minority oversampling technique)\n",
    "        - 적은 클래스의 데이터를 랜덤 샘플링한 후, 해당 샘플 주위 k개의 이웃들을 찾는다.\n",
    "        - 이 샘플과 k개의 이웃 사이의 속성을 갖는 새로운 샘플을 생성한다.\n",
    "      3. Borderline SMOTE\n",
    "        - SMOTE를 시행하는데, 이 때 랜덤샘플링이 아니라 클래스를 구분짓는 경계면(Borderline)에 위치한 데이터를 샘플링한다.\n",
    "        - 먼저 적은 클래스의 데이터를 랜덤샘플링 후 이웃 k개를 찾아내는데, 이 중 많은 클래스가 있다면 경계면 데이터로 판정.\n",
    "        - 이 경계면 데이터에 대해 SMOTE를 적용한다.\n",
    "      3. K-means SMOTE\n",
    "        - 먼저 K-means 클러스터링을 수행한 후, 많은 클래스의 데이터가 속한 클래스는 버린다.\n",
    "        - 적은 클래스의 데이터가 속한 클러스터의 데이터에 대해 SMOTE 적용\n",
    "      4. SVM MOTE\n",
    "        - 우선 SVM 학습을 진행한 후 Support Vector 샘플 중 적은 클래스에 속한 데이터에 대해 SMOTE 적용한다.\n",
    "''')\n",
    "testdf.Outcome.value_counts()"
   ]
  },
  {
   "cell_type": "markdown",
   "id": "41f4c745",
   "metadata": {},
   "source": [
    "Upsampling은 소수 클래스를 늘려서 다수 클래스 개수에 맞추는 방식으로,  \n",
    "대표적으로 random으로 소수의 클래스을 선택하여 데이터를 복제하는 RandomOverSampler, 임의의 소수 클래스 주변으로 새로운 데이터를 생성하는 smote 방식이 있다."
   ]
  },
  {
   "cell_type": "markdown",
   "id": "c44df832",
   "metadata": {},
   "source": [
    "#### 1.2.2 언더 샘플링 과정 설명하고 결과 작성"
   ]
  },
  {
   "cell_type": "code",
   "execution_count": 6,
   "id": "d63d4d8b",
   "metadata": {},
   "outputs": [
    {
     "name": "stdout",
     "output_type": "stream",
     "text": [
      "아래 내용에서 보듯 당뇨병 진단자(1)는 미진단자(0)의 반 밖에 안된다. 따라서 진단자(1)를 오버샘플링할 필요가 있다.\n",
      "        \n",
      "언더샘플링(다운샘플링)하는 기법에는 다음과 같은 것이 있다.\n",
      "      1. 랜덤 언더샘플링\n",
      "        - 많은 클래스의 데이터를 랜덤 샘플링하여 제거하는 방식이다.\n",
      "      2. 토멕링크(Tomek Links)\n",
      "        - 토멕링크란 서로 다른 클래스의 데이터를 연결하는 선인데, 해당 선 길이보다 더 짧게 연결할 수 없을 때 이를 토멕링크라고 한다.\n",
      "        - 토멕링크에 해당하는 많은 클래스의 데이터를 제거하여, 클래스 간 구분선을 보다 명확하게 한다.\n",
      "      3. CNN (Condensed Nearest Neighbor)\n",
      "        - 소수 Class 전체 + 다수 Class에서 무작위로 하나의 관측치 A를 선택\n",
      "        - 원데이터에 대한 1-NN 적용분류하는데 소수클래스 쪽에 가까운 데이터만 남기고, A에 가까운 데이터를 삭제\n",
      "        - 이렇게 함으로써 분류 성능에 큰 영향이 없는 데이터를 삭제하고, 클래스간 경계면이 데이터를 남기는 방식을 취한다.\n",
      "\n"
     ]
    }
   ],
   "source": [
    "print('''아래 내용에서 보듯 당뇨병 진단자(1)는 미진단자(0)의 반 밖에 안된다. 따라서 진단자(1)를 오버샘플링할 필요가 있다.\n",
    "        \n",
    "언더샘플링(다운샘플링)하는 기법에는 다음과 같은 것이 있다.\n",
    "      1. 랜덤 언더샘플링\n",
    "        - 많은 클래스의 데이터를 랜덤 샘플링하여 제거하는 방식이다.\n",
    "      2. 토멕링크(Tomek Links)\n",
    "        - 토멕링크란 서로 다른 클래스의 데이터를 연결하는 선인데, 해당 선 길이보다 더 짧게 연결할 수 없을 때 이를 토멕링크라고 한다.\n",
    "        - 토멕링크에 해당하는 많은 클래스의 데이터를 제거하여, 클래스 간 구분선을 보다 명확하게 한다.\n",
    "      3. CNN (Condensed Nearest Neighbor)\n",
    "        - 소수 Class 전체 + 다수 Class에서 무작위로 하나의 관측치 A를 선택\n",
    "        - 원데이터에 대한 1-NN 적용분류하는데 소수클래스 쪽에 가까운 데이터만 남기고, A에 가까운 데이터를 삭제\n",
    "        - 이렇게 함으로써 분류 성능에 큰 영향이 없는 데이터를 삭제하고, 클래스간 경계면이 데이터를 남기는 방식을 취한다.\n",
    "''')"
   ]
  },
  {
   "cell_type": "markdown",
   "id": "4ae7d2b8",
   "metadata": {},
   "source": [
    "undersampling은 다수 클래스를 감소시켜 소수 클래스 개수에 맞추는 방식으로,  \n",
    "대표적으로 random으로 다수의 클래스의 데이터를 선택하여 삭제하는 RandomUnderSampler, 서로 다른 클래스가 있을 때 서로 다른 클래스끼리 가장 가까운 데이터들이 토멕링크로 묶여서 토멕링크 중 다수 클래스의 데이터를 제거하는 Tomek link방식이 있다."
   ]
  },
  {
   "cell_type": "markdown",
   "id": "b15835c4",
   "metadata": {},
   "source": [
    "#### 1.2.3 둘 중 선택하고 이유 설명"
   ]
  },
  {
   "cell_type": "markdown",
   "id": "fb60ec90",
   "metadata": {},
   "source": [
    "현 데이터가 총 768개로 적은 데이터가 존재한다.. 따라서, undersampling을 선택하게 되면 데이터가 더 적어지기 때문에 오버피팅이 일어날 위험이 더 크다.  \n",
    "**oversampling을 선택할 것 이다**."
   ]
  },
  {
   "cell_type": "code",
   "execution_count": 3,
   "id": "90a50dfd",
   "metadata": {},
   "outputs": [],
   "source": [
    "from sklearn.preprocessing import StandardScaler\n",
    "\n",
    "features = testdf.drop('Outcome', axis=1)\n",
    "target = testdf.Outcome\n",
    "\n",
    "sc = StandardScaler()\n",
    "features = pd.DataFrame(sc.fit_transform(features), columns=features.columns)"
   ]
  },
  {
   "cell_type": "code",
   "execution_count": 4,
   "id": "9603479e",
   "metadata": {},
   "outputs": [
    {
     "name": "stdout",
     "output_type": "stream",
     "text": [
      "original distribution Counter({0: 500, 1: 268})\n",
      "resampled distribution Counter({1: 502, 0: 500})\n"
     ]
    }
   ],
   "source": [
    "from imblearn.over_sampling import KMeansSMOTE\n",
    "from collections import Counter\n",
    "\n",
    "ks = KMeansSMOTE(random_state=11, k_neighbors=5)\n",
    "bal_features, bal_target = ks.fit_resample(features, target)\n",
    "\n",
    "print(f'original distribution {Counter(target)}')\n",
    "print(f'resampled distribution {Counter(bal_target)}')\n",
    "\n",
    "features = bal_features\n",
    "target = bal_target"
   ]
  },
  {
   "cell_type": "markdown",
   "id": "e1384fc6",
   "metadata": {},
   "source": []
  },
  {
   "cell_type": "markdown",
   "id": "cd3392b7",
   "metadata": {},
   "source": [
    "### 1.3. 모델링 하시오"
   ]
  },
  {
   "cell_type": "markdown",
   "id": "4fd0359d",
   "metadata": {},
   "source": [
    "#### 1.3.1. 최소 3개 이상 알고리즘 제시하고 정확도 측면의 모델 1개와 속도 측면의 모델 1개를 꼭 구현(총 2개 이상)"
   ]
  },
  {
   "cell_type": "markdown",
   "id": "e2c916d8",
   "metadata": {},
   "source": [
    "속도 측면에서 logisticregression,정확도 측면에서 svm, 기타로 xgboost를 제시한다"
   ]
  },
  {
   "cell_type": "code",
   "execution_count": 38,
   "id": "c1c2543d",
   "metadata": {},
   "outputs": [
    {
     "name": "stdout",
     "output_type": "stream",
     "text": [
      "LogisticRegression Best params {'C': 0.01, 'max_iter': 1000, 'penalty': 'l2', 'solver': 'liblinear'}\n",
      "LogisticRegression Best scores 0.8005099601593625\n"
     ]
    }
   ],
   "source": [
    "# 0/1 분류 예측을 위하여 다음 3개의 모델을 적용한다.\n",
    "#   - LogisticRegression\n",
    "#   - SVM Classifier\n",
    "#   - RandomForestClassifier\n",
    "from sklearn.linear_model import LogisticRegression\n",
    "from sklearn.model_selection import GridSearchCV\n",
    "\n",
    "model_lr = LogisticRegression()\n",
    "param_lr = { 'penalty' : ['l2'],\n",
    "            'C' : [0.003, 0.005, 0.01],\n",
    "            'solver' : ['lbfgs','liblinear'],\n",
    "            'max_iter' : [1000, 1500]}\n",
    "\n",
    "gs_lr = GridSearchCV(model_lr, param_grid=param_lr, cv=4)\n",
    "gs_lr.fit(features, target)\n",
    "\n",
    "print(f'LogisticRegression Best params {gs_lr.best_params_}')\n",
    "print(f'LogisticRegression Best scores {gs_lr.best_score_}')"
   ]
  },
  {
   "cell_type": "code",
   "execution_count": 42,
   "id": "1512d2f4",
   "metadata": {},
   "outputs": [
    {
     "name": "stdout",
     "output_type": "stream",
     "text": [
      "SVM Best params {'C': 1, 'gamma': 0.02, 'kernel': 'rbf'}\n",
      "SVM Best scores 0.8025338645418326\n"
     ]
    }
   ],
   "source": [
    "from sklearn.svm import SVC\n",
    "\n",
    "model_svm = SVC()\n",
    "grid_svm = { 'C': [0.08, 1, 1.2],             # 에러율 조절 (커지면 과적합)\n",
    "             'gamma': [0.005, 0.01, 0.02, 10],          # 학습정도 조절 (커지면 과적합)\n",
    "             'kernel': ['linear', 'rbf']}   # 경계면의 곡선화   \n",
    "\n",
    "gs_svm = GridSearchCV(model_svm, param_grid=grid_svm, cv=4)\n",
    "gs_svm.fit(features, target)\n",
    "\n",
    "print(f'SVM Best params {gs_svm.best_params_}')\n",
    "print(f'SVM Best scores {gs_svm.best_score_}')"
   ]
  },
  {
   "cell_type": "code",
   "execution_count": 40,
   "id": "3f39a246",
   "metadata": {},
   "outputs": [
    {
     "name": "stdout",
     "output_type": "stream",
     "text": [
      "RandomForestClassifier Best param {'max_depth': 20, 'min_samples_leaf': 1, 'min_samples_split': 2, 'n_estimators': 800}\n",
      "RandomForestClassifier Best score 0.8225179282868526\n"
     ]
    }
   ],
   "source": [
    "from sklearn.ensemble import RandomForestClassifier\n",
    "\n",
    "model_rfc = RandomForestClassifier()\n",
    "param_rfc = {   'n_estimators': [200, 500, 800],\n",
    "                'max_depth': [5, 10, 20],\n",
    "                'min_samples_split': [2, 5, 10],\n",
    "                'min_samples_leaf': [1, 2, 4]}\n",
    "\n",
    "gs_rfc = GridSearchCV(model_rfc, param_grid=param_rfc, cv=4)\n",
    "gs_rfc.fit(features, target)\n",
    "\n",
    "print(f'RandomForestClassifier Best param {gs_rfc.best_params_}')\n",
    "print(f'RandomForestClassifier Best score {gs_rfc.best_score_}')\n"
   ]
  },
  {
   "cell_type": "code",
   "execution_count": 41,
   "id": "ff18a102",
   "metadata": {},
   "outputs": [
    {
     "name": "stdout",
     "output_type": "stream",
     "text": [
      "xgboost Best param {'booster': 'gbtree', 'learning_rate': 0.02, 'n_estimators': 300}\n",
      "xgboost Best score 0.8005418326693227\n"
     ]
    }
   ],
   "source": [
    "from xgboost import XGBClassifier\n",
    "\n",
    "model_xgb = XGBClassifier()\n",
    "param_xgb = {   'n_estimators': [100, 300],\n",
    "                'learning_rate':[0.01, 0.02, 0.03],\n",
    "                'booster':['gbtree','gblinear']}\n",
    "\n",
    "gs_xgb = GridSearchCV(model_xgb, param_grid=param_xgb, cv=4)\n",
    "gs_xgb.fit(features, target)\n",
    "\n",
    "print(f'xgboost Best param {gs_xgb.best_params_}')\n",
    "print(f'xgboost Best score {gs_xgb.best_score_}')"
   ]
  },
  {
   "cell_type": "code",
   "execution_count": 19,
   "id": "0fbae7ec",
   "metadata": {},
   "outputs": [
    {
     "name": "stdout",
     "output_type": "stream",
     "text": [
      "0 LogisticRegression\n",
      "1 SVC\n",
      "2 RandomForestClassifier\n",
      "3 XGBClassifier\n"
     ]
    },
    {
     "data": {
      "text/html": [
       "<div>\n",
       "<style scoped>\n",
       "    .dataframe tbody tr th:only-of-type {\n",
       "        vertical-align: middle;\n",
       "    }\n",
       "\n",
       "    .dataframe tbody tr th {\n",
       "        vertical-align: top;\n",
       "    }\n",
       "\n",
       "    .dataframe thead th {\n",
       "        text-align: right;\n",
       "    }\n",
       "</style>\n",
       "<table border=\"1\" class=\"dataframe\">\n",
       "  <thead>\n",
       "    <tr style=\"text-align: right;\">\n",
       "      <th></th>\n",
       "      <th>model</th>\n",
       "      <th>elapsed</th>\n",
       "      <th>score</th>\n",
       "    </tr>\n",
       "  </thead>\n",
       "  <tbody>\n",
       "    <tr>\n",
       "      <th>0</th>\n",
       "      <td>LogisticRegression</td>\n",
       "      <td>0.002979</td>\n",
       "      <td>0.832669</td>\n",
       "    </tr>\n",
       "    <tr>\n",
       "      <th>1</th>\n",
       "      <td>SVC</td>\n",
       "      <td>0.011520</td>\n",
       "      <td>0.820717</td>\n",
       "    </tr>\n",
       "    <tr>\n",
       "      <th>2</th>\n",
       "      <td>RandomForestClassifier</td>\n",
       "      <td>1.282472</td>\n",
       "      <td>0.824701</td>\n",
       "    </tr>\n",
       "    <tr>\n",
       "      <th>3</th>\n",
       "      <td>XGBClassifier</td>\n",
       "      <td>0.054478</td>\n",
       "      <td>0.816733</td>\n",
       "    </tr>\n",
       "  </tbody>\n",
       "</table>\n",
       "</div>"
      ],
      "text/plain": [
       "                    model   elapsed     score\n",
       "0      LogisticRegression  0.002979  0.832669\n",
       "1                     SVC  0.011520  0.820717\n",
       "2  RandomForestClassifier  1.282472  0.824701\n",
       "3           XGBClassifier  0.054478  0.816733"
      ]
     },
     "execution_count": 19,
     "metadata": {},
     "output_type": "execute_result"
    }
   ],
   "source": [
    "from sklearn.model_selection import train_test_split\n",
    "import time\n",
    "\n",
    "X_train, X_test, y_train, y_test = train_test_split(features, target, random_state=11)\n",
    "\n",
    "# LogisticRegression : 'C': 0.01, 'max_iter': 1000, 'penalty': 'l2', 'solver': 'liblinear'\n",
    "from sklearn.linear_model import LogisticRegression\n",
    "model_lr = LogisticRegression(C=0.01, max_iter=1000, solver='liblinear')\n",
    "\n",
    "# SVC : 'C': 1, 'gamma': 0.02, 'kernel': 'rbf'\n",
    "from sklearn.svm import SVC\n",
    "model_svc = SVC(C=1, gamma=0.02, kernel='rbf')\n",
    "\n",
    "# RandomForestClassifier : 'max_depth': 20, 'min_samples_leaf': 1, 'min_samples_split': 2, 'n_estimators': 800\n",
    "from sklearn.ensemble import RandomForestClassifier\n",
    "model_rfc = RandomForestClassifier(n_estimators=800, max_depth=20, min_samples_leaf=1, min_samples_split=2)\n",
    "\n",
    "# XGBoostClassifier : 'booster': 'gbtree', 'learning_rate': 0.02, 'n_estimators': 300\n",
    "from xgboost import XGBClassifier\n",
    "model_xgb = XGBClassifier(n_estimator=300, booster='gbtree', learning_rate=0.02)\n",
    "\n",
    "\n",
    "model_names = ['LogisticRegression', 'SVC', 'RandomForestClassifier', 'XGBClassifier']\n",
    "models = [model_lr, model_svc, model_rfc, model_xgb]\n",
    "retdf = pd.DataFrame()\n",
    "\n",
    "for i, col, model in zip(range(len(models)), model_names, models):\n",
    "    tbegin = time.time()\n",
    "    model.fit(X_train, y_train)\n",
    "    tend = time.time()\n",
    "    print(i, col)\n",
    "    retdf.loc[i, 'model'] = col\n",
    "    retdf.loc[i, 'elapsed'] = tend-tbegin\n",
    "    retdf.loc[i, 'score'] = model.score(X_test, y_test)\n",
    "\n",
    "retdf"
   ]
  },
  {
   "cell_type": "markdown",
   "id": "3a47dff9",
   "metadata": {},
   "source": []
  },
  {
   "cell_type": "markdown",
   "id": "5f35530d",
   "metadata": {},
   "source": [
    "#### 1.3.2. 모델 비교하고 결과 설명"
   ]
  },
  {
   "cell_type": "markdown",
   "id": "729528e6",
   "metadata": {},
   "source": [
    "데이터 수가 적기 때문에 hold-out 기법이 아니라 cross-validation 기법으로 성능을 확인하였고, 위에서 말했던거와 같이 oversampling 기법인 smote를 활용하였다.  \n",
    "따라서, 역시나 logistic이 가장 빨랐으며 svm이 성능이 가장 좋은것을 확인할수있었다."
   ]
  },
  {
   "cell_type": "markdown",
   "id": "86785402",
   "metadata": {},
   "source": [
    "#### 1.3.3. 속도 개선을 위한 차원 축소 설명하고 수행, 예측 성능과 속도 비교하고 결과 작성"
   ]
  },
  {
   "cell_type": "code",
   "execution_count": 22,
   "id": "589d29ad",
   "metadata": {},
   "outputs": [
    {
     "name": "stdout",
     "output_type": "stream",
     "text": [
      "주성분 개수를 정하는 방식으로, 전체 기여율이 80%를 초과하는 선에서 결정하는 방식이 있다.\n",
      "      주성분을 기여율이 큰 것부터 4개를 사용하면 전체 분산의 83%가 설명된다.\n",
      "      따라서 필요한 주성분 개수를 4개로 설정할 수 있다.\n",
      "\n"
     ]
    },
    {
     "data": {
      "text/html": [
       "<div>\n",
       "<style scoped>\n",
       "    .dataframe tbody tr th:only-of-type {\n",
       "        vertical-align: middle;\n",
       "    }\n",
       "\n",
       "    .dataframe tbody tr th {\n",
       "        vertical-align: top;\n",
       "    }\n",
       "\n",
       "    .dataframe thead th {\n",
       "        text-align: right;\n",
       "    }\n",
       "</style>\n",
       "<table border=\"1\" class=\"dataframe\">\n",
       "  <thead>\n",
       "    <tr style=\"text-align: right;\">\n",
       "      <th></th>\n",
       "      <th>고유값</th>\n",
       "      <th>기여율</th>\n",
       "      <th>누적기여율</th>\n",
       "    </tr>\n",
       "  </thead>\n",
       "  <tbody>\n",
       "    <tr>\n",
       "      <th>0</th>\n",
       "      <td>2.553383</td>\n",
       "      <td>0.297590</td>\n",
       "      <td>0.297590</td>\n",
       "    </tr>\n",
       "    <tr>\n",
       "      <th>1</th>\n",
       "      <td>1.579705</td>\n",
       "      <td>0.184111</td>\n",
       "      <td>0.481701</td>\n",
       "    </tr>\n",
       "    <tr>\n",
       "      <th>2</th>\n",
       "      <td>1.280038</td>\n",
       "      <td>0.149185</td>\n",
       "      <td>0.630886</td>\n",
       "    </tr>\n",
       "    <tr>\n",
       "      <th>3</th>\n",
       "      <td>0.979302</td>\n",
       "      <td>0.114135</td>\n",
       "      <td>0.745022</td>\n",
       "    </tr>\n",
       "    <tr>\n",
       "      <th>4</th>\n",
       "      <td>0.796076</td>\n",
       "      <td>0.092781</td>\n",
       "      <td>0.837802</td>\n",
       "    </tr>\n",
       "    <tr>\n",
       "      <th>5</th>\n",
       "      <td>0.584354</td>\n",
       "      <td>0.068105</td>\n",
       "      <td>0.905907</td>\n",
       "    </tr>\n",
       "    <tr>\n",
       "      <th>6</th>\n",
       "      <td>0.449982</td>\n",
       "      <td>0.052444</td>\n",
       "      <td>0.958351</td>\n",
       "    </tr>\n",
       "    <tr>\n",
       "      <th>7</th>\n",
       "      <td>0.357352</td>\n",
       "      <td>0.041649</td>\n",
       "      <td>1.000000</td>\n",
       "    </tr>\n",
       "  </tbody>\n",
       "</table>\n",
       "</div>"
      ],
      "text/plain": [
       "        고유값       기여율     누적기여율\n",
       "0  2.553383  0.297590  0.297590\n",
       "1  1.579705  0.184111  0.481701\n",
       "2  1.280038  0.149185  0.630886\n",
       "3  0.979302  0.114135  0.745022\n",
       "4  0.796076  0.092781  0.837802\n",
       "5  0.584354  0.068105  0.905907\n",
       "6  0.449982  0.052444  0.958351\n",
       "7  0.357352  0.041649  1.000000"
      ]
     },
     "execution_count": 22,
     "metadata": {},
     "output_type": "execute_result"
    }
   ],
   "source": [
    "# 주성분분석과 요인분석을 통해 성능 및 학습시간 개선 효과를 평가한다.\n",
    "\n",
    "from sklearn.decomposition import PCA\n",
    "\n",
    "pca = PCA(n_components=features.shape[1], svd_solver='auto')\n",
    "pca.fit(features)\n",
    "\n",
    "#전체 분산의 80%를 설명하기 위해 필요한 주성분 개수로 결정\n",
    "e_value = pd.DataFrame({'고유값':pca.explained_variance_, '기여율':pca.explained_variance_ratio_})\n",
    "e_value['누적기여율'] = e_value['기여율'].cumsum()\n",
    "\n",
    "print('''주성분 개수를 정하는 방식으로, 전체 기여율이 80%를 초과하는 선에서 결정하는 방식이 있다.\n",
    "      주성분을 기여율이 큰 것부터 4개를 사용하면 전체 분산의 83%가 설명된다.\n",
    "      따라서 필요한 주성분 개수를 4개로 설정할 수 있다.\n",
    "''')\n",
    "e_value\n"
   ]
  },
  {
   "cell_type": "code",
   "execution_count": null,
   "id": "d768c8a8",
   "metadata": {},
   "outputs": [
    {
     "name": "stderr",
     "output_type": "stream",
     "text": [
      "C:\\Users\\krkim1\\AppData\\Roaming\\Python\\Python310\\site-packages\\IPython\\core\\pylabtools.py:170: UserWarning: Glyph 44256 (\\N{HANGUL SYLLABLE GO}) missing from font(s) DejaVu Sans.\n",
      "  fig.canvas.print_figure(bytes_io, **kw)\n",
      "C:\\Users\\krkim1\\AppData\\Roaming\\Python\\Python310\\site-packages\\IPython\\core\\pylabtools.py:170: UserWarning: Glyph 50976 (\\N{HANGUL SYLLABLE YU}) missing from font(s) DejaVu Sans.\n",
      "  fig.canvas.print_figure(bytes_io, **kw)\n",
      "C:\\Users\\krkim1\\AppData\\Roaming\\Python\\Python310\\site-packages\\IPython\\core\\pylabtools.py:170: UserWarning: Glyph 44050 (\\N{HANGUL SYLLABLE GABS}) missing from font(s) DejaVu Sans.\n",
      "  fig.canvas.print_figure(bytes_io, **kw)\n"
     ]
    },
    {
     "data": {
      "image/png": "[encoded data removed]",
      "text/plain": [
       "<Figure size 640x480 with 1 Axes>"
      ]
     },
     "metadata": {},
     "output_type": "display_data"
    }
   ],
   "source": [
    "fig, ax = plt.subplots(1,1)\n",
    "sns.lineplot(x=e_value.index, y='고유값', marker='o', data=e_value, ax=ax)\n",
    "ax.grid()\n",
    "ax.set_title('Scree Plot')\n",
    "for i, v in enumerate(e_value['누적기여율']):\n",
    "    if v > 0.8:\n",
    "        ax.axvline(e_value.index[i], ls='--', color='#ff6600')\n",
    "        best_dim = i+1\n",
    "        break\n",
    "\n",
    "plt.show()"
   ]
  },
  {
   "cell_type": "code",
   "execution_count": 34,
   "id": "7b60ca93",
   "metadata": {},
   "outputs": [
    {
     "data": {
      "text/html": [
       "<div>\n",
       "<style scoped>\n",
       "    .dataframe tbody tr th:only-of-type {\n",
       "        vertical-align: middle;\n",
       "    }\n",
       "\n",
       "    .dataframe tbody tr th {\n",
       "        vertical-align: top;\n",
       "    }\n",
       "\n",
       "    .dataframe thead th {\n",
       "        text-align: right;\n",
       "    }\n",
       "</style>\n",
       "<table border=\"1\" class=\"dataframe\">\n",
       "  <thead>\n",
       "    <tr style=\"text-align: right;\">\n",
       "      <th></th>\n",
       "      <th>feature</th>\n",
       "      <th>elapsed</th>\n",
       "      <th>score</th>\n",
       "    </tr>\n",
       "  </thead>\n",
       "  <tbody>\n",
       "    <tr>\n",
       "      <th>0</th>\n",
       "      <td>LogisticRegression</td>\n",
       "      <td>0.004001</td>\n",
       "      <td>0.844622</td>\n",
       "    </tr>\n",
       "    <tr>\n",
       "      <th>1</th>\n",
       "      <td>SVC</td>\n",
       "      <td>0.010997</td>\n",
       "      <td>0.824701</td>\n",
       "    </tr>\n",
       "    <tr>\n",
       "      <th>2</th>\n",
       "      <td>RandomForestClassifier</td>\n",
       "      <td>1.514357</td>\n",
       "      <td>0.816733</td>\n",
       "    </tr>\n",
       "    <tr>\n",
       "      <th>3</th>\n",
       "      <td>XGBClassifier</td>\n",
       "      <td>0.054997</td>\n",
       "      <td>0.800797</td>\n",
       "    </tr>\n",
       "  </tbody>\n",
       "</table>\n",
       "</div>"
      ],
      "text/plain": [
       "                  feature   elapsed     score\n",
       "0      LogisticRegression  0.004001  0.844622\n",
       "1                     SVC  0.010997  0.824701\n",
       "2  RandomForestClassifier  1.514357  0.816733\n",
       "3           XGBClassifier  0.054997  0.800797"
      ]
     },
     "execution_count": 34,
     "metadata": {},
     "output_type": "execute_result"
    }
   ],
   "source": [
    "from sklearn.pipeline import Pipeline\n",
    "\n",
    "pca = PCA(n_components=best_dim, svd_solver='auto')\n",
    "\n",
    "pcadf = pd.DataFrame()\n",
    "for i, col, model in zip(range(len(models)), model_names, models):\n",
    "    pipe = Pipeline(steps=[('pca',pca), ('model',model)])\n",
    "    tbegin = time.time()\n",
    "    pipe.fit(X_train, y_train)\n",
    "    tend = time.time()\n",
    "    pcadf.loc[i, 'feature'] = col\n",
    "    pcadf.loc[i, 'elapsed'] = tend-tbegin\n",
    "    pcadf.loc[i, 'score'] =  pipe.score(X_test, y_test)\n",
    "pcadf\n",
    "    \n"
   ]
  },
  {
   "cell_type": "code",
   "execution_count": 52,
   "id": "8d7f4a88",
   "metadata": {},
   "outputs": [
    {
     "data": {
      "text/html": [
       "<div>\n",
       "<style scoped>\n",
       "    .dataframe tbody tr th:only-of-type {\n",
       "        vertical-align: middle;\n",
       "    }\n",
       "\n",
       "    .dataframe tbody tr th {\n",
       "        vertical-align: top;\n",
       "    }\n",
       "\n",
       "    .dataframe thead th {\n",
       "        text-align: right;\n",
       "    }\n",
       "</style>\n",
       "<table border=\"1\" class=\"dataframe\">\n",
       "  <thead>\n",
       "    <tr style=\"text-align: right;\">\n",
       "      <th></th>\n",
       "      <th>model</th>\n",
       "      <th>best number</th>\n",
       "      <th>beste score</th>\n",
       "    </tr>\n",
       "  </thead>\n",
       "  <tbody>\n",
       "    <tr>\n",
       "      <th>0</th>\n",
       "      <td>LogisticRegression</td>\n",
       "      <td>6</td>\n",
       "      <td>0.856574</td>\n",
       "    </tr>\n",
       "    <tr>\n",
       "      <th>1</th>\n",
       "      <td>SVC</td>\n",
       "      <td>6</td>\n",
       "      <td>0.836653</td>\n",
       "    </tr>\n",
       "    <tr>\n",
       "      <th>2</th>\n",
       "      <td>RandomForestClassifier</td>\n",
       "      <td>6</td>\n",
       "      <td>0.828685</td>\n",
       "    </tr>\n",
       "    <tr>\n",
       "      <th>3</th>\n",
       "      <td>XGBClassifier</td>\n",
       "      <td>6</td>\n",
       "      <td>0.804781</td>\n",
       "    </tr>\n",
       "  </tbody>\n",
       "</table>\n",
       "</div>"
      ],
      "text/plain": [
       "                    model best number  beste score\n",
       "0      LogisticRegression           6     0.856574\n",
       "1                     SVC           6     0.836653\n",
       "2  RandomForestClassifier           6     0.828685\n",
       "3           XGBClassifier           6     0.804781"
      ]
     },
     "execution_count": 52,
     "metadata": {},
     "output_type": "execute_result"
    }
   ],
   "source": [
    "from sklearn.model_selection import GridSearchCV\n",
    "from sklearn.decomposition import FactorAnalysis\n",
    "best_dim = 5\n",
    "fa = FactorAnalysis(n_components=best_dim)\n",
    "param_grid = {'fa__n_components':[4,5,6]}\n",
    "\n",
    "searchdf = pd.DataFrame()\n",
    "for i, col, model in zip(range(len(models)), model_names, models):\n",
    "    pipe = Pipeline(steps=[('fa',fa), ('model', model)])\n",
    "    search = GridSearchCV(pipe, param_grid=param_grid, cv=4)\n",
    "    search.fit(X_train, y_train)\n",
    "    searchdf.loc[i, 'model'] = col\n",
    "    searchdf.loc[i, 'best number'] = str(search.best_params_.get('fa__n_components'))\n",
    "    searchdf.loc[i, 'beste score'] = search.score(X_test, y_test)\n",
    "\n",
    "searchdf"
   ]
  },
  {
   "cell_type": "markdown",
   "id": "0e39ac15",
   "metadata": {},
   "source": [
    "예측 성능은 다소 상승되었고 속도 측면에도 차원축소에 의해 더 빨라졌다.  \n",
    "향후에 데이터가 크게 늘어난다면 성능 및 속도 측면에서 더 유의미한 차이가 클 것으로 보인다."
   ]
  }
 ],
 "metadata": {
  "kernelspec": {
   "display_name": "Python 3",
   "language": "python",
   "name": "python3"
  },
  "language_info": {
   "codemirror_mode": {
    "name": "ipython",
    "version": 3
   },
   "file_extension": ".py",
   "mimetype": "text/x-python",
   "name": "python",
   "nbconvert_exporter": "python",
   "pygments_lexer": "ipython3",
   "version": "3.11.5"
  },
  "toc": {
   "base_numbering": 1,
   "nav_menu": {},
   "number_sections": true,
   "sideBar": true,
   "skip_h1_title": false,
   "title_cell": "Table of Contents",
   "title_sidebar": "Contents",
   "toc_cell": true,
   "toc_position": {},
   "toc_section_display": true,
   "toc_window_display": false
  }
 },
 "nbformat": 4,
 "nbformat_minor": 5
}
