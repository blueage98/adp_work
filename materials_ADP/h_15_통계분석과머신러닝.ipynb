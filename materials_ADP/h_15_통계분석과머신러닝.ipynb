{
 "cells": [
  {
   "cell_type": "markdown",
   "metadata": {},
   "source": [
    "# 통계분석과 머신러닝\n",
    "\n",
    "- 통계분석과 머신러닝의 차이\n",
    "- 랜덤 넘버\n",
    "- 정규 분포\n",
    "- 가설 검정 (t-검정)\n",
    "- 독립성 검정 (chi 제곱 검정)"
   ]
  },
  {
   "cell_type": "markdown",
   "metadata": {},
   "source": [
    "## 통계분석과 머신러닝의 차이\n",
    "- 통계의 목적은 데이터로부터 어떤 의미, 통찰력(insight)를 얻는 것이다 (확률, 평균치, 분산, 신뢰구간 등)\n",
    "- 머신러닝은 예측, 분류 등을 수행하는 모델(소프트웨어)을 만드는 것이며, 이를 위해서 데이터를 보고 학습하는 방법을 사용한다\n",
    "\n",
    "## 통계 유형\n",
    "- 기술(descriptive) 통계\n",
    " - 데이터의 평균, 중위값, 표준편차, 확률 분포 등으로 현상을 설명한다. 시각화를 주로 이용한다.\n",
    " - 두 개 이상 변수에 대해서 상관관계 등을 본다. 관련성 분석.\n",
    "- 추정(estimation)\n",
    " - 표본 샘플 데이터를 보고 모집단의 특성 (평균, 표준편차 등)을 추정하는 것\n",
    " - 평균, 표준편차 등 특정 수치 값을 추정하는 점추정과, 신뢰구간을 추청하는 구간 추정이 있다\n",
    "- 가설 검정 (testing hypothesis)\n",
    " - 샘플 데이터를 보고, 주장하고자 하는 대립가설(alternative hypothesis)이 맞는지를 검정(testing)하는 것\n",
    " - 대립가설이 맞지 않다는 영(null) 가설이 얼마나 확률적으로 발생 가능한지를 보고 발생확률이 매우 낮으면 영가설이 기각하고 대립가설을 채택한다\n",
    " - 검정은 증명(proof)은 아님! 확률을 제시하는 것임."
   ]
  },
  {
   "cell_type": "markdown",
   "metadata": {},
   "source": [
    "<img src=\"https://raw.githubusercontent.com/data-labs/image/main/%E1%84%89%E1%85%B3%E1%84%8F%E1%85%B3%E1%84%85%E1%85%B5%E1%86%AB%E1%84%89%E1%85%A3%E1%86%BA%202021-01-03%20%E1%84%8B%E1%85%A9%E1%84%92%E1%85%AE%201.48.19.png?raw=1\" width=250 align='left'>"
   ]
  },
  {
   "cell_type": "markdown",
   "metadata": {},
   "source": [
    "- 확률\n",
    " - 확률이란 어떤 사건이 일어날 가능성을 말한다. 즉, 샘플(표본)이 어떻게 발생할지를 예상하는 것\n",
    " - 수식 계산으로 구할 수도 있고 실험으로 구할 수도 있다\n",
    " - 주사위 각 눈금이 나올 확률은 1/6: 공리(axiom) 확률"
   ]
  },
  {
   "cell_type": "markdown",
   "metadata": {},
   "source": [
    "# 랜덤 넘버\n",
    "- 데이터 분석에는 랜덤 넘버를 자주 사용한다\n",
    "- 랜덤 넘버를 사용하는 이유는 불확실한 모든 가능한 경우를 실험적으로 커버할 수 있기 때문이다"
   ]
  },
  {
   "cell_type": "code",
   "execution_count": 4,
   "metadata": {},
   "outputs": [],
   "source": [
    "import pandas as pd\n",
    "import numpy as np\n",
    "import matplotlib.pyplot as plt\n",
    "%matplotlib inline\n",
    "%config InlineBackend.figure_format = 'retina'"
   ]
  },
  {
   "cell_type": "code",
   "execution_count": 5,
   "metadata": {},
   "outputs": [],
   "source": [
    "# 다양한 시각화 도구 패키지\n",
    "import seaborn as sns"
   ]
  },
  {
   "cell_type": "markdown",
   "metadata": {},
   "source": [
    "## 랜덤 넘버를 이용한 파이($\\pi$) 구하기\n",
    "- 컴퓨터가 생성하는 랜덤 넘버가 0~1 사이에서 균등하게, 랜덤하게 발생하는 성질을 이용\n",
    "- 랜덤 넘버를 2개씩 발생시켜 2차원 좌표값을 얻고, 이 위치가 원 내부에 들어가는 경우와 사각형 내에 들어가는 경우의 비율로부터 파이를 구한다\n",
    " - 반지름이 1인 원의 면적은 $\\pi$ 이다"
   ]
  },
  {
   "cell_type": "code",
   "execution_count": 6,
   "metadata": {},
   "outputs": [
    {
     "output_type": "execute_result",
     "data": {
      "text/plain": [
       "(0.0, 1.0)"
      ]
     },
     "metadata": {},
     "execution_count": 6
    },
    {
     "output_type": "display_data",
     "data": {
      "text/plain": "<Figure size 288x288 with 1 Axes>",
      "image/png": "[encoded data removed]"
     },
     "metadata": {
      "image/png": {
       "width": 268,
       "height": 252
      },
      "needs_background": "light"
     }
    }
   ],
   "source": [
    "plt.figure(figsize=(4,4)) \n",
    "xs=np.linspace(0,1, 300) \n",
    "plt.plot(xs, (1-xs**2)**0.5, c='r')\n",
    "plt.text(0.4, 0.4, \"Area=pi/4\")\n",
    "plt.xlim(0,1)\n",
    "plt.ylim(0,1)"
   ]
  },
  {
   "cell_type": "code",
   "execution_count": 7,
   "metadata": {
    "colab": {
     "base_uri": "https://localhost:8080/",
     "height": 50
    },
    "colab_type": "code",
    "executionInfo": {
     "elapsed": 907,
     "status": "ok",
     "timestamp": 1572792039983,
     "user": {
      "displayName": "김화종",
      "photoUrl": "https://lh3.googleusercontent.com/a-/AAuE7mCOtXjyLykQ_8l9Pq2rL3r5y110ynjRS1eb1EzpcQ=s64",
      "userId": "17353049580175403985"
     },
     "user_tz": -540
    },
    "id": "xpHvGofzZ-0B",
    "outputId": "b9ab00a4-c9fd-491e-c073-f4a4f316a9fb"
   },
   "outputs": [
    {
     "output_type": "execute_result",
     "data": {
      "text/plain": [
       "array([0.37357784, 0.00682553, 0.12077389, 0.43233384, 0.99547948,\n",
       "       0.88598577, 0.10529144, 0.01396039, 0.99721689, 0.25722556])"
      ]
     },
     "metadata": {},
     "execution_count": 7
    }
   ],
   "source": [
    "# 0~1 사이의 랜덤 넘버 얻기 (rand 함수 사용)\n",
    "N = 10\n",
    "x = np.random.rand(N)\n",
    "x"
   ]
  },
  {
   "cell_type": "code",
   "execution_count": 8,
   "metadata": {
    "colab": {
     "base_uri": "https://localhost:8080/",
     "height": 50
    },
    "colab_type": "code",
    "executionInfo": {
     "elapsed": 723,
     "status": "ok",
     "timestamp": 1572792046741,
     "user": {
      "displayName": "김화종",
      "photoUrl": "https://lh3.googleusercontent.com/a-/AAuE7mCOtXjyLykQ_8l9Pq2rL3r5y110ynjRS1eb1EzpcQ=s64",
      "userId": "17353049580175403985"
     },
     "user_tz": -540
    },
    "id": "Te8gDPzuaU9d",
    "outputId": "cd57059e-02ec-491f-b10f-a5a80891cf75"
   },
   "outputs": [
    {
     "output_type": "execute_result",
     "data": {
      "text/plain": [
       "array([ True,  True,  True,  True, False, False,  True,  True, False,\n",
       "        True])"
      ]
     },
     "metadata": {},
     "execution_count": 8
    }
   ],
   "source": [
    "x < 0.5"
   ]
  },
  {
   "cell_type": "code",
   "execution_count": 9,
   "metadata": {},
   "outputs": [
    {
     "output_type": "execute_result",
     "data": {
      "text/plain": [
       "0.7"
      ]
     },
     "metadata": {},
     "execution_count": 9
    }
   ],
   "source": [
    "(x < 0.5).mean()"
   ]
  },
  {
   "cell_type": "code",
   "execution_count": 13,
   "metadata": {
    "colab": {},
    "colab_type": "code",
    "id": "4wcqPV_UKaqK",
    "outputId": "0dc453ba-e7ae-442a-bb13-856b632f147f"
   },
   "outputs": [
    {
     "output_type": "execute_result",
     "data": {
      "text/plain": [
       "3.14196"
      ]
     },
     "metadata": {},
     "execution_count": 13
    }
   ],
   "source": [
    "# 시뮬레이션으로 원 내부에 들어간 샘플 수와 사각형 내의 샘플 수의 비율로부터 파이를 구한다\n",
    "# 특정 공간에 랜덤하게 점이 찍힐 확률은 면적 크기에 비례한다는 가정을 사용\n",
    "N = 100000\n",
    "x = np.random.rand(N)\n",
    "y = np.random.rand(N) \n",
    "pi = ((x**2 + y**2) < 1).mean()*4 \n",
    "pi"
   ]
  },
  {
   "cell_type": "code",
   "execution_count": 14,
   "metadata": {},
   "outputs": [
    {
     "output_type": "execute_result",
     "data": {
      "text/plain": [
       "[<matplotlib.lines.Line2D at 0x17fb25a70d0>]"
      ]
     },
     "metadata": {},
     "execution_count": 14
    },
    {
     "output_type": "display_data",
     "data": {
      "text/plain": "<Figure size 288x288 with 1 Axes>",
      "image/png": "[encoded data removed]"
     },
     "metadata": {
      "image/png": {
       "width": 260,
       "height": 248
      },
      "needs_background": "light"
     }
    }
   ],
   "source": [
    "# 실험 내용 시각화\n",
    "plt.figure(figsize=(4,4)) \n",
    "plt.scatter(x,y,s=1) \n",
    "xs=np.linspace(0,1,300) \n",
    "plt.plot(xs, (1-xs**2)**0.5, c='r') # 원 그리기 (붉은색)"
   ]
  },
  {
   "cell_type": "markdown",
   "metadata": {
    "colab_type": "text",
    "id": "ZH7ZX31buZwK"
   },
   "source": [
    "# 정규 분포\n",
    "- 종(bell) 모양의 확률 분포\n",
    "- 자연에서 여러 번 누적된 샘플의 확률 분포는 정규(normal) 분포를 따른다는 특징이 있다\n",
    "- 예: 주사위를 동시에 여러 개 던진 경우 합의 분포는 정규분포를 따른다\n",
    " - 키, 몸무게 등 자연적으로 누적되는 값은 정규분포를 따르는 것이 많다"
   ]
  },
  {
   "cell_type": "code",
   "execution_count": 9,
   "metadata": {
    "colab": {},
    "colab_type": "code",
    "id": "q8OGJ9zUKaqb",
    "outputId": "1f60b0ed-3315-42c6-bad0-065ca8b7e2bc"
   },
   "outputs": [
    {
     "data": {
      "image/png": "[encoded data removed]",
      "text/plain": [
       "<Figure size 432x288 with 1 Axes>"
      ]
     },
     "metadata": {
      "image/png": {
       "height": 248,
       "width": 381
      },
      "needs_background": "light"
     },
     "output_type": "display_data"
    }
   ],
   "source": [
    "# 주사위 하나를 던질 때 나오는 값의 확률 분포: 균일 (uniform) 분포\n",
    "N = 10000\n",
    "x = np.random.randint(1,7, N) \n",
    "\n",
    "plt.hist(x, bins = 6, width=0.4) \n",
    "plt.show()"
   ]
  },
  {
   "cell_type": "markdown",
   "metadata": {},
   "source": [
    "## 누적 샘플의 확률 분포\n",
    "- 주사위를 동시에 여러 개 던져서 나오는 값의 합의 분포"
   ]
  },
  {
   "cell_type": "code",
   "execution_count": 10,
   "metadata": {
    "colab": {},
    "colab_type": "code",
    "id": "qFtW_bxwKaqj",
    "outputId": "039944ce-5226-4b0e-de40-3b3d775a3758",
    "scrolled": true
   },
   "outputs": [],
   "source": [
    "n_multiple = 2 # 주사위를 동시에 던져 합산할 주사위 수\n",
    "\n",
    "# 총 N번 시행한 경우 빈도수를 그리는 함수 정의\n",
    "def show_dices(n_multiple, N=100000):\n",
    "    sum = 0\n",
    "    for i in range(n_multiple):\n",
    "        x = np.random.randint(1,7,N) \n",
    "        sum = sum + x\n",
    "    plt.hist(sum, bins = n_multiple*5+1, width=0.7) \n",
    "    # 주사위를 1, 2, 3개 던질 때 나오는 숫자 경우의 수는 6, 11, 16, 21, ... (5*n+1)\n",
    "    plt.show()"
   ]
  },
  {
   "cell_type": "code",
   "execution_count": 11,
   "metadata": {},
   "outputs": [
    {
     "data": {
      "image/png": "[encoded data removed]",
      "text/plain": [
       "<Figure size 432x288 with 1 Axes>"
      ]
     },
     "metadata": {
      "image/png": {
       "height": 248,
       "width": 388
      },
      "needs_background": "light"
     },
     "output_type": "display_data"
    }
   ],
   "source": [
    "# 주사위를 2개 던질 때의 분포\n",
    "show_dices(2)"
   ]
  },
  {
   "cell_type": "markdown",
   "metadata": {},
   "source": [
    "### 주사위 두 개 합의 확률 분포\n",
    "- 컨볼류션으로 구할 수 있다 (한 확률 분포는 고정하고 다른 분포 함수를 슬라이딩하면서 겹치는 면적을 구한다)\n",
    "- 상수(uniform, 0차원) 함수의 적분은 1차 함수가 된다\n",
    "\n",
    "<img src=\"https://raw.githubusercontent.com/data-labs/image/main/%E1%84%89%E1%85%B3%E1%84%8F%E1%85%B3%E1%84%85%E1%85%B5%E1%86%AB%E1%84%89%E1%85%A3%E1%86%BA%202021-01-03%20%E1%84%8B%E1%85%A9%E1%84%8C%E1%85%A5%E1%86%AB%2011.59.15.png?raw=1\" width=500 align='left'>"
   ]
  },
  {
   "cell_type": "code",
   "execution_count": 12,
   "metadata": {
    "scrolled": true
   },
   "outputs": [
    {
     "data": {
      "image/png": "[encoded data removed]",
      "text/plain": [
       "<Figure size 432x288 with 1 Axes>"
      ]
     },
     "metadata": {
      "image/png": {
       "height": 248,
       "width": 399
      },
      "needs_background": "light"
     },
     "output_type": "display_data"
    }
   ],
   "source": [
    "# 2개씩 던지는 것을 2회 더하는 경우, 즉 4개 주사위 값의 합의 분포\n",
    "show_dices(4)"
   ]
  },
  {
   "cell_type": "markdown",
   "metadata": {},
   "source": [
    "### 주사위 4 개의 합의 확률 분포\n",
    "- 1차 함수의 적분은 2차 함수가 된다\n",
    "\n",
    "<img src=\"https://raw.githubusercontent.com/data-labs/image/main/%E1%84%89%E1%85%B3%E1%84%8F%E1%85%B3%E1%84%85%E1%85%B5%E1%86%AB%E1%84%89%E1%85%A3%E1%86%BA%202021-01-03%20%E1%84%8B%E1%85%A9%E1%84%8C%E1%85%A5%E1%86%AB%2011.59.01.png?raw=1\" width=500 align='left'>"
   ]
  },
  {
   "cell_type": "code",
   "execution_count": 13,
   "metadata": {
    "scrolled": true
   },
   "outputs": [
    {
     "data": {
      "image/png": "[encoded data removed]",
      "text/plain": [
       "<Figure size 432x288 with 1 Axes>"
      ]
     },
     "metadata": {
      "image/png": {
       "height": 248,
       "width": 381
      },
      "needs_background": "light"
     },
     "output_type": "display_data"
    }
   ],
   "source": [
    "# 4개씩 던지는 것을 2번 더하는 경우, 즉 8개 주사위 값의 합의 분포\n",
    "show_dices(8)"
   ]
  },
  {
   "cell_type": "code",
   "execution_count": 14,
   "metadata": {
    "scrolled": true
   },
   "outputs": [
    {
     "data": {
      "image/png": "[encoded data removed]",
      "text/plain": [
       "<Figure size 432x288 with 1 Axes>"
      ]
     },
     "metadata": {
      "image/png": {
       "height": 248,
       "width": 391
      },
      "needs_background": "light"
     },
     "output_type": "display_data"
    }
   ],
   "source": [
    "# 주사위 30개의 합의 확률 분포\n",
    "show_dices(30)"
   ]
  },
  {
   "cell_type": "markdown",
   "metadata": {},
   "source": [
    "### 이를 계속하면 정규 분포에 도달한다\n",
    "- 확률 분포 2개의 컨볼류션 결과가 더 이상 바뀌지 않는 확률 분포를 정규분포라고 한다\n",
    "- Central Limit Theorm\n",
    "\n",
    "<img src=\"https://raw.githubusercontent.com/data-labs/image/main/%E1%84%89%E1%85%B3%E1%84%8F%E1%85%B3%E1%84%85%E1%85%B5%E1%86%AB%E1%84%89%E1%85%A3%E1%86%BA%202021-01-03%20%E1%84%8B%E1%85%A9%E1%84%92%E1%85%AE%2012.10.23.png?raw=1\" width=500 align='left'>"
   ]
  },
  {
   "cell_type": "markdown",
   "metadata": {},
   "source": [
    "- 정규분포 식 \n",
    "\n",
    "<img src=\"https://raw.githubusercontent.com/data-labs/image/main/%E1%84%89%E1%85%B3%E1%84%8F%E1%85%B3%E1%84%85%E1%85%B5%E1%86%AB%E1%84%89%E1%85%A3%E1%86%BA%202021-01-03%20%E1%84%8B%E1%85%A9%E1%84%92%E1%85%AE%2012.13.50.png?raw=1\" width=160 align='left'>"
   ]
  },
  {
   "cell_type": "markdown",
   "metadata": {},
   "source": [
    "- 정규분포를 갖는 랜덤 넘버 발생, randn"
   ]
  },
  {
   "cell_type": "code",
   "execution_count": 15,
   "metadata": {
    "scrolled": true
   },
   "outputs": [
    {
     "data": {
      "image/png": "[encoded data removed]",
      "text/plain": [
       "<Figure size 432x288 with 1 Axes>"
      ]
     },
     "metadata": {
      "image/png": {
       "height": 250,
       "width": 381
      },
      "needs_background": "light"
     },
     "output_type": "display_data"
    }
   ],
   "source": [
    "# 평균이 0, 표준편차가 1인 정규분포 랜덤 넘버 얻기 (randn)\n",
    "x = np.random.randn(100000)\n",
    "plt.hist(x, bins=50, width=0.1)\n",
    "plt.show()"
   ]
  },
  {
   "cell_type": "markdown",
   "metadata": {},
   "source": [
    "## 정규분포의 특징\n",
    "- 자연계에 가장 많이 발생\n",
    "- 어떤 샘플의 확률분포가 정규분포를 따른다면 이의 평균, 분산, 신뢰구간 등의 예측이 수월해진다\n",
    "- 추정 통계 분석에 유용"
   ]
  },
  {
   "cell_type": "markdown",
   "metadata": {},
   "source": [
    "# 검정 통계\n",
    "- 어떤 가설이 맞는지를 검정하는 것 (가설 검정: testing hypothesis)\n",
    " - 데이터를 보고, 주장하고 싶은 대립가설이 맞는지를 검정(testing)하는 것\n",
    " - 대립가설이 맞지 않다는 영(null) 가설이 얼마나 확률적으로 발생 가능한지를 보고 발생확률이 매우 낮으면 영가설이 기각하고 대립가설을 채택한다"
   ]
  },
  {
   "cell_type": "markdown",
   "metadata": {},
   "source": [
    "## 독립비교 t 검정\n",
    "- independence t_test\n",
    "- 두 개의 샘플이 동일한 모집단에서 추출된 것인지를 검정하는 것 (정규 분포를 가정하고 두 표본의 평균의 차이를 검정)\n",
    "- ttest_ind 함수를 사용하여 p-value 가 0.05 이하이면 우연히 발생했다고 보기 어렵다고 판단\n",
    " - 즉, 영가설을 기각하고 대립가설을 채택한다\n",
    " \n",
    "### 정상 주사위와 비정상 주사위\n",
    "- 주사위 눈금이 6이 나오지 않고 1~5만 나오는 횟수가 몇 번 이상이면 일반 주사위 던지기가 아니라고 할 것인가?"
   ]
  },
  {
   "cell_type": "code",
   "execution_count": 16,
   "metadata": {},
   "outputs": [
    {
     "data": {
      "text/plain": [
       "array([1, 5, 3, 4, 6, 2, 4, 6, 1, 5, 3, 1, 1, 5, 6, 2, 5, 6])"
      ]
     },
     "execution_count": 16,
     "metadata": {},
     "output_type": "execute_result"
    }
   ],
   "source": [
    "# 정상적인 주사위 던지기의 발생 패턴 (18회 시행)\n",
    "np.random.randint(1,7,18)"
   ]
  },
  {
   "cell_type": "code",
   "execution_count": 16,
   "metadata": {
    "colab": {},
    "colab_type": "code",
    "id": "u4vswlV5wuMk"
   },
   "outputs": [
    {
     "output_type": "execute_result",
     "data": {
      "text/plain": [
       "Ttest_indResult(statistic=2.107440455967472, pvalue=0.03510410347561524)"
      ]
     },
     "metadata": {},
     "execution_count": 16
    }
   ],
   "source": [
    "# 정상적인 주사위를 10000번 던진 것의 분포와 60번 던졌는데 6이 한번도 나오지 않은 경우 t검정\n",
    "from scipy import stats\n",
    "stats.ttest_ind(np.random.randint(1,7,10000), \n",
    "                np.random.randint(1,6,60))"
   ]
  },
  {
   "cell_type": "code",
   "execution_count": 18,
   "metadata": {},
   "outputs": [
    {
     "data": {
      "text/plain": [
       "0.09296"
      ]
     },
     "execution_count": 18,
     "metadata": {},
     "output_type": "execute_result"
    }
   ],
   "source": [
    "# 6이 연속해서 나오지 않는 횟수를 바꾸어 본다\n",
    "stats.ttest_ind(np.random.randint(1,7,10000), \n",
    "                np.random.randint(1,6,120))[1].round(5)"
   ]
  },
  {
   "cell_type": "markdown",
   "metadata": {},
   "source": [
    "### 동전의 한쪽 면이 몇 번 연속 발생하면 특이한가\n",
    "- 일반적으로는 0, 1이 비슷하게 발생한다\n",
    "- 계속 0이 발생하는 횟수가 몇 번이면 정상이 아니라고 판단하는가? 즉, 대립 가설을 채택하는가?"
   ]
  },
  {
   "cell_type": "code",
   "execution_count": 19,
   "metadata": {},
   "outputs": [
    {
     "data": {
      "text/plain": [
       "0.00165"
      ]
     },
     "execution_count": 19,
     "metadata": {},
     "output_type": "execute_result"
    }
   ],
   "source": [
    "# 정상적인 0, 1 패턴 10000번과, 10회 연속 0만 나오는 패턴이 같은 모집단의 샘플 추출이라고 볼 수 있는가?\n",
    "stats.ttest_ind(np.random.randint(0,2,10000), \n",
    "                np.random.randint(0,1,10))[1].round(5)"
   ]
  },
  {
   "cell_type": "markdown",
   "metadata": {},
   "source": [
    "### 키의 평균치가 다른지를 검정\n",
    "- 두 집단의 (키)의 샘플수, 평균치, 분산 수를 바꾸어 본다\n",
    "- 한 집단의 키의 평균치만 170으로 고정함"
   ]
  },
  {
   "cell_type": "code",
   "execution_count": 20,
   "metadata": {},
   "outputs": [],
   "source": [
    "def ttest_height(n,dev,mean):\n",
    "    return stats.ttest_ind(np.random.randn(n)*dev +170, \n",
    "                np.random.randn(n)*dev + mean)[1]"
   ]
  },
  {
   "cell_type": "code",
   "execution_count": 21,
   "metadata": {},
   "outputs": [
    {
     "data": {
      "text/plain": [
       "0.12383824528503155"
      ]
     },
     "execution_count": 21,
     "metadata": {},
     "output_type": "execute_result"
    }
   ],
   "source": [
    "ttest_height(30, 4, 170)"
   ]
  },
  {
   "cell_type": "code",
   "execution_count": 22,
   "metadata": {},
   "outputs": [],
   "source": [
    "# p-value의 평균치를 구하기 위해서 p-value 를 100회 구하여 평균을 취한다\n",
    "def ttest_h_average(n,dev,mean):\n",
    "    sum = 0\n",
    "    for i in range(100):\n",
    "        sum = sum + stats.ttest_ind(np.random.randn(n)*dev +170, \n",
    "                np.random.randn(n)*dev + mean)[1]\n",
    "    return (sum/100.0).round(5)"
   ]
  },
  {
   "cell_type": "code",
   "execution_count": 23,
   "metadata": {},
   "outputs": [
    {
     "data": {
      "text/plain": [
       "0.47402"
      ]
     },
     "execution_count": 23,
     "metadata": {},
     "output_type": "execute_result"
    }
   ],
   "source": [
    "ttest_h_average(30, 4, 170)"
   ]
  },
  {
   "cell_type": "code",
   "execution_count": 24,
   "metadata": {},
   "outputs": [
    {
     "data": {
      "text/plain": [
       "0.00031"
      ]
     },
     "execution_count": 24,
     "metadata": {},
     "output_type": "execute_result"
    }
   ],
   "source": [
    "ttest_h_average(30, 4, 175)"
   ]
  },
  {
   "cell_type": "code",
   "execution_count": 25,
   "metadata": {},
   "outputs": [
    {
     "data": {
      "text/plain": [
       "0.02292"
      ]
     },
     "execution_count": 25,
     "metadata": {},
     "output_type": "execute_result"
    }
   ],
   "source": [
    "ttest_h_average(300, 4, 171)"
   ]
  },
  {
   "cell_type": "code",
   "execution_count": 26,
   "metadata": {},
   "outputs": [
    {
     "data": {
      "text/plain": [
       "0.00074"
      ]
     },
     "execution_count": 26,
     "metadata": {},
     "output_type": "execute_result"
    }
   ],
   "source": [
    "ttest_h_average(300, 4, 171.5)"
   ]
  },
  {
   "cell_type": "code",
   "execution_count": 27,
   "metadata": {},
   "outputs": [
    {
     "data": {
      "text/plain": [
       "0.13516"
      ]
     },
     "execution_count": 27,
     "metadata": {},
     "output_type": "execute_result"
    }
   ],
   "source": [
    "ttest_h_average(300, 6, 171)"
   ]
  },
  {
   "cell_type": "markdown",
   "metadata": {},
   "source": [
    "## 카이제곱 검정\n",
    "- 독립성 검정 (test for independence)\n",
    "- 두 개의 사건에서 얻은 샘플이 독립적인지(무관한지) 아니면 관계가 있는지를 검정하는 것\n",
    " - 예, 마케팅에서 A/B 테스트가 의미있는 결과를 냈는지를 검정\n",
    "- chi2_contingency 함수를 사용하여 p-value가 0.05 이하이면 우연히 발생했다고 보기 어렵다고 본다. 즉, A/B 테스트가 효과가 있었다는 대립 가설을 채택한다"
   ]
  },
  {
   "cell_type": "markdown",
   "metadata": {},
   "source": [
    "### A/B 테스트의 차이가 없는 경우\n",
    "- 상품 구매 결과가 채널 A/B에 관계 없이 랜덤한 경우"
   ]
  },
  {
   "cell_type": "code",
   "execution_count": 18,
   "metadata": {},
   "outputs": [
    {
     "output_type": "execute_result",
     "data": {
      "text/plain": [
       "    채널  구매\n",
       "0    A   1\n",
       "1    A   1\n",
       "2    A   1\n",
       "3    A   0\n",
       "4    A   0\n",
       "..  ..  ..\n",
       "395  B   1\n",
       "396  B   1\n",
       "397  B   0\n",
       "398  B   1\n",
       "399  B   1\n",
       "\n",
       "[400 rows x 2 columns]"
      ],
      "text/html": "<div>\n<style scoped>\n    .dataframe tbody tr th:only-of-type {\n        vertical-align: middle;\n    }\n\n    .dataframe tbody tr th {\n        vertical-align: top;\n    }\n\n    .dataframe thead th {\n        text-align: right;\n    }\n</style>\n<table border=\"1\" class=\"dataframe\">\n  <thead>\n    <tr style=\"text-align: right;\">\n      <th></th>\n      <th>채널</th>\n      <th>구매</th>\n    </tr>\n  </thead>\n  <tbody>\n    <tr>\n      <th>0</th>\n      <td>A</td>\n      <td>1</td>\n    </tr>\n    <tr>\n      <th>1</th>\n      <td>A</td>\n      <td>1</td>\n    </tr>\n    <tr>\n      <th>2</th>\n      <td>A</td>\n      <td>1</td>\n    </tr>\n    <tr>\n      <th>3</th>\n      <td>A</td>\n      <td>0</td>\n    </tr>\n    <tr>\n      <th>4</th>\n      <td>A</td>\n      <td>0</td>\n    </tr>\n    <tr>\n      <th>...</th>\n      <td>...</td>\n      <td>...</td>\n    </tr>\n    <tr>\n      <th>395</th>\n      <td>B</td>\n      <td>1</td>\n    </tr>\n    <tr>\n      <th>396</th>\n      <td>B</td>\n      <td>1</td>\n    </tr>\n    <tr>\n      <th>397</th>\n      <td>B</td>\n      <td>0</td>\n    </tr>\n    <tr>\n      <th>398</th>\n      <td>B</td>\n      <td>1</td>\n    </tr>\n    <tr>\n      <th>399</th>\n      <td>B</td>\n      <td>1</td>\n    </tr>\n  </tbody>\n</table>\n<p>400 rows × 2 columns</p>\n</div>"
     },
     "metadata": {},
     "execution_count": 18
    }
   ],
   "source": [
    "# 400회의 A/B 테스트 결과 (각각 200회 시행)\n",
    "N = 200\n",
    "ab = [\"A\"]*N + [\"B\"]*N\n",
    "\n",
    "# 구매 결과를 랜덤하게 생성\n",
    "purchase = np.random.choice([0,1], N*2)\n",
    "df_ab = pd.DataFrame({\"채널\":ab, \"구매\":purchase})\n",
    "df_ab"
   ]
  },
  {
   "cell_type": "code",
   "execution_count": 19,
   "metadata": {},
   "outputs": [
    {
     "output_type": "execute_result",
     "data": {
      "text/plain": [
       "구매   0    1\n",
       "채널         \n",
       "A   97  103\n",
       "B   90  110"
      ],
      "text/html": "<div>\n<style scoped>\n    .dataframe tbody tr th:only-of-type {\n        vertical-align: middle;\n    }\n\n    .dataframe tbody tr th {\n        vertical-align: top;\n    }\n\n    .dataframe thead th {\n        text-align: right;\n    }\n</style>\n<table border=\"1\" class=\"dataframe\">\n  <thead>\n    <tr style=\"text-align: right;\">\n      <th>구매</th>\n      <th>0</th>\n      <th>1</th>\n    </tr>\n    <tr>\n      <th>채널</th>\n      <th></th>\n      <th></th>\n    </tr>\n  </thead>\n  <tbody>\n    <tr>\n      <th>A</th>\n      <td>97</td>\n      <td>103</td>\n    </tr>\n    <tr>\n      <th>B</th>\n      <td>90</td>\n      <td>110</td>\n    </tr>\n  </tbody>\n</table>\n</div>"
     },
     "metadata": {},
     "execution_count": 19
    }
   ],
   "source": [
    "# 교차 집계 테이블\n",
    "df = pd.crosstab(df_ab['채널'], df_ab['구매'])\n",
    "df"
   ]
  },
  {
   "cell_type": "code",
   "execution_count": 20,
   "metadata": {},
   "outputs": [
    {
     "output_type": "execute_result",
     "data": {
      "text/plain": [
       "0.483"
      ]
     },
     "metadata": {},
     "execution_count": 20
    }
   ],
   "source": [
    "# 카이제곱 검정\n",
    "# p-value가 0.05 이상이면, A/B 테스트는 차이가 없다는 영가설을 채택한다\n",
    "_,p,_,_ = stats.chi2_contingency(df, correction=False)\n",
    "p.round(5)"
   ]
  },
  {
   "cell_type": "markdown",
   "metadata": {},
   "source": [
    "### A/B 테스트의 차이가 있는 경우\n",
    "- 즉, 상품 구매율이 채널 A/B에 따라 다른 경우"
   ]
  },
  {
   "cell_type": "code",
   "execution_count": 21,
   "metadata": {},
   "outputs": [
    {
     "output_type": "stream",
     "name": "stdout",
     "text": [
      "구매    0    1\n채널          \nA    87  113\nB   101   99\n"
     ]
    },
    {
     "output_type": "execute_result",
     "data": {
      "text/plain": [
       "0.16076"
      ]
     },
     "metadata": {},
     "execution_count": 21
    }
   ],
   "source": [
    "# A 채널이면 평균 60%가 구매하고, B 채널이면 평균 45% 구매했다고 가정\n",
    "\n",
    "p1 = np.random.choice([0,1], N, p=[0.4, 0.6])\n",
    "p2 = np.random.choice([0,1], N, p=[0.5, 0.5])\n",
    "\n",
    "purchase = np.concatenate((p1,p2))\n",
    "# purchase = np.random.choice([0,1], N*2) # 랜덤하게 구매한 경우 \n",
    "df_ab = pd.DataFrame({\"채널\":ab, \"구매\":purchase})\n",
    "df = pd.crosstab(df_ab['채널'], df_ab['구매'])\n",
    "print(df)\n",
    "_,p,_,_ = stats.chi2_contingency(df, correction=False)\n",
    "p.round(5)"
   ]
  },
  {
   "cell_type": "markdown",
   "metadata": {},
   "source": [
    "- p-value가 0.05 이하이면 두 채널 A/B는 유의미한 차이가 있다고 본다"
   ]
  },
  {
   "cell_type": "markdown",
   "metadata": {},
   "source": [
    "# 통계분석과 머신러닝\n",
    "- 통계학에서는 이론적인 근거를 설명하는 것을 중요시 한다. 가설, 확률, 신뢰구간, 오차범위 등을 다룬다\n",
    "- 머신러닝은 이론적인 근거 제시보다는 예측이나 분류를 잘 수행하는 소프트웨어 모델을 만드는 것을 목표로 한다\n",
    "- 분석할 데이터의 량이 적으면 통계적 분석에 의존하여 '설명'을 해야 하나, 데이터가 충분히 많으면 머신러닝 모델을 만들어 실전에서 동작하는 모델을 만드는 것이 더 유용하다"
   ]
  }
 ],
 "metadata": {
  "colab": {
   "collapsed_sections": [],
   "name": "kb_1_파이선기초_191104.ipynb",
   "provenance": []
  },
  "kernelspec": {
   "name": "python395jvsc74a57bd07e196111c0f8b7eafe88be2bb6f43931b9454577a13eef41ab4769a6aea0c439",
   "display_name": "Python 3.9.5 64-bit"
  },
  "language_info": {
   "codemirror_mode": {
    "name": "ipython",
    "version": 3
   },
   "file_extension": ".py",
   "mimetype": "text/x-python",
   "name": "python",
   "nbconvert_exporter": "python",
   "pygments_lexer": "ipython3",
   "version": "3.9.5"
  },
  "toc": {
   "base_numbering": 1,
   "nav_menu": {},
   "number_sections": false,
   "sideBar": true,
   "skip_h1_title": false,
   "title_cell": "Table of Contents",
   "title_sidebar": "Contents",
   "toc_cell": false,
   "toc_position": {
    "height": "calc(100% - 180px)",
    "left": "10px",
    "top": "150px",
    "width": "246.837px"
   },
   "toc_section_display": true,
   "toc_window_display": false
  },
  "metadata": {
   "interpreter": {
    "hash": "7e196111c0f8b7eafe88be2bb6f43931b9454577a13eef41ab4769a6aea0c439"
   }
  }
 },
 "nbformat": 4,
 "nbformat_minor": 1
}