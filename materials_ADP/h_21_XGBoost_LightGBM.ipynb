{
 "cells": [
  {
   "cell_type": "markdown",
   "metadata": {
    "id": "zOmwm3UCGwDh"
   },
   "source": [
    "# XGBoost, LightBGBM\n",
    "- 모듈을 먼저 설치해야 함\n",
    "- 코랩에서 실행"
   ]
  },
  {
   "cell_type": "markdown",
   "metadata": {
    "id": "Ve6KyDK_GwDj"
   },
   "source": [
    "## 유방암 데이터\n"
   ]
  },
  {
   "cell_type": "code",
   "execution_count": 1,
   "metadata": {
    "id": "VS5YEMvnGwDk"
   },
   "outputs": [],
   "source": [
    "import pandas as pd\n",
    "import numpy as np\n",
    "import matplotlib.pyplot as plt\n",
    "from sklearn.datasets import load_breast_cancer\n",
    "from sklearn.model_selection import train_test_split\n",
    "import warnings\n",
    "warnings.filterwarnings('ignore')"
   ]
  },
  {
   "cell_type": "code",
   "execution_count": 2,
   "metadata": {
    "id": "xj5FukioGwDk"
   },
   "outputs": [],
   "source": [
    "cancer = load_breast_cancer()\n",
    "X = cancer.data\n",
    "y = cancer.target"
   ]
  },
  {
   "cell_type": "code",
   "execution_count": 3,
   "metadata": {
    "colab": {
     "base_uri": "https://localhost:8080/"
    },
    "id": "X9MtH9ZYGwDl",
    "outputId": "4cb28f1e-5f7e-495f-b690-c1b4f6ae64d8"
   },
   "outputs": [
    {
     "data": {
      "text/plain": [
       "((426, 30), (143, 30))"
      ]
     },
     "execution_count": 3,
     "metadata": {
      "tags": []
     },
     "output_type": "execute_result"
    }
   ],
   "source": [
    "X_train, X_test, y_train, y_test=train_test_split(X, y)\n",
    "X_train.shape , X_test.shape"
   ]
  },
  {
   "cell_type": "code",
   "execution_count": 4,
   "metadata": {
    "id": "_uSGu6FNGwDm"
   },
   "outputs": [],
   "source": [
    "from sklearn.metrics import confusion_matrix, accuracy_score\n",
    "from sklearn.metrics import classification_report, precision_score, recall_score\n",
    "from sklearn.metrics import f1_score, roc_auc_score\n",
    "\n",
    "def get_clf_eval(y_test , pred):\n",
    "    confusion = confusion_matrix( y_test, pred)\n",
    "    accuracy = accuracy_score(y_test , pred)\n",
    "    precision = precision_score(y_test , pred)\n",
    "    recall = recall_score(y_test , pred)\n",
    "    f1 = f1_score(y_test,pred)\n",
    "    roc_auc = roc_auc_score(y_test, pred)\n",
    "    print('컨퓨전 매트릭스')\n",
    "    print(confusion)\n",
    "    print('정확도: {0:.3f}, 정밀도: {1:.3f}, 재현율: {2:.3f}, F1: {3:.3f},\\\n",
    "    AUC:{4:.3f}'.format(accuracy, precision, recall, f1, roc_auc))"
   ]
  },
  {
   "cell_type": "markdown",
   "metadata": {
    "id": "QsXHWPrYGwDm"
   },
   "source": [
    "## XGBoost\n",
    "- 사이킷런 래퍼 방식 (사이킷런의 Estimator를 상속하여 만들었다)\n",
    "- fit(), predict() 사용 가능\n",
    "- XGBClassifier, XGBRegressor 제공\n",
    "- 조기 종료 설정"
   ]
  },
  {
   "cell_type": "code",
   "execution_count": 5,
   "metadata": {
    "colab": {
     "base_uri": "https://localhost:8080/"
    },
    "id": "0dBBafU5GwDm",
    "outputId": "6b639c0e-9177-4365-b876-8342953946dc"
   },
   "outputs": [
    {
     "name": "stdout",
     "output_type": "stream",
     "text": [
      "[0]\tvalidation_0-logloss:0.619017\n",
      "Will train until validation_0-logloss hasn't improved in 10 rounds.\n",
      "[1]\tvalidation_0-logloss:0.558404\n",
      "[2]\tvalidation_0-logloss:0.509847\n",
      "[3]\tvalidation_0-logloss:0.466663\n",
      "[4]\tvalidation_0-logloss:0.431344\n",
      "[5]\tvalidation_0-logloss:0.401128\n",
      "[6]\tvalidation_0-logloss:0.376488\n",
      "[7]\tvalidation_0-logloss:0.354242\n",
      "[8]\tvalidation_0-logloss:0.333556\n",
      "[9]\tvalidation_0-logloss:0.318115\n",
      "[10]\tvalidation_0-logloss:0.302524\n",
      "[11]\tvalidation_0-logloss:0.28841\n",
      "[12]\tvalidation_0-logloss:0.276892\n",
      "[13]\tvalidation_0-logloss:0.266584\n",
      "[14]\tvalidation_0-logloss:0.257886\n",
      "[15]\tvalidation_0-logloss:0.251839\n",
      "[16]\tvalidation_0-logloss:0.243829\n",
      "[17]\tvalidation_0-logloss:0.240141\n",
      "[18]\tvalidation_0-logloss:0.23558\n",
      "[19]\tvalidation_0-logloss:0.230989\n",
      "[20]\tvalidation_0-logloss:0.228708\n",
      "[21]\tvalidation_0-logloss:0.224353\n",
      "[22]\tvalidation_0-logloss:0.221645\n",
      "[23]\tvalidation_0-logloss:0.221139\n",
      "[24]\tvalidation_0-logloss:0.220442\n",
      "[25]\tvalidation_0-logloss:0.218755\n",
      "[26]\tvalidation_0-logloss:0.217767\n",
      "[27]\tvalidation_0-logloss:0.216829\n",
      "[28]\tvalidation_0-logloss:0.21614\n",
      "[29]\tvalidation_0-logloss:0.216313\n",
      "[30]\tvalidation_0-logloss:0.216096\n",
      "[31]\tvalidation_0-logloss:0.217768\n",
      "[32]\tvalidation_0-logloss:0.218663\n",
      "[33]\tvalidation_0-logloss:0.218135\n",
      "[34]\tvalidation_0-logloss:0.218669\n",
      "[35]\tvalidation_0-logloss:0.218203\n",
      "[36]\tvalidation_0-logloss:0.219035\n",
      "[37]\tvalidation_0-logloss:0.219266\n",
      "[38]\tvalidation_0-logloss:0.22082\n",
      "[39]\tvalidation_0-logloss:0.219726\n",
      "[40]\tvalidation_0-logloss:0.221317\n",
      "Stopping. Best iteration:\n",
      "[30]\tvalidation_0-logloss:0.216096\n",
      "\n"
     ]
    }
   ],
   "source": [
    "from xgboost import XGBClassifier\n",
    "\n",
    "evals = [(X_test, y_test)]\n",
    "xgb_clf = XGBClassifier(n_estimators=200, learning_rate=0.1, max_depth=3)\n",
    "xgb_clf.fit(X_train, y_train, early_stopping_rounds=10, \n",
    "                eval_metric=\"logloss\", eval_set=evals, verbose=True)\n",
    "y_pred = xgb_clf.predict(X_test)"
   ]
  },
  {
   "cell_type": "code",
   "execution_count": 6,
   "metadata": {
    "colab": {
     "base_uri": "https://localhost:8080/"
    },
    "id": "OzdttJ0IGwDn",
    "outputId": "961ef563-7dd1-4e31-da1a-3f8fbcbe4de1",
    "scrolled": true
   },
   "outputs": [
    {
     "name": "stdout",
     "output_type": "stream",
     "text": [
      "컨퓨전 매트릭스\n",
      "[[46  9]\n",
      " [ 3 85]]\n",
      "정확도: 0.916, 정밀도: 0.904, 재현율: 0.966, F1: 0.934,    AUC:0.901\n"
     ]
    }
   ],
   "source": [
    "get_clf_eval(y_test, y_pred)"
   ]
  },
  {
   "cell_type": "markdown",
   "metadata": {
    "id": "b3pjl8IqGwDn"
   },
   "source": [
    "## 특성 중요도 출력"
   ]
  },
  {
   "cell_type": "code",
   "execution_count": 7,
   "metadata": {
    "colab": {
     "base_uri": "https://localhost:8080/",
     "height": 748
    },
    "id": "PDJSm8fhGwDn",
    "outputId": "0d0a3c06-0609-466c-9996-665ad0a4f0f8"
   },
   "outputs": [
    {
     "data": {
      "text/plain": [
       "<matplotlib.axes._subplots.AxesSubplot at 0x7f3f4b732b90>"
      ]
     },
     "execution_count": 7,
     "metadata": {
      "tags": []
     },
     "output_type": "execute_result"
    },
    {
     "data": {
      "image/png": "[encoded data removed]",
      "text/plain": [
       "<Figure size 720x864 with 1 Axes>"
      ]
     },
     "metadata": {
      "needs_background": "light",
      "tags": []
     },
     "output_type": "display_data"
    }
   ],
   "source": [
    "from xgboost import plot_importance\n",
    "fig, ax = plt.subplots(figsize=(10, 12))\n",
    "plot_importance(xgb_clf, ax=ax)"
   ]
  },
  {
   "cell_type": "markdown",
   "metadata": {
    "id": "D0a-MCa9GwDo"
   },
   "source": [
    "## 랜덤 포레스트와 비교"
   ]
  },
  {
   "cell_type": "code",
   "execution_count": 8,
   "metadata": {
    "colab": {
     "base_uri": "https://localhost:8080/"
    },
    "id": "YGJS0ZqLGwDo",
    "outputId": "49483526-f3ce-43ea-94ba-221a75809e20"
   },
   "outputs": [
    {
     "name": "stdout",
     "output_type": "stream",
     "text": [
      "컨퓨전 매트릭스\n",
      "[[51  4]\n",
      " [ 2 86]]\n",
      "정확도: 0.958, 정밀도: 0.956, 재현율: 0.977, F1: 0.966,    AUC:0.952\n"
     ]
    }
   ],
   "source": [
    "from sklearn.ensemble import RandomForestClassifier\n",
    "rfc = RandomForestClassifier(n_estimators=100)\n",
    "rfc.fit(X_train, y_train)\n",
    "y_pred_rfc = rfc.predict(X_test)\n",
    "get_clf_eval(y_test, y_pred_rfc)"
   ]
  },
  {
   "cell_type": "markdown",
   "metadata": {
    "id": "KuR3EFFwGwDo"
   },
   "source": [
    "# LightGBM \n",
    "- LightGBM 설치"
   ]
  },
  {
   "cell_type": "code",
   "execution_count": 9,
   "metadata": {
    "id": "ZptFWAdeW4GS"
   },
   "outputs": [],
   "source": [
    "from lightgbm import LGBMClassifier"
   ]
  },
  {
   "cell_type": "code",
   "execution_count": 10,
   "metadata": {
    "colab": {
     "base_uri": "https://localhost:8080/"
    },
    "collapsed": true,
    "id": "Ac7wfKRGV7wr",
    "outputId": "56ba0d23-768d-46ea-ff69-0fcd6c4c2e4c"
   },
   "outputs": [
    {
     "name": "stdout",
     "output_type": "stream",
     "text": [
      "[1]\tvalid_0's binary_logloss: 0.592626\tvalid_0's binary_logloss: 0.592626\n",
      "Training until validation scores don't improve for 10 rounds.\n",
      "[2]\tvalid_0's binary_logloss: 0.536348\tvalid_0's binary_logloss: 0.536348\n",
      "[3]\tvalid_0's binary_logloss: 0.48574\tvalid_0's binary_logloss: 0.48574\n",
      "[4]\tvalid_0's binary_logloss: 0.450057\tvalid_0's binary_logloss: 0.450057\n",
      "[5]\tvalid_0's binary_logloss: 0.415304\tvalid_0's binary_logloss: 0.415304\n",
      "[6]\tvalid_0's binary_logloss: 0.387133\tvalid_0's binary_logloss: 0.387133\n",
      "[7]\tvalid_0's binary_logloss: 0.362769\tvalid_0's binary_logloss: 0.362769\n",
      "[8]\tvalid_0's binary_logloss: 0.337655\tvalid_0's binary_logloss: 0.337655\n",
      "[9]\tvalid_0's binary_logloss: 0.318755\tvalid_0's binary_logloss: 0.318755\n",
      "[10]\tvalid_0's binary_logloss: 0.301132\tvalid_0's binary_logloss: 0.301132\n",
      "[11]\tvalid_0's binary_logloss: 0.28413\tvalid_0's binary_logloss: 0.28413\n",
      "[12]\tvalid_0's binary_logloss: 0.273094\tvalid_0's binary_logloss: 0.273094\n",
      "[13]\tvalid_0's binary_logloss: 0.260725\tvalid_0's binary_logloss: 0.260725\n",
      "[14]\tvalid_0's binary_logloss: 0.248588\tvalid_0's binary_logloss: 0.248588\n",
      "[15]\tvalid_0's binary_logloss: 0.240664\tvalid_0's binary_logloss: 0.240664\n",
      "[16]\tvalid_0's binary_logloss: 0.232861\tvalid_0's binary_logloss: 0.232861\n",
      "[17]\tvalid_0's binary_logloss: 0.224634\tvalid_0's binary_logloss: 0.224634\n",
      "[18]\tvalid_0's binary_logloss: 0.219546\tvalid_0's binary_logloss: 0.219546\n",
      "[19]\tvalid_0's binary_logloss: 0.215003\tvalid_0's binary_logloss: 0.215003\n",
      "[20]\tvalid_0's binary_logloss: 0.21176\tvalid_0's binary_logloss: 0.21176\n",
      "[21]\tvalid_0's binary_logloss: 0.205701\tvalid_0's binary_logloss: 0.205701\n",
      "[22]\tvalid_0's binary_logloss: 0.200678\tvalid_0's binary_logloss: 0.200678\n",
      "[23]\tvalid_0's binary_logloss: 0.196586\tvalid_0's binary_logloss: 0.196586\n",
      "[24]\tvalid_0's binary_logloss: 0.193247\tvalid_0's binary_logloss: 0.193247\n",
      "[25]\tvalid_0's binary_logloss: 0.189238\tvalid_0's binary_logloss: 0.189238\n",
      "[26]\tvalid_0's binary_logloss: 0.185803\tvalid_0's binary_logloss: 0.185803\n",
      "[27]\tvalid_0's binary_logloss: 0.185781\tvalid_0's binary_logloss: 0.185781\n",
      "[28]\tvalid_0's binary_logloss: 0.183137\tvalid_0's binary_logloss: 0.183137\n",
      "[29]\tvalid_0's binary_logloss: 0.181556\tvalid_0's binary_logloss: 0.181556\n",
      "[30]\tvalid_0's binary_logloss: 0.181184\tvalid_0's binary_logloss: 0.181184\n",
      "[31]\tvalid_0's binary_logloss: 0.182297\tvalid_0's binary_logloss: 0.182297\n",
      "[32]\tvalid_0's binary_logloss: 0.181467\tvalid_0's binary_logloss: 0.181467\n",
      "[33]\tvalid_0's binary_logloss: 0.180335\tvalid_0's binary_logloss: 0.180335\n",
      "[34]\tvalid_0's binary_logloss: 0.181499\tvalid_0's binary_logloss: 0.181499\n",
      "[35]\tvalid_0's binary_logloss: 0.183428\tvalid_0's binary_logloss: 0.183428\n",
      "[36]\tvalid_0's binary_logloss: 0.184648\tvalid_0's binary_logloss: 0.184648\n",
      "[37]\tvalid_0's binary_logloss: 0.183365\tvalid_0's binary_logloss: 0.183365\n",
      "[38]\tvalid_0's binary_logloss: 0.183201\tvalid_0's binary_logloss: 0.183201\n",
      "[39]\tvalid_0's binary_logloss: 0.185124\tvalid_0's binary_logloss: 0.185124\n",
      "[40]\tvalid_0's binary_logloss: 0.187255\tvalid_0's binary_logloss: 0.187255\n",
      "[41]\tvalid_0's binary_logloss: 0.187039\tvalid_0's binary_logloss: 0.187039\n",
      "[42]\tvalid_0's binary_logloss: 0.188873\tvalid_0's binary_logloss: 0.188873\n",
      "[43]\tvalid_0's binary_logloss: 0.190081\tvalid_0's binary_logloss: 0.190081\n",
      "Early stopping, best iteration is:\n",
      "[33]\tvalid_0's binary_logloss: 0.180335\tvalid_0's binary_logloss: 0.180335\n"
     ]
    },
    {
     "data": {
      "text/plain": [
       "LGBMClassifier(boosting_type='gbdt', class_weight=None, colsample_bytree=1.0,\n",
       "               importance_type='split', learning_rate=0.1, max_depth=-1,\n",
       "               min_child_samples=20, min_child_weight=0.001, min_split_gain=0.0,\n",
       "               n_estimators=200, n_jobs=-1, num_leaves=31, objective=None,\n",
       "               random_state=None, reg_alpha=0.0, reg_lambda=0.0, silent=True,\n",
       "               subsample=1.0, subsample_for_bin=200000, subsample_freq=0)"
      ]
     },
     "execution_count": 10,
     "metadata": {
      "tags": []
     },
     "output_type": "execute_result"
    }
   ],
   "source": [
    "lgbm_clf = LGBMClassifier(n_estimators=200)\n",
    "evals = [(X_test, y_test)]\n",
    "lgbm_clf.fit(X_train, y_train, early_stopping_rounds=10, \n",
    "                 eval_metric=\"logloss\", eval_set=evals, verbose=True)"
   ]
  },
  {
   "cell_type": "code",
   "execution_count": 11,
   "metadata": {
    "colab": {
     "base_uri": "https://localhost:8080/"
    },
    "id": "bXM2F8M_W4GV",
    "outputId": "f1bbd4d3-ff17-4549-b015-223cd1cbfec5"
   },
   "outputs": [
    {
     "name": "stdout",
     "output_type": "stream",
     "text": [
      "컨퓨전 매트릭스\n",
      "[[48  7]\n",
      " [ 3 85]]\n",
      "정확도: 0.930, 정밀도: 0.924, 재현율: 0.966, F1: 0.944,    AUC:0.919\n",
      "----------------\n",
      "              precision    recall  f1-score   support\n",
      "\n",
      "           0       0.94      0.87      0.91        55\n",
      "           1       0.92      0.97      0.94        88\n",
      "\n",
      "    accuracy                           0.93       143\n",
      "   macro avg       0.93      0.92      0.93       143\n",
      "weighted avg       0.93      0.93      0.93       143\n",
      "\n"
     ]
    }
   ],
   "source": [
    "y_pred_lgbm = lgbm_clf.predict(X_test)\n",
    "get_clf_eval(y_test, y_pred_lgbm)\n",
    "print('----------------')\n",
    "print(classification_report(y_test, y_pred_lgbm))"
   ]
  },
  {
   "cell_type": "code",
   "execution_count": 12,
   "metadata": {
    "colab": {
     "base_uri": "https://localhost:8080/",
     "height": 748
    },
    "id": "TejTHbVMW4Gb",
    "outputId": "1052437c-c85e-4cc9-c3cf-11927ddaa726"
   },
   "outputs": [
    {
     "data": {
      "text/plain": [
       "<matplotlib.axes._subplots.AxesSubplot at 0x7f3f3eafc410>"
      ]
     },
     "execution_count": 12,
     "metadata": {
      "tags": []
     },
     "output_type": "execute_result"
    },
    {
     "data": {
      "image/png": "[encoded data removed]",
      "text/plain": [
       "<Figure size 720x864 with 1 Axes>"
      ]
     },
     "metadata": {
      "needs_background": "light",
      "tags": []
     },
     "output_type": "display_data"
    }
   ],
   "source": [
    "from lightgbm import plot_importance\n",
    "fig, ax = plt.subplots(figsize=(10, 12))\n",
    "plot_importance(lgbm_clf, ax=ax)"
   ]
  },
  {
   "cell_type": "code",
   "execution_count": 12,
   "metadata": {
    "id": "82Lzq8KlW4Ge"
   },
   "outputs": [],
   "source": []
  },
  {
   "cell_type": "code",
   "execution_count": 12,
   "metadata": {
    "id": "-2GfZvMTGwDr"
   },
   "outputs": [],
   "source": []
  }
 ],
 "metadata": {
  "colab": {
   "collapsed_sections": [],
   "name": "h_21_XGBoost_LightGBM.ipynb",
   "provenance": []
  },
  "kernelspec": {
   "display_name": "Python 3",
   "language": "python",
   "name": "python3"
  },
  "language_info": {
   "codemirror_mode": {
    "name": "ipython",
    "version": 3
   },
   "file_extension": ".py",
   "mimetype": "text/x-python",
   "name": "python",
   "nbconvert_exporter": "python",
   "pygments_lexer": "ipython3",
   "version": "3.8.5"
  },
  "toc": {
   "base_numbering": 1,
   "nav_menu": {},
   "number_sections": false,
   "sideBar": true,
   "skip_h1_title": false,
   "title_cell": "Table of Contents",
   "title_sidebar": "Contents",
   "toc_cell": false,
   "toc_position": {},
   "toc_section_display": true,
   "toc_window_display": true
  }
 },
 "nbformat": 4,
 "nbformat_minor": 1
}
