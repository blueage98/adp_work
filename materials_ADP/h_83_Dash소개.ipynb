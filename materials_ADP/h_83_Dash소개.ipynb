{
 "cells": [
  {
   "cell_type": "markdown",
   "id": "faa69b80",
   "metadata": {},
   "source": [
    "# Dash 소개\n",
    "\n",
    "- Flask를 이용하여 웹기반 동작을 수행하고, plot.ly 기반으로 인터랙티브한 시각화가 가능하게 하는 파이썬 시각화 도구\n",
    "- JupyterDash: 플라스크를 백그라운드에서 실행함으로써 쥬피터의 인터랙티브 동작이 가능하게 했다\n",
    "- 세가지 모드가 가능하다 (JupyterDash.run_server 에서 지정)\n",
    " - External (별도의 URL을 알려주고 이를 클릭하면 다른 창에서 띄울 수 있다)\n",
    " - Inline (현재 노트북에서 바로 볼 수 있다) - IPython.display.IFrame 사용\n",
    " - JupyterLab (별도의 쥬피터랩 창에서 띄운다)\n",
    "- Hot Reloading\n",
    " - 수정된 코드 내용이 바로 반영되게 한다 (debug=True)\n",
    "- 참고: https://dash.plotly.com/"
   ]
  },
  {
   "cell_type": "markdown",
   "id": "cf3684d7",
   "metadata": {},
   "source": [
    "## 설치\n",
    "- dash_html_components, dash_core_components, dash_table, plotly 등을 설치한다"
   ]
  },
  {
   "cell_type": "code",
   "execution_count": 5,
   "id": "f92a78c7",
   "metadata": {},
   "outputs": [],
   "source": [
    "# !mamba install dash -y\n",
    "# !mamba install jupyter-dash -y"
   ]
  },
  {
   "cell_type": "code",
   "execution_count": 1,
   "id": "67c7447b",
   "metadata": {},
   "outputs": [],
   "source": [
    "import dash\n",
    "import dash_core_components as dcc\n",
    "import dash_html_components as html\n",
    "import plotly.express as px\n",
    "import pandas as pd\n",
    "from jupyter_dash import JupyterDash\n",
    "from dash.dependencies import Input, Output, State"
   ]
  },
  {
   "cell_type": "markdown",
   "id": "71b9c5fe",
   "metadata": {},
   "source": [
    "# 레이아웃\n",
    "\n",
    "- 대시는 1)레이아웃과 2)상호동작으로 구성된다\n",
    "- htms.Div, dcc.Graph 과 같은 컴포넌트 트리 구조를 따른다\n",
    " - html.H1(children='Hello Dash') 컴포넌트는 \\<h1>Hello Dash\\</h1> 코드 생성\n",
    " - children= 속성은 생략해도 된다\n",
    " - dcc는 자바스크립트, HTML, CSS 등이 생성하는 고차원적인 컴포넌트를 표현 (React.js 라이브러리 사용)\n",
    "    "
   ]
  },
  {
   "cell_type": "code",
   "execution_count": 4,
   "id": "03c37bd6",
   "metadata": {
    "scrolled": true
   },
   "outputs": [
    {
     "name": "stdout",
     "output_type": "stream",
     "text": [
      "Dash app running on http://127.0.0.1:8050/\n"
     ]
    }
   ],
   "source": [
    "# -*- coding: utf-8 -*-\n",
    "# external_stylesheets = ['https://codepen.io/chriddyp/pen/bWLwgP.css']\n",
    "\n",
    "app = JupyterDash(__name__)\n",
    "\n",
    "# 독립된 .py f로 실행할 때\n",
    "# app = dash.Dash(__name__, external_stylesheets=external_stylesheets)\n",
    "df = pd.DataFrame({\n",
    "    \"Fruit\": [\"Apples\", \"Oranges\", \"Bananas\", \"Apples\", \"Oranges\", \"Bananas\"],\n",
    "    \"Amount\": [4, 1, 2, 2, 4, 5],\n",
    "    \"City\": [\"SF\", \"SF\", \"SF\", \"Montreal\", \"Montreal\", \"Montreal\"]\n",
    "})\n",
    "\n",
    "fig = px.bar(df, x=\"Fruit\", y=\"Amount\", color=\"City\", barmode=\"group\")\n",
    "\n",
    "app.layout = html.Div(children=[\n",
    "    html.H1(children='Hello Dash'),\n",
    "\n",
    "    html.Div(children='''\n",
    "        Dash: A web application framework for Python.\n",
    "    '''),\n",
    "\n",
    "    dcc.Graph(\n",
    "        id='example-graph',\n",
    "        figure=fig\n",
    "    )\n",
    "])\n",
    "\n",
    "app.run_server(debug=True)\n",
    "# 디폴트는 external\n",
    "# app.run_server(mode='inline', debug=True)\n",
    "# 독립적인 .py 프로그램으로 실행할 때\n",
    "# if __name__ == '__main__':\n",
    "#     app.run_server(debug=True) "
   ]
  },
  {
   "cell_type": "markdown",
   "id": "9d553329",
   "metadata": {},
   "source": [
    "## style을 바꾼 예\n",
    "- 속성은 파이썬의 딕셔너리로 지정한다\n",
    "- 첫번째 인자는 children으로 인식한다\n",
    "- HTML 갤러리: https://dash.plotly.com/dash-html-components"
   ]
  },
  {
   "cell_type": "markdown",
   "id": "b8768147",
   "metadata": {},
   "source": [
    "- html.H1('Hello Dash', style={'textAlign': 'center', 'color': '#7FDBFF'}) 는 아래와 같다\n",
    "- \\<h1 style=\"text-align: center; color: #7FDBFF\">Hello Dash\\</h1>"
   ]
  },
  {
   "cell_type": "code",
   "execution_count": 5,
   "id": "1eda8c25",
   "metadata": {},
   "outputs": [
    {
     "data": {
      "text/html": [
       "\n",
       "        <iframe\n",
       "            width=\"100%\"\n",
       "            height=\"650\"\n",
       "            src=\"http://127.0.0.1:8050/\"\n",
       "            frameborder=\"0\"\n",
       "            allowfullscreen\n",
       "        ></iframe>\n",
       "        "
      ],
      "text/plain": [
       "<IPython.lib.display.IFrame at 0x7fe5f083ec10>"
      ]
     },
     "metadata": {},
     "output_type": "display_data"
    }
   ],
   "source": [
    "app = JupyterDash(__name__)\n",
    "\n",
    "colors = {\n",
    "    'background': '#111111',\n",
    "    'text': '#7FDBFF'\n",
    "}\n",
    "\n",
    "df = pd.DataFrame({\n",
    "    \"Fruit\": [\"Apples\", \"Oranges\", \"Bananas\", \"Apples\", \"Oranges\", \"Bananas\"],\n",
    "    \"Amount\": [4, 1, 2, 2, 4, 5],\n",
    "    \"City\": [\"SF\", \"SF\", \"SF\", \"Montreal\", \"Montreal\", \"Montreal\"]\n",
    "})\n",
    "\n",
    "fig = px.bar(df, x=\"Fruit\", y=\"Amount\", color=\"City\", barmode=\"group\")\n",
    "\n",
    "fig.update_layout(\n",
    "    plot_bgcolor=colors['background'],\n",
    "    paper_bgcolor=colors['background'],\n",
    "    font_color=colors['text']\n",
    ")\n",
    "\n",
    "app.layout = html.Div(style={'backgroundColor': colors['background']}, children=[\n",
    "    html.H1(\n",
    "        children='Hello Dash',\n",
    "        style={\n",
    "            'textAlign': 'center',\n",
    "            'color': colors['text']\n",
    "        }\n",
    "    ),\n",
    "\n",
    "    html.Div(children='Dash: A web application framework for Python.', style={\n",
    "        'textAlign': 'center',\n",
    "        'color': colors['text']\n",
    "    }),\n",
    "\n",
    "    dcc.Graph(\n",
    "        id='example-graph-2',\n",
    "        figure=fig\n",
    "    )\n",
    "])\n",
    "\n",
    "app.run_server(mode='inline',debug=True)"
   ]
  },
  {
   "cell_type": "markdown",
   "id": "5439877d",
   "metadata": {},
   "source": [
    "## 테이블 불러오기"
   ]
  },
  {
   "cell_type": "code",
   "execution_count": 8,
   "id": "deb82ab2",
   "metadata": {},
   "outputs": [
    {
     "data": {
      "text/html": [
       "\n",
       "        <iframe\n",
       "            width=\"100%\"\n",
       "            height=\"650\"\n",
       "            src=\"http://127.0.0.1:8050/\"\n",
       "            frameborder=\"0\"\n",
       "            allowfullscreen\n",
       "        ></iframe>\n",
       "        "
      ],
      "text/plain": [
       "<IPython.lib.display.IFrame at 0x7fe5f07dfb90>"
      ]
     },
     "metadata": {},
     "output_type": "display_data"
    }
   ],
   "source": [
    "df = pd.read_csv('https://gist.githubusercontent.com/chriddyp/c78bf172206ce24f77d6363a2d754b59/raw/c353e8ef842413cae56ae3920b8fd78468aa4cb2/usa-agricultural-exports-2011.csv')\n",
    "\n",
    "def generate_table(dataframe, max_rows=10):\n",
    "    return html.Table([\n",
    "        html.Thead(\n",
    "            html.Tr([html.Th(col) for col in dataframe.columns])\n",
    "        ),\n",
    "        html.Tbody([\n",
    "            html.Tr([\n",
    "                html.Td(dataframe.iloc[i][col]) for col in dataframe.columns\n",
    "            ]) for i in range(min(len(dataframe), max_rows))\n",
    "        ])\n",
    "    ])\n",
    "\n",
    "\n",
    "external_stylesheets = ['https://codepen.io/chriddyp/pen/bWLwgP.css']\n",
    "\n",
    "app = JupyterDash(__name__, external_stylesheets=external_stylesheets)\n",
    "# app = JupyterDash(__name__)\n",
    "\n",
    "app.layout = html.Div(children=[\n",
    "    html.H4(children='US Agriculture Exports (2011)'),\n",
    "    generate_table(df)\n",
    "])\n",
    "\n",
    "app.run_server(mode='inline',debug=True)"
   ]
  },
  {
   "cell_type": "markdown",
   "id": "b915c918",
   "metadata": {},
   "source": [
    "# Graph\n",
    "- plot.ly 자바스크립트 라이브러리를 이용한 인터랙티브 시각화를 제공\n",
    "- figure 인자를 사용"
   ]
  },
  {
   "cell_type": "code",
   "execution_count": 10,
   "id": "e3973e2c",
   "metadata": {},
   "outputs": [
    {
     "data": {
      "text/html": [
       "\n",
       "        <iframe\n",
       "            width=\"100%\"\n",
       "            height=\"650\"\n",
       "            src=\"http://127.0.0.1:8050/\"\n",
       "            frameborder=\"0\"\n",
       "            allowfullscreen\n",
       "        ></iframe>\n",
       "        "
      ],
      "text/plain": [
       "<IPython.lib.display.IFrame at 0x7fe5f0612810>"
      ]
     },
     "metadata": {},
     "output_type": "display_data"
    }
   ],
   "source": [
    "app = JupyterDash(__name__)\n",
    "df = pd.read_csv('https://gist.githubusercontent.com/chriddyp/5d1ea79569ed194d432e56108a04d188/raw/a9f9e8076b837d541398e999dcbac2b2826a81f8/gdp-life-exp-2007.csv')\n",
    "\n",
    "fig = px.scatter(df, x=\"gdp per capita\", y=\"life expectancy\",\n",
    "                 size=\"population\", color=\"continent\", hover_name=\"country\",\n",
    "                 log_x=True, size_max=60)\n",
    "\n",
    "app.layout = html.Div([\n",
    "    dcc.Graph(\n",
    "        id='life-exp-vs-gdp',\n",
    "        figure=fig\n",
    "    )\n",
    "])\n",
    "app.run_server(mode='inline', debug=True)"
   ]
  },
  {
   "cell_type": "markdown",
   "id": "a4417666",
   "metadata": {},
   "source": [
    "## 마크다운 사용 가능\n",
    "- 마크다운 사용법 https://commonmark.org/help/"
   ]
  },
  {
   "cell_type": "code",
   "execution_count": 11,
   "id": "9904ac31",
   "metadata": {},
   "outputs": [
    {
     "data": {
      "text/html": [
       "\n",
       "        <iframe\n",
       "            width=\"100%\"\n",
       "            height=\"650\"\n",
       "            src=\"http://127.0.0.1:8050/\"\n",
       "            frameborder=\"0\"\n",
       "            allowfullscreen\n",
       "        ></iframe>\n",
       "        "
      ],
      "text/plain": [
       "<IPython.lib.display.IFrame at 0x7fe5f03fab90>"
      ]
     },
     "metadata": {},
     "output_type": "display_data"
    }
   ],
   "source": [
    "app = JupyterDash(__name__)\n",
    "\n",
    "markdown_text = '''\n",
    "## Title\n",
    "### Dash and Markdown\n",
    "- explain  \n",
    "\n",
    "Dash apps can be written in Markdown.\n",
    "Dash uses the [CommonMark](http://commonmark.org/)\n",
    "specification of Markdown.\n",
    "Check out their [60 Second Markdown Tutorial](http://commonmark.org/help/)\n",
    "if this is your first introduction to Markdown!\n",
    "'''\n",
    "\n",
    "app.layout = html.Div([\n",
    "    dcc.Markdown(children=markdown_text)\n",
    "])\n",
    "\n",
    "if __name__ == '__main__':\n",
    "    app.run_server(mode='inline',debug=True)"
   ]
  },
  {
   "cell_type": "markdown",
   "id": "5adf2fce",
   "metadata": {},
   "source": [
    "# 코어 콤포넌트\n",
    "- dropdowns, graphs, 버튼, 콜트롤, markdown 블록지정 등 다양한 컴포넌트 제공\n",
    "\n",
    "- 갤러리 https://dash.plotly.com/dash-core-components"
   ]
  },
  {
   "cell_type": "code",
   "execution_count": 12,
   "id": "af2d1b67",
   "metadata": {},
   "outputs": [
    {
     "data": {
      "text/html": [
       "\n",
       "        <iframe\n",
       "            width=\"100%\"\n",
       "            height=\"650\"\n",
       "            src=\"http://127.0.0.1:8050/\"\n",
       "            frameborder=\"0\"\n",
       "            allowfullscreen\n",
       "        ></iframe>\n",
       "        "
      ],
      "text/plain": [
       "<IPython.lib.display.IFrame at 0x7fe5efa55c50>"
      ]
     },
     "metadata": {},
     "output_type": "display_data"
    }
   ],
   "source": [
    "app = JupyterDash(__name__)\n",
    "\n",
    "app.layout = html.Div([\n",
    "    html.Label('Dropdown'),\n",
    "    dcc.Dropdown(\n",
    "        options=[\n",
    "            {'label': 'New York City', 'value': 'NYC'},\n",
    "            {'label': u'Montréal', 'value': 'MTL'},\n",
    "            {'label': 'San Francisco', 'value': 'SF'}\n",
    "        ],\n",
    "        value='MTL'\n",
    "    ),\n",
    "\n",
    "    html.Label('Multi-Select Dropdown'),\n",
    "    dcc.Dropdown(\n",
    "        options=[\n",
    "            {'label': 'New York City', 'value': 'NYC'},\n",
    "            {'label': u'Montréal', 'value': 'MTL'},\n",
    "            {'label': 'San Francisco', 'value': 'SF'}\n",
    "        ],\n",
    "        value=['MTL', 'SF'],\n",
    "        multi=True\n",
    "    ),\n",
    "\n",
    "    html.Label('Radio Items'),\n",
    "    dcc.RadioItems(\n",
    "        options=[\n",
    "            {'label': 'New York City', 'value': 'NYC'},\n",
    "            {'label': u'Montréal', 'value': 'MTL'},\n",
    "            {'label': 'San Francisco', 'value': 'SF'}\n",
    "        ],\n",
    "        value='MTL'\n",
    "    ),\n",
    "\n",
    "    html.Label('Checkboxes'),\n",
    "    dcc.Checklist(\n",
    "        options=[\n",
    "            {'label': 'New York City', 'value': 'NYC'},\n",
    "            {'label': u'Montréal', 'value': 'MTL'},\n",
    "            {'label': 'San Francisco', 'value': 'SF'}\n",
    "        ],\n",
    "        value=['MTL', 'SF']\n",
    "    ),\n",
    "\n",
    "    html.Label('Text Input'),\n",
    "    dcc.Input(value='MTL', type='text'),\n",
    "\n",
    "    html.Label('Slider'),\n",
    "    dcc.Slider(\n",
    "        min=0,\n",
    "        max=9,\n",
    "        marks={i: 'Label {}'.format(i) if i == 1 else str(i) for i in range(1, 6)},\n",
    "        value=5,\n",
    "    ),\n",
    "], style={'columnCount': 2})\n",
    "\n",
    "app.run_server(mode='inline', debug=True)"
   ]
  },
  {
   "cell_type": "markdown",
   "id": "159f850b",
   "metadata": {},
   "source": [
    "# 콜백\n",
    "- 사용자 입력 등에 반응하여 프로그램을 수행하는 방법 (reactive programming)\n",
    "- 콜백이 글로벌 변수, 테이블, 데이터를 바꾸지 않도록 조심해야 한다\n",
    "- @app.callback에서 입력과 출력을 지정\n",
    "- (주의) dash.dependencies의 Input, Output이다\n",
    "- 주기적으로 원본 데이터를 자동으로 업데이트하려면 layout.transition을 사용한다"
   ]
  },
  {
   "cell_type": "code",
   "execution_count": 13,
   "id": "bb28e75d",
   "metadata": {},
   "outputs": [
    {
     "data": {
      "text/html": [
       "\n",
       "        <iframe\n",
       "            width=\"100%\"\n",
       "            height=\"650\"\n",
       "            src=\"http://127.0.0.1:8050/\"\n",
       "            frameborder=\"0\"\n",
       "            allowfullscreen\n",
       "        ></iframe>\n",
       "        "
      ],
      "text/plain": [
       "<IPython.lib.display.IFrame at 0x7fe5efa55c50>"
      ]
     },
     "metadata": {},
     "output_type": "display_data"
    }
   ],
   "source": [
    "from dash.dependencies import Input, Output\n",
    "\n",
    "app = JupyterDash(__name__)\n",
    "\n",
    "app.layout = html.Div([\n",
    "    html.H6(\"Change the value in the text box to see callbacks in action!\"),\n",
    "    html.Div([\"Input: \",\n",
    "              dcc.Input(id='my-input', value='initial value', type='text')]),\n",
    "    html.Br(),\n",
    "    html.Div(id='my-output'),\n",
    "\n",
    "])\n",
    "\n",
    "# id와 속성을 지정(안 해도 된다). 입력 속성이 바뀔때마다 해당 함수가 실행된다\n",
    "@app.callback(\n",
    "    Output(component_id='my-output', component_property='children'),\n",
    "    Input(component_id='my-input', component_property='value')\n",
    ")\n",
    "def update_output_div(input_value):\n",
    "    return 'Output: {}'.format(input_value)\n",
    "\n",
    "app.run_server(mode='inline',debug=True)"
   ]
  },
  {
   "cell_type": "code",
   "execution_count": 27,
   "id": "00b06517",
   "metadata": {},
   "outputs": [
    {
     "data": {
      "text/html": [
       "\n",
       "        <iframe\n",
       "            width=\"100%\"\n",
       "            height=\"650\"\n",
       "            src=\"http://127.0.0.1:8050/\"\n",
       "            frameborder=\"0\"\n",
       "            allowfullscreen\n",
       "        ></iframe>\n",
       "        "
      ],
      "text/plain": [
       "<IPython.lib.display.IFrame at 0x7fd322637f50>"
      ]
     },
     "metadata": {},
     "output_type": "display_data"
    }
   ],
   "source": [
    "df = pd.read_csv('https://raw.githubusercontent.com/plotly/datasets/master/gapminderDataFiveYear.csv')\n",
    "\n",
    "app = JupyterDash(__name__)\n",
    "app.layout = html.Div([\n",
    "    dcc.Graph(id='graph-with-slider'),\n",
    "    dcc.Slider(\n",
    "        id='year-slider',\n",
    "        min=df['year'].min(),\n",
    "        max=df['year'].max(),\n",
    "        value=df['year'].min(),\n",
    "        marks={str(year): str(year) for year in df['year'].unique()},\n",
    "        step=None\n",
    "    )\n",
    "])\n",
    "\n",
    "# 입력이 value이고 출력이 figure이며, 입력이 바뀔 때마다 해당 함수 update_figure를 수행한다\n",
    "@app.callback(\n",
    "    Output('graph-with-slider', 'figure'),\n",
    "    Input('year-slider', 'value'))\n",
    "def update_figure(selected_year):\n",
    "    filtered_df = df[df.year == selected_year]\n",
    "\n",
    "    fig = px.scatter(filtered_df, x=\"gdpPercap\", y=\"lifeExp\",\n",
    "                     size=\"pop\", color=\"continent\", hover_name=\"country\",\n",
    "                     log_x=True, size_max=55)\n",
    "\n",
    "    fig.update_layout(transition_duration=500)\n",
    "\n",
    "    return fig\n",
    "\n",
    "app.run_server(mode='inline',debug=True)"
   ]
  },
  {
   "cell_type": "markdown",
   "id": "3e47562f",
   "metadata": {},
   "source": [
    "## 다수의 입력에 반응\n",
    "- 다수의 입력의 하나의 출력을 콜백할 수 있다"
   ]
  },
  {
   "cell_type": "code",
   "execution_count": 14,
   "id": "44dfcefa",
   "metadata": {},
   "outputs": [
    {
     "data": {
      "text/html": [
       "\n",
       "        <iframe\n",
       "            width=\"100%\"\n",
       "            height=\"650\"\n",
       "            src=\"http://127.0.0.1:8050/\"\n",
       "            frameborder=\"0\"\n",
       "            allowfullscreen\n",
       "        ></iframe>\n",
       "        "
      ],
      "text/plain": [
       "<IPython.lib.display.IFrame at 0x7fe5f0a69bd0>"
      ]
     },
     "metadata": {},
     "output_type": "display_data"
    }
   ],
   "source": [
    "app = JupyterDash(__name__)\n",
    "\n",
    "df = pd.read_csv('https://plotly.github.io/datasets/country_indicators.csv')\n",
    "available_indicators = df['Indicator Name'].unique()\n",
    "\n",
    "app.layout = html.Div([\n",
    "    html.Div([\n",
    "\n",
    "        html.Div([\n",
    "            dcc.Dropdown(\n",
    "                id='xaxis-column',\n",
    "                options=[{'label': i, 'value': i} for i in available_indicators],\n",
    "                value='Fertility rate, total (births per woman)'\n",
    "            ),\n",
    "            dcc.RadioItems(\n",
    "                id='xaxis-type',\n",
    "                options=[{'label': i, 'value': i} for i in ['Linear', 'Log']],\n",
    "                value='Linear',\n",
    "                labelStyle={'display': 'inline-block'}\n",
    "            )\n",
    "        ],\n",
    "        style={'width': '48%', 'display': 'inline-block'}),\n",
    "\n",
    "        html.Div([\n",
    "            dcc.Dropdown(\n",
    "                id='yaxis-column',\n",
    "                options=[{'label': i, 'value': i} for i in available_indicators],\n",
    "                value='Life expectancy at birth, total (years)'\n",
    "            ),\n",
    "            dcc.RadioItems(\n",
    "                id='yaxis-type',\n",
    "                options=[{'label': i, 'value': i} for i in ['Linear', 'Log']],\n",
    "                value='Linear',\n",
    "                labelStyle={'display': 'inline-block'}\n",
    "            )\n",
    "        ],style={'width': '48%', 'float': 'right', 'display': 'inline-block'})\n",
    "    ]),\n",
    "\n",
    "    dcc.Graph(id='indicator-graphic'),\n",
    "\n",
    "    dcc.Slider(\n",
    "        id='year--slider',\n",
    "        min=df['Year'].min(),\n",
    "        max=df['Year'].max(),\n",
    "        value=df['Year'].max(),\n",
    "        marks={str(year): str(year) for year in df['Year'].unique()},\n",
    "        step=None\n",
    "    )\n",
    "])\n",
    "\n",
    "@app.callback(\n",
    "    Output('indicator-graphic', 'figure'),\n",
    "    Input('xaxis-column', 'value'),\n",
    "    Input('yaxis-column', 'value'),\n",
    "    Input('xaxis-type', 'value'),\n",
    "    Input('yaxis-type', 'value'),\n",
    "    Input('year--slider', 'value'))\n",
    "def update_graph(xaxis_column_name, yaxis_column_name,\n",
    "                 xaxis_type, yaxis_type,\n",
    "                 year_value):\n",
    "    dff = df[df['Year'] == year_value]\n",
    "\n",
    "    fig = px.scatter(x=dff[dff['Indicator Name'] == xaxis_column_name]['Value'],\n",
    "                     y=dff[dff['Indicator Name'] == yaxis_column_name]['Value'],\n",
    "                     hover_name=dff[dff['Indicator Name'] == yaxis_column_name]['Country Name'])\n",
    "\n",
    "    fig.update_layout(margin={'l': 40, 'b': 40, 't': 10, 'r': 0}, hovermode='closest')\n",
    "\n",
    "    fig.update_xaxes(title=xaxis_column_name,\n",
    "                     type='linear' if xaxis_type == 'Linear' else 'log')\n",
    "\n",
    "    fig.update_yaxes(title=yaxis_column_name,\n",
    "                     type='linear' if yaxis_type == 'Linear' else 'log')\n",
    "\n",
    "    return fig\n",
    "\n",
    "app.run_server(mode='inline', debug=True)"
   ]
  },
  {
   "cell_type": "markdown",
   "id": "74aec280",
   "metadata": {},
   "source": [
    "## 다수의 출력을 생성"
   ]
  },
  {
   "cell_type": "code",
   "execution_count": 16,
   "id": "2138691b",
   "metadata": {
    "scrolled": true
   },
   "outputs": [
    {
     "data": {
      "text/html": [
       "\n",
       "        <iframe\n",
       "            width=\"100%\"\n",
       "            height=\"650\"\n",
       "            src=\"http://127.0.0.1:8050/\"\n",
       "            frameborder=\"0\"\n",
       "            allowfullscreen\n",
       "        ></iframe>\n",
       "        "
      ],
      "text/plain": [
       "<IPython.lib.display.IFrame at 0x7fe5f08a49d0>"
      ]
     },
     "metadata": {},
     "output_type": "display_data"
    }
   ],
   "source": [
    "app = JupyterDash(__name__, external_stylesheets=external_stylesheets)\n",
    "\n",
    "app.layout = html.Div([\n",
    "    dcc.Input(\n",
    "        id='num-multi',\n",
    "        type='number',\n",
    "        value=5\n",
    "    ),\n",
    "    html.Table([\n",
    "        html.Tr([html.Td(['x', html.Sup(2)]), html.Td(id='square')]),\n",
    "        html.Tr([html.Td(['x', html.Sup(3)]), html.Td(id='cube')]),\n",
    "        html.Tr([html.Td([2, html.Sup('x')]), html.Td(id='twos')]),\n",
    "        html.Tr([html.Td([3, html.Sup('x')]), html.Td(id='threes')]),\n",
    "        html.Tr([html.Td(['x', html.Sup('x')]), html.Td(id='x^x')]),\n",
    "    ]),\n",
    "])\n",
    "\n",
    "\n",
    "@app.callback(\n",
    "    Output('square', 'children'),\n",
    "    Output('cube', 'children'),\n",
    "    Output('twos', 'children'),\n",
    "    Output('threes', 'children'),\n",
    "    Output('x^x', 'children'),\n",
    "    Input('num-multi', 'value'))\n",
    "def callback_a(x):\n",
    "    return x**2, x**3, 2**x, 3**x, x**x\n",
    "\n",
    "app.run_server(mode='inline',debug=True)"
   ]
  },
  {
   "cell_type": "markdown",
   "id": "24544337",
   "metadata": {},
   "source": [
    "## 입력의 상대(state) 사용하기\n",
    "- 입력을 즉시 반영하는 경우"
   ]
  },
  {
   "cell_type": "code",
   "execution_count": 19,
   "id": "4114b1a0",
   "metadata": {
    "scrolled": true
   },
   "outputs": [
    {
     "data": {
      "text/html": [
       "\n",
       "        <iframe\n",
       "            width=\"100%\"\n",
       "            height=\"650\"\n",
       "            src=\"http://127.0.0.1:8050/\"\n",
       "            frameborder=\"0\"\n",
       "            allowfullscreen\n",
       "        ></iframe>\n",
       "        "
      ],
      "text/plain": [
       "<IPython.lib.display.IFrame at 0x7fe5f00f0d10>"
      ]
     },
     "metadata": {},
     "output_type": "display_data"
    }
   ],
   "source": [
    "app = JupyterDash(__name__, external_stylesheets=external_stylesheets)\n",
    "# app = JupyterDash(__name__)\n",
    "\n",
    "app.layout = html.Div(\n",
    "    [\n",
    "        dcc.Input(id=\"input-1\", type=\"text\", value=\"Montréal\"),\n",
    "        dcc.Input(id=\"input-2\", type=\"text\", value=\"Canada\"),\n",
    "        html.Div(id=\"number-output\"),\n",
    "    ]\n",
    ")\n",
    "\n",
    "\n",
    "@app.callback(\n",
    "    Output(\"number-output\", \"children\"),\n",
    "    Input(\"input-1\", \"value\"),\n",
    "    Input(\"input-2\", \"value\"),\n",
    ")\n",
    "def update_output(input1, input2):\n",
    "    return u'Input 1 is \"{}\" and Input 2 is \"{}\"'.format(input1, input2)\n",
    "\n",
    "\n",
    "app.run_server(mode='inline', debug=True)"
   ]
  },
  {
   "cell_type": "markdown",
   "id": "bade9841",
   "metadata": {},
   "source": [
    "-  입력상태 (버튼)을 사용하는 경우"
   ]
  },
  {
   "cell_type": "code",
   "execution_count": 20,
   "id": "dcc70564",
   "metadata": {
    "scrolled": true
   },
   "outputs": [
    {
     "data": {
      "text/html": [
       "\n",
       "        <iframe\n",
       "            width=\"100%\"\n",
       "            height=\"650\"\n",
       "            src=\"http://127.0.0.1:8050/\"\n",
       "            frameborder=\"0\"\n",
       "            allowfullscreen\n",
       "        ></iframe>\n",
       "        "
      ],
      "text/plain": [
       "<IPython.lib.display.IFrame at 0x7fe5f226c4d0>"
      ]
     },
     "metadata": {},
     "output_type": "display_data"
    }
   ],
   "source": [
    "# import dash_design_kit as ddk\n",
    "app = JupyterDash(__name__, external_stylesheets=external_stylesheets)\n",
    "\n",
    "app.layout = html.Div([\n",
    "    dcc.Input(id='input-1-state', type='text', value='Montréal'),\n",
    "    dcc.Input(id='input-2-state', type='text', value='Canada'),\n",
    "    html.Button(id='submit-button-state', n_clicks=0, children='Submit'),\n",
    "    html.Div(id='output-state')\n",
    "])\n",
    "\n",
    "@app.callback(Output('output-state', 'children'),\n",
    "              Input('submit-button-state', 'n_clicks'),\n",
    "              State('input-1-state', 'value'),\n",
    "              State('input-2-state', 'value'))\n",
    "def update_output(n_clicks, input1, input2):\n",
    "    return u'''\n",
    "        The Button has been pressed {} times,\n",
    "        Input 1 is \"{}\",\n",
    "        and Input 2 is \"{}\"\n",
    "    '''.format(n_clicks, input1, input2)\n",
    "\n",
    "app.run_server(mode='inline', debug=True)"
   ]
  },
  {
   "cell_type": "markdown",
   "id": "aa60c38d",
   "metadata": {},
   "source": [
    "# Graph 사용법\n",
    "- 인터랫티브 입력 지원\n",
    "- 4가지 속성을 가지고 있다.\n",
    "- hoverData, clickData, selectedData, relayoutData"
   ]
  },
  {
   "cell_type": "code",
   "execution_count": 21,
   "id": "64c9dc0e",
   "metadata": {
    "scrolled": true
   },
   "outputs": [
    {
     "data": {
      "text/html": [
       "\n",
       "        <iframe\n",
       "            width=\"100%\"\n",
       "            height=\"650\"\n",
       "            src=\"http://127.0.0.1:8050/\"\n",
       "            frameborder=\"0\"\n",
       "            allowfullscreen\n",
       "        ></iframe>\n",
       "        "
      ],
      "text/plain": [
       "<IPython.lib.display.IFrame at 0x7fe5f087cad0>"
      ]
     },
     "metadata": {},
     "output_type": "display_data"
    }
   ],
   "source": [
    "import json\n",
    "app = JupyterDash(__name__, external_stylesheets=external_stylesheets)\n",
    "\n",
    "styles = {\n",
    "    'pre': {\n",
    "        'border': 'thin lightgrey solid',\n",
    "        'overflowX': 'scroll'\n",
    "    }\n",
    "}\n",
    "\n",
    "df = pd.DataFrame({\n",
    "    \"x\": [1,2,1,2],\n",
    "    \"y\": [1,2,3,4],\n",
    "    \"customdata\": [1,2,3,4],\n",
    "    \"fruit\": [\"apple\", \"apple\", \"orange\", \"orange\"]\n",
    "})\n",
    "\n",
    "fig = px.scatter(df, x=\"x\", y=\"y\", color=\"fruit\", custom_data=[\"customdata\"])\n",
    "\n",
    "fig.update_layout(clickmode='event+select')\n",
    "\n",
    "fig.update_traces(marker_size=20)\n",
    "\n",
    "app.layout = html.Div([\n",
    "    dcc.Graph(\n",
    "        id='basic-interactions',\n",
    "        figure=fig\n",
    "    ),\n",
    "\n",
    "    html.Div(className='row', children=[\n",
    "        html.Div([\n",
    "            dcc.Markdown(\"\"\"\n",
    "                **Hover Data**\n",
    "\n",
    "                Mouse over values in the graph.\n",
    "            \"\"\"),\n",
    "            html.Pre(id='hover-data', style=styles['pre'])\n",
    "        ], className='three columns'),\n",
    "\n",
    "        html.Div([\n",
    "            dcc.Markdown(\"\"\"\n",
    "                **Click Data**\n",
    "\n",
    "                Click on points in the graph.\n",
    "            \"\"\"),\n",
    "            html.Pre(id='click-data', style=styles['pre']),\n",
    "        ], className='three columns'),\n",
    "\n",
    "        html.Div([\n",
    "            dcc.Markdown(\"\"\"\n",
    "                **Selection Data**\n",
    "\n",
    "                Choose the lasso or rectangle tool in the graph's menu\n",
    "                bar and then select points in the graph.\n",
    "\n",
    "                Note that if `layout.clickmode = 'event+select'`, selection data also\n",
    "                accumulates (or un-accumulates) selected data if you hold down the shift\n",
    "                button while clicking.\n",
    "            \"\"\"),\n",
    "            html.Pre(id='selected-data', style=styles['pre']),\n",
    "        ], className='three columns'),\n",
    "\n",
    "        html.Div([\n",
    "            dcc.Markdown(\"\"\"\n",
    "                **Zoom and Relayout Data**\n",
    "\n",
    "                Click and drag on the graph to zoom or click on the zoom\n",
    "                buttons in the graph's menu bar.\n",
    "                Clicking on legend items will also fire\n",
    "                this event.\n",
    "            \"\"\"),\n",
    "            html.Pre(id='relayout-data', style=styles['pre']),\n",
    "        ], className='three columns')\n",
    "    ])\n",
    "])\n",
    "\n",
    "\n",
    "@app.callback(\n",
    "    Output('hover-data', 'children'),\n",
    "    Input('basic-interactions', 'hoverData'))\n",
    "def display_hover_data(hoverData):\n",
    "    return json.dumps(hoverData, indent=2)\n",
    "\n",
    "\n",
    "@app.callback(\n",
    "    Output('click-data', 'children'),\n",
    "    Input('basic-interactions', 'clickData'))\n",
    "def display_click_data(clickData):\n",
    "    return json.dumps(clickData, indent=2)\n",
    "\n",
    "\n",
    "@app.callback(\n",
    "    Output('selected-data', 'children'),\n",
    "    Input('basic-interactions', 'selectedData'))\n",
    "def display_selected_data(selectedData):\n",
    "    return json.dumps(selectedData, indent=2)\n",
    "\n",
    "\n",
    "@app.callback(\n",
    "    Output('relayout-data', 'children'),\n",
    "    Input('basic-interactions', 'relayoutData'))\n",
    "def display_relayout_data(relayoutData):\n",
    "    return json.dumps(relayoutData, indent=2)\n",
    "\n",
    "app.run_server(mode='inline', debug=True)"
   ]
  },
  {
   "cell_type": "markdown",
   "id": "eedb04c6",
   "metadata": {},
   "source": [
    "## Hover 업데이트\n",
    "- Hover 만으로 업데이트가 되도록 한다"
   ]
  },
  {
   "cell_type": "code",
   "execution_count": 22,
   "id": "b164701b",
   "metadata": {},
   "outputs": [
    {
     "data": {
      "text/html": [
       "\n",
       "        <iframe\n",
       "            width=\"100%\"\n",
       "            height=\"650\"\n",
       "            src=\"http://127.0.0.1:8050/\"\n",
       "            frameborder=\"0\"\n",
       "            allowfullscreen\n",
       "        ></iframe>\n",
       "        "
      ],
      "text/plain": [
       "<IPython.lib.display.IFrame at 0x7fe5f03f9350>"
      ]
     },
     "metadata": {},
     "output_type": "display_data"
    }
   ],
   "source": [
    "app = JupyterDash(__name__, external_stylesheets=external_stylesheets)\n",
    "\n",
    "df = pd.read_csv('https://plotly.github.io/datasets/country_indicators.csv')\n",
    "available_indicators = df['Indicator Name'].unique()\n",
    "\n",
    "app.layout = html.Div([\n",
    "    html.Div([\n",
    "\n",
    "        html.Div([\n",
    "            dcc.Dropdown(\n",
    "                id='crossfilter-xaxis-column',\n",
    "                options=[{'label': i, 'value': i} for i in available_indicators],\n",
    "                value='Fertility rate, total (births per woman)'\n",
    "            ),\n",
    "            dcc.RadioItems(\n",
    "                id='crossfilter-xaxis-type',\n",
    "                options=[{'label': i, 'value': i} for i in ['Linear', 'Log']],\n",
    "                value='Linear',\n",
    "                labelStyle={'display': 'inline-block', 'marginTop': '5px'}\n",
    "            )\n",
    "        ],\n",
    "        style={'width': '49%', 'display': 'inline-block'}),\n",
    "\n",
    "        html.Div([\n",
    "            dcc.Dropdown(\n",
    "                id='crossfilter-yaxis-column',\n",
    "                options=[{'label': i, 'value': i} for i in available_indicators],\n",
    "                value='Life expectancy at birth, total (years)'\n",
    "            ),\n",
    "            dcc.RadioItems(\n",
    "                id='crossfilter-yaxis-type',\n",
    "                options=[{'label': i, 'value': i} for i in ['Linear', 'Log']],\n",
    "                value='Linear',\n",
    "                labelStyle={'display': 'inline-block', 'marginTop': '5px'}\n",
    "            )\n",
    "        ], style={'width': '49%', 'float': 'right', 'display': 'inline-block'})\n",
    "    ], style={\n",
    "        'padding': '10px 5px'\n",
    "    }),\n",
    "\n",
    "    html.Div([\n",
    "        dcc.Graph(\n",
    "            id='crossfilter-indicator-scatter',\n",
    "            hoverData={'points': [{'customdata': 'Japan'}]}\n",
    "        )\n",
    "    ], style={'width': '49%', 'display': 'inline-block', 'padding': '0 20'}),\n",
    "    html.Div([\n",
    "        dcc.Graph(id='x-time-series'),\n",
    "        dcc.Graph(id='y-time-series'),\n",
    "    ], style={'display': 'inline-block', 'width': '49%'}),\n",
    "\n",
    "    html.Div(dcc.Slider(\n",
    "        id='crossfilter-year--slider',\n",
    "        min=df['Year'].min(),\n",
    "        max=df['Year'].max(),\n",
    "        value=df['Year'].max(),\n",
    "        marks={str(year): str(year) for year in df['Year'].unique()},\n",
    "        step=None\n",
    "    ), style={'width': '49%', 'padding': '0px 20px 20px 20px'})\n",
    "])\n",
    "\n",
    "\n",
    "@app.callback(\n",
    "    dash.dependencies.Output('crossfilter-indicator-scatter', 'figure'),\n",
    "    [dash.dependencies.Input('crossfilter-xaxis-column', 'value'),\n",
    "     dash.dependencies.Input('crossfilter-yaxis-column', 'value'),\n",
    "     dash.dependencies.Input('crossfilter-xaxis-type', 'value'),\n",
    "     dash.dependencies.Input('crossfilter-yaxis-type', 'value'),\n",
    "     dash.dependencies.Input('crossfilter-year--slider', 'value')])\n",
    "def update_graph(xaxis_column_name, yaxis_column_name,\n",
    "                 xaxis_type, yaxis_type,\n",
    "                 year_value):\n",
    "    dff = df[df['Year'] == year_value]\n",
    "\n",
    "    fig = px.scatter(x=dff[dff['Indicator Name'] == xaxis_column_name]['Value'],\n",
    "            y=dff[dff['Indicator Name'] == yaxis_column_name]['Value'],\n",
    "            hover_name=dff[dff['Indicator Name'] == yaxis_column_name]['Country Name']\n",
    "            )\n",
    "\n",
    "    fig.update_traces(customdata=dff[dff['Indicator Name'] == yaxis_column_name]['Country Name'])\n",
    "\n",
    "    fig.update_xaxes(title=xaxis_column_name, type='linear' if xaxis_type == 'Linear' else 'log')\n",
    "\n",
    "    fig.update_yaxes(title=yaxis_column_name, type='linear' if yaxis_type == 'Linear' else 'log')\n",
    "\n",
    "    fig.update_layout(margin={'l': 40, 'b': 40, 't': 10, 'r': 0}, hovermode='closest')\n",
    "\n",
    "    return fig\n",
    "\n",
    "\n",
    "def create_time_series(dff, axis_type, title):\n",
    "\n",
    "    fig = px.scatter(dff, x='Year', y='Value')\n",
    "\n",
    "    fig.update_traces(mode='lines+markers')\n",
    "\n",
    "    fig.update_xaxes(showgrid=False)\n",
    "\n",
    "    fig.update_yaxes(type='linear' if axis_type == 'Linear' else 'log')\n",
    "\n",
    "    fig.add_annotation(x=0, y=0.85, xanchor='left', yanchor='bottom',\n",
    "                       xref='paper', yref='paper', showarrow=False, align='left',\n",
    "                       text=title)\n",
    "\n",
    "    fig.update_layout(height=225, margin={'l': 20, 'b': 30, 'r': 10, 't': 10})\n",
    "\n",
    "    return fig\n",
    "\n",
    "\n",
    "@app.callback(\n",
    "    dash.dependencies.Output('x-time-series', 'figure'),\n",
    "    [dash.dependencies.Input('crossfilter-indicator-scatter', 'hoverData'),\n",
    "     dash.dependencies.Input('crossfilter-xaxis-column', 'value'),\n",
    "     dash.dependencies.Input('crossfilter-xaxis-type', 'value')])\n",
    "def update_y_timeseries(hoverData, xaxis_column_name, axis_type):\n",
    "    country_name = hoverData['points'][0]['customdata']\n",
    "    dff = df[df['Country Name'] == country_name]\n",
    "    dff = dff[dff['Indicator Name'] == xaxis_column_name]\n",
    "    title = '<b>{}</b><br>{}'.format(country_name, xaxis_column_name)\n",
    "    return create_time_series(dff, axis_type, title)\n",
    "\n",
    "\n",
    "@app.callback(\n",
    "    dash.dependencies.Output('y-time-series', 'figure'),\n",
    "    [dash.dependencies.Input('crossfilter-indicator-scatter', 'hoverData'),\n",
    "     dash.dependencies.Input('crossfilter-yaxis-column', 'value'),\n",
    "     dash.dependencies.Input('crossfilter-yaxis-type', 'value')])\n",
    "def update_x_timeseries(hoverData, yaxis_column_name, axis_type):\n",
    "    dff = df[df['Country Name'] == hoverData['points'][0]['customdata']]\n",
    "    dff = dff[dff['Indicator Name'] == yaxis_column_name]\n",
    "    return create_time_series(dff, axis_type, yaxis_column_name)\n",
    "\n",
    "app.run_server(mode='inline', debug=True)"
   ]
  },
  {
   "cell_type": "code",
   "execution_count": null,
   "id": "106ce70c",
   "metadata": {},
   "outputs": [],
   "source": []
  }
 ],
 "metadata": {
  "kernelspec": {
   "display_name": "Python 3",
   "language": "python",
   "name": "python3"
  },
  "language_info": {
   "codemirror_mode": {
    "name": "ipython",
    "version": 3
   },
   "file_extension": ".py",
   "mimetype": "text/x-python",
   "name": "python",
   "nbconvert_exporter": "python",
   "pygments_lexer": "ipython3",
   "version": "3.8.8"
  },
  "toc": {
   "base_numbering": 1,
   "nav_menu": {},
   "number_sections": false,
   "sideBar": true,
   "skip_h1_title": false,
   "title_cell": "Table of Contents",
   "title_sidebar": "Contents",
   "toc_cell": false,
   "toc_position": {},
   "toc_section_display": true,
   "toc_window_display": true
  }
 },
 "nbformat": 4,
 "nbformat_minor": 5
}
